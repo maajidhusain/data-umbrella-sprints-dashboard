{
 "cells": [
  {
   "cell_type": "markdown",
   "metadata": {
    "slideshow": {
     "slide_type": "slide"
    }
   },
   "source": [
    "# Welcome to introduction to dashboards with Plotly and Dash\n",
    "\n",
    "-------------------------------------------------------------------------------------------------------------------------------\n",
    "\n",
    "\n",
    "### Workshop facilitators: Maajid Husain -- Created By: Laura Gutierrez Funderburk\n",
    "\n",
    "### About this workshop\n",
    "\n",
    "In this workshop we will explore some characteristics of the housing market in Canada. \n",
    "\n",
    "It is important to note that this workshop assumes:\n",
    "\n",
    "1. Data cleaning and exploration was completed prior to developing the dashboard\n",
    "2. Some comfort with `pandas` and visualization is assumed\n",
    "3. Comfort navigating the Jupyter environment is needed\n"
   ]
  },
  {
   "cell_type": "markdown",
   "metadata": {
    "slideshow": {
     "slide_type": "slide"
    }
   },
   "source": [
    "\n",
    "### Workshop schedule:\n",
    "-------------------------------------------------------------------------------------------------------------------------------\n",
    "\n",
    "\n",
    "#### 1. Part I: Data exploration\n",
    "\n",
    "In this section, we will first spend time getting familiar with the data. We will use the `pandas` and `plotly` libraries, we will also explore the `DEX` feature within Noteable to ease getting a good sense for what the data contains.\n",
    "\n",
    "In this section, we will also explore the notion of factoring code into functions, and the notion of writing a Python script that we can use to easily recreate our results. \n",
    "\n",
    "#### 2. Part II: Dashboard components\n",
    "\n",
    "In this section, we will take what we built together in part I and explore the main components in a Dash dashboard. "
   ]
  },
  {
   "cell_type": "markdown",
   "metadata": {
    "slideshow": {
     "slide_type": "slide"
    }
   },
   "source": [
    "## Part II: Dashboard components\n",
    "-------------------------------------------------------------------------------------------------------------------------------\n",
    "\n",
    "\n",
    "The four main components in a Dash dashboard are:\n",
    "\n",
    "1. A .py script (also known as your dashboard app) `app.py`\n",
    "\n",
    "2. A requirements.txt file with the Python dependencies for your app\n",
    "\n",
    "3. A Procfile\n",
    "\n",
    "4. A .gitignore file"
   ]
  },
  {
   "cell_type": "markdown",
   "metadata": {
    "slideshow": {
     "slide_type": "slide"
    }
   },
   "source": [
    "\n",
    "### The .py script anatomy\n",
    "\n",
    "-------------------------------------------------------------------------------------------------------------------------------\n",
    "\n",
    "\n",
    "The anatomy of a .py script is as follows:\n",
    "\n",
    "```python\n",
    "import math\n",
    "\n",
    "def function1(par1: int, par2: str) -> None:\n",
    "    \"\"\"\n",
    "    Parameters\n",
    "    ----------\n",
    "        par1: (dataframe object) reshaped data frame object with mortage, delinquency and population data\n",
    "        par2: (string) \"box\", \"violin\", \"scatter\", \"line\"\n",
    "         \n",
    "    Returns:\n",
    "    --------\n",
    "        None\n",
    "    \"\"\"\n",
    "    print(f\"{par1} is spelled '{par2}'\")\n",
    "        \n",
    "if __name__ == '__main__':  \n",
    "    \n",
    "    # Code that does something\n",
    "    function1(1, \"one\")\n",
    "```"
   ]
  },
  {
   "cell_type": "markdown",
   "metadata": {
    "slideshow": {
     "slide_type": "slide"
    }
   },
   "source": [
    "### A running example\n",
    "\n",
    "-------------------------------------------------------------------------------------------------------------------------------\n",
    "\n",
    "Let's package the content of the function `graph_region` that we crafted in part I. The script looks as follows:"
   ]
  },
  {
   "cell_type": "code",
   "execution_count": 1,
   "metadata": {
    "scrolled": false,
    "slideshow": {
     "slide_type": "slide"
    }
   },
   "outputs": [
    {
     "data": {
      "text/html": [
       "<div>\n",
       "<style scoped>\n",
       "    .dataframe tbody tr th:only-of-type {\n",
       "        vertical-align: middle;\n",
       "    }\n",
       "\n",
       "    .dataframe tbody tr th {\n",
       "        vertical-align: top;\n",
       "    }\n",
       "\n",
       "    .dataframe thead th {\n",
       "        text-align: right;\n",
       "    }\n",
       "</style>\n",
       "<table border=\"1\" class=\"dataframe\">\n",
       "  <thead>\n",
       "    <tr style=\"text-align: right;\">\n",
       "      <th></th>\n",
       "      <th>Geography</th>\n",
       "      <th>Time</th>\n",
       "      <th>DelinquencyRate</th>\n",
       "      <th>AverageMortgageAmount</th>\n",
       "      <th>PopulationSize</th>\n",
       "    </tr>\n",
       "  </thead>\n",
       "  <tbody>\n",
       "    <tr>\n",
       "      <th>0</th>\n",
       "      <td>Newfoundland</td>\n",
       "      <td>2012Q3</td>\n",
       "      <td>0.24</td>\n",
       "      <td>188732</td>\n",
       "      <td>526345</td>\n",
       "    </tr>\n",
       "    <tr>\n",
       "      <th>1</th>\n",
       "      <td>Prince Edward Island</td>\n",
       "      <td>2012Q3</td>\n",
       "      <td>0.57</td>\n",
       "      <td>140279</td>\n",
       "      <td>144530</td>\n",
       "    </tr>\n",
       "    <tr>\n",
       "      <th>2</th>\n",
       "      <td>Nova Scotia</td>\n",
       "      <td>2012Q3</td>\n",
       "      <td>0.53</td>\n",
       "      <td>174688</td>\n",
       "      <td>943635</td>\n",
       "    </tr>\n",
       "    <tr>\n",
       "      <th>3</th>\n",
       "      <td>New Brunswick</td>\n",
       "      <td>2012Q3</td>\n",
       "      <td>0.63</td>\n",
       "      <td>133390</td>\n",
       "      <td>758378</td>\n",
       "    </tr>\n",
       "    <tr>\n",
       "      <th>4</th>\n",
       "      <td>Québec</td>\n",
       "      <td>2012Q3</td>\n",
       "      <td>0.33</td>\n",
       "      <td>159661</td>\n",
       "      <td>8061101</td>\n",
       "    </tr>\n",
       "    <tr>\n",
       "      <th>5</th>\n",
       "      <td>Ontario</td>\n",
       "      <td>2012Q3</td>\n",
       "      <td>0.31</td>\n",
       "      <td>247455</td>\n",
       "      <td>13390632</td>\n",
       "    </tr>\n",
       "    <tr>\n",
       "      <th>6</th>\n",
       "      <td>Manitoba</td>\n",
       "      <td>2012Q3</td>\n",
       "      <td>0.25</td>\n",
       "      <td>188298</td>\n",
       "      <td>1249975</td>\n",
       "    </tr>\n",
       "    <tr>\n",
       "      <th>7</th>\n",
       "      <td>Saskatchewan</td>\n",
       "      <td>2012Q3</td>\n",
       "      <td>0.37</td>\n",
       "      <td>217945</td>\n",
       "      <td>1083755</td>\n",
       "    </tr>\n",
       "    <tr>\n",
       "      <th>8</th>\n",
       "      <td>Alberta</td>\n",
       "      <td>2012Q3</td>\n",
       "      <td>0.60</td>\n",
       "      <td>282371</td>\n",
       "      <td>3874548</td>\n",
       "    </tr>\n",
       "    <tr>\n",
       "      <th>9</th>\n",
       "      <td>British Columbia</td>\n",
       "      <td>2012Q3</td>\n",
       "      <td>0.42</td>\n",
       "      <td>305427</td>\n",
       "      <td>4566769</td>\n",
       "    </tr>\n",
       "  </tbody>\n",
       "</table>\n",
       "</div>"
      ],
      "text/plain": [
       "              Geography    Time  DelinquencyRate  AverageMortgageAmount  \\\n",
       "0          Newfoundland  2012Q3             0.24                 188732   \n",
       "1  Prince Edward Island  2012Q3             0.57                 140279   \n",
       "2           Nova Scotia  2012Q3             0.53                 174688   \n",
       "3         New Brunswick  2012Q3             0.63                 133390   \n",
       "4                Québec  2012Q3             0.33                 159661   \n",
       "5               Ontario  2012Q3             0.31                 247455   \n",
       "6              Manitoba  2012Q3             0.25                 188298   \n",
       "7          Saskatchewan  2012Q3             0.37                 217945   \n",
       "8               Alberta  2012Q3             0.60                 282371   \n",
       "9      British Columbia  2012Q3             0.42                 305427   \n",
       "\n",
       "   PopulationSize  \n",
       "0          526345  \n",
       "1          144530  \n",
       "2          943635  \n",
       "3          758378  \n",
       "4         8061101  \n",
       "5        13390632  \n",
       "6         1249975  \n",
       "7         1083755  \n",
       "8         3874548  \n",
       "9         4566769  "
      ]
     },
     "metadata": {},
     "output_type": "display_data"
    },
    {
     "data": {
      "application/vnd.plotly.v1+json": {
       "config": {
        "plotlyServerURL": "https://plot.ly"
       },
       "data": [
        {
         "hovertemplate": "<b>%{hovertext}</b><br><br>Geography=Newfoundland<br>Time=%{x}<br>AverageMortgageAmount=%{y}<extra></extra>",
         "hovertext": [
          "2012Q3",
          "2012Q4",
          "2013Q1",
          "2013Q2",
          "2013Q3",
          "2013Q4",
          "2014Q1",
          "2014Q2",
          "2014Q3",
          "2014Q4",
          "2015Q1",
          "2015Q2",
          "2015Q3",
          "2015Q4",
          "2016Q1",
          "2016Q2",
          "2016Q3",
          "2016Q4",
          "2017Q1",
          "2017Q2",
          "2017Q3",
          "2017Q4",
          "2018Q1",
          "2018Q2",
          "2018Q3",
          "2018Q4",
          "2019Q1",
          "2019Q2",
          "2019Q3",
          "2019Q4",
          "2020Q1",
          "2020Q2",
          "2020Q3"
         ],
         "legendgroup": "Newfoundland",
         "line": {
          "color": "#636efa",
          "dash": "solid"
         },
         "marker": {
          "symbol": "circle"
         },
         "mode": "lines",
         "name": "Newfoundland",
         "orientation": "v",
         "showlegend": true,
         "type": "scatter",
         "x": [
          "2012Q3",
          "2012Q4",
          "2013Q1",
          "2013Q2",
          "2013Q3",
          "2013Q4",
          "2014Q1",
          "2014Q2",
          "2014Q3",
          "2014Q4",
          "2015Q1",
          "2015Q2",
          "2015Q3",
          "2015Q4",
          "2016Q1",
          "2016Q2",
          "2016Q3",
          "2016Q4",
          "2017Q1",
          "2017Q2",
          "2017Q3",
          "2017Q4",
          "2018Q1",
          "2018Q2",
          "2018Q3",
          "2018Q4",
          "2019Q1",
          "2019Q2",
          "2019Q3",
          "2019Q4",
          "2020Q1",
          "2020Q2",
          "2020Q3"
         ],
         "xaxis": "x",
         "y": [
          188732,
          185794,
          189098,
          181331,
          191818,
          193100,
          195479,
          192856,
          199560,
          200310,
          197406,
          193956,
          199758,
          202487,
          196798,
          196806,
          198265,
          197794,
          192057,
          191412,
          200378,
          193619,
          196431,
          192252,
          192106,
          188614,
          185276,
          190582,
          194536,
          193870,
          186268,
          187431,
          196100
         ],
         "yaxis": "y"
        },
        {
         "hovertemplate": "<b>%{hovertext}</b><br><br>Geography=Prince Edward Island<br>Time=%{x}<br>AverageMortgageAmount=%{y}<extra></extra>",
         "hovertext": [
          "2012Q3",
          "2012Q4",
          "2013Q1",
          "2013Q2",
          "2013Q3",
          "2013Q4",
          "2014Q1",
          "2014Q2",
          "2014Q3",
          "2014Q4",
          "2015Q1",
          "2015Q2",
          "2015Q3",
          "2015Q4",
          "2016Q1",
          "2016Q2",
          "2016Q3",
          "2016Q4",
          "2017Q1",
          "2017Q2",
          "2017Q3",
          "2017Q4",
          "2018Q1",
          "2018Q2",
          "2018Q3",
          "2018Q4",
          "2019Q1",
          "2019Q2",
          "2019Q3",
          "2019Q4",
          "2020Q1",
          "2020Q2",
          "2020Q3"
         ],
         "legendgroup": "Prince Edward Island",
         "line": {
          "color": "#EF553B",
          "dash": "solid"
         },
         "marker": {
          "symbol": "circle"
         },
         "mode": "lines",
         "name": "Prince Edward Island",
         "orientation": "v",
         "showlegend": true,
         "type": "scatter",
         "x": [
          "2012Q3",
          "2012Q4",
          "2013Q1",
          "2013Q2",
          "2013Q3",
          "2013Q4",
          "2014Q1",
          "2014Q2",
          "2014Q3",
          "2014Q4",
          "2015Q1",
          "2015Q2",
          "2015Q3",
          "2015Q4",
          "2016Q1",
          "2016Q2",
          "2016Q3",
          "2016Q4",
          "2017Q1",
          "2017Q2",
          "2017Q3",
          "2017Q4",
          "2018Q1",
          "2018Q2",
          "2018Q3",
          "2018Q4",
          "2019Q1",
          "2019Q2",
          "2019Q3",
          "2019Q4",
          "2020Q1",
          "2020Q2",
          "2020Q3"
         ],
         "xaxis": "x",
         "y": [
          140279,
          138415,
          137162,
          126763,
          139506,
          141453,
          141141,
          137427,
          143320,
          141232,
          146885,
          146818,
          150403,
          155926,
          157322,
          150732,
          169651,
          155799,
          175124,
          174901,
          176919,
          175523,
          179179,
          182114,
          181967,
          178140,
          181172,
          181358,
          190715,
          185934,
          193439,
          189309,
          204415
         ],
         "yaxis": "y"
        },
        {
         "hovertemplate": "<b>%{hovertext}</b><br><br>Geography=Nova Scotia<br>Time=%{x}<br>AverageMortgageAmount=%{y}<extra></extra>",
         "hovertext": [
          "2012Q3",
          "2012Q4",
          "2013Q1",
          "2013Q2",
          "2013Q3",
          "2013Q4",
          "2014Q1",
          "2014Q2",
          "2014Q3",
          "2014Q4",
          "2015Q1",
          "2015Q2",
          "2015Q3",
          "2015Q4",
          "2016Q1",
          "2016Q2",
          "2016Q3",
          "2016Q4",
          "2017Q1",
          "2017Q2",
          "2017Q3",
          "2017Q4",
          "2018Q1",
          "2018Q2",
          "2018Q3",
          "2018Q4",
          "2019Q1",
          "2019Q2",
          "2019Q3",
          "2019Q4",
          "2020Q1",
          "2020Q2",
          "2020Q3"
         ],
         "legendgroup": "Nova Scotia",
         "line": {
          "color": "#00cc96",
          "dash": "solid"
         },
         "marker": {
          "symbol": "circle"
         },
         "mode": "lines",
         "name": "Nova Scotia",
         "orientation": "v",
         "showlegend": true,
         "type": "scatter",
         "x": [
          "2012Q3",
          "2012Q4",
          "2013Q1",
          "2013Q2",
          "2013Q3",
          "2013Q4",
          "2014Q1",
          "2014Q2",
          "2014Q3",
          "2014Q4",
          "2015Q1",
          "2015Q2",
          "2015Q3",
          "2015Q4",
          "2016Q1",
          "2016Q2",
          "2016Q3",
          "2016Q4",
          "2017Q1",
          "2017Q2",
          "2017Q3",
          "2017Q4",
          "2018Q1",
          "2018Q2",
          "2018Q3",
          "2018Q4",
          "2019Q1",
          "2019Q2",
          "2019Q3",
          "2019Q4",
          "2020Q1",
          "2020Q2",
          "2020Q3"
         ],
         "xaxis": "x",
         "y": [
          174688,
          160046,
          158806,
          159945,
          166426,
          160189,
          161383,
          157664,
          172827,
          163584,
          163607,
          165288,
          178091,
          172863,
          167596,
          168948,
          178784,
          173305,
          186024,
          182526,
          194802,
          188559,
          185858,
          179407,
          190443,
          179921,
          177863,
          180958,
          193586,
          190168,
          188267,
          192060,
          207877
         ],
         "yaxis": "y"
        },
        {
         "hovertemplate": "<b>%{hovertext}</b><br><br>Geography=New Brunswick<br>Time=%{x}<br>AverageMortgageAmount=%{y}<extra></extra>",
         "hovertext": [
          "2012Q3",
          "2012Q4",
          "2013Q1",
          "2013Q2",
          "2013Q3",
          "2013Q4",
          "2014Q1",
          "2014Q2",
          "2014Q3",
          "2014Q4",
          "2015Q1",
          "2015Q2",
          "2015Q3",
          "2015Q4",
          "2016Q1",
          "2016Q2",
          "2016Q3",
          "2016Q4",
          "2017Q1",
          "2017Q2",
          "2017Q3",
          "2017Q4",
          "2018Q1",
          "2018Q2",
          "2018Q3",
          "2018Q4",
          "2019Q1",
          "2019Q2",
          "2019Q3",
          "2019Q4",
          "2020Q1",
          "2020Q2",
          "2020Q3"
         ],
         "legendgroup": "New Brunswick",
         "line": {
          "color": "#ab63fa",
          "dash": "solid"
         },
         "marker": {
          "symbol": "circle"
         },
         "mode": "lines",
         "name": "New Brunswick",
         "orientation": "v",
         "showlegend": true,
         "type": "scatter",
         "x": [
          "2012Q3",
          "2012Q4",
          "2013Q1",
          "2013Q2",
          "2013Q3",
          "2013Q4",
          "2014Q1",
          "2014Q2",
          "2014Q3",
          "2014Q4",
          "2015Q1",
          "2015Q2",
          "2015Q3",
          "2015Q4",
          "2016Q1",
          "2016Q2",
          "2016Q3",
          "2016Q4",
          "2017Q1",
          "2017Q2",
          "2017Q3",
          "2017Q4",
          "2018Q1",
          "2018Q2",
          "2018Q3",
          "2018Q4",
          "2019Q1",
          "2019Q2",
          "2019Q3",
          "2019Q4",
          "2020Q1",
          "2020Q2",
          "2020Q3"
         ],
         "xaxis": "x",
         "y": [
          133390,
          126138,
          124645,
          122572,
          131542,
          128155,
          127766,
          124221,
          135592,
          132766,
          132025,
          128378,
          137565,
          137039,
          132325,
          133027,
          143533,
          140124,
          141196,
          135748,
          147934,
          142799,
          139711,
          139750,
          150353,
          143324,
          140850,
          137809,
          152606,
          147047,
          146701,
          149590,
          160349
         ],
         "yaxis": "y"
        },
        {
         "hovertemplate": "<b>%{hovertext}</b><br><br>Geography=Québec<br>Time=%{x}<br>AverageMortgageAmount=%{y}<extra></extra>",
         "hovertext": [
          "2012Q3",
          "2012Q4",
          "2013Q1",
          "2013Q2",
          "2013Q3",
          "2013Q4",
          "2014Q1",
          "2014Q2",
          "2014Q3",
          "2014Q4",
          "2015Q1",
          "2015Q2",
          "2015Q3",
          "2015Q4",
          "2016Q1",
          "2016Q2",
          "2016Q3",
          "2016Q4",
          "2017Q1",
          "2017Q2",
          "2017Q3",
          "2017Q4",
          "2018Q1",
          "2018Q2",
          "2018Q3",
          "2018Q4",
          "2019Q1",
          "2019Q2",
          "2019Q3",
          "2019Q4",
          "2020Q1",
          "2020Q2",
          "2020Q3"
         ],
         "legendgroup": "Québec",
         "line": {
          "color": "#FFA15A",
          "dash": "solid"
         },
         "marker": {
          "symbol": "circle"
         },
         "mode": "lines",
         "name": "Québec",
         "orientation": "v",
         "showlegend": true,
         "type": "scatter",
         "x": [
          "2012Q3",
          "2012Q4",
          "2013Q1",
          "2013Q2",
          "2013Q3",
          "2013Q4",
          "2014Q1",
          "2014Q2",
          "2014Q3",
          "2014Q4",
          "2015Q1",
          "2015Q2",
          "2015Q3",
          "2015Q4",
          "2016Q1",
          "2016Q2",
          "2016Q3",
          "2016Q4",
          "2017Q1",
          "2017Q2",
          "2017Q3",
          "2017Q4",
          "2018Q1",
          "2018Q2",
          "2018Q3",
          "2018Q4",
          "2019Q1",
          "2019Q2",
          "2019Q3",
          "2019Q4",
          "2020Q1",
          "2020Q2",
          "2020Q3"
         ],
         "xaxis": "x",
         "y": [
          159661,
          153413,
          153909,
          155016,
          160147,
          155512,
          156424,
          160165,
          166426,
          160073,
          161563,
          164764,
          170403,
          164235,
          167154,
          169326,
          176522,
          170309,
          171992,
          171716,
          177306,
          173182,
          175297,
          183507,
          187727,
          173911,
          175658,
          179523,
          187136,
          183501,
          189390,
          195538,
          203861
         ],
         "yaxis": "y"
        },
        {
         "hovertemplate": "<b>%{hovertext}</b><br><br>Geography=Ontario<br>Time=%{x}<br>AverageMortgageAmount=%{y}<extra></extra>",
         "hovertext": [
          "2012Q3",
          "2012Q4",
          "2013Q1",
          "2013Q2",
          "2013Q3",
          "2013Q4",
          "2014Q1",
          "2014Q2",
          "2014Q3",
          "2014Q4",
          "2015Q1",
          "2015Q2",
          "2015Q3",
          "2015Q4",
          "2016Q1",
          "2016Q2",
          "2016Q3",
          "2016Q4",
          "2017Q1",
          "2017Q2",
          "2017Q3",
          "2017Q4",
          "2018Q1",
          "2018Q2",
          "2018Q3",
          "2018Q4",
          "2019Q1",
          "2019Q2",
          "2019Q3",
          "2019Q4",
          "2020Q1",
          "2020Q2",
          "2020Q3"
         ],
         "legendgroup": "Ontario",
         "line": {
          "color": "#19d3f3",
          "dash": "solid"
         },
         "marker": {
          "symbol": "circle"
         },
         "mode": "lines",
         "name": "Ontario",
         "orientation": "v",
         "showlegend": true,
         "type": "scatter",
         "x": [
          "2012Q3",
          "2012Q4",
          "2013Q1",
          "2013Q2",
          "2013Q3",
          "2013Q4",
          "2014Q1",
          "2014Q2",
          "2014Q3",
          "2014Q4",
          "2015Q1",
          "2015Q2",
          "2015Q3",
          "2015Q4",
          "2016Q1",
          "2016Q2",
          "2016Q3",
          "2016Q4",
          "2017Q1",
          "2017Q2",
          "2017Q3",
          "2017Q4",
          "2018Q1",
          "2018Q2",
          "2018Q3",
          "2018Q4",
          "2019Q1",
          "2019Q2",
          "2019Q3",
          "2019Q4",
          "2020Q1",
          "2020Q2",
          "2020Q3"
         ],
         "xaxis": "x",
         "y": [
          247455,
          235667,
          233122,
          230770,
          249054,
          244060,
          244077,
          240828,
          262838,
          257244,
          254854,
          259093,
          281259,
          277802,
          278626,
          285024,
          307369,
          310236,
          319009,
          326645,
          338561,
          323821,
          322179,
          315576,
          327367,
          321579,
          321074,
          324080,
          343117,
          343768,
          348272,
          363432,
          373371
         ],
         "yaxis": "y"
        },
        {
         "hovertemplate": "<b>%{hovertext}</b><br><br>Geography=Manitoba<br>Time=%{x}<br>AverageMortgageAmount=%{y}<extra></extra>",
         "hovertext": [
          "2012Q3",
          "2012Q4",
          "2013Q1",
          "2013Q2",
          "2013Q3",
          "2013Q4",
          "2014Q1",
          "2014Q2",
          "2014Q3",
          "2014Q4",
          "2015Q1",
          "2015Q2",
          "2015Q3",
          "2015Q4",
          "2016Q1",
          "2016Q2",
          "2016Q3",
          "2016Q4",
          "2017Q1",
          "2017Q2",
          "2017Q3",
          "2017Q4",
          "2018Q1",
          "2018Q2",
          "2018Q3",
          "2018Q4",
          "2019Q1",
          "2019Q2",
          "2019Q3",
          "2019Q4",
          "2020Q1",
          "2020Q2",
          "2020Q3"
         ],
         "legendgroup": "Manitoba",
         "line": {
          "color": "#FF6692",
          "dash": "solid"
         },
         "marker": {
          "symbol": "circle"
         },
         "mode": "lines",
         "name": "Manitoba",
         "orientation": "v",
         "showlegend": true,
         "type": "scatter",
         "x": [
          "2012Q3",
          "2012Q4",
          "2013Q1",
          "2013Q2",
          "2013Q3",
          "2013Q4",
          "2014Q1",
          "2014Q2",
          "2014Q3",
          "2014Q4",
          "2015Q1",
          "2015Q2",
          "2015Q3",
          "2015Q4",
          "2016Q1",
          "2016Q2",
          "2016Q3",
          "2016Q4",
          "2017Q1",
          "2017Q2",
          "2017Q3",
          "2017Q4",
          "2018Q1",
          "2018Q2",
          "2018Q3",
          "2018Q4",
          "2019Q1",
          "2019Q2",
          "2019Q3",
          "2019Q4",
          "2020Q1",
          "2020Q2",
          "2020Q3"
         ],
         "xaxis": "x",
         "y": [
          188298,
          181097,
          177560,
          177517,
          192732,
          189570,
          188107,
          184554,
          200051,
          197527,
          191444,
          190383,
          206275,
          201640,
          193970,
          196385,
          209051,
          206958,
          203999,
          205085,
          216750,
          217136,
          207988,
          207436,
          220454,
          214060,
          206692,
          214873,
          222637,
          218918,
          212508,
          217416,
          232725
         ],
         "yaxis": "y"
        },
        {
         "hovertemplate": "<b>%{hovertext}</b><br><br>Geography=Saskatchewan<br>Time=%{x}<br>AverageMortgageAmount=%{y}<extra></extra>",
         "hovertext": [
          "2012Q3",
          "2012Q4",
          "2013Q1",
          "2013Q2",
          "2013Q3",
          "2013Q4",
          "2014Q1",
          "2014Q2",
          "2014Q3",
          "2014Q4",
          "2015Q1",
          "2015Q2",
          "2015Q3",
          "2015Q4",
          "2016Q1",
          "2016Q2",
          "2016Q3",
          "2016Q4",
          "2017Q1",
          "2017Q2",
          "2017Q3",
          "2017Q4",
          "2018Q1",
          "2018Q2",
          "2018Q3",
          "2018Q4",
          "2019Q1",
          "2019Q2",
          "2019Q3",
          "2019Q4",
          "2020Q1",
          "2020Q2",
          "2020Q3"
         ],
         "legendgroup": "Saskatchewan",
         "line": {
          "color": "#B6E880",
          "dash": "solid"
         },
         "marker": {
          "symbol": "circle"
         },
         "mode": "lines",
         "name": "Saskatchewan",
         "orientation": "v",
         "showlegend": true,
         "type": "scatter",
         "x": [
          "2012Q3",
          "2012Q4",
          "2013Q1",
          "2013Q2",
          "2013Q3",
          "2013Q4",
          "2014Q1",
          "2014Q2",
          "2014Q3",
          "2014Q4",
          "2015Q1",
          "2015Q2",
          "2015Q3",
          "2015Q4",
          "2016Q1",
          "2016Q2",
          "2016Q3",
          "2016Q4",
          "2017Q1",
          "2017Q2",
          "2017Q3",
          "2017Q4",
          "2018Q1",
          "2018Q2",
          "2018Q3",
          "2018Q4",
          "2019Q1",
          "2019Q2",
          "2019Q3",
          "2019Q4",
          "2020Q1",
          "2020Q2",
          "2020Q3"
         ],
         "xaxis": "x",
         "y": [
          217945,
          213126,
          206354,
          211979,
          224868,
          225414,
          226559,
          218781,
          231768,
          233854,
          228569,
          226957,
          234840,
          231611,
          225641,
          230729,
          236380,
          232174,
          234786,
          233545,
          238533,
          234340,
          230702,
          229851,
          233255,
          223628,
          217157,
          216369,
          228721,
          224315,
          216188,
          225641,
          237386
         ],
         "yaxis": "y"
        },
        {
         "hovertemplate": "<b>%{hovertext}</b><br><br>Geography=Alberta<br>Time=%{x}<br>AverageMortgageAmount=%{y}<extra></extra>",
         "hovertext": [
          "2012Q3",
          "2012Q4",
          "2013Q1",
          "2013Q2",
          "2013Q3",
          "2013Q4",
          "2014Q1",
          "2014Q2",
          "2014Q3",
          "2014Q4",
          "2015Q1",
          "2015Q2",
          "2015Q3",
          "2015Q4",
          "2016Q1",
          "2016Q2",
          "2016Q3",
          "2016Q4",
          "2017Q1",
          "2017Q2",
          "2017Q3",
          "2017Q4",
          "2018Q1",
          "2018Q2",
          "2018Q3",
          "2018Q4",
          "2019Q1",
          "2019Q2",
          "2019Q3",
          "2019Q4",
          "2020Q1",
          "2020Q2",
          "2020Q3"
         ],
         "legendgroup": "Alberta",
         "line": {
          "color": "#FF97FF",
          "dash": "solid"
         },
         "marker": {
          "symbol": "circle"
         },
         "mode": "lines",
         "name": "Alberta",
         "orientation": "v",
         "showlegend": true,
         "type": "scatter",
         "x": [
          "2012Q3",
          "2012Q4",
          "2013Q1",
          "2013Q2",
          "2013Q3",
          "2013Q4",
          "2014Q1",
          "2014Q2",
          "2014Q3",
          "2014Q4",
          "2015Q1",
          "2015Q2",
          "2015Q3",
          "2015Q4",
          "2016Q1",
          "2016Q2",
          "2016Q3",
          "2016Q4",
          "2017Q1",
          "2017Q2",
          "2017Q3",
          "2017Q4",
          "2018Q1",
          "2018Q2",
          "2018Q3",
          "2018Q4",
          "2019Q1",
          "2019Q2",
          "2019Q3",
          "2019Q4",
          "2020Q1",
          "2020Q2",
          "2020Q3"
         ],
         "xaxis": "x",
         "y": [
          282371,
          277555,
          277158,
          278516,
          289263,
          284928,
          291926,
          290722,
          304374,
          305558,
          303976,
          299837,
          309953,
          303244,
          296111,
          298884,
          304683,
          302095,
          301254,
          300115,
          307837,
          307662,
          302814,
          302116,
          305101,
          295839,
          291721,
          293612,
          297609,
          297552,
          291747,
          296269,
          305600
         ],
         "yaxis": "y"
        },
        {
         "hovertemplate": "<b>%{hovertext}</b><br><br>Geography=British Columbia<br>Time=%{x}<br>AverageMortgageAmount=%{y}<extra></extra>",
         "hovertext": [
          "2012Q3",
          "2012Q4",
          "2013Q1",
          "2013Q2",
          "2013Q3",
          "2013Q4",
          "2014Q1",
          "2014Q2",
          "2014Q3",
          "2014Q4",
          "2015Q1",
          "2015Q2",
          "2015Q3",
          "2015Q4",
          "2016Q1",
          "2016Q2",
          "2016Q3",
          "2016Q4",
          "2017Q1",
          "2017Q2",
          "2017Q3",
          "2017Q4",
          "2018Q1",
          "2018Q2",
          "2018Q3",
          "2018Q4",
          "2019Q1",
          "2019Q2",
          "2019Q3",
          "2019Q4",
          "2020Q1",
          "2020Q2",
          "2020Q3"
         ],
         "legendgroup": "British Columbia",
         "line": {
          "color": "#FECB52",
          "dash": "solid"
         },
         "marker": {
          "symbol": "circle"
         },
         "mode": "lines",
         "name": "British Columbia",
         "orientation": "v",
         "showlegend": true,
         "type": "scatter",
         "x": [
          "2012Q3",
          "2012Q4",
          "2013Q1",
          "2013Q2",
          "2013Q3",
          "2013Q4",
          "2014Q1",
          "2014Q2",
          "2014Q3",
          "2014Q4",
          "2015Q1",
          "2015Q2",
          "2015Q3",
          "2015Q4",
          "2016Q1",
          "2016Q2",
          "2016Q3",
          "2016Q4",
          "2017Q1",
          "2017Q2",
          "2017Q3",
          "2017Q4",
          "2018Q1",
          "2018Q2",
          "2018Q3",
          "2018Q4",
          "2019Q1",
          "2019Q2",
          "2019Q3",
          "2019Q4",
          "2020Q1",
          "2020Q2",
          "2020Q3"
         ],
         "xaxis": "x",
         "y": [
          305427,
          289864,
          286652,
          290928,
          303663,
          305256,
          309374,
          305138,
          321625,
          323373,
          325035,
          328540,
          350672,
          357016,
          368782,
          385910,
          395297,
          366703,
          358655,
          369174,
          389430,
          381223,
          384794,
          371860,
          378187,
          364330,
          363239,
          363924,
          376343,
          386494,
          393711,
          397853,
          417004
         ],
         "yaxis": "y"
        }
       ],
       "layout": {
        "legend": {
         "title": {
          "text": "Geography"
         },
         "tracegroupgap": 0
        },
        "margin": {
         "t": 60
        },
        "template": {
         "data": {
          "bar": [
           {
            "error_x": {
             "color": "#2a3f5f"
            },
            "error_y": {
             "color": "#2a3f5f"
            },
            "marker": {
             "line": {
              "color": "#E5ECF6",
              "width": 0.5
             },
             "pattern": {
              "fillmode": "overlay",
              "size": 10,
              "solidity": 0.2
             }
            },
            "type": "bar"
           }
          ],
          "barpolar": [
           {
            "marker": {
             "line": {
              "color": "#E5ECF6",
              "width": 0.5
             },
             "pattern": {
              "fillmode": "overlay",
              "size": 10,
              "solidity": 0.2
             }
            },
            "type": "barpolar"
           }
          ],
          "carpet": [
           {
            "aaxis": {
             "endlinecolor": "#2a3f5f",
             "gridcolor": "white",
             "linecolor": "white",
             "minorgridcolor": "white",
             "startlinecolor": "#2a3f5f"
            },
            "baxis": {
             "endlinecolor": "#2a3f5f",
             "gridcolor": "white",
             "linecolor": "white",
             "minorgridcolor": "white",
             "startlinecolor": "#2a3f5f"
            },
            "type": "carpet"
           }
          ],
          "choropleth": [
           {
            "colorbar": {
             "outlinewidth": 0,
             "ticks": ""
            },
            "type": "choropleth"
           }
          ],
          "contour": [
           {
            "colorbar": {
             "outlinewidth": 0,
             "ticks": ""
            },
            "colorscale": [
             [
              0,
              "#0d0887"
             ],
             [
              0.1111111111111111,
              "#46039f"
             ],
             [
              0.2222222222222222,
              "#7201a8"
             ],
             [
              0.3333333333333333,
              "#9c179e"
             ],
             [
              0.4444444444444444,
              "#bd3786"
             ],
             [
              0.5555555555555556,
              "#d8576b"
             ],
             [
              0.6666666666666666,
              "#ed7953"
             ],
             [
              0.7777777777777778,
              "#fb9f3a"
             ],
             [
              0.8888888888888888,
              "#fdca26"
             ],
             [
              1,
              "#f0f921"
             ]
            ],
            "type": "contour"
           }
          ],
          "contourcarpet": [
           {
            "colorbar": {
             "outlinewidth": 0,
             "ticks": ""
            },
            "type": "contourcarpet"
           }
          ],
          "heatmap": [
           {
            "colorbar": {
             "outlinewidth": 0,
             "ticks": ""
            },
            "colorscale": [
             [
              0,
              "#0d0887"
             ],
             [
              0.1111111111111111,
              "#46039f"
             ],
             [
              0.2222222222222222,
              "#7201a8"
             ],
             [
              0.3333333333333333,
              "#9c179e"
             ],
             [
              0.4444444444444444,
              "#bd3786"
             ],
             [
              0.5555555555555556,
              "#d8576b"
             ],
             [
              0.6666666666666666,
              "#ed7953"
             ],
             [
              0.7777777777777778,
              "#fb9f3a"
             ],
             [
              0.8888888888888888,
              "#fdca26"
             ],
             [
              1,
              "#f0f921"
             ]
            ],
            "type": "heatmap"
           }
          ],
          "heatmapgl": [
           {
            "colorbar": {
             "outlinewidth": 0,
             "ticks": ""
            },
            "colorscale": [
             [
              0,
              "#0d0887"
             ],
             [
              0.1111111111111111,
              "#46039f"
             ],
             [
              0.2222222222222222,
              "#7201a8"
             ],
             [
              0.3333333333333333,
              "#9c179e"
             ],
             [
              0.4444444444444444,
              "#bd3786"
             ],
             [
              0.5555555555555556,
              "#d8576b"
             ],
             [
              0.6666666666666666,
              "#ed7953"
             ],
             [
              0.7777777777777778,
              "#fb9f3a"
             ],
             [
              0.8888888888888888,
              "#fdca26"
             ],
             [
              1,
              "#f0f921"
             ]
            ],
            "type": "heatmapgl"
           }
          ],
          "histogram": [
           {
            "marker": {
             "pattern": {
              "fillmode": "overlay",
              "size": 10,
              "solidity": 0.2
             }
            },
            "type": "histogram"
           }
          ],
          "histogram2d": [
           {
            "colorbar": {
             "outlinewidth": 0,
             "ticks": ""
            },
            "colorscale": [
             [
              0,
              "#0d0887"
             ],
             [
              0.1111111111111111,
              "#46039f"
             ],
             [
              0.2222222222222222,
              "#7201a8"
             ],
             [
              0.3333333333333333,
              "#9c179e"
             ],
             [
              0.4444444444444444,
              "#bd3786"
             ],
             [
              0.5555555555555556,
              "#d8576b"
             ],
             [
              0.6666666666666666,
              "#ed7953"
             ],
             [
              0.7777777777777778,
              "#fb9f3a"
             ],
             [
              0.8888888888888888,
              "#fdca26"
             ],
             [
              1,
              "#f0f921"
             ]
            ],
            "type": "histogram2d"
           }
          ],
          "histogram2dcontour": [
           {
            "colorbar": {
             "outlinewidth": 0,
             "ticks": ""
            },
            "colorscale": [
             [
              0,
              "#0d0887"
             ],
             [
              0.1111111111111111,
              "#46039f"
             ],
             [
              0.2222222222222222,
              "#7201a8"
             ],
             [
              0.3333333333333333,
              "#9c179e"
             ],
             [
              0.4444444444444444,
              "#bd3786"
             ],
             [
              0.5555555555555556,
              "#d8576b"
             ],
             [
              0.6666666666666666,
              "#ed7953"
             ],
             [
              0.7777777777777778,
              "#fb9f3a"
             ],
             [
              0.8888888888888888,
              "#fdca26"
             ],
             [
              1,
              "#f0f921"
             ]
            ],
            "type": "histogram2dcontour"
           }
          ],
          "mesh3d": [
           {
            "colorbar": {
             "outlinewidth": 0,
             "ticks": ""
            },
            "type": "mesh3d"
           }
          ],
          "parcoords": [
           {
            "line": {
             "colorbar": {
              "outlinewidth": 0,
              "ticks": ""
             }
            },
            "type": "parcoords"
           }
          ],
          "pie": [
           {
            "automargin": true,
            "type": "pie"
           }
          ],
          "scatter": [
           {
            "fillpattern": {
             "fillmode": "overlay",
             "size": 10,
             "solidity": 0.2
            },
            "type": "scatter"
           }
          ],
          "scatter3d": [
           {
            "line": {
             "colorbar": {
              "outlinewidth": 0,
              "ticks": ""
             }
            },
            "marker": {
             "colorbar": {
              "outlinewidth": 0,
              "ticks": ""
             }
            },
            "type": "scatter3d"
           }
          ],
          "scattercarpet": [
           {
            "marker": {
             "colorbar": {
              "outlinewidth": 0,
              "ticks": ""
             }
            },
            "type": "scattercarpet"
           }
          ],
          "scattergeo": [
           {
            "marker": {
             "colorbar": {
              "outlinewidth": 0,
              "ticks": ""
             }
            },
            "type": "scattergeo"
           }
          ],
          "scattergl": [
           {
            "marker": {
             "colorbar": {
              "outlinewidth": 0,
              "ticks": ""
             }
            },
            "type": "scattergl"
           }
          ],
          "scattermapbox": [
           {
            "marker": {
             "colorbar": {
              "outlinewidth": 0,
              "ticks": ""
             }
            },
            "type": "scattermapbox"
           }
          ],
          "scatterpolar": [
           {
            "marker": {
             "colorbar": {
              "outlinewidth": 0,
              "ticks": ""
             }
            },
            "type": "scatterpolar"
           }
          ],
          "scatterpolargl": [
           {
            "marker": {
             "colorbar": {
              "outlinewidth": 0,
              "ticks": ""
             }
            },
            "type": "scatterpolargl"
           }
          ],
          "scatterternary": [
           {
            "marker": {
             "colorbar": {
              "outlinewidth": 0,
              "ticks": ""
             }
            },
            "type": "scatterternary"
           }
          ],
          "surface": [
           {
            "colorbar": {
             "outlinewidth": 0,
             "ticks": ""
            },
            "colorscale": [
             [
              0,
              "#0d0887"
             ],
             [
              0.1111111111111111,
              "#46039f"
             ],
             [
              0.2222222222222222,
              "#7201a8"
             ],
             [
              0.3333333333333333,
              "#9c179e"
             ],
             [
              0.4444444444444444,
              "#bd3786"
             ],
             [
              0.5555555555555556,
              "#d8576b"
             ],
             [
              0.6666666666666666,
              "#ed7953"
             ],
             [
              0.7777777777777778,
              "#fb9f3a"
             ],
             [
              0.8888888888888888,
              "#fdca26"
             ],
             [
              1,
              "#f0f921"
             ]
            ],
            "type": "surface"
           }
          ],
          "table": [
           {
            "cells": {
             "fill": {
              "color": "#EBF0F8"
             },
             "line": {
              "color": "white"
             }
            },
            "header": {
             "fill": {
              "color": "#C8D4E3"
             },
             "line": {
              "color": "white"
             }
            },
            "type": "table"
           }
          ]
         },
         "layout": {
          "annotationdefaults": {
           "arrowcolor": "#2a3f5f",
           "arrowhead": 0,
           "arrowwidth": 1
          },
          "autotypenumbers": "strict",
          "coloraxis": {
           "colorbar": {
            "outlinewidth": 0,
            "ticks": ""
           }
          },
          "colorscale": {
           "diverging": [
            [
             0,
             "#8e0152"
            ],
            [
             0.1,
             "#c51b7d"
            ],
            [
             0.2,
             "#de77ae"
            ],
            [
             0.3,
             "#f1b6da"
            ],
            [
             0.4,
             "#fde0ef"
            ],
            [
             0.5,
             "#f7f7f7"
            ],
            [
             0.6,
             "#e6f5d0"
            ],
            [
             0.7,
             "#b8e186"
            ],
            [
             0.8,
             "#7fbc41"
            ],
            [
             0.9,
             "#4d9221"
            ],
            [
             1,
             "#276419"
            ]
           ],
           "sequential": [
            [
             0,
             "#0d0887"
            ],
            [
             0.1111111111111111,
             "#46039f"
            ],
            [
             0.2222222222222222,
             "#7201a8"
            ],
            [
             0.3333333333333333,
             "#9c179e"
            ],
            [
             0.4444444444444444,
             "#bd3786"
            ],
            [
             0.5555555555555556,
             "#d8576b"
            ],
            [
             0.6666666666666666,
             "#ed7953"
            ],
            [
             0.7777777777777778,
             "#fb9f3a"
            ],
            [
             0.8888888888888888,
             "#fdca26"
            ],
            [
             1,
             "#f0f921"
            ]
           ],
           "sequentialminus": [
            [
             0,
             "#0d0887"
            ],
            [
             0.1111111111111111,
             "#46039f"
            ],
            [
             0.2222222222222222,
             "#7201a8"
            ],
            [
             0.3333333333333333,
             "#9c179e"
            ],
            [
             0.4444444444444444,
             "#bd3786"
            ],
            [
             0.5555555555555556,
             "#d8576b"
            ],
            [
             0.6666666666666666,
             "#ed7953"
            ],
            [
             0.7777777777777778,
             "#fb9f3a"
            ],
            [
             0.8888888888888888,
             "#fdca26"
            ],
            [
             1,
             "#f0f921"
            ]
           ]
          },
          "colorway": [
           "#636efa",
           "#EF553B",
           "#00cc96",
           "#ab63fa",
           "#FFA15A",
           "#19d3f3",
           "#FF6692",
           "#B6E880",
           "#FF97FF",
           "#FECB52"
          ],
          "font": {
           "color": "#2a3f5f"
          },
          "geo": {
           "bgcolor": "white",
           "lakecolor": "white",
           "landcolor": "#E5ECF6",
           "showlakes": true,
           "showland": true,
           "subunitcolor": "white"
          },
          "hoverlabel": {
           "align": "left"
          },
          "hovermode": "closest",
          "mapbox": {
           "style": "light"
          },
          "paper_bgcolor": "white",
          "plot_bgcolor": "#E5ECF6",
          "polar": {
           "angularaxis": {
            "gridcolor": "white",
            "linecolor": "white",
            "ticks": ""
           },
           "bgcolor": "#E5ECF6",
           "radialaxis": {
            "gridcolor": "white",
            "linecolor": "white",
            "ticks": ""
           }
          },
          "scene": {
           "xaxis": {
            "backgroundcolor": "#E5ECF6",
            "gridcolor": "white",
            "gridwidth": 2,
            "linecolor": "white",
            "showbackground": true,
            "ticks": "",
            "zerolinecolor": "white"
           },
           "yaxis": {
            "backgroundcolor": "#E5ECF6",
            "gridcolor": "white",
            "gridwidth": 2,
            "linecolor": "white",
            "showbackground": true,
            "ticks": "",
            "zerolinecolor": "white"
           },
           "zaxis": {
            "backgroundcolor": "#E5ECF6",
            "gridcolor": "white",
            "gridwidth": 2,
            "linecolor": "white",
            "showbackground": true,
            "ticks": "",
            "zerolinecolor": "white"
           }
          },
          "shapedefaults": {
           "line": {
            "color": "#2a3f5f"
           }
          },
          "ternary": {
           "aaxis": {
            "gridcolor": "white",
            "linecolor": "white",
            "ticks": ""
           },
           "baxis": {
            "gridcolor": "white",
            "linecolor": "white",
            "ticks": ""
           },
           "bgcolor": "#E5ECF6",
           "caxis": {
            "gridcolor": "white",
            "linecolor": "white",
            "ticks": ""
           }
          },
          "title": {
           "x": 0.05
          },
          "xaxis": {
           "automargin": true,
           "gridcolor": "white",
           "linecolor": "white",
           "ticks": "",
           "title": {
            "standoff": 15
           },
           "zerolinecolor": "white",
           "zerolinewidth": 2
          },
          "yaxis": {
           "automargin": true,
           "gridcolor": "white",
           "linecolor": "white",
           "ticks": "",
           "title": {
            "standoff": 15
           },
           "zerolinecolor": "white",
           "zerolinewidth": 2
          }
         }
        },
        "title": {
         "text": "Chart: line plot of Time and AverageMortgageAmount by Geography"
        },
        "xaxis": {
         "anchor": "y",
         "domain": [
          0,
          1
         ],
         "tickangle": -45,
         "title": {
          "text": "Time"
         }
        },
        "yaxis": {
         "anchor": "x",
         "domain": [
          0,
          1
         ],
         "title": {
          "text": "AverageMortgageAmount"
         }
        }
       }
      }
     },
     "metadata": {},
     "output_type": "display_data"
    },
    {
     "data": {
      "application/vnd.plotly.v1+json": {
       "config": {
        "plotlyServerURL": "https://plot.ly"
       },
       "data": [
        {
         "alignmentgroup": "True",
         "hovertemplate": "<b>%{hovertext}</b><br><br>Geography=%{x}<br>AverageMortgageAmount=%{y}<extra></extra>",
         "hovertext": [
          "2012Q3",
          "2012Q4",
          "2013Q1",
          "2013Q2",
          "2013Q3",
          "2013Q4",
          "2014Q1",
          "2014Q2",
          "2014Q3",
          "2014Q4",
          "2015Q1",
          "2015Q2",
          "2015Q3",
          "2015Q4",
          "2016Q1",
          "2016Q2",
          "2016Q3",
          "2016Q4",
          "2017Q1",
          "2017Q2",
          "2017Q3",
          "2017Q4",
          "2018Q1",
          "2018Q2",
          "2018Q3",
          "2018Q4",
          "2019Q1",
          "2019Q2",
          "2019Q3",
          "2019Q4",
          "2020Q1",
          "2020Q2",
          "2020Q3"
         ],
         "legendgroup": "Newfoundland",
         "marker": {
          "color": "#636efa"
         },
         "name": "Newfoundland",
         "notched": false,
         "offsetgroup": "Newfoundland",
         "orientation": "v",
         "showlegend": true,
         "type": "box",
         "x": [
          "Newfoundland",
          "Newfoundland",
          "Newfoundland",
          "Newfoundland",
          "Newfoundland",
          "Newfoundland",
          "Newfoundland",
          "Newfoundland",
          "Newfoundland",
          "Newfoundland",
          "Newfoundland",
          "Newfoundland",
          "Newfoundland",
          "Newfoundland",
          "Newfoundland",
          "Newfoundland",
          "Newfoundland",
          "Newfoundland",
          "Newfoundland",
          "Newfoundland",
          "Newfoundland",
          "Newfoundland",
          "Newfoundland",
          "Newfoundland",
          "Newfoundland",
          "Newfoundland",
          "Newfoundland",
          "Newfoundland",
          "Newfoundland",
          "Newfoundland",
          "Newfoundland",
          "Newfoundland",
          "Newfoundland"
         ],
         "x0": " ",
         "xaxis": "x",
         "y": [
          188732,
          185794,
          189098,
          181331,
          191818,
          193100,
          195479,
          192856,
          199560,
          200310,
          197406,
          193956,
          199758,
          202487,
          196798,
          196806,
          198265,
          197794,
          192057,
          191412,
          200378,
          193619,
          196431,
          192252,
          192106,
          188614,
          185276,
          190582,
          194536,
          193870,
          186268,
          187431,
          196100
         ],
         "y0": " ",
         "yaxis": "y"
        },
        {
         "alignmentgroup": "True",
         "hovertemplate": "<b>%{hovertext}</b><br><br>Geography=%{x}<br>AverageMortgageAmount=%{y}<extra></extra>",
         "hovertext": [
          "2012Q3",
          "2012Q4",
          "2013Q1",
          "2013Q2",
          "2013Q3",
          "2013Q4",
          "2014Q1",
          "2014Q2",
          "2014Q3",
          "2014Q4",
          "2015Q1",
          "2015Q2",
          "2015Q3",
          "2015Q4",
          "2016Q1",
          "2016Q2",
          "2016Q3",
          "2016Q4",
          "2017Q1",
          "2017Q2",
          "2017Q3",
          "2017Q4",
          "2018Q1",
          "2018Q2",
          "2018Q3",
          "2018Q4",
          "2019Q1",
          "2019Q2",
          "2019Q3",
          "2019Q4",
          "2020Q1",
          "2020Q2",
          "2020Q3"
         ],
         "legendgroup": "Prince Edward Island",
         "marker": {
          "color": "#EF553B"
         },
         "name": "Prince Edward Island",
         "notched": false,
         "offsetgroup": "Prince Edward Island",
         "orientation": "v",
         "showlegend": true,
         "type": "box",
         "x": [
          "Prince Edward Island",
          "Prince Edward Island",
          "Prince Edward Island",
          "Prince Edward Island",
          "Prince Edward Island",
          "Prince Edward Island",
          "Prince Edward Island",
          "Prince Edward Island",
          "Prince Edward Island",
          "Prince Edward Island",
          "Prince Edward Island",
          "Prince Edward Island",
          "Prince Edward Island",
          "Prince Edward Island",
          "Prince Edward Island",
          "Prince Edward Island",
          "Prince Edward Island",
          "Prince Edward Island",
          "Prince Edward Island",
          "Prince Edward Island",
          "Prince Edward Island",
          "Prince Edward Island",
          "Prince Edward Island",
          "Prince Edward Island",
          "Prince Edward Island",
          "Prince Edward Island",
          "Prince Edward Island",
          "Prince Edward Island",
          "Prince Edward Island",
          "Prince Edward Island",
          "Prince Edward Island",
          "Prince Edward Island",
          "Prince Edward Island"
         ],
         "x0": " ",
         "xaxis": "x",
         "y": [
          140279,
          138415,
          137162,
          126763,
          139506,
          141453,
          141141,
          137427,
          143320,
          141232,
          146885,
          146818,
          150403,
          155926,
          157322,
          150732,
          169651,
          155799,
          175124,
          174901,
          176919,
          175523,
          179179,
          182114,
          181967,
          178140,
          181172,
          181358,
          190715,
          185934,
          193439,
          189309,
          204415
         ],
         "y0": " ",
         "yaxis": "y"
        },
        {
         "alignmentgroup": "True",
         "hovertemplate": "<b>%{hovertext}</b><br><br>Geography=%{x}<br>AverageMortgageAmount=%{y}<extra></extra>",
         "hovertext": [
          "2012Q3",
          "2012Q4",
          "2013Q1",
          "2013Q2",
          "2013Q3",
          "2013Q4",
          "2014Q1",
          "2014Q2",
          "2014Q3",
          "2014Q4",
          "2015Q1",
          "2015Q2",
          "2015Q3",
          "2015Q4",
          "2016Q1",
          "2016Q2",
          "2016Q3",
          "2016Q4",
          "2017Q1",
          "2017Q2",
          "2017Q3",
          "2017Q4",
          "2018Q1",
          "2018Q2",
          "2018Q3",
          "2018Q4",
          "2019Q1",
          "2019Q2",
          "2019Q3",
          "2019Q4",
          "2020Q1",
          "2020Q2",
          "2020Q3"
         ],
         "legendgroup": "Nova Scotia",
         "marker": {
          "color": "#00cc96"
         },
         "name": "Nova Scotia",
         "notched": false,
         "offsetgroup": "Nova Scotia",
         "orientation": "v",
         "showlegend": true,
         "type": "box",
         "x": [
          "Nova Scotia",
          "Nova Scotia",
          "Nova Scotia",
          "Nova Scotia",
          "Nova Scotia",
          "Nova Scotia",
          "Nova Scotia",
          "Nova Scotia",
          "Nova Scotia",
          "Nova Scotia",
          "Nova Scotia",
          "Nova Scotia",
          "Nova Scotia",
          "Nova Scotia",
          "Nova Scotia",
          "Nova Scotia",
          "Nova Scotia",
          "Nova Scotia",
          "Nova Scotia",
          "Nova Scotia",
          "Nova Scotia",
          "Nova Scotia",
          "Nova Scotia",
          "Nova Scotia",
          "Nova Scotia",
          "Nova Scotia",
          "Nova Scotia",
          "Nova Scotia",
          "Nova Scotia",
          "Nova Scotia",
          "Nova Scotia",
          "Nova Scotia",
          "Nova Scotia"
         ],
         "x0": " ",
         "xaxis": "x",
         "y": [
          174688,
          160046,
          158806,
          159945,
          166426,
          160189,
          161383,
          157664,
          172827,
          163584,
          163607,
          165288,
          178091,
          172863,
          167596,
          168948,
          178784,
          173305,
          186024,
          182526,
          194802,
          188559,
          185858,
          179407,
          190443,
          179921,
          177863,
          180958,
          193586,
          190168,
          188267,
          192060,
          207877
         ],
         "y0": " ",
         "yaxis": "y"
        },
        {
         "alignmentgroup": "True",
         "hovertemplate": "<b>%{hovertext}</b><br><br>Geography=%{x}<br>AverageMortgageAmount=%{y}<extra></extra>",
         "hovertext": [
          "2012Q3",
          "2012Q4",
          "2013Q1",
          "2013Q2",
          "2013Q3",
          "2013Q4",
          "2014Q1",
          "2014Q2",
          "2014Q3",
          "2014Q4",
          "2015Q1",
          "2015Q2",
          "2015Q3",
          "2015Q4",
          "2016Q1",
          "2016Q2",
          "2016Q3",
          "2016Q4",
          "2017Q1",
          "2017Q2",
          "2017Q3",
          "2017Q4",
          "2018Q1",
          "2018Q2",
          "2018Q3",
          "2018Q4",
          "2019Q1",
          "2019Q2",
          "2019Q3",
          "2019Q4",
          "2020Q1",
          "2020Q2",
          "2020Q3"
         ],
         "legendgroup": "New Brunswick",
         "marker": {
          "color": "#ab63fa"
         },
         "name": "New Brunswick",
         "notched": false,
         "offsetgroup": "New Brunswick",
         "orientation": "v",
         "showlegend": true,
         "type": "box",
         "x": [
          "New Brunswick",
          "New Brunswick",
          "New Brunswick",
          "New Brunswick",
          "New Brunswick",
          "New Brunswick",
          "New Brunswick",
          "New Brunswick",
          "New Brunswick",
          "New Brunswick",
          "New Brunswick",
          "New Brunswick",
          "New Brunswick",
          "New Brunswick",
          "New Brunswick",
          "New Brunswick",
          "New Brunswick",
          "New Brunswick",
          "New Brunswick",
          "New Brunswick",
          "New Brunswick",
          "New Brunswick",
          "New Brunswick",
          "New Brunswick",
          "New Brunswick",
          "New Brunswick",
          "New Brunswick",
          "New Brunswick",
          "New Brunswick",
          "New Brunswick",
          "New Brunswick",
          "New Brunswick",
          "New Brunswick"
         ],
         "x0": " ",
         "xaxis": "x",
         "y": [
          133390,
          126138,
          124645,
          122572,
          131542,
          128155,
          127766,
          124221,
          135592,
          132766,
          132025,
          128378,
          137565,
          137039,
          132325,
          133027,
          143533,
          140124,
          141196,
          135748,
          147934,
          142799,
          139711,
          139750,
          150353,
          143324,
          140850,
          137809,
          152606,
          147047,
          146701,
          149590,
          160349
         ],
         "y0": " ",
         "yaxis": "y"
        },
        {
         "alignmentgroup": "True",
         "hovertemplate": "<b>%{hovertext}</b><br><br>Geography=%{x}<br>AverageMortgageAmount=%{y}<extra></extra>",
         "hovertext": [
          "2012Q3",
          "2012Q4",
          "2013Q1",
          "2013Q2",
          "2013Q3",
          "2013Q4",
          "2014Q1",
          "2014Q2",
          "2014Q3",
          "2014Q4",
          "2015Q1",
          "2015Q2",
          "2015Q3",
          "2015Q4",
          "2016Q1",
          "2016Q2",
          "2016Q3",
          "2016Q4",
          "2017Q1",
          "2017Q2",
          "2017Q3",
          "2017Q4",
          "2018Q1",
          "2018Q2",
          "2018Q3",
          "2018Q4",
          "2019Q1",
          "2019Q2",
          "2019Q3",
          "2019Q4",
          "2020Q1",
          "2020Q2",
          "2020Q3"
         ],
         "legendgroup": "Québec",
         "marker": {
          "color": "#FFA15A"
         },
         "name": "Québec",
         "notched": false,
         "offsetgroup": "Québec",
         "orientation": "v",
         "showlegend": true,
         "type": "box",
         "x": [
          "Québec",
          "Québec",
          "Québec",
          "Québec",
          "Québec",
          "Québec",
          "Québec",
          "Québec",
          "Québec",
          "Québec",
          "Québec",
          "Québec",
          "Québec",
          "Québec",
          "Québec",
          "Québec",
          "Québec",
          "Québec",
          "Québec",
          "Québec",
          "Québec",
          "Québec",
          "Québec",
          "Québec",
          "Québec",
          "Québec",
          "Québec",
          "Québec",
          "Québec",
          "Québec",
          "Québec",
          "Québec",
          "Québec"
         ],
         "x0": " ",
         "xaxis": "x",
         "y": [
          159661,
          153413,
          153909,
          155016,
          160147,
          155512,
          156424,
          160165,
          166426,
          160073,
          161563,
          164764,
          170403,
          164235,
          167154,
          169326,
          176522,
          170309,
          171992,
          171716,
          177306,
          173182,
          175297,
          183507,
          187727,
          173911,
          175658,
          179523,
          187136,
          183501,
          189390,
          195538,
          203861
         ],
         "y0": " ",
         "yaxis": "y"
        },
        {
         "alignmentgroup": "True",
         "hovertemplate": "<b>%{hovertext}</b><br><br>Geography=%{x}<br>AverageMortgageAmount=%{y}<extra></extra>",
         "hovertext": [
          "2012Q3",
          "2012Q4",
          "2013Q1",
          "2013Q2",
          "2013Q3",
          "2013Q4",
          "2014Q1",
          "2014Q2",
          "2014Q3",
          "2014Q4",
          "2015Q1",
          "2015Q2",
          "2015Q3",
          "2015Q4",
          "2016Q1",
          "2016Q2",
          "2016Q3",
          "2016Q4",
          "2017Q1",
          "2017Q2",
          "2017Q3",
          "2017Q4",
          "2018Q1",
          "2018Q2",
          "2018Q3",
          "2018Q4",
          "2019Q1",
          "2019Q2",
          "2019Q3",
          "2019Q4",
          "2020Q1",
          "2020Q2",
          "2020Q3"
         ],
         "legendgroup": "Ontario",
         "marker": {
          "color": "#19d3f3"
         },
         "name": "Ontario",
         "notched": false,
         "offsetgroup": "Ontario",
         "orientation": "v",
         "showlegend": true,
         "type": "box",
         "x": [
          "Ontario",
          "Ontario",
          "Ontario",
          "Ontario",
          "Ontario",
          "Ontario",
          "Ontario",
          "Ontario",
          "Ontario",
          "Ontario",
          "Ontario",
          "Ontario",
          "Ontario",
          "Ontario",
          "Ontario",
          "Ontario",
          "Ontario",
          "Ontario",
          "Ontario",
          "Ontario",
          "Ontario",
          "Ontario",
          "Ontario",
          "Ontario",
          "Ontario",
          "Ontario",
          "Ontario",
          "Ontario",
          "Ontario",
          "Ontario",
          "Ontario",
          "Ontario",
          "Ontario"
         ],
         "x0": " ",
         "xaxis": "x",
         "y": [
          247455,
          235667,
          233122,
          230770,
          249054,
          244060,
          244077,
          240828,
          262838,
          257244,
          254854,
          259093,
          281259,
          277802,
          278626,
          285024,
          307369,
          310236,
          319009,
          326645,
          338561,
          323821,
          322179,
          315576,
          327367,
          321579,
          321074,
          324080,
          343117,
          343768,
          348272,
          363432,
          373371
         ],
         "y0": " ",
         "yaxis": "y"
        },
        {
         "alignmentgroup": "True",
         "hovertemplate": "<b>%{hovertext}</b><br><br>Geography=%{x}<br>AverageMortgageAmount=%{y}<extra></extra>",
         "hovertext": [
          "2012Q3",
          "2012Q4",
          "2013Q1",
          "2013Q2",
          "2013Q3",
          "2013Q4",
          "2014Q1",
          "2014Q2",
          "2014Q3",
          "2014Q4",
          "2015Q1",
          "2015Q2",
          "2015Q3",
          "2015Q4",
          "2016Q1",
          "2016Q2",
          "2016Q3",
          "2016Q4",
          "2017Q1",
          "2017Q2",
          "2017Q3",
          "2017Q4",
          "2018Q1",
          "2018Q2",
          "2018Q3",
          "2018Q4",
          "2019Q1",
          "2019Q2",
          "2019Q3",
          "2019Q4",
          "2020Q1",
          "2020Q2",
          "2020Q3"
         ],
         "legendgroup": "Manitoba",
         "marker": {
          "color": "#FF6692"
         },
         "name": "Manitoba",
         "notched": false,
         "offsetgroup": "Manitoba",
         "orientation": "v",
         "showlegend": true,
         "type": "box",
         "x": [
          "Manitoba",
          "Manitoba",
          "Manitoba",
          "Manitoba",
          "Manitoba",
          "Manitoba",
          "Manitoba",
          "Manitoba",
          "Manitoba",
          "Manitoba",
          "Manitoba",
          "Manitoba",
          "Manitoba",
          "Manitoba",
          "Manitoba",
          "Manitoba",
          "Manitoba",
          "Manitoba",
          "Manitoba",
          "Manitoba",
          "Manitoba",
          "Manitoba",
          "Manitoba",
          "Manitoba",
          "Manitoba",
          "Manitoba",
          "Manitoba",
          "Manitoba",
          "Manitoba",
          "Manitoba",
          "Manitoba",
          "Manitoba",
          "Manitoba"
         ],
         "x0": " ",
         "xaxis": "x",
         "y": [
          188298,
          181097,
          177560,
          177517,
          192732,
          189570,
          188107,
          184554,
          200051,
          197527,
          191444,
          190383,
          206275,
          201640,
          193970,
          196385,
          209051,
          206958,
          203999,
          205085,
          216750,
          217136,
          207988,
          207436,
          220454,
          214060,
          206692,
          214873,
          222637,
          218918,
          212508,
          217416,
          232725
         ],
         "y0": " ",
         "yaxis": "y"
        },
        {
         "alignmentgroup": "True",
         "hovertemplate": "<b>%{hovertext}</b><br><br>Geography=%{x}<br>AverageMortgageAmount=%{y}<extra></extra>",
         "hovertext": [
          "2012Q3",
          "2012Q4",
          "2013Q1",
          "2013Q2",
          "2013Q3",
          "2013Q4",
          "2014Q1",
          "2014Q2",
          "2014Q3",
          "2014Q4",
          "2015Q1",
          "2015Q2",
          "2015Q3",
          "2015Q4",
          "2016Q1",
          "2016Q2",
          "2016Q3",
          "2016Q4",
          "2017Q1",
          "2017Q2",
          "2017Q3",
          "2017Q4",
          "2018Q1",
          "2018Q2",
          "2018Q3",
          "2018Q4",
          "2019Q1",
          "2019Q2",
          "2019Q3",
          "2019Q4",
          "2020Q1",
          "2020Q2",
          "2020Q3"
         ],
         "legendgroup": "Saskatchewan",
         "marker": {
          "color": "#B6E880"
         },
         "name": "Saskatchewan",
         "notched": false,
         "offsetgroup": "Saskatchewan",
         "orientation": "v",
         "showlegend": true,
         "type": "box",
         "x": [
          "Saskatchewan",
          "Saskatchewan",
          "Saskatchewan",
          "Saskatchewan",
          "Saskatchewan",
          "Saskatchewan",
          "Saskatchewan",
          "Saskatchewan",
          "Saskatchewan",
          "Saskatchewan",
          "Saskatchewan",
          "Saskatchewan",
          "Saskatchewan",
          "Saskatchewan",
          "Saskatchewan",
          "Saskatchewan",
          "Saskatchewan",
          "Saskatchewan",
          "Saskatchewan",
          "Saskatchewan",
          "Saskatchewan",
          "Saskatchewan",
          "Saskatchewan",
          "Saskatchewan",
          "Saskatchewan",
          "Saskatchewan",
          "Saskatchewan",
          "Saskatchewan",
          "Saskatchewan",
          "Saskatchewan",
          "Saskatchewan",
          "Saskatchewan",
          "Saskatchewan"
         ],
         "x0": " ",
         "xaxis": "x",
         "y": [
          217945,
          213126,
          206354,
          211979,
          224868,
          225414,
          226559,
          218781,
          231768,
          233854,
          228569,
          226957,
          234840,
          231611,
          225641,
          230729,
          236380,
          232174,
          234786,
          233545,
          238533,
          234340,
          230702,
          229851,
          233255,
          223628,
          217157,
          216369,
          228721,
          224315,
          216188,
          225641,
          237386
         ],
         "y0": " ",
         "yaxis": "y"
        },
        {
         "alignmentgroup": "True",
         "hovertemplate": "<b>%{hovertext}</b><br><br>Geography=%{x}<br>AverageMortgageAmount=%{y}<extra></extra>",
         "hovertext": [
          "2012Q3",
          "2012Q4",
          "2013Q1",
          "2013Q2",
          "2013Q3",
          "2013Q4",
          "2014Q1",
          "2014Q2",
          "2014Q3",
          "2014Q4",
          "2015Q1",
          "2015Q2",
          "2015Q3",
          "2015Q4",
          "2016Q1",
          "2016Q2",
          "2016Q3",
          "2016Q4",
          "2017Q1",
          "2017Q2",
          "2017Q3",
          "2017Q4",
          "2018Q1",
          "2018Q2",
          "2018Q3",
          "2018Q4",
          "2019Q1",
          "2019Q2",
          "2019Q3",
          "2019Q4",
          "2020Q1",
          "2020Q2",
          "2020Q3"
         ],
         "legendgroup": "Alberta",
         "marker": {
          "color": "#FF97FF"
         },
         "name": "Alberta",
         "notched": false,
         "offsetgroup": "Alberta",
         "orientation": "v",
         "showlegend": true,
         "type": "box",
         "x": [
          "Alberta",
          "Alberta",
          "Alberta",
          "Alberta",
          "Alberta",
          "Alberta",
          "Alberta",
          "Alberta",
          "Alberta",
          "Alberta",
          "Alberta",
          "Alberta",
          "Alberta",
          "Alberta",
          "Alberta",
          "Alberta",
          "Alberta",
          "Alberta",
          "Alberta",
          "Alberta",
          "Alberta",
          "Alberta",
          "Alberta",
          "Alberta",
          "Alberta",
          "Alberta",
          "Alberta",
          "Alberta",
          "Alberta",
          "Alberta",
          "Alberta",
          "Alberta",
          "Alberta"
         ],
         "x0": " ",
         "xaxis": "x",
         "y": [
          282371,
          277555,
          277158,
          278516,
          289263,
          284928,
          291926,
          290722,
          304374,
          305558,
          303976,
          299837,
          309953,
          303244,
          296111,
          298884,
          304683,
          302095,
          301254,
          300115,
          307837,
          307662,
          302814,
          302116,
          305101,
          295839,
          291721,
          293612,
          297609,
          297552,
          291747,
          296269,
          305600
         ],
         "y0": " ",
         "yaxis": "y"
        },
        {
         "alignmentgroup": "True",
         "hovertemplate": "<b>%{hovertext}</b><br><br>Geography=%{x}<br>AverageMortgageAmount=%{y}<extra></extra>",
         "hovertext": [
          "2012Q3",
          "2012Q4",
          "2013Q1",
          "2013Q2",
          "2013Q3",
          "2013Q4",
          "2014Q1",
          "2014Q2",
          "2014Q3",
          "2014Q4",
          "2015Q1",
          "2015Q2",
          "2015Q3",
          "2015Q4",
          "2016Q1",
          "2016Q2",
          "2016Q3",
          "2016Q4",
          "2017Q1",
          "2017Q2",
          "2017Q3",
          "2017Q4",
          "2018Q1",
          "2018Q2",
          "2018Q3",
          "2018Q4",
          "2019Q1",
          "2019Q2",
          "2019Q3",
          "2019Q4",
          "2020Q1",
          "2020Q2",
          "2020Q3"
         ],
         "legendgroup": "British Columbia",
         "marker": {
          "color": "#FECB52"
         },
         "name": "British Columbia",
         "notched": false,
         "offsetgroup": "British Columbia",
         "orientation": "v",
         "showlegend": true,
         "type": "box",
         "x": [
          "British Columbia",
          "British Columbia",
          "British Columbia",
          "British Columbia",
          "British Columbia",
          "British Columbia",
          "British Columbia",
          "British Columbia",
          "British Columbia",
          "British Columbia",
          "British Columbia",
          "British Columbia",
          "British Columbia",
          "British Columbia",
          "British Columbia",
          "British Columbia",
          "British Columbia",
          "British Columbia",
          "British Columbia",
          "British Columbia",
          "British Columbia",
          "British Columbia",
          "British Columbia",
          "British Columbia",
          "British Columbia",
          "British Columbia",
          "British Columbia",
          "British Columbia",
          "British Columbia",
          "British Columbia",
          "British Columbia",
          "British Columbia",
          "British Columbia"
         ],
         "x0": " ",
         "xaxis": "x",
         "y": [
          305427,
          289864,
          286652,
          290928,
          303663,
          305256,
          309374,
          305138,
          321625,
          323373,
          325035,
          328540,
          350672,
          357016,
          368782,
          385910,
          395297,
          366703,
          358655,
          369174,
          389430,
          381223,
          384794,
          371860,
          378187,
          364330,
          363239,
          363924,
          376343,
          386494,
          393711,
          397853,
          417004
         ],
         "y0": " ",
         "yaxis": "y"
        }
       ],
       "layout": {
        "boxmode": "overlay",
        "legend": {
         "title": {
          "text": "Geography"
         },
         "tracegroupgap": 0
        },
        "margin": {
         "t": 60
        },
        "template": {
         "data": {
          "bar": [
           {
            "error_x": {
             "color": "#2a3f5f"
            },
            "error_y": {
             "color": "#2a3f5f"
            },
            "marker": {
             "line": {
              "color": "#E5ECF6",
              "width": 0.5
             },
             "pattern": {
              "fillmode": "overlay",
              "size": 10,
              "solidity": 0.2
             }
            },
            "type": "bar"
           }
          ],
          "barpolar": [
           {
            "marker": {
             "line": {
              "color": "#E5ECF6",
              "width": 0.5
             },
             "pattern": {
              "fillmode": "overlay",
              "size": 10,
              "solidity": 0.2
             }
            },
            "type": "barpolar"
           }
          ],
          "carpet": [
           {
            "aaxis": {
             "endlinecolor": "#2a3f5f",
             "gridcolor": "white",
             "linecolor": "white",
             "minorgridcolor": "white",
             "startlinecolor": "#2a3f5f"
            },
            "baxis": {
             "endlinecolor": "#2a3f5f",
             "gridcolor": "white",
             "linecolor": "white",
             "minorgridcolor": "white",
             "startlinecolor": "#2a3f5f"
            },
            "type": "carpet"
           }
          ],
          "choropleth": [
           {
            "colorbar": {
             "outlinewidth": 0,
             "ticks": ""
            },
            "type": "choropleth"
           }
          ],
          "contour": [
           {
            "colorbar": {
             "outlinewidth": 0,
             "ticks": ""
            },
            "colorscale": [
             [
              0,
              "#0d0887"
             ],
             [
              0.1111111111111111,
              "#46039f"
             ],
             [
              0.2222222222222222,
              "#7201a8"
             ],
             [
              0.3333333333333333,
              "#9c179e"
             ],
             [
              0.4444444444444444,
              "#bd3786"
             ],
             [
              0.5555555555555556,
              "#d8576b"
             ],
             [
              0.6666666666666666,
              "#ed7953"
             ],
             [
              0.7777777777777778,
              "#fb9f3a"
             ],
             [
              0.8888888888888888,
              "#fdca26"
             ],
             [
              1,
              "#f0f921"
             ]
            ],
            "type": "contour"
           }
          ],
          "contourcarpet": [
           {
            "colorbar": {
             "outlinewidth": 0,
             "ticks": ""
            },
            "type": "contourcarpet"
           }
          ],
          "heatmap": [
           {
            "colorbar": {
             "outlinewidth": 0,
             "ticks": ""
            },
            "colorscale": [
             [
              0,
              "#0d0887"
             ],
             [
              0.1111111111111111,
              "#46039f"
             ],
             [
              0.2222222222222222,
              "#7201a8"
             ],
             [
              0.3333333333333333,
              "#9c179e"
             ],
             [
              0.4444444444444444,
              "#bd3786"
             ],
             [
              0.5555555555555556,
              "#d8576b"
             ],
             [
              0.6666666666666666,
              "#ed7953"
             ],
             [
              0.7777777777777778,
              "#fb9f3a"
             ],
             [
              0.8888888888888888,
              "#fdca26"
             ],
             [
              1,
              "#f0f921"
             ]
            ],
            "type": "heatmap"
           }
          ],
          "heatmapgl": [
           {
            "colorbar": {
             "outlinewidth": 0,
             "ticks": ""
            },
            "colorscale": [
             [
              0,
              "#0d0887"
             ],
             [
              0.1111111111111111,
              "#46039f"
             ],
             [
              0.2222222222222222,
              "#7201a8"
             ],
             [
              0.3333333333333333,
              "#9c179e"
             ],
             [
              0.4444444444444444,
              "#bd3786"
             ],
             [
              0.5555555555555556,
              "#d8576b"
             ],
             [
              0.6666666666666666,
              "#ed7953"
             ],
             [
              0.7777777777777778,
              "#fb9f3a"
             ],
             [
              0.8888888888888888,
              "#fdca26"
             ],
             [
              1,
              "#f0f921"
             ]
            ],
            "type": "heatmapgl"
           }
          ],
          "histogram": [
           {
            "marker": {
             "pattern": {
              "fillmode": "overlay",
              "size": 10,
              "solidity": 0.2
             }
            },
            "type": "histogram"
           }
          ],
          "histogram2d": [
           {
            "colorbar": {
             "outlinewidth": 0,
             "ticks": ""
            },
            "colorscale": [
             [
              0,
              "#0d0887"
             ],
             [
              0.1111111111111111,
              "#46039f"
             ],
             [
              0.2222222222222222,
              "#7201a8"
             ],
             [
              0.3333333333333333,
              "#9c179e"
             ],
             [
              0.4444444444444444,
              "#bd3786"
             ],
             [
              0.5555555555555556,
              "#d8576b"
             ],
             [
              0.6666666666666666,
              "#ed7953"
             ],
             [
              0.7777777777777778,
              "#fb9f3a"
             ],
             [
              0.8888888888888888,
              "#fdca26"
             ],
             [
              1,
              "#f0f921"
             ]
            ],
            "type": "histogram2d"
           }
          ],
          "histogram2dcontour": [
           {
            "colorbar": {
             "outlinewidth": 0,
             "ticks": ""
            },
            "colorscale": [
             [
              0,
              "#0d0887"
             ],
             [
              0.1111111111111111,
              "#46039f"
             ],
             [
              0.2222222222222222,
              "#7201a8"
             ],
             [
              0.3333333333333333,
              "#9c179e"
             ],
             [
              0.4444444444444444,
              "#bd3786"
             ],
             [
              0.5555555555555556,
              "#d8576b"
             ],
             [
              0.6666666666666666,
              "#ed7953"
             ],
             [
              0.7777777777777778,
              "#fb9f3a"
             ],
             [
              0.8888888888888888,
              "#fdca26"
             ],
             [
              1,
              "#f0f921"
             ]
            ],
            "type": "histogram2dcontour"
           }
          ],
          "mesh3d": [
           {
            "colorbar": {
             "outlinewidth": 0,
             "ticks": ""
            },
            "type": "mesh3d"
           }
          ],
          "parcoords": [
           {
            "line": {
             "colorbar": {
              "outlinewidth": 0,
              "ticks": ""
             }
            },
            "type": "parcoords"
           }
          ],
          "pie": [
           {
            "automargin": true,
            "type": "pie"
           }
          ],
          "scatter": [
           {
            "fillpattern": {
             "fillmode": "overlay",
             "size": 10,
             "solidity": 0.2
            },
            "type": "scatter"
           }
          ],
          "scatter3d": [
           {
            "line": {
             "colorbar": {
              "outlinewidth": 0,
              "ticks": ""
             }
            },
            "marker": {
             "colorbar": {
              "outlinewidth": 0,
              "ticks": ""
             }
            },
            "type": "scatter3d"
           }
          ],
          "scattercarpet": [
           {
            "marker": {
             "colorbar": {
              "outlinewidth": 0,
              "ticks": ""
             }
            },
            "type": "scattercarpet"
           }
          ],
          "scattergeo": [
           {
            "marker": {
             "colorbar": {
              "outlinewidth": 0,
              "ticks": ""
             }
            },
            "type": "scattergeo"
           }
          ],
          "scattergl": [
           {
            "marker": {
             "colorbar": {
              "outlinewidth": 0,
              "ticks": ""
             }
            },
            "type": "scattergl"
           }
          ],
          "scattermapbox": [
           {
            "marker": {
             "colorbar": {
              "outlinewidth": 0,
              "ticks": ""
             }
            },
            "type": "scattermapbox"
           }
          ],
          "scatterpolar": [
           {
            "marker": {
             "colorbar": {
              "outlinewidth": 0,
              "ticks": ""
             }
            },
            "type": "scatterpolar"
           }
          ],
          "scatterpolargl": [
           {
            "marker": {
             "colorbar": {
              "outlinewidth": 0,
              "ticks": ""
             }
            },
            "type": "scatterpolargl"
           }
          ],
          "scatterternary": [
           {
            "marker": {
             "colorbar": {
              "outlinewidth": 0,
              "ticks": ""
             }
            },
            "type": "scatterternary"
           }
          ],
          "surface": [
           {
            "colorbar": {
             "outlinewidth": 0,
             "ticks": ""
            },
            "colorscale": [
             [
              0,
              "#0d0887"
             ],
             [
              0.1111111111111111,
              "#46039f"
             ],
             [
              0.2222222222222222,
              "#7201a8"
             ],
             [
              0.3333333333333333,
              "#9c179e"
             ],
             [
              0.4444444444444444,
              "#bd3786"
             ],
             [
              0.5555555555555556,
              "#d8576b"
             ],
             [
              0.6666666666666666,
              "#ed7953"
             ],
             [
              0.7777777777777778,
              "#fb9f3a"
             ],
             [
              0.8888888888888888,
              "#fdca26"
             ],
             [
              1,
              "#f0f921"
             ]
            ],
            "type": "surface"
           }
          ],
          "table": [
           {
            "cells": {
             "fill": {
              "color": "#EBF0F8"
             },
             "line": {
              "color": "white"
             }
            },
            "header": {
             "fill": {
              "color": "#C8D4E3"
             },
             "line": {
              "color": "white"
             }
            },
            "type": "table"
           }
          ]
         },
         "layout": {
          "annotationdefaults": {
           "arrowcolor": "#2a3f5f",
           "arrowhead": 0,
           "arrowwidth": 1
          },
          "autotypenumbers": "strict",
          "coloraxis": {
           "colorbar": {
            "outlinewidth": 0,
            "ticks": ""
           }
          },
          "colorscale": {
           "diverging": [
            [
             0,
             "#8e0152"
            ],
            [
             0.1,
             "#c51b7d"
            ],
            [
             0.2,
             "#de77ae"
            ],
            [
             0.3,
             "#f1b6da"
            ],
            [
             0.4,
             "#fde0ef"
            ],
            [
             0.5,
             "#f7f7f7"
            ],
            [
             0.6,
             "#e6f5d0"
            ],
            [
             0.7,
             "#b8e186"
            ],
            [
             0.8,
             "#7fbc41"
            ],
            [
             0.9,
             "#4d9221"
            ],
            [
             1,
             "#276419"
            ]
           ],
           "sequential": [
            [
             0,
             "#0d0887"
            ],
            [
             0.1111111111111111,
             "#46039f"
            ],
            [
             0.2222222222222222,
             "#7201a8"
            ],
            [
             0.3333333333333333,
             "#9c179e"
            ],
            [
             0.4444444444444444,
             "#bd3786"
            ],
            [
             0.5555555555555556,
             "#d8576b"
            ],
            [
             0.6666666666666666,
             "#ed7953"
            ],
            [
             0.7777777777777778,
             "#fb9f3a"
            ],
            [
             0.8888888888888888,
             "#fdca26"
            ],
            [
             1,
             "#f0f921"
            ]
           ],
           "sequentialminus": [
            [
             0,
             "#0d0887"
            ],
            [
             0.1111111111111111,
             "#46039f"
            ],
            [
             0.2222222222222222,
             "#7201a8"
            ],
            [
             0.3333333333333333,
             "#9c179e"
            ],
            [
             0.4444444444444444,
             "#bd3786"
            ],
            [
             0.5555555555555556,
             "#d8576b"
            ],
            [
             0.6666666666666666,
             "#ed7953"
            ],
            [
             0.7777777777777778,
             "#fb9f3a"
            ],
            [
             0.8888888888888888,
             "#fdca26"
            ],
            [
             1,
             "#f0f921"
            ]
           ]
          },
          "colorway": [
           "#636efa",
           "#EF553B",
           "#00cc96",
           "#ab63fa",
           "#FFA15A",
           "#19d3f3",
           "#FF6692",
           "#B6E880",
           "#FF97FF",
           "#FECB52"
          ],
          "font": {
           "color": "#2a3f5f"
          },
          "geo": {
           "bgcolor": "white",
           "lakecolor": "white",
           "landcolor": "#E5ECF6",
           "showlakes": true,
           "showland": true,
           "subunitcolor": "white"
          },
          "hoverlabel": {
           "align": "left"
          },
          "hovermode": "closest",
          "mapbox": {
           "style": "light"
          },
          "paper_bgcolor": "white",
          "plot_bgcolor": "#E5ECF6",
          "polar": {
           "angularaxis": {
            "gridcolor": "white",
            "linecolor": "white",
            "ticks": ""
           },
           "bgcolor": "#E5ECF6",
           "radialaxis": {
            "gridcolor": "white",
            "linecolor": "white",
            "ticks": ""
           }
          },
          "scene": {
           "xaxis": {
            "backgroundcolor": "#E5ECF6",
            "gridcolor": "white",
            "gridwidth": 2,
            "linecolor": "white",
            "showbackground": true,
            "ticks": "",
            "zerolinecolor": "white"
           },
           "yaxis": {
            "backgroundcolor": "#E5ECF6",
            "gridcolor": "white",
            "gridwidth": 2,
            "linecolor": "white",
            "showbackground": true,
            "ticks": "",
            "zerolinecolor": "white"
           },
           "zaxis": {
            "backgroundcolor": "#E5ECF6",
            "gridcolor": "white",
            "gridwidth": 2,
            "linecolor": "white",
            "showbackground": true,
            "ticks": "",
            "zerolinecolor": "white"
           }
          },
          "shapedefaults": {
           "line": {
            "color": "#2a3f5f"
           }
          },
          "ternary": {
           "aaxis": {
            "gridcolor": "white",
            "linecolor": "white",
            "ticks": ""
           },
           "baxis": {
            "gridcolor": "white",
            "linecolor": "white",
            "ticks": ""
           },
           "bgcolor": "#E5ECF6",
           "caxis": {
            "gridcolor": "white",
            "linecolor": "white",
            "ticks": ""
           }
          },
          "title": {
           "x": 0.05
          },
          "xaxis": {
           "automargin": true,
           "gridcolor": "white",
           "linecolor": "white",
           "ticks": "",
           "title": {
            "standoff": 15
           },
           "zerolinecolor": "white",
           "zerolinewidth": 2
          },
          "yaxis": {
           "automargin": true,
           "gridcolor": "white",
           "linecolor": "white",
           "ticks": "",
           "title": {
            "standoff": 15
           },
           "zerolinecolor": "white",
           "zerolinewidth": 2
          }
         }
        },
        "title": {
         "text": "Chart: box plot of Geography and AverageMortgageAmount by Geography"
        },
        "xaxis": {
         "anchor": "y",
         "categoryarray": [
          "Newfoundland",
          "Prince Edward Island",
          "Nova Scotia",
          "New Brunswick",
          "Québec",
          "Ontario",
          "Manitoba",
          "Saskatchewan",
          "Alberta",
          "British Columbia"
         ],
         "categoryorder": "array",
         "domain": [
          0,
          1
         ],
         "tickangle": -45,
         "title": {
          "text": "Geography"
         }
        },
        "yaxis": {
         "anchor": "x",
         "domain": [
          0,
          1
         ],
         "title": {
          "text": "AverageMortgageAmount"
         }
        }
       }
      }
     },
     "metadata": {},
     "output_type": "display_data"
    },
    {
     "data": {
      "application/vnd.plotly.v1+json": {
       "config": {
        "plotlyServerURL": "https://plot.ly"
       },
       "data": [
        {
         "hovertemplate": "<b>%{hovertext}</b><br><br>Geography=Newfoundland<br>AverageMortgageAmount=%{x}<br>DelinquencyRate=%{y}<extra></extra>",
         "hovertext": [
          "2012Q3",
          "2012Q4",
          "2013Q1",
          "2013Q2",
          "2013Q3",
          "2013Q4",
          "2014Q1",
          "2014Q2",
          "2014Q3",
          "2014Q4",
          "2015Q1",
          "2015Q2",
          "2015Q3",
          "2015Q4",
          "2016Q1",
          "2016Q2",
          "2016Q3",
          "2016Q4",
          "2017Q1",
          "2017Q2",
          "2017Q3",
          "2017Q4",
          "2018Q1",
          "2018Q2",
          "2018Q3",
          "2018Q4",
          "2019Q1",
          "2019Q2",
          "2019Q3",
          "2019Q4",
          "2020Q1",
          "2020Q2",
          "2020Q3"
         ],
         "legendgroup": "Newfoundland",
         "marker": {
          "color": "#636efa",
          "symbol": "circle"
         },
         "mode": "markers",
         "name": "Newfoundland",
         "orientation": "v",
         "showlegend": true,
         "type": "scatter",
         "x": [
          188732,
          185794,
          189098,
          181331,
          191818,
          193100,
          195479,
          192856,
          199560,
          200310,
          197406,
          193956,
          199758,
          202487,
          196798,
          196806,
          198265,
          197794,
          192057,
          191412,
          200378,
          193619,
          196431,
          192252,
          192106,
          188614,
          185276,
          190582,
          194536,
          193870,
          186268,
          187431,
          196100
         ],
         "xaxis": "x",
         "y": [
          0.24,
          0.22,
          0.25,
          0.19,
          0.2,
          0.22,
          0.23,
          0.25,
          0.26,
          0.28,
          0.37,
          0.37,
          0.37,
          0.41,
          0.45,
          0.46,
          0.49,
          0.46,
          0.47,
          0.47,
          0.46,
          0.52,
          0.56,
          0.6,
          0.6,
          0.62,
          0.64,
          0.65,
          0.65,
          0.65,
          0.67,
          0.68,
          0.64
         ],
         "yaxis": "y"
        },
        {
         "hovertemplate": "<b>%{hovertext}</b><br><br>Geography=Prince Edward Island<br>AverageMortgageAmount=%{x}<br>DelinquencyRate=%{y}<extra></extra>",
         "hovertext": [
          "2012Q3",
          "2012Q4",
          "2013Q1",
          "2013Q2",
          "2013Q3",
          "2013Q4",
          "2014Q1",
          "2014Q2",
          "2014Q3",
          "2014Q4",
          "2015Q1",
          "2015Q2",
          "2015Q3",
          "2015Q4",
          "2016Q1",
          "2016Q2",
          "2016Q3",
          "2016Q4",
          "2017Q1",
          "2017Q2",
          "2017Q3",
          "2017Q4",
          "2018Q1",
          "2018Q2",
          "2018Q3",
          "2018Q4",
          "2019Q1",
          "2019Q2",
          "2019Q3",
          "2019Q4",
          "2020Q1",
          "2020Q2",
          "2020Q3"
         ],
         "legendgroup": "Prince Edward Island",
         "marker": {
          "color": "#EF553B",
          "symbol": "circle"
         },
         "mode": "markers",
         "name": "Prince Edward Island",
         "orientation": "v",
         "showlegend": true,
         "type": "scatter",
         "x": [
          140279,
          138415,
          137162,
          126763,
          139506,
          141453,
          141141,
          137427,
          143320,
          141232,
          146885,
          146818,
          150403,
          155926,
          157322,
          150732,
          169651,
          155799,
          175124,
          174901,
          176919,
          175523,
          179179,
          182114,
          181967,
          178140,
          181172,
          181358,
          190715,
          185934,
          193439,
          189309,
          204415
         ],
         "xaxis": "x",
         "y": [
          0.57,
          0.5,
          0.55,
          0.47,
          0.56,
          0.58,
          0.6,
          0.6,
          0.56,
          0.57,
          0.68,
          0.62,
          0.63,
          0.67,
          0.7,
          0.7,
          0.67,
          0.6,
          0.66,
          0.55,
          0.54,
          0.44,
          0.5,
          0.45,
          0.43,
          0.39,
          0.39,
          0.38,
          0.34,
          0.32,
          0.25,
          0.26,
          0.27
         ],
         "yaxis": "y"
        },
        {
         "hovertemplate": "<b>%{hovertext}</b><br><br>Geography=Nova Scotia<br>AverageMortgageAmount=%{x}<br>DelinquencyRate=%{y}<extra></extra>",
         "hovertext": [
          "2012Q3",
          "2012Q4",
          "2013Q1",
          "2013Q2",
          "2013Q3",
          "2013Q4",
          "2014Q1",
          "2014Q2",
          "2014Q3",
          "2014Q4",
          "2015Q1",
          "2015Q2",
          "2015Q3",
          "2015Q4",
          "2016Q1",
          "2016Q2",
          "2016Q3",
          "2016Q4",
          "2017Q1",
          "2017Q2",
          "2017Q3",
          "2017Q4",
          "2018Q1",
          "2018Q2",
          "2018Q3",
          "2018Q4",
          "2019Q1",
          "2019Q2",
          "2019Q3",
          "2019Q4",
          "2020Q1",
          "2020Q2",
          "2020Q3"
         ],
         "legendgroup": "Nova Scotia",
         "marker": {
          "color": "#00cc96",
          "symbol": "circle"
         },
         "mode": "markers",
         "name": "Nova Scotia",
         "orientation": "v",
         "showlegend": true,
         "type": "scatter",
         "x": [
          174688,
          160046,
          158806,
          159945,
          166426,
          160189,
          161383,
          157664,
          172827,
          163584,
          163607,
          165288,
          178091,
          172863,
          167596,
          168948,
          178784,
          173305,
          186024,
          182526,
          194802,
          188559,
          185858,
          179407,
          190443,
          179921,
          177863,
          180958,
          193586,
          190168,
          188267,
          192060,
          207877
         ],
         "xaxis": "x",
         "y": [
          0.53,
          0.53,
          0.55,
          0.56,
          0.58,
          0.62,
          0.65,
          0.65,
          0.67,
          0.68,
          0.7,
          0.67,
          0.66,
          0.68,
          0.7,
          0.72,
          0.76,
          0.75,
          0.7,
          0.64,
          0.6,
          0.58,
          0.59,
          0.54,
          0.52,
          0.56,
          0.54,
          0.52,
          0.5,
          0.5,
          0.46,
          0.47,
          0.45
         ],
         "yaxis": "y"
        },
        {
         "hovertemplate": "<b>%{hovertext}</b><br><br>Geography=New Brunswick<br>AverageMortgageAmount=%{x}<br>DelinquencyRate=%{y}<extra></extra>",
         "hovertext": [
          "2012Q3",
          "2012Q4",
          "2013Q1",
          "2013Q2",
          "2013Q3",
          "2013Q4",
          "2014Q1",
          "2014Q2",
          "2014Q3",
          "2014Q4",
          "2015Q1",
          "2015Q2",
          "2015Q3",
          "2015Q4",
          "2016Q1",
          "2016Q2",
          "2016Q3",
          "2016Q4",
          "2017Q1",
          "2017Q2",
          "2017Q3",
          "2017Q4",
          "2018Q1",
          "2018Q2",
          "2018Q3",
          "2018Q4",
          "2019Q1",
          "2019Q2",
          "2019Q3",
          "2019Q4",
          "2020Q1",
          "2020Q2",
          "2020Q3"
         ],
         "legendgroup": "New Brunswick",
         "marker": {
          "color": "#ab63fa",
          "symbol": "circle"
         },
         "mode": "markers",
         "name": "New Brunswick",
         "orientation": "v",
         "showlegend": true,
         "type": "scatter",
         "x": [
          133390,
          126138,
          124645,
          122572,
          131542,
          128155,
          127766,
          124221,
          135592,
          132766,
          132025,
          128378,
          137565,
          137039,
          132325,
          133027,
          143533,
          140124,
          141196,
          135748,
          147934,
          142799,
          139711,
          139750,
          150353,
          143324,
          140850,
          137809,
          152606,
          147047,
          146701,
          149590,
          160349
         ],
         "xaxis": "x",
         "y": [
          0.63,
          0.63,
          0.65,
          0.6,
          0.61,
          0.68,
          0.72,
          0.67,
          0.72,
          0.72,
          0.79,
          0.8,
          0.81,
          0.79,
          0.82,
          0.78,
          0.84,
          0.79,
          0.78,
          0.73,
          0.71,
          0.66,
          0.65,
          0.59,
          0.58,
          0.62,
          0.63,
          0.6,
          0.57,
          0.57,
          0.57,
          0.54,
          0.52
         ],
         "yaxis": "y"
        },
        {
         "hovertemplate": "<b>%{hovertext}</b><br><br>Geography=Québec<br>AverageMortgageAmount=%{x}<br>DelinquencyRate=%{y}<extra></extra>",
         "hovertext": [
          "2012Q3",
          "2012Q4",
          "2013Q1",
          "2013Q2",
          "2013Q3",
          "2013Q4",
          "2014Q1",
          "2014Q2",
          "2014Q3",
          "2014Q4",
          "2015Q1",
          "2015Q2",
          "2015Q3",
          "2015Q4",
          "2016Q1",
          "2016Q2",
          "2016Q3",
          "2016Q4",
          "2017Q1",
          "2017Q2",
          "2017Q3",
          "2017Q4",
          "2018Q1",
          "2018Q2",
          "2018Q3",
          "2018Q4",
          "2019Q1",
          "2019Q2",
          "2019Q3",
          "2019Q4",
          "2020Q1",
          "2020Q2",
          "2020Q3"
         ],
         "legendgroup": "Québec",
         "marker": {
          "color": "#FFA15A",
          "symbol": "circle"
         },
         "mode": "markers",
         "name": "Québec",
         "orientation": "v",
         "showlegend": true,
         "type": "scatter",
         "x": [
          159661,
          153413,
          153909,
          155016,
          160147,
          155512,
          156424,
          160165,
          166426,
          160073,
          161563,
          164764,
          170403,
          164235,
          167154,
          169326,
          176522,
          170309,
          171992,
          171716,
          177306,
          173182,
          175297,
          183507,
          187727,
          173911,
          175658,
          179523,
          187136,
          183501,
          189390,
          195538,
          203861
         ],
         "xaxis": "x",
         "y": [
          0.33,
          0.33,
          0.35,
          0.34,
          0.33,
          0.35,
          0.37,
          0.36,
          0.37,
          0.39,
          0.42,
          0.41,
          0.41,
          0.42,
          0.44,
          0.43,
          0.42,
          0.4,
          0.41,
          0.4,
          0.37,
          0.34,
          0.34,
          0.35,
          0.35,
          0.38,
          0.38,
          0.37,
          0.37,
          0.36,
          0.36,
          0.34,
          0.36
         ],
         "yaxis": "y"
        },
        {
         "hovertemplate": "<b>%{hovertext}</b><br><br>Geography=Ontario<br>AverageMortgageAmount=%{x}<br>DelinquencyRate=%{y}<extra></extra>",
         "hovertext": [
          "2012Q3",
          "2012Q4",
          "2013Q1",
          "2013Q2",
          "2013Q3",
          "2013Q4",
          "2014Q1",
          "2014Q2",
          "2014Q3",
          "2014Q4",
          "2015Q1",
          "2015Q2",
          "2015Q3",
          "2015Q4",
          "2016Q1",
          "2016Q2",
          "2016Q3",
          "2016Q4",
          "2017Q1",
          "2017Q2",
          "2017Q3",
          "2017Q4",
          "2018Q1",
          "2018Q2",
          "2018Q3",
          "2018Q4",
          "2019Q1",
          "2019Q2",
          "2019Q3",
          "2019Q4",
          "2020Q1",
          "2020Q2",
          "2020Q3"
         ],
         "legendgroup": "Ontario",
         "marker": {
          "color": "#19d3f3",
          "symbol": "circle"
         },
         "mode": "markers",
         "name": "Ontario",
         "orientation": "v",
         "showlegend": true,
         "type": "scatter",
         "x": [
          247455,
          235667,
          233122,
          230770,
          249054,
          244060,
          244077,
          240828,
          262838,
          257244,
          254854,
          259093,
          281259,
          277802,
          278626,
          285024,
          307369,
          310236,
          319009,
          326645,
          338561,
          323821,
          322179,
          315576,
          327367,
          321579,
          321074,
          324080,
          343117,
          343768,
          348272,
          363432,
          373371
         ],
         "xaxis": "x",
         "y": [
          0.31,
          0.31,
          0.31,
          0.29,
          0.28,
          0.28,
          0.29,
          0.27,
          0.27,
          0.26,
          0.27,
          0.25,
          0.24,
          0.23,
          0.24,
          0.22,
          0.2,
          0.19,
          0.18,
          0.16,
          0.16,
          0.15,
          0.15,
          0.14,
          0.13,
          0.14,
          0.14,
          0.14,
          0.14,
          0.14,
          0.14,
          0.14,
          0.14
         ],
         "yaxis": "y"
        },
        {
         "hovertemplate": "<b>%{hovertext}</b><br><br>Geography=Manitoba<br>AverageMortgageAmount=%{x}<br>DelinquencyRate=%{y}<extra></extra>",
         "hovertext": [
          "2012Q3",
          "2012Q4",
          "2013Q1",
          "2013Q2",
          "2013Q3",
          "2013Q4",
          "2014Q1",
          "2014Q2",
          "2014Q3",
          "2014Q4",
          "2015Q1",
          "2015Q2",
          "2015Q3",
          "2015Q4",
          "2016Q1",
          "2016Q2",
          "2016Q3",
          "2016Q4",
          "2017Q1",
          "2017Q2",
          "2017Q3",
          "2017Q4",
          "2018Q1",
          "2018Q2",
          "2018Q3",
          "2018Q4",
          "2019Q1",
          "2019Q2",
          "2019Q3",
          "2019Q4",
          "2020Q1",
          "2020Q2",
          "2020Q3"
         ],
         "legendgroup": "Manitoba",
         "marker": {
          "color": "#FF6692",
          "symbol": "circle"
         },
         "mode": "markers",
         "name": "Manitoba",
         "orientation": "v",
         "showlegend": true,
         "type": "scatter",
         "x": [
          188298,
          181097,
          177560,
          177517,
          192732,
          189570,
          188107,
          184554,
          200051,
          197527,
          191444,
          190383,
          206275,
          201640,
          193970,
          196385,
          209051,
          206958,
          203999,
          205085,
          216750,
          217136,
          207988,
          207436,
          220454,
          214060,
          206692,
          214873,
          222637,
          218918,
          212508,
          217416,
          232725
         ],
         "xaxis": "x",
         "y": [
          0.25,
          0.27,
          0.28,
          0.26,
          0.28,
          0.28,
          0.28,
          0.25,
          0.24,
          0.27,
          0.31,
          0.3,
          0.29,
          0.33,
          0.34,
          0.35,
          0.34,
          0.35,
          0.36,
          0.35,
          0.33,
          0.3,
          0.3,
          0.31,
          0.32,
          0.35,
          0.35,
          0.35,
          0.34,
          0.36,
          0.37,
          0.38,
          0.35
         ],
         "yaxis": "y"
        },
        {
         "hovertemplate": "<b>%{hovertext}</b><br><br>Geography=Saskatchewan<br>AverageMortgageAmount=%{x}<br>DelinquencyRate=%{y}<extra></extra>",
         "hovertext": [
          "2012Q3",
          "2012Q4",
          "2013Q1",
          "2013Q2",
          "2013Q3",
          "2013Q4",
          "2014Q1",
          "2014Q2",
          "2014Q3",
          "2014Q4",
          "2015Q1",
          "2015Q2",
          "2015Q3",
          "2015Q4",
          "2016Q1",
          "2016Q2",
          "2016Q3",
          "2016Q4",
          "2017Q1",
          "2017Q2",
          "2017Q3",
          "2017Q4",
          "2018Q1",
          "2018Q2",
          "2018Q3",
          "2018Q4",
          "2019Q1",
          "2019Q2",
          "2019Q3",
          "2019Q4",
          "2020Q1",
          "2020Q2",
          "2020Q3"
         ],
         "legendgroup": "Saskatchewan",
         "marker": {
          "color": "#B6E880",
          "symbol": "circle"
         },
         "mode": "markers",
         "name": "Saskatchewan",
         "orientation": "v",
         "showlegend": true,
         "type": "scatter",
         "x": [
          217945,
          213126,
          206354,
          211979,
          224868,
          225414,
          226559,
          218781,
          231768,
          233854,
          228569,
          226957,
          234840,
          231611,
          225641,
          230729,
          236380,
          232174,
          234786,
          233545,
          238533,
          234340,
          230702,
          229851,
          233255,
          223628,
          217157,
          216369,
          228721,
          224315,
          216188,
          225641,
          237386
         ],
         "xaxis": "x",
         "y": [
          0.37,
          0.37,
          0.36,
          0.34,
          0.3,
          0.32,
          0.35,
          0.31,
          0.32,
          0.36,
          0.41,
          0.43,
          0.45,
          0.49,
          0.54,
          0.57,
          0.61,
          0.62,
          0.62,
          0.66,
          0.65,
          0.66,
          0.66,
          0.67,
          0.7,
          0.72,
          0.74,
          0.75,
          0.73,
          0.73,
          0.75,
          0.76,
          0.72
         ],
         "yaxis": "y"
        },
        {
         "hovertemplate": "<b>%{hovertext}</b><br><br>Geography=Alberta<br>AverageMortgageAmount=%{x}<br>DelinquencyRate=%{y}<extra></extra>",
         "hovertext": [
          "2012Q3",
          "2012Q4",
          "2013Q1",
          "2013Q2",
          "2013Q3",
          "2013Q4",
          "2014Q1",
          "2014Q2",
          "2014Q3",
          "2014Q4",
          "2015Q1",
          "2015Q2",
          "2015Q3",
          "2015Q4",
          "2016Q1",
          "2016Q2",
          "2016Q3",
          "2016Q4",
          "2017Q1",
          "2017Q2",
          "2017Q3",
          "2017Q4",
          "2018Q1",
          "2018Q2",
          "2018Q3",
          "2018Q4",
          "2019Q1",
          "2019Q2",
          "2019Q3",
          "2019Q4",
          "2020Q1",
          "2020Q2",
          "2020Q3"
         ],
         "legendgroup": "Alberta",
         "marker": {
          "color": "#FF97FF",
          "symbol": "circle"
         },
         "mode": "markers",
         "name": "Alberta",
         "orientation": "v",
         "showlegend": true,
         "type": "scatter",
         "x": [
          282371,
          277555,
          277158,
          278516,
          289263,
          284928,
          291926,
          290722,
          304374,
          305558,
          303976,
          299837,
          309953,
          303244,
          296111,
          298884,
          304683,
          302095,
          301254,
          300115,
          307837,
          307662,
          302814,
          302116,
          305101,
          295839,
          291721,
          293612,
          297609,
          297552,
          291747,
          296269,
          305600
         ],
         "xaxis": "x",
         "y": [
          0.6,
          0.55,
          0.52,
          0.47,
          0.45,
          0.43,
          0.42,
          0.37,
          0.34,
          0.32,
          0.32,
          0.33,
          0.35,
          0.36,
          0.41,
          0.45,
          0.53,
          0.53,
          0.54,
          0.52,
          0.51,
          0.5,
          0.5,
          0.46,
          0.47,
          0.5,
          0.51,
          0.53,
          0.51,
          0.5,
          0.52,
          0.52,
          0.5
         ],
         "yaxis": "y"
        },
        {
         "hovertemplate": "<b>%{hovertext}</b><br><br>Geography=British Columbia<br>AverageMortgageAmount=%{x}<br>DelinquencyRate=%{y}<extra></extra>",
         "hovertext": [
          "2012Q3",
          "2012Q4",
          "2013Q1",
          "2013Q2",
          "2013Q3",
          "2013Q4",
          "2014Q1",
          "2014Q2",
          "2014Q3",
          "2014Q4",
          "2015Q1",
          "2015Q2",
          "2015Q3",
          "2015Q4",
          "2016Q1",
          "2016Q2",
          "2016Q3",
          "2016Q4",
          "2017Q1",
          "2017Q2",
          "2017Q3",
          "2017Q4",
          "2018Q1",
          "2018Q2",
          "2018Q3",
          "2018Q4",
          "2019Q1",
          "2019Q2",
          "2019Q3",
          "2019Q4",
          "2020Q1",
          "2020Q2",
          "2020Q3"
         ],
         "legendgroup": "British Columbia",
         "marker": {
          "color": "#FECB52",
          "symbol": "circle"
         },
         "mode": "markers",
         "name": "British Columbia",
         "orientation": "v",
         "showlegend": true,
         "type": "scatter",
         "x": [
          305427,
          289864,
          286652,
          290928,
          303663,
          305256,
          309374,
          305138,
          321625,
          323373,
          325035,
          328540,
          350672,
          357016,
          368782,
          385910,
          395297,
          366703,
          358655,
          369174,
          389430,
          381223,
          384794,
          371860,
          378187,
          364330,
          363239,
          363924,
          376343,
          386494,
          393711,
          397853,
          417004
         ],
         "xaxis": "x",
         "y": [
          0.42,
          0.42,
          0.43,
          0.43,
          0.42,
          0.43,
          0.43,
          0.4,
          0.4,
          0.4,
          0.4,
          0.38,
          0.34,
          0.32,
          0.32,
          0.29,
          0.26,
          0.25,
          0.23,
          0.2,
          0.18,
          0.18,
          0.17,
          0.17,
          0.16,
          0.17,
          0.17,
          0.17,
          0.16,
          0.16,
          0.17,
          0.19,
          0.19
         ],
         "yaxis": "y"
        }
       ],
       "layout": {
        "legend": {
         "title": {
          "text": "Geography"
         },
         "tracegroupgap": 0
        },
        "margin": {
         "t": 60
        },
        "template": {
         "data": {
          "bar": [
           {
            "error_x": {
             "color": "#2a3f5f"
            },
            "error_y": {
             "color": "#2a3f5f"
            },
            "marker": {
             "line": {
              "color": "#E5ECF6",
              "width": 0.5
             },
             "pattern": {
              "fillmode": "overlay",
              "size": 10,
              "solidity": 0.2
             }
            },
            "type": "bar"
           }
          ],
          "barpolar": [
           {
            "marker": {
             "line": {
              "color": "#E5ECF6",
              "width": 0.5
             },
             "pattern": {
              "fillmode": "overlay",
              "size": 10,
              "solidity": 0.2
             }
            },
            "type": "barpolar"
           }
          ],
          "carpet": [
           {
            "aaxis": {
             "endlinecolor": "#2a3f5f",
             "gridcolor": "white",
             "linecolor": "white",
             "minorgridcolor": "white",
             "startlinecolor": "#2a3f5f"
            },
            "baxis": {
             "endlinecolor": "#2a3f5f",
             "gridcolor": "white",
             "linecolor": "white",
             "minorgridcolor": "white",
             "startlinecolor": "#2a3f5f"
            },
            "type": "carpet"
           }
          ],
          "choropleth": [
           {
            "colorbar": {
             "outlinewidth": 0,
             "ticks": ""
            },
            "type": "choropleth"
           }
          ],
          "contour": [
           {
            "colorbar": {
             "outlinewidth": 0,
             "ticks": ""
            },
            "colorscale": [
             [
              0,
              "#0d0887"
             ],
             [
              0.1111111111111111,
              "#46039f"
             ],
             [
              0.2222222222222222,
              "#7201a8"
             ],
             [
              0.3333333333333333,
              "#9c179e"
             ],
             [
              0.4444444444444444,
              "#bd3786"
             ],
             [
              0.5555555555555556,
              "#d8576b"
             ],
             [
              0.6666666666666666,
              "#ed7953"
             ],
             [
              0.7777777777777778,
              "#fb9f3a"
             ],
             [
              0.8888888888888888,
              "#fdca26"
             ],
             [
              1,
              "#f0f921"
             ]
            ],
            "type": "contour"
           }
          ],
          "contourcarpet": [
           {
            "colorbar": {
             "outlinewidth": 0,
             "ticks": ""
            },
            "type": "contourcarpet"
           }
          ],
          "heatmap": [
           {
            "colorbar": {
             "outlinewidth": 0,
             "ticks": ""
            },
            "colorscale": [
             [
              0,
              "#0d0887"
             ],
             [
              0.1111111111111111,
              "#46039f"
             ],
             [
              0.2222222222222222,
              "#7201a8"
             ],
             [
              0.3333333333333333,
              "#9c179e"
             ],
             [
              0.4444444444444444,
              "#bd3786"
             ],
             [
              0.5555555555555556,
              "#d8576b"
             ],
             [
              0.6666666666666666,
              "#ed7953"
             ],
             [
              0.7777777777777778,
              "#fb9f3a"
             ],
             [
              0.8888888888888888,
              "#fdca26"
             ],
             [
              1,
              "#f0f921"
             ]
            ],
            "type": "heatmap"
           }
          ],
          "heatmapgl": [
           {
            "colorbar": {
             "outlinewidth": 0,
             "ticks": ""
            },
            "colorscale": [
             [
              0,
              "#0d0887"
             ],
             [
              0.1111111111111111,
              "#46039f"
             ],
             [
              0.2222222222222222,
              "#7201a8"
             ],
             [
              0.3333333333333333,
              "#9c179e"
             ],
             [
              0.4444444444444444,
              "#bd3786"
             ],
             [
              0.5555555555555556,
              "#d8576b"
             ],
             [
              0.6666666666666666,
              "#ed7953"
             ],
             [
              0.7777777777777778,
              "#fb9f3a"
             ],
             [
              0.8888888888888888,
              "#fdca26"
             ],
             [
              1,
              "#f0f921"
             ]
            ],
            "type": "heatmapgl"
           }
          ],
          "histogram": [
           {
            "marker": {
             "pattern": {
              "fillmode": "overlay",
              "size": 10,
              "solidity": 0.2
             }
            },
            "type": "histogram"
           }
          ],
          "histogram2d": [
           {
            "colorbar": {
             "outlinewidth": 0,
             "ticks": ""
            },
            "colorscale": [
             [
              0,
              "#0d0887"
             ],
             [
              0.1111111111111111,
              "#46039f"
             ],
             [
              0.2222222222222222,
              "#7201a8"
             ],
             [
              0.3333333333333333,
              "#9c179e"
             ],
             [
              0.4444444444444444,
              "#bd3786"
             ],
             [
              0.5555555555555556,
              "#d8576b"
             ],
             [
              0.6666666666666666,
              "#ed7953"
             ],
             [
              0.7777777777777778,
              "#fb9f3a"
             ],
             [
              0.8888888888888888,
              "#fdca26"
             ],
             [
              1,
              "#f0f921"
             ]
            ],
            "type": "histogram2d"
           }
          ],
          "histogram2dcontour": [
           {
            "colorbar": {
             "outlinewidth": 0,
             "ticks": ""
            },
            "colorscale": [
             [
              0,
              "#0d0887"
             ],
             [
              0.1111111111111111,
              "#46039f"
             ],
             [
              0.2222222222222222,
              "#7201a8"
             ],
             [
              0.3333333333333333,
              "#9c179e"
             ],
             [
              0.4444444444444444,
              "#bd3786"
             ],
             [
              0.5555555555555556,
              "#d8576b"
             ],
             [
              0.6666666666666666,
              "#ed7953"
             ],
             [
              0.7777777777777778,
              "#fb9f3a"
             ],
             [
              0.8888888888888888,
              "#fdca26"
             ],
             [
              1,
              "#f0f921"
             ]
            ],
            "type": "histogram2dcontour"
           }
          ],
          "mesh3d": [
           {
            "colorbar": {
             "outlinewidth": 0,
             "ticks": ""
            },
            "type": "mesh3d"
           }
          ],
          "parcoords": [
           {
            "line": {
             "colorbar": {
              "outlinewidth": 0,
              "ticks": ""
             }
            },
            "type": "parcoords"
           }
          ],
          "pie": [
           {
            "automargin": true,
            "type": "pie"
           }
          ],
          "scatter": [
           {
            "fillpattern": {
             "fillmode": "overlay",
             "size": 10,
             "solidity": 0.2
            },
            "type": "scatter"
           }
          ],
          "scatter3d": [
           {
            "line": {
             "colorbar": {
              "outlinewidth": 0,
              "ticks": ""
             }
            },
            "marker": {
             "colorbar": {
              "outlinewidth": 0,
              "ticks": ""
             }
            },
            "type": "scatter3d"
           }
          ],
          "scattercarpet": [
           {
            "marker": {
             "colorbar": {
              "outlinewidth": 0,
              "ticks": ""
             }
            },
            "type": "scattercarpet"
           }
          ],
          "scattergeo": [
           {
            "marker": {
             "colorbar": {
              "outlinewidth": 0,
              "ticks": ""
             }
            },
            "type": "scattergeo"
           }
          ],
          "scattergl": [
           {
            "marker": {
             "colorbar": {
              "outlinewidth": 0,
              "ticks": ""
             }
            },
            "type": "scattergl"
           }
          ],
          "scattermapbox": [
           {
            "marker": {
             "colorbar": {
              "outlinewidth": 0,
              "ticks": ""
             }
            },
            "type": "scattermapbox"
           }
          ],
          "scatterpolar": [
           {
            "marker": {
             "colorbar": {
              "outlinewidth": 0,
              "ticks": ""
             }
            },
            "type": "scatterpolar"
           }
          ],
          "scatterpolargl": [
           {
            "marker": {
             "colorbar": {
              "outlinewidth": 0,
              "ticks": ""
             }
            },
            "type": "scatterpolargl"
           }
          ],
          "scatterternary": [
           {
            "marker": {
             "colorbar": {
              "outlinewidth": 0,
              "ticks": ""
             }
            },
            "type": "scatterternary"
           }
          ],
          "surface": [
           {
            "colorbar": {
             "outlinewidth": 0,
             "ticks": ""
            },
            "colorscale": [
             [
              0,
              "#0d0887"
             ],
             [
              0.1111111111111111,
              "#46039f"
             ],
             [
              0.2222222222222222,
              "#7201a8"
             ],
             [
              0.3333333333333333,
              "#9c179e"
             ],
             [
              0.4444444444444444,
              "#bd3786"
             ],
             [
              0.5555555555555556,
              "#d8576b"
             ],
             [
              0.6666666666666666,
              "#ed7953"
             ],
             [
              0.7777777777777778,
              "#fb9f3a"
             ],
             [
              0.8888888888888888,
              "#fdca26"
             ],
             [
              1,
              "#f0f921"
             ]
            ],
            "type": "surface"
           }
          ],
          "table": [
           {
            "cells": {
             "fill": {
              "color": "#EBF0F8"
             },
             "line": {
              "color": "white"
             }
            },
            "header": {
             "fill": {
              "color": "#C8D4E3"
             },
             "line": {
              "color": "white"
             }
            },
            "type": "table"
           }
          ]
         },
         "layout": {
          "annotationdefaults": {
           "arrowcolor": "#2a3f5f",
           "arrowhead": 0,
           "arrowwidth": 1
          },
          "autotypenumbers": "strict",
          "coloraxis": {
           "colorbar": {
            "outlinewidth": 0,
            "ticks": ""
           }
          },
          "colorscale": {
           "diverging": [
            [
             0,
             "#8e0152"
            ],
            [
             0.1,
             "#c51b7d"
            ],
            [
             0.2,
             "#de77ae"
            ],
            [
             0.3,
             "#f1b6da"
            ],
            [
             0.4,
             "#fde0ef"
            ],
            [
             0.5,
             "#f7f7f7"
            ],
            [
             0.6,
             "#e6f5d0"
            ],
            [
             0.7,
             "#b8e186"
            ],
            [
             0.8,
             "#7fbc41"
            ],
            [
             0.9,
             "#4d9221"
            ],
            [
             1,
             "#276419"
            ]
           ],
           "sequential": [
            [
             0,
             "#0d0887"
            ],
            [
             0.1111111111111111,
             "#46039f"
            ],
            [
             0.2222222222222222,
             "#7201a8"
            ],
            [
             0.3333333333333333,
             "#9c179e"
            ],
            [
             0.4444444444444444,
             "#bd3786"
            ],
            [
             0.5555555555555556,
             "#d8576b"
            ],
            [
             0.6666666666666666,
             "#ed7953"
            ],
            [
             0.7777777777777778,
             "#fb9f3a"
            ],
            [
             0.8888888888888888,
             "#fdca26"
            ],
            [
             1,
             "#f0f921"
            ]
           ],
           "sequentialminus": [
            [
             0,
             "#0d0887"
            ],
            [
             0.1111111111111111,
             "#46039f"
            ],
            [
             0.2222222222222222,
             "#7201a8"
            ],
            [
             0.3333333333333333,
             "#9c179e"
            ],
            [
             0.4444444444444444,
             "#bd3786"
            ],
            [
             0.5555555555555556,
             "#d8576b"
            ],
            [
             0.6666666666666666,
             "#ed7953"
            ],
            [
             0.7777777777777778,
             "#fb9f3a"
            ],
            [
             0.8888888888888888,
             "#fdca26"
            ],
            [
             1,
             "#f0f921"
            ]
           ]
          },
          "colorway": [
           "#636efa",
           "#EF553B",
           "#00cc96",
           "#ab63fa",
           "#FFA15A",
           "#19d3f3",
           "#FF6692",
           "#B6E880",
           "#FF97FF",
           "#FECB52"
          ],
          "font": {
           "color": "#2a3f5f"
          },
          "geo": {
           "bgcolor": "white",
           "lakecolor": "white",
           "landcolor": "#E5ECF6",
           "showlakes": true,
           "showland": true,
           "subunitcolor": "white"
          },
          "hoverlabel": {
           "align": "left"
          },
          "hovermode": "closest",
          "mapbox": {
           "style": "light"
          },
          "paper_bgcolor": "white",
          "plot_bgcolor": "#E5ECF6",
          "polar": {
           "angularaxis": {
            "gridcolor": "white",
            "linecolor": "white",
            "ticks": ""
           },
           "bgcolor": "#E5ECF6",
           "radialaxis": {
            "gridcolor": "white",
            "linecolor": "white",
            "ticks": ""
           }
          },
          "scene": {
           "xaxis": {
            "backgroundcolor": "#E5ECF6",
            "gridcolor": "white",
            "gridwidth": 2,
            "linecolor": "white",
            "showbackground": true,
            "ticks": "",
            "zerolinecolor": "white"
           },
           "yaxis": {
            "backgroundcolor": "#E5ECF6",
            "gridcolor": "white",
            "gridwidth": 2,
            "linecolor": "white",
            "showbackground": true,
            "ticks": "",
            "zerolinecolor": "white"
           },
           "zaxis": {
            "backgroundcolor": "#E5ECF6",
            "gridcolor": "white",
            "gridwidth": 2,
            "linecolor": "white",
            "showbackground": true,
            "ticks": "",
            "zerolinecolor": "white"
           }
          },
          "shapedefaults": {
           "line": {
            "color": "#2a3f5f"
           }
          },
          "ternary": {
           "aaxis": {
            "gridcolor": "white",
            "linecolor": "white",
            "ticks": ""
           },
           "baxis": {
            "gridcolor": "white",
            "linecolor": "white",
            "ticks": ""
           },
           "bgcolor": "#E5ECF6",
           "caxis": {
            "gridcolor": "white",
            "linecolor": "white",
            "ticks": ""
           }
          },
          "title": {
           "x": 0.05
          },
          "xaxis": {
           "automargin": true,
           "gridcolor": "white",
           "linecolor": "white",
           "ticks": "",
           "title": {
            "standoff": 15
           },
           "zerolinecolor": "white",
           "zerolinewidth": 2
          },
          "yaxis": {
           "automargin": true,
           "gridcolor": "white",
           "linecolor": "white",
           "ticks": "",
           "title": {
            "standoff": 15
           },
           "zerolinecolor": "white",
           "zerolinewidth": 2
          }
         }
        },
        "title": {
         "text": "Chart: scatter plot of AverageMortgageAmount and DelinquencyRate by Geography"
        },
        "xaxis": {
         "anchor": "y",
         "domain": [
          0,
          1
         ],
         "tickangle": -45,
         "title": {
          "text": "AverageMortgageAmount"
         }
        },
        "yaxis": {
         "anchor": "x",
         "domain": [
          0,
          1
         ],
         "title": {
          "text": "DelinquencyRate"
         }
        }
       }
      }
     },
     "metadata": {},
     "output_type": "display_data"
    }
   ],
   "source": [
    "# %load ./nb-scripts/base_script.py\n",
    "import pandas as pd\n",
    "import plotly.express as px\n",
    "\n",
    "def graph_region(region_df, graph_type: str, dimension1: str, dimension2: str):\n",
    "    \"\"\"\n",
    "    Parameters\n",
    "    ----------\n",
    "        region_df: (dataframe object) reshaped data frame object with mortage, delinquency and population data\n",
    "        graph_type: (string) \"box\", \"violin\", \"scatter\", \"line\"\n",
    "        dimension1: (str) one of 'Time' or 'Geography'\n",
    "        dimension2: (str) one of 'AverageMortgageAmount', 'AverageMortgageAmount' or 'PopulationSize'\n",
    "        \n",
    "    Returns:\n",
    "    --------\n",
    "        Plotly figure\n",
    "    \"\"\"\n",
    "    \n",
    "    plot_dict = {'box': px.box,'violin': px.violin, 'scatter': px.scatter, 'line':px.line}\n",
    "        \n",
    "    try:\n",
    "        # Initialize function\n",
    "        fig = plot_dict[graph_type](region_df, \n",
    "                                    x=dimension1, \n",
    "                                    y=dimension2, \n",
    "                                    color = \"Geography\",\n",
    "                                   hover_name = \"Time\")\n",
    "        # Format figure \n",
    "        title_string = f'Chart: {graph_type} plot of {dimension1} and {dimension2} by Geography'\n",
    "        fig.update_layout(title = title_string)\n",
    "        fig.update_xaxes(tickangle=-45)\n",
    "        return fig\n",
    "    \n",
    "    except KeyError:\n",
    "        print(\"Key not found. Make sure that 'graph_type' is in ['box','violin', 'scatter', 'line']\")\n",
    "    except ValueError:\n",
    "        print(\"Dimension is not valid. dimension1 is one of 'Time' or 'Geography'\")\n",
    "        print(\"dimension2 is one of 'AverageMortgageAmount', 'DelinquencyRate', 'PopulationSize'\")\n",
    "        \n",
    "        \n",
    "if __name__ == '__main__':  \n",
    "    \n",
    "    # Read the data into a dataframe \n",
    "    url = 'https://raw.githubusercontent.com/Vancouver-Datajam/dashboard-workshop-dash/main/data/delinquency_mortgage_population_2021_2020.csv'\n",
    "    data_pop_del_mort_df = pd.read_csv(url, index_col=0)\n",
    "    \n",
    "    # See the first few rows\n",
    "    display(data_pop_del_mort_df.head(10))\n",
    "    \n",
    "    # Visualize\n",
    "    fig1 = graph_region(data_pop_del_mort_df, 'line', \"Time\", \"AverageMortgageAmount\")\n",
    "    fig2 = graph_region(data_pop_del_mort_df, 'box', \"Geography\", \"AverageMortgageAmount\")\n",
    "    fig3 = graph_region(data_pop_del_mort_df, 'scatter', \"AverageMortgageAmount\", \"DelinquencyRate\")\n",
    "    \n",
    "    fig1.show()\n",
    "    fig2.show()\n",
    "    fig3.show()"
   ]
  },
  {
   "cell_type": "code",
   "execution_count": 2,
   "metadata": {
    "scrolled": false,
    "slideshow": {
     "slide_type": "slide"
    }
   },
   "outputs": [
    {
     "data": {
      "application/vnd.plotly.v1+json": {
       "config": {
        "plotlyServerURL": "https://plot.ly"
       },
       "data": [
        {
         "hovertemplate": "<b>%{hovertext}</b><br><br>Geography=Newfoundland<br>Time=%{x}<br>AverageMortgageAmount=%{y}<extra></extra>",
         "hovertext": [
          "2012Q3",
          "2012Q4",
          "2013Q1",
          "2013Q2",
          "2013Q3",
          "2013Q4",
          "2014Q1",
          "2014Q2",
          "2014Q3",
          "2014Q4",
          "2015Q1",
          "2015Q2",
          "2015Q3",
          "2015Q4",
          "2016Q1",
          "2016Q2",
          "2016Q3",
          "2016Q4",
          "2017Q1",
          "2017Q2",
          "2017Q3",
          "2017Q4",
          "2018Q1",
          "2018Q2",
          "2018Q3",
          "2018Q4",
          "2019Q1",
          "2019Q2",
          "2019Q3",
          "2019Q4",
          "2020Q1",
          "2020Q2",
          "2020Q3"
         ],
         "legendgroup": "Newfoundland",
         "line": {
          "color": "#636efa",
          "dash": "solid"
         },
         "marker": {
          "symbol": "circle"
         },
         "mode": "lines",
         "name": "Newfoundland",
         "orientation": "v",
         "showlegend": true,
         "type": "scatter",
         "x": [
          "2012Q3",
          "2012Q4",
          "2013Q1",
          "2013Q2",
          "2013Q3",
          "2013Q4",
          "2014Q1",
          "2014Q2",
          "2014Q3",
          "2014Q4",
          "2015Q1",
          "2015Q2",
          "2015Q3",
          "2015Q4",
          "2016Q1",
          "2016Q2",
          "2016Q3",
          "2016Q4",
          "2017Q1",
          "2017Q2",
          "2017Q3",
          "2017Q4",
          "2018Q1",
          "2018Q2",
          "2018Q3",
          "2018Q4",
          "2019Q1",
          "2019Q2",
          "2019Q3",
          "2019Q4",
          "2020Q1",
          "2020Q2",
          "2020Q3"
         ],
         "xaxis": "x",
         "y": [
          188732,
          185794,
          189098,
          181331,
          191818,
          193100,
          195479,
          192856,
          199560,
          200310,
          197406,
          193956,
          199758,
          202487,
          196798,
          196806,
          198265,
          197794,
          192057,
          191412,
          200378,
          193619,
          196431,
          192252,
          192106,
          188614,
          185276,
          190582,
          194536,
          193870,
          186268,
          187431,
          196100
         ],
         "yaxis": "y"
        },
        {
         "hovertemplate": "<b>%{hovertext}</b><br><br>Geography=Prince Edward Island<br>Time=%{x}<br>AverageMortgageAmount=%{y}<extra></extra>",
         "hovertext": [
          "2012Q3",
          "2012Q4",
          "2013Q1",
          "2013Q2",
          "2013Q3",
          "2013Q4",
          "2014Q1",
          "2014Q2",
          "2014Q3",
          "2014Q4",
          "2015Q1",
          "2015Q2",
          "2015Q3",
          "2015Q4",
          "2016Q1",
          "2016Q2",
          "2016Q3",
          "2016Q4",
          "2017Q1",
          "2017Q2",
          "2017Q3",
          "2017Q4",
          "2018Q1",
          "2018Q2",
          "2018Q3",
          "2018Q4",
          "2019Q1",
          "2019Q2",
          "2019Q3",
          "2019Q4",
          "2020Q1",
          "2020Q2",
          "2020Q3"
         ],
         "legendgroup": "Prince Edward Island",
         "line": {
          "color": "#EF553B",
          "dash": "solid"
         },
         "marker": {
          "symbol": "circle"
         },
         "mode": "lines",
         "name": "Prince Edward Island",
         "orientation": "v",
         "showlegend": true,
         "type": "scatter",
         "x": [
          "2012Q3",
          "2012Q4",
          "2013Q1",
          "2013Q2",
          "2013Q3",
          "2013Q4",
          "2014Q1",
          "2014Q2",
          "2014Q3",
          "2014Q4",
          "2015Q1",
          "2015Q2",
          "2015Q3",
          "2015Q4",
          "2016Q1",
          "2016Q2",
          "2016Q3",
          "2016Q4",
          "2017Q1",
          "2017Q2",
          "2017Q3",
          "2017Q4",
          "2018Q1",
          "2018Q2",
          "2018Q3",
          "2018Q4",
          "2019Q1",
          "2019Q2",
          "2019Q3",
          "2019Q4",
          "2020Q1",
          "2020Q2",
          "2020Q3"
         ],
         "xaxis": "x",
         "y": [
          140279,
          138415,
          137162,
          126763,
          139506,
          141453,
          141141,
          137427,
          143320,
          141232,
          146885,
          146818,
          150403,
          155926,
          157322,
          150732,
          169651,
          155799,
          175124,
          174901,
          176919,
          175523,
          179179,
          182114,
          181967,
          178140,
          181172,
          181358,
          190715,
          185934,
          193439,
          189309,
          204415
         ],
         "yaxis": "y"
        },
        {
         "hovertemplate": "<b>%{hovertext}</b><br><br>Geography=Nova Scotia<br>Time=%{x}<br>AverageMortgageAmount=%{y}<extra></extra>",
         "hovertext": [
          "2012Q3",
          "2012Q4",
          "2013Q1",
          "2013Q2",
          "2013Q3",
          "2013Q4",
          "2014Q1",
          "2014Q2",
          "2014Q3",
          "2014Q4",
          "2015Q1",
          "2015Q2",
          "2015Q3",
          "2015Q4",
          "2016Q1",
          "2016Q2",
          "2016Q3",
          "2016Q4",
          "2017Q1",
          "2017Q2",
          "2017Q3",
          "2017Q4",
          "2018Q1",
          "2018Q2",
          "2018Q3",
          "2018Q4",
          "2019Q1",
          "2019Q2",
          "2019Q3",
          "2019Q4",
          "2020Q1",
          "2020Q2",
          "2020Q3"
         ],
         "legendgroup": "Nova Scotia",
         "line": {
          "color": "#00cc96",
          "dash": "solid"
         },
         "marker": {
          "symbol": "circle"
         },
         "mode": "lines",
         "name": "Nova Scotia",
         "orientation": "v",
         "showlegend": true,
         "type": "scatter",
         "x": [
          "2012Q3",
          "2012Q4",
          "2013Q1",
          "2013Q2",
          "2013Q3",
          "2013Q4",
          "2014Q1",
          "2014Q2",
          "2014Q3",
          "2014Q4",
          "2015Q1",
          "2015Q2",
          "2015Q3",
          "2015Q4",
          "2016Q1",
          "2016Q2",
          "2016Q3",
          "2016Q4",
          "2017Q1",
          "2017Q2",
          "2017Q3",
          "2017Q4",
          "2018Q1",
          "2018Q2",
          "2018Q3",
          "2018Q4",
          "2019Q1",
          "2019Q2",
          "2019Q3",
          "2019Q4",
          "2020Q1",
          "2020Q2",
          "2020Q3"
         ],
         "xaxis": "x",
         "y": [
          174688,
          160046,
          158806,
          159945,
          166426,
          160189,
          161383,
          157664,
          172827,
          163584,
          163607,
          165288,
          178091,
          172863,
          167596,
          168948,
          178784,
          173305,
          186024,
          182526,
          194802,
          188559,
          185858,
          179407,
          190443,
          179921,
          177863,
          180958,
          193586,
          190168,
          188267,
          192060,
          207877
         ],
         "yaxis": "y"
        },
        {
         "hovertemplate": "<b>%{hovertext}</b><br><br>Geography=New Brunswick<br>Time=%{x}<br>AverageMortgageAmount=%{y}<extra></extra>",
         "hovertext": [
          "2012Q3",
          "2012Q4",
          "2013Q1",
          "2013Q2",
          "2013Q3",
          "2013Q4",
          "2014Q1",
          "2014Q2",
          "2014Q3",
          "2014Q4",
          "2015Q1",
          "2015Q2",
          "2015Q3",
          "2015Q4",
          "2016Q1",
          "2016Q2",
          "2016Q3",
          "2016Q4",
          "2017Q1",
          "2017Q2",
          "2017Q3",
          "2017Q4",
          "2018Q1",
          "2018Q2",
          "2018Q3",
          "2018Q4",
          "2019Q1",
          "2019Q2",
          "2019Q3",
          "2019Q4",
          "2020Q1",
          "2020Q2",
          "2020Q3"
         ],
         "legendgroup": "New Brunswick",
         "line": {
          "color": "#ab63fa",
          "dash": "solid"
         },
         "marker": {
          "symbol": "circle"
         },
         "mode": "lines",
         "name": "New Brunswick",
         "orientation": "v",
         "showlegend": true,
         "type": "scatter",
         "x": [
          "2012Q3",
          "2012Q4",
          "2013Q1",
          "2013Q2",
          "2013Q3",
          "2013Q4",
          "2014Q1",
          "2014Q2",
          "2014Q3",
          "2014Q4",
          "2015Q1",
          "2015Q2",
          "2015Q3",
          "2015Q4",
          "2016Q1",
          "2016Q2",
          "2016Q3",
          "2016Q4",
          "2017Q1",
          "2017Q2",
          "2017Q3",
          "2017Q4",
          "2018Q1",
          "2018Q2",
          "2018Q3",
          "2018Q4",
          "2019Q1",
          "2019Q2",
          "2019Q3",
          "2019Q4",
          "2020Q1",
          "2020Q2",
          "2020Q3"
         ],
         "xaxis": "x",
         "y": [
          133390,
          126138,
          124645,
          122572,
          131542,
          128155,
          127766,
          124221,
          135592,
          132766,
          132025,
          128378,
          137565,
          137039,
          132325,
          133027,
          143533,
          140124,
          141196,
          135748,
          147934,
          142799,
          139711,
          139750,
          150353,
          143324,
          140850,
          137809,
          152606,
          147047,
          146701,
          149590,
          160349
         ],
         "yaxis": "y"
        },
        {
         "hovertemplate": "<b>%{hovertext}</b><br><br>Geography=Québec<br>Time=%{x}<br>AverageMortgageAmount=%{y}<extra></extra>",
         "hovertext": [
          "2012Q3",
          "2012Q4",
          "2013Q1",
          "2013Q2",
          "2013Q3",
          "2013Q4",
          "2014Q1",
          "2014Q2",
          "2014Q3",
          "2014Q4",
          "2015Q1",
          "2015Q2",
          "2015Q3",
          "2015Q4",
          "2016Q1",
          "2016Q2",
          "2016Q3",
          "2016Q4",
          "2017Q1",
          "2017Q2",
          "2017Q3",
          "2017Q4",
          "2018Q1",
          "2018Q2",
          "2018Q3",
          "2018Q4",
          "2019Q1",
          "2019Q2",
          "2019Q3",
          "2019Q4",
          "2020Q1",
          "2020Q2",
          "2020Q3"
         ],
         "legendgroup": "Québec",
         "line": {
          "color": "#FFA15A",
          "dash": "solid"
         },
         "marker": {
          "symbol": "circle"
         },
         "mode": "lines",
         "name": "Québec",
         "orientation": "v",
         "showlegend": true,
         "type": "scatter",
         "x": [
          "2012Q3",
          "2012Q4",
          "2013Q1",
          "2013Q2",
          "2013Q3",
          "2013Q4",
          "2014Q1",
          "2014Q2",
          "2014Q3",
          "2014Q4",
          "2015Q1",
          "2015Q2",
          "2015Q3",
          "2015Q4",
          "2016Q1",
          "2016Q2",
          "2016Q3",
          "2016Q4",
          "2017Q1",
          "2017Q2",
          "2017Q3",
          "2017Q4",
          "2018Q1",
          "2018Q2",
          "2018Q3",
          "2018Q4",
          "2019Q1",
          "2019Q2",
          "2019Q3",
          "2019Q4",
          "2020Q1",
          "2020Q2",
          "2020Q3"
         ],
         "xaxis": "x",
         "y": [
          159661,
          153413,
          153909,
          155016,
          160147,
          155512,
          156424,
          160165,
          166426,
          160073,
          161563,
          164764,
          170403,
          164235,
          167154,
          169326,
          176522,
          170309,
          171992,
          171716,
          177306,
          173182,
          175297,
          183507,
          187727,
          173911,
          175658,
          179523,
          187136,
          183501,
          189390,
          195538,
          203861
         ],
         "yaxis": "y"
        },
        {
         "hovertemplate": "<b>%{hovertext}</b><br><br>Geography=Ontario<br>Time=%{x}<br>AverageMortgageAmount=%{y}<extra></extra>",
         "hovertext": [
          "2012Q3",
          "2012Q4",
          "2013Q1",
          "2013Q2",
          "2013Q3",
          "2013Q4",
          "2014Q1",
          "2014Q2",
          "2014Q3",
          "2014Q4",
          "2015Q1",
          "2015Q2",
          "2015Q3",
          "2015Q4",
          "2016Q1",
          "2016Q2",
          "2016Q3",
          "2016Q4",
          "2017Q1",
          "2017Q2",
          "2017Q3",
          "2017Q4",
          "2018Q1",
          "2018Q2",
          "2018Q3",
          "2018Q4",
          "2019Q1",
          "2019Q2",
          "2019Q3",
          "2019Q4",
          "2020Q1",
          "2020Q2",
          "2020Q3"
         ],
         "legendgroup": "Ontario",
         "line": {
          "color": "#19d3f3",
          "dash": "solid"
         },
         "marker": {
          "symbol": "circle"
         },
         "mode": "lines",
         "name": "Ontario",
         "orientation": "v",
         "showlegend": true,
         "type": "scatter",
         "x": [
          "2012Q3",
          "2012Q4",
          "2013Q1",
          "2013Q2",
          "2013Q3",
          "2013Q4",
          "2014Q1",
          "2014Q2",
          "2014Q3",
          "2014Q4",
          "2015Q1",
          "2015Q2",
          "2015Q3",
          "2015Q4",
          "2016Q1",
          "2016Q2",
          "2016Q3",
          "2016Q4",
          "2017Q1",
          "2017Q2",
          "2017Q3",
          "2017Q4",
          "2018Q1",
          "2018Q2",
          "2018Q3",
          "2018Q4",
          "2019Q1",
          "2019Q2",
          "2019Q3",
          "2019Q4",
          "2020Q1",
          "2020Q2",
          "2020Q3"
         ],
         "xaxis": "x",
         "y": [
          247455,
          235667,
          233122,
          230770,
          249054,
          244060,
          244077,
          240828,
          262838,
          257244,
          254854,
          259093,
          281259,
          277802,
          278626,
          285024,
          307369,
          310236,
          319009,
          326645,
          338561,
          323821,
          322179,
          315576,
          327367,
          321579,
          321074,
          324080,
          343117,
          343768,
          348272,
          363432,
          373371
         ],
         "yaxis": "y"
        },
        {
         "hovertemplate": "<b>%{hovertext}</b><br><br>Geography=Manitoba<br>Time=%{x}<br>AverageMortgageAmount=%{y}<extra></extra>",
         "hovertext": [
          "2012Q3",
          "2012Q4",
          "2013Q1",
          "2013Q2",
          "2013Q3",
          "2013Q4",
          "2014Q1",
          "2014Q2",
          "2014Q3",
          "2014Q4",
          "2015Q1",
          "2015Q2",
          "2015Q3",
          "2015Q4",
          "2016Q1",
          "2016Q2",
          "2016Q3",
          "2016Q4",
          "2017Q1",
          "2017Q2",
          "2017Q3",
          "2017Q4",
          "2018Q1",
          "2018Q2",
          "2018Q3",
          "2018Q4",
          "2019Q1",
          "2019Q2",
          "2019Q3",
          "2019Q4",
          "2020Q1",
          "2020Q2",
          "2020Q3"
         ],
         "legendgroup": "Manitoba",
         "line": {
          "color": "#FF6692",
          "dash": "solid"
         },
         "marker": {
          "symbol": "circle"
         },
         "mode": "lines",
         "name": "Manitoba",
         "orientation": "v",
         "showlegend": true,
         "type": "scatter",
         "x": [
          "2012Q3",
          "2012Q4",
          "2013Q1",
          "2013Q2",
          "2013Q3",
          "2013Q4",
          "2014Q1",
          "2014Q2",
          "2014Q3",
          "2014Q4",
          "2015Q1",
          "2015Q2",
          "2015Q3",
          "2015Q4",
          "2016Q1",
          "2016Q2",
          "2016Q3",
          "2016Q4",
          "2017Q1",
          "2017Q2",
          "2017Q3",
          "2017Q4",
          "2018Q1",
          "2018Q2",
          "2018Q3",
          "2018Q4",
          "2019Q1",
          "2019Q2",
          "2019Q3",
          "2019Q4",
          "2020Q1",
          "2020Q2",
          "2020Q3"
         ],
         "xaxis": "x",
         "y": [
          188298,
          181097,
          177560,
          177517,
          192732,
          189570,
          188107,
          184554,
          200051,
          197527,
          191444,
          190383,
          206275,
          201640,
          193970,
          196385,
          209051,
          206958,
          203999,
          205085,
          216750,
          217136,
          207988,
          207436,
          220454,
          214060,
          206692,
          214873,
          222637,
          218918,
          212508,
          217416,
          232725
         ],
         "yaxis": "y"
        },
        {
         "hovertemplate": "<b>%{hovertext}</b><br><br>Geography=Saskatchewan<br>Time=%{x}<br>AverageMortgageAmount=%{y}<extra></extra>",
         "hovertext": [
          "2012Q3",
          "2012Q4",
          "2013Q1",
          "2013Q2",
          "2013Q3",
          "2013Q4",
          "2014Q1",
          "2014Q2",
          "2014Q3",
          "2014Q4",
          "2015Q1",
          "2015Q2",
          "2015Q3",
          "2015Q4",
          "2016Q1",
          "2016Q2",
          "2016Q3",
          "2016Q4",
          "2017Q1",
          "2017Q2",
          "2017Q3",
          "2017Q4",
          "2018Q1",
          "2018Q2",
          "2018Q3",
          "2018Q4",
          "2019Q1",
          "2019Q2",
          "2019Q3",
          "2019Q4",
          "2020Q1",
          "2020Q2",
          "2020Q3"
         ],
         "legendgroup": "Saskatchewan",
         "line": {
          "color": "#B6E880",
          "dash": "solid"
         },
         "marker": {
          "symbol": "circle"
         },
         "mode": "lines",
         "name": "Saskatchewan",
         "orientation": "v",
         "showlegend": true,
         "type": "scatter",
         "x": [
          "2012Q3",
          "2012Q4",
          "2013Q1",
          "2013Q2",
          "2013Q3",
          "2013Q4",
          "2014Q1",
          "2014Q2",
          "2014Q3",
          "2014Q4",
          "2015Q1",
          "2015Q2",
          "2015Q3",
          "2015Q4",
          "2016Q1",
          "2016Q2",
          "2016Q3",
          "2016Q4",
          "2017Q1",
          "2017Q2",
          "2017Q3",
          "2017Q4",
          "2018Q1",
          "2018Q2",
          "2018Q3",
          "2018Q4",
          "2019Q1",
          "2019Q2",
          "2019Q3",
          "2019Q4",
          "2020Q1",
          "2020Q2",
          "2020Q3"
         ],
         "xaxis": "x",
         "y": [
          217945,
          213126,
          206354,
          211979,
          224868,
          225414,
          226559,
          218781,
          231768,
          233854,
          228569,
          226957,
          234840,
          231611,
          225641,
          230729,
          236380,
          232174,
          234786,
          233545,
          238533,
          234340,
          230702,
          229851,
          233255,
          223628,
          217157,
          216369,
          228721,
          224315,
          216188,
          225641,
          237386
         ],
         "yaxis": "y"
        },
        {
         "hovertemplate": "<b>%{hovertext}</b><br><br>Geography=Alberta<br>Time=%{x}<br>AverageMortgageAmount=%{y}<extra></extra>",
         "hovertext": [
          "2012Q3",
          "2012Q4",
          "2013Q1",
          "2013Q2",
          "2013Q3",
          "2013Q4",
          "2014Q1",
          "2014Q2",
          "2014Q3",
          "2014Q4",
          "2015Q1",
          "2015Q2",
          "2015Q3",
          "2015Q4",
          "2016Q1",
          "2016Q2",
          "2016Q3",
          "2016Q4",
          "2017Q1",
          "2017Q2",
          "2017Q3",
          "2017Q4",
          "2018Q1",
          "2018Q2",
          "2018Q3",
          "2018Q4",
          "2019Q1",
          "2019Q2",
          "2019Q3",
          "2019Q4",
          "2020Q1",
          "2020Q2",
          "2020Q3"
         ],
         "legendgroup": "Alberta",
         "line": {
          "color": "#FF97FF",
          "dash": "solid"
         },
         "marker": {
          "symbol": "circle"
         },
         "mode": "lines",
         "name": "Alberta",
         "orientation": "v",
         "showlegend": true,
         "type": "scatter",
         "x": [
          "2012Q3",
          "2012Q4",
          "2013Q1",
          "2013Q2",
          "2013Q3",
          "2013Q4",
          "2014Q1",
          "2014Q2",
          "2014Q3",
          "2014Q4",
          "2015Q1",
          "2015Q2",
          "2015Q3",
          "2015Q4",
          "2016Q1",
          "2016Q2",
          "2016Q3",
          "2016Q4",
          "2017Q1",
          "2017Q2",
          "2017Q3",
          "2017Q4",
          "2018Q1",
          "2018Q2",
          "2018Q3",
          "2018Q4",
          "2019Q1",
          "2019Q2",
          "2019Q3",
          "2019Q4",
          "2020Q1",
          "2020Q2",
          "2020Q3"
         ],
         "xaxis": "x",
         "y": [
          282371,
          277555,
          277158,
          278516,
          289263,
          284928,
          291926,
          290722,
          304374,
          305558,
          303976,
          299837,
          309953,
          303244,
          296111,
          298884,
          304683,
          302095,
          301254,
          300115,
          307837,
          307662,
          302814,
          302116,
          305101,
          295839,
          291721,
          293612,
          297609,
          297552,
          291747,
          296269,
          305600
         ],
         "yaxis": "y"
        },
        {
         "hovertemplate": "<b>%{hovertext}</b><br><br>Geography=British Columbia<br>Time=%{x}<br>AverageMortgageAmount=%{y}<extra></extra>",
         "hovertext": [
          "2012Q3",
          "2012Q4",
          "2013Q1",
          "2013Q2",
          "2013Q3",
          "2013Q4",
          "2014Q1",
          "2014Q2",
          "2014Q3",
          "2014Q4",
          "2015Q1",
          "2015Q2",
          "2015Q3",
          "2015Q4",
          "2016Q1",
          "2016Q2",
          "2016Q3",
          "2016Q4",
          "2017Q1",
          "2017Q2",
          "2017Q3",
          "2017Q4",
          "2018Q1",
          "2018Q2",
          "2018Q3",
          "2018Q4",
          "2019Q1",
          "2019Q2",
          "2019Q3",
          "2019Q4",
          "2020Q1",
          "2020Q2",
          "2020Q3"
         ],
         "legendgroup": "British Columbia",
         "line": {
          "color": "#FECB52",
          "dash": "solid"
         },
         "marker": {
          "symbol": "circle"
         },
         "mode": "lines",
         "name": "British Columbia",
         "orientation": "v",
         "showlegend": true,
         "type": "scatter",
         "x": [
          "2012Q3",
          "2012Q4",
          "2013Q1",
          "2013Q2",
          "2013Q3",
          "2013Q4",
          "2014Q1",
          "2014Q2",
          "2014Q3",
          "2014Q4",
          "2015Q1",
          "2015Q2",
          "2015Q3",
          "2015Q4",
          "2016Q1",
          "2016Q2",
          "2016Q3",
          "2016Q4",
          "2017Q1",
          "2017Q2",
          "2017Q3",
          "2017Q4",
          "2018Q1",
          "2018Q2",
          "2018Q3",
          "2018Q4",
          "2019Q1",
          "2019Q2",
          "2019Q3",
          "2019Q4",
          "2020Q1",
          "2020Q2",
          "2020Q3"
         ],
         "xaxis": "x",
         "y": [
          305427,
          289864,
          286652,
          290928,
          303663,
          305256,
          309374,
          305138,
          321625,
          323373,
          325035,
          328540,
          350672,
          357016,
          368782,
          385910,
          395297,
          366703,
          358655,
          369174,
          389430,
          381223,
          384794,
          371860,
          378187,
          364330,
          363239,
          363924,
          376343,
          386494,
          393711,
          397853,
          417004
         ],
         "yaxis": "y"
        }
       ],
       "layout": {
        "legend": {
         "title": {
          "text": "Geography"
         },
         "tracegroupgap": 0
        },
        "margin": {
         "t": 60
        },
        "template": {
         "data": {
          "bar": [
           {
            "error_x": {
             "color": "#2a3f5f"
            },
            "error_y": {
             "color": "#2a3f5f"
            },
            "marker": {
             "line": {
              "color": "#E5ECF6",
              "width": 0.5
             },
             "pattern": {
              "fillmode": "overlay",
              "size": 10,
              "solidity": 0.2
             }
            },
            "type": "bar"
           }
          ],
          "barpolar": [
           {
            "marker": {
             "line": {
              "color": "#E5ECF6",
              "width": 0.5
             },
             "pattern": {
              "fillmode": "overlay",
              "size": 10,
              "solidity": 0.2
             }
            },
            "type": "barpolar"
           }
          ],
          "carpet": [
           {
            "aaxis": {
             "endlinecolor": "#2a3f5f",
             "gridcolor": "white",
             "linecolor": "white",
             "minorgridcolor": "white",
             "startlinecolor": "#2a3f5f"
            },
            "baxis": {
             "endlinecolor": "#2a3f5f",
             "gridcolor": "white",
             "linecolor": "white",
             "minorgridcolor": "white",
             "startlinecolor": "#2a3f5f"
            },
            "type": "carpet"
           }
          ],
          "choropleth": [
           {
            "colorbar": {
             "outlinewidth": 0,
             "ticks": ""
            },
            "type": "choropleth"
           }
          ],
          "contour": [
           {
            "colorbar": {
             "outlinewidth": 0,
             "ticks": ""
            },
            "colorscale": [
             [
              0,
              "#0d0887"
             ],
             [
              0.1111111111111111,
              "#46039f"
             ],
             [
              0.2222222222222222,
              "#7201a8"
             ],
             [
              0.3333333333333333,
              "#9c179e"
             ],
             [
              0.4444444444444444,
              "#bd3786"
             ],
             [
              0.5555555555555556,
              "#d8576b"
             ],
             [
              0.6666666666666666,
              "#ed7953"
             ],
             [
              0.7777777777777778,
              "#fb9f3a"
             ],
             [
              0.8888888888888888,
              "#fdca26"
             ],
             [
              1,
              "#f0f921"
             ]
            ],
            "type": "contour"
           }
          ],
          "contourcarpet": [
           {
            "colorbar": {
             "outlinewidth": 0,
             "ticks": ""
            },
            "type": "contourcarpet"
           }
          ],
          "heatmap": [
           {
            "colorbar": {
             "outlinewidth": 0,
             "ticks": ""
            },
            "colorscale": [
             [
              0,
              "#0d0887"
             ],
             [
              0.1111111111111111,
              "#46039f"
             ],
             [
              0.2222222222222222,
              "#7201a8"
             ],
             [
              0.3333333333333333,
              "#9c179e"
             ],
             [
              0.4444444444444444,
              "#bd3786"
             ],
             [
              0.5555555555555556,
              "#d8576b"
             ],
             [
              0.6666666666666666,
              "#ed7953"
             ],
             [
              0.7777777777777778,
              "#fb9f3a"
             ],
             [
              0.8888888888888888,
              "#fdca26"
             ],
             [
              1,
              "#f0f921"
             ]
            ],
            "type": "heatmap"
           }
          ],
          "heatmapgl": [
           {
            "colorbar": {
             "outlinewidth": 0,
             "ticks": ""
            },
            "colorscale": [
             [
              0,
              "#0d0887"
             ],
             [
              0.1111111111111111,
              "#46039f"
             ],
             [
              0.2222222222222222,
              "#7201a8"
             ],
             [
              0.3333333333333333,
              "#9c179e"
             ],
             [
              0.4444444444444444,
              "#bd3786"
             ],
             [
              0.5555555555555556,
              "#d8576b"
             ],
             [
              0.6666666666666666,
              "#ed7953"
             ],
             [
              0.7777777777777778,
              "#fb9f3a"
             ],
             [
              0.8888888888888888,
              "#fdca26"
             ],
             [
              1,
              "#f0f921"
             ]
            ],
            "type": "heatmapgl"
           }
          ],
          "histogram": [
           {
            "marker": {
             "pattern": {
              "fillmode": "overlay",
              "size": 10,
              "solidity": 0.2
             }
            },
            "type": "histogram"
           }
          ],
          "histogram2d": [
           {
            "colorbar": {
             "outlinewidth": 0,
             "ticks": ""
            },
            "colorscale": [
             [
              0,
              "#0d0887"
             ],
             [
              0.1111111111111111,
              "#46039f"
             ],
             [
              0.2222222222222222,
              "#7201a8"
             ],
             [
              0.3333333333333333,
              "#9c179e"
             ],
             [
              0.4444444444444444,
              "#bd3786"
             ],
             [
              0.5555555555555556,
              "#d8576b"
             ],
             [
              0.6666666666666666,
              "#ed7953"
             ],
             [
              0.7777777777777778,
              "#fb9f3a"
             ],
             [
              0.8888888888888888,
              "#fdca26"
             ],
             [
              1,
              "#f0f921"
             ]
            ],
            "type": "histogram2d"
           }
          ],
          "histogram2dcontour": [
           {
            "colorbar": {
             "outlinewidth": 0,
             "ticks": ""
            },
            "colorscale": [
             [
              0,
              "#0d0887"
             ],
             [
              0.1111111111111111,
              "#46039f"
             ],
             [
              0.2222222222222222,
              "#7201a8"
             ],
             [
              0.3333333333333333,
              "#9c179e"
             ],
             [
              0.4444444444444444,
              "#bd3786"
             ],
             [
              0.5555555555555556,
              "#d8576b"
             ],
             [
              0.6666666666666666,
              "#ed7953"
             ],
             [
              0.7777777777777778,
              "#fb9f3a"
             ],
             [
              0.8888888888888888,
              "#fdca26"
             ],
             [
              1,
              "#f0f921"
             ]
            ],
            "type": "histogram2dcontour"
           }
          ],
          "mesh3d": [
           {
            "colorbar": {
             "outlinewidth": 0,
             "ticks": ""
            },
            "type": "mesh3d"
           }
          ],
          "parcoords": [
           {
            "line": {
             "colorbar": {
              "outlinewidth": 0,
              "ticks": ""
             }
            },
            "type": "parcoords"
           }
          ],
          "pie": [
           {
            "automargin": true,
            "type": "pie"
           }
          ],
          "scatter": [
           {
            "fillpattern": {
             "fillmode": "overlay",
             "size": 10,
             "solidity": 0.2
            },
            "type": "scatter"
           }
          ],
          "scatter3d": [
           {
            "line": {
             "colorbar": {
              "outlinewidth": 0,
              "ticks": ""
             }
            },
            "marker": {
             "colorbar": {
              "outlinewidth": 0,
              "ticks": ""
             }
            },
            "type": "scatter3d"
           }
          ],
          "scattercarpet": [
           {
            "marker": {
             "colorbar": {
              "outlinewidth": 0,
              "ticks": ""
             }
            },
            "type": "scattercarpet"
           }
          ],
          "scattergeo": [
           {
            "marker": {
             "colorbar": {
              "outlinewidth": 0,
              "ticks": ""
             }
            },
            "type": "scattergeo"
           }
          ],
          "scattergl": [
           {
            "marker": {
             "colorbar": {
              "outlinewidth": 0,
              "ticks": ""
             }
            },
            "type": "scattergl"
           }
          ],
          "scattermapbox": [
           {
            "marker": {
             "colorbar": {
              "outlinewidth": 0,
              "ticks": ""
             }
            },
            "type": "scattermapbox"
           }
          ],
          "scatterpolar": [
           {
            "marker": {
             "colorbar": {
              "outlinewidth": 0,
              "ticks": ""
             }
            },
            "type": "scatterpolar"
           }
          ],
          "scatterpolargl": [
           {
            "marker": {
             "colorbar": {
              "outlinewidth": 0,
              "ticks": ""
             }
            },
            "type": "scatterpolargl"
           }
          ],
          "scatterternary": [
           {
            "marker": {
             "colorbar": {
              "outlinewidth": 0,
              "ticks": ""
             }
            },
            "type": "scatterternary"
           }
          ],
          "surface": [
           {
            "colorbar": {
             "outlinewidth": 0,
             "ticks": ""
            },
            "colorscale": [
             [
              0,
              "#0d0887"
             ],
             [
              0.1111111111111111,
              "#46039f"
             ],
             [
              0.2222222222222222,
              "#7201a8"
             ],
             [
              0.3333333333333333,
              "#9c179e"
             ],
             [
              0.4444444444444444,
              "#bd3786"
             ],
             [
              0.5555555555555556,
              "#d8576b"
             ],
             [
              0.6666666666666666,
              "#ed7953"
             ],
             [
              0.7777777777777778,
              "#fb9f3a"
             ],
             [
              0.8888888888888888,
              "#fdca26"
             ],
             [
              1,
              "#f0f921"
             ]
            ],
            "type": "surface"
           }
          ],
          "table": [
           {
            "cells": {
             "fill": {
              "color": "#EBF0F8"
             },
             "line": {
              "color": "white"
             }
            },
            "header": {
             "fill": {
              "color": "#C8D4E3"
             },
             "line": {
              "color": "white"
             }
            },
            "type": "table"
           }
          ]
         },
         "layout": {
          "annotationdefaults": {
           "arrowcolor": "#2a3f5f",
           "arrowhead": 0,
           "arrowwidth": 1
          },
          "autotypenumbers": "strict",
          "coloraxis": {
           "colorbar": {
            "outlinewidth": 0,
            "ticks": ""
           }
          },
          "colorscale": {
           "diverging": [
            [
             0,
             "#8e0152"
            ],
            [
             0.1,
             "#c51b7d"
            ],
            [
             0.2,
             "#de77ae"
            ],
            [
             0.3,
             "#f1b6da"
            ],
            [
             0.4,
             "#fde0ef"
            ],
            [
             0.5,
             "#f7f7f7"
            ],
            [
             0.6,
             "#e6f5d0"
            ],
            [
             0.7,
             "#b8e186"
            ],
            [
             0.8,
             "#7fbc41"
            ],
            [
             0.9,
             "#4d9221"
            ],
            [
             1,
             "#276419"
            ]
           ],
           "sequential": [
            [
             0,
             "#0d0887"
            ],
            [
             0.1111111111111111,
             "#46039f"
            ],
            [
             0.2222222222222222,
             "#7201a8"
            ],
            [
             0.3333333333333333,
             "#9c179e"
            ],
            [
             0.4444444444444444,
             "#bd3786"
            ],
            [
             0.5555555555555556,
             "#d8576b"
            ],
            [
             0.6666666666666666,
             "#ed7953"
            ],
            [
             0.7777777777777778,
             "#fb9f3a"
            ],
            [
             0.8888888888888888,
             "#fdca26"
            ],
            [
             1,
             "#f0f921"
            ]
           ],
           "sequentialminus": [
            [
             0,
             "#0d0887"
            ],
            [
             0.1111111111111111,
             "#46039f"
            ],
            [
             0.2222222222222222,
             "#7201a8"
            ],
            [
             0.3333333333333333,
             "#9c179e"
            ],
            [
             0.4444444444444444,
             "#bd3786"
            ],
            [
             0.5555555555555556,
             "#d8576b"
            ],
            [
             0.6666666666666666,
             "#ed7953"
            ],
            [
             0.7777777777777778,
             "#fb9f3a"
            ],
            [
             0.8888888888888888,
             "#fdca26"
            ],
            [
             1,
             "#f0f921"
            ]
           ]
          },
          "colorway": [
           "#636efa",
           "#EF553B",
           "#00cc96",
           "#ab63fa",
           "#FFA15A",
           "#19d3f3",
           "#FF6692",
           "#B6E880",
           "#FF97FF",
           "#FECB52"
          ],
          "font": {
           "color": "#2a3f5f"
          },
          "geo": {
           "bgcolor": "white",
           "lakecolor": "white",
           "landcolor": "#E5ECF6",
           "showlakes": true,
           "showland": true,
           "subunitcolor": "white"
          },
          "hoverlabel": {
           "align": "left"
          },
          "hovermode": "closest",
          "mapbox": {
           "style": "light"
          },
          "paper_bgcolor": "white",
          "plot_bgcolor": "#E5ECF6",
          "polar": {
           "angularaxis": {
            "gridcolor": "white",
            "linecolor": "white",
            "ticks": ""
           },
           "bgcolor": "#E5ECF6",
           "radialaxis": {
            "gridcolor": "white",
            "linecolor": "white",
            "ticks": ""
           }
          },
          "scene": {
           "xaxis": {
            "backgroundcolor": "#E5ECF6",
            "gridcolor": "white",
            "gridwidth": 2,
            "linecolor": "white",
            "showbackground": true,
            "ticks": "",
            "zerolinecolor": "white"
           },
           "yaxis": {
            "backgroundcolor": "#E5ECF6",
            "gridcolor": "white",
            "gridwidth": 2,
            "linecolor": "white",
            "showbackground": true,
            "ticks": "",
            "zerolinecolor": "white"
           },
           "zaxis": {
            "backgroundcolor": "#E5ECF6",
            "gridcolor": "white",
            "gridwidth": 2,
            "linecolor": "white",
            "showbackground": true,
            "ticks": "",
            "zerolinecolor": "white"
           }
          },
          "shapedefaults": {
           "line": {
            "color": "#2a3f5f"
           }
          },
          "ternary": {
           "aaxis": {
            "gridcolor": "white",
            "linecolor": "white",
            "ticks": ""
           },
           "baxis": {
            "gridcolor": "white",
            "linecolor": "white",
            "ticks": ""
           },
           "bgcolor": "#E5ECF6",
           "caxis": {
            "gridcolor": "white",
            "linecolor": "white",
            "ticks": ""
           }
          },
          "title": {
           "x": 0.05
          },
          "xaxis": {
           "automargin": true,
           "gridcolor": "white",
           "linecolor": "white",
           "ticks": "",
           "title": {
            "standoff": 15
           },
           "zerolinecolor": "white",
           "zerolinewidth": 2
          },
          "yaxis": {
           "automargin": true,
           "gridcolor": "white",
           "linecolor": "white",
           "ticks": "",
           "title": {
            "standoff": 15
           },
           "zerolinecolor": "white",
           "zerolinewidth": 2
          }
         }
        },
        "title": {
         "text": "Chart: line plot of Time and AverageMortgageAmount by Geography"
        },
        "xaxis": {
         "anchor": "y",
         "domain": [
          0,
          1
         ],
         "tickangle": -45,
         "title": {
          "text": "Time"
         }
        },
        "yaxis": {
         "anchor": "x",
         "domain": [
          0,
          1
         ],
         "title": {
          "text": "AverageMortgageAmount"
         }
        }
       }
      }
     },
     "metadata": {},
     "output_type": "display_data"
    },
    {
     "data": {
      "application/vnd.plotly.v1+json": {
       "config": {
        "plotlyServerURL": "https://plot.ly"
       },
       "data": [
        {
         "alignmentgroup": "True",
         "hovertemplate": "<b>%{hovertext}</b><br><br>Geography=%{x}<br>AverageMortgageAmount=%{y}<extra></extra>",
         "hovertext": [
          "2012Q3",
          "2012Q4",
          "2013Q1",
          "2013Q2",
          "2013Q3",
          "2013Q4",
          "2014Q1",
          "2014Q2",
          "2014Q3",
          "2014Q4",
          "2015Q1",
          "2015Q2",
          "2015Q3",
          "2015Q4",
          "2016Q1",
          "2016Q2",
          "2016Q3",
          "2016Q4",
          "2017Q1",
          "2017Q2",
          "2017Q3",
          "2017Q4",
          "2018Q1",
          "2018Q2",
          "2018Q3",
          "2018Q4",
          "2019Q1",
          "2019Q2",
          "2019Q3",
          "2019Q4",
          "2020Q1",
          "2020Q2",
          "2020Q3"
         ],
         "legendgroup": "Newfoundland",
         "marker": {
          "color": "#636efa"
         },
         "name": "Newfoundland",
         "notched": false,
         "offsetgroup": "Newfoundland",
         "orientation": "v",
         "showlegend": true,
         "type": "box",
         "x": [
          "Newfoundland",
          "Newfoundland",
          "Newfoundland",
          "Newfoundland",
          "Newfoundland",
          "Newfoundland",
          "Newfoundland",
          "Newfoundland",
          "Newfoundland",
          "Newfoundland",
          "Newfoundland",
          "Newfoundland",
          "Newfoundland",
          "Newfoundland",
          "Newfoundland",
          "Newfoundland",
          "Newfoundland",
          "Newfoundland",
          "Newfoundland",
          "Newfoundland",
          "Newfoundland",
          "Newfoundland",
          "Newfoundland",
          "Newfoundland",
          "Newfoundland",
          "Newfoundland",
          "Newfoundland",
          "Newfoundland",
          "Newfoundland",
          "Newfoundland",
          "Newfoundland",
          "Newfoundland",
          "Newfoundland"
         ],
         "x0": " ",
         "xaxis": "x",
         "y": [
          188732,
          185794,
          189098,
          181331,
          191818,
          193100,
          195479,
          192856,
          199560,
          200310,
          197406,
          193956,
          199758,
          202487,
          196798,
          196806,
          198265,
          197794,
          192057,
          191412,
          200378,
          193619,
          196431,
          192252,
          192106,
          188614,
          185276,
          190582,
          194536,
          193870,
          186268,
          187431,
          196100
         ],
         "y0": " ",
         "yaxis": "y"
        },
        {
         "alignmentgroup": "True",
         "hovertemplate": "<b>%{hovertext}</b><br><br>Geography=%{x}<br>AverageMortgageAmount=%{y}<extra></extra>",
         "hovertext": [
          "2012Q3",
          "2012Q4",
          "2013Q1",
          "2013Q2",
          "2013Q3",
          "2013Q4",
          "2014Q1",
          "2014Q2",
          "2014Q3",
          "2014Q4",
          "2015Q1",
          "2015Q2",
          "2015Q3",
          "2015Q4",
          "2016Q1",
          "2016Q2",
          "2016Q3",
          "2016Q4",
          "2017Q1",
          "2017Q2",
          "2017Q3",
          "2017Q4",
          "2018Q1",
          "2018Q2",
          "2018Q3",
          "2018Q4",
          "2019Q1",
          "2019Q2",
          "2019Q3",
          "2019Q4",
          "2020Q1",
          "2020Q2",
          "2020Q3"
         ],
         "legendgroup": "Prince Edward Island",
         "marker": {
          "color": "#EF553B"
         },
         "name": "Prince Edward Island",
         "notched": false,
         "offsetgroup": "Prince Edward Island",
         "orientation": "v",
         "showlegend": true,
         "type": "box",
         "x": [
          "Prince Edward Island",
          "Prince Edward Island",
          "Prince Edward Island",
          "Prince Edward Island",
          "Prince Edward Island",
          "Prince Edward Island",
          "Prince Edward Island",
          "Prince Edward Island",
          "Prince Edward Island",
          "Prince Edward Island",
          "Prince Edward Island",
          "Prince Edward Island",
          "Prince Edward Island",
          "Prince Edward Island",
          "Prince Edward Island",
          "Prince Edward Island",
          "Prince Edward Island",
          "Prince Edward Island",
          "Prince Edward Island",
          "Prince Edward Island",
          "Prince Edward Island",
          "Prince Edward Island",
          "Prince Edward Island",
          "Prince Edward Island",
          "Prince Edward Island",
          "Prince Edward Island",
          "Prince Edward Island",
          "Prince Edward Island",
          "Prince Edward Island",
          "Prince Edward Island",
          "Prince Edward Island",
          "Prince Edward Island",
          "Prince Edward Island"
         ],
         "x0": " ",
         "xaxis": "x",
         "y": [
          140279,
          138415,
          137162,
          126763,
          139506,
          141453,
          141141,
          137427,
          143320,
          141232,
          146885,
          146818,
          150403,
          155926,
          157322,
          150732,
          169651,
          155799,
          175124,
          174901,
          176919,
          175523,
          179179,
          182114,
          181967,
          178140,
          181172,
          181358,
          190715,
          185934,
          193439,
          189309,
          204415
         ],
         "y0": " ",
         "yaxis": "y"
        },
        {
         "alignmentgroup": "True",
         "hovertemplate": "<b>%{hovertext}</b><br><br>Geography=%{x}<br>AverageMortgageAmount=%{y}<extra></extra>",
         "hovertext": [
          "2012Q3",
          "2012Q4",
          "2013Q1",
          "2013Q2",
          "2013Q3",
          "2013Q4",
          "2014Q1",
          "2014Q2",
          "2014Q3",
          "2014Q4",
          "2015Q1",
          "2015Q2",
          "2015Q3",
          "2015Q4",
          "2016Q1",
          "2016Q2",
          "2016Q3",
          "2016Q4",
          "2017Q1",
          "2017Q2",
          "2017Q3",
          "2017Q4",
          "2018Q1",
          "2018Q2",
          "2018Q3",
          "2018Q4",
          "2019Q1",
          "2019Q2",
          "2019Q3",
          "2019Q4",
          "2020Q1",
          "2020Q2",
          "2020Q3"
         ],
         "legendgroup": "Nova Scotia",
         "marker": {
          "color": "#00cc96"
         },
         "name": "Nova Scotia",
         "notched": false,
         "offsetgroup": "Nova Scotia",
         "orientation": "v",
         "showlegend": true,
         "type": "box",
         "x": [
          "Nova Scotia",
          "Nova Scotia",
          "Nova Scotia",
          "Nova Scotia",
          "Nova Scotia",
          "Nova Scotia",
          "Nova Scotia",
          "Nova Scotia",
          "Nova Scotia",
          "Nova Scotia",
          "Nova Scotia",
          "Nova Scotia",
          "Nova Scotia",
          "Nova Scotia",
          "Nova Scotia",
          "Nova Scotia",
          "Nova Scotia",
          "Nova Scotia",
          "Nova Scotia",
          "Nova Scotia",
          "Nova Scotia",
          "Nova Scotia",
          "Nova Scotia",
          "Nova Scotia",
          "Nova Scotia",
          "Nova Scotia",
          "Nova Scotia",
          "Nova Scotia",
          "Nova Scotia",
          "Nova Scotia",
          "Nova Scotia",
          "Nova Scotia",
          "Nova Scotia"
         ],
         "x0": " ",
         "xaxis": "x",
         "y": [
          174688,
          160046,
          158806,
          159945,
          166426,
          160189,
          161383,
          157664,
          172827,
          163584,
          163607,
          165288,
          178091,
          172863,
          167596,
          168948,
          178784,
          173305,
          186024,
          182526,
          194802,
          188559,
          185858,
          179407,
          190443,
          179921,
          177863,
          180958,
          193586,
          190168,
          188267,
          192060,
          207877
         ],
         "y0": " ",
         "yaxis": "y"
        },
        {
         "alignmentgroup": "True",
         "hovertemplate": "<b>%{hovertext}</b><br><br>Geography=%{x}<br>AverageMortgageAmount=%{y}<extra></extra>",
         "hovertext": [
          "2012Q3",
          "2012Q4",
          "2013Q1",
          "2013Q2",
          "2013Q3",
          "2013Q4",
          "2014Q1",
          "2014Q2",
          "2014Q3",
          "2014Q4",
          "2015Q1",
          "2015Q2",
          "2015Q3",
          "2015Q4",
          "2016Q1",
          "2016Q2",
          "2016Q3",
          "2016Q4",
          "2017Q1",
          "2017Q2",
          "2017Q3",
          "2017Q4",
          "2018Q1",
          "2018Q2",
          "2018Q3",
          "2018Q4",
          "2019Q1",
          "2019Q2",
          "2019Q3",
          "2019Q4",
          "2020Q1",
          "2020Q2",
          "2020Q3"
         ],
         "legendgroup": "New Brunswick",
         "marker": {
          "color": "#ab63fa"
         },
         "name": "New Brunswick",
         "notched": false,
         "offsetgroup": "New Brunswick",
         "orientation": "v",
         "showlegend": true,
         "type": "box",
         "x": [
          "New Brunswick",
          "New Brunswick",
          "New Brunswick",
          "New Brunswick",
          "New Brunswick",
          "New Brunswick",
          "New Brunswick",
          "New Brunswick",
          "New Brunswick",
          "New Brunswick",
          "New Brunswick",
          "New Brunswick",
          "New Brunswick",
          "New Brunswick",
          "New Brunswick",
          "New Brunswick",
          "New Brunswick",
          "New Brunswick",
          "New Brunswick",
          "New Brunswick",
          "New Brunswick",
          "New Brunswick",
          "New Brunswick",
          "New Brunswick",
          "New Brunswick",
          "New Brunswick",
          "New Brunswick",
          "New Brunswick",
          "New Brunswick",
          "New Brunswick",
          "New Brunswick",
          "New Brunswick",
          "New Brunswick"
         ],
         "x0": " ",
         "xaxis": "x",
         "y": [
          133390,
          126138,
          124645,
          122572,
          131542,
          128155,
          127766,
          124221,
          135592,
          132766,
          132025,
          128378,
          137565,
          137039,
          132325,
          133027,
          143533,
          140124,
          141196,
          135748,
          147934,
          142799,
          139711,
          139750,
          150353,
          143324,
          140850,
          137809,
          152606,
          147047,
          146701,
          149590,
          160349
         ],
         "y0": " ",
         "yaxis": "y"
        },
        {
         "alignmentgroup": "True",
         "hovertemplate": "<b>%{hovertext}</b><br><br>Geography=%{x}<br>AverageMortgageAmount=%{y}<extra></extra>",
         "hovertext": [
          "2012Q3",
          "2012Q4",
          "2013Q1",
          "2013Q2",
          "2013Q3",
          "2013Q4",
          "2014Q1",
          "2014Q2",
          "2014Q3",
          "2014Q4",
          "2015Q1",
          "2015Q2",
          "2015Q3",
          "2015Q4",
          "2016Q1",
          "2016Q2",
          "2016Q3",
          "2016Q4",
          "2017Q1",
          "2017Q2",
          "2017Q3",
          "2017Q4",
          "2018Q1",
          "2018Q2",
          "2018Q3",
          "2018Q4",
          "2019Q1",
          "2019Q2",
          "2019Q3",
          "2019Q4",
          "2020Q1",
          "2020Q2",
          "2020Q3"
         ],
         "legendgroup": "Québec",
         "marker": {
          "color": "#FFA15A"
         },
         "name": "Québec",
         "notched": false,
         "offsetgroup": "Québec",
         "orientation": "v",
         "showlegend": true,
         "type": "box",
         "x": [
          "Québec",
          "Québec",
          "Québec",
          "Québec",
          "Québec",
          "Québec",
          "Québec",
          "Québec",
          "Québec",
          "Québec",
          "Québec",
          "Québec",
          "Québec",
          "Québec",
          "Québec",
          "Québec",
          "Québec",
          "Québec",
          "Québec",
          "Québec",
          "Québec",
          "Québec",
          "Québec",
          "Québec",
          "Québec",
          "Québec",
          "Québec",
          "Québec",
          "Québec",
          "Québec",
          "Québec",
          "Québec",
          "Québec"
         ],
         "x0": " ",
         "xaxis": "x",
         "y": [
          159661,
          153413,
          153909,
          155016,
          160147,
          155512,
          156424,
          160165,
          166426,
          160073,
          161563,
          164764,
          170403,
          164235,
          167154,
          169326,
          176522,
          170309,
          171992,
          171716,
          177306,
          173182,
          175297,
          183507,
          187727,
          173911,
          175658,
          179523,
          187136,
          183501,
          189390,
          195538,
          203861
         ],
         "y0": " ",
         "yaxis": "y"
        },
        {
         "alignmentgroup": "True",
         "hovertemplate": "<b>%{hovertext}</b><br><br>Geography=%{x}<br>AverageMortgageAmount=%{y}<extra></extra>",
         "hovertext": [
          "2012Q3",
          "2012Q4",
          "2013Q1",
          "2013Q2",
          "2013Q3",
          "2013Q4",
          "2014Q1",
          "2014Q2",
          "2014Q3",
          "2014Q4",
          "2015Q1",
          "2015Q2",
          "2015Q3",
          "2015Q4",
          "2016Q1",
          "2016Q2",
          "2016Q3",
          "2016Q4",
          "2017Q1",
          "2017Q2",
          "2017Q3",
          "2017Q4",
          "2018Q1",
          "2018Q2",
          "2018Q3",
          "2018Q4",
          "2019Q1",
          "2019Q2",
          "2019Q3",
          "2019Q4",
          "2020Q1",
          "2020Q2",
          "2020Q3"
         ],
         "legendgroup": "Ontario",
         "marker": {
          "color": "#19d3f3"
         },
         "name": "Ontario",
         "notched": false,
         "offsetgroup": "Ontario",
         "orientation": "v",
         "showlegend": true,
         "type": "box",
         "x": [
          "Ontario",
          "Ontario",
          "Ontario",
          "Ontario",
          "Ontario",
          "Ontario",
          "Ontario",
          "Ontario",
          "Ontario",
          "Ontario",
          "Ontario",
          "Ontario",
          "Ontario",
          "Ontario",
          "Ontario",
          "Ontario",
          "Ontario",
          "Ontario",
          "Ontario",
          "Ontario",
          "Ontario",
          "Ontario",
          "Ontario",
          "Ontario",
          "Ontario",
          "Ontario",
          "Ontario",
          "Ontario",
          "Ontario",
          "Ontario",
          "Ontario",
          "Ontario",
          "Ontario"
         ],
         "x0": " ",
         "xaxis": "x",
         "y": [
          247455,
          235667,
          233122,
          230770,
          249054,
          244060,
          244077,
          240828,
          262838,
          257244,
          254854,
          259093,
          281259,
          277802,
          278626,
          285024,
          307369,
          310236,
          319009,
          326645,
          338561,
          323821,
          322179,
          315576,
          327367,
          321579,
          321074,
          324080,
          343117,
          343768,
          348272,
          363432,
          373371
         ],
         "y0": " ",
         "yaxis": "y"
        },
        {
         "alignmentgroup": "True",
         "hovertemplate": "<b>%{hovertext}</b><br><br>Geography=%{x}<br>AverageMortgageAmount=%{y}<extra></extra>",
         "hovertext": [
          "2012Q3",
          "2012Q4",
          "2013Q1",
          "2013Q2",
          "2013Q3",
          "2013Q4",
          "2014Q1",
          "2014Q2",
          "2014Q3",
          "2014Q4",
          "2015Q1",
          "2015Q2",
          "2015Q3",
          "2015Q4",
          "2016Q1",
          "2016Q2",
          "2016Q3",
          "2016Q4",
          "2017Q1",
          "2017Q2",
          "2017Q3",
          "2017Q4",
          "2018Q1",
          "2018Q2",
          "2018Q3",
          "2018Q4",
          "2019Q1",
          "2019Q2",
          "2019Q3",
          "2019Q4",
          "2020Q1",
          "2020Q2",
          "2020Q3"
         ],
         "legendgroup": "Manitoba",
         "marker": {
          "color": "#FF6692"
         },
         "name": "Manitoba",
         "notched": false,
         "offsetgroup": "Manitoba",
         "orientation": "v",
         "showlegend": true,
         "type": "box",
         "x": [
          "Manitoba",
          "Manitoba",
          "Manitoba",
          "Manitoba",
          "Manitoba",
          "Manitoba",
          "Manitoba",
          "Manitoba",
          "Manitoba",
          "Manitoba",
          "Manitoba",
          "Manitoba",
          "Manitoba",
          "Manitoba",
          "Manitoba",
          "Manitoba",
          "Manitoba",
          "Manitoba",
          "Manitoba",
          "Manitoba",
          "Manitoba",
          "Manitoba",
          "Manitoba",
          "Manitoba",
          "Manitoba",
          "Manitoba",
          "Manitoba",
          "Manitoba",
          "Manitoba",
          "Manitoba",
          "Manitoba",
          "Manitoba",
          "Manitoba"
         ],
         "x0": " ",
         "xaxis": "x",
         "y": [
          188298,
          181097,
          177560,
          177517,
          192732,
          189570,
          188107,
          184554,
          200051,
          197527,
          191444,
          190383,
          206275,
          201640,
          193970,
          196385,
          209051,
          206958,
          203999,
          205085,
          216750,
          217136,
          207988,
          207436,
          220454,
          214060,
          206692,
          214873,
          222637,
          218918,
          212508,
          217416,
          232725
         ],
         "y0": " ",
         "yaxis": "y"
        },
        {
         "alignmentgroup": "True",
         "hovertemplate": "<b>%{hovertext}</b><br><br>Geography=%{x}<br>AverageMortgageAmount=%{y}<extra></extra>",
         "hovertext": [
          "2012Q3",
          "2012Q4",
          "2013Q1",
          "2013Q2",
          "2013Q3",
          "2013Q4",
          "2014Q1",
          "2014Q2",
          "2014Q3",
          "2014Q4",
          "2015Q1",
          "2015Q2",
          "2015Q3",
          "2015Q4",
          "2016Q1",
          "2016Q2",
          "2016Q3",
          "2016Q4",
          "2017Q1",
          "2017Q2",
          "2017Q3",
          "2017Q4",
          "2018Q1",
          "2018Q2",
          "2018Q3",
          "2018Q4",
          "2019Q1",
          "2019Q2",
          "2019Q3",
          "2019Q4",
          "2020Q1",
          "2020Q2",
          "2020Q3"
         ],
         "legendgroup": "Saskatchewan",
         "marker": {
          "color": "#B6E880"
         },
         "name": "Saskatchewan",
         "notched": false,
         "offsetgroup": "Saskatchewan",
         "orientation": "v",
         "showlegend": true,
         "type": "box",
         "x": [
          "Saskatchewan",
          "Saskatchewan",
          "Saskatchewan",
          "Saskatchewan",
          "Saskatchewan",
          "Saskatchewan",
          "Saskatchewan",
          "Saskatchewan",
          "Saskatchewan",
          "Saskatchewan",
          "Saskatchewan",
          "Saskatchewan",
          "Saskatchewan",
          "Saskatchewan",
          "Saskatchewan",
          "Saskatchewan",
          "Saskatchewan",
          "Saskatchewan",
          "Saskatchewan",
          "Saskatchewan",
          "Saskatchewan",
          "Saskatchewan",
          "Saskatchewan",
          "Saskatchewan",
          "Saskatchewan",
          "Saskatchewan",
          "Saskatchewan",
          "Saskatchewan",
          "Saskatchewan",
          "Saskatchewan",
          "Saskatchewan",
          "Saskatchewan",
          "Saskatchewan"
         ],
         "x0": " ",
         "xaxis": "x",
         "y": [
          217945,
          213126,
          206354,
          211979,
          224868,
          225414,
          226559,
          218781,
          231768,
          233854,
          228569,
          226957,
          234840,
          231611,
          225641,
          230729,
          236380,
          232174,
          234786,
          233545,
          238533,
          234340,
          230702,
          229851,
          233255,
          223628,
          217157,
          216369,
          228721,
          224315,
          216188,
          225641,
          237386
         ],
         "y0": " ",
         "yaxis": "y"
        },
        {
         "alignmentgroup": "True",
         "hovertemplate": "<b>%{hovertext}</b><br><br>Geography=%{x}<br>AverageMortgageAmount=%{y}<extra></extra>",
         "hovertext": [
          "2012Q3",
          "2012Q4",
          "2013Q1",
          "2013Q2",
          "2013Q3",
          "2013Q4",
          "2014Q1",
          "2014Q2",
          "2014Q3",
          "2014Q4",
          "2015Q1",
          "2015Q2",
          "2015Q3",
          "2015Q4",
          "2016Q1",
          "2016Q2",
          "2016Q3",
          "2016Q4",
          "2017Q1",
          "2017Q2",
          "2017Q3",
          "2017Q4",
          "2018Q1",
          "2018Q2",
          "2018Q3",
          "2018Q4",
          "2019Q1",
          "2019Q2",
          "2019Q3",
          "2019Q4",
          "2020Q1",
          "2020Q2",
          "2020Q3"
         ],
         "legendgroup": "Alberta",
         "marker": {
          "color": "#FF97FF"
         },
         "name": "Alberta",
         "notched": false,
         "offsetgroup": "Alberta",
         "orientation": "v",
         "showlegend": true,
         "type": "box",
         "x": [
          "Alberta",
          "Alberta",
          "Alberta",
          "Alberta",
          "Alberta",
          "Alberta",
          "Alberta",
          "Alberta",
          "Alberta",
          "Alberta",
          "Alberta",
          "Alberta",
          "Alberta",
          "Alberta",
          "Alberta",
          "Alberta",
          "Alberta",
          "Alberta",
          "Alberta",
          "Alberta",
          "Alberta",
          "Alberta",
          "Alberta",
          "Alberta",
          "Alberta",
          "Alberta",
          "Alberta",
          "Alberta",
          "Alberta",
          "Alberta",
          "Alberta",
          "Alberta",
          "Alberta"
         ],
         "x0": " ",
         "xaxis": "x",
         "y": [
          282371,
          277555,
          277158,
          278516,
          289263,
          284928,
          291926,
          290722,
          304374,
          305558,
          303976,
          299837,
          309953,
          303244,
          296111,
          298884,
          304683,
          302095,
          301254,
          300115,
          307837,
          307662,
          302814,
          302116,
          305101,
          295839,
          291721,
          293612,
          297609,
          297552,
          291747,
          296269,
          305600
         ],
         "y0": " ",
         "yaxis": "y"
        },
        {
         "alignmentgroup": "True",
         "hovertemplate": "<b>%{hovertext}</b><br><br>Geography=%{x}<br>AverageMortgageAmount=%{y}<extra></extra>",
         "hovertext": [
          "2012Q3",
          "2012Q4",
          "2013Q1",
          "2013Q2",
          "2013Q3",
          "2013Q4",
          "2014Q1",
          "2014Q2",
          "2014Q3",
          "2014Q4",
          "2015Q1",
          "2015Q2",
          "2015Q3",
          "2015Q4",
          "2016Q1",
          "2016Q2",
          "2016Q3",
          "2016Q4",
          "2017Q1",
          "2017Q2",
          "2017Q3",
          "2017Q4",
          "2018Q1",
          "2018Q2",
          "2018Q3",
          "2018Q4",
          "2019Q1",
          "2019Q2",
          "2019Q3",
          "2019Q4",
          "2020Q1",
          "2020Q2",
          "2020Q3"
         ],
         "legendgroup": "British Columbia",
         "marker": {
          "color": "#FECB52"
         },
         "name": "British Columbia",
         "notched": false,
         "offsetgroup": "British Columbia",
         "orientation": "v",
         "showlegend": true,
         "type": "box",
         "x": [
          "British Columbia",
          "British Columbia",
          "British Columbia",
          "British Columbia",
          "British Columbia",
          "British Columbia",
          "British Columbia",
          "British Columbia",
          "British Columbia",
          "British Columbia",
          "British Columbia",
          "British Columbia",
          "British Columbia",
          "British Columbia",
          "British Columbia",
          "British Columbia",
          "British Columbia",
          "British Columbia",
          "British Columbia",
          "British Columbia",
          "British Columbia",
          "British Columbia",
          "British Columbia",
          "British Columbia",
          "British Columbia",
          "British Columbia",
          "British Columbia",
          "British Columbia",
          "British Columbia",
          "British Columbia",
          "British Columbia",
          "British Columbia",
          "British Columbia"
         ],
         "x0": " ",
         "xaxis": "x",
         "y": [
          305427,
          289864,
          286652,
          290928,
          303663,
          305256,
          309374,
          305138,
          321625,
          323373,
          325035,
          328540,
          350672,
          357016,
          368782,
          385910,
          395297,
          366703,
          358655,
          369174,
          389430,
          381223,
          384794,
          371860,
          378187,
          364330,
          363239,
          363924,
          376343,
          386494,
          393711,
          397853,
          417004
         ],
         "y0": " ",
         "yaxis": "y"
        }
       ],
       "layout": {
        "boxmode": "overlay",
        "legend": {
         "title": {
          "text": "Geography"
         },
         "tracegroupgap": 0
        },
        "margin": {
         "t": 60
        },
        "template": {
         "data": {
          "bar": [
           {
            "error_x": {
             "color": "#2a3f5f"
            },
            "error_y": {
             "color": "#2a3f5f"
            },
            "marker": {
             "line": {
              "color": "#E5ECF6",
              "width": 0.5
             },
             "pattern": {
              "fillmode": "overlay",
              "size": 10,
              "solidity": 0.2
             }
            },
            "type": "bar"
           }
          ],
          "barpolar": [
           {
            "marker": {
             "line": {
              "color": "#E5ECF6",
              "width": 0.5
             },
             "pattern": {
              "fillmode": "overlay",
              "size": 10,
              "solidity": 0.2
             }
            },
            "type": "barpolar"
           }
          ],
          "carpet": [
           {
            "aaxis": {
             "endlinecolor": "#2a3f5f",
             "gridcolor": "white",
             "linecolor": "white",
             "minorgridcolor": "white",
             "startlinecolor": "#2a3f5f"
            },
            "baxis": {
             "endlinecolor": "#2a3f5f",
             "gridcolor": "white",
             "linecolor": "white",
             "minorgridcolor": "white",
             "startlinecolor": "#2a3f5f"
            },
            "type": "carpet"
           }
          ],
          "choropleth": [
           {
            "colorbar": {
             "outlinewidth": 0,
             "ticks": ""
            },
            "type": "choropleth"
           }
          ],
          "contour": [
           {
            "colorbar": {
             "outlinewidth": 0,
             "ticks": ""
            },
            "colorscale": [
             [
              0,
              "#0d0887"
             ],
             [
              0.1111111111111111,
              "#46039f"
             ],
             [
              0.2222222222222222,
              "#7201a8"
             ],
             [
              0.3333333333333333,
              "#9c179e"
             ],
             [
              0.4444444444444444,
              "#bd3786"
             ],
             [
              0.5555555555555556,
              "#d8576b"
             ],
             [
              0.6666666666666666,
              "#ed7953"
             ],
             [
              0.7777777777777778,
              "#fb9f3a"
             ],
             [
              0.8888888888888888,
              "#fdca26"
             ],
             [
              1,
              "#f0f921"
             ]
            ],
            "type": "contour"
           }
          ],
          "contourcarpet": [
           {
            "colorbar": {
             "outlinewidth": 0,
             "ticks": ""
            },
            "type": "contourcarpet"
           }
          ],
          "heatmap": [
           {
            "colorbar": {
             "outlinewidth": 0,
             "ticks": ""
            },
            "colorscale": [
             [
              0,
              "#0d0887"
             ],
             [
              0.1111111111111111,
              "#46039f"
             ],
             [
              0.2222222222222222,
              "#7201a8"
             ],
             [
              0.3333333333333333,
              "#9c179e"
             ],
             [
              0.4444444444444444,
              "#bd3786"
             ],
             [
              0.5555555555555556,
              "#d8576b"
             ],
             [
              0.6666666666666666,
              "#ed7953"
             ],
             [
              0.7777777777777778,
              "#fb9f3a"
             ],
             [
              0.8888888888888888,
              "#fdca26"
             ],
             [
              1,
              "#f0f921"
             ]
            ],
            "type": "heatmap"
           }
          ],
          "heatmapgl": [
           {
            "colorbar": {
             "outlinewidth": 0,
             "ticks": ""
            },
            "colorscale": [
             [
              0,
              "#0d0887"
             ],
             [
              0.1111111111111111,
              "#46039f"
             ],
             [
              0.2222222222222222,
              "#7201a8"
             ],
             [
              0.3333333333333333,
              "#9c179e"
             ],
             [
              0.4444444444444444,
              "#bd3786"
             ],
             [
              0.5555555555555556,
              "#d8576b"
             ],
             [
              0.6666666666666666,
              "#ed7953"
             ],
             [
              0.7777777777777778,
              "#fb9f3a"
             ],
             [
              0.8888888888888888,
              "#fdca26"
             ],
             [
              1,
              "#f0f921"
             ]
            ],
            "type": "heatmapgl"
           }
          ],
          "histogram": [
           {
            "marker": {
             "pattern": {
              "fillmode": "overlay",
              "size": 10,
              "solidity": 0.2
             }
            },
            "type": "histogram"
           }
          ],
          "histogram2d": [
           {
            "colorbar": {
             "outlinewidth": 0,
             "ticks": ""
            },
            "colorscale": [
             [
              0,
              "#0d0887"
             ],
             [
              0.1111111111111111,
              "#46039f"
             ],
             [
              0.2222222222222222,
              "#7201a8"
             ],
             [
              0.3333333333333333,
              "#9c179e"
             ],
             [
              0.4444444444444444,
              "#bd3786"
             ],
             [
              0.5555555555555556,
              "#d8576b"
             ],
             [
              0.6666666666666666,
              "#ed7953"
             ],
             [
              0.7777777777777778,
              "#fb9f3a"
             ],
             [
              0.8888888888888888,
              "#fdca26"
             ],
             [
              1,
              "#f0f921"
             ]
            ],
            "type": "histogram2d"
           }
          ],
          "histogram2dcontour": [
           {
            "colorbar": {
             "outlinewidth": 0,
             "ticks": ""
            },
            "colorscale": [
             [
              0,
              "#0d0887"
             ],
             [
              0.1111111111111111,
              "#46039f"
             ],
             [
              0.2222222222222222,
              "#7201a8"
             ],
             [
              0.3333333333333333,
              "#9c179e"
             ],
             [
              0.4444444444444444,
              "#bd3786"
             ],
             [
              0.5555555555555556,
              "#d8576b"
             ],
             [
              0.6666666666666666,
              "#ed7953"
             ],
             [
              0.7777777777777778,
              "#fb9f3a"
             ],
             [
              0.8888888888888888,
              "#fdca26"
             ],
             [
              1,
              "#f0f921"
             ]
            ],
            "type": "histogram2dcontour"
           }
          ],
          "mesh3d": [
           {
            "colorbar": {
             "outlinewidth": 0,
             "ticks": ""
            },
            "type": "mesh3d"
           }
          ],
          "parcoords": [
           {
            "line": {
             "colorbar": {
              "outlinewidth": 0,
              "ticks": ""
             }
            },
            "type": "parcoords"
           }
          ],
          "pie": [
           {
            "automargin": true,
            "type": "pie"
           }
          ],
          "scatter": [
           {
            "fillpattern": {
             "fillmode": "overlay",
             "size": 10,
             "solidity": 0.2
            },
            "type": "scatter"
           }
          ],
          "scatter3d": [
           {
            "line": {
             "colorbar": {
              "outlinewidth": 0,
              "ticks": ""
             }
            },
            "marker": {
             "colorbar": {
              "outlinewidth": 0,
              "ticks": ""
             }
            },
            "type": "scatter3d"
           }
          ],
          "scattercarpet": [
           {
            "marker": {
             "colorbar": {
              "outlinewidth": 0,
              "ticks": ""
             }
            },
            "type": "scattercarpet"
           }
          ],
          "scattergeo": [
           {
            "marker": {
             "colorbar": {
              "outlinewidth": 0,
              "ticks": ""
             }
            },
            "type": "scattergeo"
           }
          ],
          "scattergl": [
           {
            "marker": {
             "colorbar": {
              "outlinewidth": 0,
              "ticks": ""
             }
            },
            "type": "scattergl"
           }
          ],
          "scattermapbox": [
           {
            "marker": {
             "colorbar": {
              "outlinewidth": 0,
              "ticks": ""
             }
            },
            "type": "scattermapbox"
           }
          ],
          "scatterpolar": [
           {
            "marker": {
             "colorbar": {
              "outlinewidth": 0,
              "ticks": ""
             }
            },
            "type": "scatterpolar"
           }
          ],
          "scatterpolargl": [
           {
            "marker": {
             "colorbar": {
              "outlinewidth": 0,
              "ticks": ""
             }
            },
            "type": "scatterpolargl"
           }
          ],
          "scatterternary": [
           {
            "marker": {
             "colorbar": {
              "outlinewidth": 0,
              "ticks": ""
             }
            },
            "type": "scatterternary"
           }
          ],
          "surface": [
           {
            "colorbar": {
             "outlinewidth": 0,
             "ticks": ""
            },
            "colorscale": [
             [
              0,
              "#0d0887"
             ],
             [
              0.1111111111111111,
              "#46039f"
             ],
             [
              0.2222222222222222,
              "#7201a8"
             ],
             [
              0.3333333333333333,
              "#9c179e"
             ],
             [
              0.4444444444444444,
              "#bd3786"
             ],
             [
              0.5555555555555556,
              "#d8576b"
             ],
             [
              0.6666666666666666,
              "#ed7953"
             ],
             [
              0.7777777777777778,
              "#fb9f3a"
             ],
             [
              0.8888888888888888,
              "#fdca26"
             ],
             [
              1,
              "#f0f921"
             ]
            ],
            "type": "surface"
           }
          ],
          "table": [
           {
            "cells": {
             "fill": {
              "color": "#EBF0F8"
             },
             "line": {
              "color": "white"
             }
            },
            "header": {
             "fill": {
              "color": "#C8D4E3"
             },
             "line": {
              "color": "white"
             }
            },
            "type": "table"
           }
          ]
         },
         "layout": {
          "annotationdefaults": {
           "arrowcolor": "#2a3f5f",
           "arrowhead": 0,
           "arrowwidth": 1
          },
          "autotypenumbers": "strict",
          "coloraxis": {
           "colorbar": {
            "outlinewidth": 0,
            "ticks": ""
           }
          },
          "colorscale": {
           "diverging": [
            [
             0,
             "#8e0152"
            ],
            [
             0.1,
             "#c51b7d"
            ],
            [
             0.2,
             "#de77ae"
            ],
            [
             0.3,
             "#f1b6da"
            ],
            [
             0.4,
             "#fde0ef"
            ],
            [
             0.5,
             "#f7f7f7"
            ],
            [
             0.6,
             "#e6f5d0"
            ],
            [
             0.7,
             "#b8e186"
            ],
            [
             0.8,
             "#7fbc41"
            ],
            [
             0.9,
             "#4d9221"
            ],
            [
             1,
             "#276419"
            ]
           ],
           "sequential": [
            [
             0,
             "#0d0887"
            ],
            [
             0.1111111111111111,
             "#46039f"
            ],
            [
             0.2222222222222222,
             "#7201a8"
            ],
            [
             0.3333333333333333,
             "#9c179e"
            ],
            [
             0.4444444444444444,
             "#bd3786"
            ],
            [
             0.5555555555555556,
             "#d8576b"
            ],
            [
             0.6666666666666666,
             "#ed7953"
            ],
            [
             0.7777777777777778,
             "#fb9f3a"
            ],
            [
             0.8888888888888888,
             "#fdca26"
            ],
            [
             1,
             "#f0f921"
            ]
           ],
           "sequentialminus": [
            [
             0,
             "#0d0887"
            ],
            [
             0.1111111111111111,
             "#46039f"
            ],
            [
             0.2222222222222222,
             "#7201a8"
            ],
            [
             0.3333333333333333,
             "#9c179e"
            ],
            [
             0.4444444444444444,
             "#bd3786"
            ],
            [
             0.5555555555555556,
             "#d8576b"
            ],
            [
             0.6666666666666666,
             "#ed7953"
            ],
            [
             0.7777777777777778,
             "#fb9f3a"
            ],
            [
             0.8888888888888888,
             "#fdca26"
            ],
            [
             1,
             "#f0f921"
            ]
           ]
          },
          "colorway": [
           "#636efa",
           "#EF553B",
           "#00cc96",
           "#ab63fa",
           "#FFA15A",
           "#19d3f3",
           "#FF6692",
           "#B6E880",
           "#FF97FF",
           "#FECB52"
          ],
          "font": {
           "color": "#2a3f5f"
          },
          "geo": {
           "bgcolor": "white",
           "lakecolor": "white",
           "landcolor": "#E5ECF6",
           "showlakes": true,
           "showland": true,
           "subunitcolor": "white"
          },
          "hoverlabel": {
           "align": "left"
          },
          "hovermode": "closest",
          "mapbox": {
           "style": "light"
          },
          "paper_bgcolor": "white",
          "plot_bgcolor": "#E5ECF6",
          "polar": {
           "angularaxis": {
            "gridcolor": "white",
            "linecolor": "white",
            "ticks": ""
           },
           "bgcolor": "#E5ECF6",
           "radialaxis": {
            "gridcolor": "white",
            "linecolor": "white",
            "ticks": ""
           }
          },
          "scene": {
           "xaxis": {
            "backgroundcolor": "#E5ECF6",
            "gridcolor": "white",
            "gridwidth": 2,
            "linecolor": "white",
            "showbackground": true,
            "ticks": "",
            "zerolinecolor": "white"
           },
           "yaxis": {
            "backgroundcolor": "#E5ECF6",
            "gridcolor": "white",
            "gridwidth": 2,
            "linecolor": "white",
            "showbackground": true,
            "ticks": "",
            "zerolinecolor": "white"
           },
           "zaxis": {
            "backgroundcolor": "#E5ECF6",
            "gridcolor": "white",
            "gridwidth": 2,
            "linecolor": "white",
            "showbackground": true,
            "ticks": "",
            "zerolinecolor": "white"
           }
          },
          "shapedefaults": {
           "line": {
            "color": "#2a3f5f"
           }
          },
          "ternary": {
           "aaxis": {
            "gridcolor": "white",
            "linecolor": "white",
            "ticks": ""
           },
           "baxis": {
            "gridcolor": "white",
            "linecolor": "white",
            "ticks": ""
           },
           "bgcolor": "#E5ECF6",
           "caxis": {
            "gridcolor": "white",
            "linecolor": "white",
            "ticks": ""
           }
          },
          "title": {
           "x": 0.05
          },
          "xaxis": {
           "automargin": true,
           "gridcolor": "white",
           "linecolor": "white",
           "ticks": "",
           "title": {
            "standoff": 15
           },
           "zerolinecolor": "white",
           "zerolinewidth": 2
          },
          "yaxis": {
           "automargin": true,
           "gridcolor": "white",
           "linecolor": "white",
           "ticks": "",
           "title": {
            "standoff": 15
           },
           "zerolinecolor": "white",
           "zerolinewidth": 2
          }
         }
        },
        "title": {
         "text": "Chart: box plot of Geography and AverageMortgageAmount by Geography"
        },
        "xaxis": {
         "anchor": "y",
         "categoryarray": [
          "Newfoundland",
          "Prince Edward Island",
          "Nova Scotia",
          "New Brunswick",
          "Québec",
          "Ontario",
          "Manitoba",
          "Saskatchewan",
          "Alberta",
          "British Columbia"
         ],
         "categoryorder": "array",
         "domain": [
          0,
          1
         ],
         "tickangle": -45,
         "title": {
          "text": "Geography"
         }
        },
        "yaxis": {
         "anchor": "x",
         "domain": [
          0,
          1
         ],
         "title": {
          "text": "AverageMortgageAmount"
         }
        }
       }
      }
     },
     "metadata": {},
     "output_type": "display_data"
    },
    {
     "data": {
      "application/vnd.plotly.v1+json": {
       "config": {
        "plotlyServerURL": "https://plot.ly"
       },
       "data": [
        {
         "hovertemplate": "<b>%{hovertext}</b><br><br>Geography=Newfoundland<br>AverageMortgageAmount=%{x}<br>DelinquencyRate=%{y}<extra></extra>",
         "hovertext": [
          "2012Q3",
          "2012Q4",
          "2013Q1",
          "2013Q2",
          "2013Q3",
          "2013Q4",
          "2014Q1",
          "2014Q2",
          "2014Q3",
          "2014Q4",
          "2015Q1",
          "2015Q2",
          "2015Q3",
          "2015Q4",
          "2016Q1",
          "2016Q2",
          "2016Q3",
          "2016Q4",
          "2017Q1",
          "2017Q2",
          "2017Q3",
          "2017Q4",
          "2018Q1",
          "2018Q2",
          "2018Q3",
          "2018Q4",
          "2019Q1",
          "2019Q2",
          "2019Q3",
          "2019Q4",
          "2020Q1",
          "2020Q2",
          "2020Q3"
         ],
         "legendgroup": "Newfoundland",
         "marker": {
          "color": "#636efa",
          "symbol": "circle"
         },
         "mode": "markers",
         "name": "Newfoundland",
         "orientation": "v",
         "showlegend": true,
         "type": "scatter",
         "x": [
          188732,
          185794,
          189098,
          181331,
          191818,
          193100,
          195479,
          192856,
          199560,
          200310,
          197406,
          193956,
          199758,
          202487,
          196798,
          196806,
          198265,
          197794,
          192057,
          191412,
          200378,
          193619,
          196431,
          192252,
          192106,
          188614,
          185276,
          190582,
          194536,
          193870,
          186268,
          187431,
          196100
         ],
         "xaxis": "x",
         "y": [
          0.24,
          0.22,
          0.25,
          0.19,
          0.2,
          0.22,
          0.23,
          0.25,
          0.26,
          0.28,
          0.37,
          0.37,
          0.37,
          0.41,
          0.45,
          0.46,
          0.49,
          0.46,
          0.47,
          0.47,
          0.46,
          0.52,
          0.56,
          0.6,
          0.6,
          0.62,
          0.64,
          0.65,
          0.65,
          0.65,
          0.67,
          0.68,
          0.64
         ],
         "yaxis": "y"
        },
        {
         "hovertemplate": "<b>%{hovertext}</b><br><br>Geography=Prince Edward Island<br>AverageMortgageAmount=%{x}<br>DelinquencyRate=%{y}<extra></extra>",
         "hovertext": [
          "2012Q3",
          "2012Q4",
          "2013Q1",
          "2013Q2",
          "2013Q3",
          "2013Q4",
          "2014Q1",
          "2014Q2",
          "2014Q3",
          "2014Q4",
          "2015Q1",
          "2015Q2",
          "2015Q3",
          "2015Q4",
          "2016Q1",
          "2016Q2",
          "2016Q3",
          "2016Q4",
          "2017Q1",
          "2017Q2",
          "2017Q3",
          "2017Q4",
          "2018Q1",
          "2018Q2",
          "2018Q3",
          "2018Q4",
          "2019Q1",
          "2019Q2",
          "2019Q3",
          "2019Q4",
          "2020Q1",
          "2020Q2",
          "2020Q3"
         ],
         "legendgroup": "Prince Edward Island",
         "marker": {
          "color": "#EF553B",
          "symbol": "circle"
         },
         "mode": "markers",
         "name": "Prince Edward Island",
         "orientation": "v",
         "showlegend": true,
         "type": "scatter",
         "x": [
          140279,
          138415,
          137162,
          126763,
          139506,
          141453,
          141141,
          137427,
          143320,
          141232,
          146885,
          146818,
          150403,
          155926,
          157322,
          150732,
          169651,
          155799,
          175124,
          174901,
          176919,
          175523,
          179179,
          182114,
          181967,
          178140,
          181172,
          181358,
          190715,
          185934,
          193439,
          189309,
          204415
         ],
         "xaxis": "x",
         "y": [
          0.57,
          0.5,
          0.55,
          0.47,
          0.56,
          0.58,
          0.6,
          0.6,
          0.56,
          0.57,
          0.68,
          0.62,
          0.63,
          0.67,
          0.7,
          0.7,
          0.67,
          0.6,
          0.66,
          0.55,
          0.54,
          0.44,
          0.5,
          0.45,
          0.43,
          0.39,
          0.39,
          0.38,
          0.34,
          0.32,
          0.25,
          0.26,
          0.27
         ],
         "yaxis": "y"
        },
        {
         "hovertemplate": "<b>%{hovertext}</b><br><br>Geography=Nova Scotia<br>AverageMortgageAmount=%{x}<br>DelinquencyRate=%{y}<extra></extra>",
         "hovertext": [
          "2012Q3",
          "2012Q4",
          "2013Q1",
          "2013Q2",
          "2013Q3",
          "2013Q4",
          "2014Q1",
          "2014Q2",
          "2014Q3",
          "2014Q4",
          "2015Q1",
          "2015Q2",
          "2015Q3",
          "2015Q4",
          "2016Q1",
          "2016Q2",
          "2016Q3",
          "2016Q4",
          "2017Q1",
          "2017Q2",
          "2017Q3",
          "2017Q4",
          "2018Q1",
          "2018Q2",
          "2018Q3",
          "2018Q4",
          "2019Q1",
          "2019Q2",
          "2019Q3",
          "2019Q4",
          "2020Q1",
          "2020Q2",
          "2020Q3"
         ],
         "legendgroup": "Nova Scotia",
         "marker": {
          "color": "#00cc96",
          "symbol": "circle"
         },
         "mode": "markers",
         "name": "Nova Scotia",
         "orientation": "v",
         "showlegend": true,
         "type": "scatter",
         "x": [
          174688,
          160046,
          158806,
          159945,
          166426,
          160189,
          161383,
          157664,
          172827,
          163584,
          163607,
          165288,
          178091,
          172863,
          167596,
          168948,
          178784,
          173305,
          186024,
          182526,
          194802,
          188559,
          185858,
          179407,
          190443,
          179921,
          177863,
          180958,
          193586,
          190168,
          188267,
          192060,
          207877
         ],
         "xaxis": "x",
         "y": [
          0.53,
          0.53,
          0.55,
          0.56,
          0.58,
          0.62,
          0.65,
          0.65,
          0.67,
          0.68,
          0.7,
          0.67,
          0.66,
          0.68,
          0.7,
          0.72,
          0.76,
          0.75,
          0.7,
          0.64,
          0.6,
          0.58,
          0.59,
          0.54,
          0.52,
          0.56,
          0.54,
          0.52,
          0.5,
          0.5,
          0.46,
          0.47,
          0.45
         ],
         "yaxis": "y"
        },
        {
         "hovertemplate": "<b>%{hovertext}</b><br><br>Geography=New Brunswick<br>AverageMortgageAmount=%{x}<br>DelinquencyRate=%{y}<extra></extra>",
         "hovertext": [
          "2012Q3",
          "2012Q4",
          "2013Q1",
          "2013Q2",
          "2013Q3",
          "2013Q4",
          "2014Q1",
          "2014Q2",
          "2014Q3",
          "2014Q4",
          "2015Q1",
          "2015Q2",
          "2015Q3",
          "2015Q4",
          "2016Q1",
          "2016Q2",
          "2016Q3",
          "2016Q4",
          "2017Q1",
          "2017Q2",
          "2017Q3",
          "2017Q4",
          "2018Q1",
          "2018Q2",
          "2018Q3",
          "2018Q4",
          "2019Q1",
          "2019Q2",
          "2019Q3",
          "2019Q4",
          "2020Q1",
          "2020Q2",
          "2020Q3"
         ],
         "legendgroup": "New Brunswick",
         "marker": {
          "color": "#ab63fa",
          "symbol": "circle"
         },
         "mode": "markers",
         "name": "New Brunswick",
         "orientation": "v",
         "showlegend": true,
         "type": "scatter",
         "x": [
          133390,
          126138,
          124645,
          122572,
          131542,
          128155,
          127766,
          124221,
          135592,
          132766,
          132025,
          128378,
          137565,
          137039,
          132325,
          133027,
          143533,
          140124,
          141196,
          135748,
          147934,
          142799,
          139711,
          139750,
          150353,
          143324,
          140850,
          137809,
          152606,
          147047,
          146701,
          149590,
          160349
         ],
         "xaxis": "x",
         "y": [
          0.63,
          0.63,
          0.65,
          0.6,
          0.61,
          0.68,
          0.72,
          0.67,
          0.72,
          0.72,
          0.79,
          0.8,
          0.81,
          0.79,
          0.82,
          0.78,
          0.84,
          0.79,
          0.78,
          0.73,
          0.71,
          0.66,
          0.65,
          0.59,
          0.58,
          0.62,
          0.63,
          0.6,
          0.57,
          0.57,
          0.57,
          0.54,
          0.52
         ],
         "yaxis": "y"
        },
        {
         "hovertemplate": "<b>%{hovertext}</b><br><br>Geography=Québec<br>AverageMortgageAmount=%{x}<br>DelinquencyRate=%{y}<extra></extra>",
         "hovertext": [
          "2012Q3",
          "2012Q4",
          "2013Q1",
          "2013Q2",
          "2013Q3",
          "2013Q4",
          "2014Q1",
          "2014Q2",
          "2014Q3",
          "2014Q4",
          "2015Q1",
          "2015Q2",
          "2015Q3",
          "2015Q4",
          "2016Q1",
          "2016Q2",
          "2016Q3",
          "2016Q4",
          "2017Q1",
          "2017Q2",
          "2017Q3",
          "2017Q4",
          "2018Q1",
          "2018Q2",
          "2018Q3",
          "2018Q4",
          "2019Q1",
          "2019Q2",
          "2019Q3",
          "2019Q4",
          "2020Q1",
          "2020Q2",
          "2020Q3"
         ],
         "legendgroup": "Québec",
         "marker": {
          "color": "#FFA15A",
          "symbol": "circle"
         },
         "mode": "markers",
         "name": "Québec",
         "orientation": "v",
         "showlegend": true,
         "type": "scatter",
         "x": [
          159661,
          153413,
          153909,
          155016,
          160147,
          155512,
          156424,
          160165,
          166426,
          160073,
          161563,
          164764,
          170403,
          164235,
          167154,
          169326,
          176522,
          170309,
          171992,
          171716,
          177306,
          173182,
          175297,
          183507,
          187727,
          173911,
          175658,
          179523,
          187136,
          183501,
          189390,
          195538,
          203861
         ],
         "xaxis": "x",
         "y": [
          0.33,
          0.33,
          0.35,
          0.34,
          0.33,
          0.35,
          0.37,
          0.36,
          0.37,
          0.39,
          0.42,
          0.41,
          0.41,
          0.42,
          0.44,
          0.43,
          0.42,
          0.4,
          0.41,
          0.4,
          0.37,
          0.34,
          0.34,
          0.35,
          0.35,
          0.38,
          0.38,
          0.37,
          0.37,
          0.36,
          0.36,
          0.34,
          0.36
         ],
         "yaxis": "y"
        },
        {
         "hovertemplate": "<b>%{hovertext}</b><br><br>Geography=Ontario<br>AverageMortgageAmount=%{x}<br>DelinquencyRate=%{y}<extra></extra>",
         "hovertext": [
          "2012Q3",
          "2012Q4",
          "2013Q1",
          "2013Q2",
          "2013Q3",
          "2013Q4",
          "2014Q1",
          "2014Q2",
          "2014Q3",
          "2014Q4",
          "2015Q1",
          "2015Q2",
          "2015Q3",
          "2015Q4",
          "2016Q1",
          "2016Q2",
          "2016Q3",
          "2016Q4",
          "2017Q1",
          "2017Q2",
          "2017Q3",
          "2017Q4",
          "2018Q1",
          "2018Q2",
          "2018Q3",
          "2018Q4",
          "2019Q1",
          "2019Q2",
          "2019Q3",
          "2019Q4",
          "2020Q1",
          "2020Q2",
          "2020Q3"
         ],
         "legendgroup": "Ontario",
         "marker": {
          "color": "#19d3f3",
          "symbol": "circle"
         },
         "mode": "markers",
         "name": "Ontario",
         "orientation": "v",
         "showlegend": true,
         "type": "scatter",
         "x": [
          247455,
          235667,
          233122,
          230770,
          249054,
          244060,
          244077,
          240828,
          262838,
          257244,
          254854,
          259093,
          281259,
          277802,
          278626,
          285024,
          307369,
          310236,
          319009,
          326645,
          338561,
          323821,
          322179,
          315576,
          327367,
          321579,
          321074,
          324080,
          343117,
          343768,
          348272,
          363432,
          373371
         ],
         "xaxis": "x",
         "y": [
          0.31,
          0.31,
          0.31,
          0.29,
          0.28,
          0.28,
          0.29,
          0.27,
          0.27,
          0.26,
          0.27,
          0.25,
          0.24,
          0.23,
          0.24,
          0.22,
          0.2,
          0.19,
          0.18,
          0.16,
          0.16,
          0.15,
          0.15,
          0.14,
          0.13,
          0.14,
          0.14,
          0.14,
          0.14,
          0.14,
          0.14,
          0.14,
          0.14
         ],
         "yaxis": "y"
        },
        {
         "hovertemplate": "<b>%{hovertext}</b><br><br>Geography=Manitoba<br>AverageMortgageAmount=%{x}<br>DelinquencyRate=%{y}<extra></extra>",
         "hovertext": [
          "2012Q3",
          "2012Q4",
          "2013Q1",
          "2013Q2",
          "2013Q3",
          "2013Q4",
          "2014Q1",
          "2014Q2",
          "2014Q3",
          "2014Q4",
          "2015Q1",
          "2015Q2",
          "2015Q3",
          "2015Q4",
          "2016Q1",
          "2016Q2",
          "2016Q3",
          "2016Q4",
          "2017Q1",
          "2017Q2",
          "2017Q3",
          "2017Q4",
          "2018Q1",
          "2018Q2",
          "2018Q3",
          "2018Q4",
          "2019Q1",
          "2019Q2",
          "2019Q3",
          "2019Q4",
          "2020Q1",
          "2020Q2",
          "2020Q3"
         ],
         "legendgroup": "Manitoba",
         "marker": {
          "color": "#FF6692",
          "symbol": "circle"
         },
         "mode": "markers",
         "name": "Manitoba",
         "orientation": "v",
         "showlegend": true,
         "type": "scatter",
         "x": [
          188298,
          181097,
          177560,
          177517,
          192732,
          189570,
          188107,
          184554,
          200051,
          197527,
          191444,
          190383,
          206275,
          201640,
          193970,
          196385,
          209051,
          206958,
          203999,
          205085,
          216750,
          217136,
          207988,
          207436,
          220454,
          214060,
          206692,
          214873,
          222637,
          218918,
          212508,
          217416,
          232725
         ],
         "xaxis": "x",
         "y": [
          0.25,
          0.27,
          0.28,
          0.26,
          0.28,
          0.28,
          0.28,
          0.25,
          0.24,
          0.27,
          0.31,
          0.3,
          0.29,
          0.33,
          0.34,
          0.35,
          0.34,
          0.35,
          0.36,
          0.35,
          0.33,
          0.3,
          0.3,
          0.31,
          0.32,
          0.35,
          0.35,
          0.35,
          0.34,
          0.36,
          0.37,
          0.38,
          0.35
         ],
         "yaxis": "y"
        },
        {
         "hovertemplate": "<b>%{hovertext}</b><br><br>Geography=Saskatchewan<br>AverageMortgageAmount=%{x}<br>DelinquencyRate=%{y}<extra></extra>",
         "hovertext": [
          "2012Q3",
          "2012Q4",
          "2013Q1",
          "2013Q2",
          "2013Q3",
          "2013Q4",
          "2014Q1",
          "2014Q2",
          "2014Q3",
          "2014Q4",
          "2015Q1",
          "2015Q2",
          "2015Q3",
          "2015Q4",
          "2016Q1",
          "2016Q2",
          "2016Q3",
          "2016Q4",
          "2017Q1",
          "2017Q2",
          "2017Q3",
          "2017Q4",
          "2018Q1",
          "2018Q2",
          "2018Q3",
          "2018Q4",
          "2019Q1",
          "2019Q2",
          "2019Q3",
          "2019Q4",
          "2020Q1",
          "2020Q2",
          "2020Q3"
         ],
         "legendgroup": "Saskatchewan",
         "marker": {
          "color": "#B6E880",
          "symbol": "circle"
         },
         "mode": "markers",
         "name": "Saskatchewan",
         "orientation": "v",
         "showlegend": true,
         "type": "scatter",
         "x": [
          217945,
          213126,
          206354,
          211979,
          224868,
          225414,
          226559,
          218781,
          231768,
          233854,
          228569,
          226957,
          234840,
          231611,
          225641,
          230729,
          236380,
          232174,
          234786,
          233545,
          238533,
          234340,
          230702,
          229851,
          233255,
          223628,
          217157,
          216369,
          228721,
          224315,
          216188,
          225641,
          237386
         ],
         "xaxis": "x",
         "y": [
          0.37,
          0.37,
          0.36,
          0.34,
          0.3,
          0.32,
          0.35,
          0.31,
          0.32,
          0.36,
          0.41,
          0.43,
          0.45,
          0.49,
          0.54,
          0.57,
          0.61,
          0.62,
          0.62,
          0.66,
          0.65,
          0.66,
          0.66,
          0.67,
          0.7,
          0.72,
          0.74,
          0.75,
          0.73,
          0.73,
          0.75,
          0.76,
          0.72
         ],
         "yaxis": "y"
        },
        {
         "hovertemplate": "<b>%{hovertext}</b><br><br>Geography=Alberta<br>AverageMortgageAmount=%{x}<br>DelinquencyRate=%{y}<extra></extra>",
         "hovertext": [
          "2012Q3",
          "2012Q4",
          "2013Q1",
          "2013Q2",
          "2013Q3",
          "2013Q4",
          "2014Q1",
          "2014Q2",
          "2014Q3",
          "2014Q4",
          "2015Q1",
          "2015Q2",
          "2015Q3",
          "2015Q4",
          "2016Q1",
          "2016Q2",
          "2016Q3",
          "2016Q4",
          "2017Q1",
          "2017Q2",
          "2017Q3",
          "2017Q4",
          "2018Q1",
          "2018Q2",
          "2018Q3",
          "2018Q4",
          "2019Q1",
          "2019Q2",
          "2019Q3",
          "2019Q4",
          "2020Q1",
          "2020Q2",
          "2020Q3"
         ],
         "legendgroup": "Alberta",
         "marker": {
          "color": "#FF97FF",
          "symbol": "circle"
         },
         "mode": "markers",
         "name": "Alberta",
         "orientation": "v",
         "showlegend": true,
         "type": "scatter",
         "x": [
          282371,
          277555,
          277158,
          278516,
          289263,
          284928,
          291926,
          290722,
          304374,
          305558,
          303976,
          299837,
          309953,
          303244,
          296111,
          298884,
          304683,
          302095,
          301254,
          300115,
          307837,
          307662,
          302814,
          302116,
          305101,
          295839,
          291721,
          293612,
          297609,
          297552,
          291747,
          296269,
          305600
         ],
         "xaxis": "x",
         "y": [
          0.6,
          0.55,
          0.52,
          0.47,
          0.45,
          0.43,
          0.42,
          0.37,
          0.34,
          0.32,
          0.32,
          0.33,
          0.35,
          0.36,
          0.41,
          0.45,
          0.53,
          0.53,
          0.54,
          0.52,
          0.51,
          0.5,
          0.5,
          0.46,
          0.47,
          0.5,
          0.51,
          0.53,
          0.51,
          0.5,
          0.52,
          0.52,
          0.5
         ],
         "yaxis": "y"
        },
        {
         "hovertemplate": "<b>%{hovertext}</b><br><br>Geography=British Columbia<br>AverageMortgageAmount=%{x}<br>DelinquencyRate=%{y}<extra></extra>",
         "hovertext": [
          "2012Q3",
          "2012Q4",
          "2013Q1",
          "2013Q2",
          "2013Q3",
          "2013Q4",
          "2014Q1",
          "2014Q2",
          "2014Q3",
          "2014Q4",
          "2015Q1",
          "2015Q2",
          "2015Q3",
          "2015Q4",
          "2016Q1",
          "2016Q2",
          "2016Q3",
          "2016Q4",
          "2017Q1",
          "2017Q2",
          "2017Q3",
          "2017Q4",
          "2018Q1",
          "2018Q2",
          "2018Q3",
          "2018Q4",
          "2019Q1",
          "2019Q2",
          "2019Q3",
          "2019Q4",
          "2020Q1",
          "2020Q2",
          "2020Q3"
         ],
         "legendgroup": "British Columbia",
         "marker": {
          "color": "#FECB52",
          "symbol": "circle"
         },
         "mode": "markers",
         "name": "British Columbia",
         "orientation": "v",
         "showlegend": true,
         "type": "scatter",
         "x": [
          305427,
          289864,
          286652,
          290928,
          303663,
          305256,
          309374,
          305138,
          321625,
          323373,
          325035,
          328540,
          350672,
          357016,
          368782,
          385910,
          395297,
          366703,
          358655,
          369174,
          389430,
          381223,
          384794,
          371860,
          378187,
          364330,
          363239,
          363924,
          376343,
          386494,
          393711,
          397853,
          417004
         ],
         "xaxis": "x",
         "y": [
          0.42,
          0.42,
          0.43,
          0.43,
          0.42,
          0.43,
          0.43,
          0.4,
          0.4,
          0.4,
          0.4,
          0.38,
          0.34,
          0.32,
          0.32,
          0.29,
          0.26,
          0.25,
          0.23,
          0.2,
          0.18,
          0.18,
          0.17,
          0.17,
          0.16,
          0.17,
          0.17,
          0.17,
          0.16,
          0.16,
          0.17,
          0.19,
          0.19
         ],
         "yaxis": "y"
        }
       ],
       "layout": {
        "legend": {
         "title": {
          "text": "Geography"
         },
         "tracegroupgap": 0
        },
        "margin": {
         "t": 60
        },
        "template": {
         "data": {
          "bar": [
           {
            "error_x": {
             "color": "#2a3f5f"
            },
            "error_y": {
             "color": "#2a3f5f"
            },
            "marker": {
             "line": {
              "color": "#E5ECF6",
              "width": 0.5
             },
             "pattern": {
              "fillmode": "overlay",
              "size": 10,
              "solidity": 0.2
             }
            },
            "type": "bar"
           }
          ],
          "barpolar": [
           {
            "marker": {
             "line": {
              "color": "#E5ECF6",
              "width": 0.5
             },
             "pattern": {
              "fillmode": "overlay",
              "size": 10,
              "solidity": 0.2
             }
            },
            "type": "barpolar"
           }
          ],
          "carpet": [
           {
            "aaxis": {
             "endlinecolor": "#2a3f5f",
             "gridcolor": "white",
             "linecolor": "white",
             "minorgridcolor": "white",
             "startlinecolor": "#2a3f5f"
            },
            "baxis": {
             "endlinecolor": "#2a3f5f",
             "gridcolor": "white",
             "linecolor": "white",
             "minorgridcolor": "white",
             "startlinecolor": "#2a3f5f"
            },
            "type": "carpet"
           }
          ],
          "choropleth": [
           {
            "colorbar": {
             "outlinewidth": 0,
             "ticks": ""
            },
            "type": "choropleth"
           }
          ],
          "contour": [
           {
            "colorbar": {
             "outlinewidth": 0,
             "ticks": ""
            },
            "colorscale": [
             [
              0,
              "#0d0887"
             ],
             [
              0.1111111111111111,
              "#46039f"
             ],
             [
              0.2222222222222222,
              "#7201a8"
             ],
             [
              0.3333333333333333,
              "#9c179e"
             ],
             [
              0.4444444444444444,
              "#bd3786"
             ],
             [
              0.5555555555555556,
              "#d8576b"
             ],
             [
              0.6666666666666666,
              "#ed7953"
             ],
             [
              0.7777777777777778,
              "#fb9f3a"
             ],
             [
              0.8888888888888888,
              "#fdca26"
             ],
             [
              1,
              "#f0f921"
             ]
            ],
            "type": "contour"
           }
          ],
          "contourcarpet": [
           {
            "colorbar": {
             "outlinewidth": 0,
             "ticks": ""
            },
            "type": "contourcarpet"
           }
          ],
          "heatmap": [
           {
            "colorbar": {
             "outlinewidth": 0,
             "ticks": ""
            },
            "colorscale": [
             [
              0,
              "#0d0887"
             ],
             [
              0.1111111111111111,
              "#46039f"
             ],
             [
              0.2222222222222222,
              "#7201a8"
             ],
             [
              0.3333333333333333,
              "#9c179e"
             ],
             [
              0.4444444444444444,
              "#bd3786"
             ],
             [
              0.5555555555555556,
              "#d8576b"
             ],
             [
              0.6666666666666666,
              "#ed7953"
             ],
             [
              0.7777777777777778,
              "#fb9f3a"
             ],
             [
              0.8888888888888888,
              "#fdca26"
             ],
             [
              1,
              "#f0f921"
             ]
            ],
            "type": "heatmap"
           }
          ],
          "heatmapgl": [
           {
            "colorbar": {
             "outlinewidth": 0,
             "ticks": ""
            },
            "colorscale": [
             [
              0,
              "#0d0887"
             ],
             [
              0.1111111111111111,
              "#46039f"
             ],
             [
              0.2222222222222222,
              "#7201a8"
             ],
             [
              0.3333333333333333,
              "#9c179e"
             ],
             [
              0.4444444444444444,
              "#bd3786"
             ],
             [
              0.5555555555555556,
              "#d8576b"
             ],
             [
              0.6666666666666666,
              "#ed7953"
             ],
             [
              0.7777777777777778,
              "#fb9f3a"
             ],
             [
              0.8888888888888888,
              "#fdca26"
             ],
             [
              1,
              "#f0f921"
             ]
            ],
            "type": "heatmapgl"
           }
          ],
          "histogram": [
           {
            "marker": {
             "pattern": {
              "fillmode": "overlay",
              "size": 10,
              "solidity": 0.2
             }
            },
            "type": "histogram"
           }
          ],
          "histogram2d": [
           {
            "colorbar": {
             "outlinewidth": 0,
             "ticks": ""
            },
            "colorscale": [
             [
              0,
              "#0d0887"
             ],
             [
              0.1111111111111111,
              "#46039f"
             ],
             [
              0.2222222222222222,
              "#7201a8"
             ],
             [
              0.3333333333333333,
              "#9c179e"
             ],
             [
              0.4444444444444444,
              "#bd3786"
             ],
             [
              0.5555555555555556,
              "#d8576b"
             ],
             [
              0.6666666666666666,
              "#ed7953"
             ],
             [
              0.7777777777777778,
              "#fb9f3a"
             ],
             [
              0.8888888888888888,
              "#fdca26"
             ],
             [
              1,
              "#f0f921"
             ]
            ],
            "type": "histogram2d"
           }
          ],
          "histogram2dcontour": [
           {
            "colorbar": {
             "outlinewidth": 0,
             "ticks": ""
            },
            "colorscale": [
             [
              0,
              "#0d0887"
             ],
             [
              0.1111111111111111,
              "#46039f"
             ],
             [
              0.2222222222222222,
              "#7201a8"
             ],
             [
              0.3333333333333333,
              "#9c179e"
             ],
             [
              0.4444444444444444,
              "#bd3786"
             ],
             [
              0.5555555555555556,
              "#d8576b"
             ],
             [
              0.6666666666666666,
              "#ed7953"
             ],
             [
              0.7777777777777778,
              "#fb9f3a"
             ],
             [
              0.8888888888888888,
              "#fdca26"
             ],
             [
              1,
              "#f0f921"
             ]
            ],
            "type": "histogram2dcontour"
           }
          ],
          "mesh3d": [
           {
            "colorbar": {
             "outlinewidth": 0,
             "ticks": ""
            },
            "type": "mesh3d"
           }
          ],
          "parcoords": [
           {
            "line": {
             "colorbar": {
              "outlinewidth": 0,
              "ticks": ""
             }
            },
            "type": "parcoords"
           }
          ],
          "pie": [
           {
            "automargin": true,
            "type": "pie"
           }
          ],
          "scatter": [
           {
            "fillpattern": {
             "fillmode": "overlay",
             "size": 10,
             "solidity": 0.2
            },
            "type": "scatter"
           }
          ],
          "scatter3d": [
           {
            "line": {
             "colorbar": {
              "outlinewidth": 0,
              "ticks": ""
             }
            },
            "marker": {
             "colorbar": {
              "outlinewidth": 0,
              "ticks": ""
             }
            },
            "type": "scatter3d"
           }
          ],
          "scattercarpet": [
           {
            "marker": {
             "colorbar": {
              "outlinewidth": 0,
              "ticks": ""
             }
            },
            "type": "scattercarpet"
           }
          ],
          "scattergeo": [
           {
            "marker": {
             "colorbar": {
              "outlinewidth": 0,
              "ticks": ""
             }
            },
            "type": "scattergeo"
           }
          ],
          "scattergl": [
           {
            "marker": {
             "colorbar": {
              "outlinewidth": 0,
              "ticks": ""
             }
            },
            "type": "scattergl"
           }
          ],
          "scattermapbox": [
           {
            "marker": {
             "colorbar": {
              "outlinewidth": 0,
              "ticks": ""
             }
            },
            "type": "scattermapbox"
           }
          ],
          "scatterpolar": [
           {
            "marker": {
             "colorbar": {
              "outlinewidth": 0,
              "ticks": ""
             }
            },
            "type": "scatterpolar"
           }
          ],
          "scatterpolargl": [
           {
            "marker": {
             "colorbar": {
              "outlinewidth": 0,
              "ticks": ""
             }
            },
            "type": "scatterpolargl"
           }
          ],
          "scatterternary": [
           {
            "marker": {
             "colorbar": {
              "outlinewidth": 0,
              "ticks": ""
             }
            },
            "type": "scatterternary"
           }
          ],
          "surface": [
           {
            "colorbar": {
             "outlinewidth": 0,
             "ticks": ""
            },
            "colorscale": [
             [
              0,
              "#0d0887"
             ],
             [
              0.1111111111111111,
              "#46039f"
             ],
             [
              0.2222222222222222,
              "#7201a8"
             ],
             [
              0.3333333333333333,
              "#9c179e"
             ],
             [
              0.4444444444444444,
              "#bd3786"
             ],
             [
              0.5555555555555556,
              "#d8576b"
             ],
             [
              0.6666666666666666,
              "#ed7953"
             ],
             [
              0.7777777777777778,
              "#fb9f3a"
             ],
             [
              0.8888888888888888,
              "#fdca26"
             ],
             [
              1,
              "#f0f921"
             ]
            ],
            "type": "surface"
           }
          ],
          "table": [
           {
            "cells": {
             "fill": {
              "color": "#EBF0F8"
             },
             "line": {
              "color": "white"
             }
            },
            "header": {
             "fill": {
              "color": "#C8D4E3"
             },
             "line": {
              "color": "white"
             }
            },
            "type": "table"
           }
          ]
         },
         "layout": {
          "annotationdefaults": {
           "arrowcolor": "#2a3f5f",
           "arrowhead": 0,
           "arrowwidth": 1
          },
          "autotypenumbers": "strict",
          "coloraxis": {
           "colorbar": {
            "outlinewidth": 0,
            "ticks": ""
           }
          },
          "colorscale": {
           "diverging": [
            [
             0,
             "#8e0152"
            ],
            [
             0.1,
             "#c51b7d"
            ],
            [
             0.2,
             "#de77ae"
            ],
            [
             0.3,
             "#f1b6da"
            ],
            [
             0.4,
             "#fde0ef"
            ],
            [
             0.5,
             "#f7f7f7"
            ],
            [
             0.6,
             "#e6f5d0"
            ],
            [
             0.7,
             "#b8e186"
            ],
            [
             0.8,
             "#7fbc41"
            ],
            [
             0.9,
             "#4d9221"
            ],
            [
             1,
             "#276419"
            ]
           ],
           "sequential": [
            [
             0,
             "#0d0887"
            ],
            [
             0.1111111111111111,
             "#46039f"
            ],
            [
             0.2222222222222222,
             "#7201a8"
            ],
            [
             0.3333333333333333,
             "#9c179e"
            ],
            [
             0.4444444444444444,
             "#bd3786"
            ],
            [
             0.5555555555555556,
             "#d8576b"
            ],
            [
             0.6666666666666666,
             "#ed7953"
            ],
            [
             0.7777777777777778,
             "#fb9f3a"
            ],
            [
             0.8888888888888888,
             "#fdca26"
            ],
            [
             1,
             "#f0f921"
            ]
           ],
           "sequentialminus": [
            [
             0,
             "#0d0887"
            ],
            [
             0.1111111111111111,
             "#46039f"
            ],
            [
             0.2222222222222222,
             "#7201a8"
            ],
            [
             0.3333333333333333,
             "#9c179e"
            ],
            [
             0.4444444444444444,
             "#bd3786"
            ],
            [
             0.5555555555555556,
             "#d8576b"
            ],
            [
             0.6666666666666666,
             "#ed7953"
            ],
            [
             0.7777777777777778,
             "#fb9f3a"
            ],
            [
             0.8888888888888888,
             "#fdca26"
            ],
            [
             1,
             "#f0f921"
            ]
           ]
          },
          "colorway": [
           "#636efa",
           "#EF553B",
           "#00cc96",
           "#ab63fa",
           "#FFA15A",
           "#19d3f3",
           "#FF6692",
           "#B6E880",
           "#FF97FF",
           "#FECB52"
          ],
          "font": {
           "color": "#2a3f5f"
          },
          "geo": {
           "bgcolor": "white",
           "lakecolor": "white",
           "landcolor": "#E5ECF6",
           "showlakes": true,
           "showland": true,
           "subunitcolor": "white"
          },
          "hoverlabel": {
           "align": "left"
          },
          "hovermode": "closest",
          "mapbox": {
           "style": "light"
          },
          "paper_bgcolor": "white",
          "plot_bgcolor": "#E5ECF6",
          "polar": {
           "angularaxis": {
            "gridcolor": "white",
            "linecolor": "white",
            "ticks": ""
           },
           "bgcolor": "#E5ECF6",
           "radialaxis": {
            "gridcolor": "white",
            "linecolor": "white",
            "ticks": ""
           }
          },
          "scene": {
           "xaxis": {
            "backgroundcolor": "#E5ECF6",
            "gridcolor": "white",
            "gridwidth": 2,
            "linecolor": "white",
            "showbackground": true,
            "ticks": "",
            "zerolinecolor": "white"
           },
           "yaxis": {
            "backgroundcolor": "#E5ECF6",
            "gridcolor": "white",
            "gridwidth": 2,
            "linecolor": "white",
            "showbackground": true,
            "ticks": "",
            "zerolinecolor": "white"
           },
           "zaxis": {
            "backgroundcolor": "#E5ECF6",
            "gridcolor": "white",
            "gridwidth": 2,
            "linecolor": "white",
            "showbackground": true,
            "ticks": "",
            "zerolinecolor": "white"
           }
          },
          "shapedefaults": {
           "line": {
            "color": "#2a3f5f"
           }
          },
          "ternary": {
           "aaxis": {
            "gridcolor": "white",
            "linecolor": "white",
            "ticks": ""
           },
           "baxis": {
            "gridcolor": "white",
            "linecolor": "white",
            "ticks": ""
           },
           "bgcolor": "#E5ECF6",
           "caxis": {
            "gridcolor": "white",
            "linecolor": "white",
            "ticks": ""
           }
          },
          "title": {
           "x": 0.05
          },
          "xaxis": {
           "automargin": true,
           "gridcolor": "white",
           "linecolor": "white",
           "ticks": "",
           "title": {
            "standoff": 15
           },
           "zerolinecolor": "white",
           "zerolinewidth": 2
          },
          "yaxis": {
           "automargin": true,
           "gridcolor": "white",
           "linecolor": "white",
           "ticks": "",
           "title": {
            "standoff": 15
           },
           "zerolinecolor": "white",
           "zerolinewidth": 2
          }
         }
        },
        "title": {
         "text": "Chart: scatter plot of AverageMortgageAmount and DelinquencyRate by Geography"
        },
        "xaxis": {
         "anchor": "y",
         "domain": [
          0,
          1
         ],
         "tickangle": -45,
         "title": {
          "text": "AverageMortgageAmount"
         }
        },
        "yaxis": {
         "anchor": "x",
         "domain": [
          0,
          1
         ],
         "title": {
          "text": "DelinquencyRate"
         }
        }
       }
      }
     },
     "metadata": {},
     "output_type": "display_data"
    }
   ],
   "source": [
    "%run -i ./nb-scripts/base_script.py"
   ]
  },
  {
   "cell_type": "markdown",
   "metadata": {
    "slideshow": {
     "slide_type": "slide"
    }
   },
   "source": [
    "\n",
    "### What is wrong with the plots being laid out this way?\n",
    "-------------------------------------------------------------------------------------------------------------------------------\n",
    "\n",
    "\n",
    "A lot...\n",
    "\n",
    "This is hard to read, hard to interact with, and overwhelming. \n",
    "\n",
    "Furthemore, we'd need to change the code every time we want to render a different plot. \n",
    "\n",
    "We introduce the app machinery."
   ]
  },
  {
   "cell_type": "markdown",
   "metadata": {
    "slideshow": {
     "slide_type": "slide"
    }
   },
   "source": [
    "### The `app.py` script\n",
    "-------------------------------------------------------------------------------------------------------------------------------\n",
    "\n",
    "\n",
    "The `app.py` script is a Python script responsible for deploying our app. It is just a .py script with additional machinery. \n"
   ]
  },
  {
   "cell_type": "markdown",
   "metadata": {
    "slideshow": {
     "slide_type": "slide"
    }
   },
   "source": [
    "### The `app.py` additional machinery\n",
    "-------------------------------------------------------------------------------------------------------------------------------\n",
    "\n",
    "Our app is going to contain mostly the same as a regular .py script, plus a few new items:\n",
    "\n",
    "- Dash library imports\n",
    "- External stylesheets\n",
    "- App initialization\n",
    "- App layout\n",
    "- Decorator callbacks"
   ]
  },
  {
   "cell_type": "markdown",
   "metadata": {
    "slideshow": {
     "slide_type": "subslide"
    }
   },
   "source": [
    "### Dash library imports\n",
    "-------------------------------------------------------------------------------------------------------------------------------\n",
    "\n",
    "```python\n",
    "\n",
    "import dash\n",
    "import dash_core_components as dcc\n",
    "import dash_html_components as html\n",
    "from dash.dependencies import Input, Output\n",
    "\n",
    "```"
   ]
  },
  {
   "cell_type": "markdown",
   "metadata": {
    "slideshow": {
     "slide_type": "subslide"
    }
   },
   "source": [
    "### External stylesheets\n",
    "-------------------------------------------------------------------------------------------------------------------------------\n",
    "\n",
    "```python\n",
    "\n",
    "# Stylesheets\n",
    "external_stylesheets = ['https://codepen.io/chriddyp/pen/bWLwgP.css']\n",
    "\n",
    "\n",
    "```\n",
    "\n",
    "Dash applications are rendered in the web browser with CSS and JavaScript. On page load, Dash serves a small HTML template that includes references to the CSS and JavaScript that are required to render the application. You can use stylesheets in your dashboard, similarly to how you'd use them to style your website.\n",
    "\n",
    "Read more https://dash.plotly.com/external-resources"
   ]
  },
  {
   "cell_type": "markdown",
   "metadata": {
    "slideshow": {
     "slide_type": "subslide"
    }
   },
   "source": [
    "### App initialization\n",
    "-------------------------------------------------------------------------------------------------------------------------------\n",
    "\n",
    "```python\n",
    "\n",
    "# Intialize app\n",
    "app = dash.Dash(__name__, external_stylesheets=external_stylesheets)\n",
    "server = app.server\n",
    "\n",
    "\n",
    "```\n"
   ]
  },
  {
   "cell_type": "markdown",
   "metadata": {
    "slideshow": {
     "slide_type": "subslide"
    }
   },
   "source": [
    "### App layout\n",
    "-------------------------------------------------------------------------------------------------------------------------------\n",
    "\n",
    "```python\n",
    "\n",
    "app.layout = html.Div([sidebar, content])\n",
    "\n",
    "\n",
    "```\n",
    "\n",
    "This component describes what the application looks like.\n",
    "\n",
    "https://dash.plotly.com/layout"
   ]
  },
  {
   "cell_type": "markdown",
   "metadata": {
    "slideshow": {
     "slide_type": "subslide"
    }
   },
   "source": [
    "### Decorator callbacks\n",
    "-------------------------------------------------------------------------------------------------------------------------------\n",
    "\n",
    "```python\n",
    "\n",
    "@app.callback(\n",
    "     Output('graph-id', 'figure'),\n",
    "    Input('value-id', 'value')\n",
    "def update_figure(parameter):\n",
    "    \"\"\"\n",
    "    Parameters\n",
    "    ----------\n",
    "        parameter: This is the value that will be updated in the app\n",
    "    \"\"\"\n",
    "    \n",
    "    # Code that uses the variable value to make a change \n",
    "    ...\n",
    "    # Code that generates figure based on value\n",
    "    fig = ...\n",
    "\n",
    "    return fig\n",
    "\n",
    "\n",
    "```\n",
    "\n",
    "\n",
    "Decorator callbacks are Python functions that are automatically called by Dash whenever an input component's property changes. This is what makes it possible for dashboards to be interactive.\n",
    "\n",
    "Read more https://dash.plotly.com/basic-callbacks"
   ]
  },
  {
   "cell_type": "markdown",
   "metadata": {
    "slideshow": {
     "slide_type": "slide"
    }
   },
   "source": [
    "Exit slideshow to see full script.\n",
    "\n",
    "```python\n",
    "import pandas as pd\n",
    "import plotly.express as px\n",
    "import dash\n",
    "import dash_core_components as dcc\n",
    "import dash_html_components as html\n",
    "from dash.dependencies import Input, Output\n",
    "\n",
    "# ----------------------------------------------------------------------------------#\n",
    "# Read data\n",
    "\n",
    "\n",
    "# ----------------------------------------------------------------------------------#\n",
    "# App section\n",
    "\n",
    "# Stylesheets\n",
    "external_stylesheets = ['https://codepen.io/chriddyp/pen/bWLwgP.css']\n",
    "\n",
    "# Intialize app\n",
    "app = dash.Dash(__name__, external_stylesheets=external_stylesheets)\n",
    "server = app.server\n",
    "\n",
    "app.layout = # some code with our layout\n",
    "\n",
    "\n",
    "@app.callback(\n",
    "     Output('graph-id', 'figure'),\n",
    "    Input('value-id', 'value')\n",
    "def update_figure(parameter):\n",
    "    \"\"\"\n",
    "    Parameters\n",
    "    ----------\n",
    "        parameter: This is the value that will be updated in the app\n",
    "    \"\"\"\n",
    "    \n",
    "    # Code that uses the variable value to make a change \n",
    "    ...\n",
    "    # Code that generates figure based on value\n",
    "    fig = ...\n",
    "\n",
    "    return fig\n",
    "\n",
    "\n",
    "if __name__ == '__main__':  \n",
    "    app.run_server(debug=True) \n",
    "```\n",
    "\n"
   ]
  },
  {
   "cell_type": "markdown",
   "metadata": {
    "slideshow": {
     "slide_type": "slide"
    }
   },
   "source": [
    "### Let's work together to turn our plotting script into an app using Dash\n",
    "\n",
    "-------------------------------------------------------------------------------------------------------------------------------\n"
   ]
  },
  {
   "cell_type": "code",
   "execution_count": 3,
   "metadata": {
    "slideshow": {
     "slide_type": "slide"
    }
   },
   "outputs": [
    {
     "name": "stdout",
     "output_type": "stream",
     "text": [
      "Dash is running on http://127.0.0.1:8050/\n",
      "\n",
      "Dash app running on http://127.0.0.1:8050/\n"
     ]
    },
    {
     "name": "stderr",
     "output_type": "stream",
     "text": [
      "/var/folders/gy/sq_b71qx3931n7lpgb669l0w0000gq/T/ipykernel_49440/3504062010.py:4: UserWarning:\n",
      "\n",
      "\n",
      "The dash_core_components package is deprecated. Please replace\n",
      "`import dash_core_components as dcc` with `from dash import dcc`\n",
      "\n",
      "/var/folders/gy/sq_b71qx3931n7lpgb669l0w0000gq/T/ipykernel_49440/3504062010.py:5: UserWarning:\n",
      "\n",
      "\n",
      "The dash_html_components package is deprecated. Please replace\n",
      "`import dash_html_components as html` with `from dash import html`\n",
      "\n"
     ]
    }
   ],
   "source": [
    "\n",
    "import pandas as pd\n",
    "import plotly.express as px\n",
    "from jupyter_dash import JupyterDash\n",
    "import dash_core_components as dcc\n",
    "import dash_html_components as html\n",
    "from dash.dependencies import Input, Output\n",
    "\n",
    "def graph_region(region_df, graph_type: str, dimension1: str, dimension2: str):\n",
    "    \"\"\"\n",
    "    Parameters\n",
    "    ----------\n",
    "        region_df: (dataframe object) reshaped data frame object with mortage, delinquency and population data\n",
    "        graph_type: (string) \"box\", \"violin\", \"scatter\", \"line\"\n",
    "        dimension1: (str) one of 'Time' or 'Geography'\n",
    "        dimension2: (str) one of 'AverageMortgageAmount', 'AverageMortgageAmount' or 'PopulationSize'\n",
    "        \n",
    "    Returns:\n",
    "    --------\n",
    "        None\n",
    "    \"\"\"\n",
    "    \n",
    "    plot_dict = {'box': px.box,'violin': px.violin, 'scatter': px.scatter, 'line':px.line}\n",
    "        \n",
    "    try:\n",
    "        # Initialize function\n",
    "        fig = plot_dict[graph_type](region_df, \n",
    "                                    x=dimension1, \n",
    "                                    y=dimension2, \n",
    "                                    color = \"Geography\",\n",
    "                                   hover_name = \"Time\")\n",
    "        # Format figure \n",
    "        title_string = f'Chart: {graph_type} plot of {dimension1} and {dimension2} by Geography'\n",
    "        fig.update_layout(title = title_string)\n",
    "        fig.update_xaxes(tickangle=-45)\n",
    "        fig.show()\n",
    "        return fig\n",
    "    except KeyError:\n",
    "        print(\"Key not found. Make sure that 'graph_type' is in ['box','violin', 'scatter', 'line']\")\n",
    "    except ValueError:\n",
    "        print(\"Dimension is not valid. dimension1 is one of 'Time' or 'Geography'\")\n",
    "        print(\"dimension2 is one of 'AverageMortgageAmount', 'DelinquencyRate', 'PopulationSize'\")\n",
    "        \n",
    "        \n",
    "# ----------------------------------------------------------------------------------#\n",
    "# Read data\n",
    "\n",
    "url = 'https://raw.githubusercontent.com/Vancouver-Datajam/dashboard-workshop-dash/main/data/delinquency_mortgage_population_2021_2020.csv'\n",
    "data_pop_del_mort_df = pd.read_csv(url, index_col=0)\n",
    "\n",
    "# ----------------------------------------------------------------------------------#\n",
    "# App section        \n",
    "        \n",
    "\n",
    "# Stylesheets\n",
    "external_stylesheets = ['https://codepen.io/chriddyp/pen/bWLwgP.css']\n",
    "\n",
    "# Intialize app\n",
    "app = JupyterDash(__name__, external_stylesheets=external_stylesheets)\n",
    "server = app.server\n",
    "\n",
    "text_style = {\n",
    "    'textAlign' : 'center',\n",
    "    'color' : \"black\"\n",
    "}\n",
    "\n",
    "card_text_style = {\n",
    "    'textAlign' : 'center',\n",
    "    'color' : 'black'\n",
    "}\n",
    "    \n",
    "app.layout = html.Div([\n",
    "    html.Div([\n",
    "        html.H2(\"Housing Market Trends in Vancouver (quarterly, 2012 - 2020)\", style=card_text_style),\n",
    "        html.Div([\n",
    "            \n",
    "            dcc.Dropdown(\n",
    "                id='xaxis-column',\n",
    "                options=[{'label': 'Geography', 'value': 'Geography'},\n",
    "                         {'label': 'Time', 'value': 'Time'},\n",
    "                        {'label': 'Population Size', 'value': 'PopulationSize'},\n",
    "                         {'label': 'Delinquency Rate', 'value': 'DelinquencyRate'},\n",
    "                        {'label': 'Average Mortgage Amount', 'value': 'AverageMortgageAmount'}],\n",
    "                value='Geography'\n",
    "            ),\n",
    "            dcc.Dropdown(\n",
    "                id='yaxis-column',\n",
    "                options=[{'label': 'Population Size', 'value': 'PopulationSize'},\n",
    "                         {'label': 'Delinquency Rate', 'value': 'DelinquencyRate'},\n",
    "                        {'label': 'Average Mortgage Amount', 'value': 'AverageMortgageAmount'}],\n",
    "                value='PopulationSize'\n",
    "            ),\n",
    "            \n",
    "        ]),\n",
    "        \n",
    "        html.Div([\n",
    "            dcc.Checklist(\n",
    "                id='graph-type',\n",
    "                options=[{'label': 'Violin plot', 'value': 'violin'},\n",
    "                         {'label': 'Box plot', 'value': 'box'},\n",
    "                        {'label': 'Scatter plot', 'value': 'scatter'},\n",
    "                        {'label': 'Line plot', 'value': 'line'}],\n",
    "                value=['violin']\n",
    "            )\n",
    "        ])\n",
    "    ]),\n",
    "\n",
    "    dcc.Graph(id='indicator-graphic'),\n",
    "\n",
    "    \n",
    "])\n",
    "\n",
    "@app.callback(\n",
    "    Output('indicator-graphic', 'figure'),\n",
    "    Input('graph-type', 'value'),\n",
    "    Input('xaxis-column', 'value'),\n",
    "    Input('yaxis-column', 'value'))\n",
    "def update_figure3(selected_graph, xaxis, yaxis):\n",
    "    filtered_df = data_pop_del_mort_df\n",
    "    fig3 = graph_region(filtered_df, selected_graph[0], xaxis, yaxis)\n",
    "    return fig3\n",
    "\n",
    "@app.callback(\n",
    "    Output('graph-render', 'figure'),\n",
    "    Input('graph-type', 'value'))\n",
    "def update_figure0(selected_graph):\n",
    "    filtered_df = data_pop_del_mort_df\n",
    "    fig0 = graph_region(filtered_df, selected_graph, \"Geography\", \"AverageMortgageAmount\")\n",
    "    return fig0\n",
    "\n",
    "\n",
    "        \n",
    "if __name__ == '__main__':  \n",
    "    \n",
    "    app.run_server(debug=True) "
   ]
  },
  {
   "cell_type": "markdown",
   "metadata": {
    "slideshow": {
     "slide_type": "slide"
    }
   },
   "source": [
    "### Why choosing your layout before coding matters\n",
    "\n",
    "-------------------------------------------------------------------------------------------------------------------------------\n",
    "\n",
    "The previous cell renders a dashboard containing only a dropdown menu with provinces in Canada. \n",
    "\n",
    "Before we build our dashboard, we first need to spend a bit of time thinking about what it is our dashboard contains, and how it is laid out. \n",
    "\n",
    "Deciding a layout prior to coding will make cleaning and maintaining your app easier. \n",
    "\n",
    "You can use any software you like to create your diagrams. \n",
    "\n",
    "For this workshop we will use https://app.diagrams.net/"
   ]
  },
  {
   "cell_type": "markdown",
   "metadata": {
    "slideshow": {
     "slide_type": "slide"
    }
   },
   "source": [
    "### A basic layout: a dropdown menu and a plot\n",
    "\n",
    "-------------------------------------------------------------------------------------------------------------------------------\n",
    "\n",
    "Our first step will be to implement a dropdown menu that selects one of: scatter plot, line chart and box chart.\n",
    "\n",
    "https://drive.google.com/file/d/1JHjlf3BBDBMTS_N76xE5WZslOBOUzfW9/view?usp=sharing"
   ]
  },
  {
   "cell_type": "markdown",
   "metadata": {
    "slideshow": {
     "slide_type": "subslide"
    }
   },
   "source": [
    "### The dropdown menu \n",
    "\n",
    "-------------------------------------------------------------------------------------------------------------------------------\n",
    "\n",
    "The code below will render a dropdown menu whose options are 'box', 'scatter', 'line', 'violin'.\n",
    "\n",
    "If you are familiar with HTML, you will recognize a few important tags including `div` and `h1`. We can use `dash_core_components` with the alias `dcc` to access the `Dropdown feature`. \n",
    "\n",
    "The options are a list of dictionaries with labels and values.\n",
    "\n",
    "```python\n",
    "app.layout = html.Div([\n",
    "             # This div contains a header H1, a dropdown to select the kind of plot and the plot\n",
    "            html.H1(\"Different kinds of plots\"),\n",
    "            dcc.Dropdown(\n",
    "                        id='graph-type',\n",
    "                        options=[{'label': 'Scatter plot', 'value': 'scatter'},\n",
    "                                {'label': 'Line plot', 'value': 'line'},\n",
    "                                {'label': 'Box plot', 'value': 'box'}],\n",
    "                        value= 'box')\n",
    "\n",
    "        \n",
    "])\n",
    "```"
   ]
  },
  {
   "cell_type": "code",
   "execution_count": null,
   "metadata": {
    "slideshow": {
     "slide_type": "subslide"
    }
   },
   "outputs": [],
   "source": [
    "# Let's take a look at the labels\n",
    "\n",
    "options=[{'label': i, 'value': i} for i in ['box', 'scatter', 'line', 'violin']]\n",
    "\n",
    "options"
   ]
  },
  {
   "cell_type": "markdown",
   "metadata": {
    "slideshow": {
     "slide_type": "slide"
    }
   },
   "source": [
    "### A plot that changes based on the plot type.\n",
    "\n",
    "-------------------------------------------------------------------------------------------------------------------------------\n",
    "\n",
    "The code below will render a dropdown menu whose options are determined by the `Geography` column in the `data_pop_del_mort_df` dataframe object. \n",
    "\n",
    "If you are familiar with HTML, you will recognize a few important tags including `div` and `h1`. We can use `dash_core_components` with the alias `dcc` to access the `Dropdown feature`. \n",
    "\n",
    "The options are a list of dictionaries with labels and values.\n",
    "\n",
    "```python\n",
    "app.layout = html.Div([\n",
    "             # This div contains a header H1, a dropdown to select the kind of plot and the plot\n",
    "            html.H1(\"Different kinds of plots\"),\n",
    "            dcc.Dropdown(\n",
    "                        id='graph-type',\n",
    "                        options=[{'label': 'Violin plot', 'value': 'violin'},\n",
    "                                {'label': 'Box plot', 'value': 'box'}],\n",
    "                        value= 'box'),\n",
    "            dcc.Graph(id='graph-render')\n",
    "])\n",
    " ```"
   ]
  },
  {
   "cell_type": "markdown",
   "metadata": {
    "slideshow": {
     "slide_type": "slide"
    }
   },
   "source": [
    "### A mechanism to update the figure type\n",
    "\n",
    "-------------------------------------------------------------------------------------------------------------------------------\n",
    "\n",
    "```python\n",
    "\n",
    "app.layout = html.Div([\n",
    "             # This div contains a header H1, a dropdown to select the kind of plot and the plot\n",
    "            html.H1(\"Different kinds of plots\"),\n",
    "            dcc.Dropdown(\n",
    "                        id='graph-type',\n",
    "                        options=[{'label': 'Violin plot', 'value': 'violin'},\n",
    "                                {'label': 'Box plot', 'value': 'box'}],\n",
    "                        value= 'box'),\n",
    "            dcc.Graph(id='graph-render')\n",
    "])\n",
    "\n",
    "@app.callback(\n",
    "    Output('graph-render', 'figure'),\n",
    "    Input('graph-type', 'value'))\n",
    "def update_figure0(selected_graph):\n",
    "    filtered_df = data_pop_del_mort_df\n",
    "    fig0 = graph_region(filtered_df, selected_graph, \"Geography\", \"AverageMortgageAmount\")\n",
    "    return fig0\n",
    "\n",
    "```"
   ]
  },
  {
   "cell_type": "markdown",
   "metadata": {
    "slideshow": {
     "slide_type": "slide"
    }
   },
   "source": [
    "### A dropdown that updates two figures\n",
    "\n",
    "-------------------------------------------------------------------------------------------------------------------------------\n",
    "\n",
    "\n",
    "```python\n",
    "app.layout = html.Div([\n",
    "                html.Div([\n",
    "                    # The province dropdown\n",
    "                    html.H1(\"Housing graphs\"),\n",
    "                    dcc.Dropdown(\n",
    "                        id='province',\n",
    "                        options=[{'label': i, 'value': i} for i in data_pop_del_mort_df['Geography'].unique()],\n",
    "                        value= 'Newfoundland'\n",
    "                    )\n",
    "                ]),\n",
    "                \n",
    "                # Plotting two graphs side by side\n",
    "                html.Div([\n",
    "                    html.Div([\n",
    "                        dcc.Graph(id='graph-time-mortgage')\n",
    "                    ], className=\"six columns\"),\n",
    "\n",
    "                    html.Div([\n",
    "                        dcc.Graph(id='graph-time-del')\n",
    "                    ], className=\"six columns\"),\n",
    "                ], className=\"row\")\n",
    "])\n",
    "\n",
    "    \n",
    "@app.callback(\n",
    "    Output('graph-time-mortgage', 'figure'),\n",
    "    Input('province', 'value'))\n",
    "def update_figure1(selected_province):\n",
    "    df = data_pop_del_mort_df\n",
    "    filtered_df = df[df['Geography'] == selected_province]\n",
    "    fig1 = graph_region(filtered_df, 'line', \"Time\", \"AverageMortgageAmount\")\n",
    "    return fig1\n",
    "\n",
    "@app.callback(\n",
    "    Output('graph-time-del', 'figure'),\n",
    "    Input('province', 'value'))\n",
    "def update_figure2(selected_province):\n",
    "    df = data_pop_del_mort_df\n",
    "    filtered_df = df[df['Geography'] == selected_province]  \n",
    "    fig2 = graph_region(filtered_df, 'line', \"Time\", \"DelinquencyRate\")\n",
    "    return fig2\n",
    "```"
   ]
  },
  {
   "cell_type": "markdown",
   "metadata": {
    "slideshow": {
     "slide_type": "slide"
    }
   },
   "source": [
    "### Several dropdown menus updating the same figure\n",
    "\n",
    "-------------------------------------------------------------------------------------------------------------------------------\n",
    "\n",
    "\n",
    "```python\n",
    "\n",
    "text_style = {\n",
    "    'textAlign' : 'center',\n",
    "    'color' : \"black\"\n",
    "}\n",
    "\n",
    "card_text_style = {\n",
    "    'textAlign' : 'center',\n",
    "    'color' : 'black'\n",
    "}\n",
    "    \n",
    "app.layout = html.Div([\n",
    "    html.Div([\n",
    "        html.H2(\"Housing Market Trends in Vancouver (quarterly, 2012 - 2020)\", style=card_text_style),\n",
    "        html.Div([\n",
    "            \n",
    "            dcc.Dropdown(\n",
    "                id='xaxis-column',\n",
    "                options=[{'label': 'Geography', 'value': 'Geography'},\n",
    "                         {'label': 'Time', 'value': 'Time'},\n",
    "                        {'label': 'Population Size', 'value': 'PopulationSize'},\n",
    "                         {'label': 'Delinquency Rate', 'value': 'DelinquencyRate'},\n",
    "                        {'label': 'Average Mortgage Amount', 'value': 'AverageMortgageAmount'}],\n",
    "                value='Geography'\n",
    "            ),\n",
    "            dcc.Dropdown(\n",
    "                id='yaxis-column',\n",
    "                options=[{'label': 'Population Size', 'value': 'PopulationSize'},\n",
    "                         {'label': 'Delinquency Rate', 'value': 'DelinquencyRate'},\n",
    "                        {'label': 'Average Mortgage Amount', 'value': 'AverageMortgageAmount'}],\n",
    "                value='PopulationSize'\n",
    "            ),\n",
    "            \n",
    "        ]),\n",
    "        \n",
    "        html.Div([\n",
    "            dcc.Checklist(\n",
    "                id='graph-type',\n",
    "                options=[{'label': 'Violin plot', 'value': 'violin'},\n",
    "                         {'label': 'Box plot', 'value': 'box'},\n",
    "                        {'label': 'Scatter plot', 'value': 'scatter'},\n",
    "                        {'label': 'Line plot', 'value': 'line'}],\n",
    "                value=['violin']\n",
    "            )\n",
    "        ])\n",
    "    ]),\n",
    "\n",
    "    dcc.Graph(id='indicator-graphic'),\n",
    "\n",
    "    \n",
    "])\n",
    "\n",
    "@app.callback(\n",
    "    Output('indicator-graphic', 'figure'),\n",
    "    Input('graph-type', 'value'),\n",
    "    Input('xaxis-column', 'value'),\n",
    "    Input('yaxis-column', 'value'))\n",
    "def update_figure3(selected_graph, xaxis, yaxis):\n",
    "    filtered_df = data_pop_del_mort_df\n",
    "    fig3 = graph_region(filtered_df, selected_graph[0], xaxis, yaxis)\n",
    "    return fig3\n",
    "```"
   ]
  },
  {
   "cell_type": "markdown",
   "metadata": {
    "slideshow": {
     "slide_type": "slide"
    }
   },
   "source": [
    "### Hosting your Dashboard\n",
    "\n",
    "-------------------------------------------------------------------------------------------------------------------------------\n",
    "\n",
    "Once you are happy and have tested your dashboard locally, we need to store our app in a GitHub repository with the following files:\n",
    "\n",
    "Procfile\n",
    "\n",
    "requirements.txt\n",
    "\n",
    ".gitignore\n",
    "\n",
    "We created a base repository with all these files for you. All you need to do is:\n",
    "\n",
    "0. Press the \"Template\" button in https://github.com/Vancouver-Datajam/dashboard-prep to create your own copy. \n",
    "\n",
    "1. Clone your copy of the repository on your local computer\n",
    "\n",
    "2. Add the app.py filename onto your local copy of the repository.\n",
    "\n",
    "3. Push app.py to `origin/main`\n",
    "\n",
    "4. Login to your Heroku account via the terminal.\n",
    "\n",
    "6. Run `git remote -v` to confirm \n",
    "\n",
    "5. Run `git add .` \n",
    "\n",
    "6. Run `git push origin/heroku`\n",
    "\n",
    "7. Visit the page to ensure it is up or troubleshoot until you find the error."
   ]
  }
 ],
 "metadata": {
  "celltoolbar": "Slideshow",
  "kernelspec": {
   "display_name": "Python 3.10.6 64-bit",
   "language": "python",
   "name": "python3"
  },
  "language_info": {
   "codemirror_mode": {
    "name": "ipython",
    "version": 3
   },
   "file_extension": ".py",
   "mimetype": "text/x-python",
   "name": "python",
   "nbconvert_exporter": "python",
   "pygments_lexer": "ipython3",
   "version": "3.10.6"
  },
  "vscode": {
   "interpreter": {
    "hash": "aee8b7b246df8f9039afb4144a1f6fd8d2ca17a180786b69acc140d282b71a49"
   }
  }
 },
 "nbformat": 4,
 "nbformat_minor": 4
}
