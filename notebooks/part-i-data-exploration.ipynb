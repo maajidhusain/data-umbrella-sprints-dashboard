{
 "cells": [
  {
   "cell_type": "markdown",
   "metadata": {
    "noteable": {
     "cell_type": "markdown",
     "transaction_ids": {
      "source": "da4eac05-48d1-4618-b38f-fa4730ad4167"
     }
    },
    "nteract": {
     "transient": {
      "deleting": false
     }
    },
    "slideshow": {
     "slide_type": "slide"
    }
   },
   "source": [
    "# Welcome to introduction to dashboards with Plotly and Dash\n",
    "\n",
    "-------------------------------------------------------------------------------------------------------------------------------\n",
    "\n",
    "### Workshop facilitators: Maajid Husain -- created by Laura Gutierrez Funderburk\n",
    "\n",
    "### About this workshop\n",
    "\n",
    "In this workshop we will explore some characteristics of the housing market in Canada. \n",
    "\n",
    "It is important to note that this workshop assumes:\n",
    "\n",
    "1. Data cleaning and exploration was completed prior to developing the dashboard\n",
    "2. Some comfort with `pandas` and visualization is assumed\n",
    "3. Comfort navigating the Jupyter environment is needed\n"
   ]
  },
  {
   "cell_type": "markdown",
   "metadata": {
    "slideshow": {
     "slide_type": "slide"
    }
   },
   "source": [
    "### Workshop schedule:\n",
    "\n",
    "-------------------------------------------------------------------------------------------------------------------------------\n",
    "\n",
    "\n",
    "#### 1. Part I: Data exploration\n",
    "\n",
    "In this section, we will first spend time getting familiar with the data. We will use the `pandas` and `plotly` libraries, we will also explore the `DEX` feature within Noteable to ease getting a good sense for what the data contains.\n",
    "\n",
    "In this section, we will also explore the notion of factoring code into functions, and the notion of writing a Python script that we can use to easily recreate our results. \n",
    "\n",
    "#### 2. Part II: Dashboard components\n",
    "\n",
    "In this section, we will take what we built together in part I and explore the main components in a Dash dashboard. "
   ]
  },
  {
   "cell_type": "markdown",
   "metadata": {
    "slideshow": {
     "slide_type": "slide"
    }
   },
   "source": [
    "## Part I: Data exploration\n"
   ]
  },
  {
   "cell_type": "code",
   "execution_count": 1,
   "metadata": {
    "execution": {
     "iopub.execute_input": "2021-09-13T19:41:24.753Z",
     "iopub.status.busy": "2021-09-13T19:41:24.703Z",
     "iopub.status.idle": "2021-09-13T19:41:24.866Z",
     "shell.execute_reply": "2021-09-13T19:41:24.932Z"
    },
    "noteable": {
     "output_collection_id": "725608ac-686b-4d5b-a6e5-23ecfcf14322",
     "transaction_ids": {
      "source": "8d5bac8e-08c5-4779-b29c-d3e7af9e6f42"
     }
    },
    "slideshow": {
     "slide_type": "fragment"
    }
   },
   "outputs": [],
   "source": [
    "import pandas as pd\n",
    "import plotly.express as px"
   ]
  },
  {
   "cell_type": "code",
   "execution_count": 2,
   "metadata": {
    "execution": {
     "iopub.execute_input": "2021-09-08T00:26:45.894Z",
     "iopub.status.busy": "2021-09-08T00:26:45.869Z",
     "iopub.status.idle": "2021-09-08T00:26:45.923Z",
     "shell.execute_reply": "2021-09-08T00:26:45.951Z"
    },
    "jupyter": {
     "outputs_hidden": false,
     "source_hidden": false
    },
    "noteable": {
     "cell_type": "code",
     "transaction_ids": {
      "source": "8ed69257-c7a8-4eb7-a13f-8ed72dab7b20"
     }
    },
    "nteract": {
     "transient": {
      "deleting": false
     }
    },
    "slideshow": {
     "slide_type": "fragment"
    }
   },
   "outputs": [
    {
     "data": {
      "text/html": [
       "<div>\n",
       "<style scoped>\n",
       "    .dataframe tbody tr th:only-of-type {\n",
       "        vertical-align: middle;\n",
       "    }\n",
       "\n",
       "    .dataframe tbody tr th {\n",
       "        vertical-align: top;\n",
       "    }\n",
       "\n",
       "    .dataframe thead th {\n",
       "        text-align: right;\n",
       "    }\n",
       "</style>\n",
       "<table border=\"1\" class=\"dataframe\">\n",
       "  <thead>\n",
       "    <tr style=\"text-align: right;\">\n",
       "      <th></th>\n",
       "      <th>Geography</th>\n",
       "      <th>Time</th>\n",
       "      <th>DelinquencyRate</th>\n",
       "      <th>AverageMortgageAmount</th>\n",
       "      <th>PopulationSize</th>\n",
       "    </tr>\n",
       "  </thead>\n",
       "  <tbody>\n",
       "    <tr>\n",
       "      <th>0</th>\n",
       "      <td>Newfoundland</td>\n",
       "      <td>2012Q3</td>\n",
       "      <td>0.24</td>\n",
       "      <td>188732</td>\n",
       "      <td>526345</td>\n",
       "    </tr>\n",
       "    <tr>\n",
       "      <th>1</th>\n",
       "      <td>Prince Edward Island</td>\n",
       "      <td>2012Q3</td>\n",
       "      <td>0.57</td>\n",
       "      <td>140279</td>\n",
       "      <td>144530</td>\n",
       "    </tr>\n",
       "    <tr>\n",
       "      <th>2</th>\n",
       "      <td>Nova Scotia</td>\n",
       "      <td>2012Q3</td>\n",
       "      <td>0.53</td>\n",
       "      <td>174688</td>\n",
       "      <td>943635</td>\n",
       "    </tr>\n",
       "    <tr>\n",
       "      <th>3</th>\n",
       "      <td>New Brunswick</td>\n",
       "      <td>2012Q3</td>\n",
       "      <td>0.63</td>\n",
       "      <td>133390</td>\n",
       "      <td>758378</td>\n",
       "    </tr>\n",
       "    <tr>\n",
       "      <th>4</th>\n",
       "      <td>Québec</td>\n",
       "      <td>2012Q3</td>\n",
       "      <td>0.33</td>\n",
       "      <td>159661</td>\n",
       "      <td>8061101</td>\n",
       "    </tr>\n",
       "    <tr>\n",
       "      <th>5</th>\n",
       "      <td>Ontario</td>\n",
       "      <td>2012Q3</td>\n",
       "      <td>0.31</td>\n",
       "      <td>247455</td>\n",
       "      <td>13390632</td>\n",
       "    </tr>\n",
       "    <tr>\n",
       "      <th>6</th>\n",
       "      <td>Manitoba</td>\n",
       "      <td>2012Q3</td>\n",
       "      <td>0.25</td>\n",
       "      <td>188298</td>\n",
       "      <td>1249975</td>\n",
       "    </tr>\n",
       "    <tr>\n",
       "      <th>7</th>\n",
       "      <td>Saskatchewan</td>\n",
       "      <td>2012Q3</td>\n",
       "      <td>0.37</td>\n",
       "      <td>217945</td>\n",
       "      <td>1083755</td>\n",
       "    </tr>\n",
       "    <tr>\n",
       "      <th>8</th>\n",
       "      <td>Alberta</td>\n",
       "      <td>2012Q3</td>\n",
       "      <td>0.60</td>\n",
       "      <td>282371</td>\n",
       "      <td>3874548</td>\n",
       "    </tr>\n",
       "    <tr>\n",
       "      <th>9</th>\n",
       "      <td>British Columbia</td>\n",
       "      <td>2012Q3</td>\n",
       "      <td>0.42</td>\n",
       "      <td>305427</td>\n",
       "      <td>4566769</td>\n",
       "    </tr>\n",
       "  </tbody>\n",
       "</table>\n",
       "</div>"
      ],
      "text/plain": [
       "              Geography    Time  DelinquencyRate  AverageMortgageAmount  \\\n",
       "0          Newfoundland  2012Q3             0.24                 188732   \n",
       "1  Prince Edward Island  2012Q3             0.57                 140279   \n",
       "2           Nova Scotia  2012Q3             0.53                 174688   \n",
       "3         New Brunswick  2012Q3             0.63                 133390   \n",
       "4                Québec  2012Q3             0.33                 159661   \n",
       "5               Ontario  2012Q3             0.31                 247455   \n",
       "6              Manitoba  2012Q3             0.25                 188298   \n",
       "7          Saskatchewan  2012Q3             0.37                 217945   \n",
       "8               Alberta  2012Q3             0.60                 282371   \n",
       "9      British Columbia  2012Q3             0.42                 305427   \n",
       "\n",
       "   PopulationSize  \n",
       "0          526345  \n",
       "1          144530  \n",
       "2          943635  \n",
       "3          758378  \n",
       "4         8061101  \n",
       "5        13390632  \n",
       "6         1249975  \n",
       "7         1083755  \n",
       "8         3874548  \n",
       "9         4566769  "
      ]
     },
     "execution_count": 2,
     "metadata": {},
     "output_type": "execute_result"
    }
   ],
   "source": [
    "# Read data\n",
    "url = 'https://raw.githubusercontent.com/Vancouver-Datajam/dashboard-workshop-dash/main/data/delinquency_mortgage_population_2021_2020.csv'\n",
    "data_pop_del_mort_df = pd.read_csv(url, index_col=0)\n",
    "data_pop_del_mort_df.head(10)\n"
   ]
  },
  {
   "cell_type": "markdown",
   "metadata": {
    "noteable": {
     "cell_type": "markdown",
     "transaction_ids": {
      "source": "58f383e3-de6c-40b9-8cce-4680b83ea047"
     }
    },
    "nteract": {
     "transient": {
      "deleting": false
     }
    },
    "slideshow": {
     "slide_type": "slide"
    }
   },
   "source": [
    "## Exercise: Get familiar with the table\n",
    "\n",
    "-------------------------------------------------------------------------------------------------------------------------------\n",
    "\n",
    "Run the cell below.\n",
    "\n",
    "#### Questions\n",
    "\n",
    "a) What are relevant variables in the data?\n",
    "\n",
    "b)What is the extent (range), mean and median of columns `DelinquencyRate`, `AverageMortgageAmount` and `PopulationSize`?\n",
    "\n",
    "c) What is the time range and frequency of the data?"
   ]
  },
  {
   "cell_type": "code",
   "execution_count": 3,
   "metadata": {
    "dx": {
     "dashboard": {
      "multiViews": []
     },
     "decoration": {},
     "fieldMetadata": {},
     "filters": {
      "c9a67a11-1a89-4923-9fd3-8ec954341f77": {
       "DATE_FILTER": {},
       "DIMENSION_FILTER": {},
       "METRIC_FILTER": {}
      },
      "transitory": {
       "c9a67a11-1a89-4923-9fd3-8ec954341f77": {
        "DATE_FILTER": {},
        "DIMENSION_FILTER": {},
        "METRIC_FILTER": {}
       }
      }
     },
     "mode": "exploration",
     "sampling": {
      "sampleSeed": 4748360911,
      "sampleSize": 10000,
      "sampleStrategy": "none"
     },
     "simpleTable": false,
     "styles": {
      "colors": [
       "#005066",
       "#b3331d",
       "#b6a756",
       "#122753",
       "#b86117",
       "#27552d",
       "#e46538",
       "#96bb77",
       "#e5e36e",
       "#e6a19f",
       "#159eb7",
       "#827abf",
       "#f62150",
       "#6f89b6",
       "#f5e0b7",
       "#5b1e37",
       "#b9e3c5"
      ]
     },
     "views": [
      {
       "chart": {
        "areaType": "hexbin",
        "barGrouping": "Clustered",
        "baseLayer": "world",
        "baseLayerFill": "#FFFFFF",
        "baseLayerStroke": "#000000",
        "bgColor": "none",
        "candleClose": "DelinquencyRate",
        "candleHigh": "DelinquencyRate",
        "candleLow": "DelinquencyRate",
        "candleOpen": "DelinquencyRate",
        "combinationMode": "AVG",
        "dim1": "Geography",
        "dim2": "Time",
        "dim3": "none",
        "filteredDataOnly": "All Data",
        "funnelData": "metric",
        "funnelMetricOrder": [
         "index",
         "DelinquencyRate",
         "AverageMortgageAmount",
         "PopulationSize"
        ],
        "funnelMode": "bar",
        "hierarchyType": "dendrogram",
        "layerSettings": [
         {
          "color": "#000000",
          "hoverOpts": {
           "dims": [
            "Geography",
            "Time"
           ],
           "mets": [
            "index",
            "DelinquencyRate",
            "AverageMortgageAmount",
            "PopulationSize"
           ]
          },
          "id": "936493b3-7b1b-4e34-bbe6-4ce8c5cc2500",
          "latDim": "index",
          "longDim": "index",
          "pointColorOpts": {
           "color": "#000000",
           "gradient": {
            "interpolater": "(t) => interpolateTurbo(0.05 + 0.95 * t)",
            "name": "Turbo"
           },
           "max": 329,
           "met": "index",
           "min": 0,
           "mode": "gradient",
           "scale": {
            "name": "Linear",
            "scale": "scaleLinear"
           }
          },
          "pointSizeOpts": {
           "max": 329,
           "met": "index",
           "min": 0,
           "mode": "function",
           "scale": {
            "name": "Linear",
            "scale": "scaleLinear"
           },
           "size": 2,
           "sizeMax": 10,
           "sizeMin": 1
          },
          "size": 2,
          "stroke": "#000000",
          "strokeWidth": 1,
          "transparency": 0.75,
          "type": "point"
         }
        ],
        "lineType": "line",
        "mapMode": "point",
        "mapZoom": "basemap",
        "marginalGraphics": "none",
        "metric1": "index",
        "metric2": "DelinquencyRate",
        "metric3": "none",
        "metric4": "none",
        "networkLabel": "none",
        "networkType": "force",
        "parCoordsColor": "none",
        "pieceType": "bar",
        "proBarMode": "Combined",
        "scatterplotColor": "none",
        "selectedDimensions": [
         "Geography"
        ],
        "selectedMetrics": [],
        "sparkchart": "none",
        "summaryBins": 30,
        "summaryType": "violin",
        "trendLine": "none"
       },
       "chartMode": "grid",
       "decoration": {
        "footer": "",
        "subtitle": "",
        "title": "Table"
       },
       "id": "c9a67a11-1a89-4923-9fd3-8ec954341f77",
       "isComment": false,
       "isDefault": true,
       "type": "public",
       "userID": "Test"
      }
     ]
    },
    "execution": {
     "iopub.execute_input": "2021-09-08T00:56:16.039Z",
     "iopub.status.busy": "2021-09-08T00:56:15.997Z",
     "iopub.status.idle": "2021-09-08T00:56:18.182Z",
     "shell.execute_reply": "2021-09-08T00:56:18.229Z"
    },
    "jupyter": {
     "outputs_hidden": false,
     "source_hidden": false
    },
    "noteable": {
     "cell_type": "python",
     "transaction_ids": {
      "source": "b660334b-53c8-4fac-a010-28573c190d42"
     }
    },
    "nteract": {
     "transient": {
      "deleting": false
     }
    },
    "slideshow": {
     "slide_type": "slide"
    }
   },
   "outputs": [
    {
     "name": "stdout",
     "output_type": "stream",
     "text": [
      "<class 'pandas.core.frame.DataFrame'>\n",
      "Int64Index: 330 entries, 0 to 329\n",
      "Data columns (total 5 columns):\n",
      " #   Column                 Non-Null Count  Dtype  \n",
      "---  ------                 --------------  -----  \n",
      " 0   Geography              330 non-null    object \n",
      " 1   Time                   330 non-null    object \n",
      " 2   DelinquencyRate        330 non-null    float64\n",
      " 3   AverageMortgageAmount  330 non-null    int64  \n",
      " 4   PopulationSize         330 non-null    int64  \n",
      "dtypes: float64(1), int64(2), object(2)\n",
      "memory usage: 15.5+ KB\n"
     ]
    }
   ],
   "source": [
    "data_pop_del_mort_df.info()"
   ]
  },
  {
   "cell_type": "code",
   "execution_count": 4,
   "metadata": {},
   "outputs": [
    {
     "data": {
      "text/html": [
       "<div>\n",
       "<style scoped>\n",
       "    .dataframe tbody tr th:only-of-type {\n",
       "        vertical-align: middle;\n",
       "    }\n",
       "\n",
       "    .dataframe tbody tr th {\n",
       "        vertical-align: top;\n",
       "    }\n",
       "\n",
       "    .dataframe thead th {\n",
       "        text-align: right;\n",
       "    }\n",
       "</style>\n",
       "<table border=\"1\" class=\"dataframe\">\n",
       "  <thead>\n",
       "    <tr style=\"text-align: right;\">\n",
       "      <th></th>\n",
       "      <th>DelinquencyRate</th>\n",
       "      <th>AverageMortgageAmount</th>\n",
       "      <th>PopulationSize</th>\n",
       "    </tr>\n",
       "  </thead>\n",
       "  <tbody>\n",
       "    <tr>\n",
       "      <th>count</th>\n",
       "      <td>330.000000</td>\n",
       "      <td>330.000000</td>\n",
       "      <td>3.300000e+02</td>\n",
       "    </tr>\n",
       "    <tr>\n",
       "      <th>mean</th>\n",
       "      <td>0.443121</td>\n",
       "      <td>221437.539394</td>\n",
       "      <td>3.612792e+06</td>\n",
       "    </tr>\n",
       "    <tr>\n",
       "      <th>std</th>\n",
       "      <td>0.175417</td>\n",
       "      <td>69710.969622</td>\n",
       "      <td>4.240269e+06</td>\n",
       "    </tr>\n",
       "    <tr>\n",
       "      <th>min</th>\n",
       "      <td>0.130000</td>\n",
       "      <td>122572.000000</td>\n",
       "      <td>1.439480e+05</td>\n",
       "    </tr>\n",
       "    <tr>\n",
       "      <th>25%</th>\n",
       "      <td>0.320000</td>\n",
       "      <td>172836.000000</td>\n",
       "      <td>7.636668e+05</td>\n",
       "    </tr>\n",
       "    <tr>\n",
       "      <th>50%</th>\n",
       "      <td>0.420000</td>\n",
       "      <td>196802.000000</td>\n",
       "      <td>1.214796e+06</td>\n",
       "    </tr>\n",
       "    <tr>\n",
       "      <th>75%</th>\n",
       "      <td>0.587500</td>\n",
       "      <td>278598.500000</td>\n",
       "      <td>4.852476e+06</td>\n",
       "    </tr>\n",
       "    <tr>\n",
       "      <th>max</th>\n",
       "      <td>0.840000</td>\n",
       "      <td>417004.000000</td>\n",
       "      <td>1.473401e+07</td>\n",
       "    </tr>\n",
       "  </tbody>\n",
       "</table>\n",
       "</div>"
      ],
      "text/plain": [
       "       DelinquencyRate  AverageMortgageAmount  PopulationSize\n",
       "count       330.000000             330.000000    3.300000e+02\n",
       "mean          0.443121          221437.539394    3.612792e+06\n",
       "std           0.175417           69710.969622    4.240269e+06\n",
       "min           0.130000          122572.000000    1.439480e+05\n",
       "25%           0.320000          172836.000000    7.636668e+05\n",
       "50%           0.420000          196802.000000    1.214796e+06\n",
       "75%           0.587500          278598.500000    4.852476e+06\n",
       "max           0.840000          417004.000000    1.473401e+07"
      ]
     },
     "execution_count": 4,
     "metadata": {},
     "output_type": "execute_result"
    }
   ],
   "source": [
    "data_pop_del_mort_df.describe()"
   ]
  },
  {
   "cell_type": "markdown",
   "metadata": {
    "noteable": {
     "cell_type": "markdown",
     "transaction_ids": {
      "source": "c8f8b572-533d-4d06-a4e7-fa99702afd8b"
     }
    },
    "nteract": {
     "transient": {
      "deleting": false
     }
    },
    "slideshow": {
     "slide_type": "slide"
    }
   },
   "source": [
    "## Using Python and Plotly to generate interactive plots\n",
    "\n",
    "-------------------------------------------------------------------------------------------------------------------------------\n",
    "\n",
    "\n",
    "In this section we are going to write a few commands to get started with visualizations."
   ]
  },
  {
   "cell_type": "code",
   "execution_count": 5,
   "metadata": {
    "jupyter": {
     "outputs_hidden": false,
     "source_hidden": false
    },
    "noteable": {
     "cell_type": "python",
     "transaction_ids": {
      "source": "9130bd96-9e2b-4ac9-85b9-550069d6e469"
     }
    },
    "nteract": {
     "transient": {
      "deleting": false
     }
    },
    "slideshow": {
     "slide_type": "slide"
    }
   },
   "outputs": [
    {
     "data": {
      "application/vnd.plotly.v1+json": {
       "config": {
        "plotlyServerURL": "https://plot.ly"
       },
       "data": [
        {
         "hovertemplate": "Time=%{x}<br>DelinquencyRate=%{y}<extra></extra>",
         "legendgroup": "",
         "marker": {
          "color": "#636efa",
          "symbol": "circle"
         },
         "mode": "markers",
         "name": "",
         "orientation": "v",
         "showlegend": false,
         "type": "scatter",
         "x": [
          "2012Q3",
          "2012Q3",
          "2012Q3",
          "2012Q3",
          "2012Q3",
          "2012Q3",
          "2012Q3",
          "2012Q3",
          "2012Q3",
          "2012Q3",
          "2012Q4",
          "2012Q4",
          "2012Q4",
          "2012Q4",
          "2012Q4",
          "2012Q4",
          "2012Q4",
          "2012Q4",
          "2012Q4",
          "2012Q4",
          "2013Q1",
          "2013Q1",
          "2013Q1",
          "2013Q1",
          "2013Q1",
          "2013Q1",
          "2013Q1",
          "2013Q1",
          "2013Q1",
          "2013Q1",
          "2013Q2",
          "2013Q2",
          "2013Q2",
          "2013Q2",
          "2013Q2",
          "2013Q2",
          "2013Q2",
          "2013Q2",
          "2013Q2",
          "2013Q2",
          "2013Q3",
          "2013Q3",
          "2013Q3",
          "2013Q3",
          "2013Q3",
          "2013Q3",
          "2013Q3",
          "2013Q3",
          "2013Q3",
          "2013Q3",
          "2013Q4",
          "2013Q4",
          "2013Q4",
          "2013Q4",
          "2013Q4",
          "2013Q4",
          "2013Q4",
          "2013Q4",
          "2013Q4",
          "2013Q4",
          "2014Q1",
          "2014Q1",
          "2014Q1",
          "2014Q1",
          "2014Q1",
          "2014Q1",
          "2014Q1",
          "2014Q1",
          "2014Q1",
          "2014Q1",
          "2014Q2",
          "2014Q2",
          "2014Q2",
          "2014Q2",
          "2014Q2",
          "2014Q2",
          "2014Q2",
          "2014Q2",
          "2014Q2",
          "2014Q2",
          "2014Q3",
          "2014Q3",
          "2014Q3",
          "2014Q3",
          "2014Q3",
          "2014Q3",
          "2014Q3",
          "2014Q3",
          "2014Q3",
          "2014Q3",
          "2014Q4",
          "2014Q4",
          "2014Q4",
          "2014Q4",
          "2014Q4",
          "2014Q4",
          "2014Q4",
          "2014Q4",
          "2014Q4",
          "2014Q4",
          "2015Q1",
          "2015Q1",
          "2015Q1",
          "2015Q1",
          "2015Q1",
          "2015Q1",
          "2015Q1",
          "2015Q1",
          "2015Q1",
          "2015Q1",
          "2015Q2",
          "2015Q2",
          "2015Q2",
          "2015Q2",
          "2015Q2",
          "2015Q2",
          "2015Q2",
          "2015Q2",
          "2015Q2",
          "2015Q2",
          "2015Q3",
          "2015Q3",
          "2015Q3",
          "2015Q3",
          "2015Q3",
          "2015Q3",
          "2015Q3",
          "2015Q3",
          "2015Q3",
          "2015Q3",
          "2015Q4",
          "2015Q4",
          "2015Q4",
          "2015Q4",
          "2015Q4",
          "2015Q4",
          "2015Q4",
          "2015Q4",
          "2015Q4",
          "2015Q4",
          "2016Q1",
          "2016Q1",
          "2016Q1",
          "2016Q1",
          "2016Q1",
          "2016Q1",
          "2016Q1",
          "2016Q1",
          "2016Q1",
          "2016Q1",
          "2016Q2",
          "2016Q2",
          "2016Q2",
          "2016Q2",
          "2016Q2",
          "2016Q2",
          "2016Q2",
          "2016Q2",
          "2016Q2",
          "2016Q2",
          "2016Q3",
          "2016Q3",
          "2016Q3",
          "2016Q3",
          "2016Q3",
          "2016Q3",
          "2016Q3",
          "2016Q3",
          "2016Q3",
          "2016Q3",
          "2016Q4",
          "2016Q4",
          "2016Q4",
          "2016Q4",
          "2016Q4",
          "2016Q4",
          "2016Q4",
          "2016Q4",
          "2016Q4",
          "2016Q4",
          "2017Q1",
          "2017Q1",
          "2017Q1",
          "2017Q1",
          "2017Q1",
          "2017Q1",
          "2017Q1",
          "2017Q1",
          "2017Q1",
          "2017Q1",
          "2017Q2",
          "2017Q2",
          "2017Q2",
          "2017Q2",
          "2017Q2",
          "2017Q2",
          "2017Q2",
          "2017Q2",
          "2017Q2",
          "2017Q2",
          "2017Q3",
          "2017Q3",
          "2017Q3",
          "2017Q3",
          "2017Q3",
          "2017Q3",
          "2017Q3",
          "2017Q3",
          "2017Q3",
          "2017Q3",
          "2017Q4",
          "2017Q4",
          "2017Q4",
          "2017Q4",
          "2017Q4",
          "2017Q4",
          "2017Q4",
          "2017Q4",
          "2017Q4",
          "2017Q4",
          "2018Q1",
          "2018Q1",
          "2018Q1",
          "2018Q1",
          "2018Q1",
          "2018Q1",
          "2018Q1",
          "2018Q1",
          "2018Q1",
          "2018Q1",
          "2018Q2",
          "2018Q2",
          "2018Q2",
          "2018Q2",
          "2018Q2",
          "2018Q2",
          "2018Q2",
          "2018Q2",
          "2018Q2",
          "2018Q2",
          "2018Q3",
          "2018Q3",
          "2018Q3",
          "2018Q3",
          "2018Q3",
          "2018Q3",
          "2018Q3",
          "2018Q3",
          "2018Q3",
          "2018Q3",
          "2018Q4",
          "2018Q4",
          "2018Q4",
          "2018Q4",
          "2018Q4",
          "2018Q4",
          "2018Q4",
          "2018Q4",
          "2018Q4",
          "2018Q4",
          "2019Q1",
          "2019Q1",
          "2019Q1",
          "2019Q1",
          "2019Q1",
          "2019Q1",
          "2019Q1",
          "2019Q1",
          "2019Q1",
          "2019Q1",
          "2019Q2",
          "2019Q2",
          "2019Q2",
          "2019Q2",
          "2019Q2",
          "2019Q2",
          "2019Q2",
          "2019Q2",
          "2019Q2",
          "2019Q2",
          "2019Q3",
          "2019Q3",
          "2019Q3",
          "2019Q3",
          "2019Q3",
          "2019Q3",
          "2019Q3",
          "2019Q3",
          "2019Q3",
          "2019Q3",
          "2019Q4",
          "2019Q4",
          "2019Q4",
          "2019Q4",
          "2019Q4",
          "2019Q4",
          "2019Q4",
          "2019Q4",
          "2019Q4",
          "2019Q4",
          "2020Q1",
          "2020Q1",
          "2020Q1",
          "2020Q1",
          "2020Q1",
          "2020Q1",
          "2020Q1",
          "2020Q1",
          "2020Q1",
          "2020Q1",
          "2020Q2",
          "2020Q2",
          "2020Q2",
          "2020Q2",
          "2020Q2",
          "2020Q2",
          "2020Q2",
          "2020Q2",
          "2020Q2",
          "2020Q2",
          "2020Q3",
          "2020Q3",
          "2020Q3",
          "2020Q3",
          "2020Q3",
          "2020Q3",
          "2020Q3",
          "2020Q3",
          "2020Q3",
          "2020Q3"
         ],
         "xaxis": "x",
         "y": [
          0.24,
          0.57,
          0.53,
          0.63,
          0.33,
          0.31,
          0.25,
          0.37,
          0.6,
          0.42,
          0.22,
          0.5,
          0.53,
          0.63,
          0.33,
          0.31,
          0.27,
          0.37,
          0.55,
          0.42,
          0.25,
          0.55,
          0.55,
          0.65,
          0.35,
          0.31,
          0.28,
          0.36,
          0.52,
          0.43,
          0.19,
          0.47,
          0.56,
          0.6,
          0.34,
          0.29,
          0.26,
          0.34,
          0.47,
          0.43,
          0.2,
          0.56,
          0.58,
          0.61,
          0.33,
          0.28,
          0.28,
          0.3,
          0.45,
          0.42,
          0.22,
          0.58,
          0.62,
          0.68,
          0.35,
          0.28,
          0.28,
          0.32,
          0.43,
          0.43,
          0.23,
          0.6,
          0.65,
          0.72,
          0.37,
          0.29,
          0.28,
          0.35,
          0.42,
          0.43,
          0.25,
          0.6,
          0.65,
          0.67,
          0.36,
          0.27,
          0.25,
          0.31,
          0.37,
          0.4,
          0.26,
          0.56,
          0.67,
          0.72,
          0.37,
          0.27,
          0.24,
          0.32,
          0.34,
          0.4,
          0.28,
          0.57,
          0.68,
          0.72,
          0.39,
          0.26,
          0.27,
          0.36,
          0.32,
          0.4,
          0.37,
          0.68,
          0.7,
          0.79,
          0.42,
          0.27,
          0.31,
          0.41,
          0.32,
          0.4,
          0.37,
          0.62,
          0.67,
          0.8,
          0.41,
          0.25,
          0.3,
          0.43,
          0.33,
          0.38,
          0.37,
          0.63,
          0.66,
          0.81,
          0.41,
          0.24,
          0.29,
          0.45,
          0.35,
          0.34,
          0.41,
          0.67,
          0.68,
          0.79,
          0.42,
          0.23,
          0.33,
          0.49,
          0.36,
          0.32,
          0.45,
          0.7,
          0.7,
          0.82,
          0.44,
          0.24,
          0.34,
          0.54,
          0.41,
          0.32,
          0.46,
          0.7,
          0.72,
          0.78,
          0.43,
          0.22,
          0.35,
          0.57,
          0.45,
          0.29,
          0.49,
          0.67,
          0.76,
          0.84,
          0.42,
          0.2,
          0.34,
          0.61,
          0.53,
          0.26,
          0.46,
          0.6,
          0.75,
          0.79,
          0.4,
          0.19,
          0.35,
          0.62,
          0.53,
          0.25,
          0.47,
          0.66,
          0.7,
          0.78,
          0.41,
          0.18,
          0.36,
          0.62,
          0.54,
          0.23,
          0.47,
          0.55,
          0.64,
          0.73,
          0.4,
          0.16,
          0.35,
          0.66,
          0.52,
          0.2,
          0.46,
          0.54,
          0.6,
          0.71,
          0.37,
          0.16,
          0.33,
          0.65,
          0.51,
          0.18,
          0.52,
          0.44,
          0.58,
          0.66,
          0.34,
          0.15,
          0.3,
          0.66,
          0.5,
          0.18,
          0.56,
          0.5,
          0.59,
          0.65,
          0.34,
          0.15,
          0.3,
          0.66,
          0.5,
          0.17,
          0.6,
          0.45,
          0.54,
          0.59,
          0.35,
          0.14,
          0.31,
          0.67,
          0.46,
          0.17,
          0.6,
          0.43,
          0.52,
          0.58,
          0.35,
          0.13,
          0.32,
          0.7,
          0.47,
          0.16,
          0.62,
          0.39,
          0.56,
          0.62,
          0.38,
          0.14,
          0.35,
          0.72,
          0.5,
          0.17,
          0.64,
          0.39,
          0.54,
          0.63,
          0.38,
          0.14,
          0.35,
          0.74,
          0.51,
          0.17,
          0.65,
          0.38,
          0.52,
          0.6,
          0.37,
          0.14,
          0.35,
          0.75,
          0.53,
          0.17,
          0.65,
          0.34,
          0.5,
          0.57,
          0.37,
          0.14,
          0.34,
          0.73,
          0.51,
          0.16,
          0.65,
          0.32,
          0.5,
          0.57,
          0.36,
          0.14,
          0.36,
          0.73,
          0.5,
          0.16,
          0.67,
          0.25,
          0.46,
          0.57,
          0.36,
          0.14,
          0.37,
          0.75,
          0.52,
          0.17,
          0.68,
          0.26,
          0.47,
          0.54,
          0.34,
          0.14,
          0.38,
          0.76,
          0.52,
          0.19,
          0.64,
          0.27,
          0.45,
          0.52,
          0.36,
          0.14,
          0.35,
          0.72,
          0.5,
          0.19
         ],
         "yaxis": "y"
        }
       ],
       "layout": {
        "legend": {
         "tracegroupgap": 0
        },
        "margin": {
         "t": 60
        },
        "template": {
         "data": {
          "bar": [
           {
            "error_x": {
             "color": "#2a3f5f"
            },
            "error_y": {
             "color": "#2a3f5f"
            },
            "marker": {
             "line": {
              "color": "#E5ECF6",
              "width": 0.5
             },
             "pattern": {
              "fillmode": "overlay",
              "size": 10,
              "solidity": 0.2
             }
            },
            "type": "bar"
           }
          ],
          "barpolar": [
           {
            "marker": {
             "line": {
              "color": "#E5ECF6",
              "width": 0.5
             },
             "pattern": {
              "fillmode": "overlay",
              "size": 10,
              "solidity": 0.2
             }
            },
            "type": "barpolar"
           }
          ],
          "carpet": [
           {
            "aaxis": {
             "endlinecolor": "#2a3f5f",
             "gridcolor": "white",
             "linecolor": "white",
             "minorgridcolor": "white",
             "startlinecolor": "#2a3f5f"
            },
            "baxis": {
             "endlinecolor": "#2a3f5f",
             "gridcolor": "white",
             "linecolor": "white",
             "minorgridcolor": "white",
             "startlinecolor": "#2a3f5f"
            },
            "type": "carpet"
           }
          ],
          "choropleth": [
           {
            "colorbar": {
             "outlinewidth": 0,
             "ticks": ""
            },
            "type": "choropleth"
           }
          ],
          "contour": [
           {
            "colorbar": {
             "outlinewidth": 0,
             "ticks": ""
            },
            "colorscale": [
             [
              0,
              "#0d0887"
             ],
             [
              0.1111111111111111,
              "#46039f"
             ],
             [
              0.2222222222222222,
              "#7201a8"
             ],
             [
              0.3333333333333333,
              "#9c179e"
             ],
             [
              0.4444444444444444,
              "#bd3786"
             ],
             [
              0.5555555555555556,
              "#d8576b"
             ],
             [
              0.6666666666666666,
              "#ed7953"
             ],
             [
              0.7777777777777778,
              "#fb9f3a"
             ],
             [
              0.8888888888888888,
              "#fdca26"
             ],
             [
              1,
              "#f0f921"
             ]
            ],
            "type": "contour"
           }
          ],
          "contourcarpet": [
           {
            "colorbar": {
             "outlinewidth": 0,
             "ticks": ""
            },
            "type": "contourcarpet"
           }
          ],
          "heatmap": [
           {
            "colorbar": {
             "outlinewidth": 0,
             "ticks": ""
            },
            "colorscale": [
             [
              0,
              "#0d0887"
             ],
             [
              0.1111111111111111,
              "#46039f"
             ],
             [
              0.2222222222222222,
              "#7201a8"
             ],
             [
              0.3333333333333333,
              "#9c179e"
             ],
             [
              0.4444444444444444,
              "#bd3786"
             ],
             [
              0.5555555555555556,
              "#d8576b"
             ],
             [
              0.6666666666666666,
              "#ed7953"
             ],
             [
              0.7777777777777778,
              "#fb9f3a"
             ],
             [
              0.8888888888888888,
              "#fdca26"
             ],
             [
              1,
              "#f0f921"
             ]
            ],
            "type": "heatmap"
           }
          ],
          "heatmapgl": [
           {
            "colorbar": {
             "outlinewidth": 0,
             "ticks": ""
            },
            "colorscale": [
             [
              0,
              "#0d0887"
             ],
             [
              0.1111111111111111,
              "#46039f"
             ],
             [
              0.2222222222222222,
              "#7201a8"
             ],
             [
              0.3333333333333333,
              "#9c179e"
             ],
             [
              0.4444444444444444,
              "#bd3786"
             ],
             [
              0.5555555555555556,
              "#d8576b"
             ],
             [
              0.6666666666666666,
              "#ed7953"
             ],
             [
              0.7777777777777778,
              "#fb9f3a"
             ],
             [
              0.8888888888888888,
              "#fdca26"
             ],
             [
              1,
              "#f0f921"
             ]
            ],
            "type": "heatmapgl"
           }
          ],
          "histogram": [
           {
            "marker": {
             "pattern": {
              "fillmode": "overlay",
              "size": 10,
              "solidity": 0.2
             }
            },
            "type": "histogram"
           }
          ],
          "histogram2d": [
           {
            "colorbar": {
             "outlinewidth": 0,
             "ticks": ""
            },
            "colorscale": [
             [
              0,
              "#0d0887"
             ],
             [
              0.1111111111111111,
              "#46039f"
             ],
             [
              0.2222222222222222,
              "#7201a8"
             ],
             [
              0.3333333333333333,
              "#9c179e"
             ],
             [
              0.4444444444444444,
              "#bd3786"
             ],
             [
              0.5555555555555556,
              "#d8576b"
             ],
             [
              0.6666666666666666,
              "#ed7953"
             ],
             [
              0.7777777777777778,
              "#fb9f3a"
             ],
             [
              0.8888888888888888,
              "#fdca26"
             ],
             [
              1,
              "#f0f921"
             ]
            ],
            "type": "histogram2d"
           }
          ],
          "histogram2dcontour": [
           {
            "colorbar": {
             "outlinewidth": 0,
             "ticks": ""
            },
            "colorscale": [
             [
              0,
              "#0d0887"
             ],
             [
              0.1111111111111111,
              "#46039f"
             ],
             [
              0.2222222222222222,
              "#7201a8"
             ],
             [
              0.3333333333333333,
              "#9c179e"
             ],
             [
              0.4444444444444444,
              "#bd3786"
             ],
             [
              0.5555555555555556,
              "#d8576b"
             ],
             [
              0.6666666666666666,
              "#ed7953"
             ],
             [
              0.7777777777777778,
              "#fb9f3a"
             ],
             [
              0.8888888888888888,
              "#fdca26"
             ],
             [
              1,
              "#f0f921"
             ]
            ],
            "type": "histogram2dcontour"
           }
          ],
          "mesh3d": [
           {
            "colorbar": {
             "outlinewidth": 0,
             "ticks": ""
            },
            "type": "mesh3d"
           }
          ],
          "parcoords": [
           {
            "line": {
             "colorbar": {
              "outlinewidth": 0,
              "ticks": ""
             }
            },
            "type": "parcoords"
           }
          ],
          "pie": [
           {
            "automargin": true,
            "type": "pie"
           }
          ],
          "scatter": [
           {
            "fillpattern": {
             "fillmode": "overlay",
             "size": 10,
             "solidity": 0.2
            },
            "type": "scatter"
           }
          ],
          "scatter3d": [
           {
            "line": {
             "colorbar": {
              "outlinewidth": 0,
              "ticks": ""
             }
            },
            "marker": {
             "colorbar": {
              "outlinewidth": 0,
              "ticks": ""
             }
            },
            "type": "scatter3d"
           }
          ],
          "scattercarpet": [
           {
            "marker": {
             "colorbar": {
              "outlinewidth": 0,
              "ticks": ""
             }
            },
            "type": "scattercarpet"
           }
          ],
          "scattergeo": [
           {
            "marker": {
             "colorbar": {
              "outlinewidth": 0,
              "ticks": ""
             }
            },
            "type": "scattergeo"
           }
          ],
          "scattergl": [
           {
            "marker": {
             "colorbar": {
              "outlinewidth": 0,
              "ticks": ""
             }
            },
            "type": "scattergl"
           }
          ],
          "scattermapbox": [
           {
            "marker": {
             "colorbar": {
              "outlinewidth": 0,
              "ticks": ""
             }
            },
            "type": "scattermapbox"
           }
          ],
          "scatterpolar": [
           {
            "marker": {
             "colorbar": {
              "outlinewidth": 0,
              "ticks": ""
             }
            },
            "type": "scatterpolar"
           }
          ],
          "scatterpolargl": [
           {
            "marker": {
             "colorbar": {
              "outlinewidth": 0,
              "ticks": ""
             }
            },
            "type": "scatterpolargl"
           }
          ],
          "scatterternary": [
           {
            "marker": {
             "colorbar": {
              "outlinewidth": 0,
              "ticks": ""
             }
            },
            "type": "scatterternary"
           }
          ],
          "surface": [
           {
            "colorbar": {
             "outlinewidth": 0,
             "ticks": ""
            },
            "colorscale": [
             [
              0,
              "#0d0887"
             ],
             [
              0.1111111111111111,
              "#46039f"
             ],
             [
              0.2222222222222222,
              "#7201a8"
             ],
             [
              0.3333333333333333,
              "#9c179e"
             ],
             [
              0.4444444444444444,
              "#bd3786"
             ],
             [
              0.5555555555555556,
              "#d8576b"
             ],
             [
              0.6666666666666666,
              "#ed7953"
             ],
             [
              0.7777777777777778,
              "#fb9f3a"
             ],
             [
              0.8888888888888888,
              "#fdca26"
             ],
             [
              1,
              "#f0f921"
             ]
            ],
            "type": "surface"
           }
          ],
          "table": [
           {
            "cells": {
             "fill": {
              "color": "#EBF0F8"
             },
             "line": {
              "color": "white"
             }
            },
            "header": {
             "fill": {
              "color": "#C8D4E3"
             },
             "line": {
              "color": "white"
             }
            },
            "type": "table"
           }
          ]
         },
         "layout": {
          "annotationdefaults": {
           "arrowcolor": "#2a3f5f",
           "arrowhead": 0,
           "arrowwidth": 1
          },
          "autotypenumbers": "strict",
          "coloraxis": {
           "colorbar": {
            "outlinewidth": 0,
            "ticks": ""
           }
          },
          "colorscale": {
           "diverging": [
            [
             0,
             "#8e0152"
            ],
            [
             0.1,
             "#c51b7d"
            ],
            [
             0.2,
             "#de77ae"
            ],
            [
             0.3,
             "#f1b6da"
            ],
            [
             0.4,
             "#fde0ef"
            ],
            [
             0.5,
             "#f7f7f7"
            ],
            [
             0.6,
             "#e6f5d0"
            ],
            [
             0.7,
             "#b8e186"
            ],
            [
             0.8,
             "#7fbc41"
            ],
            [
             0.9,
             "#4d9221"
            ],
            [
             1,
             "#276419"
            ]
           ],
           "sequential": [
            [
             0,
             "#0d0887"
            ],
            [
             0.1111111111111111,
             "#46039f"
            ],
            [
             0.2222222222222222,
             "#7201a8"
            ],
            [
             0.3333333333333333,
             "#9c179e"
            ],
            [
             0.4444444444444444,
             "#bd3786"
            ],
            [
             0.5555555555555556,
             "#d8576b"
            ],
            [
             0.6666666666666666,
             "#ed7953"
            ],
            [
             0.7777777777777778,
             "#fb9f3a"
            ],
            [
             0.8888888888888888,
             "#fdca26"
            ],
            [
             1,
             "#f0f921"
            ]
           ],
           "sequentialminus": [
            [
             0,
             "#0d0887"
            ],
            [
             0.1111111111111111,
             "#46039f"
            ],
            [
             0.2222222222222222,
             "#7201a8"
            ],
            [
             0.3333333333333333,
             "#9c179e"
            ],
            [
             0.4444444444444444,
             "#bd3786"
            ],
            [
             0.5555555555555556,
             "#d8576b"
            ],
            [
             0.6666666666666666,
             "#ed7953"
            ],
            [
             0.7777777777777778,
             "#fb9f3a"
            ],
            [
             0.8888888888888888,
             "#fdca26"
            ],
            [
             1,
             "#f0f921"
            ]
           ]
          },
          "colorway": [
           "#636efa",
           "#EF553B",
           "#00cc96",
           "#ab63fa",
           "#FFA15A",
           "#19d3f3",
           "#FF6692",
           "#B6E880",
           "#FF97FF",
           "#FECB52"
          ],
          "font": {
           "color": "#2a3f5f"
          },
          "geo": {
           "bgcolor": "white",
           "lakecolor": "white",
           "landcolor": "#E5ECF6",
           "showlakes": true,
           "showland": true,
           "subunitcolor": "white"
          },
          "hoverlabel": {
           "align": "left"
          },
          "hovermode": "closest",
          "mapbox": {
           "style": "light"
          },
          "paper_bgcolor": "white",
          "plot_bgcolor": "#E5ECF6",
          "polar": {
           "angularaxis": {
            "gridcolor": "white",
            "linecolor": "white",
            "ticks": ""
           },
           "bgcolor": "#E5ECF6",
           "radialaxis": {
            "gridcolor": "white",
            "linecolor": "white",
            "ticks": ""
           }
          },
          "scene": {
           "xaxis": {
            "backgroundcolor": "#E5ECF6",
            "gridcolor": "white",
            "gridwidth": 2,
            "linecolor": "white",
            "showbackground": true,
            "ticks": "",
            "zerolinecolor": "white"
           },
           "yaxis": {
            "backgroundcolor": "#E5ECF6",
            "gridcolor": "white",
            "gridwidth": 2,
            "linecolor": "white",
            "showbackground": true,
            "ticks": "",
            "zerolinecolor": "white"
           },
           "zaxis": {
            "backgroundcolor": "#E5ECF6",
            "gridcolor": "white",
            "gridwidth": 2,
            "linecolor": "white",
            "showbackground": true,
            "ticks": "",
            "zerolinecolor": "white"
           }
          },
          "shapedefaults": {
           "line": {
            "color": "#2a3f5f"
           }
          },
          "ternary": {
           "aaxis": {
            "gridcolor": "white",
            "linecolor": "white",
            "ticks": ""
           },
           "baxis": {
            "gridcolor": "white",
            "linecolor": "white",
            "ticks": ""
           },
           "bgcolor": "#E5ECF6",
           "caxis": {
            "gridcolor": "white",
            "linecolor": "white",
            "ticks": ""
           }
          },
          "title": {
           "x": 0.05
          },
          "xaxis": {
           "automargin": true,
           "gridcolor": "white",
           "linecolor": "white",
           "ticks": "",
           "title": {
            "standoff": 15
           },
           "zerolinecolor": "white",
           "zerolinewidth": 2
          },
          "yaxis": {
           "automargin": true,
           "gridcolor": "white",
           "linecolor": "white",
           "ticks": "",
           "title": {
            "standoff": 15
           },
           "zerolinecolor": "white",
           "zerolinewidth": 2
          }
         }
        },
        "xaxis": {
         "anchor": "y",
         "domain": [
          0,
          1
         ],
         "title": {
          "text": "Time"
         }
        },
        "yaxis": {
         "anchor": "x",
         "domain": [
          0,
          1
         ],
         "title": {
          "text": "DelinquencyRate"
         }
        }
       }
      }
     },
     "metadata": {},
     "output_type": "display_data"
    }
   ],
   "source": [
    "# First attempt\n",
    "px.scatter(data_pop_del_mort_df, \n",
    "        x = \"Time\",\n",
    "        y=\"DelinquencyRate\")\n"
   ]
  },
  {
   "cell_type": "markdown",
   "metadata": {
    "slideshow": {
     "slide_type": "slide"
    }
   },
   "source": [
    "The plot above is quite difficult to read. Let's colour the values by Geography, and add a title."
   ]
  },
  {
   "cell_type": "markdown",
   "metadata": {
    "slideshow": {
     "slide_type": "slide"
    }
   },
   "source": [
    "### Advantages to using Plotly\n",
    "- can isolate one line at a time\n",
    "- can use the hover feature to see data points"
   ]
  },
  {
   "cell_type": "code",
   "execution_count": 6,
   "metadata": {
    "scrolled": false,
    "slideshow": {
     "slide_type": "subslide"
    }
   },
   "outputs": [
    {
     "data": {
      "application/vnd.plotly.v1+json": {
       "config": {
        "plotlyServerURL": "https://plot.ly"
       },
       "data": [
        {
         "hovertemplate": "Geography=Newfoundland<br>Time=%{x}<br>DelinquencyRate=%{y}<extra></extra>",
         "legendgroup": "Newfoundland",
         "line": {
          "color": "#636efa",
          "dash": "solid"
         },
         "marker": {
          "symbol": "circle"
         },
         "mode": "lines",
         "name": "Newfoundland",
         "orientation": "v",
         "showlegend": true,
         "type": "scatter",
         "x": [
          "2012Q3",
          "2012Q4",
          "2013Q1",
          "2013Q2",
          "2013Q3",
          "2013Q4",
          "2014Q1",
          "2014Q2",
          "2014Q3",
          "2014Q4",
          "2015Q1",
          "2015Q2",
          "2015Q3",
          "2015Q4",
          "2016Q1",
          "2016Q2",
          "2016Q3",
          "2016Q4",
          "2017Q1",
          "2017Q2",
          "2017Q3",
          "2017Q4",
          "2018Q1",
          "2018Q2",
          "2018Q3",
          "2018Q4",
          "2019Q1",
          "2019Q2",
          "2019Q3",
          "2019Q4",
          "2020Q1",
          "2020Q2",
          "2020Q3"
         ],
         "xaxis": "x",
         "y": [
          0.24,
          0.22,
          0.25,
          0.19,
          0.2,
          0.22,
          0.23,
          0.25,
          0.26,
          0.28,
          0.37,
          0.37,
          0.37,
          0.41,
          0.45,
          0.46,
          0.49,
          0.46,
          0.47,
          0.47,
          0.46,
          0.52,
          0.56,
          0.6,
          0.6,
          0.62,
          0.64,
          0.65,
          0.65,
          0.65,
          0.67,
          0.68,
          0.64
         ],
         "yaxis": "y"
        },
        {
         "hovertemplate": "Geography=Prince Edward Island<br>Time=%{x}<br>DelinquencyRate=%{y}<extra></extra>",
         "legendgroup": "Prince Edward Island",
         "line": {
          "color": "#EF553B",
          "dash": "solid"
         },
         "marker": {
          "symbol": "circle"
         },
         "mode": "lines",
         "name": "Prince Edward Island",
         "orientation": "v",
         "showlegend": true,
         "type": "scatter",
         "x": [
          "2012Q3",
          "2012Q4",
          "2013Q1",
          "2013Q2",
          "2013Q3",
          "2013Q4",
          "2014Q1",
          "2014Q2",
          "2014Q3",
          "2014Q4",
          "2015Q1",
          "2015Q2",
          "2015Q3",
          "2015Q4",
          "2016Q1",
          "2016Q2",
          "2016Q3",
          "2016Q4",
          "2017Q1",
          "2017Q2",
          "2017Q3",
          "2017Q4",
          "2018Q1",
          "2018Q2",
          "2018Q3",
          "2018Q4",
          "2019Q1",
          "2019Q2",
          "2019Q3",
          "2019Q4",
          "2020Q1",
          "2020Q2",
          "2020Q3"
         ],
         "xaxis": "x",
         "y": [
          0.57,
          0.5,
          0.55,
          0.47,
          0.56,
          0.58,
          0.6,
          0.6,
          0.56,
          0.57,
          0.68,
          0.62,
          0.63,
          0.67,
          0.7,
          0.7,
          0.67,
          0.6,
          0.66,
          0.55,
          0.54,
          0.44,
          0.5,
          0.45,
          0.43,
          0.39,
          0.39,
          0.38,
          0.34,
          0.32,
          0.25,
          0.26,
          0.27
         ],
         "yaxis": "y"
        },
        {
         "hovertemplate": "Geography=Nova Scotia<br>Time=%{x}<br>DelinquencyRate=%{y}<extra></extra>",
         "legendgroup": "Nova Scotia",
         "line": {
          "color": "#00cc96",
          "dash": "solid"
         },
         "marker": {
          "symbol": "circle"
         },
         "mode": "lines",
         "name": "Nova Scotia",
         "orientation": "v",
         "showlegend": true,
         "type": "scatter",
         "x": [
          "2012Q3",
          "2012Q4",
          "2013Q1",
          "2013Q2",
          "2013Q3",
          "2013Q4",
          "2014Q1",
          "2014Q2",
          "2014Q3",
          "2014Q4",
          "2015Q1",
          "2015Q2",
          "2015Q3",
          "2015Q4",
          "2016Q1",
          "2016Q2",
          "2016Q3",
          "2016Q4",
          "2017Q1",
          "2017Q2",
          "2017Q3",
          "2017Q4",
          "2018Q1",
          "2018Q2",
          "2018Q3",
          "2018Q4",
          "2019Q1",
          "2019Q2",
          "2019Q3",
          "2019Q4",
          "2020Q1",
          "2020Q2",
          "2020Q3"
         ],
         "xaxis": "x",
         "y": [
          0.53,
          0.53,
          0.55,
          0.56,
          0.58,
          0.62,
          0.65,
          0.65,
          0.67,
          0.68,
          0.7,
          0.67,
          0.66,
          0.68,
          0.7,
          0.72,
          0.76,
          0.75,
          0.7,
          0.64,
          0.6,
          0.58,
          0.59,
          0.54,
          0.52,
          0.56,
          0.54,
          0.52,
          0.5,
          0.5,
          0.46,
          0.47,
          0.45
         ],
         "yaxis": "y"
        },
        {
         "hovertemplate": "Geography=New Brunswick<br>Time=%{x}<br>DelinquencyRate=%{y}<extra></extra>",
         "legendgroup": "New Brunswick",
         "line": {
          "color": "#ab63fa",
          "dash": "solid"
         },
         "marker": {
          "symbol": "circle"
         },
         "mode": "lines",
         "name": "New Brunswick",
         "orientation": "v",
         "showlegend": true,
         "type": "scatter",
         "x": [
          "2012Q3",
          "2012Q4",
          "2013Q1",
          "2013Q2",
          "2013Q3",
          "2013Q4",
          "2014Q1",
          "2014Q2",
          "2014Q3",
          "2014Q4",
          "2015Q1",
          "2015Q2",
          "2015Q3",
          "2015Q4",
          "2016Q1",
          "2016Q2",
          "2016Q3",
          "2016Q4",
          "2017Q1",
          "2017Q2",
          "2017Q3",
          "2017Q4",
          "2018Q1",
          "2018Q2",
          "2018Q3",
          "2018Q4",
          "2019Q1",
          "2019Q2",
          "2019Q3",
          "2019Q4",
          "2020Q1",
          "2020Q2",
          "2020Q3"
         ],
         "xaxis": "x",
         "y": [
          0.63,
          0.63,
          0.65,
          0.6,
          0.61,
          0.68,
          0.72,
          0.67,
          0.72,
          0.72,
          0.79,
          0.8,
          0.81,
          0.79,
          0.82,
          0.78,
          0.84,
          0.79,
          0.78,
          0.73,
          0.71,
          0.66,
          0.65,
          0.59,
          0.58,
          0.62,
          0.63,
          0.6,
          0.57,
          0.57,
          0.57,
          0.54,
          0.52
         ],
         "yaxis": "y"
        },
        {
         "hovertemplate": "Geography=Québec<br>Time=%{x}<br>DelinquencyRate=%{y}<extra></extra>",
         "legendgroup": "Québec",
         "line": {
          "color": "#FFA15A",
          "dash": "solid"
         },
         "marker": {
          "symbol": "circle"
         },
         "mode": "lines",
         "name": "Québec",
         "orientation": "v",
         "showlegend": true,
         "type": "scatter",
         "x": [
          "2012Q3",
          "2012Q4",
          "2013Q1",
          "2013Q2",
          "2013Q3",
          "2013Q4",
          "2014Q1",
          "2014Q2",
          "2014Q3",
          "2014Q4",
          "2015Q1",
          "2015Q2",
          "2015Q3",
          "2015Q4",
          "2016Q1",
          "2016Q2",
          "2016Q3",
          "2016Q4",
          "2017Q1",
          "2017Q2",
          "2017Q3",
          "2017Q4",
          "2018Q1",
          "2018Q2",
          "2018Q3",
          "2018Q4",
          "2019Q1",
          "2019Q2",
          "2019Q3",
          "2019Q4",
          "2020Q1",
          "2020Q2",
          "2020Q3"
         ],
         "xaxis": "x",
         "y": [
          0.33,
          0.33,
          0.35,
          0.34,
          0.33,
          0.35,
          0.37,
          0.36,
          0.37,
          0.39,
          0.42,
          0.41,
          0.41,
          0.42,
          0.44,
          0.43,
          0.42,
          0.4,
          0.41,
          0.4,
          0.37,
          0.34,
          0.34,
          0.35,
          0.35,
          0.38,
          0.38,
          0.37,
          0.37,
          0.36,
          0.36,
          0.34,
          0.36
         ],
         "yaxis": "y"
        },
        {
         "hovertemplate": "Geography=Ontario<br>Time=%{x}<br>DelinquencyRate=%{y}<extra></extra>",
         "legendgroup": "Ontario",
         "line": {
          "color": "#19d3f3",
          "dash": "solid"
         },
         "marker": {
          "symbol": "circle"
         },
         "mode": "lines",
         "name": "Ontario",
         "orientation": "v",
         "showlegend": true,
         "type": "scatter",
         "x": [
          "2012Q3",
          "2012Q4",
          "2013Q1",
          "2013Q2",
          "2013Q3",
          "2013Q4",
          "2014Q1",
          "2014Q2",
          "2014Q3",
          "2014Q4",
          "2015Q1",
          "2015Q2",
          "2015Q3",
          "2015Q4",
          "2016Q1",
          "2016Q2",
          "2016Q3",
          "2016Q4",
          "2017Q1",
          "2017Q2",
          "2017Q3",
          "2017Q4",
          "2018Q1",
          "2018Q2",
          "2018Q3",
          "2018Q4",
          "2019Q1",
          "2019Q2",
          "2019Q3",
          "2019Q4",
          "2020Q1",
          "2020Q2",
          "2020Q3"
         ],
         "xaxis": "x",
         "y": [
          0.31,
          0.31,
          0.31,
          0.29,
          0.28,
          0.28,
          0.29,
          0.27,
          0.27,
          0.26,
          0.27,
          0.25,
          0.24,
          0.23,
          0.24,
          0.22,
          0.2,
          0.19,
          0.18,
          0.16,
          0.16,
          0.15,
          0.15,
          0.14,
          0.13,
          0.14,
          0.14,
          0.14,
          0.14,
          0.14,
          0.14,
          0.14,
          0.14
         ],
         "yaxis": "y"
        },
        {
         "hovertemplate": "Geography=Manitoba<br>Time=%{x}<br>DelinquencyRate=%{y}<extra></extra>",
         "legendgroup": "Manitoba",
         "line": {
          "color": "#FF6692",
          "dash": "solid"
         },
         "marker": {
          "symbol": "circle"
         },
         "mode": "lines",
         "name": "Manitoba",
         "orientation": "v",
         "showlegend": true,
         "type": "scatter",
         "x": [
          "2012Q3",
          "2012Q4",
          "2013Q1",
          "2013Q2",
          "2013Q3",
          "2013Q4",
          "2014Q1",
          "2014Q2",
          "2014Q3",
          "2014Q4",
          "2015Q1",
          "2015Q2",
          "2015Q3",
          "2015Q4",
          "2016Q1",
          "2016Q2",
          "2016Q3",
          "2016Q4",
          "2017Q1",
          "2017Q2",
          "2017Q3",
          "2017Q4",
          "2018Q1",
          "2018Q2",
          "2018Q3",
          "2018Q4",
          "2019Q1",
          "2019Q2",
          "2019Q3",
          "2019Q4",
          "2020Q1",
          "2020Q2",
          "2020Q3"
         ],
         "xaxis": "x",
         "y": [
          0.25,
          0.27,
          0.28,
          0.26,
          0.28,
          0.28,
          0.28,
          0.25,
          0.24,
          0.27,
          0.31,
          0.3,
          0.29,
          0.33,
          0.34,
          0.35,
          0.34,
          0.35,
          0.36,
          0.35,
          0.33,
          0.3,
          0.3,
          0.31,
          0.32,
          0.35,
          0.35,
          0.35,
          0.34,
          0.36,
          0.37,
          0.38,
          0.35
         ],
         "yaxis": "y"
        },
        {
         "hovertemplate": "Geography=Saskatchewan<br>Time=%{x}<br>DelinquencyRate=%{y}<extra></extra>",
         "legendgroup": "Saskatchewan",
         "line": {
          "color": "#B6E880",
          "dash": "solid"
         },
         "marker": {
          "symbol": "circle"
         },
         "mode": "lines",
         "name": "Saskatchewan",
         "orientation": "v",
         "showlegend": true,
         "type": "scatter",
         "x": [
          "2012Q3",
          "2012Q4",
          "2013Q1",
          "2013Q2",
          "2013Q3",
          "2013Q4",
          "2014Q1",
          "2014Q2",
          "2014Q3",
          "2014Q4",
          "2015Q1",
          "2015Q2",
          "2015Q3",
          "2015Q4",
          "2016Q1",
          "2016Q2",
          "2016Q3",
          "2016Q4",
          "2017Q1",
          "2017Q2",
          "2017Q3",
          "2017Q4",
          "2018Q1",
          "2018Q2",
          "2018Q3",
          "2018Q4",
          "2019Q1",
          "2019Q2",
          "2019Q3",
          "2019Q4",
          "2020Q1",
          "2020Q2",
          "2020Q3"
         ],
         "xaxis": "x",
         "y": [
          0.37,
          0.37,
          0.36,
          0.34,
          0.3,
          0.32,
          0.35,
          0.31,
          0.32,
          0.36,
          0.41,
          0.43,
          0.45,
          0.49,
          0.54,
          0.57,
          0.61,
          0.62,
          0.62,
          0.66,
          0.65,
          0.66,
          0.66,
          0.67,
          0.7,
          0.72,
          0.74,
          0.75,
          0.73,
          0.73,
          0.75,
          0.76,
          0.72
         ],
         "yaxis": "y"
        },
        {
         "hovertemplate": "Geography=Alberta<br>Time=%{x}<br>DelinquencyRate=%{y}<extra></extra>",
         "legendgroup": "Alberta",
         "line": {
          "color": "#FF97FF",
          "dash": "solid"
         },
         "marker": {
          "symbol": "circle"
         },
         "mode": "lines",
         "name": "Alberta",
         "orientation": "v",
         "showlegend": true,
         "type": "scatter",
         "x": [
          "2012Q3",
          "2012Q4",
          "2013Q1",
          "2013Q2",
          "2013Q3",
          "2013Q4",
          "2014Q1",
          "2014Q2",
          "2014Q3",
          "2014Q4",
          "2015Q1",
          "2015Q2",
          "2015Q3",
          "2015Q4",
          "2016Q1",
          "2016Q2",
          "2016Q3",
          "2016Q4",
          "2017Q1",
          "2017Q2",
          "2017Q3",
          "2017Q4",
          "2018Q1",
          "2018Q2",
          "2018Q3",
          "2018Q4",
          "2019Q1",
          "2019Q2",
          "2019Q3",
          "2019Q4",
          "2020Q1",
          "2020Q2",
          "2020Q3"
         ],
         "xaxis": "x",
         "y": [
          0.6,
          0.55,
          0.52,
          0.47,
          0.45,
          0.43,
          0.42,
          0.37,
          0.34,
          0.32,
          0.32,
          0.33,
          0.35,
          0.36,
          0.41,
          0.45,
          0.53,
          0.53,
          0.54,
          0.52,
          0.51,
          0.5,
          0.5,
          0.46,
          0.47,
          0.5,
          0.51,
          0.53,
          0.51,
          0.5,
          0.52,
          0.52,
          0.5
         ],
         "yaxis": "y"
        },
        {
         "hovertemplate": "Geography=British Columbia<br>Time=%{x}<br>DelinquencyRate=%{y}<extra></extra>",
         "legendgroup": "British Columbia",
         "line": {
          "color": "#FECB52",
          "dash": "solid"
         },
         "marker": {
          "symbol": "circle"
         },
         "mode": "lines",
         "name": "British Columbia",
         "orientation": "v",
         "showlegend": true,
         "type": "scatter",
         "x": [
          "2012Q3",
          "2012Q4",
          "2013Q1",
          "2013Q2",
          "2013Q3",
          "2013Q4",
          "2014Q1",
          "2014Q2",
          "2014Q3",
          "2014Q4",
          "2015Q1",
          "2015Q2",
          "2015Q3",
          "2015Q4",
          "2016Q1",
          "2016Q2",
          "2016Q3",
          "2016Q4",
          "2017Q1",
          "2017Q2",
          "2017Q3",
          "2017Q4",
          "2018Q1",
          "2018Q2",
          "2018Q3",
          "2018Q4",
          "2019Q1",
          "2019Q2",
          "2019Q3",
          "2019Q4",
          "2020Q1",
          "2020Q2",
          "2020Q3"
         ],
         "xaxis": "x",
         "y": [
          0.42,
          0.42,
          0.43,
          0.43,
          0.42,
          0.43,
          0.43,
          0.4,
          0.4,
          0.4,
          0.4,
          0.38,
          0.34,
          0.32,
          0.32,
          0.29,
          0.26,
          0.25,
          0.23,
          0.2,
          0.18,
          0.18,
          0.17,
          0.17,
          0.16,
          0.17,
          0.17,
          0.17,
          0.16,
          0.16,
          0.17,
          0.19,
          0.19
         ],
         "yaxis": "y"
        }
       ],
       "layout": {
        "legend": {
         "title": {
          "text": "Geography"
         },
         "tracegroupgap": 0
        },
        "template": {
         "data": {
          "bar": [
           {
            "error_x": {
             "color": "#2a3f5f"
            },
            "error_y": {
             "color": "#2a3f5f"
            },
            "marker": {
             "line": {
              "color": "#E5ECF6",
              "width": 0.5
             },
             "pattern": {
              "fillmode": "overlay",
              "size": 10,
              "solidity": 0.2
             }
            },
            "type": "bar"
           }
          ],
          "barpolar": [
           {
            "marker": {
             "line": {
              "color": "#E5ECF6",
              "width": 0.5
             },
             "pattern": {
              "fillmode": "overlay",
              "size": 10,
              "solidity": 0.2
             }
            },
            "type": "barpolar"
           }
          ],
          "carpet": [
           {
            "aaxis": {
             "endlinecolor": "#2a3f5f",
             "gridcolor": "white",
             "linecolor": "white",
             "minorgridcolor": "white",
             "startlinecolor": "#2a3f5f"
            },
            "baxis": {
             "endlinecolor": "#2a3f5f",
             "gridcolor": "white",
             "linecolor": "white",
             "minorgridcolor": "white",
             "startlinecolor": "#2a3f5f"
            },
            "type": "carpet"
           }
          ],
          "choropleth": [
           {
            "colorbar": {
             "outlinewidth": 0,
             "ticks": ""
            },
            "type": "choropleth"
           }
          ],
          "contour": [
           {
            "colorbar": {
             "outlinewidth": 0,
             "ticks": ""
            },
            "colorscale": [
             [
              0,
              "#0d0887"
             ],
             [
              0.1111111111111111,
              "#46039f"
             ],
             [
              0.2222222222222222,
              "#7201a8"
             ],
             [
              0.3333333333333333,
              "#9c179e"
             ],
             [
              0.4444444444444444,
              "#bd3786"
             ],
             [
              0.5555555555555556,
              "#d8576b"
             ],
             [
              0.6666666666666666,
              "#ed7953"
             ],
             [
              0.7777777777777778,
              "#fb9f3a"
             ],
             [
              0.8888888888888888,
              "#fdca26"
             ],
             [
              1,
              "#f0f921"
             ]
            ],
            "type": "contour"
           }
          ],
          "contourcarpet": [
           {
            "colorbar": {
             "outlinewidth": 0,
             "ticks": ""
            },
            "type": "contourcarpet"
           }
          ],
          "heatmap": [
           {
            "colorbar": {
             "outlinewidth": 0,
             "ticks": ""
            },
            "colorscale": [
             [
              0,
              "#0d0887"
             ],
             [
              0.1111111111111111,
              "#46039f"
             ],
             [
              0.2222222222222222,
              "#7201a8"
             ],
             [
              0.3333333333333333,
              "#9c179e"
             ],
             [
              0.4444444444444444,
              "#bd3786"
             ],
             [
              0.5555555555555556,
              "#d8576b"
             ],
             [
              0.6666666666666666,
              "#ed7953"
             ],
             [
              0.7777777777777778,
              "#fb9f3a"
             ],
             [
              0.8888888888888888,
              "#fdca26"
             ],
             [
              1,
              "#f0f921"
             ]
            ],
            "type": "heatmap"
           }
          ],
          "heatmapgl": [
           {
            "colorbar": {
             "outlinewidth": 0,
             "ticks": ""
            },
            "colorscale": [
             [
              0,
              "#0d0887"
             ],
             [
              0.1111111111111111,
              "#46039f"
             ],
             [
              0.2222222222222222,
              "#7201a8"
             ],
             [
              0.3333333333333333,
              "#9c179e"
             ],
             [
              0.4444444444444444,
              "#bd3786"
             ],
             [
              0.5555555555555556,
              "#d8576b"
             ],
             [
              0.6666666666666666,
              "#ed7953"
             ],
             [
              0.7777777777777778,
              "#fb9f3a"
             ],
             [
              0.8888888888888888,
              "#fdca26"
             ],
             [
              1,
              "#f0f921"
             ]
            ],
            "type": "heatmapgl"
           }
          ],
          "histogram": [
           {
            "marker": {
             "pattern": {
              "fillmode": "overlay",
              "size": 10,
              "solidity": 0.2
             }
            },
            "type": "histogram"
           }
          ],
          "histogram2d": [
           {
            "colorbar": {
             "outlinewidth": 0,
             "ticks": ""
            },
            "colorscale": [
             [
              0,
              "#0d0887"
             ],
             [
              0.1111111111111111,
              "#46039f"
             ],
             [
              0.2222222222222222,
              "#7201a8"
             ],
             [
              0.3333333333333333,
              "#9c179e"
             ],
             [
              0.4444444444444444,
              "#bd3786"
             ],
             [
              0.5555555555555556,
              "#d8576b"
             ],
             [
              0.6666666666666666,
              "#ed7953"
             ],
             [
              0.7777777777777778,
              "#fb9f3a"
             ],
             [
              0.8888888888888888,
              "#fdca26"
             ],
             [
              1,
              "#f0f921"
             ]
            ],
            "type": "histogram2d"
           }
          ],
          "histogram2dcontour": [
           {
            "colorbar": {
             "outlinewidth": 0,
             "ticks": ""
            },
            "colorscale": [
             [
              0,
              "#0d0887"
             ],
             [
              0.1111111111111111,
              "#46039f"
             ],
             [
              0.2222222222222222,
              "#7201a8"
             ],
             [
              0.3333333333333333,
              "#9c179e"
             ],
             [
              0.4444444444444444,
              "#bd3786"
             ],
             [
              0.5555555555555556,
              "#d8576b"
             ],
             [
              0.6666666666666666,
              "#ed7953"
             ],
             [
              0.7777777777777778,
              "#fb9f3a"
             ],
             [
              0.8888888888888888,
              "#fdca26"
             ],
             [
              1,
              "#f0f921"
             ]
            ],
            "type": "histogram2dcontour"
           }
          ],
          "mesh3d": [
           {
            "colorbar": {
             "outlinewidth": 0,
             "ticks": ""
            },
            "type": "mesh3d"
           }
          ],
          "parcoords": [
           {
            "line": {
             "colorbar": {
              "outlinewidth": 0,
              "ticks": ""
             }
            },
            "type": "parcoords"
           }
          ],
          "pie": [
           {
            "automargin": true,
            "type": "pie"
           }
          ],
          "scatter": [
           {
            "fillpattern": {
             "fillmode": "overlay",
             "size": 10,
             "solidity": 0.2
            },
            "type": "scatter"
           }
          ],
          "scatter3d": [
           {
            "line": {
             "colorbar": {
              "outlinewidth": 0,
              "ticks": ""
             }
            },
            "marker": {
             "colorbar": {
              "outlinewidth": 0,
              "ticks": ""
             }
            },
            "type": "scatter3d"
           }
          ],
          "scattercarpet": [
           {
            "marker": {
             "colorbar": {
              "outlinewidth": 0,
              "ticks": ""
             }
            },
            "type": "scattercarpet"
           }
          ],
          "scattergeo": [
           {
            "marker": {
             "colorbar": {
              "outlinewidth": 0,
              "ticks": ""
             }
            },
            "type": "scattergeo"
           }
          ],
          "scattergl": [
           {
            "marker": {
             "colorbar": {
              "outlinewidth": 0,
              "ticks": ""
             }
            },
            "type": "scattergl"
           }
          ],
          "scattermapbox": [
           {
            "marker": {
             "colorbar": {
              "outlinewidth": 0,
              "ticks": ""
             }
            },
            "type": "scattermapbox"
           }
          ],
          "scatterpolar": [
           {
            "marker": {
             "colorbar": {
              "outlinewidth": 0,
              "ticks": ""
             }
            },
            "type": "scatterpolar"
           }
          ],
          "scatterpolargl": [
           {
            "marker": {
             "colorbar": {
              "outlinewidth": 0,
              "ticks": ""
             }
            },
            "type": "scatterpolargl"
           }
          ],
          "scatterternary": [
           {
            "marker": {
             "colorbar": {
              "outlinewidth": 0,
              "ticks": ""
             }
            },
            "type": "scatterternary"
           }
          ],
          "surface": [
           {
            "colorbar": {
             "outlinewidth": 0,
             "ticks": ""
            },
            "colorscale": [
             [
              0,
              "#0d0887"
             ],
             [
              0.1111111111111111,
              "#46039f"
             ],
             [
              0.2222222222222222,
              "#7201a8"
             ],
             [
              0.3333333333333333,
              "#9c179e"
             ],
             [
              0.4444444444444444,
              "#bd3786"
             ],
             [
              0.5555555555555556,
              "#d8576b"
             ],
             [
              0.6666666666666666,
              "#ed7953"
             ],
             [
              0.7777777777777778,
              "#fb9f3a"
             ],
             [
              0.8888888888888888,
              "#fdca26"
             ],
             [
              1,
              "#f0f921"
             ]
            ],
            "type": "surface"
           }
          ],
          "table": [
           {
            "cells": {
             "fill": {
              "color": "#EBF0F8"
             },
             "line": {
              "color": "white"
             }
            },
            "header": {
             "fill": {
              "color": "#C8D4E3"
             },
             "line": {
              "color": "white"
             }
            },
            "type": "table"
           }
          ]
         },
         "layout": {
          "annotationdefaults": {
           "arrowcolor": "#2a3f5f",
           "arrowhead": 0,
           "arrowwidth": 1
          },
          "autotypenumbers": "strict",
          "coloraxis": {
           "colorbar": {
            "outlinewidth": 0,
            "ticks": ""
           }
          },
          "colorscale": {
           "diverging": [
            [
             0,
             "#8e0152"
            ],
            [
             0.1,
             "#c51b7d"
            ],
            [
             0.2,
             "#de77ae"
            ],
            [
             0.3,
             "#f1b6da"
            ],
            [
             0.4,
             "#fde0ef"
            ],
            [
             0.5,
             "#f7f7f7"
            ],
            [
             0.6,
             "#e6f5d0"
            ],
            [
             0.7,
             "#b8e186"
            ],
            [
             0.8,
             "#7fbc41"
            ],
            [
             0.9,
             "#4d9221"
            ],
            [
             1,
             "#276419"
            ]
           ],
           "sequential": [
            [
             0,
             "#0d0887"
            ],
            [
             0.1111111111111111,
             "#46039f"
            ],
            [
             0.2222222222222222,
             "#7201a8"
            ],
            [
             0.3333333333333333,
             "#9c179e"
            ],
            [
             0.4444444444444444,
             "#bd3786"
            ],
            [
             0.5555555555555556,
             "#d8576b"
            ],
            [
             0.6666666666666666,
             "#ed7953"
            ],
            [
             0.7777777777777778,
             "#fb9f3a"
            ],
            [
             0.8888888888888888,
             "#fdca26"
            ],
            [
             1,
             "#f0f921"
            ]
           ],
           "sequentialminus": [
            [
             0,
             "#0d0887"
            ],
            [
             0.1111111111111111,
             "#46039f"
            ],
            [
             0.2222222222222222,
             "#7201a8"
            ],
            [
             0.3333333333333333,
             "#9c179e"
            ],
            [
             0.4444444444444444,
             "#bd3786"
            ],
            [
             0.5555555555555556,
             "#d8576b"
            ],
            [
             0.6666666666666666,
             "#ed7953"
            ],
            [
             0.7777777777777778,
             "#fb9f3a"
            ],
            [
             0.8888888888888888,
             "#fdca26"
            ],
            [
             1,
             "#f0f921"
            ]
           ]
          },
          "colorway": [
           "#636efa",
           "#EF553B",
           "#00cc96",
           "#ab63fa",
           "#FFA15A",
           "#19d3f3",
           "#FF6692",
           "#B6E880",
           "#FF97FF",
           "#FECB52"
          ],
          "font": {
           "color": "#2a3f5f"
          },
          "geo": {
           "bgcolor": "white",
           "lakecolor": "white",
           "landcolor": "#E5ECF6",
           "showlakes": true,
           "showland": true,
           "subunitcolor": "white"
          },
          "hoverlabel": {
           "align": "left"
          },
          "hovermode": "closest",
          "mapbox": {
           "style": "light"
          },
          "paper_bgcolor": "white",
          "plot_bgcolor": "#E5ECF6",
          "polar": {
           "angularaxis": {
            "gridcolor": "white",
            "linecolor": "white",
            "ticks": ""
           },
           "bgcolor": "#E5ECF6",
           "radialaxis": {
            "gridcolor": "white",
            "linecolor": "white",
            "ticks": ""
           }
          },
          "scene": {
           "xaxis": {
            "backgroundcolor": "#E5ECF6",
            "gridcolor": "white",
            "gridwidth": 2,
            "linecolor": "white",
            "showbackground": true,
            "ticks": "",
            "zerolinecolor": "white"
           },
           "yaxis": {
            "backgroundcolor": "#E5ECF6",
            "gridcolor": "white",
            "gridwidth": 2,
            "linecolor": "white",
            "showbackground": true,
            "ticks": "",
            "zerolinecolor": "white"
           },
           "zaxis": {
            "backgroundcolor": "#E5ECF6",
            "gridcolor": "white",
            "gridwidth": 2,
            "linecolor": "white",
            "showbackground": true,
            "ticks": "",
            "zerolinecolor": "white"
           }
          },
          "shapedefaults": {
           "line": {
            "color": "#2a3f5f"
           }
          },
          "ternary": {
           "aaxis": {
            "gridcolor": "white",
            "linecolor": "white",
            "ticks": ""
           },
           "baxis": {
            "gridcolor": "white",
            "linecolor": "white",
            "ticks": ""
           },
           "bgcolor": "#E5ECF6",
           "caxis": {
            "gridcolor": "white",
            "linecolor": "white",
            "ticks": ""
           }
          },
          "title": {
           "x": 0.05
          },
          "xaxis": {
           "automargin": true,
           "gridcolor": "white",
           "linecolor": "white",
           "ticks": "",
           "title": {
            "standoff": 15
           },
           "zerolinecolor": "white",
           "zerolinewidth": 2
          },
          "yaxis": {
           "automargin": true,
           "gridcolor": "white",
           "linecolor": "white",
           "ticks": "",
           "title": {
            "standoff": 15
           },
           "zerolinecolor": "white",
           "zerolinewidth": 2
          }
         }
        },
        "title": {
         "text": "Chart: line plot of Time and DelinquencyRate by Geography"
        },
        "xaxis": {
         "anchor": "y",
         "domain": [
          0,
          1
         ],
         "title": {
          "text": "Time"
         }
        },
        "yaxis": {
         "anchor": "x",
         "domain": [
          0,
          1
         ],
         "title": {
          "text": "DelinquencyRate"
         }
        }
       }
      }
     },
     "metadata": {},
     "output_type": "display_data"
    }
   ],
   "source": [
    "# Second attempt\n",
    "px.line(data_pop_del_mort_df, \n",
    "        x = \"Time\",\n",
    "        y=\"DelinquencyRate\",\n",
    "       color=\"Geography\",\n",
    "       title = \"Chart: line plot of Time and DelinquencyRate by Geography\")\n"
   ]
  },
  {
   "cell_type": "markdown",
   "metadata": {
    "slideshow": {
     "slide_type": "slide"
    }
   },
   "source": [
    "#### Exercise: Let's take a look at the average mortgage amount and population size\n",
    "\n",
    "Complete the code below to visualize the average mortgage amount. \n",
    "\n",
    "Change the code to visualize changes in population size."
   ]
  },
  {
   "cell_type": "code",
   "execution_count": 9,
   "metadata": {
    "slideshow": {
     "slide_type": "subslide"
    }
   },
   "outputs": [
    {
     "data": {
      "application/vnd.plotly.v1+json": {
       "config": {
        "plotlyServerURL": "https://plot.ly"
       },
       "data": [
        {
         "hovertemplate": "Geography=Newfoundland<br>Time=%{x}<br>PopulationSize=%{y}<extra></extra>",
         "legendgroup": "Newfoundland",
         "line": {
          "color": "#636efa",
          "dash": "solid"
         },
         "marker": {
          "symbol": "circle"
         },
         "mode": "lines",
         "name": "Newfoundland",
         "orientation": "v",
         "showlegend": true,
         "type": "scatter",
         "x": [
          "2012Q3",
          "2012Q4",
          "2013Q1",
          "2013Q2",
          "2013Q3",
          "2013Q4",
          "2014Q1",
          "2014Q2",
          "2014Q3",
          "2014Q4",
          "2015Q1",
          "2015Q2",
          "2015Q3",
          "2015Q4",
          "2016Q1",
          "2016Q2",
          "2016Q3",
          "2016Q4",
          "2017Q1",
          "2017Q2",
          "2017Q3",
          "2017Q4",
          "2018Q1",
          "2018Q2",
          "2018Q3",
          "2018Q4",
          "2019Q1",
          "2019Q2",
          "2019Q3",
          "2019Q4",
          "2020Q1",
          "2020Q2",
          "2020Q3"
         ],
         "xaxis": "x",
         "y": [
          526345,
          527180,
          527248,
          527313,
          527114,
          528117,
          528242,
          527498,
          528159,
          528461,
          528361,
          528063,
          528117,
          528696,
          528800,
          529063,
          529426,
          529900,
          529347,
          528544,
          528249,
          528288,
          527544,
          526395,
          525560,
          525765,
          524883,
          524126,
          523476,
          524137,
          523631,
          522994,
          522103
         ],
         "yaxis": "y"
        },
        {
         "hovertemplate": "Geography=Prince Edward Island<br>Time=%{x}<br>PopulationSize=%{y}<extra></extra>",
         "legendgroup": "Prince Edward Island",
         "line": {
          "color": "#EF553B",
          "dash": "solid"
         },
         "marker": {
          "symbol": "circle"
         },
         "mode": "lines",
         "name": "Prince Edward Island",
         "orientation": "v",
         "showlegend": true,
         "type": "scatter",
         "x": [
          "2012Q3",
          "2012Q4",
          "2013Q1",
          "2013Q2",
          "2013Q3",
          "2013Q4",
          "2014Q1",
          "2014Q2",
          "2014Q3",
          "2014Q4",
          "2015Q1",
          "2015Q2",
          "2015Q3",
          "2015Q4",
          "2016Q1",
          "2016Q2",
          "2016Q3",
          "2016Q4",
          "2017Q1",
          "2017Q2",
          "2017Q3",
          "2017Q4",
          "2018Q1",
          "2018Q2",
          "2018Q3",
          "2018Q4",
          "2019Q1",
          "2019Q2",
          "2019Q3",
          "2019Q4",
          "2020Q1",
          "2020Q2",
          "2020Q3"
         ],
         "xaxis": "x",
         "y": [
          144530,
          144520,
          144175,
          143948,
          144094,
          144103,
          143996,
          143984,
          144283,
          144538,
          144368,
          144259,
          144546,
          144894,
          145202,
          145784,
          146969,
          147936,
          148181,
          148860,
          150402,
          151376,
          151516,
          152039,
          153396,
          155129,
          155244,
          155833,
          157262,
          158334,
          158629,
          159249,
          159625
         ],
         "yaxis": "y"
        },
        {
         "hovertemplate": "Geography=Nova Scotia<br>Time=%{x}<br>PopulationSize=%{y}<extra></extra>",
         "legendgroup": "Nova Scotia",
         "line": {
          "color": "#00cc96",
          "dash": "solid"
         },
         "marker": {
          "symbol": "circle"
         },
         "mode": "lines",
         "name": "Nova Scotia",
         "orientation": "v",
         "showlegend": true,
         "type": "scatter",
         "x": [
          "2012Q3",
          "2012Q4",
          "2013Q1",
          "2013Q2",
          "2013Q3",
          "2013Q4",
          "2014Q1",
          "2014Q2",
          "2014Q3",
          "2014Q4",
          "2015Q1",
          "2015Q2",
          "2015Q3",
          "2015Q4",
          "2016Q1",
          "2016Q2",
          "2016Q3",
          "2016Q4",
          "2017Q1",
          "2017Q2",
          "2017Q3",
          "2017Q4",
          "2018Q1",
          "2018Q2",
          "2018Q3",
          "2018Q4",
          "2019Q1",
          "2019Q2",
          "2019Q3",
          "2019Q4",
          "2020Q1",
          "2020Q2",
          "2020Q3"
         ],
         "xaxis": "x",
         "y": [
          943635,
          943341,
          942598,
          941230,
          940434,
          940105,
          939867,
          938913,
          938545,
          938972,
          938296,
          936271,
          936525,
          938320,
          938690,
          940382,
          942790,
          946030,
          945943,
          947384,
          950108,
          953683,
          953838,
          954618,
          958406,
          963309,
          963890,
          965287,
          969747,
          975231,
          975898,
          977043,
          979351
         ],
         "yaxis": "y"
        },
        {
         "hovertemplate": "Geography=New Brunswick<br>Time=%{x}<br>PopulationSize=%{y}<extra></extra>",
         "legendgroup": "New Brunswick",
         "line": {
          "color": "#ab63fa",
          "dash": "solid"
         },
         "marker": {
          "symbol": "circle"
         },
         "mode": "lines",
         "name": "New Brunswick",
         "orientation": "v",
         "showlegend": true,
         "type": "scatter",
         "x": [
          "2012Q3",
          "2012Q4",
          "2013Q1",
          "2013Q2",
          "2013Q3",
          "2013Q4",
          "2014Q1",
          "2014Q2",
          "2014Q3",
          "2014Q4",
          "2015Q1",
          "2015Q2",
          "2015Q3",
          "2015Q4",
          "2016Q1",
          "2016Q2",
          "2016Q3",
          "2016Q4",
          "2017Q1",
          "2017Q2",
          "2017Q3",
          "2017Q4",
          "2018Q1",
          "2018Q2",
          "2018Q3",
          "2018Q4",
          "2019Q1",
          "2019Q2",
          "2019Q3",
          "2019Q4",
          "2020Q1",
          "2020Q2",
          "2020Q3"
         ],
         "xaxis": "x",
         "y": [
          758378,
          758673,
          758298,
          758132,
          758544,
          758670,
          759018,
          758876,
          758976,
          759524,
          759617,
          758948,
          758842,
          759778,
          760580,
          762289,
          763350,
          764844,
          764617,
          764813,
          766621,
          767935,
          768005,
          768522,
          770301,
          772524,
          772748,
          773805,
          776868,
          780154,
          780040,
          781024,
          781476
         ],
         "yaxis": "y"
        },
        {
         "hovertemplate": "Geography=Québec<br>Time=%{x}<br>PopulationSize=%{y}<extra></extra>",
         "legendgroup": "Québec",
         "line": {
          "color": "#FFA15A",
          "dash": "solid"
         },
         "marker": {
          "symbol": "circle"
         },
         "mode": "lines",
         "name": "Québec",
         "orientation": "v",
         "showlegend": true,
         "type": "scatter",
         "x": [
          "2012Q3",
          "2012Q4",
          "2013Q1",
          "2013Q2",
          "2013Q3",
          "2013Q4",
          "2014Q1",
          "2014Q2",
          "2014Q3",
          "2014Q4",
          "2015Q1",
          "2015Q2",
          "2015Q3",
          "2015Q4",
          "2016Q1",
          "2016Q2",
          "2016Q3",
          "2016Q4",
          "2017Q1",
          "2017Q2",
          "2017Q3",
          "2017Q4",
          "2018Q1",
          "2018Q2",
          "2018Q3",
          "2018Q4",
          "2019Q1",
          "2019Q2",
          "2019Q3",
          "2019Q4",
          "2020Q1",
          "2020Q2",
          "2020Q3"
         ],
         "xaxis": "x",
         "y": [
          8061101,
          8078388,
          8082771,
          8090916,
          8110880,
          8124660,
          8125478,
          8132425,
          8150183,
          8165447,
          8163132,
          8163063,
          8175272,
          8190014,
          8193624,
          8204085,
          8225950,
          8249692,
          8257450,
          8272894,
          8302063,
          8336460,
          8350601,
          8367551,
          8401738,
          8433888,
          8446906,
          8465271,
          8501703,
          8540429,
          8556650,
          8572054,
          8574571
         ],
         "yaxis": "y"
        },
        {
         "hovertemplate": "Geography=Ontario<br>Time=%{x}<br>PopulationSize=%{y}<extra></extra>",
         "legendgroup": "Ontario",
         "line": {
          "color": "#19d3f3",
          "dash": "solid"
         },
         "marker": {
          "symbol": "circle"
         },
         "mode": "lines",
         "name": "Ontario",
         "orientation": "v",
         "showlegend": true,
         "type": "scatter",
         "x": [
          "2012Q3",
          "2012Q4",
          "2013Q1",
          "2013Q2",
          "2013Q3",
          "2013Q4",
          "2014Q1",
          "2014Q2",
          "2014Q3",
          "2014Q4",
          "2015Q1",
          "2015Q2",
          "2015Q3",
          "2015Q4",
          "2016Q1",
          "2016Q2",
          "2016Q3",
          "2016Q4",
          "2017Q1",
          "2017Q2",
          "2017Q3",
          "2017Q4",
          "2018Q1",
          "2018Q2",
          "2018Q3",
          "2018Q4",
          "2019Q1",
          "2019Q2",
          "2019Q3",
          "2019Q4",
          "2020Q1",
          "2020Q2",
          "2020Q3"
         ],
         "xaxis": "x",
         "y": [
          13390632,
          13434943,
          13444704,
          13467829,
          13510781,
          13558528,
          13562583,
          13582747,
          13617553,
          13661314,
          13657737,
          13669860,
          13707118,
          13757688,
          13773629,
          13816545,
          13875394,
          13946431,
          13971785,
          14006386,
          14070141,
          14150783,
          14186830,
          14235643,
          14308697,
          14393683,
          14428712,
          14467162,
          14544718,
          14637880,
          14689075,
          14723497,
          14734014
         ],
         "yaxis": "y"
        },
        {
         "hovertemplate": "Geography=Manitoba<br>Time=%{x}<br>PopulationSize=%{y}<extra></extra>",
         "legendgroup": "Manitoba",
         "line": {
          "color": "#FF6692",
          "dash": "solid"
         },
         "marker": {
          "symbol": "circle"
         },
         "mode": "lines",
         "name": "Manitoba",
         "orientation": "v",
         "showlegend": true,
         "type": "scatter",
         "x": [
          "2012Q3",
          "2012Q4",
          "2013Q1",
          "2013Q2",
          "2013Q3",
          "2013Q4",
          "2014Q1",
          "2014Q2",
          "2014Q3",
          "2014Q4",
          "2015Q1",
          "2015Q2",
          "2015Q3",
          "2015Q4",
          "2016Q1",
          "2016Q2",
          "2016Q3",
          "2016Q4",
          "2017Q1",
          "2017Q2",
          "2017Q3",
          "2017Q4",
          "2018Q1",
          "2018Q2",
          "2018Q3",
          "2018Q4",
          "2019Q1",
          "2019Q2",
          "2019Q3",
          "2019Q4",
          "2020Q1",
          "2020Q2",
          "2020Q3"
         ],
         "xaxis": "x",
         "y": [
          1249975,
          1254178,
          1257940,
          1260834,
          1264620,
          1268428,
          1271562,
          1274407,
          1279014,
          1283366,
          1286453,
          1288094,
          1292227,
          1297329,
          1302544,
          1307689,
          1314139,
          1319911,
          1324129,
          1328412,
          1334790,
          1340565,
          1344418,
          1347055,
          1352825,
          1357879,
          1361632,
          1364223,
          1369540,
          1373574,
          1377004,
          1378818,
          1379263
         ],
         "yaxis": "y"
        },
        {
         "hovertemplate": "Geography=Saskatchewan<br>Time=%{x}<br>PopulationSize=%{y}<extra></extra>",
         "legendgroup": "Saskatchewan",
         "line": {
          "color": "#B6E880",
          "dash": "solid"
         },
         "marker": {
          "symbol": "circle"
         },
         "mode": "lines",
         "name": "Saskatchewan",
         "orientation": "v",
         "showlegend": true,
         "type": "scatter",
         "x": [
          "2012Q3",
          "2012Q4",
          "2013Q1",
          "2013Q2",
          "2013Q3",
          "2013Q4",
          "2014Q1",
          "2014Q2",
          "2014Q3",
          "2014Q4",
          "2015Q1",
          "2015Q2",
          "2015Q3",
          "2015Q4",
          "2016Q1",
          "2016Q2",
          "2016Q3",
          "2016Q4",
          "2017Q1",
          "2017Q2",
          "2017Q3",
          "2017Q4",
          "2018Q1",
          "2018Q2",
          "2018Q3",
          "2018Q4",
          "2019Q1",
          "2019Q2",
          "2019Q3",
          "2019Q4",
          "2020Q1",
          "2020Q2",
          "2020Q3"
         ],
         "xaxis": "x",
         "y": [
          1083755,
          1088959,
          1091547,
          1094390,
          1099736,
          1103730,
          1106374,
          1109631,
          1112979,
          1116203,
          1118181,
          1118806,
          1120967,
          1124919,
          1127773,
          1131147,
          1135987,
          1140690,
          1143313,
          1146218,
          1150331,
          1154755,
          1156659,
          1158451,
          1161767,
          1165938,
          1168461,
          1169286,
          1172302,
          1176272,
          1179154,
          1179618,
          1178681
         ],
         "yaxis": "y"
        },
        {
         "hovertemplate": "Geography=Alberta<br>Time=%{x}<br>PopulationSize=%{y}<extra></extra>",
         "legendgroup": "Alberta",
         "line": {
          "color": "#FF97FF",
          "dash": "solid"
         },
         "marker": {
          "symbol": "circle"
         },
         "mode": "lines",
         "name": "Alberta",
         "orientation": "v",
         "showlegend": true,
         "type": "scatter",
         "x": [
          "2012Q3",
          "2012Q4",
          "2013Q1",
          "2013Q2",
          "2013Q3",
          "2013Q4",
          "2014Q1",
          "2014Q2",
          "2014Q3",
          "2014Q4",
          "2015Q1",
          "2015Q2",
          "2015Q3",
          "2015Q4",
          "2016Q1",
          "2016Q2",
          "2016Q3",
          "2016Q4",
          "2017Q1",
          "2017Q2",
          "2017Q3",
          "2017Q4",
          "2018Q1",
          "2018Q2",
          "2018Q3",
          "2018Q4",
          "2019Q1",
          "2019Q2",
          "2019Q3",
          "2019Q4",
          "2020Q1",
          "2020Q2",
          "2020Q3"
         ],
         "xaxis": "x",
         "y": [
          3874548,
          3900333,
          3920499,
          3946798,
          3981011,
          4010903,
          4029951,
          4054280,
          4083648,
          4106056,
          4116047,
          4128300,
          4144491,
          4159519,
          4169830,
          4181765,
          4196061,
          4208958,
          4217855,
          4227969,
          4241100,
          4258195,
          4268853,
          4281706,
          4298275,
          4317453,
          4330698,
          4343951,
          4361694,
          4384968,
          4402045,
          4417006,
          4421876
         ],
         "yaxis": "y"
        },
        {
         "hovertemplate": "Geography=British Columbia<br>Time=%{x}<br>PopulationSize=%{y}<extra></extra>",
         "legendgroup": "British Columbia",
         "line": {
          "color": "#FECB52",
          "dash": "solid"
         },
         "marker": {
          "symbol": "circle"
         },
         "mode": "lines",
         "name": "British Columbia",
         "orientation": "v",
         "showlegend": true,
         "type": "scatter",
         "x": [
          "2012Q3",
          "2012Q4",
          "2013Q1",
          "2013Q2",
          "2013Q3",
          "2013Q4",
          "2014Q1",
          "2014Q2",
          "2014Q3",
          "2014Q4",
          "2015Q1",
          "2015Q2",
          "2015Q3",
          "2015Q4",
          "2016Q1",
          "2016Q2",
          "2016Q3",
          "2016Q4",
          "2017Q1",
          "2017Q2",
          "2017Q3",
          "2017Q4",
          "2018Q1",
          "2018Q2",
          "2018Q3",
          "2018Q4",
          "2019Q1",
          "2019Q2",
          "2019Q3",
          "2019Q4",
          "2020Q1",
          "2020Q2",
          "2020Q3"
         ],
         "xaxis": "x",
         "y": [
          4566769,
          4590545,
          4598255,
          4611648,
          4630077,
          4658875,
          4666788,
          4684490,
          4707103,
          4737725,
          4745468,
          4757759,
          4776388,
          4802955,
          4811465,
          4832155,
          4859250,
          4884002,
          4890848,
          4905210,
          4929384,
          4956550,
          4967421,
          4983183,
          5010476,
          5039661,
          5046576,
          5063527,
          5090955,
          5125659,
          5131575,
          5142404,
          5147712
         ],
         "yaxis": "y"
        }
       ],
       "layout": {
        "legend": {
         "title": {
          "text": "Geography"
         },
         "tracegroupgap": 0
        },
        "template": {
         "data": {
          "bar": [
           {
            "error_x": {
             "color": "#2a3f5f"
            },
            "error_y": {
             "color": "#2a3f5f"
            },
            "marker": {
             "line": {
              "color": "#E5ECF6",
              "width": 0.5
             },
             "pattern": {
              "fillmode": "overlay",
              "size": 10,
              "solidity": 0.2
             }
            },
            "type": "bar"
           }
          ],
          "barpolar": [
           {
            "marker": {
             "line": {
              "color": "#E5ECF6",
              "width": 0.5
             },
             "pattern": {
              "fillmode": "overlay",
              "size": 10,
              "solidity": 0.2
             }
            },
            "type": "barpolar"
           }
          ],
          "carpet": [
           {
            "aaxis": {
             "endlinecolor": "#2a3f5f",
             "gridcolor": "white",
             "linecolor": "white",
             "minorgridcolor": "white",
             "startlinecolor": "#2a3f5f"
            },
            "baxis": {
             "endlinecolor": "#2a3f5f",
             "gridcolor": "white",
             "linecolor": "white",
             "minorgridcolor": "white",
             "startlinecolor": "#2a3f5f"
            },
            "type": "carpet"
           }
          ],
          "choropleth": [
           {
            "colorbar": {
             "outlinewidth": 0,
             "ticks": ""
            },
            "type": "choropleth"
           }
          ],
          "contour": [
           {
            "colorbar": {
             "outlinewidth": 0,
             "ticks": ""
            },
            "colorscale": [
             [
              0,
              "#0d0887"
             ],
             [
              0.1111111111111111,
              "#46039f"
             ],
             [
              0.2222222222222222,
              "#7201a8"
             ],
             [
              0.3333333333333333,
              "#9c179e"
             ],
             [
              0.4444444444444444,
              "#bd3786"
             ],
             [
              0.5555555555555556,
              "#d8576b"
             ],
             [
              0.6666666666666666,
              "#ed7953"
             ],
             [
              0.7777777777777778,
              "#fb9f3a"
             ],
             [
              0.8888888888888888,
              "#fdca26"
             ],
             [
              1,
              "#f0f921"
             ]
            ],
            "type": "contour"
           }
          ],
          "contourcarpet": [
           {
            "colorbar": {
             "outlinewidth": 0,
             "ticks": ""
            },
            "type": "contourcarpet"
           }
          ],
          "heatmap": [
           {
            "colorbar": {
             "outlinewidth": 0,
             "ticks": ""
            },
            "colorscale": [
             [
              0,
              "#0d0887"
             ],
             [
              0.1111111111111111,
              "#46039f"
             ],
             [
              0.2222222222222222,
              "#7201a8"
             ],
             [
              0.3333333333333333,
              "#9c179e"
             ],
             [
              0.4444444444444444,
              "#bd3786"
             ],
             [
              0.5555555555555556,
              "#d8576b"
             ],
             [
              0.6666666666666666,
              "#ed7953"
             ],
             [
              0.7777777777777778,
              "#fb9f3a"
             ],
             [
              0.8888888888888888,
              "#fdca26"
             ],
             [
              1,
              "#f0f921"
             ]
            ],
            "type": "heatmap"
           }
          ],
          "heatmapgl": [
           {
            "colorbar": {
             "outlinewidth": 0,
             "ticks": ""
            },
            "colorscale": [
             [
              0,
              "#0d0887"
             ],
             [
              0.1111111111111111,
              "#46039f"
             ],
             [
              0.2222222222222222,
              "#7201a8"
             ],
             [
              0.3333333333333333,
              "#9c179e"
             ],
             [
              0.4444444444444444,
              "#bd3786"
             ],
             [
              0.5555555555555556,
              "#d8576b"
             ],
             [
              0.6666666666666666,
              "#ed7953"
             ],
             [
              0.7777777777777778,
              "#fb9f3a"
             ],
             [
              0.8888888888888888,
              "#fdca26"
             ],
             [
              1,
              "#f0f921"
             ]
            ],
            "type": "heatmapgl"
           }
          ],
          "histogram": [
           {
            "marker": {
             "pattern": {
              "fillmode": "overlay",
              "size": 10,
              "solidity": 0.2
             }
            },
            "type": "histogram"
           }
          ],
          "histogram2d": [
           {
            "colorbar": {
             "outlinewidth": 0,
             "ticks": ""
            },
            "colorscale": [
             [
              0,
              "#0d0887"
             ],
             [
              0.1111111111111111,
              "#46039f"
             ],
             [
              0.2222222222222222,
              "#7201a8"
             ],
             [
              0.3333333333333333,
              "#9c179e"
             ],
             [
              0.4444444444444444,
              "#bd3786"
             ],
             [
              0.5555555555555556,
              "#d8576b"
             ],
             [
              0.6666666666666666,
              "#ed7953"
             ],
             [
              0.7777777777777778,
              "#fb9f3a"
             ],
             [
              0.8888888888888888,
              "#fdca26"
             ],
             [
              1,
              "#f0f921"
             ]
            ],
            "type": "histogram2d"
           }
          ],
          "histogram2dcontour": [
           {
            "colorbar": {
             "outlinewidth": 0,
             "ticks": ""
            },
            "colorscale": [
             [
              0,
              "#0d0887"
             ],
             [
              0.1111111111111111,
              "#46039f"
             ],
             [
              0.2222222222222222,
              "#7201a8"
             ],
             [
              0.3333333333333333,
              "#9c179e"
             ],
             [
              0.4444444444444444,
              "#bd3786"
             ],
             [
              0.5555555555555556,
              "#d8576b"
             ],
             [
              0.6666666666666666,
              "#ed7953"
             ],
             [
              0.7777777777777778,
              "#fb9f3a"
             ],
             [
              0.8888888888888888,
              "#fdca26"
             ],
             [
              1,
              "#f0f921"
             ]
            ],
            "type": "histogram2dcontour"
           }
          ],
          "mesh3d": [
           {
            "colorbar": {
             "outlinewidth": 0,
             "ticks": ""
            },
            "type": "mesh3d"
           }
          ],
          "parcoords": [
           {
            "line": {
             "colorbar": {
              "outlinewidth": 0,
              "ticks": ""
             }
            },
            "type": "parcoords"
           }
          ],
          "pie": [
           {
            "automargin": true,
            "type": "pie"
           }
          ],
          "scatter": [
           {
            "fillpattern": {
             "fillmode": "overlay",
             "size": 10,
             "solidity": 0.2
            },
            "type": "scatter"
           }
          ],
          "scatter3d": [
           {
            "line": {
             "colorbar": {
              "outlinewidth": 0,
              "ticks": ""
             }
            },
            "marker": {
             "colorbar": {
              "outlinewidth": 0,
              "ticks": ""
             }
            },
            "type": "scatter3d"
           }
          ],
          "scattercarpet": [
           {
            "marker": {
             "colorbar": {
              "outlinewidth": 0,
              "ticks": ""
             }
            },
            "type": "scattercarpet"
           }
          ],
          "scattergeo": [
           {
            "marker": {
             "colorbar": {
              "outlinewidth": 0,
              "ticks": ""
             }
            },
            "type": "scattergeo"
           }
          ],
          "scattergl": [
           {
            "marker": {
             "colorbar": {
              "outlinewidth": 0,
              "ticks": ""
             }
            },
            "type": "scattergl"
           }
          ],
          "scattermapbox": [
           {
            "marker": {
             "colorbar": {
              "outlinewidth": 0,
              "ticks": ""
             }
            },
            "type": "scattermapbox"
           }
          ],
          "scatterpolar": [
           {
            "marker": {
             "colorbar": {
              "outlinewidth": 0,
              "ticks": ""
             }
            },
            "type": "scatterpolar"
           }
          ],
          "scatterpolargl": [
           {
            "marker": {
             "colorbar": {
              "outlinewidth": 0,
              "ticks": ""
             }
            },
            "type": "scatterpolargl"
           }
          ],
          "scatterternary": [
           {
            "marker": {
             "colorbar": {
              "outlinewidth": 0,
              "ticks": ""
             }
            },
            "type": "scatterternary"
           }
          ],
          "surface": [
           {
            "colorbar": {
             "outlinewidth": 0,
             "ticks": ""
            },
            "colorscale": [
             [
              0,
              "#0d0887"
             ],
             [
              0.1111111111111111,
              "#46039f"
             ],
             [
              0.2222222222222222,
              "#7201a8"
             ],
             [
              0.3333333333333333,
              "#9c179e"
             ],
             [
              0.4444444444444444,
              "#bd3786"
             ],
             [
              0.5555555555555556,
              "#d8576b"
             ],
             [
              0.6666666666666666,
              "#ed7953"
             ],
             [
              0.7777777777777778,
              "#fb9f3a"
             ],
             [
              0.8888888888888888,
              "#fdca26"
             ],
             [
              1,
              "#f0f921"
             ]
            ],
            "type": "surface"
           }
          ],
          "table": [
           {
            "cells": {
             "fill": {
              "color": "#EBF0F8"
             },
             "line": {
              "color": "white"
             }
            },
            "header": {
             "fill": {
              "color": "#C8D4E3"
             },
             "line": {
              "color": "white"
             }
            },
            "type": "table"
           }
          ]
         },
         "layout": {
          "annotationdefaults": {
           "arrowcolor": "#2a3f5f",
           "arrowhead": 0,
           "arrowwidth": 1
          },
          "autotypenumbers": "strict",
          "coloraxis": {
           "colorbar": {
            "outlinewidth": 0,
            "ticks": ""
           }
          },
          "colorscale": {
           "diverging": [
            [
             0,
             "#8e0152"
            ],
            [
             0.1,
             "#c51b7d"
            ],
            [
             0.2,
             "#de77ae"
            ],
            [
             0.3,
             "#f1b6da"
            ],
            [
             0.4,
             "#fde0ef"
            ],
            [
             0.5,
             "#f7f7f7"
            ],
            [
             0.6,
             "#e6f5d0"
            ],
            [
             0.7,
             "#b8e186"
            ],
            [
             0.8,
             "#7fbc41"
            ],
            [
             0.9,
             "#4d9221"
            ],
            [
             1,
             "#276419"
            ]
           ],
           "sequential": [
            [
             0,
             "#0d0887"
            ],
            [
             0.1111111111111111,
             "#46039f"
            ],
            [
             0.2222222222222222,
             "#7201a8"
            ],
            [
             0.3333333333333333,
             "#9c179e"
            ],
            [
             0.4444444444444444,
             "#bd3786"
            ],
            [
             0.5555555555555556,
             "#d8576b"
            ],
            [
             0.6666666666666666,
             "#ed7953"
            ],
            [
             0.7777777777777778,
             "#fb9f3a"
            ],
            [
             0.8888888888888888,
             "#fdca26"
            ],
            [
             1,
             "#f0f921"
            ]
           ],
           "sequentialminus": [
            [
             0,
             "#0d0887"
            ],
            [
             0.1111111111111111,
             "#46039f"
            ],
            [
             0.2222222222222222,
             "#7201a8"
            ],
            [
             0.3333333333333333,
             "#9c179e"
            ],
            [
             0.4444444444444444,
             "#bd3786"
            ],
            [
             0.5555555555555556,
             "#d8576b"
            ],
            [
             0.6666666666666666,
             "#ed7953"
            ],
            [
             0.7777777777777778,
             "#fb9f3a"
            ],
            [
             0.8888888888888888,
             "#fdca26"
            ],
            [
             1,
             "#f0f921"
            ]
           ]
          },
          "colorway": [
           "#636efa",
           "#EF553B",
           "#00cc96",
           "#ab63fa",
           "#FFA15A",
           "#19d3f3",
           "#FF6692",
           "#B6E880",
           "#FF97FF",
           "#FECB52"
          ],
          "font": {
           "color": "#2a3f5f"
          },
          "geo": {
           "bgcolor": "white",
           "lakecolor": "white",
           "landcolor": "#E5ECF6",
           "showlakes": true,
           "showland": true,
           "subunitcolor": "white"
          },
          "hoverlabel": {
           "align": "left"
          },
          "hovermode": "closest",
          "mapbox": {
           "style": "light"
          },
          "paper_bgcolor": "white",
          "plot_bgcolor": "#E5ECF6",
          "polar": {
           "angularaxis": {
            "gridcolor": "white",
            "linecolor": "white",
            "ticks": ""
           },
           "bgcolor": "#E5ECF6",
           "radialaxis": {
            "gridcolor": "white",
            "linecolor": "white",
            "ticks": ""
           }
          },
          "scene": {
           "xaxis": {
            "backgroundcolor": "#E5ECF6",
            "gridcolor": "white",
            "gridwidth": 2,
            "linecolor": "white",
            "showbackground": true,
            "ticks": "",
            "zerolinecolor": "white"
           },
           "yaxis": {
            "backgroundcolor": "#E5ECF6",
            "gridcolor": "white",
            "gridwidth": 2,
            "linecolor": "white",
            "showbackground": true,
            "ticks": "",
            "zerolinecolor": "white"
           },
           "zaxis": {
            "backgroundcolor": "#E5ECF6",
            "gridcolor": "white",
            "gridwidth": 2,
            "linecolor": "white",
            "showbackground": true,
            "ticks": "",
            "zerolinecolor": "white"
           }
          },
          "shapedefaults": {
           "line": {
            "color": "#2a3f5f"
           }
          },
          "ternary": {
           "aaxis": {
            "gridcolor": "white",
            "linecolor": "white",
            "ticks": ""
           },
           "baxis": {
            "gridcolor": "white",
            "linecolor": "white",
            "ticks": ""
           },
           "bgcolor": "#E5ECF6",
           "caxis": {
            "gridcolor": "white",
            "linecolor": "white",
            "ticks": ""
           }
          },
          "title": {
           "x": 0.05
          },
          "xaxis": {
           "automargin": true,
           "gridcolor": "white",
           "linecolor": "white",
           "ticks": "",
           "title": {
            "standoff": 15
           },
           "zerolinecolor": "white",
           "zerolinewidth": 2
          },
          "yaxis": {
           "automargin": true,
           "gridcolor": "white",
           "linecolor": "white",
           "ticks": "",
           "title": {
            "standoff": 15
           },
           "zerolinecolor": "white",
           "zerolinewidth": 2
          }
         }
        },
        "title": {
         "text": "Chart: line plot of Time and PopulationSize by Geography"
        },
        "xaxis": {
         "anchor": "y",
         "domain": [
          0,
          1
         ],
         "title": {
          "text": "Time"
         }
        },
        "yaxis": {
         "anchor": "x",
         "domain": [
          0,
          1
         ],
         "title": {
          "text": "PopulationSize"
         }
        }
       }
      }
     },
     "metadata": {},
     "output_type": "display_data"
    }
   ],
   "source": [
    "# AverageMortgageAmount DelinquencyRate PopulationSize\n",
    "variable = \"PopulationSize\"\n",
    "\n",
    "px.line(data_pop_del_mort_df, \n",
    "        x = \"Time\",\n",
    "        y=variable,\n",
    "       color=\"Geography\",\n",
    "       title = f\"Chart: line plot of Time and {variable} by Geography\")\n"
   ]
  },
  {
   "cell_type": "markdown",
   "metadata": {
    "slideshow": {
     "slide_type": "slide"
    }
   },
   "source": [
    "Let's take a look at their distribution by using a box plot.\n",
    "\n",
    "Can see statistical significance of each plot"
   ]
  },
  {
   "cell_type": "code",
   "execution_count": 10,
   "metadata": {
    "slideshow": {
     "slide_type": "subslide"
    }
   },
   "outputs": [
    {
     "data": {
      "application/vnd.plotly.v1+json": {
       "config": {
        "plotlyServerURL": "https://plot.ly"
       },
       "data": [
        {
         "alignmentgroup": "True",
         "hovertemplate": "Geography=%{x}<br>DelinquencyRate=%{y}<extra></extra>",
         "legendgroup": "Newfoundland",
         "marker": {
          "color": "#636efa"
         },
         "name": "Newfoundland",
         "notched": false,
         "offsetgroup": "Newfoundland",
         "orientation": "v",
         "showlegend": true,
         "type": "box",
         "x": [
          "Newfoundland",
          "Newfoundland",
          "Newfoundland",
          "Newfoundland",
          "Newfoundland",
          "Newfoundland",
          "Newfoundland",
          "Newfoundland",
          "Newfoundland",
          "Newfoundland",
          "Newfoundland",
          "Newfoundland",
          "Newfoundland",
          "Newfoundland",
          "Newfoundland",
          "Newfoundland",
          "Newfoundland",
          "Newfoundland",
          "Newfoundland",
          "Newfoundland",
          "Newfoundland",
          "Newfoundland",
          "Newfoundland",
          "Newfoundland",
          "Newfoundland",
          "Newfoundland",
          "Newfoundland",
          "Newfoundland",
          "Newfoundland",
          "Newfoundland",
          "Newfoundland",
          "Newfoundland",
          "Newfoundland"
         ],
         "x0": " ",
         "xaxis": "x",
         "y": [
          0.24,
          0.22,
          0.25,
          0.19,
          0.2,
          0.22,
          0.23,
          0.25,
          0.26,
          0.28,
          0.37,
          0.37,
          0.37,
          0.41,
          0.45,
          0.46,
          0.49,
          0.46,
          0.47,
          0.47,
          0.46,
          0.52,
          0.56,
          0.6,
          0.6,
          0.62,
          0.64,
          0.65,
          0.65,
          0.65,
          0.67,
          0.68,
          0.64
         ],
         "y0": " ",
         "yaxis": "y"
        },
        {
         "alignmentgroup": "True",
         "hovertemplate": "Geography=%{x}<br>DelinquencyRate=%{y}<extra></extra>",
         "legendgroup": "Prince Edward Island",
         "marker": {
          "color": "#EF553B"
         },
         "name": "Prince Edward Island",
         "notched": false,
         "offsetgroup": "Prince Edward Island",
         "orientation": "v",
         "showlegend": true,
         "type": "box",
         "x": [
          "Prince Edward Island",
          "Prince Edward Island",
          "Prince Edward Island",
          "Prince Edward Island",
          "Prince Edward Island",
          "Prince Edward Island",
          "Prince Edward Island",
          "Prince Edward Island",
          "Prince Edward Island",
          "Prince Edward Island",
          "Prince Edward Island",
          "Prince Edward Island",
          "Prince Edward Island",
          "Prince Edward Island",
          "Prince Edward Island",
          "Prince Edward Island",
          "Prince Edward Island",
          "Prince Edward Island",
          "Prince Edward Island",
          "Prince Edward Island",
          "Prince Edward Island",
          "Prince Edward Island",
          "Prince Edward Island",
          "Prince Edward Island",
          "Prince Edward Island",
          "Prince Edward Island",
          "Prince Edward Island",
          "Prince Edward Island",
          "Prince Edward Island",
          "Prince Edward Island",
          "Prince Edward Island",
          "Prince Edward Island",
          "Prince Edward Island"
         ],
         "x0": " ",
         "xaxis": "x",
         "y": [
          0.57,
          0.5,
          0.55,
          0.47,
          0.56,
          0.58,
          0.6,
          0.6,
          0.56,
          0.57,
          0.68,
          0.62,
          0.63,
          0.67,
          0.7,
          0.7,
          0.67,
          0.6,
          0.66,
          0.55,
          0.54,
          0.44,
          0.5,
          0.45,
          0.43,
          0.39,
          0.39,
          0.38,
          0.34,
          0.32,
          0.25,
          0.26,
          0.27
         ],
         "y0": " ",
         "yaxis": "y"
        },
        {
         "alignmentgroup": "True",
         "hovertemplate": "Geography=%{x}<br>DelinquencyRate=%{y}<extra></extra>",
         "legendgroup": "Nova Scotia",
         "marker": {
          "color": "#00cc96"
         },
         "name": "Nova Scotia",
         "notched": false,
         "offsetgroup": "Nova Scotia",
         "orientation": "v",
         "showlegend": true,
         "type": "box",
         "x": [
          "Nova Scotia",
          "Nova Scotia",
          "Nova Scotia",
          "Nova Scotia",
          "Nova Scotia",
          "Nova Scotia",
          "Nova Scotia",
          "Nova Scotia",
          "Nova Scotia",
          "Nova Scotia",
          "Nova Scotia",
          "Nova Scotia",
          "Nova Scotia",
          "Nova Scotia",
          "Nova Scotia",
          "Nova Scotia",
          "Nova Scotia",
          "Nova Scotia",
          "Nova Scotia",
          "Nova Scotia",
          "Nova Scotia",
          "Nova Scotia",
          "Nova Scotia",
          "Nova Scotia",
          "Nova Scotia",
          "Nova Scotia",
          "Nova Scotia",
          "Nova Scotia",
          "Nova Scotia",
          "Nova Scotia",
          "Nova Scotia",
          "Nova Scotia",
          "Nova Scotia"
         ],
         "x0": " ",
         "xaxis": "x",
         "y": [
          0.53,
          0.53,
          0.55,
          0.56,
          0.58,
          0.62,
          0.65,
          0.65,
          0.67,
          0.68,
          0.7,
          0.67,
          0.66,
          0.68,
          0.7,
          0.72,
          0.76,
          0.75,
          0.7,
          0.64,
          0.6,
          0.58,
          0.59,
          0.54,
          0.52,
          0.56,
          0.54,
          0.52,
          0.5,
          0.5,
          0.46,
          0.47,
          0.45
         ],
         "y0": " ",
         "yaxis": "y"
        },
        {
         "alignmentgroup": "True",
         "hovertemplate": "Geography=%{x}<br>DelinquencyRate=%{y}<extra></extra>",
         "legendgroup": "New Brunswick",
         "marker": {
          "color": "#ab63fa"
         },
         "name": "New Brunswick",
         "notched": false,
         "offsetgroup": "New Brunswick",
         "orientation": "v",
         "showlegend": true,
         "type": "box",
         "x": [
          "New Brunswick",
          "New Brunswick",
          "New Brunswick",
          "New Brunswick",
          "New Brunswick",
          "New Brunswick",
          "New Brunswick",
          "New Brunswick",
          "New Brunswick",
          "New Brunswick",
          "New Brunswick",
          "New Brunswick",
          "New Brunswick",
          "New Brunswick",
          "New Brunswick",
          "New Brunswick",
          "New Brunswick",
          "New Brunswick",
          "New Brunswick",
          "New Brunswick",
          "New Brunswick",
          "New Brunswick",
          "New Brunswick",
          "New Brunswick",
          "New Brunswick",
          "New Brunswick",
          "New Brunswick",
          "New Brunswick",
          "New Brunswick",
          "New Brunswick",
          "New Brunswick",
          "New Brunswick",
          "New Brunswick"
         ],
         "x0": " ",
         "xaxis": "x",
         "y": [
          0.63,
          0.63,
          0.65,
          0.6,
          0.61,
          0.68,
          0.72,
          0.67,
          0.72,
          0.72,
          0.79,
          0.8,
          0.81,
          0.79,
          0.82,
          0.78,
          0.84,
          0.79,
          0.78,
          0.73,
          0.71,
          0.66,
          0.65,
          0.59,
          0.58,
          0.62,
          0.63,
          0.6,
          0.57,
          0.57,
          0.57,
          0.54,
          0.52
         ],
         "y0": " ",
         "yaxis": "y"
        },
        {
         "alignmentgroup": "True",
         "hovertemplate": "Geography=%{x}<br>DelinquencyRate=%{y}<extra></extra>",
         "legendgroup": "Québec",
         "marker": {
          "color": "#FFA15A"
         },
         "name": "Québec",
         "notched": false,
         "offsetgroup": "Québec",
         "orientation": "v",
         "showlegend": true,
         "type": "box",
         "x": [
          "Québec",
          "Québec",
          "Québec",
          "Québec",
          "Québec",
          "Québec",
          "Québec",
          "Québec",
          "Québec",
          "Québec",
          "Québec",
          "Québec",
          "Québec",
          "Québec",
          "Québec",
          "Québec",
          "Québec",
          "Québec",
          "Québec",
          "Québec",
          "Québec",
          "Québec",
          "Québec",
          "Québec",
          "Québec",
          "Québec",
          "Québec",
          "Québec",
          "Québec",
          "Québec",
          "Québec",
          "Québec",
          "Québec"
         ],
         "x0": " ",
         "xaxis": "x",
         "y": [
          0.33,
          0.33,
          0.35,
          0.34,
          0.33,
          0.35,
          0.37,
          0.36,
          0.37,
          0.39,
          0.42,
          0.41,
          0.41,
          0.42,
          0.44,
          0.43,
          0.42,
          0.4,
          0.41,
          0.4,
          0.37,
          0.34,
          0.34,
          0.35,
          0.35,
          0.38,
          0.38,
          0.37,
          0.37,
          0.36,
          0.36,
          0.34,
          0.36
         ],
         "y0": " ",
         "yaxis": "y"
        },
        {
         "alignmentgroup": "True",
         "hovertemplate": "Geography=%{x}<br>DelinquencyRate=%{y}<extra></extra>",
         "legendgroup": "Ontario",
         "marker": {
          "color": "#19d3f3"
         },
         "name": "Ontario",
         "notched": false,
         "offsetgroup": "Ontario",
         "orientation": "v",
         "showlegend": true,
         "type": "box",
         "x": [
          "Ontario",
          "Ontario",
          "Ontario",
          "Ontario",
          "Ontario",
          "Ontario",
          "Ontario",
          "Ontario",
          "Ontario",
          "Ontario",
          "Ontario",
          "Ontario",
          "Ontario",
          "Ontario",
          "Ontario",
          "Ontario",
          "Ontario",
          "Ontario",
          "Ontario",
          "Ontario",
          "Ontario",
          "Ontario",
          "Ontario",
          "Ontario",
          "Ontario",
          "Ontario",
          "Ontario",
          "Ontario",
          "Ontario",
          "Ontario",
          "Ontario",
          "Ontario",
          "Ontario"
         ],
         "x0": " ",
         "xaxis": "x",
         "y": [
          0.31,
          0.31,
          0.31,
          0.29,
          0.28,
          0.28,
          0.29,
          0.27,
          0.27,
          0.26,
          0.27,
          0.25,
          0.24,
          0.23,
          0.24,
          0.22,
          0.2,
          0.19,
          0.18,
          0.16,
          0.16,
          0.15,
          0.15,
          0.14,
          0.13,
          0.14,
          0.14,
          0.14,
          0.14,
          0.14,
          0.14,
          0.14,
          0.14
         ],
         "y0": " ",
         "yaxis": "y"
        },
        {
         "alignmentgroup": "True",
         "hovertemplate": "Geography=%{x}<br>DelinquencyRate=%{y}<extra></extra>",
         "legendgroup": "Manitoba",
         "marker": {
          "color": "#FF6692"
         },
         "name": "Manitoba",
         "notched": false,
         "offsetgroup": "Manitoba",
         "orientation": "v",
         "showlegend": true,
         "type": "box",
         "x": [
          "Manitoba",
          "Manitoba",
          "Manitoba",
          "Manitoba",
          "Manitoba",
          "Manitoba",
          "Manitoba",
          "Manitoba",
          "Manitoba",
          "Manitoba",
          "Manitoba",
          "Manitoba",
          "Manitoba",
          "Manitoba",
          "Manitoba",
          "Manitoba",
          "Manitoba",
          "Manitoba",
          "Manitoba",
          "Manitoba",
          "Manitoba",
          "Manitoba",
          "Manitoba",
          "Manitoba",
          "Manitoba",
          "Manitoba",
          "Manitoba",
          "Manitoba",
          "Manitoba",
          "Manitoba",
          "Manitoba",
          "Manitoba",
          "Manitoba"
         ],
         "x0": " ",
         "xaxis": "x",
         "y": [
          0.25,
          0.27,
          0.28,
          0.26,
          0.28,
          0.28,
          0.28,
          0.25,
          0.24,
          0.27,
          0.31,
          0.3,
          0.29,
          0.33,
          0.34,
          0.35,
          0.34,
          0.35,
          0.36,
          0.35,
          0.33,
          0.3,
          0.3,
          0.31,
          0.32,
          0.35,
          0.35,
          0.35,
          0.34,
          0.36,
          0.37,
          0.38,
          0.35
         ],
         "y0": " ",
         "yaxis": "y"
        },
        {
         "alignmentgroup": "True",
         "hovertemplate": "Geography=%{x}<br>DelinquencyRate=%{y}<extra></extra>",
         "legendgroup": "Saskatchewan",
         "marker": {
          "color": "#B6E880"
         },
         "name": "Saskatchewan",
         "notched": false,
         "offsetgroup": "Saskatchewan",
         "orientation": "v",
         "showlegend": true,
         "type": "box",
         "x": [
          "Saskatchewan",
          "Saskatchewan",
          "Saskatchewan",
          "Saskatchewan",
          "Saskatchewan",
          "Saskatchewan",
          "Saskatchewan",
          "Saskatchewan",
          "Saskatchewan",
          "Saskatchewan",
          "Saskatchewan",
          "Saskatchewan",
          "Saskatchewan",
          "Saskatchewan",
          "Saskatchewan",
          "Saskatchewan",
          "Saskatchewan",
          "Saskatchewan",
          "Saskatchewan",
          "Saskatchewan",
          "Saskatchewan",
          "Saskatchewan",
          "Saskatchewan",
          "Saskatchewan",
          "Saskatchewan",
          "Saskatchewan",
          "Saskatchewan",
          "Saskatchewan",
          "Saskatchewan",
          "Saskatchewan",
          "Saskatchewan",
          "Saskatchewan",
          "Saskatchewan"
         ],
         "x0": " ",
         "xaxis": "x",
         "y": [
          0.37,
          0.37,
          0.36,
          0.34,
          0.3,
          0.32,
          0.35,
          0.31,
          0.32,
          0.36,
          0.41,
          0.43,
          0.45,
          0.49,
          0.54,
          0.57,
          0.61,
          0.62,
          0.62,
          0.66,
          0.65,
          0.66,
          0.66,
          0.67,
          0.7,
          0.72,
          0.74,
          0.75,
          0.73,
          0.73,
          0.75,
          0.76,
          0.72
         ],
         "y0": " ",
         "yaxis": "y"
        },
        {
         "alignmentgroup": "True",
         "hovertemplate": "Geography=%{x}<br>DelinquencyRate=%{y}<extra></extra>",
         "legendgroup": "Alberta",
         "marker": {
          "color": "#FF97FF"
         },
         "name": "Alberta",
         "notched": false,
         "offsetgroup": "Alberta",
         "orientation": "v",
         "showlegend": true,
         "type": "box",
         "x": [
          "Alberta",
          "Alberta",
          "Alberta",
          "Alberta",
          "Alberta",
          "Alberta",
          "Alberta",
          "Alberta",
          "Alberta",
          "Alberta",
          "Alberta",
          "Alberta",
          "Alberta",
          "Alberta",
          "Alberta",
          "Alberta",
          "Alberta",
          "Alberta",
          "Alberta",
          "Alberta",
          "Alberta",
          "Alberta",
          "Alberta",
          "Alberta",
          "Alberta",
          "Alberta",
          "Alberta",
          "Alberta",
          "Alberta",
          "Alberta",
          "Alberta",
          "Alberta",
          "Alberta"
         ],
         "x0": " ",
         "xaxis": "x",
         "y": [
          0.6,
          0.55,
          0.52,
          0.47,
          0.45,
          0.43,
          0.42,
          0.37,
          0.34,
          0.32,
          0.32,
          0.33,
          0.35,
          0.36,
          0.41,
          0.45,
          0.53,
          0.53,
          0.54,
          0.52,
          0.51,
          0.5,
          0.5,
          0.46,
          0.47,
          0.5,
          0.51,
          0.53,
          0.51,
          0.5,
          0.52,
          0.52,
          0.5
         ],
         "y0": " ",
         "yaxis": "y"
        },
        {
         "alignmentgroup": "True",
         "hovertemplate": "Geography=%{x}<br>DelinquencyRate=%{y}<extra></extra>",
         "legendgroup": "British Columbia",
         "marker": {
          "color": "#FECB52"
         },
         "name": "British Columbia",
         "notched": false,
         "offsetgroup": "British Columbia",
         "orientation": "v",
         "showlegend": true,
         "type": "box",
         "x": [
          "British Columbia",
          "British Columbia",
          "British Columbia",
          "British Columbia",
          "British Columbia",
          "British Columbia",
          "British Columbia",
          "British Columbia",
          "British Columbia",
          "British Columbia",
          "British Columbia",
          "British Columbia",
          "British Columbia",
          "British Columbia",
          "British Columbia",
          "British Columbia",
          "British Columbia",
          "British Columbia",
          "British Columbia",
          "British Columbia",
          "British Columbia",
          "British Columbia",
          "British Columbia",
          "British Columbia",
          "British Columbia",
          "British Columbia",
          "British Columbia",
          "British Columbia",
          "British Columbia",
          "British Columbia",
          "British Columbia",
          "British Columbia",
          "British Columbia"
         ],
         "x0": " ",
         "xaxis": "x",
         "y": [
          0.42,
          0.42,
          0.43,
          0.43,
          0.42,
          0.43,
          0.43,
          0.4,
          0.4,
          0.4,
          0.4,
          0.38,
          0.34,
          0.32,
          0.32,
          0.29,
          0.26,
          0.25,
          0.23,
          0.2,
          0.18,
          0.18,
          0.17,
          0.17,
          0.16,
          0.17,
          0.17,
          0.17,
          0.16,
          0.16,
          0.17,
          0.19,
          0.19
         ],
         "y0": " ",
         "yaxis": "y"
        }
       ],
       "layout": {
        "boxmode": "overlay",
        "legend": {
         "title": {
          "text": "Geography"
         },
         "tracegroupgap": 0
        },
        "template": {
         "data": {
          "bar": [
           {
            "error_x": {
             "color": "#2a3f5f"
            },
            "error_y": {
             "color": "#2a3f5f"
            },
            "marker": {
             "line": {
              "color": "#E5ECF6",
              "width": 0.5
             },
             "pattern": {
              "fillmode": "overlay",
              "size": 10,
              "solidity": 0.2
             }
            },
            "type": "bar"
           }
          ],
          "barpolar": [
           {
            "marker": {
             "line": {
              "color": "#E5ECF6",
              "width": 0.5
             },
             "pattern": {
              "fillmode": "overlay",
              "size": 10,
              "solidity": 0.2
             }
            },
            "type": "barpolar"
           }
          ],
          "carpet": [
           {
            "aaxis": {
             "endlinecolor": "#2a3f5f",
             "gridcolor": "white",
             "linecolor": "white",
             "minorgridcolor": "white",
             "startlinecolor": "#2a3f5f"
            },
            "baxis": {
             "endlinecolor": "#2a3f5f",
             "gridcolor": "white",
             "linecolor": "white",
             "minorgridcolor": "white",
             "startlinecolor": "#2a3f5f"
            },
            "type": "carpet"
           }
          ],
          "choropleth": [
           {
            "colorbar": {
             "outlinewidth": 0,
             "ticks": ""
            },
            "type": "choropleth"
           }
          ],
          "contour": [
           {
            "colorbar": {
             "outlinewidth": 0,
             "ticks": ""
            },
            "colorscale": [
             [
              0,
              "#0d0887"
             ],
             [
              0.1111111111111111,
              "#46039f"
             ],
             [
              0.2222222222222222,
              "#7201a8"
             ],
             [
              0.3333333333333333,
              "#9c179e"
             ],
             [
              0.4444444444444444,
              "#bd3786"
             ],
             [
              0.5555555555555556,
              "#d8576b"
             ],
             [
              0.6666666666666666,
              "#ed7953"
             ],
             [
              0.7777777777777778,
              "#fb9f3a"
             ],
             [
              0.8888888888888888,
              "#fdca26"
             ],
             [
              1,
              "#f0f921"
             ]
            ],
            "type": "contour"
           }
          ],
          "contourcarpet": [
           {
            "colorbar": {
             "outlinewidth": 0,
             "ticks": ""
            },
            "type": "contourcarpet"
           }
          ],
          "heatmap": [
           {
            "colorbar": {
             "outlinewidth": 0,
             "ticks": ""
            },
            "colorscale": [
             [
              0,
              "#0d0887"
             ],
             [
              0.1111111111111111,
              "#46039f"
             ],
             [
              0.2222222222222222,
              "#7201a8"
             ],
             [
              0.3333333333333333,
              "#9c179e"
             ],
             [
              0.4444444444444444,
              "#bd3786"
             ],
             [
              0.5555555555555556,
              "#d8576b"
             ],
             [
              0.6666666666666666,
              "#ed7953"
             ],
             [
              0.7777777777777778,
              "#fb9f3a"
             ],
             [
              0.8888888888888888,
              "#fdca26"
             ],
             [
              1,
              "#f0f921"
             ]
            ],
            "type": "heatmap"
           }
          ],
          "heatmapgl": [
           {
            "colorbar": {
             "outlinewidth": 0,
             "ticks": ""
            },
            "colorscale": [
             [
              0,
              "#0d0887"
             ],
             [
              0.1111111111111111,
              "#46039f"
             ],
             [
              0.2222222222222222,
              "#7201a8"
             ],
             [
              0.3333333333333333,
              "#9c179e"
             ],
             [
              0.4444444444444444,
              "#bd3786"
             ],
             [
              0.5555555555555556,
              "#d8576b"
             ],
             [
              0.6666666666666666,
              "#ed7953"
             ],
             [
              0.7777777777777778,
              "#fb9f3a"
             ],
             [
              0.8888888888888888,
              "#fdca26"
             ],
             [
              1,
              "#f0f921"
             ]
            ],
            "type": "heatmapgl"
           }
          ],
          "histogram": [
           {
            "marker": {
             "pattern": {
              "fillmode": "overlay",
              "size": 10,
              "solidity": 0.2
             }
            },
            "type": "histogram"
           }
          ],
          "histogram2d": [
           {
            "colorbar": {
             "outlinewidth": 0,
             "ticks": ""
            },
            "colorscale": [
             [
              0,
              "#0d0887"
             ],
             [
              0.1111111111111111,
              "#46039f"
             ],
             [
              0.2222222222222222,
              "#7201a8"
             ],
             [
              0.3333333333333333,
              "#9c179e"
             ],
             [
              0.4444444444444444,
              "#bd3786"
             ],
             [
              0.5555555555555556,
              "#d8576b"
             ],
             [
              0.6666666666666666,
              "#ed7953"
             ],
             [
              0.7777777777777778,
              "#fb9f3a"
             ],
             [
              0.8888888888888888,
              "#fdca26"
             ],
             [
              1,
              "#f0f921"
             ]
            ],
            "type": "histogram2d"
           }
          ],
          "histogram2dcontour": [
           {
            "colorbar": {
             "outlinewidth": 0,
             "ticks": ""
            },
            "colorscale": [
             [
              0,
              "#0d0887"
             ],
             [
              0.1111111111111111,
              "#46039f"
             ],
             [
              0.2222222222222222,
              "#7201a8"
             ],
             [
              0.3333333333333333,
              "#9c179e"
             ],
             [
              0.4444444444444444,
              "#bd3786"
             ],
             [
              0.5555555555555556,
              "#d8576b"
             ],
             [
              0.6666666666666666,
              "#ed7953"
             ],
             [
              0.7777777777777778,
              "#fb9f3a"
             ],
             [
              0.8888888888888888,
              "#fdca26"
             ],
             [
              1,
              "#f0f921"
             ]
            ],
            "type": "histogram2dcontour"
           }
          ],
          "mesh3d": [
           {
            "colorbar": {
             "outlinewidth": 0,
             "ticks": ""
            },
            "type": "mesh3d"
           }
          ],
          "parcoords": [
           {
            "line": {
             "colorbar": {
              "outlinewidth": 0,
              "ticks": ""
             }
            },
            "type": "parcoords"
           }
          ],
          "pie": [
           {
            "automargin": true,
            "type": "pie"
           }
          ],
          "scatter": [
           {
            "fillpattern": {
             "fillmode": "overlay",
             "size": 10,
             "solidity": 0.2
            },
            "type": "scatter"
           }
          ],
          "scatter3d": [
           {
            "line": {
             "colorbar": {
              "outlinewidth": 0,
              "ticks": ""
             }
            },
            "marker": {
             "colorbar": {
              "outlinewidth": 0,
              "ticks": ""
             }
            },
            "type": "scatter3d"
           }
          ],
          "scattercarpet": [
           {
            "marker": {
             "colorbar": {
              "outlinewidth": 0,
              "ticks": ""
             }
            },
            "type": "scattercarpet"
           }
          ],
          "scattergeo": [
           {
            "marker": {
             "colorbar": {
              "outlinewidth": 0,
              "ticks": ""
             }
            },
            "type": "scattergeo"
           }
          ],
          "scattergl": [
           {
            "marker": {
             "colorbar": {
              "outlinewidth": 0,
              "ticks": ""
             }
            },
            "type": "scattergl"
           }
          ],
          "scattermapbox": [
           {
            "marker": {
             "colorbar": {
              "outlinewidth": 0,
              "ticks": ""
             }
            },
            "type": "scattermapbox"
           }
          ],
          "scatterpolar": [
           {
            "marker": {
             "colorbar": {
              "outlinewidth": 0,
              "ticks": ""
             }
            },
            "type": "scatterpolar"
           }
          ],
          "scatterpolargl": [
           {
            "marker": {
             "colorbar": {
              "outlinewidth": 0,
              "ticks": ""
             }
            },
            "type": "scatterpolargl"
           }
          ],
          "scatterternary": [
           {
            "marker": {
             "colorbar": {
              "outlinewidth": 0,
              "ticks": ""
             }
            },
            "type": "scatterternary"
           }
          ],
          "surface": [
           {
            "colorbar": {
             "outlinewidth": 0,
             "ticks": ""
            },
            "colorscale": [
             [
              0,
              "#0d0887"
             ],
             [
              0.1111111111111111,
              "#46039f"
             ],
             [
              0.2222222222222222,
              "#7201a8"
             ],
             [
              0.3333333333333333,
              "#9c179e"
             ],
             [
              0.4444444444444444,
              "#bd3786"
             ],
             [
              0.5555555555555556,
              "#d8576b"
             ],
             [
              0.6666666666666666,
              "#ed7953"
             ],
             [
              0.7777777777777778,
              "#fb9f3a"
             ],
             [
              0.8888888888888888,
              "#fdca26"
             ],
             [
              1,
              "#f0f921"
             ]
            ],
            "type": "surface"
           }
          ],
          "table": [
           {
            "cells": {
             "fill": {
              "color": "#EBF0F8"
             },
             "line": {
              "color": "white"
             }
            },
            "header": {
             "fill": {
              "color": "#C8D4E3"
             },
             "line": {
              "color": "white"
             }
            },
            "type": "table"
           }
          ]
         },
         "layout": {
          "annotationdefaults": {
           "arrowcolor": "#2a3f5f",
           "arrowhead": 0,
           "arrowwidth": 1
          },
          "autotypenumbers": "strict",
          "coloraxis": {
           "colorbar": {
            "outlinewidth": 0,
            "ticks": ""
           }
          },
          "colorscale": {
           "diverging": [
            [
             0,
             "#8e0152"
            ],
            [
             0.1,
             "#c51b7d"
            ],
            [
             0.2,
             "#de77ae"
            ],
            [
             0.3,
             "#f1b6da"
            ],
            [
             0.4,
             "#fde0ef"
            ],
            [
             0.5,
             "#f7f7f7"
            ],
            [
             0.6,
             "#e6f5d0"
            ],
            [
             0.7,
             "#b8e186"
            ],
            [
             0.8,
             "#7fbc41"
            ],
            [
             0.9,
             "#4d9221"
            ],
            [
             1,
             "#276419"
            ]
           ],
           "sequential": [
            [
             0,
             "#0d0887"
            ],
            [
             0.1111111111111111,
             "#46039f"
            ],
            [
             0.2222222222222222,
             "#7201a8"
            ],
            [
             0.3333333333333333,
             "#9c179e"
            ],
            [
             0.4444444444444444,
             "#bd3786"
            ],
            [
             0.5555555555555556,
             "#d8576b"
            ],
            [
             0.6666666666666666,
             "#ed7953"
            ],
            [
             0.7777777777777778,
             "#fb9f3a"
            ],
            [
             0.8888888888888888,
             "#fdca26"
            ],
            [
             1,
             "#f0f921"
            ]
           ],
           "sequentialminus": [
            [
             0,
             "#0d0887"
            ],
            [
             0.1111111111111111,
             "#46039f"
            ],
            [
             0.2222222222222222,
             "#7201a8"
            ],
            [
             0.3333333333333333,
             "#9c179e"
            ],
            [
             0.4444444444444444,
             "#bd3786"
            ],
            [
             0.5555555555555556,
             "#d8576b"
            ],
            [
             0.6666666666666666,
             "#ed7953"
            ],
            [
             0.7777777777777778,
             "#fb9f3a"
            ],
            [
             0.8888888888888888,
             "#fdca26"
            ],
            [
             1,
             "#f0f921"
            ]
           ]
          },
          "colorway": [
           "#636efa",
           "#EF553B",
           "#00cc96",
           "#ab63fa",
           "#FFA15A",
           "#19d3f3",
           "#FF6692",
           "#B6E880",
           "#FF97FF",
           "#FECB52"
          ],
          "font": {
           "color": "#2a3f5f"
          },
          "geo": {
           "bgcolor": "white",
           "lakecolor": "white",
           "landcolor": "#E5ECF6",
           "showlakes": true,
           "showland": true,
           "subunitcolor": "white"
          },
          "hoverlabel": {
           "align": "left"
          },
          "hovermode": "closest",
          "mapbox": {
           "style": "light"
          },
          "paper_bgcolor": "white",
          "plot_bgcolor": "#E5ECF6",
          "polar": {
           "angularaxis": {
            "gridcolor": "white",
            "linecolor": "white",
            "ticks": ""
           },
           "bgcolor": "#E5ECF6",
           "radialaxis": {
            "gridcolor": "white",
            "linecolor": "white",
            "ticks": ""
           }
          },
          "scene": {
           "xaxis": {
            "backgroundcolor": "#E5ECF6",
            "gridcolor": "white",
            "gridwidth": 2,
            "linecolor": "white",
            "showbackground": true,
            "ticks": "",
            "zerolinecolor": "white"
           },
           "yaxis": {
            "backgroundcolor": "#E5ECF6",
            "gridcolor": "white",
            "gridwidth": 2,
            "linecolor": "white",
            "showbackground": true,
            "ticks": "",
            "zerolinecolor": "white"
           },
           "zaxis": {
            "backgroundcolor": "#E5ECF6",
            "gridcolor": "white",
            "gridwidth": 2,
            "linecolor": "white",
            "showbackground": true,
            "ticks": "",
            "zerolinecolor": "white"
           }
          },
          "shapedefaults": {
           "line": {
            "color": "#2a3f5f"
           }
          },
          "ternary": {
           "aaxis": {
            "gridcolor": "white",
            "linecolor": "white",
            "ticks": ""
           },
           "baxis": {
            "gridcolor": "white",
            "linecolor": "white",
            "ticks": ""
           },
           "bgcolor": "#E5ECF6",
           "caxis": {
            "gridcolor": "white",
            "linecolor": "white",
            "ticks": ""
           }
          },
          "title": {
           "x": 0.05
          },
          "xaxis": {
           "automargin": true,
           "gridcolor": "white",
           "linecolor": "white",
           "ticks": "",
           "title": {
            "standoff": 15
           },
           "zerolinecolor": "white",
           "zerolinewidth": 2
          },
          "yaxis": {
           "automargin": true,
           "gridcolor": "white",
           "linecolor": "white",
           "ticks": "",
           "title": {
            "standoff": 15
           },
           "zerolinecolor": "white",
           "zerolinewidth": 2
          }
         }
        },
        "title": {
         "text": "Chart: box plot of Delinquency rate by Geoography."
        },
        "xaxis": {
         "anchor": "y",
         "categoryarray": [
          "Newfoundland",
          "Prince Edward Island",
          "Nova Scotia",
          "New Brunswick",
          "Québec",
          "Ontario",
          "Manitoba",
          "Saskatchewan",
          "Alberta",
          "British Columbia"
         ],
         "categoryorder": "array",
         "domain": [
          0,
          1
         ],
         "title": {
          "text": "Geography"
         }
        },
        "yaxis": {
         "anchor": "x",
         "domain": [
          0,
          1
         ],
         "title": {
          "text": "DelinquencyRate"
         }
        }
       }
      }
     },
     "metadata": {},
     "output_type": "display_data"
    }
   ],
   "source": [
    "px.box(data_pop_del_mort_df, \n",
    "       x = 'Geography', \n",
    "       y = 'DelinquencyRate',\n",
    "      color = 'Geography',\n",
    "      title  = 'Chart: box plot of Delinquency rate by Geoography.')"
   ]
  },
  {
   "cell_type": "markdown",
   "metadata": {
    "slideshow": {
     "slide_type": "slide"
    }
   },
   "source": [
    "#### Exercise: Let's take a look at distribution of average mortgage amount and population size\n",
    "\n",
    "Complete the code below to visualize the average mortgage amount and population size. "
   ]
  },
  {
   "cell_type": "code",
   "execution_count": 11,
   "metadata": {
    "slideshow": {
     "slide_type": "subslide"
    }
   },
   "outputs": [
    {
     "data": {
      "application/vnd.plotly.v1+json": {
       "config": {
        "plotlyServerURL": "https://plot.ly"
       },
       "data": [
        {
         "alignmentgroup": "True",
         "hovertemplate": "Geography=%{x}<br>AverageMortgageAmount=%{y}<extra></extra>",
         "legendgroup": "Newfoundland",
         "marker": {
          "color": "#636efa"
         },
         "name": "Newfoundland",
         "notched": false,
         "offsetgroup": "Newfoundland",
         "orientation": "v",
         "showlegend": true,
         "type": "box",
         "x": [
          "Newfoundland",
          "Newfoundland",
          "Newfoundland",
          "Newfoundland",
          "Newfoundland",
          "Newfoundland",
          "Newfoundland",
          "Newfoundland",
          "Newfoundland",
          "Newfoundland",
          "Newfoundland",
          "Newfoundland",
          "Newfoundland",
          "Newfoundland",
          "Newfoundland",
          "Newfoundland",
          "Newfoundland",
          "Newfoundland",
          "Newfoundland",
          "Newfoundland",
          "Newfoundland",
          "Newfoundland",
          "Newfoundland",
          "Newfoundland",
          "Newfoundland",
          "Newfoundland",
          "Newfoundland",
          "Newfoundland",
          "Newfoundland",
          "Newfoundland",
          "Newfoundland",
          "Newfoundland",
          "Newfoundland"
         ],
         "x0": " ",
         "xaxis": "x",
         "y": [
          188732,
          185794,
          189098,
          181331,
          191818,
          193100,
          195479,
          192856,
          199560,
          200310,
          197406,
          193956,
          199758,
          202487,
          196798,
          196806,
          198265,
          197794,
          192057,
          191412,
          200378,
          193619,
          196431,
          192252,
          192106,
          188614,
          185276,
          190582,
          194536,
          193870,
          186268,
          187431,
          196100
         ],
         "y0": " ",
         "yaxis": "y"
        },
        {
         "alignmentgroup": "True",
         "hovertemplate": "Geography=%{x}<br>AverageMortgageAmount=%{y}<extra></extra>",
         "legendgroup": "Prince Edward Island",
         "marker": {
          "color": "#EF553B"
         },
         "name": "Prince Edward Island",
         "notched": false,
         "offsetgroup": "Prince Edward Island",
         "orientation": "v",
         "showlegend": true,
         "type": "box",
         "x": [
          "Prince Edward Island",
          "Prince Edward Island",
          "Prince Edward Island",
          "Prince Edward Island",
          "Prince Edward Island",
          "Prince Edward Island",
          "Prince Edward Island",
          "Prince Edward Island",
          "Prince Edward Island",
          "Prince Edward Island",
          "Prince Edward Island",
          "Prince Edward Island",
          "Prince Edward Island",
          "Prince Edward Island",
          "Prince Edward Island",
          "Prince Edward Island",
          "Prince Edward Island",
          "Prince Edward Island",
          "Prince Edward Island",
          "Prince Edward Island",
          "Prince Edward Island",
          "Prince Edward Island",
          "Prince Edward Island",
          "Prince Edward Island",
          "Prince Edward Island",
          "Prince Edward Island",
          "Prince Edward Island",
          "Prince Edward Island",
          "Prince Edward Island",
          "Prince Edward Island",
          "Prince Edward Island",
          "Prince Edward Island",
          "Prince Edward Island"
         ],
         "x0": " ",
         "xaxis": "x",
         "y": [
          140279,
          138415,
          137162,
          126763,
          139506,
          141453,
          141141,
          137427,
          143320,
          141232,
          146885,
          146818,
          150403,
          155926,
          157322,
          150732,
          169651,
          155799,
          175124,
          174901,
          176919,
          175523,
          179179,
          182114,
          181967,
          178140,
          181172,
          181358,
          190715,
          185934,
          193439,
          189309,
          204415
         ],
         "y0": " ",
         "yaxis": "y"
        },
        {
         "alignmentgroup": "True",
         "hovertemplate": "Geography=%{x}<br>AverageMortgageAmount=%{y}<extra></extra>",
         "legendgroup": "Nova Scotia",
         "marker": {
          "color": "#00cc96"
         },
         "name": "Nova Scotia",
         "notched": false,
         "offsetgroup": "Nova Scotia",
         "orientation": "v",
         "showlegend": true,
         "type": "box",
         "x": [
          "Nova Scotia",
          "Nova Scotia",
          "Nova Scotia",
          "Nova Scotia",
          "Nova Scotia",
          "Nova Scotia",
          "Nova Scotia",
          "Nova Scotia",
          "Nova Scotia",
          "Nova Scotia",
          "Nova Scotia",
          "Nova Scotia",
          "Nova Scotia",
          "Nova Scotia",
          "Nova Scotia",
          "Nova Scotia",
          "Nova Scotia",
          "Nova Scotia",
          "Nova Scotia",
          "Nova Scotia",
          "Nova Scotia",
          "Nova Scotia",
          "Nova Scotia",
          "Nova Scotia",
          "Nova Scotia",
          "Nova Scotia",
          "Nova Scotia",
          "Nova Scotia",
          "Nova Scotia",
          "Nova Scotia",
          "Nova Scotia",
          "Nova Scotia",
          "Nova Scotia"
         ],
         "x0": " ",
         "xaxis": "x",
         "y": [
          174688,
          160046,
          158806,
          159945,
          166426,
          160189,
          161383,
          157664,
          172827,
          163584,
          163607,
          165288,
          178091,
          172863,
          167596,
          168948,
          178784,
          173305,
          186024,
          182526,
          194802,
          188559,
          185858,
          179407,
          190443,
          179921,
          177863,
          180958,
          193586,
          190168,
          188267,
          192060,
          207877
         ],
         "y0": " ",
         "yaxis": "y"
        },
        {
         "alignmentgroup": "True",
         "hovertemplate": "Geography=%{x}<br>AverageMortgageAmount=%{y}<extra></extra>",
         "legendgroup": "New Brunswick",
         "marker": {
          "color": "#ab63fa"
         },
         "name": "New Brunswick",
         "notched": false,
         "offsetgroup": "New Brunswick",
         "orientation": "v",
         "showlegend": true,
         "type": "box",
         "x": [
          "New Brunswick",
          "New Brunswick",
          "New Brunswick",
          "New Brunswick",
          "New Brunswick",
          "New Brunswick",
          "New Brunswick",
          "New Brunswick",
          "New Brunswick",
          "New Brunswick",
          "New Brunswick",
          "New Brunswick",
          "New Brunswick",
          "New Brunswick",
          "New Brunswick",
          "New Brunswick",
          "New Brunswick",
          "New Brunswick",
          "New Brunswick",
          "New Brunswick",
          "New Brunswick",
          "New Brunswick",
          "New Brunswick",
          "New Brunswick",
          "New Brunswick",
          "New Brunswick",
          "New Brunswick",
          "New Brunswick",
          "New Brunswick",
          "New Brunswick",
          "New Brunswick",
          "New Brunswick",
          "New Brunswick"
         ],
         "x0": " ",
         "xaxis": "x",
         "y": [
          133390,
          126138,
          124645,
          122572,
          131542,
          128155,
          127766,
          124221,
          135592,
          132766,
          132025,
          128378,
          137565,
          137039,
          132325,
          133027,
          143533,
          140124,
          141196,
          135748,
          147934,
          142799,
          139711,
          139750,
          150353,
          143324,
          140850,
          137809,
          152606,
          147047,
          146701,
          149590,
          160349
         ],
         "y0": " ",
         "yaxis": "y"
        },
        {
         "alignmentgroup": "True",
         "hovertemplate": "Geography=%{x}<br>AverageMortgageAmount=%{y}<extra></extra>",
         "legendgroup": "Québec",
         "marker": {
          "color": "#FFA15A"
         },
         "name": "Québec",
         "notched": false,
         "offsetgroup": "Québec",
         "orientation": "v",
         "showlegend": true,
         "type": "box",
         "x": [
          "Québec",
          "Québec",
          "Québec",
          "Québec",
          "Québec",
          "Québec",
          "Québec",
          "Québec",
          "Québec",
          "Québec",
          "Québec",
          "Québec",
          "Québec",
          "Québec",
          "Québec",
          "Québec",
          "Québec",
          "Québec",
          "Québec",
          "Québec",
          "Québec",
          "Québec",
          "Québec",
          "Québec",
          "Québec",
          "Québec",
          "Québec",
          "Québec",
          "Québec",
          "Québec",
          "Québec",
          "Québec",
          "Québec"
         ],
         "x0": " ",
         "xaxis": "x",
         "y": [
          159661,
          153413,
          153909,
          155016,
          160147,
          155512,
          156424,
          160165,
          166426,
          160073,
          161563,
          164764,
          170403,
          164235,
          167154,
          169326,
          176522,
          170309,
          171992,
          171716,
          177306,
          173182,
          175297,
          183507,
          187727,
          173911,
          175658,
          179523,
          187136,
          183501,
          189390,
          195538,
          203861
         ],
         "y0": " ",
         "yaxis": "y"
        },
        {
         "alignmentgroup": "True",
         "hovertemplate": "Geography=%{x}<br>AverageMortgageAmount=%{y}<extra></extra>",
         "legendgroup": "Ontario",
         "marker": {
          "color": "#19d3f3"
         },
         "name": "Ontario",
         "notched": false,
         "offsetgroup": "Ontario",
         "orientation": "v",
         "showlegend": true,
         "type": "box",
         "x": [
          "Ontario",
          "Ontario",
          "Ontario",
          "Ontario",
          "Ontario",
          "Ontario",
          "Ontario",
          "Ontario",
          "Ontario",
          "Ontario",
          "Ontario",
          "Ontario",
          "Ontario",
          "Ontario",
          "Ontario",
          "Ontario",
          "Ontario",
          "Ontario",
          "Ontario",
          "Ontario",
          "Ontario",
          "Ontario",
          "Ontario",
          "Ontario",
          "Ontario",
          "Ontario",
          "Ontario",
          "Ontario",
          "Ontario",
          "Ontario",
          "Ontario",
          "Ontario",
          "Ontario"
         ],
         "x0": " ",
         "xaxis": "x",
         "y": [
          247455,
          235667,
          233122,
          230770,
          249054,
          244060,
          244077,
          240828,
          262838,
          257244,
          254854,
          259093,
          281259,
          277802,
          278626,
          285024,
          307369,
          310236,
          319009,
          326645,
          338561,
          323821,
          322179,
          315576,
          327367,
          321579,
          321074,
          324080,
          343117,
          343768,
          348272,
          363432,
          373371
         ],
         "y0": " ",
         "yaxis": "y"
        },
        {
         "alignmentgroup": "True",
         "hovertemplate": "Geography=%{x}<br>AverageMortgageAmount=%{y}<extra></extra>",
         "legendgroup": "Manitoba",
         "marker": {
          "color": "#FF6692"
         },
         "name": "Manitoba",
         "notched": false,
         "offsetgroup": "Manitoba",
         "orientation": "v",
         "showlegend": true,
         "type": "box",
         "x": [
          "Manitoba",
          "Manitoba",
          "Manitoba",
          "Manitoba",
          "Manitoba",
          "Manitoba",
          "Manitoba",
          "Manitoba",
          "Manitoba",
          "Manitoba",
          "Manitoba",
          "Manitoba",
          "Manitoba",
          "Manitoba",
          "Manitoba",
          "Manitoba",
          "Manitoba",
          "Manitoba",
          "Manitoba",
          "Manitoba",
          "Manitoba",
          "Manitoba",
          "Manitoba",
          "Manitoba",
          "Manitoba",
          "Manitoba",
          "Manitoba",
          "Manitoba",
          "Manitoba",
          "Manitoba",
          "Manitoba",
          "Manitoba",
          "Manitoba"
         ],
         "x0": " ",
         "xaxis": "x",
         "y": [
          188298,
          181097,
          177560,
          177517,
          192732,
          189570,
          188107,
          184554,
          200051,
          197527,
          191444,
          190383,
          206275,
          201640,
          193970,
          196385,
          209051,
          206958,
          203999,
          205085,
          216750,
          217136,
          207988,
          207436,
          220454,
          214060,
          206692,
          214873,
          222637,
          218918,
          212508,
          217416,
          232725
         ],
         "y0": " ",
         "yaxis": "y"
        },
        {
         "alignmentgroup": "True",
         "hovertemplate": "Geography=%{x}<br>AverageMortgageAmount=%{y}<extra></extra>",
         "legendgroup": "Saskatchewan",
         "marker": {
          "color": "#B6E880"
         },
         "name": "Saskatchewan",
         "notched": false,
         "offsetgroup": "Saskatchewan",
         "orientation": "v",
         "showlegend": true,
         "type": "box",
         "x": [
          "Saskatchewan",
          "Saskatchewan",
          "Saskatchewan",
          "Saskatchewan",
          "Saskatchewan",
          "Saskatchewan",
          "Saskatchewan",
          "Saskatchewan",
          "Saskatchewan",
          "Saskatchewan",
          "Saskatchewan",
          "Saskatchewan",
          "Saskatchewan",
          "Saskatchewan",
          "Saskatchewan",
          "Saskatchewan",
          "Saskatchewan",
          "Saskatchewan",
          "Saskatchewan",
          "Saskatchewan",
          "Saskatchewan",
          "Saskatchewan",
          "Saskatchewan",
          "Saskatchewan",
          "Saskatchewan",
          "Saskatchewan",
          "Saskatchewan",
          "Saskatchewan",
          "Saskatchewan",
          "Saskatchewan",
          "Saskatchewan",
          "Saskatchewan",
          "Saskatchewan"
         ],
         "x0": " ",
         "xaxis": "x",
         "y": [
          217945,
          213126,
          206354,
          211979,
          224868,
          225414,
          226559,
          218781,
          231768,
          233854,
          228569,
          226957,
          234840,
          231611,
          225641,
          230729,
          236380,
          232174,
          234786,
          233545,
          238533,
          234340,
          230702,
          229851,
          233255,
          223628,
          217157,
          216369,
          228721,
          224315,
          216188,
          225641,
          237386
         ],
         "y0": " ",
         "yaxis": "y"
        },
        {
         "alignmentgroup": "True",
         "hovertemplate": "Geography=%{x}<br>AverageMortgageAmount=%{y}<extra></extra>",
         "legendgroup": "Alberta",
         "marker": {
          "color": "#FF97FF"
         },
         "name": "Alberta",
         "notched": false,
         "offsetgroup": "Alberta",
         "orientation": "v",
         "showlegend": true,
         "type": "box",
         "x": [
          "Alberta",
          "Alberta",
          "Alberta",
          "Alberta",
          "Alberta",
          "Alberta",
          "Alberta",
          "Alberta",
          "Alberta",
          "Alberta",
          "Alberta",
          "Alberta",
          "Alberta",
          "Alberta",
          "Alberta",
          "Alberta",
          "Alberta",
          "Alberta",
          "Alberta",
          "Alberta",
          "Alberta",
          "Alberta",
          "Alberta",
          "Alberta",
          "Alberta",
          "Alberta",
          "Alberta",
          "Alberta",
          "Alberta",
          "Alberta",
          "Alberta",
          "Alberta",
          "Alberta"
         ],
         "x0": " ",
         "xaxis": "x",
         "y": [
          282371,
          277555,
          277158,
          278516,
          289263,
          284928,
          291926,
          290722,
          304374,
          305558,
          303976,
          299837,
          309953,
          303244,
          296111,
          298884,
          304683,
          302095,
          301254,
          300115,
          307837,
          307662,
          302814,
          302116,
          305101,
          295839,
          291721,
          293612,
          297609,
          297552,
          291747,
          296269,
          305600
         ],
         "y0": " ",
         "yaxis": "y"
        },
        {
         "alignmentgroup": "True",
         "hovertemplate": "Geography=%{x}<br>AverageMortgageAmount=%{y}<extra></extra>",
         "legendgroup": "British Columbia",
         "marker": {
          "color": "#FECB52"
         },
         "name": "British Columbia",
         "notched": false,
         "offsetgroup": "British Columbia",
         "orientation": "v",
         "showlegend": true,
         "type": "box",
         "x": [
          "British Columbia",
          "British Columbia",
          "British Columbia",
          "British Columbia",
          "British Columbia",
          "British Columbia",
          "British Columbia",
          "British Columbia",
          "British Columbia",
          "British Columbia",
          "British Columbia",
          "British Columbia",
          "British Columbia",
          "British Columbia",
          "British Columbia",
          "British Columbia",
          "British Columbia",
          "British Columbia",
          "British Columbia",
          "British Columbia",
          "British Columbia",
          "British Columbia",
          "British Columbia",
          "British Columbia",
          "British Columbia",
          "British Columbia",
          "British Columbia",
          "British Columbia",
          "British Columbia",
          "British Columbia",
          "British Columbia",
          "British Columbia",
          "British Columbia"
         ],
         "x0": " ",
         "xaxis": "x",
         "y": [
          305427,
          289864,
          286652,
          290928,
          303663,
          305256,
          309374,
          305138,
          321625,
          323373,
          325035,
          328540,
          350672,
          357016,
          368782,
          385910,
          395297,
          366703,
          358655,
          369174,
          389430,
          381223,
          384794,
          371860,
          378187,
          364330,
          363239,
          363924,
          376343,
          386494,
          393711,
          397853,
          417004
         ],
         "y0": " ",
         "yaxis": "y"
        }
       ],
       "layout": {
        "boxmode": "overlay",
        "legend": {
         "title": {
          "text": "Geography"
         },
         "tracegroupgap": 0
        },
        "template": {
         "data": {
          "bar": [
           {
            "error_x": {
             "color": "#2a3f5f"
            },
            "error_y": {
             "color": "#2a3f5f"
            },
            "marker": {
             "line": {
              "color": "#E5ECF6",
              "width": 0.5
             },
             "pattern": {
              "fillmode": "overlay",
              "size": 10,
              "solidity": 0.2
             }
            },
            "type": "bar"
           }
          ],
          "barpolar": [
           {
            "marker": {
             "line": {
              "color": "#E5ECF6",
              "width": 0.5
             },
             "pattern": {
              "fillmode": "overlay",
              "size": 10,
              "solidity": 0.2
             }
            },
            "type": "barpolar"
           }
          ],
          "carpet": [
           {
            "aaxis": {
             "endlinecolor": "#2a3f5f",
             "gridcolor": "white",
             "linecolor": "white",
             "minorgridcolor": "white",
             "startlinecolor": "#2a3f5f"
            },
            "baxis": {
             "endlinecolor": "#2a3f5f",
             "gridcolor": "white",
             "linecolor": "white",
             "minorgridcolor": "white",
             "startlinecolor": "#2a3f5f"
            },
            "type": "carpet"
           }
          ],
          "choropleth": [
           {
            "colorbar": {
             "outlinewidth": 0,
             "ticks": ""
            },
            "type": "choropleth"
           }
          ],
          "contour": [
           {
            "colorbar": {
             "outlinewidth": 0,
             "ticks": ""
            },
            "colorscale": [
             [
              0,
              "#0d0887"
             ],
             [
              0.1111111111111111,
              "#46039f"
             ],
             [
              0.2222222222222222,
              "#7201a8"
             ],
             [
              0.3333333333333333,
              "#9c179e"
             ],
             [
              0.4444444444444444,
              "#bd3786"
             ],
             [
              0.5555555555555556,
              "#d8576b"
             ],
             [
              0.6666666666666666,
              "#ed7953"
             ],
             [
              0.7777777777777778,
              "#fb9f3a"
             ],
             [
              0.8888888888888888,
              "#fdca26"
             ],
             [
              1,
              "#f0f921"
             ]
            ],
            "type": "contour"
           }
          ],
          "contourcarpet": [
           {
            "colorbar": {
             "outlinewidth": 0,
             "ticks": ""
            },
            "type": "contourcarpet"
           }
          ],
          "heatmap": [
           {
            "colorbar": {
             "outlinewidth": 0,
             "ticks": ""
            },
            "colorscale": [
             [
              0,
              "#0d0887"
             ],
             [
              0.1111111111111111,
              "#46039f"
             ],
             [
              0.2222222222222222,
              "#7201a8"
             ],
             [
              0.3333333333333333,
              "#9c179e"
             ],
             [
              0.4444444444444444,
              "#bd3786"
             ],
             [
              0.5555555555555556,
              "#d8576b"
             ],
             [
              0.6666666666666666,
              "#ed7953"
             ],
             [
              0.7777777777777778,
              "#fb9f3a"
             ],
             [
              0.8888888888888888,
              "#fdca26"
             ],
             [
              1,
              "#f0f921"
             ]
            ],
            "type": "heatmap"
           }
          ],
          "heatmapgl": [
           {
            "colorbar": {
             "outlinewidth": 0,
             "ticks": ""
            },
            "colorscale": [
             [
              0,
              "#0d0887"
             ],
             [
              0.1111111111111111,
              "#46039f"
             ],
             [
              0.2222222222222222,
              "#7201a8"
             ],
             [
              0.3333333333333333,
              "#9c179e"
             ],
             [
              0.4444444444444444,
              "#bd3786"
             ],
             [
              0.5555555555555556,
              "#d8576b"
             ],
             [
              0.6666666666666666,
              "#ed7953"
             ],
             [
              0.7777777777777778,
              "#fb9f3a"
             ],
             [
              0.8888888888888888,
              "#fdca26"
             ],
             [
              1,
              "#f0f921"
             ]
            ],
            "type": "heatmapgl"
           }
          ],
          "histogram": [
           {
            "marker": {
             "pattern": {
              "fillmode": "overlay",
              "size": 10,
              "solidity": 0.2
             }
            },
            "type": "histogram"
           }
          ],
          "histogram2d": [
           {
            "colorbar": {
             "outlinewidth": 0,
             "ticks": ""
            },
            "colorscale": [
             [
              0,
              "#0d0887"
             ],
             [
              0.1111111111111111,
              "#46039f"
             ],
             [
              0.2222222222222222,
              "#7201a8"
             ],
             [
              0.3333333333333333,
              "#9c179e"
             ],
             [
              0.4444444444444444,
              "#bd3786"
             ],
             [
              0.5555555555555556,
              "#d8576b"
             ],
             [
              0.6666666666666666,
              "#ed7953"
             ],
             [
              0.7777777777777778,
              "#fb9f3a"
             ],
             [
              0.8888888888888888,
              "#fdca26"
             ],
             [
              1,
              "#f0f921"
             ]
            ],
            "type": "histogram2d"
           }
          ],
          "histogram2dcontour": [
           {
            "colorbar": {
             "outlinewidth": 0,
             "ticks": ""
            },
            "colorscale": [
             [
              0,
              "#0d0887"
             ],
             [
              0.1111111111111111,
              "#46039f"
             ],
             [
              0.2222222222222222,
              "#7201a8"
             ],
             [
              0.3333333333333333,
              "#9c179e"
             ],
             [
              0.4444444444444444,
              "#bd3786"
             ],
             [
              0.5555555555555556,
              "#d8576b"
             ],
             [
              0.6666666666666666,
              "#ed7953"
             ],
             [
              0.7777777777777778,
              "#fb9f3a"
             ],
             [
              0.8888888888888888,
              "#fdca26"
             ],
             [
              1,
              "#f0f921"
             ]
            ],
            "type": "histogram2dcontour"
           }
          ],
          "mesh3d": [
           {
            "colorbar": {
             "outlinewidth": 0,
             "ticks": ""
            },
            "type": "mesh3d"
           }
          ],
          "parcoords": [
           {
            "line": {
             "colorbar": {
              "outlinewidth": 0,
              "ticks": ""
             }
            },
            "type": "parcoords"
           }
          ],
          "pie": [
           {
            "automargin": true,
            "type": "pie"
           }
          ],
          "scatter": [
           {
            "fillpattern": {
             "fillmode": "overlay",
             "size": 10,
             "solidity": 0.2
            },
            "type": "scatter"
           }
          ],
          "scatter3d": [
           {
            "line": {
             "colorbar": {
              "outlinewidth": 0,
              "ticks": ""
             }
            },
            "marker": {
             "colorbar": {
              "outlinewidth": 0,
              "ticks": ""
             }
            },
            "type": "scatter3d"
           }
          ],
          "scattercarpet": [
           {
            "marker": {
             "colorbar": {
              "outlinewidth": 0,
              "ticks": ""
             }
            },
            "type": "scattercarpet"
           }
          ],
          "scattergeo": [
           {
            "marker": {
             "colorbar": {
              "outlinewidth": 0,
              "ticks": ""
             }
            },
            "type": "scattergeo"
           }
          ],
          "scattergl": [
           {
            "marker": {
             "colorbar": {
              "outlinewidth": 0,
              "ticks": ""
             }
            },
            "type": "scattergl"
           }
          ],
          "scattermapbox": [
           {
            "marker": {
             "colorbar": {
              "outlinewidth": 0,
              "ticks": ""
             }
            },
            "type": "scattermapbox"
           }
          ],
          "scatterpolar": [
           {
            "marker": {
             "colorbar": {
              "outlinewidth": 0,
              "ticks": ""
             }
            },
            "type": "scatterpolar"
           }
          ],
          "scatterpolargl": [
           {
            "marker": {
             "colorbar": {
              "outlinewidth": 0,
              "ticks": ""
             }
            },
            "type": "scatterpolargl"
           }
          ],
          "scatterternary": [
           {
            "marker": {
             "colorbar": {
              "outlinewidth": 0,
              "ticks": ""
             }
            },
            "type": "scatterternary"
           }
          ],
          "surface": [
           {
            "colorbar": {
             "outlinewidth": 0,
             "ticks": ""
            },
            "colorscale": [
             [
              0,
              "#0d0887"
             ],
             [
              0.1111111111111111,
              "#46039f"
             ],
             [
              0.2222222222222222,
              "#7201a8"
             ],
             [
              0.3333333333333333,
              "#9c179e"
             ],
             [
              0.4444444444444444,
              "#bd3786"
             ],
             [
              0.5555555555555556,
              "#d8576b"
             ],
             [
              0.6666666666666666,
              "#ed7953"
             ],
             [
              0.7777777777777778,
              "#fb9f3a"
             ],
             [
              0.8888888888888888,
              "#fdca26"
             ],
             [
              1,
              "#f0f921"
             ]
            ],
            "type": "surface"
           }
          ],
          "table": [
           {
            "cells": {
             "fill": {
              "color": "#EBF0F8"
             },
             "line": {
              "color": "white"
             }
            },
            "header": {
             "fill": {
              "color": "#C8D4E3"
             },
             "line": {
              "color": "white"
             }
            },
            "type": "table"
           }
          ]
         },
         "layout": {
          "annotationdefaults": {
           "arrowcolor": "#2a3f5f",
           "arrowhead": 0,
           "arrowwidth": 1
          },
          "autotypenumbers": "strict",
          "coloraxis": {
           "colorbar": {
            "outlinewidth": 0,
            "ticks": ""
           }
          },
          "colorscale": {
           "diverging": [
            [
             0,
             "#8e0152"
            ],
            [
             0.1,
             "#c51b7d"
            ],
            [
             0.2,
             "#de77ae"
            ],
            [
             0.3,
             "#f1b6da"
            ],
            [
             0.4,
             "#fde0ef"
            ],
            [
             0.5,
             "#f7f7f7"
            ],
            [
             0.6,
             "#e6f5d0"
            ],
            [
             0.7,
             "#b8e186"
            ],
            [
             0.8,
             "#7fbc41"
            ],
            [
             0.9,
             "#4d9221"
            ],
            [
             1,
             "#276419"
            ]
           ],
           "sequential": [
            [
             0,
             "#0d0887"
            ],
            [
             0.1111111111111111,
             "#46039f"
            ],
            [
             0.2222222222222222,
             "#7201a8"
            ],
            [
             0.3333333333333333,
             "#9c179e"
            ],
            [
             0.4444444444444444,
             "#bd3786"
            ],
            [
             0.5555555555555556,
             "#d8576b"
            ],
            [
             0.6666666666666666,
             "#ed7953"
            ],
            [
             0.7777777777777778,
             "#fb9f3a"
            ],
            [
             0.8888888888888888,
             "#fdca26"
            ],
            [
             1,
             "#f0f921"
            ]
           ],
           "sequentialminus": [
            [
             0,
             "#0d0887"
            ],
            [
             0.1111111111111111,
             "#46039f"
            ],
            [
             0.2222222222222222,
             "#7201a8"
            ],
            [
             0.3333333333333333,
             "#9c179e"
            ],
            [
             0.4444444444444444,
             "#bd3786"
            ],
            [
             0.5555555555555556,
             "#d8576b"
            ],
            [
             0.6666666666666666,
             "#ed7953"
            ],
            [
             0.7777777777777778,
             "#fb9f3a"
            ],
            [
             0.8888888888888888,
             "#fdca26"
            ],
            [
             1,
             "#f0f921"
            ]
           ]
          },
          "colorway": [
           "#636efa",
           "#EF553B",
           "#00cc96",
           "#ab63fa",
           "#FFA15A",
           "#19d3f3",
           "#FF6692",
           "#B6E880",
           "#FF97FF",
           "#FECB52"
          ],
          "font": {
           "color": "#2a3f5f"
          },
          "geo": {
           "bgcolor": "white",
           "lakecolor": "white",
           "landcolor": "#E5ECF6",
           "showlakes": true,
           "showland": true,
           "subunitcolor": "white"
          },
          "hoverlabel": {
           "align": "left"
          },
          "hovermode": "closest",
          "mapbox": {
           "style": "light"
          },
          "paper_bgcolor": "white",
          "plot_bgcolor": "#E5ECF6",
          "polar": {
           "angularaxis": {
            "gridcolor": "white",
            "linecolor": "white",
            "ticks": ""
           },
           "bgcolor": "#E5ECF6",
           "radialaxis": {
            "gridcolor": "white",
            "linecolor": "white",
            "ticks": ""
           }
          },
          "scene": {
           "xaxis": {
            "backgroundcolor": "#E5ECF6",
            "gridcolor": "white",
            "gridwidth": 2,
            "linecolor": "white",
            "showbackground": true,
            "ticks": "",
            "zerolinecolor": "white"
           },
           "yaxis": {
            "backgroundcolor": "#E5ECF6",
            "gridcolor": "white",
            "gridwidth": 2,
            "linecolor": "white",
            "showbackground": true,
            "ticks": "",
            "zerolinecolor": "white"
           },
           "zaxis": {
            "backgroundcolor": "#E5ECF6",
            "gridcolor": "white",
            "gridwidth": 2,
            "linecolor": "white",
            "showbackground": true,
            "ticks": "",
            "zerolinecolor": "white"
           }
          },
          "shapedefaults": {
           "line": {
            "color": "#2a3f5f"
           }
          },
          "ternary": {
           "aaxis": {
            "gridcolor": "white",
            "linecolor": "white",
            "ticks": ""
           },
           "baxis": {
            "gridcolor": "white",
            "linecolor": "white",
            "ticks": ""
           },
           "bgcolor": "#E5ECF6",
           "caxis": {
            "gridcolor": "white",
            "linecolor": "white",
            "ticks": ""
           }
          },
          "title": {
           "x": 0.05
          },
          "xaxis": {
           "automargin": true,
           "gridcolor": "white",
           "linecolor": "white",
           "ticks": "",
           "title": {
            "standoff": 15
           },
           "zerolinecolor": "white",
           "zerolinewidth": 2
          },
          "yaxis": {
           "automargin": true,
           "gridcolor": "white",
           "linecolor": "white",
           "ticks": "",
           "title": {
            "standoff": 15
           },
           "zerolinecolor": "white",
           "zerolinewidth": 2
          }
         }
        },
        "title": {
         "text": "Chart: box plot of AverageMortgageAmount by Geoography."
        },
        "xaxis": {
         "anchor": "y",
         "categoryarray": [
          "Newfoundland",
          "Prince Edward Island",
          "Nova Scotia",
          "New Brunswick",
          "Québec",
          "Ontario",
          "Manitoba",
          "Saskatchewan",
          "Alberta",
          "British Columbia"
         ],
         "categoryorder": "array",
         "domain": [
          0,
          1
         ],
         "title": {
          "text": "Geography"
         }
        },
        "yaxis": {
         "anchor": "x",
         "domain": [
          0,
          1
         ],
         "title": {
          "text": "AverageMortgageAmount"
         }
        }
       }
      }
     },
     "metadata": {},
     "output_type": "display_data"
    }
   ],
   "source": [
    "# AverageMortgageAmount DelinquencyRate PopulationSize\n",
    "variable = \"AverageMortgageAmount\"\n",
    "px.box(data_pop_del_mort_df, \n",
    "       x = 'Geography', \n",
    "       y = variable,\n",
    "      color = 'Geography',\n",
    "      title  = f'Chart: box plot of {variable} by Geoography.')"
   ]
  },
  {
   "cell_type": "markdown",
   "metadata": {
    "slideshow": {
     "slide_type": "slide"
    }
   },
   "source": [
    "Let's work on a scatter plot to see if there is a relationship between average mortgage amount and delinquency."
   ]
  },
  {
   "cell_type": "code",
   "execution_count": 12,
   "metadata": {
    "slideshow": {
     "slide_type": "subslide"
    }
   },
   "outputs": [
    {
     "data": {
      "application/vnd.plotly.v1+json": {
       "config": {
        "plotlyServerURL": "https://plot.ly"
       },
       "data": [
        {
         "hovertemplate": "DelinquencyRate=%{x}<br>AverageMortgageAmount=%{y}<extra></extra>",
         "legendgroup": "",
         "marker": {
          "color": "#636efa",
          "symbol": "circle"
         },
         "mode": "markers",
         "name": "",
         "orientation": "v",
         "showlegend": false,
         "type": "scatter",
         "x": [
          0.24,
          0.57,
          0.53,
          0.63,
          0.33,
          0.31,
          0.25,
          0.37,
          0.6,
          0.42,
          0.22,
          0.5,
          0.53,
          0.63,
          0.33,
          0.31,
          0.27,
          0.37,
          0.55,
          0.42,
          0.25,
          0.55,
          0.55,
          0.65,
          0.35,
          0.31,
          0.28,
          0.36,
          0.52,
          0.43,
          0.19,
          0.47,
          0.56,
          0.6,
          0.34,
          0.29,
          0.26,
          0.34,
          0.47,
          0.43,
          0.2,
          0.56,
          0.58,
          0.61,
          0.33,
          0.28,
          0.28,
          0.3,
          0.45,
          0.42,
          0.22,
          0.58,
          0.62,
          0.68,
          0.35,
          0.28,
          0.28,
          0.32,
          0.43,
          0.43,
          0.23,
          0.6,
          0.65,
          0.72,
          0.37,
          0.29,
          0.28,
          0.35,
          0.42,
          0.43,
          0.25,
          0.6,
          0.65,
          0.67,
          0.36,
          0.27,
          0.25,
          0.31,
          0.37,
          0.4,
          0.26,
          0.56,
          0.67,
          0.72,
          0.37,
          0.27,
          0.24,
          0.32,
          0.34,
          0.4,
          0.28,
          0.57,
          0.68,
          0.72,
          0.39,
          0.26,
          0.27,
          0.36,
          0.32,
          0.4,
          0.37,
          0.68,
          0.7,
          0.79,
          0.42,
          0.27,
          0.31,
          0.41,
          0.32,
          0.4,
          0.37,
          0.62,
          0.67,
          0.8,
          0.41,
          0.25,
          0.3,
          0.43,
          0.33,
          0.38,
          0.37,
          0.63,
          0.66,
          0.81,
          0.41,
          0.24,
          0.29,
          0.45,
          0.35,
          0.34,
          0.41,
          0.67,
          0.68,
          0.79,
          0.42,
          0.23,
          0.33,
          0.49,
          0.36,
          0.32,
          0.45,
          0.7,
          0.7,
          0.82,
          0.44,
          0.24,
          0.34,
          0.54,
          0.41,
          0.32,
          0.46,
          0.7,
          0.72,
          0.78,
          0.43,
          0.22,
          0.35,
          0.57,
          0.45,
          0.29,
          0.49,
          0.67,
          0.76,
          0.84,
          0.42,
          0.2,
          0.34,
          0.61,
          0.53,
          0.26,
          0.46,
          0.6,
          0.75,
          0.79,
          0.4,
          0.19,
          0.35,
          0.62,
          0.53,
          0.25,
          0.47,
          0.66,
          0.7,
          0.78,
          0.41,
          0.18,
          0.36,
          0.62,
          0.54,
          0.23,
          0.47,
          0.55,
          0.64,
          0.73,
          0.4,
          0.16,
          0.35,
          0.66,
          0.52,
          0.2,
          0.46,
          0.54,
          0.6,
          0.71,
          0.37,
          0.16,
          0.33,
          0.65,
          0.51,
          0.18,
          0.52,
          0.44,
          0.58,
          0.66,
          0.34,
          0.15,
          0.3,
          0.66,
          0.5,
          0.18,
          0.56,
          0.5,
          0.59,
          0.65,
          0.34,
          0.15,
          0.3,
          0.66,
          0.5,
          0.17,
          0.6,
          0.45,
          0.54,
          0.59,
          0.35,
          0.14,
          0.31,
          0.67,
          0.46,
          0.17,
          0.6,
          0.43,
          0.52,
          0.58,
          0.35,
          0.13,
          0.32,
          0.7,
          0.47,
          0.16,
          0.62,
          0.39,
          0.56,
          0.62,
          0.38,
          0.14,
          0.35,
          0.72,
          0.5,
          0.17,
          0.64,
          0.39,
          0.54,
          0.63,
          0.38,
          0.14,
          0.35,
          0.74,
          0.51,
          0.17,
          0.65,
          0.38,
          0.52,
          0.6,
          0.37,
          0.14,
          0.35,
          0.75,
          0.53,
          0.17,
          0.65,
          0.34,
          0.5,
          0.57,
          0.37,
          0.14,
          0.34,
          0.73,
          0.51,
          0.16,
          0.65,
          0.32,
          0.5,
          0.57,
          0.36,
          0.14,
          0.36,
          0.73,
          0.5,
          0.16,
          0.67,
          0.25,
          0.46,
          0.57,
          0.36,
          0.14,
          0.37,
          0.75,
          0.52,
          0.17,
          0.68,
          0.26,
          0.47,
          0.54,
          0.34,
          0.14,
          0.38,
          0.76,
          0.52,
          0.19,
          0.64,
          0.27,
          0.45,
          0.52,
          0.36,
          0.14,
          0.35,
          0.72,
          0.5,
          0.19
         ],
         "xaxis": "x",
         "y": [
          188732,
          140279,
          174688,
          133390,
          159661,
          247455,
          188298,
          217945,
          282371,
          305427,
          185794,
          138415,
          160046,
          126138,
          153413,
          235667,
          181097,
          213126,
          277555,
          289864,
          189098,
          137162,
          158806,
          124645,
          153909,
          233122,
          177560,
          206354,
          277158,
          286652,
          181331,
          126763,
          159945,
          122572,
          155016,
          230770,
          177517,
          211979,
          278516,
          290928,
          191818,
          139506,
          166426,
          131542,
          160147,
          249054,
          192732,
          224868,
          289263,
          303663,
          193100,
          141453,
          160189,
          128155,
          155512,
          244060,
          189570,
          225414,
          284928,
          305256,
          195479,
          141141,
          161383,
          127766,
          156424,
          244077,
          188107,
          226559,
          291926,
          309374,
          192856,
          137427,
          157664,
          124221,
          160165,
          240828,
          184554,
          218781,
          290722,
          305138,
          199560,
          143320,
          172827,
          135592,
          166426,
          262838,
          200051,
          231768,
          304374,
          321625,
          200310,
          141232,
          163584,
          132766,
          160073,
          257244,
          197527,
          233854,
          305558,
          323373,
          197406,
          146885,
          163607,
          132025,
          161563,
          254854,
          191444,
          228569,
          303976,
          325035,
          193956,
          146818,
          165288,
          128378,
          164764,
          259093,
          190383,
          226957,
          299837,
          328540,
          199758,
          150403,
          178091,
          137565,
          170403,
          281259,
          206275,
          234840,
          309953,
          350672,
          202487,
          155926,
          172863,
          137039,
          164235,
          277802,
          201640,
          231611,
          303244,
          357016,
          196798,
          157322,
          167596,
          132325,
          167154,
          278626,
          193970,
          225641,
          296111,
          368782,
          196806,
          150732,
          168948,
          133027,
          169326,
          285024,
          196385,
          230729,
          298884,
          385910,
          198265,
          169651,
          178784,
          143533,
          176522,
          307369,
          209051,
          236380,
          304683,
          395297,
          197794,
          155799,
          173305,
          140124,
          170309,
          310236,
          206958,
          232174,
          302095,
          366703,
          192057,
          175124,
          186024,
          141196,
          171992,
          319009,
          203999,
          234786,
          301254,
          358655,
          191412,
          174901,
          182526,
          135748,
          171716,
          326645,
          205085,
          233545,
          300115,
          369174,
          200378,
          176919,
          194802,
          147934,
          177306,
          338561,
          216750,
          238533,
          307837,
          389430,
          193619,
          175523,
          188559,
          142799,
          173182,
          323821,
          217136,
          234340,
          307662,
          381223,
          196431,
          179179,
          185858,
          139711,
          175297,
          322179,
          207988,
          230702,
          302814,
          384794,
          192252,
          182114,
          179407,
          139750,
          183507,
          315576,
          207436,
          229851,
          302116,
          371860,
          192106,
          181967,
          190443,
          150353,
          187727,
          327367,
          220454,
          233255,
          305101,
          378187,
          188614,
          178140,
          179921,
          143324,
          173911,
          321579,
          214060,
          223628,
          295839,
          364330,
          185276,
          181172,
          177863,
          140850,
          175658,
          321074,
          206692,
          217157,
          291721,
          363239,
          190582,
          181358,
          180958,
          137809,
          179523,
          324080,
          214873,
          216369,
          293612,
          363924,
          194536,
          190715,
          193586,
          152606,
          187136,
          343117,
          222637,
          228721,
          297609,
          376343,
          193870,
          185934,
          190168,
          147047,
          183501,
          343768,
          218918,
          224315,
          297552,
          386494,
          186268,
          193439,
          188267,
          146701,
          189390,
          348272,
          212508,
          216188,
          291747,
          393711,
          187431,
          189309,
          192060,
          149590,
          195538,
          363432,
          217416,
          225641,
          296269,
          397853,
          196100,
          204415,
          207877,
          160349,
          203861,
          373371,
          232725,
          237386,
          305600,
          417004
         ],
         "yaxis": "y"
        }
       ],
       "layout": {
        "legend": {
         "tracegroupgap": 0
        },
        "template": {
         "data": {
          "bar": [
           {
            "error_x": {
             "color": "#2a3f5f"
            },
            "error_y": {
             "color": "#2a3f5f"
            },
            "marker": {
             "line": {
              "color": "#E5ECF6",
              "width": 0.5
             },
             "pattern": {
              "fillmode": "overlay",
              "size": 10,
              "solidity": 0.2
             }
            },
            "type": "bar"
           }
          ],
          "barpolar": [
           {
            "marker": {
             "line": {
              "color": "#E5ECF6",
              "width": 0.5
             },
             "pattern": {
              "fillmode": "overlay",
              "size": 10,
              "solidity": 0.2
             }
            },
            "type": "barpolar"
           }
          ],
          "carpet": [
           {
            "aaxis": {
             "endlinecolor": "#2a3f5f",
             "gridcolor": "white",
             "linecolor": "white",
             "minorgridcolor": "white",
             "startlinecolor": "#2a3f5f"
            },
            "baxis": {
             "endlinecolor": "#2a3f5f",
             "gridcolor": "white",
             "linecolor": "white",
             "minorgridcolor": "white",
             "startlinecolor": "#2a3f5f"
            },
            "type": "carpet"
           }
          ],
          "choropleth": [
           {
            "colorbar": {
             "outlinewidth": 0,
             "ticks": ""
            },
            "type": "choropleth"
           }
          ],
          "contour": [
           {
            "colorbar": {
             "outlinewidth": 0,
             "ticks": ""
            },
            "colorscale": [
             [
              0,
              "#0d0887"
             ],
             [
              0.1111111111111111,
              "#46039f"
             ],
             [
              0.2222222222222222,
              "#7201a8"
             ],
             [
              0.3333333333333333,
              "#9c179e"
             ],
             [
              0.4444444444444444,
              "#bd3786"
             ],
             [
              0.5555555555555556,
              "#d8576b"
             ],
             [
              0.6666666666666666,
              "#ed7953"
             ],
             [
              0.7777777777777778,
              "#fb9f3a"
             ],
             [
              0.8888888888888888,
              "#fdca26"
             ],
             [
              1,
              "#f0f921"
             ]
            ],
            "type": "contour"
           }
          ],
          "contourcarpet": [
           {
            "colorbar": {
             "outlinewidth": 0,
             "ticks": ""
            },
            "type": "contourcarpet"
           }
          ],
          "heatmap": [
           {
            "colorbar": {
             "outlinewidth": 0,
             "ticks": ""
            },
            "colorscale": [
             [
              0,
              "#0d0887"
             ],
             [
              0.1111111111111111,
              "#46039f"
             ],
             [
              0.2222222222222222,
              "#7201a8"
             ],
             [
              0.3333333333333333,
              "#9c179e"
             ],
             [
              0.4444444444444444,
              "#bd3786"
             ],
             [
              0.5555555555555556,
              "#d8576b"
             ],
             [
              0.6666666666666666,
              "#ed7953"
             ],
             [
              0.7777777777777778,
              "#fb9f3a"
             ],
             [
              0.8888888888888888,
              "#fdca26"
             ],
             [
              1,
              "#f0f921"
             ]
            ],
            "type": "heatmap"
           }
          ],
          "heatmapgl": [
           {
            "colorbar": {
             "outlinewidth": 0,
             "ticks": ""
            },
            "colorscale": [
             [
              0,
              "#0d0887"
             ],
             [
              0.1111111111111111,
              "#46039f"
             ],
             [
              0.2222222222222222,
              "#7201a8"
             ],
             [
              0.3333333333333333,
              "#9c179e"
             ],
             [
              0.4444444444444444,
              "#bd3786"
             ],
             [
              0.5555555555555556,
              "#d8576b"
             ],
             [
              0.6666666666666666,
              "#ed7953"
             ],
             [
              0.7777777777777778,
              "#fb9f3a"
             ],
             [
              0.8888888888888888,
              "#fdca26"
             ],
             [
              1,
              "#f0f921"
             ]
            ],
            "type": "heatmapgl"
           }
          ],
          "histogram": [
           {
            "marker": {
             "pattern": {
              "fillmode": "overlay",
              "size": 10,
              "solidity": 0.2
             }
            },
            "type": "histogram"
           }
          ],
          "histogram2d": [
           {
            "colorbar": {
             "outlinewidth": 0,
             "ticks": ""
            },
            "colorscale": [
             [
              0,
              "#0d0887"
             ],
             [
              0.1111111111111111,
              "#46039f"
             ],
             [
              0.2222222222222222,
              "#7201a8"
             ],
             [
              0.3333333333333333,
              "#9c179e"
             ],
             [
              0.4444444444444444,
              "#bd3786"
             ],
             [
              0.5555555555555556,
              "#d8576b"
             ],
             [
              0.6666666666666666,
              "#ed7953"
             ],
             [
              0.7777777777777778,
              "#fb9f3a"
             ],
             [
              0.8888888888888888,
              "#fdca26"
             ],
             [
              1,
              "#f0f921"
             ]
            ],
            "type": "histogram2d"
           }
          ],
          "histogram2dcontour": [
           {
            "colorbar": {
             "outlinewidth": 0,
             "ticks": ""
            },
            "colorscale": [
             [
              0,
              "#0d0887"
             ],
             [
              0.1111111111111111,
              "#46039f"
             ],
             [
              0.2222222222222222,
              "#7201a8"
             ],
             [
              0.3333333333333333,
              "#9c179e"
             ],
             [
              0.4444444444444444,
              "#bd3786"
             ],
             [
              0.5555555555555556,
              "#d8576b"
             ],
             [
              0.6666666666666666,
              "#ed7953"
             ],
             [
              0.7777777777777778,
              "#fb9f3a"
             ],
             [
              0.8888888888888888,
              "#fdca26"
             ],
             [
              1,
              "#f0f921"
             ]
            ],
            "type": "histogram2dcontour"
           }
          ],
          "mesh3d": [
           {
            "colorbar": {
             "outlinewidth": 0,
             "ticks": ""
            },
            "type": "mesh3d"
           }
          ],
          "parcoords": [
           {
            "line": {
             "colorbar": {
              "outlinewidth": 0,
              "ticks": ""
             }
            },
            "type": "parcoords"
           }
          ],
          "pie": [
           {
            "automargin": true,
            "type": "pie"
           }
          ],
          "scatter": [
           {
            "fillpattern": {
             "fillmode": "overlay",
             "size": 10,
             "solidity": 0.2
            },
            "type": "scatter"
           }
          ],
          "scatter3d": [
           {
            "line": {
             "colorbar": {
              "outlinewidth": 0,
              "ticks": ""
             }
            },
            "marker": {
             "colorbar": {
              "outlinewidth": 0,
              "ticks": ""
             }
            },
            "type": "scatter3d"
           }
          ],
          "scattercarpet": [
           {
            "marker": {
             "colorbar": {
              "outlinewidth": 0,
              "ticks": ""
             }
            },
            "type": "scattercarpet"
           }
          ],
          "scattergeo": [
           {
            "marker": {
             "colorbar": {
              "outlinewidth": 0,
              "ticks": ""
             }
            },
            "type": "scattergeo"
           }
          ],
          "scattergl": [
           {
            "marker": {
             "colorbar": {
              "outlinewidth": 0,
              "ticks": ""
             }
            },
            "type": "scattergl"
           }
          ],
          "scattermapbox": [
           {
            "marker": {
             "colorbar": {
              "outlinewidth": 0,
              "ticks": ""
             }
            },
            "type": "scattermapbox"
           }
          ],
          "scatterpolar": [
           {
            "marker": {
             "colorbar": {
              "outlinewidth": 0,
              "ticks": ""
             }
            },
            "type": "scatterpolar"
           }
          ],
          "scatterpolargl": [
           {
            "marker": {
             "colorbar": {
              "outlinewidth": 0,
              "ticks": ""
             }
            },
            "type": "scatterpolargl"
           }
          ],
          "scatterternary": [
           {
            "marker": {
             "colorbar": {
              "outlinewidth": 0,
              "ticks": ""
             }
            },
            "type": "scatterternary"
           }
          ],
          "surface": [
           {
            "colorbar": {
             "outlinewidth": 0,
             "ticks": ""
            },
            "colorscale": [
             [
              0,
              "#0d0887"
             ],
             [
              0.1111111111111111,
              "#46039f"
             ],
             [
              0.2222222222222222,
              "#7201a8"
             ],
             [
              0.3333333333333333,
              "#9c179e"
             ],
             [
              0.4444444444444444,
              "#bd3786"
             ],
             [
              0.5555555555555556,
              "#d8576b"
             ],
             [
              0.6666666666666666,
              "#ed7953"
             ],
             [
              0.7777777777777778,
              "#fb9f3a"
             ],
             [
              0.8888888888888888,
              "#fdca26"
             ],
             [
              1,
              "#f0f921"
             ]
            ],
            "type": "surface"
           }
          ],
          "table": [
           {
            "cells": {
             "fill": {
              "color": "#EBF0F8"
             },
             "line": {
              "color": "white"
             }
            },
            "header": {
             "fill": {
              "color": "#C8D4E3"
             },
             "line": {
              "color": "white"
             }
            },
            "type": "table"
           }
          ]
         },
         "layout": {
          "annotationdefaults": {
           "arrowcolor": "#2a3f5f",
           "arrowhead": 0,
           "arrowwidth": 1
          },
          "autotypenumbers": "strict",
          "coloraxis": {
           "colorbar": {
            "outlinewidth": 0,
            "ticks": ""
           }
          },
          "colorscale": {
           "diverging": [
            [
             0,
             "#8e0152"
            ],
            [
             0.1,
             "#c51b7d"
            ],
            [
             0.2,
             "#de77ae"
            ],
            [
             0.3,
             "#f1b6da"
            ],
            [
             0.4,
             "#fde0ef"
            ],
            [
             0.5,
             "#f7f7f7"
            ],
            [
             0.6,
             "#e6f5d0"
            ],
            [
             0.7,
             "#b8e186"
            ],
            [
             0.8,
             "#7fbc41"
            ],
            [
             0.9,
             "#4d9221"
            ],
            [
             1,
             "#276419"
            ]
           ],
           "sequential": [
            [
             0,
             "#0d0887"
            ],
            [
             0.1111111111111111,
             "#46039f"
            ],
            [
             0.2222222222222222,
             "#7201a8"
            ],
            [
             0.3333333333333333,
             "#9c179e"
            ],
            [
             0.4444444444444444,
             "#bd3786"
            ],
            [
             0.5555555555555556,
             "#d8576b"
            ],
            [
             0.6666666666666666,
             "#ed7953"
            ],
            [
             0.7777777777777778,
             "#fb9f3a"
            ],
            [
             0.8888888888888888,
             "#fdca26"
            ],
            [
             1,
             "#f0f921"
            ]
           ],
           "sequentialminus": [
            [
             0,
             "#0d0887"
            ],
            [
             0.1111111111111111,
             "#46039f"
            ],
            [
             0.2222222222222222,
             "#7201a8"
            ],
            [
             0.3333333333333333,
             "#9c179e"
            ],
            [
             0.4444444444444444,
             "#bd3786"
            ],
            [
             0.5555555555555556,
             "#d8576b"
            ],
            [
             0.6666666666666666,
             "#ed7953"
            ],
            [
             0.7777777777777778,
             "#fb9f3a"
            ],
            [
             0.8888888888888888,
             "#fdca26"
            ],
            [
             1,
             "#f0f921"
            ]
           ]
          },
          "colorway": [
           "#636efa",
           "#EF553B",
           "#00cc96",
           "#ab63fa",
           "#FFA15A",
           "#19d3f3",
           "#FF6692",
           "#B6E880",
           "#FF97FF",
           "#FECB52"
          ],
          "font": {
           "color": "#2a3f5f"
          },
          "geo": {
           "bgcolor": "white",
           "lakecolor": "white",
           "landcolor": "#E5ECF6",
           "showlakes": true,
           "showland": true,
           "subunitcolor": "white"
          },
          "hoverlabel": {
           "align": "left"
          },
          "hovermode": "closest",
          "mapbox": {
           "style": "light"
          },
          "paper_bgcolor": "white",
          "plot_bgcolor": "#E5ECF6",
          "polar": {
           "angularaxis": {
            "gridcolor": "white",
            "linecolor": "white",
            "ticks": ""
           },
           "bgcolor": "#E5ECF6",
           "radialaxis": {
            "gridcolor": "white",
            "linecolor": "white",
            "ticks": ""
           }
          },
          "scene": {
           "xaxis": {
            "backgroundcolor": "#E5ECF6",
            "gridcolor": "white",
            "gridwidth": 2,
            "linecolor": "white",
            "showbackground": true,
            "ticks": "",
            "zerolinecolor": "white"
           },
           "yaxis": {
            "backgroundcolor": "#E5ECF6",
            "gridcolor": "white",
            "gridwidth": 2,
            "linecolor": "white",
            "showbackground": true,
            "ticks": "",
            "zerolinecolor": "white"
           },
           "zaxis": {
            "backgroundcolor": "#E5ECF6",
            "gridcolor": "white",
            "gridwidth": 2,
            "linecolor": "white",
            "showbackground": true,
            "ticks": "",
            "zerolinecolor": "white"
           }
          },
          "shapedefaults": {
           "line": {
            "color": "#2a3f5f"
           }
          },
          "ternary": {
           "aaxis": {
            "gridcolor": "white",
            "linecolor": "white",
            "ticks": ""
           },
           "baxis": {
            "gridcolor": "white",
            "linecolor": "white",
            "ticks": ""
           },
           "bgcolor": "#E5ECF6",
           "caxis": {
            "gridcolor": "white",
            "linecolor": "white",
            "ticks": ""
           }
          },
          "title": {
           "x": 0.05
          },
          "xaxis": {
           "automargin": true,
           "gridcolor": "white",
           "linecolor": "white",
           "ticks": "",
           "title": {
            "standoff": 15
           },
           "zerolinecolor": "white",
           "zerolinewidth": 2
          },
          "yaxis": {
           "automargin": true,
           "gridcolor": "white",
           "linecolor": "white",
           "ticks": "",
           "title": {
            "standoff": 15
           },
           "zerolinecolor": "white",
           "zerolinewidth": 2
          }
         }
        },
        "title": {
         "text": "Average mortgage rate to delinquency rate"
        },
        "xaxis": {
         "anchor": "y",
         "domain": [
          0,
          1
         ],
         "title": {
          "text": "DelinquencyRate"
         }
        },
        "yaxis": {
         "anchor": "x",
         "domain": [
          0,
          1
         ],
         "title": {
          "text": "AverageMortgageAmount"
         }
        }
       }
      }
     },
     "metadata": {},
     "output_type": "display_data"
    }
   ],
   "source": [
    "px.scatter(data_frame=data_pop_del_mort_df,\n",
    "          y = \"AverageMortgageAmount\",\n",
    "          x = \"DelinquencyRate\",\n",
    "          title=\"Average mortgage rate to delinquency rate\")"
   ]
  },
  {
   "cell_type": "markdown",
   "metadata": {
    "slideshow": {
     "slide_type": "slide"
    }
   },
   "source": [
    "#### Exercise: modify the code above to colour the dots by Geography, add hover name with Time"
   ]
  },
  {
   "cell_type": "code",
   "execution_count": 13,
   "metadata": {
    "slideshow": {
     "slide_type": "subslide"
    }
   },
   "outputs": [
    {
     "data": {
      "application/vnd.plotly.v1+json": {
       "config": {
        "plotlyServerURL": "https://plot.ly"
       },
       "data": [
        {
         "hovertemplate": "<b>%{hovertext}</b><br><br>Geography=Newfoundland<br>DelinquencyRate=%{x}<br>AverageMortgageAmount=%{y}<extra></extra>",
         "hovertext": [
          "2012Q3",
          "2012Q4",
          "2013Q1",
          "2013Q2",
          "2013Q3",
          "2013Q4",
          "2014Q1",
          "2014Q2",
          "2014Q3",
          "2014Q4",
          "2015Q1",
          "2015Q2",
          "2015Q3",
          "2015Q4",
          "2016Q1",
          "2016Q2",
          "2016Q3",
          "2016Q4",
          "2017Q1",
          "2017Q2",
          "2017Q3",
          "2017Q4",
          "2018Q1",
          "2018Q2",
          "2018Q3",
          "2018Q4",
          "2019Q1",
          "2019Q2",
          "2019Q3",
          "2019Q4",
          "2020Q1",
          "2020Q2",
          "2020Q3"
         ],
         "legendgroup": "Newfoundland",
         "marker": {
          "color": "#636efa",
          "symbol": "circle"
         },
         "mode": "markers",
         "name": "Newfoundland",
         "orientation": "v",
         "showlegend": true,
         "type": "scatter",
         "x": [
          0.24,
          0.22,
          0.25,
          0.19,
          0.2,
          0.22,
          0.23,
          0.25,
          0.26,
          0.28,
          0.37,
          0.37,
          0.37,
          0.41,
          0.45,
          0.46,
          0.49,
          0.46,
          0.47,
          0.47,
          0.46,
          0.52,
          0.56,
          0.6,
          0.6,
          0.62,
          0.64,
          0.65,
          0.65,
          0.65,
          0.67,
          0.68,
          0.64
         ],
         "xaxis": "x",
         "y": [
          188732,
          185794,
          189098,
          181331,
          191818,
          193100,
          195479,
          192856,
          199560,
          200310,
          197406,
          193956,
          199758,
          202487,
          196798,
          196806,
          198265,
          197794,
          192057,
          191412,
          200378,
          193619,
          196431,
          192252,
          192106,
          188614,
          185276,
          190582,
          194536,
          193870,
          186268,
          187431,
          196100
         ],
         "yaxis": "y"
        },
        {
         "hovertemplate": "<b>%{hovertext}</b><br><br>Geography=Prince Edward Island<br>DelinquencyRate=%{x}<br>AverageMortgageAmount=%{y}<extra></extra>",
         "hovertext": [
          "2012Q3",
          "2012Q4",
          "2013Q1",
          "2013Q2",
          "2013Q3",
          "2013Q4",
          "2014Q1",
          "2014Q2",
          "2014Q3",
          "2014Q4",
          "2015Q1",
          "2015Q2",
          "2015Q3",
          "2015Q4",
          "2016Q1",
          "2016Q2",
          "2016Q3",
          "2016Q4",
          "2017Q1",
          "2017Q2",
          "2017Q3",
          "2017Q4",
          "2018Q1",
          "2018Q2",
          "2018Q3",
          "2018Q4",
          "2019Q1",
          "2019Q2",
          "2019Q3",
          "2019Q4",
          "2020Q1",
          "2020Q2",
          "2020Q3"
         ],
         "legendgroup": "Prince Edward Island",
         "marker": {
          "color": "#EF553B",
          "symbol": "circle"
         },
         "mode": "markers",
         "name": "Prince Edward Island",
         "orientation": "v",
         "showlegend": true,
         "type": "scatter",
         "x": [
          0.57,
          0.5,
          0.55,
          0.47,
          0.56,
          0.58,
          0.6,
          0.6,
          0.56,
          0.57,
          0.68,
          0.62,
          0.63,
          0.67,
          0.7,
          0.7,
          0.67,
          0.6,
          0.66,
          0.55,
          0.54,
          0.44,
          0.5,
          0.45,
          0.43,
          0.39,
          0.39,
          0.38,
          0.34,
          0.32,
          0.25,
          0.26,
          0.27
         ],
         "xaxis": "x",
         "y": [
          140279,
          138415,
          137162,
          126763,
          139506,
          141453,
          141141,
          137427,
          143320,
          141232,
          146885,
          146818,
          150403,
          155926,
          157322,
          150732,
          169651,
          155799,
          175124,
          174901,
          176919,
          175523,
          179179,
          182114,
          181967,
          178140,
          181172,
          181358,
          190715,
          185934,
          193439,
          189309,
          204415
         ],
         "yaxis": "y"
        },
        {
         "hovertemplate": "<b>%{hovertext}</b><br><br>Geography=Nova Scotia<br>DelinquencyRate=%{x}<br>AverageMortgageAmount=%{y}<extra></extra>",
         "hovertext": [
          "2012Q3",
          "2012Q4",
          "2013Q1",
          "2013Q2",
          "2013Q3",
          "2013Q4",
          "2014Q1",
          "2014Q2",
          "2014Q3",
          "2014Q4",
          "2015Q1",
          "2015Q2",
          "2015Q3",
          "2015Q4",
          "2016Q1",
          "2016Q2",
          "2016Q3",
          "2016Q4",
          "2017Q1",
          "2017Q2",
          "2017Q3",
          "2017Q4",
          "2018Q1",
          "2018Q2",
          "2018Q3",
          "2018Q4",
          "2019Q1",
          "2019Q2",
          "2019Q3",
          "2019Q4",
          "2020Q1",
          "2020Q2",
          "2020Q3"
         ],
         "legendgroup": "Nova Scotia",
         "marker": {
          "color": "#00cc96",
          "symbol": "circle"
         },
         "mode": "markers",
         "name": "Nova Scotia",
         "orientation": "v",
         "showlegend": true,
         "type": "scatter",
         "x": [
          0.53,
          0.53,
          0.55,
          0.56,
          0.58,
          0.62,
          0.65,
          0.65,
          0.67,
          0.68,
          0.7,
          0.67,
          0.66,
          0.68,
          0.7,
          0.72,
          0.76,
          0.75,
          0.7,
          0.64,
          0.6,
          0.58,
          0.59,
          0.54,
          0.52,
          0.56,
          0.54,
          0.52,
          0.5,
          0.5,
          0.46,
          0.47,
          0.45
         ],
         "xaxis": "x",
         "y": [
          174688,
          160046,
          158806,
          159945,
          166426,
          160189,
          161383,
          157664,
          172827,
          163584,
          163607,
          165288,
          178091,
          172863,
          167596,
          168948,
          178784,
          173305,
          186024,
          182526,
          194802,
          188559,
          185858,
          179407,
          190443,
          179921,
          177863,
          180958,
          193586,
          190168,
          188267,
          192060,
          207877
         ],
         "yaxis": "y"
        },
        {
         "hovertemplate": "<b>%{hovertext}</b><br><br>Geography=New Brunswick<br>DelinquencyRate=%{x}<br>AverageMortgageAmount=%{y}<extra></extra>",
         "hovertext": [
          "2012Q3",
          "2012Q4",
          "2013Q1",
          "2013Q2",
          "2013Q3",
          "2013Q4",
          "2014Q1",
          "2014Q2",
          "2014Q3",
          "2014Q4",
          "2015Q1",
          "2015Q2",
          "2015Q3",
          "2015Q4",
          "2016Q1",
          "2016Q2",
          "2016Q3",
          "2016Q4",
          "2017Q1",
          "2017Q2",
          "2017Q3",
          "2017Q4",
          "2018Q1",
          "2018Q2",
          "2018Q3",
          "2018Q4",
          "2019Q1",
          "2019Q2",
          "2019Q3",
          "2019Q4",
          "2020Q1",
          "2020Q2",
          "2020Q3"
         ],
         "legendgroup": "New Brunswick",
         "marker": {
          "color": "#ab63fa",
          "symbol": "circle"
         },
         "mode": "markers",
         "name": "New Brunswick",
         "orientation": "v",
         "showlegend": true,
         "type": "scatter",
         "x": [
          0.63,
          0.63,
          0.65,
          0.6,
          0.61,
          0.68,
          0.72,
          0.67,
          0.72,
          0.72,
          0.79,
          0.8,
          0.81,
          0.79,
          0.82,
          0.78,
          0.84,
          0.79,
          0.78,
          0.73,
          0.71,
          0.66,
          0.65,
          0.59,
          0.58,
          0.62,
          0.63,
          0.6,
          0.57,
          0.57,
          0.57,
          0.54,
          0.52
         ],
         "xaxis": "x",
         "y": [
          133390,
          126138,
          124645,
          122572,
          131542,
          128155,
          127766,
          124221,
          135592,
          132766,
          132025,
          128378,
          137565,
          137039,
          132325,
          133027,
          143533,
          140124,
          141196,
          135748,
          147934,
          142799,
          139711,
          139750,
          150353,
          143324,
          140850,
          137809,
          152606,
          147047,
          146701,
          149590,
          160349
         ],
         "yaxis": "y"
        },
        {
         "hovertemplate": "<b>%{hovertext}</b><br><br>Geography=Québec<br>DelinquencyRate=%{x}<br>AverageMortgageAmount=%{y}<extra></extra>",
         "hovertext": [
          "2012Q3",
          "2012Q4",
          "2013Q1",
          "2013Q2",
          "2013Q3",
          "2013Q4",
          "2014Q1",
          "2014Q2",
          "2014Q3",
          "2014Q4",
          "2015Q1",
          "2015Q2",
          "2015Q3",
          "2015Q4",
          "2016Q1",
          "2016Q2",
          "2016Q3",
          "2016Q4",
          "2017Q1",
          "2017Q2",
          "2017Q3",
          "2017Q4",
          "2018Q1",
          "2018Q2",
          "2018Q3",
          "2018Q4",
          "2019Q1",
          "2019Q2",
          "2019Q3",
          "2019Q4",
          "2020Q1",
          "2020Q2",
          "2020Q3"
         ],
         "legendgroup": "Québec",
         "marker": {
          "color": "#FFA15A",
          "symbol": "circle"
         },
         "mode": "markers",
         "name": "Québec",
         "orientation": "v",
         "showlegend": true,
         "type": "scatter",
         "x": [
          0.33,
          0.33,
          0.35,
          0.34,
          0.33,
          0.35,
          0.37,
          0.36,
          0.37,
          0.39,
          0.42,
          0.41,
          0.41,
          0.42,
          0.44,
          0.43,
          0.42,
          0.4,
          0.41,
          0.4,
          0.37,
          0.34,
          0.34,
          0.35,
          0.35,
          0.38,
          0.38,
          0.37,
          0.37,
          0.36,
          0.36,
          0.34,
          0.36
         ],
         "xaxis": "x",
         "y": [
          159661,
          153413,
          153909,
          155016,
          160147,
          155512,
          156424,
          160165,
          166426,
          160073,
          161563,
          164764,
          170403,
          164235,
          167154,
          169326,
          176522,
          170309,
          171992,
          171716,
          177306,
          173182,
          175297,
          183507,
          187727,
          173911,
          175658,
          179523,
          187136,
          183501,
          189390,
          195538,
          203861
         ],
         "yaxis": "y"
        },
        {
         "hovertemplate": "<b>%{hovertext}</b><br><br>Geography=Ontario<br>DelinquencyRate=%{x}<br>AverageMortgageAmount=%{y}<extra></extra>",
         "hovertext": [
          "2012Q3",
          "2012Q4",
          "2013Q1",
          "2013Q2",
          "2013Q3",
          "2013Q4",
          "2014Q1",
          "2014Q2",
          "2014Q3",
          "2014Q4",
          "2015Q1",
          "2015Q2",
          "2015Q3",
          "2015Q4",
          "2016Q1",
          "2016Q2",
          "2016Q3",
          "2016Q4",
          "2017Q1",
          "2017Q2",
          "2017Q3",
          "2017Q4",
          "2018Q1",
          "2018Q2",
          "2018Q3",
          "2018Q4",
          "2019Q1",
          "2019Q2",
          "2019Q3",
          "2019Q4",
          "2020Q1",
          "2020Q2",
          "2020Q3"
         ],
         "legendgroup": "Ontario",
         "marker": {
          "color": "#19d3f3",
          "symbol": "circle"
         },
         "mode": "markers",
         "name": "Ontario",
         "orientation": "v",
         "showlegend": true,
         "type": "scatter",
         "x": [
          0.31,
          0.31,
          0.31,
          0.29,
          0.28,
          0.28,
          0.29,
          0.27,
          0.27,
          0.26,
          0.27,
          0.25,
          0.24,
          0.23,
          0.24,
          0.22,
          0.2,
          0.19,
          0.18,
          0.16,
          0.16,
          0.15,
          0.15,
          0.14,
          0.13,
          0.14,
          0.14,
          0.14,
          0.14,
          0.14,
          0.14,
          0.14,
          0.14
         ],
         "xaxis": "x",
         "y": [
          247455,
          235667,
          233122,
          230770,
          249054,
          244060,
          244077,
          240828,
          262838,
          257244,
          254854,
          259093,
          281259,
          277802,
          278626,
          285024,
          307369,
          310236,
          319009,
          326645,
          338561,
          323821,
          322179,
          315576,
          327367,
          321579,
          321074,
          324080,
          343117,
          343768,
          348272,
          363432,
          373371
         ],
         "yaxis": "y"
        },
        {
         "hovertemplate": "<b>%{hovertext}</b><br><br>Geography=Manitoba<br>DelinquencyRate=%{x}<br>AverageMortgageAmount=%{y}<extra></extra>",
         "hovertext": [
          "2012Q3",
          "2012Q4",
          "2013Q1",
          "2013Q2",
          "2013Q3",
          "2013Q4",
          "2014Q1",
          "2014Q2",
          "2014Q3",
          "2014Q4",
          "2015Q1",
          "2015Q2",
          "2015Q3",
          "2015Q4",
          "2016Q1",
          "2016Q2",
          "2016Q3",
          "2016Q4",
          "2017Q1",
          "2017Q2",
          "2017Q3",
          "2017Q4",
          "2018Q1",
          "2018Q2",
          "2018Q3",
          "2018Q4",
          "2019Q1",
          "2019Q2",
          "2019Q3",
          "2019Q4",
          "2020Q1",
          "2020Q2",
          "2020Q3"
         ],
         "legendgroup": "Manitoba",
         "marker": {
          "color": "#FF6692",
          "symbol": "circle"
         },
         "mode": "markers",
         "name": "Manitoba",
         "orientation": "v",
         "showlegend": true,
         "type": "scatter",
         "x": [
          0.25,
          0.27,
          0.28,
          0.26,
          0.28,
          0.28,
          0.28,
          0.25,
          0.24,
          0.27,
          0.31,
          0.3,
          0.29,
          0.33,
          0.34,
          0.35,
          0.34,
          0.35,
          0.36,
          0.35,
          0.33,
          0.3,
          0.3,
          0.31,
          0.32,
          0.35,
          0.35,
          0.35,
          0.34,
          0.36,
          0.37,
          0.38,
          0.35
         ],
         "xaxis": "x",
         "y": [
          188298,
          181097,
          177560,
          177517,
          192732,
          189570,
          188107,
          184554,
          200051,
          197527,
          191444,
          190383,
          206275,
          201640,
          193970,
          196385,
          209051,
          206958,
          203999,
          205085,
          216750,
          217136,
          207988,
          207436,
          220454,
          214060,
          206692,
          214873,
          222637,
          218918,
          212508,
          217416,
          232725
         ],
         "yaxis": "y"
        },
        {
         "hovertemplate": "<b>%{hovertext}</b><br><br>Geography=Saskatchewan<br>DelinquencyRate=%{x}<br>AverageMortgageAmount=%{y}<extra></extra>",
         "hovertext": [
          "2012Q3",
          "2012Q4",
          "2013Q1",
          "2013Q2",
          "2013Q3",
          "2013Q4",
          "2014Q1",
          "2014Q2",
          "2014Q3",
          "2014Q4",
          "2015Q1",
          "2015Q2",
          "2015Q3",
          "2015Q4",
          "2016Q1",
          "2016Q2",
          "2016Q3",
          "2016Q4",
          "2017Q1",
          "2017Q2",
          "2017Q3",
          "2017Q4",
          "2018Q1",
          "2018Q2",
          "2018Q3",
          "2018Q4",
          "2019Q1",
          "2019Q2",
          "2019Q3",
          "2019Q4",
          "2020Q1",
          "2020Q2",
          "2020Q3"
         ],
         "legendgroup": "Saskatchewan",
         "marker": {
          "color": "#B6E880",
          "symbol": "circle"
         },
         "mode": "markers",
         "name": "Saskatchewan",
         "orientation": "v",
         "showlegend": true,
         "type": "scatter",
         "x": [
          0.37,
          0.37,
          0.36,
          0.34,
          0.3,
          0.32,
          0.35,
          0.31,
          0.32,
          0.36,
          0.41,
          0.43,
          0.45,
          0.49,
          0.54,
          0.57,
          0.61,
          0.62,
          0.62,
          0.66,
          0.65,
          0.66,
          0.66,
          0.67,
          0.7,
          0.72,
          0.74,
          0.75,
          0.73,
          0.73,
          0.75,
          0.76,
          0.72
         ],
         "xaxis": "x",
         "y": [
          217945,
          213126,
          206354,
          211979,
          224868,
          225414,
          226559,
          218781,
          231768,
          233854,
          228569,
          226957,
          234840,
          231611,
          225641,
          230729,
          236380,
          232174,
          234786,
          233545,
          238533,
          234340,
          230702,
          229851,
          233255,
          223628,
          217157,
          216369,
          228721,
          224315,
          216188,
          225641,
          237386
         ],
         "yaxis": "y"
        },
        {
         "hovertemplate": "<b>%{hovertext}</b><br><br>Geography=Alberta<br>DelinquencyRate=%{x}<br>AverageMortgageAmount=%{y}<extra></extra>",
         "hovertext": [
          "2012Q3",
          "2012Q4",
          "2013Q1",
          "2013Q2",
          "2013Q3",
          "2013Q4",
          "2014Q1",
          "2014Q2",
          "2014Q3",
          "2014Q4",
          "2015Q1",
          "2015Q2",
          "2015Q3",
          "2015Q4",
          "2016Q1",
          "2016Q2",
          "2016Q3",
          "2016Q4",
          "2017Q1",
          "2017Q2",
          "2017Q3",
          "2017Q4",
          "2018Q1",
          "2018Q2",
          "2018Q3",
          "2018Q4",
          "2019Q1",
          "2019Q2",
          "2019Q3",
          "2019Q4",
          "2020Q1",
          "2020Q2",
          "2020Q3"
         ],
         "legendgroup": "Alberta",
         "marker": {
          "color": "#FF97FF",
          "symbol": "circle"
         },
         "mode": "markers",
         "name": "Alberta",
         "orientation": "v",
         "showlegend": true,
         "type": "scatter",
         "x": [
          0.6,
          0.55,
          0.52,
          0.47,
          0.45,
          0.43,
          0.42,
          0.37,
          0.34,
          0.32,
          0.32,
          0.33,
          0.35,
          0.36,
          0.41,
          0.45,
          0.53,
          0.53,
          0.54,
          0.52,
          0.51,
          0.5,
          0.5,
          0.46,
          0.47,
          0.5,
          0.51,
          0.53,
          0.51,
          0.5,
          0.52,
          0.52,
          0.5
         ],
         "xaxis": "x",
         "y": [
          282371,
          277555,
          277158,
          278516,
          289263,
          284928,
          291926,
          290722,
          304374,
          305558,
          303976,
          299837,
          309953,
          303244,
          296111,
          298884,
          304683,
          302095,
          301254,
          300115,
          307837,
          307662,
          302814,
          302116,
          305101,
          295839,
          291721,
          293612,
          297609,
          297552,
          291747,
          296269,
          305600
         ],
         "yaxis": "y"
        },
        {
         "hovertemplate": "<b>%{hovertext}</b><br><br>Geography=British Columbia<br>DelinquencyRate=%{x}<br>AverageMortgageAmount=%{y}<extra></extra>",
         "hovertext": [
          "2012Q3",
          "2012Q4",
          "2013Q1",
          "2013Q2",
          "2013Q3",
          "2013Q4",
          "2014Q1",
          "2014Q2",
          "2014Q3",
          "2014Q4",
          "2015Q1",
          "2015Q2",
          "2015Q3",
          "2015Q4",
          "2016Q1",
          "2016Q2",
          "2016Q3",
          "2016Q4",
          "2017Q1",
          "2017Q2",
          "2017Q3",
          "2017Q4",
          "2018Q1",
          "2018Q2",
          "2018Q3",
          "2018Q4",
          "2019Q1",
          "2019Q2",
          "2019Q3",
          "2019Q4",
          "2020Q1",
          "2020Q2",
          "2020Q3"
         ],
         "legendgroup": "British Columbia",
         "marker": {
          "color": "#FECB52",
          "symbol": "circle"
         },
         "mode": "markers",
         "name": "British Columbia",
         "orientation": "v",
         "showlegend": true,
         "type": "scatter",
         "x": [
          0.42,
          0.42,
          0.43,
          0.43,
          0.42,
          0.43,
          0.43,
          0.4,
          0.4,
          0.4,
          0.4,
          0.38,
          0.34,
          0.32,
          0.32,
          0.29,
          0.26,
          0.25,
          0.23,
          0.2,
          0.18,
          0.18,
          0.17,
          0.17,
          0.16,
          0.17,
          0.17,
          0.17,
          0.16,
          0.16,
          0.17,
          0.19,
          0.19
         ],
         "xaxis": "x",
         "y": [
          305427,
          289864,
          286652,
          290928,
          303663,
          305256,
          309374,
          305138,
          321625,
          323373,
          325035,
          328540,
          350672,
          357016,
          368782,
          385910,
          395297,
          366703,
          358655,
          369174,
          389430,
          381223,
          384794,
          371860,
          378187,
          364330,
          363239,
          363924,
          376343,
          386494,
          393711,
          397853,
          417004
         ],
         "yaxis": "y"
        }
       ],
       "layout": {
        "legend": {
         "title": {
          "text": "Geography"
         },
         "tracegroupgap": 0
        },
        "template": {
         "data": {
          "bar": [
           {
            "error_x": {
             "color": "#2a3f5f"
            },
            "error_y": {
             "color": "#2a3f5f"
            },
            "marker": {
             "line": {
              "color": "#E5ECF6",
              "width": 0.5
             },
             "pattern": {
              "fillmode": "overlay",
              "size": 10,
              "solidity": 0.2
             }
            },
            "type": "bar"
           }
          ],
          "barpolar": [
           {
            "marker": {
             "line": {
              "color": "#E5ECF6",
              "width": 0.5
             },
             "pattern": {
              "fillmode": "overlay",
              "size": 10,
              "solidity": 0.2
             }
            },
            "type": "barpolar"
           }
          ],
          "carpet": [
           {
            "aaxis": {
             "endlinecolor": "#2a3f5f",
             "gridcolor": "white",
             "linecolor": "white",
             "minorgridcolor": "white",
             "startlinecolor": "#2a3f5f"
            },
            "baxis": {
             "endlinecolor": "#2a3f5f",
             "gridcolor": "white",
             "linecolor": "white",
             "minorgridcolor": "white",
             "startlinecolor": "#2a3f5f"
            },
            "type": "carpet"
           }
          ],
          "choropleth": [
           {
            "colorbar": {
             "outlinewidth": 0,
             "ticks": ""
            },
            "type": "choropleth"
           }
          ],
          "contour": [
           {
            "colorbar": {
             "outlinewidth": 0,
             "ticks": ""
            },
            "colorscale": [
             [
              0,
              "#0d0887"
             ],
             [
              0.1111111111111111,
              "#46039f"
             ],
             [
              0.2222222222222222,
              "#7201a8"
             ],
             [
              0.3333333333333333,
              "#9c179e"
             ],
             [
              0.4444444444444444,
              "#bd3786"
             ],
             [
              0.5555555555555556,
              "#d8576b"
             ],
             [
              0.6666666666666666,
              "#ed7953"
             ],
             [
              0.7777777777777778,
              "#fb9f3a"
             ],
             [
              0.8888888888888888,
              "#fdca26"
             ],
             [
              1,
              "#f0f921"
             ]
            ],
            "type": "contour"
           }
          ],
          "contourcarpet": [
           {
            "colorbar": {
             "outlinewidth": 0,
             "ticks": ""
            },
            "type": "contourcarpet"
           }
          ],
          "heatmap": [
           {
            "colorbar": {
             "outlinewidth": 0,
             "ticks": ""
            },
            "colorscale": [
             [
              0,
              "#0d0887"
             ],
             [
              0.1111111111111111,
              "#46039f"
             ],
             [
              0.2222222222222222,
              "#7201a8"
             ],
             [
              0.3333333333333333,
              "#9c179e"
             ],
             [
              0.4444444444444444,
              "#bd3786"
             ],
             [
              0.5555555555555556,
              "#d8576b"
             ],
             [
              0.6666666666666666,
              "#ed7953"
             ],
             [
              0.7777777777777778,
              "#fb9f3a"
             ],
             [
              0.8888888888888888,
              "#fdca26"
             ],
             [
              1,
              "#f0f921"
             ]
            ],
            "type": "heatmap"
           }
          ],
          "heatmapgl": [
           {
            "colorbar": {
             "outlinewidth": 0,
             "ticks": ""
            },
            "colorscale": [
             [
              0,
              "#0d0887"
             ],
             [
              0.1111111111111111,
              "#46039f"
             ],
             [
              0.2222222222222222,
              "#7201a8"
             ],
             [
              0.3333333333333333,
              "#9c179e"
             ],
             [
              0.4444444444444444,
              "#bd3786"
             ],
             [
              0.5555555555555556,
              "#d8576b"
             ],
             [
              0.6666666666666666,
              "#ed7953"
             ],
             [
              0.7777777777777778,
              "#fb9f3a"
             ],
             [
              0.8888888888888888,
              "#fdca26"
             ],
             [
              1,
              "#f0f921"
             ]
            ],
            "type": "heatmapgl"
           }
          ],
          "histogram": [
           {
            "marker": {
             "pattern": {
              "fillmode": "overlay",
              "size": 10,
              "solidity": 0.2
             }
            },
            "type": "histogram"
           }
          ],
          "histogram2d": [
           {
            "colorbar": {
             "outlinewidth": 0,
             "ticks": ""
            },
            "colorscale": [
             [
              0,
              "#0d0887"
             ],
             [
              0.1111111111111111,
              "#46039f"
             ],
             [
              0.2222222222222222,
              "#7201a8"
             ],
             [
              0.3333333333333333,
              "#9c179e"
             ],
             [
              0.4444444444444444,
              "#bd3786"
             ],
             [
              0.5555555555555556,
              "#d8576b"
             ],
             [
              0.6666666666666666,
              "#ed7953"
             ],
             [
              0.7777777777777778,
              "#fb9f3a"
             ],
             [
              0.8888888888888888,
              "#fdca26"
             ],
             [
              1,
              "#f0f921"
             ]
            ],
            "type": "histogram2d"
           }
          ],
          "histogram2dcontour": [
           {
            "colorbar": {
             "outlinewidth": 0,
             "ticks": ""
            },
            "colorscale": [
             [
              0,
              "#0d0887"
             ],
             [
              0.1111111111111111,
              "#46039f"
             ],
             [
              0.2222222222222222,
              "#7201a8"
             ],
             [
              0.3333333333333333,
              "#9c179e"
             ],
             [
              0.4444444444444444,
              "#bd3786"
             ],
             [
              0.5555555555555556,
              "#d8576b"
             ],
             [
              0.6666666666666666,
              "#ed7953"
             ],
             [
              0.7777777777777778,
              "#fb9f3a"
             ],
             [
              0.8888888888888888,
              "#fdca26"
             ],
             [
              1,
              "#f0f921"
             ]
            ],
            "type": "histogram2dcontour"
           }
          ],
          "mesh3d": [
           {
            "colorbar": {
             "outlinewidth": 0,
             "ticks": ""
            },
            "type": "mesh3d"
           }
          ],
          "parcoords": [
           {
            "line": {
             "colorbar": {
              "outlinewidth": 0,
              "ticks": ""
             }
            },
            "type": "parcoords"
           }
          ],
          "pie": [
           {
            "automargin": true,
            "type": "pie"
           }
          ],
          "scatter": [
           {
            "fillpattern": {
             "fillmode": "overlay",
             "size": 10,
             "solidity": 0.2
            },
            "type": "scatter"
           }
          ],
          "scatter3d": [
           {
            "line": {
             "colorbar": {
              "outlinewidth": 0,
              "ticks": ""
             }
            },
            "marker": {
             "colorbar": {
              "outlinewidth": 0,
              "ticks": ""
             }
            },
            "type": "scatter3d"
           }
          ],
          "scattercarpet": [
           {
            "marker": {
             "colorbar": {
              "outlinewidth": 0,
              "ticks": ""
             }
            },
            "type": "scattercarpet"
           }
          ],
          "scattergeo": [
           {
            "marker": {
             "colorbar": {
              "outlinewidth": 0,
              "ticks": ""
             }
            },
            "type": "scattergeo"
           }
          ],
          "scattergl": [
           {
            "marker": {
             "colorbar": {
              "outlinewidth": 0,
              "ticks": ""
             }
            },
            "type": "scattergl"
           }
          ],
          "scattermapbox": [
           {
            "marker": {
             "colorbar": {
              "outlinewidth": 0,
              "ticks": ""
             }
            },
            "type": "scattermapbox"
           }
          ],
          "scatterpolar": [
           {
            "marker": {
             "colorbar": {
              "outlinewidth": 0,
              "ticks": ""
             }
            },
            "type": "scatterpolar"
           }
          ],
          "scatterpolargl": [
           {
            "marker": {
             "colorbar": {
              "outlinewidth": 0,
              "ticks": ""
             }
            },
            "type": "scatterpolargl"
           }
          ],
          "scatterternary": [
           {
            "marker": {
             "colorbar": {
              "outlinewidth": 0,
              "ticks": ""
             }
            },
            "type": "scatterternary"
           }
          ],
          "surface": [
           {
            "colorbar": {
             "outlinewidth": 0,
             "ticks": ""
            },
            "colorscale": [
             [
              0,
              "#0d0887"
             ],
             [
              0.1111111111111111,
              "#46039f"
             ],
             [
              0.2222222222222222,
              "#7201a8"
             ],
             [
              0.3333333333333333,
              "#9c179e"
             ],
             [
              0.4444444444444444,
              "#bd3786"
             ],
             [
              0.5555555555555556,
              "#d8576b"
             ],
             [
              0.6666666666666666,
              "#ed7953"
             ],
             [
              0.7777777777777778,
              "#fb9f3a"
             ],
             [
              0.8888888888888888,
              "#fdca26"
             ],
             [
              1,
              "#f0f921"
             ]
            ],
            "type": "surface"
           }
          ],
          "table": [
           {
            "cells": {
             "fill": {
              "color": "#EBF0F8"
             },
             "line": {
              "color": "white"
             }
            },
            "header": {
             "fill": {
              "color": "#C8D4E3"
             },
             "line": {
              "color": "white"
             }
            },
            "type": "table"
           }
          ]
         },
         "layout": {
          "annotationdefaults": {
           "arrowcolor": "#2a3f5f",
           "arrowhead": 0,
           "arrowwidth": 1
          },
          "autotypenumbers": "strict",
          "coloraxis": {
           "colorbar": {
            "outlinewidth": 0,
            "ticks": ""
           }
          },
          "colorscale": {
           "diverging": [
            [
             0,
             "#8e0152"
            ],
            [
             0.1,
             "#c51b7d"
            ],
            [
             0.2,
             "#de77ae"
            ],
            [
             0.3,
             "#f1b6da"
            ],
            [
             0.4,
             "#fde0ef"
            ],
            [
             0.5,
             "#f7f7f7"
            ],
            [
             0.6,
             "#e6f5d0"
            ],
            [
             0.7,
             "#b8e186"
            ],
            [
             0.8,
             "#7fbc41"
            ],
            [
             0.9,
             "#4d9221"
            ],
            [
             1,
             "#276419"
            ]
           ],
           "sequential": [
            [
             0,
             "#0d0887"
            ],
            [
             0.1111111111111111,
             "#46039f"
            ],
            [
             0.2222222222222222,
             "#7201a8"
            ],
            [
             0.3333333333333333,
             "#9c179e"
            ],
            [
             0.4444444444444444,
             "#bd3786"
            ],
            [
             0.5555555555555556,
             "#d8576b"
            ],
            [
             0.6666666666666666,
             "#ed7953"
            ],
            [
             0.7777777777777778,
             "#fb9f3a"
            ],
            [
             0.8888888888888888,
             "#fdca26"
            ],
            [
             1,
             "#f0f921"
            ]
           ],
           "sequentialminus": [
            [
             0,
             "#0d0887"
            ],
            [
             0.1111111111111111,
             "#46039f"
            ],
            [
             0.2222222222222222,
             "#7201a8"
            ],
            [
             0.3333333333333333,
             "#9c179e"
            ],
            [
             0.4444444444444444,
             "#bd3786"
            ],
            [
             0.5555555555555556,
             "#d8576b"
            ],
            [
             0.6666666666666666,
             "#ed7953"
            ],
            [
             0.7777777777777778,
             "#fb9f3a"
            ],
            [
             0.8888888888888888,
             "#fdca26"
            ],
            [
             1,
             "#f0f921"
            ]
           ]
          },
          "colorway": [
           "#636efa",
           "#EF553B",
           "#00cc96",
           "#ab63fa",
           "#FFA15A",
           "#19d3f3",
           "#FF6692",
           "#B6E880",
           "#FF97FF",
           "#FECB52"
          ],
          "font": {
           "color": "#2a3f5f"
          },
          "geo": {
           "bgcolor": "white",
           "lakecolor": "white",
           "landcolor": "#E5ECF6",
           "showlakes": true,
           "showland": true,
           "subunitcolor": "white"
          },
          "hoverlabel": {
           "align": "left"
          },
          "hovermode": "closest",
          "mapbox": {
           "style": "light"
          },
          "paper_bgcolor": "white",
          "plot_bgcolor": "#E5ECF6",
          "polar": {
           "angularaxis": {
            "gridcolor": "white",
            "linecolor": "white",
            "ticks": ""
           },
           "bgcolor": "#E5ECF6",
           "radialaxis": {
            "gridcolor": "white",
            "linecolor": "white",
            "ticks": ""
           }
          },
          "scene": {
           "xaxis": {
            "backgroundcolor": "#E5ECF6",
            "gridcolor": "white",
            "gridwidth": 2,
            "linecolor": "white",
            "showbackground": true,
            "ticks": "",
            "zerolinecolor": "white"
           },
           "yaxis": {
            "backgroundcolor": "#E5ECF6",
            "gridcolor": "white",
            "gridwidth": 2,
            "linecolor": "white",
            "showbackground": true,
            "ticks": "",
            "zerolinecolor": "white"
           },
           "zaxis": {
            "backgroundcolor": "#E5ECF6",
            "gridcolor": "white",
            "gridwidth": 2,
            "linecolor": "white",
            "showbackground": true,
            "ticks": "",
            "zerolinecolor": "white"
           }
          },
          "shapedefaults": {
           "line": {
            "color": "#2a3f5f"
           }
          },
          "ternary": {
           "aaxis": {
            "gridcolor": "white",
            "linecolor": "white",
            "ticks": ""
           },
           "baxis": {
            "gridcolor": "white",
            "linecolor": "white",
            "ticks": ""
           },
           "bgcolor": "#E5ECF6",
           "caxis": {
            "gridcolor": "white",
            "linecolor": "white",
            "ticks": ""
           }
          },
          "title": {
           "x": 0.05
          },
          "xaxis": {
           "automargin": true,
           "gridcolor": "white",
           "linecolor": "white",
           "ticks": "",
           "title": {
            "standoff": 15
           },
           "zerolinecolor": "white",
           "zerolinewidth": 2
          },
          "yaxis": {
           "automargin": true,
           "gridcolor": "white",
           "linecolor": "white",
           "ticks": "",
           "title": {
            "standoff": 15
           },
           "zerolinecolor": "white",
           "zerolinewidth": 2
          }
         }
        },
        "title": {
         "text": "Average mortgage rate to delinquency rate"
        },
        "xaxis": {
         "anchor": "y",
         "domain": [
          0,
          1
         ],
         "title": {
          "text": "DelinquencyRate"
         }
        },
        "yaxis": {
         "anchor": "x",
         "domain": [
          0,
          1
         ],
         "title": {
          "text": "AverageMortgageAmount"
         }
        }
       }
      }
     },
     "metadata": {},
     "output_type": "display_data"
    }
   ],
   "source": [
    "px.scatter(data_frame=data_pop_del_mort_df,\n",
    "      y = \"AverageMortgageAmount\",\n",
    "      x = \"DelinquencyRate\",\n",
    "      title=\"Average mortgage rate to delinquency rate\",\n",
    "      color=\"Geography\", \n",
    "      hover_name=\"Time\")"
   ]
  },
  {
   "cell_type": "markdown",
   "metadata": {
    "slideshow": {
     "slide_type": "slide"
    }
   },
   "source": [
    "## Using dictionaries to access different kind of functions\n",
    "\n",
    "-------------------------------------------------------------------------------------------------------------------------------\n",
    "\n",
    "\n",
    "We need to do quite a bit of work refactoring our code in preparation for our dashboard.\n",
    "\n",
    "We will use dictionaries to access different plotting functions.\n",
    "\n",
    "Recall, a dictionary is a data structure with `keys` and `values`. The syntax of a dictionary is as follows:\n",
    "\n",
    "    dictionary =  { key1 : value1,\n",
    "                    key2 : value2,\n",
    "                    key3 : value3}\n",
    "                    \n",
    "Where keys are typically a string, and values can be a data structure such as a string, list, set, tuple, or a function."
   ]
  },
  {
   "cell_type": "code",
   "execution_count": 21,
   "metadata": {
    "slideshow": {
     "slide_type": "slide"
    }
   },
   "outputs": [],
   "source": [
    "sample_dictionary = {\"list_numbers\" : [1, 2, 3, 4, 5],\n",
    "                     \"set_numbers\": set([1, 2, 3, 4, 5]),\n",
    "                     \"tuple_numbers\": tuple([1, 2, 3, 4, 5]),\n",
    "                     \"function_sum\": sum}"
   ]
  },
  {
   "cell_type": "markdown",
   "metadata": {
    "slideshow": {
     "slide_type": "slide"
    }
   },
   "source": [
    "To access the values within a dictionary, we use the following notation\n",
    "\n",
    "    dictionary[key]\n",
    "    \n",
    "For example"
   ]
  },
  {
   "cell_type": "code",
   "execution_count": 22,
   "metadata": {
    "slideshow": {
     "slide_type": "subslide"
    }
   },
   "outputs": [
    {
     "data": {
      "text/plain": [
       "[1, 2, 3, 4, 5]"
      ]
     },
     "execution_count": 22,
     "metadata": {},
     "output_type": "execute_result"
    }
   ],
   "source": [
    "sample_dictionary['list_numbers']"
   ]
  },
  {
   "cell_type": "code",
   "execution_count": 23,
   "metadata": {
    "slideshow": {
     "slide_type": "subslide"
    }
   },
   "outputs": [
    {
     "data": {
      "text/plain": [
       "{1, 2, 3, 4, 5}"
      ]
     },
     "execution_count": 23,
     "metadata": {},
     "output_type": "execute_result"
    }
   ],
   "source": [
    "sample_dictionary['set_numbers']"
   ]
  },
  {
   "cell_type": "code",
   "execution_count": 24,
   "metadata": {
    "slideshow": {
     "slide_type": "subslide"
    }
   },
   "outputs": [
    {
     "data": {
      "text/plain": [
       "(1, 2, 3, 4, 5)"
      ]
     },
     "execution_count": 24,
     "metadata": {},
     "output_type": "execute_result"
    }
   ],
   "source": [
    "sample_dictionary['tuple_numbers']"
   ]
  },
  {
   "cell_type": "code",
   "execution_count": 25,
   "metadata": {
    "slideshow": {
     "slide_type": "subslide"
    }
   },
   "outputs": [
    {
     "data": {
      "text/plain": [
       "<function sum(iterable, /, start=0)>"
      ]
     },
     "execution_count": 25,
     "metadata": {},
     "output_type": "execute_result"
    }
   ],
   "source": [
    "sample_dictionary['function_sum']"
   ]
  },
  {
   "cell_type": "markdown",
   "metadata": {
    "slideshow": {
     "slide_type": "subslide"
    }
   },
   "source": [
    "To use the function `sum`, simply pass a list of numbers you want to add."
   ]
  },
  {
   "cell_type": "code",
   "execution_count": 26,
   "metadata": {
    "slideshow": {
     "slide_type": "subslide"
    }
   },
   "outputs": [
    {
     "data": {
      "text/plain": [
       "6"
      ]
     },
     "execution_count": 26,
     "metadata": {},
     "output_type": "execute_result"
    }
   ],
   "source": [
    "sum([1,2,3])"
   ]
  },
  {
   "cell_type": "markdown",
   "metadata": {
    "slideshow": {
     "slide_type": "subslide"
    }
   },
   "source": [
    "We can obtain the same result with our dictionary as follows:"
   ]
  },
  {
   "cell_type": "code",
   "execution_count": 27,
   "metadata": {
    "slideshow": {
     "slide_type": "subslide"
    }
   },
   "outputs": [
    {
     "data": {
      "text/plain": [
       "6"
      ]
     },
     "execution_count": 27,
     "metadata": {},
     "output_type": "execute_result"
    }
   ],
   "source": [
    "sample_dictionary['function_sum']([1,2,3])"
   ]
  },
  {
   "cell_type": "markdown",
   "metadata": {
    "slideshow": {
     "slide_type": "subslide"
    }
   },
   "source": [
    "We can use the following dictionary to generate different kinds of plots."
   ]
  },
  {
   "cell_type": "code",
   "execution_count": 14,
   "metadata": {
    "slideshow": {
     "slide_type": "subslide"
    }
   },
   "outputs": [],
   "source": [
    "# Dictionary\n",
    "plot_dict = {'box': px.box,'violin': px.violin, 'scatter': px.scatter, 'line':px.line}"
   ]
  },
  {
   "cell_type": "markdown",
   "metadata": {
    "slideshow": {
     "slide_type": "subslide"
    }
   },
   "source": [
    "We can then use the dictionary to try different kinds of plots."
   ]
  },
  {
   "cell_type": "code",
   "execution_count": 15,
   "metadata": {
    "slideshow": {
     "slide_type": "subslide"
    }
   },
   "outputs": [
    {
     "data": {
      "application/vnd.plotly.v1+json": {
       "config": {
        "plotlyServerURL": "https://plot.ly"
       },
       "data": [
        {
         "hovertemplate": "Geography=Newfoundland<br>Time=%{x}<br>DelinquencyRate=%{y}<extra></extra>",
         "legendgroup": "Newfoundland",
         "marker": {
          "color": "#636efa",
          "symbol": "circle"
         },
         "mode": "markers",
         "name": "Newfoundland",
         "orientation": "v",
         "showlegend": true,
         "type": "scatter",
         "x": [
          "2012Q3",
          "2012Q4",
          "2013Q1",
          "2013Q2",
          "2013Q3",
          "2013Q4",
          "2014Q1",
          "2014Q2",
          "2014Q3",
          "2014Q4",
          "2015Q1",
          "2015Q2",
          "2015Q3",
          "2015Q4",
          "2016Q1",
          "2016Q2",
          "2016Q3",
          "2016Q4",
          "2017Q1",
          "2017Q2",
          "2017Q3",
          "2017Q4",
          "2018Q1",
          "2018Q2",
          "2018Q3",
          "2018Q4",
          "2019Q1",
          "2019Q2",
          "2019Q3",
          "2019Q4",
          "2020Q1",
          "2020Q2",
          "2020Q3"
         ],
         "xaxis": "x",
         "y": [
          0.24,
          0.22,
          0.25,
          0.19,
          0.2,
          0.22,
          0.23,
          0.25,
          0.26,
          0.28,
          0.37,
          0.37,
          0.37,
          0.41,
          0.45,
          0.46,
          0.49,
          0.46,
          0.47,
          0.47,
          0.46,
          0.52,
          0.56,
          0.6,
          0.6,
          0.62,
          0.64,
          0.65,
          0.65,
          0.65,
          0.67,
          0.68,
          0.64
         ],
         "yaxis": "y"
        },
        {
         "hovertemplate": "Geography=Prince Edward Island<br>Time=%{x}<br>DelinquencyRate=%{y}<extra></extra>",
         "legendgroup": "Prince Edward Island",
         "marker": {
          "color": "#EF553B",
          "symbol": "circle"
         },
         "mode": "markers",
         "name": "Prince Edward Island",
         "orientation": "v",
         "showlegend": true,
         "type": "scatter",
         "x": [
          "2012Q3",
          "2012Q4",
          "2013Q1",
          "2013Q2",
          "2013Q3",
          "2013Q4",
          "2014Q1",
          "2014Q2",
          "2014Q3",
          "2014Q4",
          "2015Q1",
          "2015Q2",
          "2015Q3",
          "2015Q4",
          "2016Q1",
          "2016Q2",
          "2016Q3",
          "2016Q4",
          "2017Q1",
          "2017Q2",
          "2017Q3",
          "2017Q4",
          "2018Q1",
          "2018Q2",
          "2018Q3",
          "2018Q4",
          "2019Q1",
          "2019Q2",
          "2019Q3",
          "2019Q4",
          "2020Q1",
          "2020Q2",
          "2020Q3"
         ],
         "xaxis": "x",
         "y": [
          0.57,
          0.5,
          0.55,
          0.47,
          0.56,
          0.58,
          0.6,
          0.6,
          0.56,
          0.57,
          0.68,
          0.62,
          0.63,
          0.67,
          0.7,
          0.7,
          0.67,
          0.6,
          0.66,
          0.55,
          0.54,
          0.44,
          0.5,
          0.45,
          0.43,
          0.39,
          0.39,
          0.38,
          0.34,
          0.32,
          0.25,
          0.26,
          0.27
         ],
         "yaxis": "y"
        },
        {
         "hovertemplate": "Geography=Nova Scotia<br>Time=%{x}<br>DelinquencyRate=%{y}<extra></extra>",
         "legendgroup": "Nova Scotia",
         "marker": {
          "color": "#00cc96",
          "symbol": "circle"
         },
         "mode": "markers",
         "name": "Nova Scotia",
         "orientation": "v",
         "showlegend": true,
         "type": "scatter",
         "x": [
          "2012Q3",
          "2012Q4",
          "2013Q1",
          "2013Q2",
          "2013Q3",
          "2013Q4",
          "2014Q1",
          "2014Q2",
          "2014Q3",
          "2014Q4",
          "2015Q1",
          "2015Q2",
          "2015Q3",
          "2015Q4",
          "2016Q1",
          "2016Q2",
          "2016Q3",
          "2016Q4",
          "2017Q1",
          "2017Q2",
          "2017Q3",
          "2017Q4",
          "2018Q1",
          "2018Q2",
          "2018Q3",
          "2018Q4",
          "2019Q1",
          "2019Q2",
          "2019Q3",
          "2019Q4",
          "2020Q1",
          "2020Q2",
          "2020Q3"
         ],
         "xaxis": "x",
         "y": [
          0.53,
          0.53,
          0.55,
          0.56,
          0.58,
          0.62,
          0.65,
          0.65,
          0.67,
          0.68,
          0.7,
          0.67,
          0.66,
          0.68,
          0.7,
          0.72,
          0.76,
          0.75,
          0.7,
          0.64,
          0.6,
          0.58,
          0.59,
          0.54,
          0.52,
          0.56,
          0.54,
          0.52,
          0.5,
          0.5,
          0.46,
          0.47,
          0.45
         ],
         "yaxis": "y"
        },
        {
         "hovertemplate": "Geography=New Brunswick<br>Time=%{x}<br>DelinquencyRate=%{y}<extra></extra>",
         "legendgroup": "New Brunswick",
         "marker": {
          "color": "#ab63fa",
          "symbol": "circle"
         },
         "mode": "markers",
         "name": "New Brunswick",
         "orientation": "v",
         "showlegend": true,
         "type": "scatter",
         "x": [
          "2012Q3",
          "2012Q4",
          "2013Q1",
          "2013Q2",
          "2013Q3",
          "2013Q4",
          "2014Q1",
          "2014Q2",
          "2014Q3",
          "2014Q4",
          "2015Q1",
          "2015Q2",
          "2015Q3",
          "2015Q4",
          "2016Q1",
          "2016Q2",
          "2016Q3",
          "2016Q4",
          "2017Q1",
          "2017Q2",
          "2017Q3",
          "2017Q4",
          "2018Q1",
          "2018Q2",
          "2018Q3",
          "2018Q4",
          "2019Q1",
          "2019Q2",
          "2019Q3",
          "2019Q4",
          "2020Q1",
          "2020Q2",
          "2020Q3"
         ],
         "xaxis": "x",
         "y": [
          0.63,
          0.63,
          0.65,
          0.6,
          0.61,
          0.68,
          0.72,
          0.67,
          0.72,
          0.72,
          0.79,
          0.8,
          0.81,
          0.79,
          0.82,
          0.78,
          0.84,
          0.79,
          0.78,
          0.73,
          0.71,
          0.66,
          0.65,
          0.59,
          0.58,
          0.62,
          0.63,
          0.6,
          0.57,
          0.57,
          0.57,
          0.54,
          0.52
         ],
         "yaxis": "y"
        },
        {
         "hovertemplate": "Geography=Québec<br>Time=%{x}<br>DelinquencyRate=%{y}<extra></extra>",
         "legendgroup": "Québec",
         "marker": {
          "color": "#FFA15A",
          "symbol": "circle"
         },
         "mode": "markers",
         "name": "Québec",
         "orientation": "v",
         "showlegend": true,
         "type": "scatter",
         "x": [
          "2012Q3",
          "2012Q4",
          "2013Q1",
          "2013Q2",
          "2013Q3",
          "2013Q4",
          "2014Q1",
          "2014Q2",
          "2014Q3",
          "2014Q4",
          "2015Q1",
          "2015Q2",
          "2015Q3",
          "2015Q4",
          "2016Q1",
          "2016Q2",
          "2016Q3",
          "2016Q4",
          "2017Q1",
          "2017Q2",
          "2017Q3",
          "2017Q4",
          "2018Q1",
          "2018Q2",
          "2018Q3",
          "2018Q4",
          "2019Q1",
          "2019Q2",
          "2019Q3",
          "2019Q4",
          "2020Q1",
          "2020Q2",
          "2020Q3"
         ],
         "xaxis": "x",
         "y": [
          0.33,
          0.33,
          0.35,
          0.34,
          0.33,
          0.35,
          0.37,
          0.36,
          0.37,
          0.39,
          0.42,
          0.41,
          0.41,
          0.42,
          0.44,
          0.43,
          0.42,
          0.4,
          0.41,
          0.4,
          0.37,
          0.34,
          0.34,
          0.35,
          0.35,
          0.38,
          0.38,
          0.37,
          0.37,
          0.36,
          0.36,
          0.34,
          0.36
         ],
         "yaxis": "y"
        },
        {
         "hovertemplate": "Geography=Ontario<br>Time=%{x}<br>DelinquencyRate=%{y}<extra></extra>",
         "legendgroup": "Ontario",
         "marker": {
          "color": "#19d3f3",
          "symbol": "circle"
         },
         "mode": "markers",
         "name": "Ontario",
         "orientation": "v",
         "showlegend": true,
         "type": "scatter",
         "x": [
          "2012Q3",
          "2012Q4",
          "2013Q1",
          "2013Q2",
          "2013Q3",
          "2013Q4",
          "2014Q1",
          "2014Q2",
          "2014Q3",
          "2014Q4",
          "2015Q1",
          "2015Q2",
          "2015Q3",
          "2015Q4",
          "2016Q1",
          "2016Q2",
          "2016Q3",
          "2016Q4",
          "2017Q1",
          "2017Q2",
          "2017Q3",
          "2017Q4",
          "2018Q1",
          "2018Q2",
          "2018Q3",
          "2018Q4",
          "2019Q1",
          "2019Q2",
          "2019Q3",
          "2019Q4",
          "2020Q1",
          "2020Q2",
          "2020Q3"
         ],
         "xaxis": "x",
         "y": [
          0.31,
          0.31,
          0.31,
          0.29,
          0.28,
          0.28,
          0.29,
          0.27,
          0.27,
          0.26,
          0.27,
          0.25,
          0.24,
          0.23,
          0.24,
          0.22,
          0.2,
          0.19,
          0.18,
          0.16,
          0.16,
          0.15,
          0.15,
          0.14,
          0.13,
          0.14,
          0.14,
          0.14,
          0.14,
          0.14,
          0.14,
          0.14,
          0.14
         ],
         "yaxis": "y"
        },
        {
         "hovertemplate": "Geography=Manitoba<br>Time=%{x}<br>DelinquencyRate=%{y}<extra></extra>",
         "legendgroup": "Manitoba",
         "marker": {
          "color": "#FF6692",
          "symbol": "circle"
         },
         "mode": "markers",
         "name": "Manitoba",
         "orientation": "v",
         "showlegend": true,
         "type": "scatter",
         "x": [
          "2012Q3",
          "2012Q4",
          "2013Q1",
          "2013Q2",
          "2013Q3",
          "2013Q4",
          "2014Q1",
          "2014Q2",
          "2014Q3",
          "2014Q4",
          "2015Q1",
          "2015Q2",
          "2015Q3",
          "2015Q4",
          "2016Q1",
          "2016Q2",
          "2016Q3",
          "2016Q4",
          "2017Q1",
          "2017Q2",
          "2017Q3",
          "2017Q4",
          "2018Q1",
          "2018Q2",
          "2018Q3",
          "2018Q4",
          "2019Q1",
          "2019Q2",
          "2019Q3",
          "2019Q4",
          "2020Q1",
          "2020Q2",
          "2020Q3"
         ],
         "xaxis": "x",
         "y": [
          0.25,
          0.27,
          0.28,
          0.26,
          0.28,
          0.28,
          0.28,
          0.25,
          0.24,
          0.27,
          0.31,
          0.3,
          0.29,
          0.33,
          0.34,
          0.35,
          0.34,
          0.35,
          0.36,
          0.35,
          0.33,
          0.3,
          0.3,
          0.31,
          0.32,
          0.35,
          0.35,
          0.35,
          0.34,
          0.36,
          0.37,
          0.38,
          0.35
         ],
         "yaxis": "y"
        },
        {
         "hovertemplate": "Geography=Saskatchewan<br>Time=%{x}<br>DelinquencyRate=%{y}<extra></extra>",
         "legendgroup": "Saskatchewan",
         "marker": {
          "color": "#B6E880",
          "symbol": "circle"
         },
         "mode": "markers",
         "name": "Saskatchewan",
         "orientation": "v",
         "showlegend": true,
         "type": "scatter",
         "x": [
          "2012Q3",
          "2012Q4",
          "2013Q1",
          "2013Q2",
          "2013Q3",
          "2013Q4",
          "2014Q1",
          "2014Q2",
          "2014Q3",
          "2014Q4",
          "2015Q1",
          "2015Q2",
          "2015Q3",
          "2015Q4",
          "2016Q1",
          "2016Q2",
          "2016Q3",
          "2016Q4",
          "2017Q1",
          "2017Q2",
          "2017Q3",
          "2017Q4",
          "2018Q1",
          "2018Q2",
          "2018Q3",
          "2018Q4",
          "2019Q1",
          "2019Q2",
          "2019Q3",
          "2019Q4",
          "2020Q1",
          "2020Q2",
          "2020Q3"
         ],
         "xaxis": "x",
         "y": [
          0.37,
          0.37,
          0.36,
          0.34,
          0.3,
          0.32,
          0.35,
          0.31,
          0.32,
          0.36,
          0.41,
          0.43,
          0.45,
          0.49,
          0.54,
          0.57,
          0.61,
          0.62,
          0.62,
          0.66,
          0.65,
          0.66,
          0.66,
          0.67,
          0.7,
          0.72,
          0.74,
          0.75,
          0.73,
          0.73,
          0.75,
          0.76,
          0.72
         ],
         "yaxis": "y"
        },
        {
         "hovertemplate": "Geography=Alberta<br>Time=%{x}<br>DelinquencyRate=%{y}<extra></extra>",
         "legendgroup": "Alberta",
         "marker": {
          "color": "#FF97FF",
          "symbol": "circle"
         },
         "mode": "markers",
         "name": "Alberta",
         "orientation": "v",
         "showlegend": true,
         "type": "scatter",
         "x": [
          "2012Q3",
          "2012Q4",
          "2013Q1",
          "2013Q2",
          "2013Q3",
          "2013Q4",
          "2014Q1",
          "2014Q2",
          "2014Q3",
          "2014Q4",
          "2015Q1",
          "2015Q2",
          "2015Q3",
          "2015Q4",
          "2016Q1",
          "2016Q2",
          "2016Q3",
          "2016Q4",
          "2017Q1",
          "2017Q2",
          "2017Q3",
          "2017Q4",
          "2018Q1",
          "2018Q2",
          "2018Q3",
          "2018Q4",
          "2019Q1",
          "2019Q2",
          "2019Q3",
          "2019Q4",
          "2020Q1",
          "2020Q2",
          "2020Q3"
         ],
         "xaxis": "x",
         "y": [
          0.6,
          0.55,
          0.52,
          0.47,
          0.45,
          0.43,
          0.42,
          0.37,
          0.34,
          0.32,
          0.32,
          0.33,
          0.35,
          0.36,
          0.41,
          0.45,
          0.53,
          0.53,
          0.54,
          0.52,
          0.51,
          0.5,
          0.5,
          0.46,
          0.47,
          0.5,
          0.51,
          0.53,
          0.51,
          0.5,
          0.52,
          0.52,
          0.5
         ],
         "yaxis": "y"
        },
        {
         "hovertemplate": "Geography=British Columbia<br>Time=%{x}<br>DelinquencyRate=%{y}<extra></extra>",
         "legendgroup": "British Columbia",
         "marker": {
          "color": "#FECB52",
          "symbol": "circle"
         },
         "mode": "markers",
         "name": "British Columbia",
         "orientation": "v",
         "showlegend": true,
         "type": "scatter",
         "x": [
          "2012Q3",
          "2012Q4",
          "2013Q1",
          "2013Q2",
          "2013Q3",
          "2013Q4",
          "2014Q1",
          "2014Q2",
          "2014Q3",
          "2014Q4",
          "2015Q1",
          "2015Q2",
          "2015Q3",
          "2015Q4",
          "2016Q1",
          "2016Q2",
          "2016Q3",
          "2016Q4",
          "2017Q1",
          "2017Q2",
          "2017Q3",
          "2017Q4",
          "2018Q1",
          "2018Q2",
          "2018Q3",
          "2018Q4",
          "2019Q1",
          "2019Q2",
          "2019Q3",
          "2019Q4",
          "2020Q1",
          "2020Q2",
          "2020Q3"
         ],
         "xaxis": "x",
         "y": [
          0.42,
          0.42,
          0.43,
          0.43,
          0.42,
          0.43,
          0.43,
          0.4,
          0.4,
          0.4,
          0.4,
          0.38,
          0.34,
          0.32,
          0.32,
          0.29,
          0.26,
          0.25,
          0.23,
          0.2,
          0.18,
          0.18,
          0.17,
          0.17,
          0.16,
          0.17,
          0.17,
          0.17,
          0.16,
          0.16,
          0.17,
          0.19,
          0.19
         ],
         "yaxis": "y"
        }
       ],
       "layout": {
        "legend": {
         "title": {
          "text": "Geography"
         },
         "tracegroupgap": 0
        },
        "template": {
         "data": {
          "bar": [
           {
            "error_x": {
             "color": "#2a3f5f"
            },
            "error_y": {
             "color": "#2a3f5f"
            },
            "marker": {
             "line": {
              "color": "#E5ECF6",
              "width": 0.5
             },
             "pattern": {
              "fillmode": "overlay",
              "size": 10,
              "solidity": 0.2
             }
            },
            "type": "bar"
           }
          ],
          "barpolar": [
           {
            "marker": {
             "line": {
              "color": "#E5ECF6",
              "width": 0.5
             },
             "pattern": {
              "fillmode": "overlay",
              "size": 10,
              "solidity": 0.2
             }
            },
            "type": "barpolar"
           }
          ],
          "carpet": [
           {
            "aaxis": {
             "endlinecolor": "#2a3f5f",
             "gridcolor": "white",
             "linecolor": "white",
             "minorgridcolor": "white",
             "startlinecolor": "#2a3f5f"
            },
            "baxis": {
             "endlinecolor": "#2a3f5f",
             "gridcolor": "white",
             "linecolor": "white",
             "minorgridcolor": "white",
             "startlinecolor": "#2a3f5f"
            },
            "type": "carpet"
           }
          ],
          "choropleth": [
           {
            "colorbar": {
             "outlinewidth": 0,
             "ticks": ""
            },
            "type": "choropleth"
           }
          ],
          "contour": [
           {
            "colorbar": {
             "outlinewidth": 0,
             "ticks": ""
            },
            "colorscale": [
             [
              0,
              "#0d0887"
             ],
             [
              0.1111111111111111,
              "#46039f"
             ],
             [
              0.2222222222222222,
              "#7201a8"
             ],
             [
              0.3333333333333333,
              "#9c179e"
             ],
             [
              0.4444444444444444,
              "#bd3786"
             ],
             [
              0.5555555555555556,
              "#d8576b"
             ],
             [
              0.6666666666666666,
              "#ed7953"
             ],
             [
              0.7777777777777778,
              "#fb9f3a"
             ],
             [
              0.8888888888888888,
              "#fdca26"
             ],
             [
              1,
              "#f0f921"
             ]
            ],
            "type": "contour"
           }
          ],
          "contourcarpet": [
           {
            "colorbar": {
             "outlinewidth": 0,
             "ticks": ""
            },
            "type": "contourcarpet"
           }
          ],
          "heatmap": [
           {
            "colorbar": {
             "outlinewidth": 0,
             "ticks": ""
            },
            "colorscale": [
             [
              0,
              "#0d0887"
             ],
             [
              0.1111111111111111,
              "#46039f"
             ],
             [
              0.2222222222222222,
              "#7201a8"
             ],
             [
              0.3333333333333333,
              "#9c179e"
             ],
             [
              0.4444444444444444,
              "#bd3786"
             ],
             [
              0.5555555555555556,
              "#d8576b"
             ],
             [
              0.6666666666666666,
              "#ed7953"
             ],
             [
              0.7777777777777778,
              "#fb9f3a"
             ],
             [
              0.8888888888888888,
              "#fdca26"
             ],
             [
              1,
              "#f0f921"
             ]
            ],
            "type": "heatmap"
           }
          ],
          "heatmapgl": [
           {
            "colorbar": {
             "outlinewidth": 0,
             "ticks": ""
            },
            "colorscale": [
             [
              0,
              "#0d0887"
             ],
             [
              0.1111111111111111,
              "#46039f"
             ],
             [
              0.2222222222222222,
              "#7201a8"
             ],
             [
              0.3333333333333333,
              "#9c179e"
             ],
             [
              0.4444444444444444,
              "#bd3786"
             ],
             [
              0.5555555555555556,
              "#d8576b"
             ],
             [
              0.6666666666666666,
              "#ed7953"
             ],
             [
              0.7777777777777778,
              "#fb9f3a"
             ],
             [
              0.8888888888888888,
              "#fdca26"
             ],
             [
              1,
              "#f0f921"
             ]
            ],
            "type": "heatmapgl"
           }
          ],
          "histogram": [
           {
            "marker": {
             "pattern": {
              "fillmode": "overlay",
              "size": 10,
              "solidity": 0.2
             }
            },
            "type": "histogram"
           }
          ],
          "histogram2d": [
           {
            "colorbar": {
             "outlinewidth": 0,
             "ticks": ""
            },
            "colorscale": [
             [
              0,
              "#0d0887"
             ],
             [
              0.1111111111111111,
              "#46039f"
             ],
             [
              0.2222222222222222,
              "#7201a8"
             ],
             [
              0.3333333333333333,
              "#9c179e"
             ],
             [
              0.4444444444444444,
              "#bd3786"
             ],
             [
              0.5555555555555556,
              "#d8576b"
             ],
             [
              0.6666666666666666,
              "#ed7953"
             ],
             [
              0.7777777777777778,
              "#fb9f3a"
             ],
             [
              0.8888888888888888,
              "#fdca26"
             ],
             [
              1,
              "#f0f921"
             ]
            ],
            "type": "histogram2d"
           }
          ],
          "histogram2dcontour": [
           {
            "colorbar": {
             "outlinewidth": 0,
             "ticks": ""
            },
            "colorscale": [
             [
              0,
              "#0d0887"
             ],
             [
              0.1111111111111111,
              "#46039f"
             ],
             [
              0.2222222222222222,
              "#7201a8"
             ],
             [
              0.3333333333333333,
              "#9c179e"
             ],
             [
              0.4444444444444444,
              "#bd3786"
             ],
             [
              0.5555555555555556,
              "#d8576b"
             ],
             [
              0.6666666666666666,
              "#ed7953"
             ],
             [
              0.7777777777777778,
              "#fb9f3a"
             ],
             [
              0.8888888888888888,
              "#fdca26"
             ],
             [
              1,
              "#f0f921"
             ]
            ],
            "type": "histogram2dcontour"
           }
          ],
          "mesh3d": [
           {
            "colorbar": {
             "outlinewidth": 0,
             "ticks": ""
            },
            "type": "mesh3d"
           }
          ],
          "parcoords": [
           {
            "line": {
             "colorbar": {
              "outlinewidth": 0,
              "ticks": ""
             }
            },
            "type": "parcoords"
           }
          ],
          "pie": [
           {
            "automargin": true,
            "type": "pie"
           }
          ],
          "scatter": [
           {
            "fillpattern": {
             "fillmode": "overlay",
             "size": 10,
             "solidity": 0.2
            },
            "type": "scatter"
           }
          ],
          "scatter3d": [
           {
            "line": {
             "colorbar": {
              "outlinewidth": 0,
              "ticks": ""
             }
            },
            "marker": {
             "colorbar": {
              "outlinewidth": 0,
              "ticks": ""
             }
            },
            "type": "scatter3d"
           }
          ],
          "scattercarpet": [
           {
            "marker": {
             "colorbar": {
              "outlinewidth": 0,
              "ticks": ""
             }
            },
            "type": "scattercarpet"
           }
          ],
          "scattergeo": [
           {
            "marker": {
             "colorbar": {
              "outlinewidth": 0,
              "ticks": ""
             }
            },
            "type": "scattergeo"
           }
          ],
          "scattergl": [
           {
            "marker": {
             "colorbar": {
              "outlinewidth": 0,
              "ticks": ""
             }
            },
            "type": "scattergl"
           }
          ],
          "scattermapbox": [
           {
            "marker": {
             "colorbar": {
              "outlinewidth": 0,
              "ticks": ""
             }
            },
            "type": "scattermapbox"
           }
          ],
          "scatterpolar": [
           {
            "marker": {
             "colorbar": {
              "outlinewidth": 0,
              "ticks": ""
             }
            },
            "type": "scatterpolar"
           }
          ],
          "scatterpolargl": [
           {
            "marker": {
             "colorbar": {
              "outlinewidth": 0,
              "ticks": ""
             }
            },
            "type": "scatterpolargl"
           }
          ],
          "scatterternary": [
           {
            "marker": {
             "colorbar": {
              "outlinewidth": 0,
              "ticks": ""
             }
            },
            "type": "scatterternary"
           }
          ],
          "surface": [
           {
            "colorbar": {
             "outlinewidth": 0,
             "ticks": ""
            },
            "colorscale": [
             [
              0,
              "#0d0887"
             ],
             [
              0.1111111111111111,
              "#46039f"
             ],
             [
              0.2222222222222222,
              "#7201a8"
             ],
             [
              0.3333333333333333,
              "#9c179e"
             ],
             [
              0.4444444444444444,
              "#bd3786"
             ],
             [
              0.5555555555555556,
              "#d8576b"
             ],
             [
              0.6666666666666666,
              "#ed7953"
             ],
             [
              0.7777777777777778,
              "#fb9f3a"
             ],
             [
              0.8888888888888888,
              "#fdca26"
             ],
             [
              1,
              "#f0f921"
             ]
            ],
            "type": "surface"
           }
          ],
          "table": [
           {
            "cells": {
             "fill": {
              "color": "#EBF0F8"
             },
             "line": {
              "color": "white"
             }
            },
            "header": {
             "fill": {
              "color": "#C8D4E3"
             },
             "line": {
              "color": "white"
             }
            },
            "type": "table"
           }
          ]
         },
         "layout": {
          "annotationdefaults": {
           "arrowcolor": "#2a3f5f",
           "arrowhead": 0,
           "arrowwidth": 1
          },
          "autotypenumbers": "strict",
          "coloraxis": {
           "colorbar": {
            "outlinewidth": 0,
            "ticks": ""
           }
          },
          "colorscale": {
           "diverging": [
            [
             0,
             "#8e0152"
            ],
            [
             0.1,
             "#c51b7d"
            ],
            [
             0.2,
             "#de77ae"
            ],
            [
             0.3,
             "#f1b6da"
            ],
            [
             0.4,
             "#fde0ef"
            ],
            [
             0.5,
             "#f7f7f7"
            ],
            [
             0.6,
             "#e6f5d0"
            ],
            [
             0.7,
             "#b8e186"
            ],
            [
             0.8,
             "#7fbc41"
            ],
            [
             0.9,
             "#4d9221"
            ],
            [
             1,
             "#276419"
            ]
           ],
           "sequential": [
            [
             0,
             "#0d0887"
            ],
            [
             0.1111111111111111,
             "#46039f"
            ],
            [
             0.2222222222222222,
             "#7201a8"
            ],
            [
             0.3333333333333333,
             "#9c179e"
            ],
            [
             0.4444444444444444,
             "#bd3786"
            ],
            [
             0.5555555555555556,
             "#d8576b"
            ],
            [
             0.6666666666666666,
             "#ed7953"
            ],
            [
             0.7777777777777778,
             "#fb9f3a"
            ],
            [
             0.8888888888888888,
             "#fdca26"
            ],
            [
             1,
             "#f0f921"
            ]
           ],
           "sequentialminus": [
            [
             0,
             "#0d0887"
            ],
            [
             0.1111111111111111,
             "#46039f"
            ],
            [
             0.2222222222222222,
             "#7201a8"
            ],
            [
             0.3333333333333333,
             "#9c179e"
            ],
            [
             0.4444444444444444,
             "#bd3786"
            ],
            [
             0.5555555555555556,
             "#d8576b"
            ],
            [
             0.6666666666666666,
             "#ed7953"
            ],
            [
             0.7777777777777778,
             "#fb9f3a"
            ],
            [
             0.8888888888888888,
             "#fdca26"
            ],
            [
             1,
             "#f0f921"
            ]
           ]
          },
          "colorway": [
           "#636efa",
           "#EF553B",
           "#00cc96",
           "#ab63fa",
           "#FFA15A",
           "#19d3f3",
           "#FF6692",
           "#B6E880",
           "#FF97FF",
           "#FECB52"
          ],
          "font": {
           "color": "#2a3f5f"
          },
          "geo": {
           "bgcolor": "white",
           "lakecolor": "white",
           "landcolor": "#E5ECF6",
           "showlakes": true,
           "showland": true,
           "subunitcolor": "white"
          },
          "hoverlabel": {
           "align": "left"
          },
          "hovermode": "closest",
          "mapbox": {
           "style": "light"
          },
          "paper_bgcolor": "white",
          "plot_bgcolor": "#E5ECF6",
          "polar": {
           "angularaxis": {
            "gridcolor": "white",
            "linecolor": "white",
            "ticks": ""
           },
           "bgcolor": "#E5ECF6",
           "radialaxis": {
            "gridcolor": "white",
            "linecolor": "white",
            "ticks": ""
           }
          },
          "scene": {
           "xaxis": {
            "backgroundcolor": "#E5ECF6",
            "gridcolor": "white",
            "gridwidth": 2,
            "linecolor": "white",
            "showbackground": true,
            "ticks": "",
            "zerolinecolor": "white"
           },
           "yaxis": {
            "backgroundcolor": "#E5ECF6",
            "gridcolor": "white",
            "gridwidth": 2,
            "linecolor": "white",
            "showbackground": true,
            "ticks": "",
            "zerolinecolor": "white"
           },
           "zaxis": {
            "backgroundcolor": "#E5ECF6",
            "gridcolor": "white",
            "gridwidth": 2,
            "linecolor": "white",
            "showbackground": true,
            "ticks": "",
            "zerolinecolor": "white"
           }
          },
          "shapedefaults": {
           "line": {
            "color": "#2a3f5f"
           }
          },
          "ternary": {
           "aaxis": {
            "gridcolor": "white",
            "linecolor": "white",
            "ticks": ""
           },
           "baxis": {
            "gridcolor": "white",
            "linecolor": "white",
            "ticks": ""
           },
           "bgcolor": "#E5ECF6",
           "caxis": {
            "gridcolor": "white",
            "linecolor": "white",
            "ticks": ""
           }
          },
          "title": {
           "x": 0.05
          },
          "xaxis": {
           "automargin": true,
           "gridcolor": "white",
           "linecolor": "white",
           "ticks": "",
           "title": {
            "standoff": 15
           },
           "zerolinecolor": "white",
           "zerolinewidth": 2
          },
          "yaxis": {
           "automargin": true,
           "gridcolor": "white",
           "linecolor": "white",
           "ticks": "",
           "title": {
            "standoff": 15
           },
           "zerolinecolor": "white",
           "zerolinewidth": 2
          }
         }
        },
        "title": {
         "text": "Chart: line plot of Time and DelinquencyRate by Geography"
        },
        "xaxis": {
         "anchor": "y",
         "domain": [
          0,
          1
         ],
         "title": {
          "text": "Time"
         }
        },
        "yaxis": {
         "anchor": "x",
         "domain": [
          0,
          1
         ],
         "title": {
          "text": "DelinquencyRate"
         }
        }
       }
      }
     },
     "metadata": {},
     "output_type": "display_data"
    }
   ],
   "source": [
    "plot_dict['scatter'](data_pop_del_mort_df, \n",
    "        x = \"Time\",\n",
    "        y=\"DelinquencyRate\",\n",
    "       color=\"Geography\",\n",
    "       title = \"Chart: line plot of Time and DelinquencyRate by Geography\")"
   ]
  },
  {
   "cell_type": "markdown",
   "metadata": {
    "slideshow": {
     "slide_type": "slide"
    }
   },
   "source": [
    "#### Exercise 1: change the key `scatter` for `line` , `box` and `violin` and run the cell\n",
    "\n",
    "#### Exercise 2: change the `x` variable to be one of `Geography` or `Time`\n",
    "\n",
    "#### Exercise 3: Change the `y` variable to be one of `PopulationSize`, `DelinquencyRate` or `AverageMortgageAmount`"
   ]
  },
  {
   "cell_type": "code",
   "execution_count": 17,
   "metadata": {
    "slideshow": {
     "slide_type": "subslide"
    }
   },
   "outputs": [
    {
     "data": {
      "application/vnd.plotly.v1+json": {
       "config": {
        "plotlyServerURL": "https://plot.ly"
       },
       "data": [
        {
         "alignmentgroup": "True",
         "hovertemplate": "Geography=Newfoundland<br>Time=%{x}<br>DelinquencyRate=%{y}<extra></extra>",
         "legendgroup": "Newfoundland",
         "marker": {
          "color": "#636efa"
         },
         "name": "Newfoundland",
         "notched": false,
         "offsetgroup": "Newfoundland",
         "orientation": "v",
         "showlegend": true,
         "type": "box",
         "x": [
          "2012Q3",
          "2012Q4",
          "2013Q1",
          "2013Q2",
          "2013Q3",
          "2013Q4",
          "2014Q1",
          "2014Q2",
          "2014Q3",
          "2014Q4",
          "2015Q1",
          "2015Q2",
          "2015Q3",
          "2015Q4",
          "2016Q1",
          "2016Q2",
          "2016Q3",
          "2016Q4",
          "2017Q1",
          "2017Q2",
          "2017Q3",
          "2017Q4",
          "2018Q1",
          "2018Q2",
          "2018Q3",
          "2018Q4",
          "2019Q1",
          "2019Q2",
          "2019Q3",
          "2019Q4",
          "2020Q1",
          "2020Q2",
          "2020Q3"
         ],
         "x0": " ",
         "xaxis": "x",
         "y": [
          0.24,
          0.22,
          0.25,
          0.19,
          0.2,
          0.22,
          0.23,
          0.25,
          0.26,
          0.28,
          0.37,
          0.37,
          0.37,
          0.41,
          0.45,
          0.46,
          0.49,
          0.46,
          0.47,
          0.47,
          0.46,
          0.52,
          0.56,
          0.6,
          0.6,
          0.62,
          0.64,
          0.65,
          0.65,
          0.65,
          0.67,
          0.68,
          0.64
         ],
         "y0": " ",
         "yaxis": "y"
        },
        {
         "alignmentgroup": "True",
         "hovertemplate": "Geography=Prince Edward Island<br>Time=%{x}<br>DelinquencyRate=%{y}<extra></extra>",
         "legendgroup": "Prince Edward Island",
         "marker": {
          "color": "#EF553B"
         },
         "name": "Prince Edward Island",
         "notched": false,
         "offsetgroup": "Prince Edward Island",
         "orientation": "v",
         "showlegend": true,
         "type": "box",
         "x": [
          "2012Q3",
          "2012Q4",
          "2013Q1",
          "2013Q2",
          "2013Q3",
          "2013Q4",
          "2014Q1",
          "2014Q2",
          "2014Q3",
          "2014Q4",
          "2015Q1",
          "2015Q2",
          "2015Q3",
          "2015Q4",
          "2016Q1",
          "2016Q2",
          "2016Q3",
          "2016Q4",
          "2017Q1",
          "2017Q2",
          "2017Q3",
          "2017Q4",
          "2018Q1",
          "2018Q2",
          "2018Q3",
          "2018Q4",
          "2019Q1",
          "2019Q2",
          "2019Q3",
          "2019Q4",
          "2020Q1",
          "2020Q2",
          "2020Q3"
         ],
         "x0": " ",
         "xaxis": "x",
         "y": [
          0.57,
          0.5,
          0.55,
          0.47,
          0.56,
          0.58,
          0.6,
          0.6,
          0.56,
          0.57,
          0.68,
          0.62,
          0.63,
          0.67,
          0.7,
          0.7,
          0.67,
          0.6,
          0.66,
          0.55,
          0.54,
          0.44,
          0.5,
          0.45,
          0.43,
          0.39,
          0.39,
          0.38,
          0.34,
          0.32,
          0.25,
          0.26,
          0.27
         ],
         "y0": " ",
         "yaxis": "y"
        },
        {
         "alignmentgroup": "True",
         "hovertemplate": "Geography=Nova Scotia<br>Time=%{x}<br>DelinquencyRate=%{y}<extra></extra>",
         "legendgroup": "Nova Scotia",
         "marker": {
          "color": "#00cc96"
         },
         "name": "Nova Scotia",
         "notched": false,
         "offsetgroup": "Nova Scotia",
         "orientation": "v",
         "showlegend": true,
         "type": "box",
         "x": [
          "2012Q3",
          "2012Q4",
          "2013Q1",
          "2013Q2",
          "2013Q3",
          "2013Q4",
          "2014Q1",
          "2014Q2",
          "2014Q3",
          "2014Q4",
          "2015Q1",
          "2015Q2",
          "2015Q3",
          "2015Q4",
          "2016Q1",
          "2016Q2",
          "2016Q3",
          "2016Q4",
          "2017Q1",
          "2017Q2",
          "2017Q3",
          "2017Q4",
          "2018Q1",
          "2018Q2",
          "2018Q3",
          "2018Q4",
          "2019Q1",
          "2019Q2",
          "2019Q3",
          "2019Q4",
          "2020Q1",
          "2020Q2",
          "2020Q3"
         ],
         "x0": " ",
         "xaxis": "x",
         "y": [
          0.53,
          0.53,
          0.55,
          0.56,
          0.58,
          0.62,
          0.65,
          0.65,
          0.67,
          0.68,
          0.7,
          0.67,
          0.66,
          0.68,
          0.7,
          0.72,
          0.76,
          0.75,
          0.7,
          0.64,
          0.6,
          0.58,
          0.59,
          0.54,
          0.52,
          0.56,
          0.54,
          0.52,
          0.5,
          0.5,
          0.46,
          0.47,
          0.45
         ],
         "y0": " ",
         "yaxis": "y"
        },
        {
         "alignmentgroup": "True",
         "hovertemplate": "Geography=New Brunswick<br>Time=%{x}<br>DelinquencyRate=%{y}<extra></extra>",
         "legendgroup": "New Brunswick",
         "marker": {
          "color": "#ab63fa"
         },
         "name": "New Brunswick",
         "notched": false,
         "offsetgroup": "New Brunswick",
         "orientation": "v",
         "showlegend": true,
         "type": "box",
         "x": [
          "2012Q3",
          "2012Q4",
          "2013Q1",
          "2013Q2",
          "2013Q3",
          "2013Q4",
          "2014Q1",
          "2014Q2",
          "2014Q3",
          "2014Q4",
          "2015Q1",
          "2015Q2",
          "2015Q3",
          "2015Q4",
          "2016Q1",
          "2016Q2",
          "2016Q3",
          "2016Q4",
          "2017Q1",
          "2017Q2",
          "2017Q3",
          "2017Q4",
          "2018Q1",
          "2018Q2",
          "2018Q3",
          "2018Q4",
          "2019Q1",
          "2019Q2",
          "2019Q3",
          "2019Q4",
          "2020Q1",
          "2020Q2",
          "2020Q3"
         ],
         "x0": " ",
         "xaxis": "x",
         "y": [
          0.63,
          0.63,
          0.65,
          0.6,
          0.61,
          0.68,
          0.72,
          0.67,
          0.72,
          0.72,
          0.79,
          0.8,
          0.81,
          0.79,
          0.82,
          0.78,
          0.84,
          0.79,
          0.78,
          0.73,
          0.71,
          0.66,
          0.65,
          0.59,
          0.58,
          0.62,
          0.63,
          0.6,
          0.57,
          0.57,
          0.57,
          0.54,
          0.52
         ],
         "y0": " ",
         "yaxis": "y"
        },
        {
         "alignmentgroup": "True",
         "hovertemplate": "Geography=Québec<br>Time=%{x}<br>DelinquencyRate=%{y}<extra></extra>",
         "legendgroup": "Québec",
         "marker": {
          "color": "#FFA15A"
         },
         "name": "Québec",
         "notched": false,
         "offsetgroup": "Québec",
         "orientation": "v",
         "showlegend": true,
         "type": "box",
         "x": [
          "2012Q3",
          "2012Q4",
          "2013Q1",
          "2013Q2",
          "2013Q3",
          "2013Q4",
          "2014Q1",
          "2014Q2",
          "2014Q3",
          "2014Q4",
          "2015Q1",
          "2015Q2",
          "2015Q3",
          "2015Q4",
          "2016Q1",
          "2016Q2",
          "2016Q3",
          "2016Q4",
          "2017Q1",
          "2017Q2",
          "2017Q3",
          "2017Q4",
          "2018Q1",
          "2018Q2",
          "2018Q3",
          "2018Q4",
          "2019Q1",
          "2019Q2",
          "2019Q3",
          "2019Q4",
          "2020Q1",
          "2020Q2",
          "2020Q3"
         ],
         "x0": " ",
         "xaxis": "x",
         "y": [
          0.33,
          0.33,
          0.35,
          0.34,
          0.33,
          0.35,
          0.37,
          0.36,
          0.37,
          0.39,
          0.42,
          0.41,
          0.41,
          0.42,
          0.44,
          0.43,
          0.42,
          0.4,
          0.41,
          0.4,
          0.37,
          0.34,
          0.34,
          0.35,
          0.35,
          0.38,
          0.38,
          0.37,
          0.37,
          0.36,
          0.36,
          0.34,
          0.36
         ],
         "y0": " ",
         "yaxis": "y"
        },
        {
         "alignmentgroup": "True",
         "hovertemplate": "Geography=Ontario<br>Time=%{x}<br>DelinquencyRate=%{y}<extra></extra>",
         "legendgroup": "Ontario",
         "marker": {
          "color": "#19d3f3"
         },
         "name": "Ontario",
         "notched": false,
         "offsetgroup": "Ontario",
         "orientation": "v",
         "showlegend": true,
         "type": "box",
         "x": [
          "2012Q3",
          "2012Q4",
          "2013Q1",
          "2013Q2",
          "2013Q3",
          "2013Q4",
          "2014Q1",
          "2014Q2",
          "2014Q3",
          "2014Q4",
          "2015Q1",
          "2015Q2",
          "2015Q3",
          "2015Q4",
          "2016Q1",
          "2016Q2",
          "2016Q3",
          "2016Q4",
          "2017Q1",
          "2017Q2",
          "2017Q3",
          "2017Q4",
          "2018Q1",
          "2018Q2",
          "2018Q3",
          "2018Q4",
          "2019Q1",
          "2019Q2",
          "2019Q3",
          "2019Q4",
          "2020Q1",
          "2020Q2",
          "2020Q3"
         ],
         "x0": " ",
         "xaxis": "x",
         "y": [
          0.31,
          0.31,
          0.31,
          0.29,
          0.28,
          0.28,
          0.29,
          0.27,
          0.27,
          0.26,
          0.27,
          0.25,
          0.24,
          0.23,
          0.24,
          0.22,
          0.2,
          0.19,
          0.18,
          0.16,
          0.16,
          0.15,
          0.15,
          0.14,
          0.13,
          0.14,
          0.14,
          0.14,
          0.14,
          0.14,
          0.14,
          0.14,
          0.14
         ],
         "y0": " ",
         "yaxis": "y"
        },
        {
         "alignmentgroup": "True",
         "hovertemplate": "Geography=Manitoba<br>Time=%{x}<br>DelinquencyRate=%{y}<extra></extra>",
         "legendgroup": "Manitoba",
         "marker": {
          "color": "#FF6692"
         },
         "name": "Manitoba",
         "notched": false,
         "offsetgroup": "Manitoba",
         "orientation": "v",
         "showlegend": true,
         "type": "box",
         "x": [
          "2012Q3",
          "2012Q4",
          "2013Q1",
          "2013Q2",
          "2013Q3",
          "2013Q4",
          "2014Q1",
          "2014Q2",
          "2014Q3",
          "2014Q4",
          "2015Q1",
          "2015Q2",
          "2015Q3",
          "2015Q4",
          "2016Q1",
          "2016Q2",
          "2016Q3",
          "2016Q4",
          "2017Q1",
          "2017Q2",
          "2017Q3",
          "2017Q4",
          "2018Q1",
          "2018Q2",
          "2018Q3",
          "2018Q4",
          "2019Q1",
          "2019Q2",
          "2019Q3",
          "2019Q4",
          "2020Q1",
          "2020Q2",
          "2020Q3"
         ],
         "x0": " ",
         "xaxis": "x",
         "y": [
          0.25,
          0.27,
          0.28,
          0.26,
          0.28,
          0.28,
          0.28,
          0.25,
          0.24,
          0.27,
          0.31,
          0.3,
          0.29,
          0.33,
          0.34,
          0.35,
          0.34,
          0.35,
          0.36,
          0.35,
          0.33,
          0.3,
          0.3,
          0.31,
          0.32,
          0.35,
          0.35,
          0.35,
          0.34,
          0.36,
          0.37,
          0.38,
          0.35
         ],
         "y0": " ",
         "yaxis": "y"
        },
        {
         "alignmentgroup": "True",
         "hovertemplate": "Geography=Saskatchewan<br>Time=%{x}<br>DelinquencyRate=%{y}<extra></extra>",
         "legendgroup": "Saskatchewan",
         "marker": {
          "color": "#B6E880"
         },
         "name": "Saskatchewan",
         "notched": false,
         "offsetgroup": "Saskatchewan",
         "orientation": "v",
         "showlegend": true,
         "type": "box",
         "x": [
          "2012Q3",
          "2012Q4",
          "2013Q1",
          "2013Q2",
          "2013Q3",
          "2013Q4",
          "2014Q1",
          "2014Q2",
          "2014Q3",
          "2014Q4",
          "2015Q1",
          "2015Q2",
          "2015Q3",
          "2015Q4",
          "2016Q1",
          "2016Q2",
          "2016Q3",
          "2016Q4",
          "2017Q1",
          "2017Q2",
          "2017Q3",
          "2017Q4",
          "2018Q1",
          "2018Q2",
          "2018Q3",
          "2018Q4",
          "2019Q1",
          "2019Q2",
          "2019Q3",
          "2019Q4",
          "2020Q1",
          "2020Q2",
          "2020Q3"
         ],
         "x0": " ",
         "xaxis": "x",
         "y": [
          0.37,
          0.37,
          0.36,
          0.34,
          0.3,
          0.32,
          0.35,
          0.31,
          0.32,
          0.36,
          0.41,
          0.43,
          0.45,
          0.49,
          0.54,
          0.57,
          0.61,
          0.62,
          0.62,
          0.66,
          0.65,
          0.66,
          0.66,
          0.67,
          0.7,
          0.72,
          0.74,
          0.75,
          0.73,
          0.73,
          0.75,
          0.76,
          0.72
         ],
         "y0": " ",
         "yaxis": "y"
        },
        {
         "alignmentgroup": "True",
         "hovertemplate": "Geography=Alberta<br>Time=%{x}<br>DelinquencyRate=%{y}<extra></extra>",
         "legendgroup": "Alberta",
         "marker": {
          "color": "#FF97FF"
         },
         "name": "Alberta",
         "notched": false,
         "offsetgroup": "Alberta",
         "orientation": "v",
         "showlegend": true,
         "type": "box",
         "x": [
          "2012Q3",
          "2012Q4",
          "2013Q1",
          "2013Q2",
          "2013Q3",
          "2013Q4",
          "2014Q1",
          "2014Q2",
          "2014Q3",
          "2014Q4",
          "2015Q1",
          "2015Q2",
          "2015Q3",
          "2015Q4",
          "2016Q1",
          "2016Q2",
          "2016Q3",
          "2016Q4",
          "2017Q1",
          "2017Q2",
          "2017Q3",
          "2017Q4",
          "2018Q1",
          "2018Q2",
          "2018Q3",
          "2018Q4",
          "2019Q1",
          "2019Q2",
          "2019Q3",
          "2019Q4",
          "2020Q1",
          "2020Q2",
          "2020Q3"
         ],
         "x0": " ",
         "xaxis": "x",
         "y": [
          0.6,
          0.55,
          0.52,
          0.47,
          0.45,
          0.43,
          0.42,
          0.37,
          0.34,
          0.32,
          0.32,
          0.33,
          0.35,
          0.36,
          0.41,
          0.45,
          0.53,
          0.53,
          0.54,
          0.52,
          0.51,
          0.5,
          0.5,
          0.46,
          0.47,
          0.5,
          0.51,
          0.53,
          0.51,
          0.5,
          0.52,
          0.52,
          0.5
         ],
         "y0": " ",
         "yaxis": "y"
        },
        {
         "alignmentgroup": "True",
         "hovertemplate": "Geography=British Columbia<br>Time=%{x}<br>DelinquencyRate=%{y}<extra></extra>",
         "legendgroup": "British Columbia",
         "marker": {
          "color": "#FECB52"
         },
         "name": "British Columbia",
         "notched": false,
         "offsetgroup": "British Columbia",
         "orientation": "v",
         "showlegend": true,
         "type": "box",
         "x": [
          "2012Q3",
          "2012Q4",
          "2013Q1",
          "2013Q2",
          "2013Q3",
          "2013Q4",
          "2014Q1",
          "2014Q2",
          "2014Q3",
          "2014Q4",
          "2015Q1",
          "2015Q2",
          "2015Q3",
          "2015Q4",
          "2016Q1",
          "2016Q2",
          "2016Q3",
          "2016Q4",
          "2017Q1",
          "2017Q2",
          "2017Q3",
          "2017Q4",
          "2018Q1",
          "2018Q2",
          "2018Q3",
          "2018Q4",
          "2019Q1",
          "2019Q2",
          "2019Q3",
          "2019Q4",
          "2020Q1",
          "2020Q2",
          "2020Q3"
         ],
         "x0": " ",
         "xaxis": "x",
         "y": [
          0.42,
          0.42,
          0.43,
          0.43,
          0.42,
          0.43,
          0.43,
          0.4,
          0.4,
          0.4,
          0.4,
          0.38,
          0.34,
          0.32,
          0.32,
          0.29,
          0.26,
          0.25,
          0.23,
          0.2,
          0.18,
          0.18,
          0.17,
          0.17,
          0.16,
          0.17,
          0.17,
          0.17,
          0.16,
          0.16,
          0.17,
          0.19,
          0.19
         ],
         "y0": " ",
         "yaxis": "y"
        }
       ],
       "layout": {
        "boxmode": "group",
        "legend": {
         "title": {
          "text": "Geography"
         },
         "tracegroupgap": 0
        },
        "template": {
         "data": {
          "bar": [
           {
            "error_x": {
             "color": "#2a3f5f"
            },
            "error_y": {
             "color": "#2a3f5f"
            },
            "marker": {
             "line": {
              "color": "#E5ECF6",
              "width": 0.5
             },
             "pattern": {
              "fillmode": "overlay",
              "size": 10,
              "solidity": 0.2
             }
            },
            "type": "bar"
           }
          ],
          "barpolar": [
           {
            "marker": {
             "line": {
              "color": "#E5ECF6",
              "width": 0.5
             },
             "pattern": {
              "fillmode": "overlay",
              "size": 10,
              "solidity": 0.2
             }
            },
            "type": "barpolar"
           }
          ],
          "carpet": [
           {
            "aaxis": {
             "endlinecolor": "#2a3f5f",
             "gridcolor": "white",
             "linecolor": "white",
             "minorgridcolor": "white",
             "startlinecolor": "#2a3f5f"
            },
            "baxis": {
             "endlinecolor": "#2a3f5f",
             "gridcolor": "white",
             "linecolor": "white",
             "minorgridcolor": "white",
             "startlinecolor": "#2a3f5f"
            },
            "type": "carpet"
           }
          ],
          "choropleth": [
           {
            "colorbar": {
             "outlinewidth": 0,
             "ticks": ""
            },
            "type": "choropleth"
           }
          ],
          "contour": [
           {
            "colorbar": {
             "outlinewidth": 0,
             "ticks": ""
            },
            "colorscale": [
             [
              0,
              "#0d0887"
             ],
             [
              0.1111111111111111,
              "#46039f"
             ],
             [
              0.2222222222222222,
              "#7201a8"
             ],
             [
              0.3333333333333333,
              "#9c179e"
             ],
             [
              0.4444444444444444,
              "#bd3786"
             ],
             [
              0.5555555555555556,
              "#d8576b"
             ],
             [
              0.6666666666666666,
              "#ed7953"
             ],
             [
              0.7777777777777778,
              "#fb9f3a"
             ],
             [
              0.8888888888888888,
              "#fdca26"
             ],
             [
              1,
              "#f0f921"
             ]
            ],
            "type": "contour"
           }
          ],
          "contourcarpet": [
           {
            "colorbar": {
             "outlinewidth": 0,
             "ticks": ""
            },
            "type": "contourcarpet"
           }
          ],
          "heatmap": [
           {
            "colorbar": {
             "outlinewidth": 0,
             "ticks": ""
            },
            "colorscale": [
             [
              0,
              "#0d0887"
             ],
             [
              0.1111111111111111,
              "#46039f"
             ],
             [
              0.2222222222222222,
              "#7201a8"
             ],
             [
              0.3333333333333333,
              "#9c179e"
             ],
             [
              0.4444444444444444,
              "#bd3786"
             ],
             [
              0.5555555555555556,
              "#d8576b"
             ],
             [
              0.6666666666666666,
              "#ed7953"
             ],
             [
              0.7777777777777778,
              "#fb9f3a"
             ],
             [
              0.8888888888888888,
              "#fdca26"
             ],
             [
              1,
              "#f0f921"
             ]
            ],
            "type": "heatmap"
           }
          ],
          "heatmapgl": [
           {
            "colorbar": {
             "outlinewidth": 0,
             "ticks": ""
            },
            "colorscale": [
             [
              0,
              "#0d0887"
             ],
             [
              0.1111111111111111,
              "#46039f"
             ],
             [
              0.2222222222222222,
              "#7201a8"
             ],
             [
              0.3333333333333333,
              "#9c179e"
             ],
             [
              0.4444444444444444,
              "#bd3786"
             ],
             [
              0.5555555555555556,
              "#d8576b"
             ],
             [
              0.6666666666666666,
              "#ed7953"
             ],
             [
              0.7777777777777778,
              "#fb9f3a"
             ],
             [
              0.8888888888888888,
              "#fdca26"
             ],
             [
              1,
              "#f0f921"
             ]
            ],
            "type": "heatmapgl"
           }
          ],
          "histogram": [
           {
            "marker": {
             "pattern": {
              "fillmode": "overlay",
              "size": 10,
              "solidity": 0.2
             }
            },
            "type": "histogram"
           }
          ],
          "histogram2d": [
           {
            "colorbar": {
             "outlinewidth": 0,
             "ticks": ""
            },
            "colorscale": [
             [
              0,
              "#0d0887"
             ],
             [
              0.1111111111111111,
              "#46039f"
             ],
             [
              0.2222222222222222,
              "#7201a8"
             ],
             [
              0.3333333333333333,
              "#9c179e"
             ],
             [
              0.4444444444444444,
              "#bd3786"
             ],
             [
              0.5555555555555556,
              "#d8576b"
             ],
             [
              0.6666666666666666,
              "#ed7953"
             ],
             [
              0.7777777777777778,
              "#fb9f3a"
             ],
             [
              0.8888888888888888,
              "#fdca26"
             ],
             [
              1,
              "#f0f921"
             ]
            ],
            "type": "histogram2d"
           }
          ],
          "histogram2dcontour": [
           {
            "colorbar": {
             "outlinewidth": 0,
             "ticks": ""
            },
            "colorscale": [
             [
              0,
              "#0d0887"
             ],
             [
              0.1111111111111111,
              "#46039f"
             ],
             [
              0.2222222222222222,
              "#7201a8"
             ],
             [
              0.3333333333333333,
              "#9c179e"
             ],
             [
              0.4444444444444444,
              "#bd3786"
             ],
             [
              0.5555555555555556,
              "#d8576b"
             ],
             [
              0.6666666666666666,
              "#ed7953"
             ],
             [
              0.7777777777777778,
              "#fb9f3a"
             ],
             [
              0.8888888888888888,
              "#fdca26"
             ],
             [
              1,
              "#f0f921"
             ]
            ],
            "type": "histogram2dcontour"
           }
          ],
          "mesh3d": [
           {
            "colorbar": {
             "outlinewidth": 0,
             "ticks": ""
            },
            "type": "mesh3d"
           }
          ],
          "parcoords": [
           {
            "line": {
             "colorbar": {
              "outlinewidth": 0,
              "ticks": ""
             }
            },
            "type": "parcoords"
           }
          ],
          "pie": [
           {
            "automargin": true,
            "type": "pie"
           }
          ],
          "scatter": [
           {
            "fillpattern": {
             "fillmode": "overlay",
             "size": 10,
             "solidity": 0.2
            },
            "type": "scatter"
           }
          ],
          "scatter3d": [
           {
            "line": {
             "colorbar": {
              "outlinewidth": 0,
              "ticks": ""
             }
            },
            "marker": {
             "colorbar": {
              "outlinewidth": 0,
              "ticks": ""
             }
            },
            "type": "scatter3d"
           }
          ],
          "scattercarpet": [
           {
            "marker": {
             "colorbar": {
              "outlinewidth": 0,
              "ticks": ""
             }
            },
            "type": "scattercarpet"
           }
          ],
          "scattergeo": [
           {
            "marker": {
             "colorbar": {
              "outlinewidth": 0,
              "ticks": ""
             }
            },
            "type": "scattergeo"
           }
          ],
          "scattergl": [
           {
            "marker": {
             "colorbar": {
              "outlinewidth": 0,
              "ticks": ""
             }
            },
            "type": "scattergl"
           }
          ],
          "scattermapbox": [
           {
            "marker": {
             "colorbar": {
              "outlinewidth": 0,
              "ticks": ""
             }
            },
            "type": "scattermapbox"
           }
          ],
          "scatterpolar": [
           {
            "marker": {
             "colorbar": {
              "outlinewidth": 0,
              "ticks": ""
             }
            },
            "type": "scatterpolar"
           }
          ],
          "scatterpolargl": [
           {
            "marker": {
             "colorbar": {
              "outlinewidth": 0,
              "ticks": ""
             }
            },
            "type": "scatterpolargl"
           }
          ],
          "scatterternary": [
           {
            "marker": {
             "colorbar": {
              "outlinewidth": 0,
              "ticks": ""
             }
            },
            "type": "scatterternary"
           }
          ],
          "surface": [
           {
            "colorbar": {
             "outlinewidth": 0,
             "ticks": ""
            },
            "colorscale": [
             [
              0,
              "#0d0887"
             ],
             [
              0.1111111111111111,
              "#46039f"
             ],
             [
              0.2222222222222222,
              "#7201a8"
             ],
             [
              0.3333333333333333,
              "#9c179e"
             ],
             [
              0.4444444444444444,
              "#bd3786"
             ],
             [
              0.5555555555555556,
              "#d8576b"
             ],
             [
              0.6666666666666666,
              "#ed7953"
             ],
             [
              0.7777777777777778,
              "#fb9f3a"
             ],
             [
              0.8888888888888888,
              "#fdca26"
             ],
             [
              1,
              "#f0f921"
             ]
            ],
            "type": "surface"
           }
          ],
          "table": [
           {
            "cells": {
             "fill": {
              "color": "#EBF0F8"
             },
             "line": {
              "color": "white"
             }
            },
            "header": {
             "fill": {
              "color": "#C8D4E3"
             },
             "line": {
              "color": "white"
             }
            },
            "type": "table"
           }
          ]
         },
         "layout": {
          "annotationdefaults": {
           "arrowcolor": "#2a3f5f",
           "arrowhead": 0,
           "arrowwidth": 1
          },
          "autotypenumbers": "strict",
          "coloraxis": {
           "colorbar": {
            "outlinewidth": 0,
            "ticks": ""
           }
          },
          "colorscale": {
           "diverging": [
            [
             0,
             "#8e0152"
            ],
            [
             0.1,
             "#c51b7d"
            ],
            [
             0.2,
             "#de77ae"
            ],
            [
             0.3,
             "#f1b6da"
            ],
            [
             0.4,
             "#fde0ef"
            ],
            [
             0.5,
             "#f7f7f7"
            ],
            [
             0.6,
             "#e6f5d0"
            ],
            [
             0.7,
             "#b8e186"
            ],
            [
             0.8,
             "#7fbc41"
            ],
            [
             0.9,
             "#4d9221"
            ],
            [
             1,
             "#276419"
            ]
           ],
           "sequential": [
            [
             0,
             "#0d0887"
            ],
            [
             0.1111111111111111,
             "#46039f"
            ],
            [
             0.2222222222222222,
             "#7201a8"
            ],
            [
             0.3333333333333333,
             "#9c179e"
            ],
            [
             0.4444444444444444,
             "#bd3786"
            ],
            [
             0.5555555555555556,
             "#d8576b"
            ],
            [
             0.6666666666666666,
             "#ed7953"
            ],
            [
             0.7777777777777778,
             "#fb9f3a"
            ],
            [
             0.8888888888888888,
             "#fdca26"
            ],
            [
             1,
             "#f0f921"
            ]
           ],
           "sequentialminus": [
            [
             0,
             "#0d0887"
            ],
            [
             0.1111111111111111,
             "#46039f"
            ],
            [
             0.2222222222222222,
             "#7201a8"
            ],
            [
             0.3333333333333333,
             "#9c179e"
            ],
            [
             0.4444444444444444,
             "#bd3786"
            ],
            [
             0.5555555555555556,
             "#d8576b"
            ],
            [
             0.6666666666666666,
             "#ed7953"
            ],
            [
             0.7777777777777778,
             "#fb9f3a"
            ],
            [
             0.8888888888888888,
             "#fdca26"
            ],
            [
             1,
             "#f0f921"
            ]
           ]
          },
          "colorway": [
           "#636efa",
           "#EF553B",
           "#00cc96",
           "#ab63fa",
           "#FFA15A",
           "#19d3f3",
           "#FF6692",
           "#B6E880",
           "#FF97FF",
           "#FECB52"
          ],
          "font": {
           "color": "#2a3f5f"
          },
          "geo": {
           "bgcolor": "white",
           "lakecolor": "white",
           "landcolor": "#E5ECF6",
           "showlakes": true,
           "showland": true,
           "subunitcolor": "white"
          },
          "hoverlabel": {
           "align": "left"
          },
          "hovermode": "closest",
          "mapbox": {
           "style": "light"
          },
          "paper_bgcolor": "white",
          "plot_bgcolor": "#E5ECF6",
          "polar": {
           "angularaxis": {
            "gridcolor": "white",
            "linecolor": "white",
            "ticks": ""
           },
           "bgcolor": "#E5ECF6",
           "radialaxis": {
            "gridcolor": "white",
            "linecolor": "white",
            "ticks": ""
           }
          },
          "scene": {
           "xaxis": {
            "backgroundcolor": "#E5ECF6",
            "gridcolor": "white",
            "gridwidth": 2,
            "linecolor": "white",
            "showbackground": true,
            "ticks": "",
            "zerolinecolor": "white"
           },
           "yaxis": {
            "backgroundcolor": "#E5ECF6",
            "gridcolor": "white",
            "gridwidth": 2,
            "linecolor": "white",
            "showbackground": true,
            "ticks": "",
            "zerolinecolor": "white"
           },
           "zaxis": {
            "backgroundcolor": "#E5ECF6",
            "gridcolor": "white",
            "gridwidth": 2,
            "linecolor": "white",
            "showbackground": true,
            "ticks": "",
            "zerolinecolor": "white"
           }
          },
          "shapedefaults": {
           "line": {
            "color": "#2a3f5f"
           }
          },
          "ternary": {
           "aaxis": {
            "gridcolor": "white",
            "linecolor": "white",
            "ticks": ""
           },
           "baxis": {
            "gridcolor": "white",
            "linecolor": "white",
            "ticks": ""
           },
           "bgcolor": "#E5ECF6",
           "caxis": {
            "gridcolor": "white",
            "linecolor": "white",
            "ticks": ""
           }
          },
          "title": {
           "x": 0.05
          },
          "xaxis": {
           "automargin": true,
           "gridcolor": "white",
           "linecolor": "white",
           "ticks": "",
           "title": {
            "standoff": 15
           },
           "zerolinecolor": "white",
           "zerolinewidth": 2
          },
          "yaxis": {
           "automargin": true,
           "gridcolor": "white",
           "linecolor": "white",
           "ticks": "",
           "title": {
            "standoff": 15
           },
           "zerolinecolor": "white",
           "zerolinewidth": 2
          }
         }
        },
        "title": {
         "text": "Playing with several kinds of charts"
        },
        "xaxis": {
         "anchor": "y",
         "domain": [
          0,
          1
         ],
         "title": {
          "text": "Time"
         }
        },
        "yaxis": {
         "anchor": "x",
         "domain": [
          0,
          1
         ],
         "title": {
          "text": "DelinquencyRate"
         }
        }
       }
      }
     },
     "metadata": {},
     "output_type": "display_data"
    }
   ],
   "source": [
    "plot_dict['box'](data_pop_del_mort_df, \n",
    "        x = \"Time\",\n",
    "        y=\"DelinquencyRate\",\n",
    "       color=\"Geography\",\n",
    "       title = \"Playing with several kinds of charts\")"
   ]
  },
  {
   "cell_type": "markdown",
   "metadata": {
    "noteable": {
     "cell_type": "markdown",
     "transaction_ids": {
      "source": "279cc34d-be0b-4846-bd9a-a0eb60831f2a"
     }
    },
    "nteract": {
     "transient": {
      "deleting": false
     }
    },
    "slideshow": {
     "slide_type": "slide"
    }
   },
   "source": [
    "## Refactoring code into functions\n",
    "\n",
    "-------------------------------------------------------------------------------------------------------------------------------\n",
    "\n",
    "\n",
    "In the next section we will refactor our code to ease reproducibility and also to ensure our Dash app is cleaner. \n",
    "\n",
    "We can then put our function dictionary into a Python function. "
   ]
  },
  {
   "cell_type": "code",
   "execution_count": 18,
   "metadata": {
    "execution": {
     "iopub.execute_input": "2021-09-08T01:52:42.307Z",
     "iopub.status.busy": "2021-09-08T01:52:42.256Z",
     "iopub.status.idle": "2021-09-08T01:52:42.352Z",
     "shell.execute_reply": "2021-09-08T01:52:42.489Z"
    },
    "jupyter": {
     "outputs_hidden": false,
     "source_hidden": false
    },
    "noteable": {
     "cell_type": "python",
     "transaction_ids": {
      "source": "997df682-f0a1-4204-b7a1-6e3decde5d4e"
     }
    },
    "nteract": {
     "transient": {
      "deleting": false
     }
    },
    "slideshow": {
     "slide_type": "slide"
    }
   },
   "outputs": [],
   "source": [
    "def graph_region(region_df, graph_type: str, dimension1: str, dimension2: str):\n",
    "    \"\"\"\n",
    "    Parameters\n",
    "    ----------\n",
    "        region_df: (dataframe object) reshaped data frame object with mortage, delinquency and population data\n",
    "        graph_type: (string) \"box\", \"violin\", \"scatter\", \"line\"\n",
    "        dimension1: (str) one of 'Time' or 'Geography'\n",
    "        dimension2: (str) one of 'AverageMortgageAmount', 'AverageMortgageAmount' or 'PopulationSize'\n",
    "        \n",
    "    Returns:\n",
    "    --------\n",
    "        Plotly figure \n",
    "    \"\"\"\n",
    "    \n",
    "    plot_dict = {'box': px.box,'violin': px.violin, 'scatter': px.scatter, 'line':px.line}\n",
    "        \n",
    "    try:\n",
    "        # Initialize function\n",
    "        fig = plot_dict[graph_type](region_df, \n",
    "                                    x=dimension1, \n",
    "                                    y=dimension2, \n",
    "                                    color = \"Geography\",\n",
    "                                   hover_name = \"Time\")\n",
    "        # Format figure \n",
    "        title_string = f'Chart: {graph_type} plot of {dimension1} and {dimension2} by Geography'\n",
    "        fig.update_layout(title = title_string)\n",
    "        fig.update_xaxes(tickangle=-45)\n",
    "        return fig\n",
    "    \n",
    "    except KeyError:\n",
    "        print(\"Key not found. Make sure that 'graph_type' is in ['box','violin', 'scatter', 'line']\")\n",
    "    except ValueError:\n",
    "        print(\"Dimension is not valid. dimension1 is one of 'Time' or 'Geography'\")\n",
    "        print(\"dimension2 is one of 'AverageMortgageAmount', 'DelinquencyRate', 'PopulationSize'\")"
   ]
  },
  {
   "cell_type": "code",
   "execution_count": 22,
   "metadata": {
    "execution": {
     "iopub.execute_input": "2021-09-08T01:52:46.381Z",
     "iopub.status.busy": "2021-09-08T01:52:46.306Z",
     "iopub.status.idle": "2021-09-08T01:52:46.659Z",
     "shell.execute_reply": "2021-09-08T01:52:46.706Z"
    },
    "jupyter": {
     "outputs_hidden": false,
     "source_hidden": false
    },
    "noteable": {
     "cell_type": "code",
     "transaction_ids": {
      "source": "23016612-ce30-461e-b3fe-e48b2059cc90"
     }
    },
    "nteract": {
     "transient": {
      "deleting": false
     }
    },
    "slideshow": {
     "slide_type": "subslide"
    }
   },
   "outputs": [
    {
     "data": {
      "application/vnd.plotly.v1+json": {
       "config": {
        "plotlyServerURL": "https://plot.ly"
       },
       "data": [
        {
         "hovertemplate": "<b>%{hovertext}</b><br><br>Geography=Newfoundland<br>Time=%{x}<br>AverageMortgageAmount=%{y}<extra></extra>",
         "hovertext": [
          "2012Q3",
          "2012Q4",
          "2013Q1",
          "2013Q2",
          "2013Q3",
          "2013Q4",
          "2014Q1",
          "2014Q2",
          "2014Q3",
          "2014Q4",
          "2015Q1",
          "2015Q2",
          "2015Q3",
          "2015Q4",
          "2016Q1",
          "2016Q2",
          "2016Q3",
          "2016Q4",
          "2017Q1",
          "2017Q2",
          "2017Q3",
          "2017Q4",
          "2018Q1",
          "2018Q2",
          "2018Q3",
          "2018Q4",
          "2019Q1",
          "2019Q2",
          "2019Q3",
          "2019Q4",
          "2020Q1",
          "2020Q2",
          "2020Q3"
         ],
         "legendgroup": "Newfoundland",
         "line": {
          "color": "#636efa",
          "dash": "solid"
         },
         "marker": {
          "symbol": "circle"
         },
         "mode": "lines",
         "name": "Newfoundland",
         "orientation": "v",
         "showlegend": true,
         "type": "scatter",
         "x": [
          "2012Q3",
          "2012Q4",
          "2013Q1",
          "2013Q2",
          "2013Q3",
          "2013Q4",
          "2014Q1",
          "2014Q2",
          "2014Q3",
          "2014Q4",
          "2015Q1",
          "2015Q2",
          "2015Q3",
          "2015Q4",
          "2016Q1",
          "2016Q2",
          "2016Q3",
          "2016Q4",
          "2017Q1",
          "2017Q2",
          "2017Q3",
          "2017Q4",
          "2018Q1",
          "2018Q2",
          "2018Q3",
          "2018Q4",
          "2019Q1",
          "2019Q2",
          "2019Q3",
          "2019Q4",
          "2020Q1",
          "2020Q2",
          "2020Q3"
         ],
         "xaxis": "x",
         "y": [
          188732,
          185794,
          189098,
          181331,
          191818,
          193100,
          195479,
          192856,
          199560,
          200310,
          197406,
          193956,
          199758,
          202487,
          196798,
          196806,
          198265,
          197794,
          192057,
          191412,
          200378,
          193619,
          196431,
          192252,
          192106,
          188614,
          185276,
          190582,
          194536,
          193870,
          186268,
          187431,
          196100
         ],
         "yaxis": "y"
        },
        {
         "hovertemplate": "<b>%{hovertext}</b><br><br>Geography=Prince Edward Island<br>Time=%{x}<br>AverageMortgageAmount=%{y}<extra></extra>",
         "hovertext": [
          "2012Q3",
          "2012Q4",
          "2013Q1",
          "2013Q2",
          "2013Q3",
          "2013Q4",
          "2014Q1",
          "2014Q2",
          "2014Q3",
          "2014Q4",
          "2015Q1",
          "2015Q2",
          "2015Q3",
          "2015Q4",
          "2016Q1",
          "2016Q2",
          "2016Q3",
          "2016Q4",
          "2017Q1",
          "2017Q2",
          "2017Q3",
          "2017Q4",
          "2018Q1",
          "2018Q2",
          "2018Q3",
          "2018Q4",
          "2019Q1",
          "2019Q2",
          "2019Q3",
          "2019Q4",
          "2020Q1",
          "2020Q2",
          "2020Q3"
         ],
         "legendgroup": "Prince Edward Island",
         "line": {
          "color": "#EF553B",
          "dash": "solid"
         },
         "marker": {
          "symbol": "circle"
         },
         "mode": "lines",
         "name": "Prince Edward Island",
         "orientation": "v",
         "showlegend": true,
         "type": "scatter",
         "x": [
          "2012Q3",
          "2012Q4",
          "2013Q1",
          "2013Q2",
          "2013Q3",
          "2013Q4",
          "2014Q1",
          "2014Q2",
          "2014Q3",
          "2014Q4",
          "2015Q1",
          "2015Q2",
          "2015Q3",
          "2015Q4",
          "2016Q1",
          "2016Q2",
          "2016Q3",
          "2016Q4",
          "2017Q1",
          "2017Q2",
          "2017Q3",
          "2017Q4",
          "2018Q1",
          "2018Q2",
          "2018Q3",
          "2018Q4",
          "2019Q1",
          "2019Q2",
          "2019Q3",
          "2019Q4",
          "2020Q1",
          "2020Q2",
          "2020Q3"
         ],
         "xaxis": "x",
         "y": [
          140279,
          138415,
          137162,
          126763,
          139506,
          141453,
          141141,
          137427,
          143320,
          141232,
          146885,
          146818,
          150403,
          155926,
          157322,
          150732,
          169651,
          155799,
          175124,
          174901,
          176919,
          175523,
          179179,
          182114,
          181967,
          178140,
          181172,
          181358,
          190715,
          185934,
          193439,
          189309,
          204415
         ],
         "yaxis": "y"
        },
        {
         "hovertemplate": "<b>%{hovertext}</b><br><br>Geography=Nova Scotia<br>Time=%{x}<br>AverageMortgageAmount=%{y}<extra></extra>",
         "hovertext": [
          "2012Q3",
          "2012Q4",
          "2013Q1",
          "2013Q2",
          "2013Q3",
          "2013Q4",
          "2014Q1",
          "2014Q2",
          "2014Q3",
          "2014Q4",
          "2015Q1",
          "2015Q2",
          "2015Q3",
          "2015Q4",
          "2016Q1",
          "2016Q2",
          "2016Q3",
          "2016Q4",
          "2017Q1",
          "2017Q2",
          "2017Q3",
          "2017Q4",
          "2018Q1",
          "2018Q2",
          "2018Q3",
          "2018Q4",
          "2019Q1",
          "2019Q2",
          "2019Q3",
          "2019Q4",
          "2020Q1",
          "2020Q2",
          "2020Q3"
         ],
         "legendgroup": "Nova Scotia",
         "line": {
          "color": "#00cc96",
          "dash": "solid"
         },
         "marker": {
          "symbol": "circle"
         },
         "mode": "lines",
         "name": "Nova Scotia",
         "orientation": "v",
         "showlegend": true,
         "type": "scatter",
         "x": [
          "2012Q3",
          "2012Q4",
          "2013Q1",
          "2013Q2",
          "2013Q3",
          "2013Q4",
          "2014Q1",
          "2014Q2",
          "2014Q3",
          "2014Q4",
          "2015Q1",
          "2015Q2",
          "2015Q3",
          "2015Q4",
          "2016Q1",
          "2016Q2",
          "2016Q3",
          "2016Q4",
          "2017Q1",
          "2017Q2",
          "2017Q3",
          "2017Q4",
          "2018Q1",
          "2018Q2",
          "2018Q3",
          "2018Q4",
          "2019Q1",
          "2019Q2",
          "2019Q3",
          "2019Q4",
          "2020Q1",
          "2020Q2",
          "2020Q3"
         ],
         "xaxis": "x",
         "y": [
          174688,
          160046,
          158806,
          159945,
          166426,
          160189,
          161383,
          157664,
          172827,
          163584,
          163607,
          165288,
          178091,
          172863,
          167596,
          168948,
          178784,
          173305,
          186024,
          182526,
          194802,
          188559,
          185858,
          179407,
          190443,
          179921,
          177863,
          180958,
          193586,
          190168,
          188267,
          192060,
          207877
         ],
         "yaxis": "y"
        },
        {
         "hovertemplate": "<b>%{hovertext}</b><br><br>Geography=New Brunswick<br>Time=%{x}<br>AverageMortgageAmount=%{y}<extra></extra>",
         "hovertext": [
          "2012Q3",
          "2012Q4",
          "2013Q1",
          "2013Q2",
          "2013Q3",
          "2013Q4",
          "2014Q1",
          "2014Q2",
          "2014Q3",
          "2014Q4",
          "2015Q1",
          "2015Q2",
          "2015Q3",
          "2015Q4",
          "2016Q1",
          "2016Q2",
          "2016Q3",
          "2016Q4",
          "2017Q1",
          "2017Q2",
          "2017Q3",
          "2017Q4",
          "2018Q1",
          "2018Q2",
          "2018Q3",
          "2018Q4",
          "2019Q1",
          "2019Q2",
          "2019Q3",
          "2019Q4",
          "2020Q1",
          "2020Q2",
          "2020Q3"
         ],
         "legendgroup": "New Brunswick",
         "line": {
          "color": "#ab63fa",
          "dash": "solid"
         },
         "marker": {
          "symbol": "circle"
         },
         "mode": "lines",
         "name": "New Brunswick",
         "orientation": "v",
         "showlegend": true,
         "type": "scatter",
         "x": [
          "2012Q3",
          "2012Q4",
          "2013Q1",
          "2013Q2",
          "2013Q3",
          "2013Q4",
          "2014Q1",
          "2014Q2",
          "2014Q3",
          "2014Q4",
          "2015Q1",
          "2015Q2",
          "2015Q3",
          "2015Q4",
          "2016Q1",
          "2016Q2",
          "2016Q3",
          "2016Q4",
          "2017Q1",
          "2017Q2",
          "2017Q3",
          "2017Q4",
          "2018Q1",
          "2018Q2",
          "2018Q3",
          "2018Q4",
          "2019Q1",
          "2019Q2",
          "2019Q3",
          "2019Q4",
          "2020Q1",
          "2020Q2",
          "2020Q3"
         ],
         "xaxis": "x",
         "y": [
          133390,
          126138,
          124645,
          122572,
          131542,
          128155,
          127766,
          124221,
          135592,
          132766,
          132025,
          128378,
          137565,
          137039,
          132325,
          133027,
          143533,
          140124,
          141196,
          135748,
          147934,
          142799,
          139711,
          139750,
          150353,
          143324,
          140850,
          137809,
          152606,
          147047,
          146701,
          149590,
          160349
         ],
         "yaxis": "y"
        },
        {
         "hovertemplate": "<b>%{hovertext}</b><br><br>Geography=Québec<br>Time=%{x}<br>AverageMortgageAmount=%{y}<extra></extra>",
         "hovertext": [
          "2012Q3",
          "2012Q4",
          "2013Q1",
          "2013Q2",
          "2013Q3",
          "2013Q4",
          "2014Q1",
          "2014Q2",
          "2014Q3",
          "2014Q4",
          "2015Q1",
          "2015Q2",
          "2015Q3",
          "2015Q4",
          "2016Q1",
          "2016Q2",
          "2016Q3",
          "2016Q4",
          "2017Q1",
          "2017Q2",
          "2017Q3",
          "2017Q4",
          "2018Q1",
          "2018Q2",
          "2018Q3",
          "2018Q4",
          "2019Q1",
          "2019Q2",
          "2019Q3",
          "2019Q4",
          "2020Q1",
          "2020Q2",
          "2020Q3"
         ],
         "legendgroup": "Québec",
         "line": {
          "color": "#FFA15A",
          "dash": "solid"
         },
         "marker": {
          "symbol": "circle"
         },
         "mode": "lines",
         "name": "Québec",
         "orientation": "v",
         "showlegend": true,
         "type": "scatter",
         "x": [
          "2012Q3",
          "2012Q4",
          "2013Q1",
          "2013Q2",
          "2013Q3",
          "2013Q4",
          "2014Q1",
          "2014Q2",
          "2014Q3",
          "2014Q4",
          "2015Q1",
          "2015Q2",
          "2015Q3",
          "2015Q4",
          "2016Q1",
          "2016Q2",
          "2016Q3",
          "2016Q4",
          "2017Q1",
          "2017Q2",
          "2017Q3",
          "2017Q4",
          "2018Q1",
          "2018Q2",
          "2018Q3",
          "2018Q4",
          "2019Q1",
          "2019Q2",
          "2019Q3",
          "2019Q4",
          "2020Q1",
          "2020Q2",
          "2020Q3"
         ],
         "xaxis": "x",
         "y": [
          159661,
          153413,
          153909,
          155016,
          160147,
          155512,
          156424,
          160165,
          166426,
          160073,
          161563,
          164764,
          170403,
          164235,
          167154,
          169326,
          176522,
          170309,
          171992,
          171716,
          177306,
          173182,
          175297,
          183507,
          187727,
          173911,
          175658,
          179523,
          187136,
          183501,
          189390,
          195538,
          203861
         ],
         "yaxis": "y"
        },
        {
         "hovertemplate": "<b>%{hovertext}</b><br><br>Geography=Ontario<br>Time=%{x}<br>AverageMortgageAmount=%{y}<extra></extra>",
         "hovertext": [
          "2012Q3",
          "2012Q4",
          "2013Q1",
          "2013Q2",
          "2013Q3",
          "2013Q4",
          "2014Q1",
          "2014Q2",
          "2014Q3",
          "2014Q4",
          "2015Q1",
          "2015Q2",
          "2015Q3",
          "2015Q4",
          "2016Q1",
          "2016Q2",
          "2016Q3",
          "2016Q4",
          "2017Q1",
          "2017Q2",
          "2017Q3",
          "2017Q4",
          "2018Q1",
          "2018Q2",
          "2018Q3",
          "2018Q4",
          "2019Q1",
          "2019Q2",
          "2019Q3",
          "2019Q4",
          "2020Q1",
          "2020Q2",
          "2020Q3"
         ],
         "legendgroup": "Ontario",
         "line": {
          "color": "#19d3f3",
          "dash": "solid"
         },
         "marker": {
          "symbol": "circle"
         },
         "mode": "lines",
         "name": "Ontario",
         "orientation": "v",
         "showlegend": true,
         "type": "scatter",
         "x": [
          "2012Q3",
          "2012Q4",
          "2013Q1",
          "2013Q2",
          "2013Q3",
          "2013Q4",
          "2014Q1",
          "2014Q2",
          "2014Q3",
          "2014Q4",
          "2015Q1",
          "2015Q2",
          "2015Q3",
          "2015Q4",
          "2016Q1",
          "2016Q2",
          "2016Q3",
          "2016Q4",
          "2017Q1",
          "2017Q2",
          "2017Q3",
          "2017Q4",
          "2018Q1",
          "2018Q2",
          "2018Q3",
          "2018Q4",
          "2019Q1",
          "2019Q2",
          "2019Q3",
          "2019Q4",
          "2020Q1",
          "2020Q2",
          "2020Q3"
         ],
         "xaxis": "x",
         "y": [
          247455,
          235667,
          233122,
          230770,
          249054,
          244060,
          244077,
          240828,
          262838,
          257244,
          254854,
          259093,
          281259,
          277802,
          278626,
          285024,
          307369,
          310236,
          319009,
          326645,
          338561,
          323821,
          322179,
          315576,
          327367,
          321579,
          321074,
          324080,
          343117,
          343768,
          348272,
          363432,
          373371
         ],
         "yaxis": "y"
        },
        {
         "hovertemplate": "<b>%{hovertext}</b><br><br>Geography=Manitoba<br>Time=%{x}<br>AverageMortgageAmount=%{y}<extra></extra>",
         "hovertext": [
          "2012Q3",
          "2012Q4",
          "2013Q1",
          "2013Q2",
          "2013Q3",
          "2013Q4",
          "2014Q1",
          "2014Q2",
          "2014Q3",
          "2014Q4",
          "2015Q1",
          "2015Q2",
          "2015Q3",
          "2015Q4",
          "2016Q1",
          "2016Q2",
          "2016Q3",
          "2016Q4",
          "2017Q1",
          "2017Q2",
          "2017Q3",
          "2017Q4",
          "2018Q1",
          "2018Q2",
          "2018Q3",
          "2018Q4",
          "2019Q1",
          "2019Q2",
          "2019Q3",
          "2019Q4",
          "2020Q1",
          "2020Q2",
          "2020Q3"
         ],
         "legendgroup": "Manitoba",
         "line": {
          "color": "#FF6692",
          "dash": "solid"
         },
         "marker": {
          "symbol": "circle"
         },
         "mode": "lines",
         "name": "Manitoba",
         "orientation": "v",
         "showlegend": true,
         "type": "scatter",
         "x": [
          "2012Q3",
          "2012Q4",
          "2013Q1",
          "2013Q2",
          "2013Q3",
          "2013Q4",
          "2014Q1",
          "2014Q2",
          "2014Q3",
          "2014Q4",
          "2015Q1",
          "2015Q2",
          "2015Q3",
          "2015Q4",
          "2016Q1",
          "2016Q2",
          "2016Q3",
          "2016Q4",
          "2017Q1",
          "2017Q2",
          "2017Q3",
          "2017Q4",
          "2018Q1",
          "2018Q2",
          "2018Q3",
          "2018Q4",
          "2019Q1",
          "2019Q2",
          "2019Q3",
          "2019Q4",
          "2020Q1",
          "2020Q2",
          "2020Q3"
         ],
         "xaxis": "x",
         "y": [
          188298,
          181097,
          177560,
          177517,
          192732,
          189570,
          188107,
          184554,
          200051,
          197527,
          191444,
          190383,
          206275,
          201640,
          193970,
          196385,
          209051,
          206958,
          203999,
          205085,
          216750,
          217136,
          207988,
          207436,
          220454,
          214060,
          206692,
          214873,
          222637,
          218918,
          212508,
          217416,
          232725
         ],
         "yaxis": "y"
        },
        {
         "hovertemplate": "<b>%{hovertext}</b><br><br>Geography=Saskatchewan<br>Time=%{x}<br>AverageMortgageAmount=%{y}<extra></extra>",
         "hovertext": [
          "2012Q3",
          "2012Q4",
          "2013Q1",
          "2013Q2",
          "2013Q3",
          "2013Q4",
          "2014Q1",
          "2014Q2",
          "2014Q3",
          "2014Q4",
          "2015Q1",
          "2015Q2",
          "2015Q3",
          "2015Q4",
          "2016Q1",
          "2016Q2",
          "2016Q3",
          "2016Q4",
          "2017Q1",
          "2017Q2",
          "2017Q3",
          "2017Q4",
          "2018Q1",
          "2018Q2",
          "2018Q3",
          "2018Q4",
          "2019Q1",
          "2019Q2",
          "2019Q3",
          "2019Q4",
          "2020Q1",
          "2020Q2",
          "2020Q3"
         ],
         "legendgroup": "Saskatchewan",
         "line": {
          "color": "#B6E880",
          "dash": "solid"
         },
         "marker": {
          "symbol": "circle"
         },
         "mode": "lines",
         "name": "Saskatchewan",
         "orientation": "v",
         "showlegend": true,
         "type": "scatter",
         "x": [
          "2012Q3",
          "2012Q4",
          "2013Q1",
          "2013Q2",
          "2013Q3",
          "2013Q4",
          "2014Q1",
          "2014Q2",
          "2014Q3",
          "2014Q4",
          "2015Q1",
          "2015Q2",
          "2015Q3",
          "2015Q4",
          "2016Q1",
          "2016Q2",
          "2016Q3",
          "2016Q4",
          "2017Q1",
          "2017Q2",
          "2017Q3",
          "2017Q4",
          "2018Q1",
          "2018Q2",
          "2018Q3",
          "2018Q4",
          "2019Q1",
          "2019Q2",
          "2019Q3",
          "2019Q4",
          "2020Q1",
          "2020Q2",
          "2020Q3"
         ],
         "xaxis": "x",
         "y": [
          217945,
          213126,
          206354,
          211979,
          224868,
          225414,
          226559,
          218781,
          231768,
          233854,
          228569,
          226957,
          234840,
          231611,
          225641,
          230729,
          236380,
          232174,
          234786,
          233545,
          238533,
          234340,
          230702,
          229851,
          233255,
          223628,
          217157,
          216369,
          228721,
          224315,
          216188,
          225641,
          237386
         ],
         "yaxis": "y"
        },
        {
         "hovertemplate": "<b>%{hovertext}</b><br><br>Geography=Alberta<br>Time=%{x}<br>AverageMortgageAmount=%{y}<extra></extra>",
         "hovertext": [
          "2012Q3",
          "2012Q4",
          "2013Q1",
          "2013Q2",
          "2013Q3",
          "2013Q4",
          "2014Q1",
          "2014Q2",
          "2014Q3",
          "2014Q4",
          "2015Q1",
          "2015Q2",
          "2015Q3",
          "2015Q4",
          "2016Q1",
          "2016Q2",
          "2016Q3",
          "2016Q4",
          "2017Q1",
          "2017Q2",
          "2017Q3",
          "2017Q4",
          "2018Q1",
          "2018Q2",
          "2018Q3",
          "2018Q4",
          "2019Q1",
          "2019Q2",
          "2019Q3",
          "2019Q4",
          "2020Q1",
          "2020Q2",
          "2020Q3"
         ],
         "legendgroup": "Alberta",
         "line": {
          "color": "#FF97FF",
          "dash": "solid"
         },
         "marker": {
          "symbol": "circle"
         },
         "mode": "lines",
         "name": "Alberta",
         "orientation": "v",
         "showlegend": true,
         "type": "scatter",
         "x": [
          "2012Q3",
          "2012Q4",
          "2013Q1",
          "2013Q2",
          "2013Q3",
          "2013Q4",
          "2014Q1",
          "2014Q2",
          "2014Q3",
          "2014Q4",
          "2015Q1",
          "2015Q2",
          "2015Q3",
          "2015Q4",
          "2016Q1",
          "2016Q2",
          "2016Q3",
          "2016Q4",
          "2017Q1",
          "2017Q2",
          "2017Q3",
          "2017Q4",
          "2018Q1",
          "2018Q2",
          "2018Q3",
          "2018Q4",
          "2019Q1",
          "2019Q2",
          "2019Q3",
          "2019Q4",
          "2020Q1",
          "2020Q2",
          "2020Q3"
         ],
         "xaxis": "x",
         "y": [
          282371,
          277555,
          277158,
          278516,
          289263,
          284928,
          291926,
          290722,
          304374,
          305558,
          303976,
          299837,
          309953,
          303244,
          296111,
          298884,
          304683,
          302095,
          301254,
          300115,
          307837,
          307662,
          302814,
          302116,
          305101,
          295839,
          291721,
          293612,
          297609,
          297552,
          291747,
          296269,
          305600
         ],
         "yaxis": "y"
        },
        {
         "hovertemplate": "<b>%{hovertext}</b><br><br>Geography=British Columbia<br>Time=%{x}<br>AverageMortgageAmount=%{y}<extra></extra>",
         "hovertext": [
          "2012Q3",
          "2012Q4",
          "2013Q1",
          "2013Q2",
          "2013Q3",
          "2013Q4",
          "2014Q1",
          "2014Q2",
          "2014Q3",
          "2014Q4",
          "2015Q1",
          "2015Q2",
          "2015Q3",
          "2015Q4",
          "2016Q1",
          "2016Q2",
          "2016Q3",
          "2016Q4",
          "2017Q1",
          "2017Q2",
          "2017Q3",
          "2017Q4",
          "2018Q1",
          "2018Q2",
          "2018Q3",
          "2018Q4",
          "2019Q1",
          "2019Q2",
          "2019Q3",
          "2019Q4",
          "2020Q1",
          "2020Q2",
          "2020Q3"
         ],
         "legendgroup": "British Columbia",
         "line": {
          "color": "#FECB52",
          "dash": "solid"
         },
         "marker": {
          "symbol": "circle"
         },
         "mode": "lines",
         "name": "British Columbia",
         "orientation": "v",
         "showlegend": true,
         "type": "scatter",
         "x": [
          "2012Q3",
          "2012Q4",
          "2013Q1",
          "2013Q2",
          "2013Q3",
          "2013Q4",
          "2014Q1",
          "2014Q2",
          "2014Q3",
          "2014Q4",
          "2015Q1",
          "2015Q2",
          "2015Q3",
          "2015Q4",
          "2016Q1",
          "2016Q2",
          "2016Q3",
          "2016Q4",
          "2017Q1",
          "2017Q2",
          "2017Q3",
          "2017Q4",
          "2018Q1",
          "2018Q2",
          "2018Q3",
          "2018Q4",
          "2019Q1",
          "2019Q2",
          "2019Q3",
          "2019Q4",
          "2020Q1",
          "2020Q2",
          "2020Q3"
         ],
         "xaxis": "x",
         "y": [
          305427,
          289864,
          286652,
          290928,
          303663,
          305256,
          309374,
          305138,
          321625,
          323373,
          325035,
          328540,
          350672,
          357016,
          368782,
          385910,
          395297,
          366703,
          358655,
          369174,
          389430,
          381223,
          384794,
          371860,
          378187,
          364330,
          363239,
          363924,
          376343,
          386494,
          393711,
          397853,
          417004
         ],
         "yaxis": "y"
        }
       ],
       "layout": {
        "legend": {
         "title": {
          "text": "Geography"
         },
         "tracegroupgap": 0
        },
        "margin": {
         "t": 60
        },
        "template": {
         "data": {
          "bar": [
           {
            "error_x": {
             "color": "#2a3f5f"
            },
            "error_y": {
             "color": "#2a3f5f"
            },
            "marker": {
             "line": {
              "color": "#E5ECF6",
              "width": 0.5
             },
             "pattern": {
              "fillmode": "overlay",
              "size": 10,
              "solidity": 0.2
             }
            },
            "type": "bar"
           }
          ],
          "barpolar": [
           {
            "marker": {
             "line": {
              "color": "#E5ECF6",
              "width": 0.5
             },
             "pattern": {
              "fillmode": "overlay",
              "size": 10,
              "solidity": 0.2
             }
            },
            "type": "barpolar"
           }
          ],
          "carpet": [
           {
            "aaxis": {
             "endlinecolor": "#2a3f5f",
             "gridcolor": "white",
             "linecolor": "white",
             "minorgridcolor": "white",
             "startlinecolor": "#2a3f5f"
            },
            "baxis": {
             "endlinecolor": "#2a3f5f",
             "gridcolor": "white",
             "linecolor": "white",
             "minorgridcolor": "white",
             "startlinecolor": "#2a3f5f"
            },
            "type": "carpet"
           }
          ],
          "choropleth": [
           {
            "colorbar": {
             "outlinewidth": 0,
             "ticks": ""
            },
            "type": "choropleth"
           }
          ],
          "contour": [
           {
            "colorbar": {
             "outlinewidth": 0,
             "ticks": ""
            },
            "colorscale": [
             [
              0,
              "#0d0887"
             ],
             [
              0.1111111111111111,
              "#46039f"
             ],
             [
              0.2222222222222222,
              "#7201a8"
             ],
             [
              0.3333333333333333,
              "#9c179e"
             ],
             [
              0.4444444444444444,
              "#bd3786"
             ],
             [
              0.5555555555555556,
              "#d8576b"
             ],
             [
              0.6666666666666666,
              "#ed7953"
             ],
             [
              0.7777777777777778,
              "#fb9f3a"
             ],
             [
              0.8888888888888888,
              "#fdca26"
             ],
             [
              1,
              "#f0f921"
             ]
            ],
            "type": "contour"
           }
          ],
          "contourcarpet": [
           {
            "colorbar": {
             "outlinewidth": 0,
             "ticks": ""
            },
            "type": "contourcarpet"
           }
          ],
          "heatmap": [
           {
            "colorbar": {
             "outlinewidth": 0,
             "ticks": ""
            },
            "colorscale": [
             [
              0,
              "#0d0887"
             ],
             [
              0.1111111111111111,
              "#46039f"
             ],
             [
              0.2222222222222222,
              "#7201a8"
             ],
             [
              0.3333333333333333,
              "#9c179e"
             ],
             [
              0.4444444444444444,
              "#bd3786"
             ],
             [
              0.5555555555555556,
              "#d8576b"
             ],
             [
              0.6666666666666666,
              "#ed7953"
             ],
             [
              0.7777777777777778,
              "#fb9f3a"
             ],
             [
              0.8888888888888888,
              "#fdca26"
             ],
             [
              1,
              "#f0f921"
             ]
            ],
            "type": "heatmap"
           }
          ],
          "heatmapgl": [
           {
            "colorbar": {
             "outlinewidth": 0,
             "ticks": ""
            },
            "colorscale": [
             [
              0,
              "#0d0887"
             ],
             [
              0.1111111111111111,
              "#46039f"
             ],
             [
              0.2222222222222222,
              "#7201a8"
             ],
             [
              0.3333333333333333,
              "#9c179e"
             ],
             [
              0.4444444444444444,
              "#bd3786"
             ],
             [
              0.5555555555555556,
              "#d8576b"
             ],
             [
              0.6666666666666666,
              "#ed7953"
             ],
             [
              0.7777777777777778,
              "#fb9f3a"
             ],
             [
              0.8888888888888888,
              "#fdca26"
             ],
             [
              1,
              "#f0f921"
             ]
            ],
            "type": "heatmapgl"
           }
          ],
          "histogram": [
           {
            "marker": {
             "pattern": {
              "fillmode": "overlay",
              "size": 10,
              "solidity": 0.2
             }
            },
            "type": "histogram"
           }
          ],
          "histogram2d": [
           {
            "colorbar": {
             "outlinewidth": 0,
             "ticks": ""
            },
            "colorscale": [
             [
              0,
              "#0d0887"
             ],
             [
              0.1111111111111111,
              "#46039f"
             ],
             [
              0.2222222222222222,
              "#7201a8"
             ],
             [
              0.3333333333333333,
              "#9c179e"
             ],
             [
              0.4444444444444444,
              "#bd3786"
             ],
             [
              0.5555555555555556,
              "#d8576b"
             ],
             [
              0.6666666666666666,
              "#ed7953"
             ],
             [
              0.7777777777777778,
              "#fb9f3a"
             ],
             [
              0.8888888888888888,
              "#fdca26"
             ],
             [
              1,
              "#f0f921"
             ]
            ],
            "type": "histogram2d"
           }
          ],
          "histogram2dcontour": [
           {
            "colorbar": {
             "outlinewidth": 0,
             "ticks": ""
            },
            "colorscale": [
             [
              0,
              "#0d0887"
             ],
             [
              0.1111111111111111,
              "#46039f"
             ],
             [
              0.2222222222222222,
              "#7201a8"
             ],
             [
              0.3333333333333333,
              "#9c179e"
             ],
             [
              0.4444444444444444,
              "#bd3786"
             ],
             [
              0.5555555555555556,
              "#d8576b"
             ],
             [
              0.6666666666666666,
              "#ed7953"
             ],
             [
              0.7777777777777778,
              "#fb9f3a"
             ],
             [
              0.8888888888888888,
              "#fdca26"
             ],
             [
              1,
              "#f0f921"
             ]
            ],
            "type": "histogram2dcontour"
           }
          ],
          "mesh3d": [
           {
            "colorbar": {
             "outlinewidth": 0,
             "ticks": ""
            },
            "type": "mesh3d"
           }
          ],
          "parcoords": [
           {
            "line": {
             "colorbar": {
              "outlinewidth": 0,
              "ticks": ""
             }
            },
            "type": "parcoords"
           }
          ],
          "pie": [
           {
            "automargin": true,
            "type": "pie"
           }
          ],
          "scatter": [
           {
            "fillpattern": {
             "fillmode": "overlay",
             "size": 10,
             "solidity": 0.2
            },
            "type": "scatter"
           }
          ],
          "scatter3d": [
           {
            "line": {
             "colorbar": {
              "outlinewidth": 0,
              "ticks": ""
             }
            },
            "marker": {
             "colorbar": {
              "outlinewidth": 0,
              "ticks": ""
             }
            },
            "type": "scatter3d"
           }
          ],
          "scattercarpet": [
           {
            "marker": {
             "colorbar": {
              "outlinewidth": 0,
              "ticks": ""
             }
            },
            "type": "scattercarpet"
           }
          ],
          "scattergeo": [
           {
            "marker": {
             "colorbar": {
              "outlinewidth": 0,
              "ticks": ""
             }
            },
            "type": "scattergeo"
           }
          ],
          "scattergl": [
           {
            "marker": {
             "colorbar": {
              "outlinewidth": 0,
              "ticks": ""
             }
            },
            "type": "scattergl"
           }
          ],
          "scattermapbox": [
           {
            "marker": {
             "colorbar": {
              "outlinewidth": 0,
              "ticks": ""
             }
            },
            "type": "scattermapbox"
           }
          ],
          "scatterpolar": [
           {
            "marker": {
             "colorbar": {
              "outlinewidth": 0,
              "ticks": ""
             }
            },
            "type": "scatterpolar"
           }
          ],
          "scatterpolargl": [
           {
            "marker": {
             "colorbar": {
              "outlinewidth": 0,
              "ticks": ""
             }
            },
            "type": "scatterpolargl"
           }
          ],
          "scatterternary": [
           {
            "marker": {
             "colorbar": {
              "outlinewidth": 0,
              "ticks": ""
             }
            },
            "type": "scatterternary"
           }
          ],
          "surface": [
           {
            "colorbar": {
             "outlinewidth": 0,
             "ticks": ""
            },
            "colorscale": [
             [
              0,
              "#0d0887"
             ],
             [
              0.1111111111111111,
              "#46039f"
             ],
             [
              0.2222222222222222,
              "#7201a8"
             ],
             [
              0.3333333333333333,
              "#9c179e"
             ],
             [
              0.4444444444444444,
              "#bd3786"
             ],
             [
              0.5555555555555556,
              "#d8576b"
             ],
             [
              0.6666666666666666,
              "#ed7953"
             ],
             [
              0.7777777777777778,
              "#fb9f3a"
             ],
             [
              0.8888888888888888,
              "#fdca26"
             ],
             [
              1,
              "#f0f921"
             ]
            ],
            "type": "surface"
           }
          ],
          "table": [
           {
            "cells": {
             "fill": {
              "color": "#EBF0F8"
             },
             "line": {
              "color": "white"
             }
            },
            "header": {
             "fill": {
              "color": "#C8D4E3"
             },
             "line": {
              "color": "white"
             }
            },
            "type": "table"
           }
          ]
         },
         "layout": {
          "annotationdefaults": {
           "arrowcolor": "#2a3f5f",
           "arrowhead": 0,
           "arrowwidth": 1
          },
          "autotypenumbers": "strict",
          "coloraxis": {
           "colorbar": {
            "outlinewidth": 0,
            "ticks": ""
           }
          },
          "colorscale": {
           "diverging": [
            [
             0,
             "#8e0152"
            ],
            [
             0.1,
             "#c51b7d"
            ],
            [
             0.2,
             "#de77ae"
            ],
            [
             0.3,
             "#f1b6da"
            ],
            [
             0.4,
             "#fde0ef"
            ],
            [
             0.5,
             "#f7f7f7"
            ],
            [
             0.6,
             "#e6f5d0"
            ],
            [
             0.7,
             "#b8e186"
            ],
            [
             0.8,
             "#7fbc41"
            ],
            [
             0.9,
             "#4d9221"
            ],
            [
             1,
             "#276419"
            ]
           ],
           "sequential": [
            [
             0,
             "#0d0887"
            ],
            [
             0.1111111111111111,
             "#46039f"
            ],
            [
             0.2222222222222222,
             "#7201a8"
            ],
            [
             0.3333333333333333,
             "#9c179e"
            ],
            [
             0.4444444444444444,
             "#bd3786"
            ],
            [
             0.5555555555555556,
             "#d8576b"
            ],
            [
             0.6666666666666666,
             "#ed7953"
            ],
            [
             0.7777777777777778,
             "#fb9f3a"
            ],
            [
             0.8888888888888888,
             "#fdca26"
            ],
            [
             1,
             "#f0f921"
            ]
           ],
           "sequentialminus": [
            [
             0,
             "#0d0887"
            ],
            [
             0.1111111111111111,
             "#46039f"
            ],
            [
             0.2222222222222222,
             "#7201a8"
            ],
            [
             0.3333333333333333,
             "#9c179e"
            ],
            [
             0.4444444444444444,
             "#bd3786"
            ],
            [
             0.5555555555555556,
             "#d8576b"
            ],
            [
             0.6666666666666666,
             "#ed7953"
            ],
            [
             0.7777777777777778,
             "#fb9f3a"
            ],
            [
             0.8888888888888888,
             "#fdca26"
            ],
            [
             1,
             "#f0f921"
            ]
           ]
          },
          "colorway": [
           "#636efa",
           "#EF553B",
           "#00cc96",
           "#ab63fa",
           "#FFA15A",
           "#19d3f3",
           "#FF6692",
           "#B6E880",
           "#FF97FF",
           "#FECB52"
          ],
          "font": {
           "color": "#2a3f5f"
          },
          "geo": {
           "bgcolor": "white",
           "lakecolor": "white",
           "landcolor": "#E5ECF6",
           "showlakes": true,
           "showland": true,
           "subunitcolor": "white"
          },
          "hoverlabel": {
           "align": "left"
          },
          "hovermode": "closest",
          "mapbox": {
           "style": "light"
          },
          "paper_bgcolor": "white",
          "plot_bgcolor": "#E5ECF6",
          "polar": {
           "angularaxis": {
            "gridcolor": "white",
            "linecolor": "white",
            "ticks": ""
           },
           "bgcolor": "#E5ECF6",
           "radialaxis": {
            "gridcolor": "white",
            "linecolor": "white",
            "ticks": ""
           }
          },
          "scene": {
           "xaxis": {
            "backgroundcolor": "#E5ECF6",
            "gridcolor": "white",
            "gridwidth": 2,
            "linecolor": "white",
            "showbackground": true,
            "ticks": "",
            "zerolinecolor": "white"
           },
           "yaxis": {
            "backgroundcolor": "#E5ECF6",
            "gridcolor": "white",
            "gridwidth": 2,
            "linecolor": "white",
            "showbackground": true,
            "ticks": "",
            "zerolinecolor": "white"
           },
           "zaxis": {
            "backgroundcolor": "#E5ECF6",
            "gridcolor": "white",
            "gridwidth": 2,
            "linecolor": "white",
            "showbackground": true,
            "ticks": "",
            "zerolinecolor": "white"
           }
          },
          "shapedefaults": {
           "line": {
            "color": "#2a3f5f"
           }
          },
          "ternary": {
           "aaxis": {
            "gridcolor": "white",
            "linecolor": "white",
            "ticks": ""
           },
           "baxis": {
            "gridcolor": "white",
            "linecolor": "white",
            "ticks": ""
           },
           "bgcolor": "#E5ECF6",
           "caxis": {
            "gridcolor": "white",
            "linecolor": "white",
            "ticks": ""
           }
          },
          "title": {
           "x": 0.05
          },
          "xaxis": {
           "automargin": true,
           "gridcolor": "white",
           "linecolor": "white",
           "ticks": "",
           "title": {
            "standoff": 15
           },
           "zerolinecolor": "white",
           "zerolinewidth": 2
          },
          "yaxis": {
           "automargin": true,
           "gridcolor": "white",
           "linecolor": "white",
           "ticks": "",
           "title": {
            "standoff": 15
           },
           "zerolinecolor": "white",
           "zerolinewidth": 2
          }
         }
        },
        "title": {
         "text": "Chart: line plot of Time and AverageMortgageAmount by Geography"
        },
        "xaxis": {
         "anchor": "y",
         "domain": [
          0,
          1
         ],
         "tickangle": -45,
         "title": {
          "text": "Time"
         }
        },
        "yaxis": {
         "anchor": "x",
         "domain": [
          0,
          1
         ],
         "title": {
          "text": "AverageMortgageAmount"
         }
        }
       }
      }
     },
     "metadata": {},
     "output_type": "display_data"
    }
   ],
   "source": [
    "graph_region(data_pop_del_mort_df, 'line', \"Time\", \"AverageMortgageAmount\")"
   ]
  },
  {
   "cell_type": "code",
   "execution_count": 23,
   "metadata": {
    "execution": {
     "iopub.execute_input": "2021-09-08T01:52:16.155Z",
     "iopub.status.busy": "2021-09-08T01:52:16.095Z",
     "iopub.status.idle": "2021-09-08T01:52:16.490Z",
     "shell.execute_reply": "2021-09-08T01:52:16.538Z"
    },
    "jupyter": {
     "outputs_hidden": false,
     "source_hidden": false
    },
    "noteable": {
     "cell_type": "code",
     "transaction_ids": {
      "source": "a15352a9-4d1b-4b8a-8565-c36ae35619eb"
     }
    },
    "nteract": {
     "transient": {
      "deleting": false
     }
    },
    "slideshow": {
     "slide_type": "subslide"
    }
   },
   "outputs": [
    {
     "data": {
      "application/vnd.plotly.v1+json": {
       "config": {
        "plotlyServerURL": "https://plot.ly"
       },
       "data": [
        {
         "alignmentgroup": "True",
         "hovertemplate": "<b>%{hovertext}</b><br><br>Geography=%{x}<br>PopulationSize=%{y}<extra></extra>",
         "hovertext": [
          "2012Q3",
          "2012Q4",
          "2013Q1",
          "2013Q2",
          "2013Q3",
          "2013Q4",
          "2014Q1",
          "2014Q2",
          "2014Q3",
          "2014Q4",
          "2015Q1",
          "2015Q2",
          "2015Q3",
          "2015Q4",
          "2016Q1",
          "2016Q2",
          "2016Q3",
          "2016Q4",
          "2017Q1",
          "2017Q2",
          "2017Q3",
          "2017Q4",
          "2018Q1",
          "2018Q2",
          "2018Q3",
          "2018Q4",
          "2019Q1",
          "2019Q2",
          "2019Q3",
          "2019Q4",
          "2020Q1",
          "2020Q2",
          "2020Q3"
         ],
         "legendgroup": "Newfoundland",
         "marker": {
          "color": "#636efa"
         },
         "name": "Newfoundland",
         "notched": false,
         "offsetgroup": "Newfoundland",
         "orientation": "v",
         "showlegend": true,
         "type": "box",
         "x": [
          "Newfoundland",
          "Newfoundland",
          "Newfoundland",
          "Newfoundland",
          "Newfoundland",
          "Newfoundland",
          "Newfoundland",
          "Newfoundland",
          "Newfoundland",
          "Newfoundland",
          "Newfoundland",
          "Newfoundland",
          "Newfoundland",
          "Newfoundland",
          "Newfoundland",
          "Newfoundland",
          "Newfoundland",
          "Newfoundland",
          "Newfoundland",
          "Newfoundland",
          "Newfoundland",
          "Newfoundland",
          "Newfoundland",
          "Newfoundland",
          "Newfoundland",
          "Newfoundland",
          "Newfoundland",
          "Newfoundland",
          "Newfoundland",
          "Newfoundland",
          "Newfoundland",
          "Newfoundland",
          "Newfoundland"
         ],
         "x0": " ",
         "xaxis": "x",
         "y": [
          526345,
          527180,
          527248,
          527313,
          527114,
          528117,
          528242,
          527498,
          528159,
          528461,
          528361,
          528063,
          528117,
          528696,
          528800,
          529063,
          529426,
          529900,
          529347,
          528544,
          528249,
          528288,
          527544,
          526395,
          525560,
          525765,
          524883,
          524126,
          523476,
          524137,
          523631,
          522994,
          522103
         ],
         "y0": " ",
         "yaxis": "y"
        },
        {
         "alignmentgroup": "True",
         "hovertemplate": "<b>%{hovertext}</b><br><br>Geography=%{x}<br>PopulationSize=%{y}<extra></extra>",
         "hovertext": [
          "2012Q3",
          "2012Q4",
          "2013Q1",
          "2013Q2",
          "2013Q3",
          "2013Q4",
          "2014Q1",
          "2014Q2",
          "2014Q3",
          "2014Q4",
          "2015Q1",
          "2015Q2",
          "2015Q3",
          "2015Q4",
          "2016Q1",
          "2016Q2",
          "2016Q3",
          "2016Q4",
          "2017Q1",
          "2017Q2",
          "2017Q3",
          "2017Q4",
          "2018Q1",
          "2018Q2",
          "2018Q3",
          "2018Q4",
          "2019Q1",
          "2019Q2",
          "2019Q3",
          "2019Q4",
          "2020Q1",
          "2020Q2",
          "2020Q3"
         ],
         "legendgroup": "Prince Edward Island",
         "marker": {
          "color": "#EF553B"
         },
         "name": "Prince Edward Island",
         "notched": false,
         "offsetgroup": "Prince Edward Island",
         "orientation": "v",
         "showlegend": true,
         "type": "box",
         "x": [
          "Prince Edward Island",
          "Prince Edward Island",
          "Prince Edward Island",
          "Prince Edward Island",
          "Prince Edward Island",
          "Prince Edward Island",
          "Prince Edward Island",
          "Prince Edward Island",
          "Prince Edward Island",
          "Prince Edward Island",
          "Prince Edward Island",
          "Prince Edward Island",
          "Prince Edward Island",
          "Prince Edward Island",
          "Prince Edward Island",
          "Prince Edward Island",
          "Prince Edward Island",
          "Prince Edward Island",
          "Prince Edward Island",
          "Prince Edward Island",
          "Prince Edward Island",
          "Prince Edward Island",
          "Prince Edward Island",
          "Prince Edward Island",
          "Prince Edward Island",
          "Prince Edward Island",
          "Prince Edward Island",
          "Prince Edward Island",
          "Prince Edward Island",
          "Prince Edward Island",
          "Prince Edward Island",
          "Prince Edward Island",
          "Prince Edward Island"
         ],
         "x0": " ",
         "xaxis": "x",
         "y": [
          144530,
          144520,
          144175,
          143948,
          144094,
          144103,
          143996,
          143984,
          144283,
          144538,
          144368,
          144259,
          144546,
          144894,
          145202,
          145784,
          146969,
          147936,
          148181,
          148860,
          150402,
          151376,
          151516,
          152039,
          153396,
          155129,
          155244,
          155833,
          157262,
          158334,
          158629,
          159249,
          159625
         ],
         "y0": " ",
         "yaxis": "y"
        },
        {
         "alignmentgroup": "True",
         "hovertemplate": "<b>%{hovertext}</b><br><br>Geography=%{x}<br>PopulationSize=%{y}<extra></extra>",
         "hovertext": [
          "2012Q3",
          "2012Q4",
          "2013Q1",
          "2013Q2",
          "2013Q3",
          "2013Q4",
          "2014Q1",
          "2014Q2",
          "2014Q3",
          "2014Q4",
          "2015Q1",
          "2015Q2",
          "2015Q3",
          "2015Q4",
          "2016Q1",
          "2016Q2",
          "2016Q3",
          "2016Q4",
          "2017Q1",
          "2017Q2",
          "2017Q3",
          "2017Q4",
          "2018Q1",
          "2018Q2",
          "2018Q3",
          "2018Q4",
          "2019Q1",
          "2019Q2",
          "2019Q3",
          "2019Q4",
          "2020Q1",
          "2020Q2",
          "2020Q3"
         ],
         "legendgroup": "Nova Scotia",
         "marker": {
          "color": "#00cc96"
         },
         "name": "Nova Scotia",
         "notched": false,
         "offsetgroup": "Nova Scotia",
         "orientation": "v",
         "showlegend": true,
         "type": "box",
         "x": [
          "Nova Scotia",
          "Nova Scotia",
          "Nova Scotia",
          "Nova Scotia",
          "Nova Scotia",
          "Nova Scotia",
          "Nova Scotia",
          "Nova Scotia",
          "Nova Scotia",
          "Nova Scotia",
          "Nova Scotia",
          "Nova Scotia",
          "Nova Scotia",
          "Nova Scotia",
          "Nova Scotia",
          "Nova Scotia",
          "Nova Scotia",
          "Nova Scotia",
          "Nova Scotia",
          "Nova Scotia",
          "Nova Scotia",
          "Nova Scotia",
          "Nova Scotia",
          "Nova Scotia",
          "Nova Scotia",
          "Nova Scotia",
          "Nova Scotia",
          "Nova Scotia",
          "Nova Scotia",
          "Nova Scotia",
          "Nova Scotia",
          "Nova Scotia",
          "Nova Scotia"
         ],
         "x0": " ",
         "xaxis": "x",
         "y": [
          943635,
          943341,
          942598,
          941230,
          940434,
          940105,
          939867,
          938913,
          938545,
          938972,
          938296,
          936271,
          936525,
          938320,
          938690,
          940382,
          942790,
          946030,
          945943,
          947384,
          950108,
          953683,
          953838,
          954618,
          958406,
          963309,
          963890,
          965287,
          969747,
          975231,
          975898,
          977043,
          979351
         ],
         "y0": " ",
         "yaxis": "y"
        },
        {
         "alignmentgroup": "True",
         "hovertemplate": "<b>%{hovertext}</b><br><br>Geography=%{x}<br>PopulationSize=%{y}<extra></extra>",
         "hovertext": [
          "2012Q3",
          "2012Q4",
          "2013Q1",
          "2013Q2",
          "2013Q3",
          "2013Q4",
          "2014Q1",
          "2014Q2",
          "2014Q3",
          "2014Q4",
          "2015Q1",
          "2015Q2",
          "2015Q3",
          "2015Q4",
          "2016Q1",
          "2016Q2",
          "2016Q3",
          "2016Q4",
          "2017Q1",
          "2017Q2",
          "2017Q3",
          "2017Q4",
          "2018Q1",
          "2018Q2",
          "2018Q3",
          "2018Q4",
          "2019Q1",
          "2019Q2",
          "2019Q3",
          "2019Q4",
          "2020Q1",
          "2020Q2",
          "2020Q3"
         ],
         "legendgroup": "New Brunswick",
         "marker": {
          "color": "#ab63fa"
         },
         "name": "New Brunswick",
         "notched": false,
         "offsetgroup": "New Brunswick",
         "orientation": "v",
         "showlegend": true,
         "type": "box",
         "x": [
          "New Brunswick",
          "New Brunswick",
          "New Brunswick",
          "New Brunswick",
          "New Brunswick",
          "New Brunswick",
          "New Brunswick",
          "New Brunswick",
          "New Brunswick",
          "New Brunswick",
          "New Brunswick",
          "New Brunswick",
          "New Brunswick",
          "New Brunswick",
          "New Brunswick",
          "New Brunswick",
          "New Brunswick",
          "New Brunswick",
          "New Brunswick",
          "New Brunswick",
          "New Brunswick",
          "New Brunswick",
          "New Brunswick",
          "New Brunswick",
          "New Brunswick",
          "New Brunswick",
          "New Brunswick",
          "New Brunswick",
          "New Brunswick",
          "New Brunswick",
          "New Brunswick",
          "New Brunswick",
          "New Brunswick"
         ],
         "x0": " ",
         "xaxis": "x",
         "y": [
          758378,
          758673,
          758298,
          758132,
          758544,
          758670,
          759018,
          758876,
          758976,
          759524,
          759617,
          758948,
          758842,
          759778,
          760580,
          762289,
          763350,
          764844,
          764617,
          764813,
          766621,
          767935,
          768005,
          768522,
          770301,
          772524,
          772748,
          773805,
          776868,
          780154,
          780040,
          781024,
          781476
         ],
         "y0": " ",
         "yaxis": "y"
        },
        {
         "alignmentgroup": "True",
         "hovertemplate": "<b>%{hovertext}</b><br><br>Geography=%{x}<br>PopulationSize=%{y}<extra></extra>",
         "hovertext": [
          "2012Q3",
          "2012Q4",
          "2013Q1",
          "2013Q2",
          "2013Q3",
          "2013Q4",
          "2014Q1",
          "2014Q2",
          "2014Q3",
          "2014Q4",
          "2015Q1",
          "2015Q2",
          "2015Q3",
          "2015Q4",
          "2016Q1",
          "2016Q2",
          "2016Q3",
          "2016Q4",
          "2017Q1",
          "2017Q2",
          "2017Q3",
          "2017Q4",
          "2018Q1",
          "2018Q2",
          "2018Q3",
          "2018Q4",
          "2019Q1",
          "2019Q2",
          "2019Q3",
          "2019Q4",
          "2020Q1",
          "2020Q2",
          "2020Q3"
         ],
         "legendgroup": "Québec",
         "marker": {
          "color": "#FFA15A"
         },
         "name": "Québec",
         "notched": false,
         "offsetgroup": "Québec",
         "orientation": "v",
         "showlegend": true,
         "type": "box",
         "x": [
          "Québec",
          "Québec",
          "Québec",
          "Québec",
          "Québec",
          "Québec",
          "Québec",
          "Québec",
          "Québec",
          "Québec",
          "Québec",
          "Québec",
          "Québec",
          "Québec",
          "Québec",
          "Québec",
          "Québec",
          "Québec",
          "Québec",
          "Québec",
          "Québec",
          "Québec",
          "Québec",
          "Québec",
          "Québec",
          "Québec",
          "Québec",
          "Québec",
          "Québec",
          "Québec",
          "Québec",
          "Québec",
          "Québec"
         ],
         "x0": " ",
         "xaxis": "x",
         "y": [
          8061101,
          8078388,
          8082771,
          8090916,
          8110880,
          8124660,
          8125478,
          8132425,
          8150183,
          8165447,
          8163132,
          8163063,
          8175272,
          8190014,
          8193624,
          8204085,
          8225950,
          8249692,
          8257450,
          8272894,
          8302063,
          8336460,
          8350601,
          8367551,
          8401738,
          8433888,
          8446906,
          8465271,
          8501703,
          8540429,
          8556650,
          8572054,
          8574571
         ],
         "y0": " ",
         "yaxis": "y"
        },
        {
         "alignmentgroup": "True",
         "hovertemplate": "<b>%{hovertext}</b><br><br>Geography=%{x}<br>PopulationSize=%{y}<extra></extra>",
         "hovertext": [
          "2012Q3",
          "2012Q4",
          "2013Q1",
          "2013Q2",
          "2013Q3",
          "2013Q4",
          "2014Q1",
          "2014Q2",
          "2014Q3",
          "2014Q4",
          "2015Q1",
          "2015Q2",
          "2015Q3",
          "2015Q4",
          "2016Q1",
          "2016Q2",
          "2016Q3",
          "2016Q4",
          "2017Q1",
          "2017Q2",
          "2017Q3",
          "2017Q4",
          "2018Q1",
          "2018Q2",
          "2018Q3",
          "2018Q4",
          "2019Q1",
          "2019Q2",
          "2019Q3",
          "2019Q4",
          "2020Q1",
          "2020Q2",
          "2020Q3"
         ],
         "legendgroup": "Ontario",
         "marker": {
          "color": "#19d3f3"
         },
         "name": "Ontario",
         "notched": false,
         "offsetgroup": "Ontario",
         "orientation": "v",
         "showlegend": true,
         "type": "box",
         "x": [
          "Ontario",
          "Ontario",
          "Ontario",
          "Ontario",
          "Ontario",
          "Ontario",
          "Ontario",
          "Ontario",
          "Ontario",
          "Ontario",
          "Ontario",
          "Ontario",
          "Ontario",
          "Ontario",
          "Ontario",
          "Ontario",
          "Ontario",
          "Ontario",
          "Ontario",
          "Ontario",
          "Ontario",
          "Ontario",
          "Ontario",
          "Ontario",
          "Ontario",
          "Ontario",
          "Ontario",
          "Ontario",
          "Ontario",
          "Ontario",
          "Ontario",
          "Ontario",
          "Ontario"
         ],
         "x0": " ",
         "xaxis": "x",
         "y": [
          13390632,
          13434943,
          13444704,
          13467829,
          13510781,
          13558528,
          13562583,
          13582747,
          13617553,
          13661314,
          13657737,
          13669860,
          13707118,
          13757688,
          13773629,
          13816545,
          13875394,
          13946431,
          13971785,
          14006386,
          14070141,
          14150783,
          14186830,
          14235643,
          14308697,
          14393683,
          14428712,
          14467162,
          14544718,
          14637880,
          14689075,
          14723497,
          14734014
         ],
         "y0": " ",
         "yaxis": "y"
        },
        {
         "alignmentgroup": "True",
         "hovertemplate": "<b>%{hovertext}</b><br><br>Geography=%{x}<br>PopulationSize=%{y}<extra></extra>",
         "hovertext": [
          "2012Q3",
          "2012Q4",
          "2013Q1",
          "2013Q2",
          "2013Q3",
          "2013Q4",
          "2014Q1",
          "2014Q2",
          "2014Q3",
          "2014Q4",
          "2015Q1",
          "2015Q2",
          "2015Q3",
          "2015Q4",
          "2016Q1",
          "2016Q2",
          "2016Q3",
          "2016Q4",
          "2017Q1",
          "2017Q2",
          "2017Q3",
          "2017Q4",
          "2018Q1",
          "2018Q2",
          "2018Q3",
          "2018Q4",
          "2019Q1",
          "2019Q2",
          "2019Q3",
          "2019Q4",
          "2020Q1",
          "2020Q2",
          "2020Q3"
         ],
         "legendgroup": "Manitoba",
         "marker": {
          "color": "#FF6692"
         },
         "name": "Manitoba",
         "notched": false,
         "offsetgroup": "Manitoba",
         "orientation": "v",
         "showlegend": true,
         "type": "box",
         "x": [
          "Manitoba",
          "Manitoba",
          "Manitoba",
          "Manitoba",
          "Manitoba",
          "Manitoba",
          "Manitoba",
          "Manitoba",
          "Manitoba",
          "Manitoba",
          "Manitoba",
          "Manitoba",
          "Manitoba",
          "Manitoba",
          "Manitoba",
          "Manitoba",
          "Manitoba",
          "Manitoba",
          "Manitoba",
          "Manitoba",
          "Manitoba",
          "Manitoba",
          "Manitoba",
          "Manitoba",
          "Manitoba",
          "Manitoba",
          "Manitoba",
          "Manitoba",
          "Manitoba",
          "Manitoba",
          "Manitoba",
          "Manitoba",
          "Manitoba"
         ],
         "x0": " ",
         "xaxis": "x",
         "y": [
          1249975,
          1254178,
          1257940,
          1260834,
          1264620,
          1268428,
          1271562,
          1274407,
          1279014,
          1283366,
          1286453,
          1288094,
          1292227,
          1297329,
          1302544,
          1307689,
          1314139,
          1319911,
          1324129,
          1328412,
          1334790,
          1340565,
          1344418,
          1347055,
          1352825,
          1357879,
          1361632,
          1364223,
          1369540,
          1373574,
          1377004,
          1378818,
          1379263
         ],
         "y0": " ",
         "yaxis": "y"
        },
        {
         "alignmentgroup": "True",
         "hovertemplate": "<b>%{hovertext}</b><br><br>Geography=%{x}<br>PopulationSize=%{y}<extra></extra>",
         "hovertext": [
          "2012Q3",
          "2012Q4",
          "2013Q1",
          "2013Q2",
          "2013Q3",
          "2013Q4",
          "2014Q1",
          "2014Q2",
          "2014Q3",
          "2014Q4",
          "2015Q1",
          "2015Q2",
          "2015Q3",
          "2015Q4",
          "2016Q1",
          "2016Q2",
          "2016Q3",
          "2016Q4",
          "2017Q1",
          "2017Q2",
          "2017Q3",
          "2017Q4",
          "2018Q1",
          "2018Q2",
          "2018Q3",
          "2018Q4",
          "2019Q1",
          "2019Q2",
          "2019Q3",
          "2019Q4",
          "2020Q1",
          "2020Q2",
          "2020Q3"
         ],
         "legendgroup": "Saskatchewan",
         "marker": {
          "color": "#B6E880"
         },
         "name": "Saskatchewan",
         "notched": false,
         "offsetgroup": "Saskatchewan",
         "orientation": "v",
         "showlegend": true,
         "type": "box",
         "x": [
          "Saskatchewan",
          "Saskatchewan",
          "Saskatchewan",
          "Saskatchewan",
          "Saskatchewan",
          "Saskatchewan",
          "Saskatchewan",
          "Saskatchewan",
          "Saskatchewan",
          "Saskatchewan",
          "Saskatchewan",
          "Saskatchewan",
          "Saskatchewan",
          "Saskatchewan",
          "Saskatchewan",
          "Saskatchewan",
          "Saskatchewan",
          "Saskatchewan",
          "Saskatchewan",
          "Saskatchewan",
          "Saskatchewan",
          "Saskatchewan",
          "Saskatchewan",
          "Saskatchewan",
          "Saskatchewan",
          "Saskatchewan",
          "Saskatchewan",
          "Saskatchewan",
          "Saskatchewan",
          "Saskatchewan",
          "Saskatchewan",
          "Saskatchewan",
          "Saskatchewan"
         ],
         "x0": " ",
         "xaxis": "x",
         "y": [
          1083755,
          1088959,
          1091547,
          1094390,
          1099736,
          1103730,
          1106374,
          1109631,
          1112979,
          1116203,
          1118181,
          1118806,
          1120967,
          1124919,
          1127773,
          1131147,
          1135987,
          1140690,
          1143313,
          1146218,
          1150331,
          1154755,
          1156659,
          1158451,
          1161767,
          1165938,
          1168461,
          1169286,
          1172302,
          1176272,
          1179154,
          1179618,
          1178681
         ],
         "y0": " ",
         "yaxis": "y"
        },
        {
         "alignmentgroup": "True",
         "hovertemplate": "<b>%{hovertext}</b><br><br>Geography=%{x}<br>PopulationSize=%{y}<extra></extra>",
         "hovertext": [
          "2012Q3",
          "2012Q4",
          "2013Q1",
          "2013Q2",
          "2013Q3",
          "2013Q4",
          "2014Q1",
          "2014Q2",
          "2014Q3",
          "2014Q4",
          "2015Q1",
          "2015Q2",
          "2015Q3",
          "2015Q4",
          "2016Q1",
          "2016Q2",
          "2016Q3",
          "2016Q4",
          "2017Q1",
          "2017Q2",
          "2017Q3",
          "2017Q4",
          "2018Q1",
          "2018Q2",
          "2018Q3",
          "2018Q4",
          "2019Q1",
          "2019Q2",
          "2019Q3",
          "2019Q4",
          "2020Q1",
          "2020Q2",
          "2020Q3"
         ],
         "legendgroup": "Alberta",
         "marker": {
          "color": "#FF97FF"
         },
         "name": "Alberta",
         "notched": false,
         "offsetgroup": "Alberta",
         "orientation": "v",
         "showlegend": true,
         "type": "box",
         "x": [
          "Alberta",
          "Alberta",
          "Alberta",
          "Alberta",
          "Alberta",
          "Alberta",
          "Alberta",
          "Alberta",
          "Alberta",
          "Alberta",
          "Alberta",
          "Alberta",
          "Alberta",
          "Alberta",
          "Alberta",
          "Alberta",
          "Alberta",
          "Alberta",
          "Alberta",
          "Alberta",
          "Alberta",
          "Alberta",
          "Alberta",
          "Alberta",
          "Alberta",
          "Alberta",
          "Alberta",
          "Alberta",
          "Alberta",
          "Alberta",
          "Alberta",
          "Alberta",
          "Alberta"
         ],
         "x0": " ",
         "xaxis": "x",
         "y": [
          3874548,
          3900333,
          3920499,
          3946798,
          3981011,
          4010903,
          4029951,
          4054280,
          4083648,
          4106056,
          4116047,
          4128300,
          4144491,
          4159519,
          4169830,
          4181765,
          4196061,
          4208958,
          4217855,
          4227969,
          4241100,
          4258195,
          4268853,
          4281706,
          4298275,
          4317453,
          4330698,
          4343951,
          4361694,
          4384968,
          4402045,
          4417006,
          4421876
         ],
         "y0": " ",
         "yaxis": "y"
        },
        {
         "alignmentgroup": "True",
         "hovertemplate": "<b>%{hovertext}</b><br><br>Geography=%{x}<br>PopulationSize=%{y}<extra></extra>",
         "hovertext": [
          "2012Q3",
          "2012Q4",
          "2013Q1",
          "2013Q2",
          "2013Q3",
          "2013Q4",
          "2014Q1",
          "2014Q2",
          "2014Q3",
          "2014Q4",
          "2015Q1",
          "2015Q2",
          "2015Q3",
          "2015Q4",
          "2016Q1",
          "2016Q2",
          "2016Q3",
          "2016Q4",
          "2017Q1",
          "2017Q2",
          "2017Q3",
          "2017Q4",
          "2018Q1",
          "2018Q2",
          "2018Q3",
          "2018Q4",
          "2019Q1",
          "2019Q2",
          "2019Q3",
          "2019Q4",
          "2020Q1",
          "2020Q2",
          "2020Q3"
         ],
         "legendgroup": "British Columbia",
         "marker": {
          "color": "#FECB52"
         },
         "name": "British Columbia",
         "notched": false,
         "offsetgroup": "British Columbia",
         "orientation": "v",
         "showlegend": true,
         "type": "box",
         "x": [
          "British Columbia",
          "British Columbia",
          "British Columbia",
          "British Columbia",
          "British Columbia",
          "British Columbia",
          "British Columbia",
          "British Columbia",
          "British Columbia",
          "British Columbia",
          "British Columbia",
          "British Columbia",
          "British Columbia",
          "British Columbia",
          "British Columbia",
          "British Columbia",
          "British Columbia",
          "British Columbia",
          "British Columbia",
          "British Columbia",
          "British Columbia",
          "British Columbia",
          "British Columbia",
          "British Columbia",
          "British Columbia",
          "British Columbia",
          "British Columbia",
          "British Columbia",
          "British Columbia",
          "British Columbia",
          "British Columbia",
          "British Columbia",
          "British Columbia"
         ],
         "x0": " ",
         "xaxis": "x",
         "y": [
          4566769,
          4590545,
          4598255,
          4611648,
          4630077,
          4658875,
          4666788,
          4684490,
          4707103,
          4737725,
          4745468,
          4757759,
          4776388,
          4802955,
          4811465,
          4832155,
          4859250,
          4884002,
          4890848,
          4905210,
          4929384,
          4956550,
          4967421,
          4983183,
          5010476,
          5039661,
          5046576,
          5063527,
          5090955,
          5125659,
          5131575,
          5142404,
          5147712
         ],
         "y0": " ",
         "yaxis": "y"
        }
       ],
       "layout": {
        "boxmode": "overlay",
        "legend": {
         "title": {
          "text": "Geography"
         },
         "tracegroupgap": 0
        },
        "margin": {
         "t": 60
        },
        "template": {
         "data": {
          "bar": [
           {
            "error_x": {
             "color": "#2a3f5f"
            },
            "error_y": {
             "color": "#2a3f5f"
            },
            "marker": {
             "line": {
              "color": "#E5ECF6",
              "width": 0.5
             },
             "pattern": {
              "fillmode": "overlay",
              "size": 10,
              "solidity": 0.2
             }
            },
            "type": "bar"
           }
          ],
          "barpolar": [
           {
            "marker": {
             "line": {
              "color": "#E5ECF6",
              "width": 0.5
             },
             "pattern": {
              "fillmode": "overlay",
              "size": 10,
              "solidity": 0.2
             }
            },
            "type": "barpolar"
           }
          ],
          "carpet": [
           {
            "aaxis": {
             "endlinecolor": "#2a3f5f",
             "gridcolor": "white",
             "linecolor": "white",
             "minorgridcolor": "white",
             "startlinecolor": "#2a3f5f"
            },
            "baxis": {
             "endlinecolor": "#2a3f5f",
             "gridcolor": "white",
             "linecolor": "white",
             "minorgridcolor": "white",
             "startlinecolor": "#2a3f5f"
            },
            "type": "carpet"
           }
          ],
          "choropleth": [
           {
            "colorbar": {
             "outlinewidth": 0,
             "ticks": ""
            },
            "type": "choropleth"
           }
          ],
          "contour": [
           {
            "colorbar": {
             "outlinewidth": 0,
             "ticks": ""
            },
            "colorscale": [
             [
              0,
              "#0d0887"
             ],
             [
              0.1111111111111111,
              "#46039f"
             ],
             [
              0.2222222222222222,
              "#7201a8"
             ],
             [
              0.3333333333333333,
              "#9c179e"
             ],
             [
              0.4444444444444444,
              "#bd3786"
             ],
             [
              0.5555555555555556,
              "#d8576b"
             ],
             [
              0.6666666666666666,
              "#ed7953"
             ],
             [
              0.7777777777777778,
              "#fb9f3a"
             ],
             [
              0.8888888888888888,
              "#fdca26"
             ],
             [
              1,
              "#f0f921"
             ]
            ],
            "type": "contour"
           }
          ],
          "contourcarpet": [
           {
            "colorbar": {
             "outlinewidth": 0,
             "ticks": ""
            },
            "type": "contourcarpet"
           }
          ],
          "heatmap": [
           {
            "colorbar": {
             "outlinewidth": 0,
             "ticks": ""
            },
            "colorscale": [
             [
              0,
              "#0d0887"
             ],
             [
              0.1111111111111111,
              "#46039f"
             ],
             [
              0.2222222222222222,
              "#7201a8"
             ],
             [
              0.3333333333333333,
              "#9c179e"
             ],
             [
              0.4444444444444444,
              "#bd3786"
             ],
             [
              0.5555555555555556,
              "#d8576b"
             ],
             [
              0.6666666666666666,
              "#ed7953"
             ],
             [
              0.7777777777777778,
              "#fb9f3a"
             ],
             [
              0.8888888888888888,
              "#fdca26"
             ],
             [
              1,
              "#f0f921"
             ]
            ],
            "type": "heatmap"
           }
          ],
          "heatmapgl": [
           {
            "colorbar": {
             "outlinewidth": 0,
             "ticks": ""
            },
            "colorscale": [
             [
              0,
              "#0d0887"
             ],
             [
              0.1111111111111111,
              "#46039f"
             ],
             [
              0.2222222222222222,
              "#7201a8"
             ],
             [
              0.3333333333333333,
              "#9c179e"
             ],
             [
              0.4444444444444444,
              "#bd3786"
             ],
             [
              0.5555555555555556,
              "#d8576b"
             ],
             [
              0.6666666666666666,
              "#ed7953"
             ],
             [
              0.7777777777777778,
              "#fb9f3a"
             ],
             [
              0.8888888888888888,
              "#fdca26"
             ],
             [
              1,
              "#f0f921"
             ]
            ],
            "type": "heatmapgl"
           }
          ],
          "histogram": [
           {
            "marker": {
             "pattern": {
              "fillmode": "overlay",
              "size": 10,
              "solidity": 0.2
             }
            },
            "type": "histogram"
           }
          ],
          "histogram2d": [
           {
            "colorbar": {
             "outlinewidth": 0,
             "ticks": ""
            },
            "colorscale": [
             [
              0,
              "#0d0887"
             ],
             [
              0.1111111111111111,
              "#46039f"
             ],
             [
              0.2222222222222222,
              "#7201a8"
             ],
             [
              0.3333333333333333,
              "#9c179e"
             ],
             [
              0.4444444444444444,
              "#bd3786"
             ],
             [
              0.5555555555555556,
              "#d8576b"
             ],
             [
              0.6666666666666666,
              "#ed7953"
             ],
             [
              0.7777777777777778,
              "#fb9f3a"
             ],
             [
              0.8888888888888888,
              "#fdca26"
             ],
             [
              1,
              "#f0f921"
             ]
            ],
            "type": "histogram2d"
           }
          ],
          "histogram2dcontour": [
           {
            "colorbar": {
             "outlinewidth": 0,
             "ticks": ""
            },
            "colorscale": [
             [
              0,
              "#0d0887"
             ],
             [
              0.1111111111111111,
              "#46039f"
             ],
             [
              0.2222222222222222,
              "#7201a8"
             ],
             [
              0.3333333333333333,
              "#9c179e"
             ],
             [
              0.4444444444444444,
              "#bd3786"
             ],
             [
              0.5555555555555556,
              "#d8576b"
             ],
             [
              0.6666666666666666,
              "#ed7953"
             ],
             [
              0.7777777777777778,
              "#fb9f3a"
             ],
             [
              0.8888888888888888,
              "#fdca26"
             ],
             [
              1,
              "#f0f921"
             ]
            ],
            "type": "histogram2dcontour"
           }
          ],
          "mesh3d": [
           {
            "colorbar": {
             "outlinewidth": 0,
             "ticks": ""
            },
            "type": "mesh3d"
           }
          ],
          "parcoords": [
           {
            "line": {
             "colorbar": {
              "outlinewidth": 0,
              "ticks": ""
             }
            },
            "type": "parcoords"
           }
          ],
          "pie": [
           {
            "automargin": true,
            "type": "pie"
           }
          ],
          "scatter": [
           {
            "fillpattern": {
             "fillmode": "overlay",
             "size": 10,
             "solidity": 0.2
            },
            "type": "scatter"
           }
          ],
          "scatter3d": [
           {
            "line": {
             "colorbar": {
              "outlinewidth": 0,
              "ticks": ""
             }
            },
            "marker": {
             "colorbar": {
              "outlinewidth": 0,
              "ticks": ""
             }
            },
            "type": "scatter3d"
           }
          ],
          "scattercarpet": [
           {
            "marker": {
             "colorbar": {
              "outlinewidth": 0,
              "ticks": ""
             }
            },
            "type": "scattercarpet"
           }
          ],
          "scattergeo": [
           {
            "marker": {
             "colorbar": {
              "outlinewidth": 0,
              "ticks": ""
             }
            },
            "type": "scattergeo"
           }
          ],
          "scattergl": [
           {
            "marker": {
             "colorbar": {
              "outlinewidth": 0,
              "ticks": ""
             }
            },
            "type": "scattergl"
           }
          ],
          "scattermapbox": [
           {
            "marker": {
             "colorbar": {
              "outlinewidth": 0,
              "ticks": ""
             }
            },
            "type": "scattermapbox"
           }
          ],
          "scatterpolar": [
           {
            "marker": {
             "colorbar": {
              "outlinewidth": 0,
              "ticks": ""
             }
            },
            "type": "scatterpolar"
           }
          ],
          "scatterpolargl": [
           {
            "marker": {
             "colorbar": {
              "outlinewidth": 0,
              "ticks": ""
             }
            },
            "type": "scatterpolargl"
           }
          ],
          "scatterternary": [
           {
            "marker": {
             "colorbar": {
              "outlinewidth": 0,
              "ticks": ""
             }
            },
            "type": "scatterternary"
           }
          ],
          "surface": [
           {
            "colorbar": {
             "outlinewidth": 0,
             "ticks": ""
            },
            "colorscale": [
             [
              0,
              "#0d0887"
             ],
             [
              0.1111111111111111,
              "#46039f"
             ],
             [
              0.2222222222222222,
              "#7201a8"
             ],
             [
              0.3333333333333333,
              "#9c179e"
             ],
             [
              0.4444444444444444,
              "#bd3786"
             ],
             [
              0.5555555555555556,
              "#d8576b"
             ],
             [
              0.6666666666666666,
              "#ed7953"
             ],
             [
              0.7777777777777778,
              "#fb9f3a"
             ],
             [
              0.8888888888888888,
              "#fdca26"
             ],
             [
              1,
              "#f0f921"
             ]
            ],
            "type": "surface"
           }
          ],
          "table": [
           {
            "cells": {
             "fill": {
              "color": "#EBF0F8"
             },
             "line": {
              "color": "white"
             }
            },
            "header": {
             "fill": {
              "color": "#C8D4E3"
             },
             "line": {
              "color": "white"
             }
            },
            "type": "table"
           }
          ]
         },
         "layout": {
          "annotationdefaults": {
           "arrowcolor": "#2a3f5f",
           "arrowhead": 0,
           "arrowwidth": 1
          },
          "autotypenumbers": "strict",
          "coloraxis": {
           "colorbar": {
            "outlinewidth": 0,
            "ticks": ""
           }
          },
          "colorscale": {
           "diverging": [
            [
             0,
             "#8e0152"
            ],
            [
             0.1,
             "#c51b7d"
            ],
            [
             0.2,
             "#de77ae"
            ],
            [
             0.3,
             "#f1b6da"
            ],
            [
             0.4,
             "#fde0ef"
            ],
            [
             0.5,
             "#f7f7f7"
            ],
            [
             0.6,
             "#e6f5d0"
            ],
            [
             0.7,
             "#b8e186"
            ],
            [
             0.8,
             "#7fbc41"
            ],
            [
             0.9,
             "#4d9221"
            ],
            [
             1,
             "#276419"
            ]
           ],
           "sequential": [
            [
             0,
             "#0d0887"
            ],
            [
             0.1111111111111111,
             "#46039f"
            ],
            [
             0.2222222222222222,
             "#7201a8"
            ],
            [
             0.3333333333333333,
             "#9c179e"
            ],
            [
             0.4444444444444444,
             "#bd3786"
            ],
            [
             0.5555555555555556,
             "#d8576b"
            ],
            [
             0.6666666666666666,
             "#ed7953"
            ],
            [
             0.7777777777777778,
             "#fb9f3a"
            ],
            [
             0.8888888888888888,
             "#fdca26"
            ],
            [
             1,
             "#f0f921"
            ]
           ],
           "sequentialminus": [
            [
             0,
             "#0d0887"
            ],
            [
             0.1111111111111111,
             "#46039f"
            ],
            [
             0.2222222222222222,
             "#7201a8"
            ],
            [
             0.3333333333333333,
             "#9c179e"
            ],
            [
             0.4444444444444444,
             "#bd3786"
            ],
            [
             0.5555555555555556,
             "#d8576b"
            ],
            [
             0.6666666666666666,
             "#ed7953"
            ],
            [
             0.7777777777777778,
             "#fb9f3a"
            ],
            [
             0.8888888888888888,
             "#fdca26"
            ],
            [
             1,
             "#f0f921"
            ]
           ]
          },
          "colorway": [
           "#636efa",
           "#EF553B",
           "#00cc96",
           "#ab63fa",
           "#FFA15A",
           "#19d3f3",
           "#FF6692",
           "#B6E880",
           "#FF97FF",
           "#FECB52"
          ],
          "font": {
           "color": "#2a3f5f"
          },
          "geo": {
           "bgcolor": "white",
           "lakecolor": "white",
           "landcolor": "#E5ECF6",
           "showlakes": true,
           "showland": true,
           "subunitcolor": "white"
          },
          "hoverlabel": {
           "align": "left"
          },
          "hovermode": "closest",
          "mapbox": {
           "style": "light"
          },
          "paper_bgcolor": "white",
          "plot_bgcolor": "#E5ECF6",
          "polar": {
           "angularaxis": {
            "gridcolor": "white",
            "linecolor": "white",
            "ticks": ""
           },
           "bgcolor": "#E5ECF6",
           "radialaxis": {
            "gridcolor": "white",
            "linecolor": "white",
            "ticks": ""
           }
          },
          "scene": {
           "xaxis": {
            "backgroundcolor": "#E5ECF6",
            "gridcolor": "white",
            "gridwidth": 2,
            "linecolor": "white",
            "showbackground": true,
            "ticks": "",
            "zerolinecolor": "white"
           },
           "yaxis": {
            "backgroundcolor": "#E5ECF6",
            "gridcolor": "white",
            "gridwidth": 2,
            "linecolor": "white",
            "showbackground": true,
            "ticks": "",
            "zerolinecolor": "white"
           },
           "zaxis": {
            "backgroundcolor": "#E5ECF6",
            "gridcolor": "white",
            "gridwidth": 2,
            "linecolor": "white",
            "showbackground": true,
            "ticks": "",
            "zerolinecolor": "white"
           }
          },
          "shapedefaults": {
           "line": {
            "color": "#2a3f5f"
           }
          },
          "ternary": {
           "aaxis": {
            "gridcolor": "white",
            "linecolor": "white",
            "ticks": ""
           },
           "baxis": {
            "gridcolor": "white",
            "linecolor": "white",
            "ticks": ""
           },
           "bgcolor": "#E5ECF6",
           "caxis": {
            "gridcolor": "white",
            "linecolor": "white",
            "ticks": ""
           }
          },
          "title": {
           "x": 0.05
          },
          "xaxis": {
           "automargin": true,
           "gridcolor": "white",
           "linecolor": "white",
           "ticks": "",
           "title": {
            "standoff": 15
           },
           "zerolinecolor": "white",
           "zerolinewidth": 2
          },
          "yaxis": {
           "automargin": true,
           "gridcolor": "white",
           "linecolor": "white",
           "ticks": "",
           "title": {
            "standoff": 15
           },
           "zerolinecolor": "white",
           "zerolinewidth": 2
          }
         }
        },
        "title": {
         "text": "Chart: box plot of Geography and PopulationSize by Geography"
        },
        "xaxis": {
         "anchor": "y",
         "categoryarray": [
          "Newfoundland",
          "Prince Edward Island",
          "Nova Scotia",
          "New Brunswick",
          "Québec",
          "Ontario",
          "Manitoba",
          "Saskatchewan",
          "Alberta",
          "British Columbia"
         ],
         "categoryorder": "array",
         "domain": [
          0,
          1
         ],
         "tickangle": -45,
         "title": {
          "text": "Geography"
         }
        },
        "yaxis": {
         "anchor": "x",
         "domain": [
          0,
          1
         ],
         "title": {
          "text": "PopulationSize"
         }
        }
       }
      }
     },
     "metadata": {},
     "output_type": "display_data"
    }
   ],
   "source": [
    "graph_region(data_pop_del_mort_df, 'box', \"Geography\", \"PopulationSize\")"
   ]
  },
  {
   "cell_type": "code",
   "execution_count": 34,
   "metadata": {
    "jupyter": {
     "outputs_hidden": false,
     "source_hidden": false
    },
    "noteable": {
     "cell_type": "code"
    },
    "nteract": {
     "transient": {
      "deleting": false
     }
    },
    "slideshow": {
     "slide_type": "subslide"
    }
   },
   "outputs": [
    {
     "data": {
      "application/vnd.plotly.v1+json": {
       "config": {
        "plotlyServerURL": "https://plot.ly"
       },
       "data": [
        {
         "hovertemplate": "<b>%{hovertext}</b><br><br>Geography=Newfoundland<br>AverageMortgageAmount=%{x}<br>DelinquencyRate=%{y}<extra></extra>",
         "hovertext": [
          "2012Q3",
          "2012Q4",
          "2013Q1",
          "2013Q2",
          "2013Q3",
          "2013Q4",
          "2014Q1",
          "2014Q2",
          "2014Q3",
          "2014Q4",
          "2015Q1",
          "2015Q2",
          "2015Q3",
          "2015Q4",
          "2016Q1",
          "2016Q2",
          "2016Q3",
          "2016Q4",
          "2017Q1",
          "2017Q2",
          "2017Q3",
          "2017Q4",
          "2018Q1",
          "2018Q2",
          "2018Q3",
          "2018Q4",
          "2019Q1",
          "2019Q2",
          "2019Q3",
          "2019Q4",
          "2020Q1",
          "2020Q2",
          "2020Q3"
         ],
         "legendgroup": "Newfoundland",
         "marker": {
          "color": "#636efa",
          "symbol": "circle"
         },
         "mode": "markers",
         "name": "Newfoundland",
         "orientation": "v",
         "showlegend": true,
         "type": "scatter",
         "x": [
          188732,
          185794,
          189098,
          181331,
          191818,
          193100,
          195479,
          192856,
          199560,
          200310,
          197406,
          193956,
          199758,
          202487,
          196798,
          196806,
          198265,
          197794,
          192057,
          191412,
          200378,
          193619,
          196431,
          192252,
          192106,
          188614,
          185276,
          190582,
          194536,
          193870,
          186268,
          187431,
          196100
         ],
         "xaxis": "x",
         "y": [
          0.24,
          0.22,
          0.25,
          0.19,
          0.2,
          0.22,
          0.23,
          0.25,
          0.26,
          0.28,
          0.37,
          0.37,
          0.37,
          0.41,
          0.45,
          0.46,
          0.49,
          0.46,
          0.47,
          0.47,
          0.46,
          0.52,
          0.56,
          0.6,
          0.6,
          0.62,
          0.64,
          0.65,
          0.65,
          0.65,
          0.67,
          0.68,
          0.64
         ],
         "yaxis": "y"
        },
        {
         "hovertemplate": "<b>%{hovertext}</b><br><br>Geography=Prince Edward Island<br>AverageMortgageAmount=%{x}<br>DelinquencyRate=%{y}<extra></extra>",
         "hovertext": [
          "2012Q3",
          "2012Q4",
          "2013Q1",
          "2013Q2",
          "2013Q3",
          "2013Q4",
          "2014Q1",
          "2014Q2",
          "2014Q3",
          "2014Q4",
          "2015Q1",
          "2015Q2",
          "2015Q3",
          "2015Q4",
          "2016Q1",
          "2016Q2",
          "2016Q3",
          "2016Q4",
          "2017Q1",
          "2017Q2",
          "2017Q3",
          "2017Q4",
          "2018Q1",
          "2018Q2",
          "2018Q3",
          "2018Q4",
          "2019Q1",
          "2019Q2",
          "2019Q3",
          "2019Q4",
          "2020Q1",
          "2020Q2",
          "2020Q3"
         ],
         "legendgroup": "Prince Edward Island",
         "marker": {
          "color": "#EF553B",
          "symbol": "circle"
         },
         "mode": "markers",
         "name": "Prince Edward Island",
         "orientation": "v",
         "showlegend": true,
         "type": "scatter",
         "x": [
          140279,
          138415,
          137162,
          126763,
          139506,
          141453,
          141141,
          137427,
          143320,
          141232,
          146885,
          146818,
          150403,
          155926,
          157322,
          150732,
          169651,
          155799,
          175124,
          174901,
          176919,
          175523,
          179179,
          182114,
          181967,
          178140,
          181172,
          181358,
          190715,
          185934,
          193439,
          189309,
          204415
         ],
         "xaxis": "x",
         "y": [
          0.57,
          0.5,
          0.55,
          0.47,
          0.56,
          0.58,
          0.6,
          0.6,
          0.56,
          0.57,
          0.68,
          0.62,
          0.63,
          0.67,
          0.7,
          0.7,
          0.67,
          0.6,
          0.66,
          0.55,
          0.54,
          0.44,
          0.5,
          0.45,
          0.43,
          0.39,
          0.39,
          0.38,
          0.34,
          0.32,
          0.25,
          0.26,
          0.27
         ],
         "yaxis": "y"
        },
        {
         "hovertemplate": "<b>%{hovertext}</b><br><br>Geography=Nova Scotia<br>AverageMortgageAmount=%{x}<br>DelinquencyRate=%{y}<extra></extra>",
         "hovertext": [
          "2012Q3",
          "2012Q4",
          "2013Q1",
          "2013Q2",
          "2013Q3",
          "2013Q4",
          "2014Q1",
          "2014Q2",
          "2014Q3",
          "2014Q4",
          "2015Q1",
          "2015Q2",
          "2015Q3",
          "2015Q4",
          "2016Q1",
          "2016Q2",
          "2016Q3",
          "2016Q4",
          "2017Q1",
          "2017Q2",
          "2017Q3",
          "2017Q4",
          "2018Q1",
          "2018Q2",
          "2018Q3",
          "2018Q4",
          "2019Q1",
          "2019Q2",
          "2019Q3",
          "2019Q4",
          "2020Q1",
          "2020Q2",
          "2020Q3"
         ],
         "legendgroup": "Nova Scotia",
         "marker": {
          "color": "#00cc96",
          "symbol": "circle"
         },
         "mode": "markers",
         "name": "Nova Scotia",
         "orientation": "v",
         "showlegend": true,
         "type": "scatter",
         "x": [
          174688,
          160046,
          158806,
          159945,
          166426,
          160189,
          161383,
          157664,
          172827,
          163584,
          163607,
          165288,
          178091,
          172863,
          167596,
          168948,
          178784,
          173305,
          186024,
          182526,
          194802,
          188559,
          185858,
          179407,
          190443,
          179921,
          177863,
          180958,
          193586,
          190168,
          188267,
          192060,
          207877
         ],
         "xaxis": "x",
         "y": [
          0.53,
          0.53,
          0.55,
          0.56,
          0.58,
          0.62,
          0.65,
          0.65,
          0.67,
          0.68,
          0.7,
          0.67,
          0.66,
          0.68,
          0.7,
          0.72,
          0.76,
          0.75,
          0.7,
          0.64,
          0.6,
          0.58,
          0.59,
          0.54,
          0.52,
          0.56,
          0.54,
          0.52,
          0.5,
          0.5,
          0.46,
          0.47,
          0.45
         ],
         "yaxis": "y"
        },
        {
         "hovertemplate": "<b>%{hovertext}</b><br><br>Geography=New Brunswick<br>AverageMortgageAmount=%{x}<br>DelinquencyRate=%{y}<extra></extra>",
         "hovertext": [
          "2012Q3",
          "2012Q4",
          "2013Q1",
          "2013Q2",
          "2013Q3",
          "2013Q4",
          "2014Q1",
          "2014Q2",
          "2014Q3",
          "2014Q4",
          "2015Q1",
          "2015Q2",
          "2015Q3",
          "2015Q4",
          "2016Q1",
          "2016Q2",
          "2016Q3",
          "2016Q4",
          "2017Q1",
          "2017Q2",
          "2017Q3",
          "2017Q4",
          "2018Q1",
          "2018Q2",
          "2018Q3",
          "2018Q4",
          "2019Q1",
          "2019Q2",
          "2019Q3",
          "2019Q4",
          "2020Q1",
          "2020Q2",
          "2020Q3"
         ],
         "legendgroup": "New Brunswick",
         "marker": {
          "color": "#ab63fa",
          "symbol": "circle"
         },
         "mode": "markers",
         "name": "New Brunswick",
         "orientation": "v",
         "showlegend": true,
         "type": "scatter",
         "x": [
          133390,
          126138,
          124645,
          122572,
          131542,
          128155,
          127766,
          124221,
          135592,
          132766,
          132025,
          128378,
          137565,
          137039,
          132325,
          133027,
          143533,
          140124,
          141196,
          135748,
          147934,
          142799,
          139711,
          139750,
          150353,
          143324,
          140850,
          137809,
          152606,
          147047,
          146701,
          149590,
          160349
         ],
         "xaxis": "x",
         "y": [
          0.63,
          0.63,
          0.65,
          0.6,
          0.61,
          0.68,
          0.72,
          0.67,
          0.72,
          0.72,
          0.79,
          0.8,
          0.81,
          0.79,
          0.82,
          0.78,
          0.84,
          0.79,
          0.78,
          0.73,
          0.71,
          0.66,
          0.65,
          0.59,
          0.58,
          0.62,
          0.63,
          0.6,
          0.57,
          0.57,
          0.57,
          0.54,
          0.52
         ],
         "yaxis": "y"
        },
        {
         "hovertemplate": "<b>%{hovertext}</b><br><br>Geography=Québec<br>AverageMortgageAmount=%{x}<br>DelinquencyRate=%{y}<extra></extra>",
         "hovertext": [
          "2012Q3",
          "2012Q4",
          "2013Q1",
          "2013Q2",
          "2013Q3",
          "2013Q4",
          "2014Q1",
          "2014Q2",
          "2014Q3",
          "2014Q4",
          "2015Q1",
          "2015Q2",
          "2015Q3",
          "2015Q4",
          "2016Q1",
          "2016Q2",
          "2016Q3",
          "2016Q4",
          "2017Q1",
          "2017Q2",
          "2017Q3",
          "2017Q4",
          "2018Q1",
          "2018Q2",
          "2018Q3",
          "2018Q4",
          "2019Q1",
          "2019Q2",
          "2019Q3",
          "2019Q4",
          "2020Q1",
          "2020Q2",
          "2020Q3"
         ],
         "legendgroup": "Québec",
         "marker": {
          "color": "#FFA15A",
          "symbol": "circle"
         },
         "mode": "markers",
         "name": "Québec",
         "orientation": "v",
         "showlegend": true,
         "type": "scatter",
         "x": [
          159661,
          153413,
          153909,
          155016,
          160147,
          155512,
          156424,
          160165,
          166426,
          160073,
          161563,
          164764,
          170403,
          164235,
          167154,
          169326,
          176522,
          170309,
          171992,
          171716,
          177306,
          173182,
          175297,
          183507,
          187727,
          173911,
          175658,
          179523,
          187136,
          183501,
          189390,
          195538,
          203861
         ],
         "xaxis": "x",
         "y": [
          0.33,
          0.33,
          0.35,
          0.34,
          0.33,
          0.35,
          0.37,
          0.36,
          0.37,
          0.39,
          0.42,
          0.41,
          0.41,
          0.42,
          0.44,
          0.43,
          0.42,
          0.4,
          0.41,
          0.4,
          0.37,
          0.34,
          0.34,
          0.35,
          0.35,
          0.38,
          0.38,
          0.37,
          0.37,
          0.36,
          0.36,
          0.34,
          0.36
         ],
         "yaxis": "y"
        },
        {
         "hovertemplate": "<b>%{hovertext}</b><br><br>Geography=Ontario<br>AverageMortgageAmount=%{x}<br>DelinquencyRate=%{y}<extra></extra>",
         "hovertext": [
          "2012Q3",
          "2012Q4",
          "2013Q1",
          "2013Q2",
          "2013Q3",
          "2013Q4",
          "2014Q1",
          "2014Q2",
          "2014Q3",
          "2014Q4",
          "2015Q1",
          "2015Q2",
          "2015Q3",
          "2015Q4",
          "2016Q1",
          "2016Q2",
          "2016Q3",
          "2016Q4",
          "2017Q1",
          "2017Q2",
          "2017Q3",
          "2017Q4",
          "2018Q1",
          "2018Q2",
          "2018Q3",
          "2018Q4",
          "2019Q1",
          "2019Q2",
          "2019Q3",
          "2019Q4",
          "2020Q1",
          "2020Q2",
          "2020Q3"
         ],
         "legendgroup": "Ontario",
         "marker": {
          "color": "#19d3f3",
          "symbol": "circle"
         },
         "mode": "markers",
         "name": "Ontario",
         "orientation": "v",
         "showlegend": true,
         "type": "scatter",
         "x": [
          247455,
          235667,
          233122,
          230770,
          249054,
          244060,
          244077,
          240828,
          262838,
          257244,
          254854,
          259093,
          281259,
          277802,
          278626,
          285024,
          307369,
          310236,
          319009,
          326645,
          338561,
          323821,
          322179,
          315576,
          327367,
          321579,
          321074,
          324080,
          343117,
          343768,
          348272,
          363432,
          373371
         ],
         "xaxis": "x",
         "y": [
          0.31,
          0.31,
          0.31,
          0.29,
          0.28,
          0.28,
          0.29,
          0.27,
          0.27,
          0.26,
          0.27,
          0.25,
          0.24,
          0.23,
          0.24,
          0.22,
          0.2,
          0.19,
          0.18,
          0.16,
          0.16,
          0.15,
          0.15,
          0.14,
          0.13,
          0.14,
          0.14,
          0.14,
          0.14,
          0.14,
          0.14,
          0.14,
          0.14
         ],
         "yaxis": "y"
        },
        {
         "hovertemplate": "<b>%{hovertext}</b><br><br>Geography=Manitoba<br>AverageMortgageAmount=%{x}<br>DelinquencyRate=%{y}<extra></extra>",
         "hovertext": [
          "2012Q3",
          "2012Q4",
          "2013Q1",
          "2013Q2",
          "2013Q3",
          "2013Q4",
          "2014Q1",
          "2014Q2",
          "2014Q3",
          "2014Q4",
          "2015Q1",
          "2015Q2",
          "2015Q3",
          "2015Q4",
          "2016Q1",
          "2016Q2",
          "2016Q3",
          "2016Q4",
          "2017Q1",
          "2017Q2",
          "2017Q3",
          "2017Q4",
          "2018Q1",
          "2018Q2",
          "2018Q3",
          "2018Q4",
          "2019Q1",
          "2019Q2",
          "2019Q3",
          "2019Q4",
          "2020Q1",
          "2020Q2",
          "2020Q3"
         ],
         "legendgroup": "Manitoba",
         "marker": {
          "color": "#FF6692",
          "symbol": "circle"
         },
         "mode": "markers",
         "name": "Manitoba",
         "orientation": "v",
         "showlegend": true,
         "type": "scatter",
         "x": [
          188298,
          181097,
          177560,
          177517,
          192732,
          189570,
          188107,
          184554,
          200051,
          197527,
          191444,
          190383,
          206275,
          201640,
          193970,
          196385,
          209051,
          206958,
          203999,
          205085,
          216750,
          217136,
          207988,
          207436,
          220454,
          214060,
          206692,
          214873,
          222637,
          218918,
          212508,
          217416,
          232725
         ],
         "xaxis": "x",
         "y": [
          0.25,
          0.27,
          0.28,
          0.26,
          0.28,
          0.28,
          0.28,
          0.25,
          0.24,
          0.27,
          0.31,
          0.3,
          0.29,
          0.33,
          0.34,
          0.35,
          0.34,
          0.35,
          0.36,
          0.35,
          0.33,
          0.3,
          0.3,
          0.31,
          0.32,
          0.35,
          0.35,
          0.35,
          0.34,
          0.36,
          0.37,
          0.38,
          0.35
         ],
         "yaxis": "y"
        },
        {
         "hovertemplate": "<b>%{hovertext}</b><br><br>Geography=Saskatchewan<br>AverageMortgageAmount=%{x}<br>DelinquencyRate=%{y}<extra></extra>",
         "hovertext": [
          "2012Q3",
          "2012Q4",
          "2013Q1",
          "2013Q2",
          "2013Q3",
          "2013Q4",
          "2014Q1",
          "2014Q2",
          "2014Q3",
          "2014Q4",
          "2015Q1",
          "2015Q2",
          "2015Q3",
          "2015Q4",
          "2016Q1",
          "2016Q2",
          "2016Q3",
          "2016Q4",
          "2017Q1",
          "2017Q2",
          "2017Q3",
          "2017Q4",
          "2018Q1",
          "2018Q2",
          "2018Q3",
          "2018Q4",
          "2019Q1",
          "2019Q2",
          "2019Q3",
          "2019Q4",
          "2020Q1",
          "2020Q2",
          "2020Q3"
         ],
         "legendgroup": "Saskatchewan",
         "marker": {
          "color": "#B6E880",
          "symbol": "circle"
         },
         "mode": "markers",
         "name": "Saskatchewan",
         "orientation": "v",
         "showlegend": true,
         "type": "scatter",
         "x": [
          217945,
          213126,
          206354,
          211979,
          224868,
          225414,
          226559,
          218781,
          231768,
          233854,
          228569,
          226957,
          234840,
          231611,
          225641,
          230729,
          236380,
          232174,
          234786,
          233545,
          238533,
          234340,
          230702,
          229851,
          233255,
          223628,
          217157,
          216369,
          228721,
          224315,
          216188,
          225641,
          237386
         ],
         "xaxis": "x",
         "y": [
          0.37,
          0.37,
          0.36,
          0.34,
          0.3,
          0.32,
          0.35,
          0.31,
          0.32,
          0.36,
          0.41,
          0.43,
          0.45,
          0.49,
          0.54,
          0.57,
          0.61,
          0.62,
          0.62,
          0.66,
          0.65,
          0.66,
          0.66,
          0.67,
          0.7,
          0.72,
          0.74,
          0.75,
          0.73,
          0.73,
          0.75,
          0.76,
          0.72
         ],
         "yaxis": "y"
        },
        {
         "hovertemplate": "<b>%{hovertext}</b><br><br>Geography=Alberta<br>AverageMortgageAmount=%{x}<br>DelinquencyRate=%{y}<extra></extra>",
         "hovertext": [
          "2012Q3",
          "2012Q4",
          "2013Q1",
          "2013Q2",
          "2013Q3",
          "2013Q4",
          "2014Q1",
          "2014Q2",
          "2014Q3",
          "2014Q4",
          "2015Q1",
          "2015Q2",
          "2015Q3",
          "2015Q4",
          "2016Q1",
          "2016Q2",
          "2016Q3",
          "2016Q4",
          "2017Q1",
          "2017Q2",
          "2017Q3",
          "2017Q4",
          "2018Q1",
          "2018Q2",
          "2018Q3",
          "2018Q4",
          "2019Q1",
          "2019Q2",
          "2019Q3",
          "2019Q4",
          "2020Q1",
          "2020Q2",
          "2020Q3"
         ],
         "legendgroup": "Alberta",
         "marker": {
          "color": "#FF97FF",
          "symbol": "circle"
         },
         "mode": "markers",
         "name": "Alberta",
         "orientation": "v",
         "showlegend": true,
         "type": "scatter",
         "x": [
          282371,
          277555,
          277158,
          278516,
          289263,
          284928,
          291926,
          290722,
          304374,
          305558,
          303976,
          299837,
          309953,
          303244,
          296111,
          298884,
          304683,
          302095,
          301254,
          300115,
          307837,
          307662,
          302814,
          302116,
          305101,
          295839,
          291721,
          293612,
          297609,
          297552,
          291747,
          296269,
          305600
         ],
         "xaxis": "x",
         "y": [
          0.6,
          0.55,
          0.52,
          0.47,
          0.45,
          0.43,
          0.42,
          0.37,
          0.34,
          0.32,
          0.32,
          0.33,
          0.35,
          0.36,
          0.41,
          0.45,
          0.53,
          0.53,
          0.54,
          0.52,
          0.51,
          0.5,
          0.5,
          0.46,
          0.47,
          0.5,
          0.51,
          0.53,
          0.51,
          0.5,
          0.52,
          0.52,
          0.5
         ],
         "yaxis": "y"
        },
        {
         "hovertemplate": "<b>%{hovertext}</b><br><br>Geography=British Columbia<br>AverageMortgageAmount=%{x}<br>DelinquencyRate=%{y}<extra></extra>",
         "hovertext": [
          "2012Q3",
          "2012Q4",
          "2013Q1",
          "2013Q2",
          "2013Q3",
          "2013Q4",
          "2014Q1",
          "2014Q2",
          "2014Q3",
          "2014Q4",
          "2015Q1",
          "2015Q2",
          "2015Q3",
          "2015Q4",
          "2016Q1",
          "2016Q2",
          "2016Q3",
          "2016Q4",
          "2017Q1",
          "2017Q2",
          "2017Q3",
          "2017Q4",
          "2018Q1",
          "2018Q2",
          "2018Q3",
          "2018Q4",
          "2019Q1",
          "2019Q2",
          "2019Q3",
          "2019Q4",
          "2020Q1",
          "2020Q2",
          "2020Q3"
         ],
         "legendgroup": "British Columbia",
         "marker": {
          "color": "#FECB52",
          "symbol": "circle"
         },
         "mode": "markers",
         "name": "British Columbia",
         "orientation": "v",
         "showlegend": true,
         "type": "scatter",
         "x": [
          305427,
          289864,
          286652,
          290928,
          303663,
          305256,
          309374,
          305138,
          321625,
          323373,
          325035,
          328540,
          350672,
          357016,
          368782,
          385910,
          395297,
          366703,
          358655,
          369174,
          389430,
          381223,
          384794,
          371860,
          378187,
          364330,
          363239,
          363924,
          376343,
          386494,
          393711,
          397853,
          417004
         ],
         "xaxis": "x",
         "y": [
          0.42,
          0.42,
          0.43,
          0.43,
          0.42,
          0.43,
          0.43,
          0.4,
          0.4,
          0.4,
          0.4,
          0.38,
          0.34,
          0.32,
          0.32,
          0.29,
          0.26,
          0.25,
          0.23,
          0.2,
          0.18,
          0.18,
          0.17,
          0.17,
          0.16,
          0.17,
          0.17,
          0.17,
          0.16,
          0.16,
          0.17,
          0.19,
          0.19
         ],
         "yaxis": "y"
        }
       ],
       "layout": {
        "legend": {
         "title": {
          "text": "Geography"
         },
         "tracegroupgap": 0
        },
        "margin": {
         "t": 60
        },
        "template": {
         "data": {
          "bar": [
           {
            "error_x": {
             "color": "#2a3f5f"
            },
            "error_y": {
             "color": "#2a3f5f"
            },
            "marker": {
             "line": {
              "color": "#E5ECF6",
              "width": 0.5
             }
            },
            "type": "bar"
           }
          ],
          "barpolar": [
           {
            "marker": {
             "line": {
              "color": "#E5ECF6",
              "width": 0.5
             }
            },
            "type": "barpolar"
           }
          ],
          "carpet": [
           {
            "aaxis": {
             "endlinecolor": "#2a3f5f",
             "gridcolor": "white",
             "linecolor": "white",
             "minorgridcolor": "white",
             "startlinecolor": "#2a3f5f"
            },
            "baxis": {
             "endlinecolor": "#2a3f5f",
             "gridcolor": "white",
             "linecolor": "white",
             "minorgridcolor": "white",
             "startlinecolor": "#2a3f5f"
            },
            "type": "carpet"
           }
          ],
          "choropleth": [
           {
            "colorbar": {
             "outlinewidth": 0,
             "ticks": ""
            },
            "type": "choropleth"
           }
          ],
          "contour": [
           {
            "colorbar": {
             "outlinewidth": 0,
             "ticks": ""
            },
            "colorscale": [
             [
              0,
              "#0d0887"
             ],
             [
              0.1111111111111111,
              "#46039f"
             ],
             [
              0.2222222222222222,
              "#7201a8"
             ],
             [
              0.3333333333333333,
              "#9c179e"
             ],
             [
              0.4444444444444444,
              "#bd3786"
             ],
             [
              0.5555555555555556,
              "#d8576b"
             ],
             [
              0.6666666666666666,
              "#ed7953"
             ],
             [
              0.7777777777777778,
              "#fb9f3a"
             ],
             [
              0.8888888888888888,
              "#fdca26"
             ],
             [
              1,
              "#f0f921"
             ]
            ],
            "type": "contour"
           }
          ],
          "contourcarpet": [
           {
            "colorbar": {
             "outlinewidth": 0,
             "ticks": ""
            },
            "type": "contourcarpet"
           }
          ],
          "heatmap": [
           {
            "colorbar": {
             "outlinewidth": 0,
             "ticks": ""
            },
            "colorscale": [
             [
              0,
              "#0d0887"
             ],
             [
              0.1111111111111111,
              "#46039f"
             ],
             [
              0.2222222222222222,
              "#7201a8"
             ],
             [
              0.3333333333333333,
              "#9c179e"
             ],
             [
              0.4444444444444444,
              "#bd3786"
             ],
             [
              0.5555555555555556,
              "#d8576b"
             ],
             [
              0.6666666666666666,
              "#ed7953"
             ],
             [
              0.7777777777777778,
              "#fb9f3a"
             ],
             [
              0.8888888888888888,
              "#fdca26"
             ],
             [
              1,
              "#f0f921"
             ]
            ],
            "type": "heatmap"
           }
          ],
          "heatmapgl": [
           {
            "colorbar": {
             "outlinewidth": 0,
             "ticks": ""
            },
            "colorscale": [
             [
              0,
              "#0d0887"
             ],
             [
              0.1111111111111111,
              "#46039f"
             ],
             [
              0.2222222222222222,
              "#7201a8"
             ],
             [
              0.3333333333333333,
              "#9c179e"
             ],
             [
              0.4444444444444444,
              "#bd3786"
             ],
             [
              0.5555555555555556,
              "#d8576b"
             ],
             [
              0.6666666666666666,
              "#ed7953"
             ],
             [
              0.7777777777777778,
              "#fb9f3a"
             ],
             [
              0.8888888888888888,
              "#fdca26"
             ],
             [
              1,
              "#f0f921"
             ]
            ],
            "type": "heatmapgl"
           }
          ],
          "histogram": [
           {
            "marker": {
             "colorbar": {
              "outlinewidth": 0,
              "ticks": ""
             }
            },
            "type": "histogram"
           }
          ],
          "histogram2d": [
           {
            "colorbar": {
             "outlinewidth": 0,
             "ticks": ""
            },
            "colorscale": [
             [
              0,
              "#0d0887"
             ],
             [
              0.1111111111111111,
              "#46039f"
             ],
             [
              0.2222222222222222,
              "#7201a8"
             ],
             [
              0.3333333333333333,
              "#9c179e"
             ],
             [
              0.4444444444444444,
              "#bd3786"
             ],
             [
              0.5555555555555556,
              "#d8576b"
             ],
             [
              0.6666666666666666,
              "#ed7953"
             ],
             [
              0.7777777777777778,
              "#fb9f3a"
             ],
             [
              0.8888888888888888,
              "#fdca26"
             ],
             [
              1,
              "#f0f921"
             ]
            ],
            "type": "histogram2d"
           }
          ],
          "histogram2dcontour": [
           {
            "colorbar": {
             "outlinewidth": 0,
             "ticks": ""
            },
            "colorscale": [
             [
              0,
              "#0d0887"
             ],
             [
              0.1111111111111111,
              "#46039f"
             ],
             [
              0.2222222222222222,
              "#7201a8"
             ],
             [
              0.3333333333333333,
              "#9c179e"
             ],
             [
              0.4444444444444444,
              "#bd3786"
             ],
             [
              0.5555555555555556,
              "#d8576b"
             ],
             [
              0.6666666666666666,
              "#ed7953"
             ],
             [
              0.7777777777777778,
              "#fb9f3a"
             ],
             [
              0.8888888888888888,
              "#fdca26"
             ],
             [
              1,
              "#f0f921"
             ]
            ],
            "type": "histogram2dcontour"
           }
          ],
          "mesh3d": [
           {
            "colorbar": {
             "outlinewidth": 0,
             "ticks": ""
            },
            "type": "mesh3d"
           }
          ],
          "parcoords": [
           {
            "line": {
             "colorbar": {
              "outlinewidth": 0,
              "ticks": ""
             }
            },
            "type": "parcoords"
           }
          ],
          "pie": [
           {
            "automargin": true,
            "type": "pie"
           }
          ],
          "scatter": [
           {
            "marker": {
             "colorbar": {
              "outlinewidth": 0,
              "ticks": ""
             }
            },
            "type": "scatter"
           }
          ],
          "scatter3d": [
           {
            "line": {
             "colorbar": {
              "outlinewidth": 0,
              "ticks": ""
             }
            },
            "marker": {
             "colorbar": {
              "outlinewidth": 0,
              "ticks": ""
             }
            },
            "type": "scatter3d"
           }
          ],
          "scattercarpet": [
           {
            "marker": {
             "colorbar": {
              "outlinewidth": 0,
              "ticks": ""
             }
            },
            "type": "scattercarpet"
           }
          ],
          "scattergeo": [
           {
            "marker": {
             "colorbar": {
              "outlinewidth": 0,
              "ticks": ""
             }
            },
            "type": "scattergeo"
           }
          ],
          "scattergl": [
           {
            "marker": {
             "colorbar": {
              "outlinewidth": 0,
              "ticks": ""
             }
            },
            "type": "scattergl"
           }
          ],
          "scattermapbox": [
           {
            "marker": {
             "colorbar": {
              "outlinewidth": 0,
              "ticks": ""
             }
            },
            "type": "scattermapbox"
           }
          ],
          "scatterpolar": [
           {
            "marker": {
             "colorbar": {
              "outlinewidth": 0,
              "ticks": ""
             }
            },
            "type": "scatterpolar"
           }
          ],
          "scatterpolargl": [
           {
            "marker": {
             "colorbar": {
              "outlinewidth": 0,
              "ticks": ""
             }
            },
            "type": "scatterpolargl"
           }
          ],
          "scatterternary": [
           {
            "marker": {
             "colorbar": {
              "outlinewidth": 0,
              "ticks": ""
             }
            },
            "type": "scatterternary"
           }
          ],
          "surface": [
           {
            "colorbar": {
             "outlinewidth": 0,
             "ticks": ""
            },
            "colorscale": [
             [
              0,
              "#0d0887"
             ],
             [
              0.1111111111111111,
              "#46039f"
             ],
             [
              0.2222222222222222,
              "#7201a8"
             ],
             [
              0.3333333333333333,
              "#9c179e"
             ],
             [
              0.4444444444444444,
              "#bd3786"
             ],
             [
              0.5555555555555556,
              "#d8576b"
             ],
             [
              0.6666666666666666,
              "#ed7953"
             ],
             [
              0.7777777777777778,
              "#fb9f3a"
             ],
             [
              0.8888888888888888,
              "#fdca26"
             ],
             [
              1,
              "#f0f921"
             ]
            ],
            "type": "surface"
           }
          ],
          "table": [
           {
            "cells": {
             "fill": {
              "color": "#EBF0F8"
             },
             "line": {
              "color": "white"
             }
            },
            "header": {
             "fill": {
              "color": "#C8D4E3"
             },
             "line": {
              "color": "white"
             }
            },
            "type": "table"
           }
          ]
         },
         "layout": {
          "annotationdefaults": {
           "arrowcolor": "#2a3f5f",
           "arrowhead": 0,
           "arrowwidth": 1
          },
          "autotypenumbers": "strict",
          "coloraxis": {
           "colorbar": {
            "outlinewidth": 0,
            "ticks": ""
           }
          },
          "colorscale": {
           "diverging": [
            [
             0,
             "#8e0152"
            ],
            [
             0.1,
             "#c51b7d"
            ],
            [
             0.2,
             "#de77ae"
            ],
            [
             0.3,
             "#f1b6da"
            ],
            [
             0.4,
             "#fde0ef"
            ],
            [
             0.5,
             "#f7f7f7"
            ],
            [
             0.6,
             "#e6f5d0"
            ],
            [
             0.7,
             "#b8e186"
            ],
            [
             0.8,
             "#7fbc41"
            ],
            [
             0.9,
             "#4d9221"
            ],
            [
             1,
             "#276419"
            ]
           ],
           "sequential": [
            [
             0,
             "#0d0887"
            ],
            [
             0.1111111111111111,
             "#46039f"
            ],
            [
             0.2222222222222222,
             "#7201a8"
            ],
            [
             0.3333333333333333,
             "#9c179e"
            ],
            [
             0.4444444444444444,
             "#bd3786"
            ],
            [
             0.5555555555555556,
             "#d8576b"
            ],
            [
             0.6666666666666666,
             "#ed7953"
            ],
            [
             0.7777777777777778,
             "#fb9f3a"
            ],
            [
             0.8888888888888888,
             "#fdca26"
            ],
            [
             1,
             "#f0f921"
            ]
           ],
           "sequentialminus": [
            [
             0,
             "#0d0887"
            ],
            [
             0.1111111111111111,
             "#46039f"
            ],
            [
             0.2222222222222222,
             "#7201a8"
            ],
            [
             0.3333333333333333,
             "#9c179e"
            ],
            [
             0.4444444444444444,
             "#bd3786"
            ],
            [
             0.5555555555555556,
             "#d8576b"
            ],
            [
             0.6666666666666666,
             "#ed7953"
            ],
            [
             0.7777777777777778,
             "#fb9f3a"
            ],
            [
             0.8888888888888888,
             "#fdca26"
            ],
            [
             1,
             "#f0f921"
            ]
           ]
          },
          "colorway": [
           "#636efa",
           "#EF553B",
           "#00cc96",
           "#ab63fa",
           "#FFA15A",
           "#19d3f3",
           "#FF6692",
           "#B6E880",
           "#FF97FF",
           "#FECB52"
          ],
          "font": {
           "color": "#2a3f5f"
          },
          "geo": {
           "bgcolor": "white",
           "lakecolor": "white",
           "landcolor": "#E5ECF6",
           "showlakes": true,
           "showland": true,
           "subunitcolor": "white"
          },
          "hoverlabel": {
           "align": "left"
          },
          "hovermode": "closest",
          "mapbox": {
           "style": "light"
          },
          "paper_bgcolor": "white",
          "plot_bgcolor": "#E5ECF6",
          "polar": {
           "angularaxis": {
            "gridcolor": "white",
            "linecolor": "white",
            "ticks": ""
           },
           "bgcolor": "#E5ECF6",
           "radialaxis": {
            "gridcolor": "white",
            "linecolor": "white",
            "ticks": ""
           }
          },
          "scene": {
           "xaxis": {
            "backgroundcolor": "#E5ECF6",
            "gridcolor": "white",
            "gridwidth": 2,
            "linecolor": "white",
            "showbackground": true,
            "ticks": "",
            "zerolinecolor": "white"
           },
           "yaxis": {
            "backgroundcolor": "#E5ECF6",
            "gridcolor": "white",
            "gridwidth": 2,
            "linecolor": "white",
            "showbackground": true,
            "ticks": "",
            "zerolinecolor": "white"
           },
           "zaxis": {
            "backgroundcolor": "#E5ECF6",
            "gridcolor": "white",
            "gridwidth": 2,
            "linecolor": "white",
            "showbackground": true,
            "ticks": "",
            "zerolinecolor": "white"
           }
          },
          "shapedefaults": {
           "line": {
            "color": "#2a3f5f"
           }
          },
          "ternary": {
           "aaxis": {
            "gridcolor": "white",
            "linecolor": "white",
            "ticks": ""
           },
           "baxis": {
            "gridcolor": "white",
            "linecolor": "white",
            "ticks": ""
           },
           "bgcolor": "#E5ECF6",
           "caxis": {
            "gridcolor": "white",
            "linecolor": "white",
            "ticks": ""
           }
          },
          "title": {
           "x": 0.05
          },
          "xaxis": {
           "automargin": true,
           "gridcolor": "white",
           "linecolor": "white",
           "ticks": "",
           "title": {
            "standoff": 15
           },
           "zerolinecolor": "white",
           "zerolinewidth": 2
          },
          "yaxis": {
           "automargin": true,
           "gridcolor": "white",
           "linecolor": "white",
           "ticks": "",
           "title": {
            "standoff": 15
           },
           "zerolinecolor": "white",
           "zerolinewidth": 2
          }
         }
        },
        "title": {
         "text": "Chart: scatter plot of AverageMortgageAmount and DelinquencyRate by Geography"
        },
        "xaxis": {
         "anchor": "y",
         "domain": [
          0,
          1
         ],
         "tickangle": -45,
         "title": {
          "text": "AverageMortgageAmount"
         }
        },
        "yaxis": {
         "anchor": "x",
         "domain": [
          0,
          1
         ],
         "title": {
          "text": "DelinquencyRate"
         }
        }
       }
      },
      "text/html": [
       "<div>                            <div id=\"6f62baff-c08c-4b47-bf87-12737d56e491\" class=\"plotly-graph-div\" style=\"height:525px; width:100%;\"></div>            <script type=\"text/javascript\">                require([\"plotly\"], function(Plotly) {                    window.PLOTLYENV=window.PLOTLYENV || {};                                    if (document.getElementById(\"6f62baff-c08c-4b47-bf87-12737d56e491\")) {                    Plotly.newPlot(                        \"6f62baff-c08c-4b47-bf87-12737d56e491\",                        [{\"hovertemplate\": \"<b>%{hovertext}</b><br><br>Geography=Newfoundland<br>AverageMortgageAmount=%{x}<br>DelinquencyRate=%{y}<extra></extra>\", \"hovertext\": [\"2012Q3\", \"2012Q4\", \"2013Q1\", \"2013Q2\", \"2013Q3\", \"2013Q4\", \"2014Q1\", \"2014Q2\", \"2014Q3\", \"2014Q4\", \"2015Q1\", \"2015Q2\", \"2015Q3\", \"2015Q4\", \"2016Q1\", \"2016Q2\", \"2016Q3\", \"2016Q4\", \"2017Q1\", \"2017Q2\", \"2017Q3\", \"2017Q4\", \"2018Q1\", \"2018Q2\", \"2018Q3\", \"2018Q4\", \"2019Q1\", \"2019Q2\", \"2019Q3\", \"2019Q4\", \"2020Q1\", \"2020Q2\", \"2020Q3\"], \"legendgroup\": \"Newfoundland\", \"marker\": {\"color\": \"#636efa\", \"symbol\": \"circle\"}, \"mode\": \"markers\", \"name\": \"Newfoundland\", \"orientation\": \"v\", \"showlegend\": true, \"type\": \"scatter\", \"x\": [188732, 185794, 189098, 181331, 191818, 193100, 195479, 192856, 199560, 200310, 197406, 193956, 199758, 202487, 196798, 196806, 198265, 197794, 192057, 191412, 200378, 193619, 196431, 192252, 192106, 188614, 185276, 190582, 194536, 193870, 186268, 187431, 196100], \"xaxis\": \"x\", \"y\": [0.24, 0.22, 0.25, 0.19, 0.2, 0.22, 0.23, 0.25, 0.26, 0.28, 0.37, 0.37, 0.37, 0.41, 0.45, 0.46, 0.49, 0.46, 0.47, 0.47, 0.46, 0.52, 0.56, 0.6, 0.6, 0.62, 0.64, 0.65, 0.65, 0.65, 0.67, 0.68, 0.64], \"yaxis\": \"y\"}, {\"hovertemplate\": \"<b>%{hovertext}</b><br><br>Geography=Prince Edward Island<br>AverageMortgageAmount=%{x}<br>DelinquencyRate=%{y}<extra></extra>\", \"hovertext\": [\"2012Q3\", \"2012Q4\", \"2013Q1\", \"2013Q2\", \"2013Q3\", \"2013Q4\", \"2014Q1\", \"2014Q2\", \"2014Q3\", \"2014Q4\", \"2015Q1\", \"2015Q2\", \"2015Q3\", \"2015Q4\", \"2016Q1\", \"2016Q2\", \"2016Q3\", \"2016Q4\", \"2017Q1\", \"2017Q2\", \"2017Q3\", \"2017Q4\", \"2018Q1\", \"2018Q2\", \"2018Q3\", \"2018Q4\", \"2019Q1\", \"2019Q2\", \"2019Q3\", \"2019Q4\", \"2020Q1\", \"2020Q2\", \"2020Q3\"], \"legendgroup\": \"Prince Edward Island\", \"marker\": {\"color\": \"#EF553B\", \"symbol\": \"circle\"}, \"mode\": \"markers\", \"name\": \"Prince Edward Island\", \"orientation\": \"v\", \"showlegend\": true, \"type\": \"scatter\", \"x\": [140279, 138415, 137162, 126763, 139506, 141453, 141141, 137427, 143320, 141232, 146885, 146818, 150403, 155926, 157322, 150732, 169651, 155799, 175124, 174901, 176919, 175523, 179179, 182114, 181967, 178140, 181172, 181358, 190715, 185934, 193439, 189309, 204415], \"xaxis\": \"x\", \"y\": [0.57, 0.5, 0.55, 0.47, 0.56, 0.58, 0.6, 0.6, 0.56, 0.57, 0.68, 0.62, 0.63, 0.67, 0.7, 0.7, 0.67, 0.6, 0.66, 0.55, 0.54, 0.44, 0.5, 0.45, 0.43, 0.39, 0.39, 0.38, 0.34, 0.32, 0.25, 0.26, 0.27], \"yaxis\": \"y\"}, {\"hovertemplate\": \"<b>%{hovertext}</b><br><br>Geography=Nova Scotia<br>AverageMortgageAmount=%{x}<br>DelinquencyRate=%{y}<extra></extra>\", \"hovertext\": [\"2012Q3\", \"2012Q4\", \"2013Q1\", \"2013Q2\", \"2013Q3\", \"2013Q4\", \"2014Q1\", \"2014Q2\", \"2014Q3\", \"2014Q4\", \"2015Q1\", \"2015Q2\", \"2015Q3\", \"2015Q4\", \"2016Q1\", \"2016Q2\", \"2016Q3\", \"2016Q4\", \"2017Q1\", \"2017Q2\", \"2017Q3\", \"2017Q4\", \"2018Q1\", \"2018Q2\", \"2018Q3\", \"2018Q4\", \"2019Q1\", \"2019Q2\", \"2019Q3\", \"2019Q4\", \"2020Q1\", \"2020Q2\", \"2020Q3\"], \"legendgroup\": \"Nova Scotia\", \"marker\": {\"color\": \"#00cc96\", \"symbol\": \"circle\"}, \"mode\": \"markers\", \"name\": \"Nova Scotia\", \"orientation\": \"v\", \"showlegend\": true, \"type\": \"scatter\", \"x\": [174688, 160046, 158806, 159945, 166426, 160189, 161383, 157664, 172827, 163584, 163607, 165288, 178091, 172863, 167596, 168948, 178784, 173305, 186024, 182526, 194802, 188559, 185858, 179407, 190443, 179921, 177863, 180958, 193586, 190168, 188267, 192060, 207877], \"xaxis\": \"x\", \"y\": [0.53, 0.53, 0.55, 0.56, 0.58, 0.62, 0.65, 0.65, 0.67, 0.68, 0.7, 0.67, 0.66, 0.68, 0.7, 0.72, 0.76, 0.75, 0.7, 0.64, 0.6, 0.58, 0.59, 0.54, 0.52, 0.56, 0.54, 0.52, 0.5, 0.5, 0.46, 0.47, 0.45], \"yaxis\": \"y\"}, {\"hovertemplate\": \"<b>%{hovertext}</b><br><br>Geography=New Brunswick<br>AverageMortgageAmount=%{x}<br>DelinquencyRate=%{y}<extra></extra>\", \"hovertext\": [\"2012Q3\", \"2012Q4\", \"2013Q1\", \"2013Q2\", \"2013Q3\", \"2013Q4\", \"2014Q1\", \"2014Q2\", \"2014Q3\", \"2014Q4\", \"2015Q1\", \"2015Q2\", \"2015Q3\", \"2015Q4\", \"2016Q1\", \"2016Q2\", \"2016Q3\", \"2016Q4\", \"2017Q1\", \"2017Q2\", \"2017Q3\", \"2017Q4\", \"2018Q1\", \"2018Q2\", \"2018Q3\", \"2018Q4\", \"2019Q1\", \"2019Q2\", \"2019Q3\", \"2019Q4\", \"2020Q1\", \"2020Q2\", \"2020Q3\"], \"legendgroup\": \"New Brunswick\", \"marker\": {\"color\": \"#ab63fa\", \"symbol\": \"circle\"}, \"mode\": \"markers\", \"name\": \"New Brunswick\", \"orientation\": \"v\", \"showlegend\": true, \"type\": \"scatter\", \"x\": [133390, 126138, 124645, 122572, 131542, 128155, 127766, 124221, 135592, 132766, 132025, 128378, 137565, 137039, 132325, 133027, 143533, 140124, 141196, 135748, 147934, 142799, 139711, 139750, 150353, 143324, 140850, 137809, 152606, 147047, 146701, 149590, 160349], \"xaxis\": \"x\", \"y\": [0.63, 0.63, 0.65, 0.6, 0.61, 0.68, 0.72, 0.67, 0.72, 0.72, 0.79, 0.8, 0.81, 0.79, 0.82, 0.78, 0.84, 0.79, 0.78, 0.73, 0.71, 0.66, 0.65, 0.59, 0.58, 0.62, 0.63, 0.6, 0.57, 0.57, 0.57, 0.54, 0.52], \"yaxis\": \"y\"}, {\"hovertemplate\": \"<b>%{hovertext}</b><br><br>Geography=Qu\\u00e9bec<br>AverageMortgageAmount=%{x}<br>DelinquencyRate=%{y}<extra></extra>\", \"hovertext\": [\"2012Q3\", \"2012Q4\", \"2013Q1\", \"2013Q2\", \"2013Q3\", \"2013Q4\", \"2014Q1\", \"2014Q2\", \"2014Q3\", \"2014Q4\", \"2015Q1\", \"2015Q2\", \"2015Q3\", \"2015Q4\", \"2016Q1\", \"2016Q2\", \"2016Q3\", \"2016Q4\", \"2017Q1\", \"2017Q2\", \"2017Q3\", \"2017Q4\", \"2018Q1\", \"2018Q2\", \"2018Q3\", \"2018Q4\", \"2019Q1\", \"2019Q2\", \"2019Q3\", \"2019Q4\", \"2020Q1\", \"2020Q2\", \"2020Q3\"], \"legendgroup\": \"Qu\\u00e9bec\", \"marker\": {\"color\": \"#FFA15A\", \"symbol\": \"circle\"}, \"mode\": \"markers\", \"name\": \"Qu\\u00e9bec\", \"orientation\": \"v\", \"showlegend\": true, \"type\": \"scatter\", \"x\": [159661, 153413, 153909, 155016, 160147, 155512, 156424, 160165, 166426, 160073, 161563, 164764, 170403, 164235, 167154, 169326, 176522, 170309, 171992, 171716, 177306, 173182, 175297, 183507, 187727, 173911, 175658, 179523, 187136, 183501, 189390, 195538, 203861], \"xaxis\": \"x\", \"y\": [0.33, 0.33, 0.35, 0.34, 0.33, 0.35, 0.37, 0.36, 0.37, 0.39, 0.42, 0.41, 0.41, 0.42, 0.44, 0.43, 0.42, 0.4, 0.41, 0.4, 0.37, 0.34, 0.34, 0.35, 0.35, 0.38, 0.38, 0.37, 0.37, 0.36, 0.36, 0.34, 0.36], \"yaxis\": \"y\"}, {\"hovertemplate\": \"<b>%{hovertext}</b><br><br>Geography=Ontario<br>AverageMortgageAmount=%{x}<br>DelinquencyRate=%{y}<extra></extra>\", \"hovertext\": [\"2012Q3\", \"2012Q4\", \"2013Q1\", \"2013Q2\", \"2013Q3\", \"2013Q4\", \"2014Q1\", \"2014Q2\", \"2014Q3\", \"2014Q4\", \"2015Q1\", \"2015Q2\", \"2015Q3\", \"2015Q4\", \"2016Q1\", \"2016Q2\", \"2016Q3\", \"2016Q4\", \"2017Q1\", \"2017Q2\", \"2017Q3\", \"2017Q4\", \"2018Q1\", \"2018Q2\", \"2018Q3\", \"2018Q4\", \"2019Q1\", \"2019Q2\", \"2019Q3\", \"2019Q4\", \"2020Q1\", \"2020Q2\", \"2020Q3\"], \"legendgroup\": \"Ontario\", \"marker\": {\"color\": \"#19d3f3\", \"symbol\": \"circle\"}, \"mode\": \"markers\", \"name\": \"Ontario\", \"orientation\": \"v\", \"showlegend\": true, \"type\": \"scatter\", \"x\": [247455, 235667, 233122, 230770, 249054, 244060, 244077, 240828, 262838, 257244, 254854, 259093, 281259, 277802, 278626, 285024, 307369, 310236, 319009, 326645, 338561, 323821, 322179, 315576, 327367, 321579, 321074, 324080, 343117, 343768, 348272, 363432, 373371], \"xaxis\": \"x\", \"y\": [0.31, 0.31, 0.31, 0.29, 0.28, 0.28, 0.29, 0.27, 0.27, 0.26, 0.27, 0.25, 0.24, 0.23, 0.24, 0.22, 0.2, 0.19, 0.18, 0.16, 0.16, 0.15, 0.15, 0.14, 0.13, 0.14, 0.14, 0.14, 0.14, 0.14, 0.14, 0.14, 0.14], \"yaxis\": \"y\"}, {\"hovertemplate\": \"<b>%{hovertext}</b><br><br>Geography=Manitoba<br>AverageMortgageAmount=%{x}<br>DelinquencyRate=%{y}<extra></extra>\", \"hovertext\": [\"2012Q3\", \"2012Q4\", \"2013Q1\", \"2013Q2\", \"2013Q3\", \"2013Q4\", \"2014Q1\", \"2014Q2\", \"2014Q3\", \"2014Q4\", \"2015Q1\", \"2015Q2\", \"2015Q3\", \"2015Q4\", \"2016Q1\", \"2016Q2\", \"2016Q3\", \"2016Q4\", \"2017Q1\", \"2017Q2\", \"2017Q3\", \"2017Q4\", \"2018Q1\", \"2018Q2\", \"2018Q3\", \"2018Q4\", \"2019Q1\", \"2019Q2\", \"2019Q3\", \"2019Q4\", \"2020Q1\", \"2020Q2\", \"2020Q3\"], \"legendgroup\": \"Manitoba\", \"marker\": {\"color\": \"#FF6692\", \"symbol\": \"circle\"}, \"mode\": \"markers\", \"name\": \"Manitoba\", \"orientation\": \"v\", \"showlegend\": true, \"type\": \"scatter\", \"x\": [188298, 181097, 177560, 177517, 192732, 189570, 188107, 184554, 200051, 197527, 191444, 190383, 206275, 201640, 193970, 196385, 209051, 206958, 203999, 205085, 216750, 217136, 207988, 207436, 220454, 214060, 206692, 214873, 222637, 218918, 212508, 217416, 232725], \"xaxis\": \"x\", \"y\": [0.25, 0.27, 0.28, 0.26, 0.28, 0.28, 0.28, 0.25, 0.24, 0.27, 0.31, 0.3, 0.29, 0.33, 0.34, 0.35, 0.34, 0.35, 0.36, 0.35, 0.33, 0.3, 0.3, 0.31, 0.32, 0.35, 0.35, 0.35, 0.34, 0.36, 0.37, 0.38, 0.35], \"yaxis\": \"y\"}, {\"hovertemplate\": \"<b>%{hovertext}</b><br><br>Geography=Saskatchewan<br>AverageMortgageAmount=%{x}<br>DelinquencyRate=%{y}<extra></extra>\", \"hovertext\": [\"2012Q3\", \"2012Q4\", \"2013Q1\", \"2013Q2\", \"2013Q3\", \"2013Q4\", \"2014Q1\", \"2014Q2\", \"2014Q3\", \"2014Q4\", \"2015Q1\", \"2015Q2\", \"2015Q3\", \"2015Q4\", \"2016Q1\", \"2016Q2\", \"2016Q3\", \"2016Q4\", \"2017Q1\", \"2017Q2\", \"2017Q3\", \"2017Q4\", \"2018Q1\", \"2018Q2\", \"2018Q3\", \"2018Q4\", \"2019Q1\", \"2019Q2\", \"2019Q3\", \"2019Q4\", \"2020Q1\", \"2020Q2\", \"2020Q3\"], \"legendgroup\": \"Saskatchewan\", \"marker\": {\"color\": \"#B6E880\", \"symbol\": \"circle\"}, \"mode\": \"markers\", \"name\": \"Saskatchewan\", \"orientation\": \"v\", \"showlegend\": true, \"type\": \"scatter\", \"x\": [217945, 213126, 206354, 211979, 224868, 225414, 226559, 218781, 231768, 233854, 228569, 226957, 234840, 231611, 225641, 230729, 236380, 232174, 234786, 233545, 238533, 234340, 230702, 229851, 233255, 223628, 217157, 216369, 228721, 224315, 216188, 225641, 237386], \"xaxis\": \"x\", \"y\": [0.37, 0.37, 0.36, 0.34, 0.3, 0.32, 0.35, 0.31, 0.32, 0.36, 0.41, 0.43, 0.45, 0.49, 0.54, 0.57, 0.61, 0.62, 0.62, 0.66, 0.65, 0.66, 0.66, 0.67, 0.7, 0.72, 0.74, 0.75, 0.73, 0.73, 0.75, 0.76, 0.72], \"yaxis\": \"y\"}, {\"hovertemplate\": \"<b>%{hovertext}</b><br><br>Geography=Alberta<br>AverageMortgageAmount=%{x}<br>DelinquencyRate=%{y}<extra></extra>\", \"hovertext\": [\"2012Q3\", \"2012Q4\", \"2013Q1\", \"2013Q2\", \"2013Q3\", \"2013Q4\", \"2014Q1\", \"2014Q2\", \"2014Q3\", \"2014Q4\", \"2015Q1\", \"2015Q2\", \"2015Q3\", \"2015Q4\", \"2016Q1\", \"2016Q2\", \"2016Q3\", \"2016Q4\", \"2017Q1\", \"2017Q2\", \"2017Q3\", \"2017Q4\", \"2018Q1\", \"2018Q2\", \"2018Q3\", \"2018Q4\", \"2019Q1\", \"2019Q2\", \"2019Q3\", \"2019Q4\", \"2020Q1\", \"2020Q2\", \"2020Q3\"], \"legendgroup\": \"Alberta\", \"marker\": {\"color\": \"#FF97FF\", \"symbol\": \"circle\"}, \"mode\": \"markers\", \"name\": \"Alberta\", \"orientation\": \"v\", \"showlegend\": true, \"type\": \"scatter\", \"x\": [282371, 277555, 277158, 278516, 289263, 284928, 291926, 290722, 304374, 305558, 303976, 299837, 309953, 303244, 296111, 298884, 304683, 302095, 301254, 300115, 307837, 307662, 302814, 302116, 305101, 295839, 291721, 293612, 297609, 297552, 291747, 296269, 305600], \"xaxis\": \"x\", \"y\": [0.6, 0.55, 0.52, 0.47, 0.45, 0.43, 0.42, 0.37, 0.34, 0.32, 0.32, 0.33, 0.35, 0.36, 0.41, 0.45, 0.53, 0.53, 0.54, 0.52, 0.51, 0.5, 0.5, 0.46, 0.47, 0.5, 0.51, 0.53, 0.51, 0.5, 0.52, 0.52, 0.5], \"yaxis\": \"y\"}, {\"hovertemplate\": \"<b>%{hovertext}</b><br><br>Geography=British Columbia<br>AverageMortgageAmount=%{x}<br>DelinquencyRate=%{y}<extra></extra>\", \"hovertext\": [\"2012Q3\", \"2012Q4\", \"2013Q1\", \"2013Q2\", \"2013Q3\", \"2013Q4\", \"2014Q1\", \"2014Q2\", \"2014Q3\", \"2014Q4\", \"2015Q1\", \"2015Q2\", \"2015Q3\", \"2015Q4\", \"2016Q1\", \"2016Q2\", \"2016Q3\", \"2016Q4\", \"2017Q1\", \"2017Q2\", \"2017Q3\", \"2017Q4\", \"2018Q1\", \"2018Q2\", \"2018Q3\", \"2018Q4\", \"2019Q1\", \"2019Q2\", \"2019Q3\", \"2019Q4\", \"2020Q1\", \"2020Q2\", \"2020Q3\"], \"legendgroup\": \"British Columbia\", \"marker\": {\"color\": \"#FECB52\", \"symbol\": \"circle\"}, \"mode\": \"markers\", \"name\": \"British Columbia\", \"orientation\": \"v\", \"showlegend\": true, \"type\": \"scatter\", \"x\": [305427, 289864, 286652, 290928, 303663, 305256, 309374, 305138, 321625, 323373, 325035, 328540, 350672, 357016, 368782, 385910, 395297, 366703, 358655, 369174, 389430, 381223, 384794, 371860, 378187, 364330, 363239, 363924, 376343, 386494, 393711, 397853, 417004], \"xaxis\": \"x\", \"y\": [0.42, 0.42, 0.43, 0.43, 0.42, 0.43, 0.43, 0.4, 0.4, 0.4, 0.4, 0.38, 0.34, 0.32, 0.32, 0.29, 0.26, 0.25, 0.23, 0.2, 0.18, 0.18, 0.17, 0.17, 0.16, 0.17, 0.17, 0.17, 0.16, 0.16, 0.17, 0.19, 0.19], \"yaxis\": \"y\"}],                        {\"legend\": {\"title\": {\"text\": \"Geography\"}, \"tracegroupgap\": 0}, \"margin\": {\"t\": 60}, \"template\": {\"data\": {\"bar\": [{\"error_x\": {\"color\": \"#2a3f5f\"}, \"error_y\": {\"color\": \"#2a3f5f\"}, \"marker\": {\"line\": {\"color\": \"#E5ECF6\", \"width\": 0.5}}, \"type\": \"bar\"}], \"barpolar\": [{\"marker\": {\"line\": {\"color\": \"#E5ECF6\", \"width\": 0.5}}, \"type\": \"barpolar\"}], \"carpet\": [{\"aaxis\": {\"endlinecolor\": \"#2a3f5f\", \"gridcolor\": \"white\", \"linecolor\": \"white\", \"minorgridcolor\": \"white\", \"startlinecolor\": \"#2a3f5f\"}, \"baxis\": {\"endlinecolor\": \"#2a3f5f\", \"gridcolor\": \"white\", \"linecolor\": \"white\", \"minorgridcolor\": \"white\", \"startlinecolor\": \"#2a3f5f\"}, \"type\": \"carpet\"}], \"choropleth\": [{\"colorbar\": {\"outlinewidth\": 0, \"ticks\": \"\"}, \"type\": \"choropleth\"}], \"contour\": [{\"colorbar\": {\"outlinewidth\": 0, \"ticks\": \"\"}, \"colorscale\": [[0.0, \"#0d0887\"], [0.1111111111111111, \"#46039f\"], [0.2222222222222222, \"#7201a8\"], [0.3333333333333333, \"#9c179e\"], [0.4444444444444444, \"#bd3786\"], [0.5555555555555556, \"#d8576b\"], [0.6666666666666666, \"#ed7953\"], [0.7777777777777778, \"#fb9f3a\"], [0.8888888888888888, \"#fdca26\"], [1.0, \"#f0f921\"]], \"type\": \"contour\"}], \"contourcarpet\": [{\"colorbar\": {\"outlinewidth\": 0, \"ticks\": \"\"}, \"type\": \"contourcarpet\"}], \"heatmap\": [{\"colorbar\": {\"outlinewidth\": 0, \"ticks\": \"\"}, \"colorscale\": [[0.0, \"#0d0887\"], [0.1111111111111111, \"#46039f\"], [0.2222222222222222, \"#7201a8\"], [0.3333333333333333, \"#9c179e\"], [0.4444444444444444, \"#bd3786\"], [0.5555555555555556, \"#d8576b\"], [0.6666666666666666, \"#ed7953\"], [0.7777777777777778, \"#fb9f3a\"], [0.8888888888888888, \"#fdca26\"], [1.0, \"#f0f921\"]], \"type\": \"heatmap\"}], \"heatmapgl\": [{\"colorbar\": {\"outlinewidth\": 0, \"ticks\": \"\"}, \"colorscale\": [[0.0, \"#0d0887\"], [0.1111111111111111, \"#46039f\"], [0.2222222222222222, \"#7201a8\"], [0.3333333333333333, \"#9c179e\"], [0.4444444444444444, \"#bd3786\"], [0.5555555555555556, \"#d8576b\"], [0.6666666666666666, \"#ed7953\"], [0.7777777777777778, \"#fb9f3a\"], [0.8888888888888888, \"#fdca26\"], [1.0, \"#f0f921\"]], \"type\": \"heatmapgl\"}], \"histogram\": [{\"marker\": {\"colorbar\": {\"outlinewidth\": 0, \"ticks\": \"\"}}, \"type\": \"histogram\"}], \"histogram2d\": [{\"colorbar\": {\"outlinewidth\": 0, \"ticks\": \"\"}, \"colorscale\": [[0.0, \"#0d0887\"], [0.1111111111111111, \"#46039f\"], [0.2222222222222222, \"#7201a8\"], [0.3333333333333333, \"#9c179e\"], [0.4444444444444444, \"#bd3786\"], [0.5555555555555556, \"#d8576b\"], [0.6666666666666666, \"#ed7953\"], [0.7777777777777778, \"#fb9f3a\"], [0.8888888888888888, \"#fdca26\"], [1.0, \"#f0f921\"]], \"type\": \"histogram2d\"}], \"histogram2dcontour\": [{\"colorbar\": {\"outlinewidth\": 0, \"ticks\": \"\"}, \"colorscale\": [[0.0, \"#0d0887\"], [0.1111111111111111, \"#46039f\"], [0.2222222222222222, \"#7201a8\"], [0.3333333333333333, \"#9c179e\"], [0.4444444444444444, \"#bd3786\"], [0.5555555555555556, \"#d8576b\"], [0.6666666666666666, \"#ed7953\"], [0.7777777777777778, \"#fb9f3a\"], [0.8888888888888888, \"#fdca26\"], [1.0, \"#f0f921\"]], \"type\": \"histogram2dcontour\"}], \"mesh3d\": [{\"colorbar\": {\"outlinewidth\": 0, \"ticks\": \"\"}, \"type\": \"mesh3d\"}], \"parcoords\": [{\"line\": {\"colorbar\": {\"outlinewidth\": 0, \"ticks\": \"\"}}, \"type\": \"parcoords\"}], \"pie\": [{\"automargin\": true, \"type\": \"pie\"}], \"scatter\": [{\"marker\": {\"colorbar\": {\"outlinewidth\": 0, \"ticks\": \"\"}}, \"type\": \"scatter\"}], \"scatter3d\": [{\"line\": {\"colorbar\": {\"outlinewidth\": 0, \"ticks\": \"\"}}, \"marker\": {\"colorbar\": {\"outlinewidth\": 0, \"ticks\": \"\"}}, \"type\": \"scatter3d\"}], \"scattercarpet\": [{\"marker\": {\"colorbar\": {\"outlinewidth\": 0, \"ticks\": \"\"}}, \"type\": \"scattercarpet\"}], \"scattergeo\": [{\"marker\": {\"colorbar\": {\"outlinewidth\": 0, \"ticks\": \"\"}}, \"type\": \"scattergeo\"}], \"scattergl\": [{\"marker\": {\"colorbar\": {\"outlinewidth\": 0, \"ticks\": \"\"}}, \"type\": \"scattergl\"}], \"scattermapbox\": [{\"marker\": {\"colorbar\": {\"outlinewidth\": 0, \"ticks\": \"\"}}, \"type\": \"scattermapbox\"}], \"scatterpolar\": [{\"marker\": {\"colorbar\": {\"outlinewidth\": 0, \"ticks\": \"\"}}, \"type\": \"scatterpolar\"}], \"scatterpolargl\": [{\"marker\": {\"colorbar\": {\"outlinewidth\": 0, \"ticks\": \"\"}}, \"type\": \"scatterpolargl\"}], \"scatterternary\": [{\"marker\": {\"colorbar\": {\"outlinewidth\": 0, \"ticks\": \"\"}}, \"type\": \"scatterternary\"}], \"surface\": [{\"colorbar\": {\"outlinewidth\": 0, \"ticks\": \"\"}, \"colorscale\": [[0.0, \"#0d0887\"], [0.1111111111111111, \"#46039f\"], [0.2222222222222222, \"#7201a8\"], [0.3333333333333333, \"#9c179e\"], [0.4444444444444444, \"#bd3786\"], [0.5555555555555556, \"#d8576b\"], [0.6666666666666666, \"#ed7953\"], [0.7777777777777778, \"#fb9f3a\"], [0.8888888888888888, \"#fdca26\"], [1.0, \"#f0f921\"]], \"type\": \"surface\"}], \"table\": [{\"cells\": {\"fill\": {\"color\": \"#EBF0F8\"}, \"line\": {\"color\": \"white\"}}, \"header\": {\"fill\": {\"color\": \"#C8D4E3\"}, \"line\": {\"color\": \"white\"}}, \"type\": \"table\"}]}, \"layout\": {\"annotationdefaults\": {\"arrowcolor\": \"#2a3f5f\", \"arrowhead\": 0, \"arrowwidth\": 1}, \"autotypenumbers\": \"strict\", \"coloraxis\": {\"colorbar\": {\"outlinewidth\": 0, \"ticks\": \"\"}}, \"colorscale\": {\"diverging\": [[0, \"#8e0152\"], [0.1, \"#c51b7d\"], [0.2, \"#de77ae\"], [0.3, \"#f1b6da\"], [0.4, \"#fde0ef\"], [0.5, \"#f7f7f7\"], [0.6, \"#e6f5d0\"], [0.7, \"#b8e186\"], [0.8, \"#7fbc41\"], [0.9, \"#4d9221\"], [1, \"#276419\"]], \"sequential\": [[0.0, \"#0d0887\"], [0.1111111111111111, \"#46039f\"], [0.2222222222222222, \"#7201a8\"], [0.3333333333333333, \"#9c179e\"], [0.4444444444444444, \"#bd3786\"], [0.5555555555555556, \"#d8576b\"], [0.6666666666666666, \"#ed7953\"], [0.7777777777777778, \"#fb9f3a\"], [0.8888888888888888, \"#fdca26\"], [1.0, \"#f0f921\"]], \"sequentialminus\": [[0.0, \"#0d0887\"], [0.1111111111111111, \"#46039f\"], [0.2222222222222222, \"#7201a8\"], [0.3333333333333333, \"#9c179e\"], [0.4444444444444444, \"#bd3786\"], [0.5555555555555556, \"#d8576b\"], [0.6666666666666666, \"#ed7953\"], [0.7777777777777778, \"#fb9f3a\"], [0.8888888888888888, \"#fdca26\"], [1.0, \"#f0f921\"]]}, \"colorway\": [\"#636efa\", \"#EF553B\", \"#00cc96\", \"#ab63fa\", \"#FFA15A\", \"#19d3f3\", \"#FF6692\", \"#B6E880\", \"#FF97FF\", \"#FECB52\"], \"font\": {\"color\": \"#2a3f5f\"}, \"geo\": {\"bgcolor\": \"white\", \"lakecolor\": \"white\", \"landcolor\": \"#E5ECF6\", \"showlakes\": true, \"showland\": true, \"subunitcolor\": \"white\"}, \"hoverlabel\": {\"align\": \"left\"}, \"hovermode\": \"closest\", \"mapbox\": {\"style\": \"light\"}, \"paper_bgcolor\": \"white\", \"plot_bgcolor\": \"#E5ECF6\", \"polar\": {\"angularaxis\": {\"gridcolor\": \"white\", \"linecolor\": \"white\", \"ticks\": \"\"}, \"bgcolor\": \"#E5ECF6\", \"radialaxis\": {\"gridcolor\": \"white\", \"linecolor\": \"white\", \"ticks\": \"\"}}, \"scene\": {\"xaxis\": {\"backgroundcolor\": \"#E5ECF6\", \"gridcolor\": \"white\", \"gridwidth\": 2, \"linecolor\": \"white\", \"showbackground\": true, \"ticks\": \"\", \"zerolinecolor\": \"white\"}, \"yaxis\": {\"backgroundcolor\": \"#E5ECF6\", \"gridcolor\": \"white\", \"gridwidth\": 2, \"linecolor\": \"white\", \"showbackground\": true, \"ticks\": \"\", \"zerolinecolor\": \"white\"}, \"zaxis\": {\"backgroundcolor\": \"#E5ECF6\", \"gridcolor\": \"white\", \"gridwidth\": 2, \"linecolor\": \"white\", \"showbackground\": true, \"ticks\": \"\", \"zerolinecolor\": \"white\"}}, \"shapedefaults\": {\"line\": {\"color\": \"#2a3f5f\"}}, \"ternary\": {\"aaxis\": {\"gridcolor\": \"white\", \"linecolor\": \"white\", \"ticks\": \"\"}, \"baxis\": {\"gridcolor\": \"white\", \"linecolor\": \"white\", \"ticks\": \"\"}, \"bgcolor\": \"#E5ECF6\", \"caxis\": {\"gridcolor\": \"white\", \"linecolor\": \"white\", \"ticks\": \"\"}}, \"title\": {\"x\": 0.05}, \"xaxis\": {\"automargin\": true, \"gridcolor\": \"white\", \"linecolor\": \"white\", \"ticks\": \"\", \"title\": {\"standoff\": 15}, \"zerolinecolor\": \"white\", \"zerolinewidth\": 2}, \"yaxis\": {\"automargin\": true, \"gridcolor\": \"white\", \"linecolor\": \"white\", \"ticks\": \"\", \"title\": {\"standoff\": 15}, \"zerolinecolor\": \"white\", \"zerolinewidth\": 2}}}, \"title\": {\"text\": \"Chart: scatter plot of AverageMortgageAmount and DelinquencyRate by Geography\"}, \"xaxis\": {\"anchor\": \"y\", \"domain\": [0.0, 1.0], \"tickangle\": -45, \"title\": {\"text\": \"AverageMortgageAmount\"}}, \"yaxis\": {\"anchor\": \"x\", \"domain\": [0.0, 1.0], \"title\": {\"text\": \"DelinquencyRate\"}}},                        {\"responsive\": true}                    ).then(function(){\n",
       "                            \n",
       "var gd = document.getElementById('6f62baff-c08c-4b47-bf87-12737d56e491');\n",
       "var x = new MutationObserver(function (mutations, observer) {{\n",
       "        var display = window.getComputedStyle(gd).display;\n",
       "        if (!display || display === 'none') {{\n",
       "            console.log([gd, 'removed!']);\n",
       "            Plotly.purge(gd);\n",
       "            observer.disconnect();\n",
       "        }}\n",
       "}});\n",
       "\n",
       "// Listen for the removal of the full notebook cells\n",
       "var notebookContainer = gd.closest('#notebook-container');\n",
       "if (notebookContainer) {{\n",
       "    x.observe(notebookContainer, {childList: true});\n",
       "}}\n",
       "\n",
       "// Listen for the clearing of the current output cell\n",
       "var outputEl = gd.closest('.output');\n",
       "if (outputEl) {{\n",
       "    x.observe(outputEl, {childList: true});\n",
       "}}\n",
       "\n",
       "                        })                };                });            </script>        </div>"
      ]
     },
     "metadata": {},
     "output_type": "display_data"
    }
   ],
   "source": [
    "graph_region(data_pop_del_mort_df, 'scatter', \"AverageMortgageAmount\", \"DelinquencyRate\")"
   ]
  },
  {
   "cell_type": "markdown",
   "metadata": {
    "slideshow": {
     "slide_type": "slide"
    }
   },
   "source": [
    "## Bonus, incorporating time series plots"
   ]
  },
  {
   "cell_type": "code",
   "execution_count": 24,
   "metadata": {
    "slideshow": {
     "slide_type": "subslide"
    }
   },
   "outputs": [
    {
     "data": {
      "application/vnd.plotly.v1+json": {
       "config": {
        "plotlyServerURL": "https://plot.ly"
       },
       "data": [
        {
         "hovertemplate": "Geography=Newfoundland<br>Time=2012Q3<br>DelinquencyRate=%{x}<br>AverageMortgageAmount=%{y}<br>PopulationSize=%{marker.size}<extra></extra>",
         "ids": [
          "Newfoundland"
         ],
         "legendgroup": "Newfoundland",
         "marker": {
          "color": "#636efa",
          "size": [
           526345
          ],
          "sizemode": "area",
          "sizeref": 36835.035,
          "symbol": "circle"
         },
         "mode": "markers",
         "name": "Newfoundland",
         "orientation": "v",
         "showlegend": true,
         "type": "scatter",
         "x": [
          0.24
         ],
         "xaxis": "x",
         "y": [
          188732
         ],
         "yaxis": "y"
        },
        {
         "hovertemplate": "Geography=Prince Edward Island<br>Time=2012Q3<br>DelinquencyRate=%{x}<br>AverageMortgageAmount=%{y}<br>PopulationSize=%{marker.size}<extra></extra>",
         "ids": [
          "Prince Edward Island"
         ],
         "legendgroup": "Prince Edward Island",
         "marker": {
          "color": "#EF553B",
          "size": [
           144530
          ],
          "sizemode": "area",
          "sizeref": 36835.035,
          "symbol": "circle"
         },
         "mode": "markers",
         "name": "Prince Edward Island",
         "orientation": "v",
         "showlegend": true,
         "type": "scatter",
         "x": [
          0.57
         ],
         "xaxis": "x",
         "y": [
          140279
         ],
         "yaxis": "y"
        },
        {
         "hovertemplate": "Geography=Nova Scotia<br>Time=2012Q3<br>DelinquencyRate=%{x}<br>AverageMortgageAmount=%{y}<br>PopulationSize=%{marker.size}<extra></extra>",
         "ids": [
          "Nova Scotia"
         ],
         "legendgroup": "Nova Scotia",
         "marker": {
          "color": "#00cc96",
          "size": [
           943635
          ],
          "sizemode": "area",
          "sizeref": 36835.035,
          "symbol": "circle"
         },
         "mode": "markers",
         "name": "Nova Scotia",
         "orientation": "v",
         "showlegend": true,
         "type": "scatter",
         "x": [
          0.53
         ],
         "xaxis": "x",
         "y": [
          174688
         ],
         "yaxis": "y"
        },
        {
         "hovertemplate": "Geography=New Brunswick<br>Time=2012Q3<br>DelinquencyRate=%{x}<br>AverageMortgageAmount=%{y}<br>PopulationSize=%{marker.size}<extra></extra>",
         "ids": [
          "New Brunswick"
         ],
         "legendgroup": "New Brunswick",
         "marker": {
          "color": "#ab63fa",
          "size": [
           758378
          ],
          "sizemode": "area",
          "sizeref": 36835.035,
          "symbol": "circle"
         },
         "mode": "markers",
         "name": "New Brunswick",
         "orientation": "v",
         "showlegend": true,
         "type": "scatter",
         "x": [
          0.63
         ],
         "xaxis": "x",
         "y": [
          133390
         ],
         "yaxis": "y"
        },
        {
         "hovertemplate": "Geography=Québec<br>Time=2012Q3<br>DelinquencyRate=%{x}<br>AverageMortgageAmount=%{y}<br>PopulationSize=%{marker.size}<extra></extra>",
         "ids": [
          "Québec"
         ],
         "legendgroup": "Québec",
         "marker": {
          "color": "#FFA15A",
          "size": [
           8061101
          ],
          "sizemode": "area",
          "sizeref": 36835.035,
          "symbol": "circle"
         },
         "mode": "markers",
         "name": "Québec",
         "orientation": "v",
         "showlegend": true,
         "type": "scatter",
         "x": [
          0.33
         ],
         "xaxis": "x",
         "y": [
          159661
         ],
         "yaxis": "y"
        },
        {
         "hovertemplate": "Geography=Ontario<br>Time=2012Q3<br>DelinquencyRate=%{x}<br>AverageMortgageAmount=%{y}<br>PopulationSize=%{marker.size}<extra></extra>",
         "ids": [
          "Ontario"
         ],
         "legendgroup": "Ontario",
         "marker": {
          "color": "#19d3f3",
          "size": [
           13390632
          ],
          "sizemode": "area",
          "sizeref": 36835.035,
          "symbol": "circle"
         },
         "mode": "markers",
         "name": "Ontario",
         "orientation": "v",
         "showlegend": true,
         "type": "scatter",
         "x": [
          0.31
         ],
         "xaxis": "x",
         "y": [
          247455
         ],
         "yaxis": "y"
        },
        {
         "hovertemplate": "Geography=Manitoba<br>Time=2012Q3<br>DelinquencyRate=%{x}<br>AverageMortgageAmount=%{y}<br>PopulationSize=%{marker.size}<extra></extra>",
         "ids": [
          "Manitoba"
         ],
         "legendgroup": "Manitoba",
         "marker": {
          "color": "#FF6692",
          "size": [
           1249975
          ],
          "sizemode": "area",
          "sizeref": 36835.035,
          "symbol": "circle"
         },
         "mode": "markers",
         "name": "Manitoba",
         "orientation": "v",
         "showlegend": true,
         "type": "scatter",
         "x": [
          0.25
         ],
         "xaxis": "x",
         "y": [
          188298
         ],
         "yaxis": "y"
        },
        {
         "hovertemplate": "Geography=Saskatchewan<br>Time=2012Q3<br>DelinquencyRate=%{x}<br>AverageMortgageAmount=%{y}<br>PopulationSize=%{marker.size}<extra></extra>",
         "ids": [
          "Saskatchewan"
         ],
         "legendgroup": "Saskatchewan",
         "marker": {
          "color": "#B6E880",
          "size": [
           1083755
          ],
          "sizemode": "area",
          "sizeref": 36835.035,
          "symbol": "circle"
         },
         "mode": "markers",
         "name": "Saskatchewan",
         "orientation": "v",
         "showlegend": true,
         "type": "scatter",
         "x": [
          0.37
         ],
         "xaxis": "x",
         "y": [
          217945
         ],
         "yaxis": "y"
        },
        {
         "hovertemplate": "Geography=Alberta<br>Time=2012Q3<br>DelinquencyRate=%{x}<br>AverageMortgageAmount=%{y}<br>PopulationSize=%{marker.size}<extra></extra>",
         "ids": [
          "Alberta"
         ],
         "legendgroup": "Alberta",
         "marker": {
          "color": "#FF97FF",
          "size": [
           3874548
          ],
          "sizemode": "area",
          "sizeref": 36835.035,
          "symbol": "circle"
         },
         "mode": "markers",
         "name": "Alberta",
         "orientation": "v",
         "showlegend": true,
         "type": "scatter",
         "x": [
          0.6
         ],
         "xaxis": "x",
         "y": [
          282371
         ],
         "yaxis": "y"
        },
        {
         "hovertemplate": "Geography=British Columbia<br>Time=2012Q3<br>DelinquencyRate=%{x}<br>AverageMortgageAmount=%{y}<br>PopulationSize=%{marker.size}<extra></extra>",
         "ids": [
          "British Columbia"
         ],
         "legendgroup": "British Columbia",
         "marker": {
          "color": "#FECB52",
          "size": [
           4566769
          ],
          "sizemode": "area",
          "sizeref": 36835.035,
          "symbol": "circle"
         },
         "mode": "markers",
         "name": "British Columbia",
         "orientation": "v",
         "showlegend": true,
         "type": "scatter",
         "x": [
          0.42
         ],
         "xaxis": "x",
         "y": [
          305427
         ],
         "yaxis": "y"
        }
       ],
       "frames": [
        {
         "data": [
          {
           "hovertemplate": "Geography=Newfoundland<br>Time=2012Q3<br>DelinquencyRate=%{x}<br>AverageMortgageAmount=%{y}<br>PopulationSize=%{marker.size}<extra></extra>",
           "ids": [
            "Newfoundland"
           ],
           "legendgroup": "Newfoundland",
           "marker": {
            "color": "#636efa",
            "size": [
             526345
            ],
            "sizemode": "area",
            "sizeref": 36835.035,
            "symbol": "circle"
           },
           "mode": "markers",
           "name": "Newfoundland",
           "orientation": "v",
           "showlegend": true,
           "type": "scatter",
           "x": [
            0.24
           ],
           "xaxis": "x",
           "y": [
            188732
           ],
           "yaxis": "y"
          },
          {
           "hovertemplate": "Geography=Prince Edward Island<br>Time=2012Q3<br>DelinquencyRate=%{x}<br>AverageMortgageAmount=%{y}<br>PopulationSize=%{marker.size}<extra></extra>",
           "ids": [
            "Prince Edward Island"
           ],
           "legendgroup": "Prince Edward Island",
           "marker": {
            "color": "#EF553B",
            "size": [
             144530
            ],
            "sizemode": "area",
            "sizeref": 36835.035,
            "symbol": "circle"
           },
           "mode": "markers",
           "name": "Prince Edward Island",
           "orientation": "v",
           "showlegend": true,
           "type": "scatter",
           "x": [
            0.57
           ],
           "xaxis": "x",
           "y": [
            140279
           ],
           "yaxis": "y"
          },
          {
           "hovertemplate": "Geography=Nova Scotia<br>Time=2012Q3<br>DelinquencyRate=%{x}<br>AverageMortgageAmount=%{y}<br>PopulationSize=%{marker.size}<extra></extra>",
           "ids": [
            "Nova Scotia"
           ],
           "legendgroup": "Nova Scotia",
           "marker": {
            "color": "#00cc96",
            "size": [
             943635
            ],
            "sizemode": "area",
            "sizeref": 36835.035,
            "symbol": "circle"
           },
           "mode": "markers",
           "name": "Nova Scotia",
           "orientation": "v",
           "showlegend": true,
           "type": "scatter",
           "x": [
            0.53
           ],
           "xaxis": "x",
           "y": [
            174688
           ],
           "yaxis": "y"
          },
          {
           "hovertemplate": "Geography=New Brunswick<br>Time=2012Q3<br>DelinquencyRate=%{x}<br>AverageMortgageAmount=%{y}<br>PopulationSize=%{marker.size}<extra></extra>",
           "ids": [
            "New Brunswick"
           ],
           "legendgroup": "New Brunswick",
           "marker": {
            "color": "#ab63fa",
            "size": [
             758378
            ],
            "sizemode": "area",
            "sizeref": 36835.035,
            "symbol": "circle"
           },
           "mode": "markers",
           "name": "New Brunswick",
           "orientation": "v",
           "showlegend": true,
           "type": "scatter",
           "x": [
            0.63
           ],
           "xaxis": "x",
           "y": [
            133390
           ],
           "yaxis": "y"
          },
          {
           "hovertemplate": "Geography=Québec<br>Time=2012Q3<br>DelinquencyRate=%{x}<br>AverageMortgageAmount=%{y}<br>PopulationSize=%{marker.size}<extra></extra>",
           "ids": [
            "Québec"
           ],
           "legendgroup": "Québec",
           "marker": {
            "color": "#FFA15A",
            "size": [
             8061101
            ],
            "sizemode": "area",
            "sizeref": 36835.035,
            "symbol": "circle"
           },
           "mode": "markers",
           "name": "Québec",
           "orientation": "v",
           "showlegend": true,
           "type": "scatter",
           "x": [
            0.33
           ],
           "xaxis": "x",
           "y": [
            159661
           ],
           "yaxis": "y"
          },
          {
           "hovertemplate": "Geography=Ontario<br>Time=2012Q3<br>DelinquencyRate=%{x}<br>AverageMortgageAmount=%{y}<br>PopulationSize=%{marker.size}<extra></extra>",
           "ids": [
            "Ontario"
           ],
           "legendgroup": "Ontario",
           "marker": {
            "color": "#19d3f3",
            "size": [
             13390632
            ],
            "sizemode": "area",
            "sizeref": 36835.035,
            "symbol": "circle"
           },
           "mode": "markers",
           "name": "Ontario",
           "orientation": "v",
           "showlegend": true,
           "type": "scatter",
           "x": [
            0.31
           ],
           "xaxis": "x",
           "y": [
            247455
           ],
           "yaxis": "y"
          },
          {
           "hovertemplate": "Geography=Manitoba<br>Time=2012Q3<br>DelinquencyRate=%{x}<br>AverageMortgageAmount=%{y}<br>PopulationSize=%{marker.size}<extra></extra>",
           "ids": [
            "Manitoba"
           ],
           "legendgroup": "Manitoba",
           "marker": {
            "color": "#FF6692",
            "size": [
             1249975
            ],
            "sizemode": "area",
            "sizeref": 36835.035,
            "symbol": "circle"
           },
           "mode": "markers",
           "name": "Manitoba",
           "orientation": "v",
           "showlegend": true,
           "type": "scatter",
           "x": [
            0.25
           ],
           "xaxis": "x",
           "y": [
            188298
           ],
           "yaxis": "y"
          },
          {
           "hovertemplate": "Geography=Saskatchewan<br>Time=2012Q3<br>DelinquencyRate=%{x}<br>AverageMortgageAmount=%{y}<br>PopulationSize=%{marker.size}<extra></extra>",
           "ids": [
            "Saskatchewan"
           ],
           "legendgroup": "Saskatchewan",
           "marker": {
            "color": "#B6E880",
            "size": [
             1083755
            ],
            "sizemode": "area",
            "sizeref": 36835.035,
            "symbol": "circle"
           },
           "mode": "markers",
           "name": "Saskatchewan",
           "orientation": "v",
           "showlegend": true,
           "type": "scatter",
           "x": [
            0.37
           ],
           "xaxis": "x",
           "y": [
            217945
           ],
           "yaxis": "y"
          },
          {
           "hovertemplate": "Geography=Alberta<br>Time=2012Q3<br>DelinquencyRate=%{x}<br>AverageMortgageAmount=%{y}<br>PopulationSize=%{marker.size}<extra></extra>",
           "ids": [
            "Alberta"
           ],
           "legendgroup": "Alberta",
           "marker": {
            "color": "#FF97FF",
            "size": [
             3874548
            ],
            "sizemode": "area",
            "sizeref": 36835.035,
            "symbol": "circle"
           },
           "mode": "markers",
           "name": "Alberta",
           "orientation": "v",
           "showlegend": true,
           "type": "scatter",
           "x": [
            0.6
           ],
           "xaxis": "x",
           "y": [
            282371
           ],
           "yaxis": "y"
          },
          {
           "hovertemplate": "Geography=British Columbia<br>Time=2012Q3<br>DelinquencyRate=%{x}<br>AverageMortgageAmount=%{y}<br>PopulationSize=%{marker.size}<extra></extra>",
           "ids": [
            "British Columbia"
           ],
           "legendgroup": "British Columbia",
           "marker": {
            "color": "#FECB52",
            "size": [
             4566769
            ],
            "sizemode": "area",
            "sizeref": 36835.035,
            "symbol": "circle"
           },
           "mode": "markers",
           "name": "British Columbia",
           "orientation": "v",
           "showlegend": true,
           "type": "scatter",
           "x": [
            0.42
           ],
           "xaxis": "x",
           "y": [
            305427
           ],
           "yaxis": "y"
          }
         ],
         "name": "2012Q3"
        },
        {
         "data": [
          {
           "hovertemplate": "Geography=Newfoundland<br>Time=2012Q4<br>DelinquencyRate=%{x}<br>AverageMortgageAmount=%{y}<br>PopulationSize=%{marker.size}<extra></extra>",
           "ids": [
            "Newfoundland"
           ],
           "legendgroup": "Newfoundland",
           "marker": {
            "color": "#636efa",
            "size": [
             527180
            ],
            "sizemode": "area",
            "sizeref": 36835.035,
            "symbol": "circle"
           },
           "mode": "markers",
           "name": "Newfoundland",
           "orientation": "v",
           "showlegend": true,
           "type": "scatter",
           "x": [
            0.22
           ],
           "xaxis": "x",
           "y": [
            185794
           ],
           "yaxis": "y"
          },
          {
           "hovertemplate": "Geography=Prince Edward Island<br>Time=2012Q4<br>DelinquencyRate=%{x}<br>AverageMortgageAmount=%{y}<br>PopulationSize=%{marker.size}<extra></extra>",
           "ids": [
            "Prince Edward Island"
           ],
           "legendgroup": "Prince Edward Island",
           "marker": {
            "color": "#EF553B",
            "size": [
             144520
            ],
            "sizemode": "area",
            "sizeref": 36835.035,
            "symbol": "circle"
           },
           "mode": "markers",
           "name": "Prince Edward Island",
           "orientation": "v",
           "showlegend": true,
           "type": "scatter",
           "x": [
            0.5
           ],
           "xaxis": "x",
           "y": [
            138415
           ],
           "yaxis": "y"
          },
          {
           "hovertemplate": "Geography=Nova Scotia<br>Time=2012Q4<br>DelinquencyRate=%{x}<br>AverageMortgageAmount=%{y}<br>PopulationSize=%{marker.size}<extra></extra>",
           "ids": [
            "Nova Scotia"
           ],
           "legendgroup": "Nova Scotia",
           "marker": {
            "color": "#00cc96",
            "size": [
             943341
            ],
            "sizemode": "area",
            "sizeref": 36835.035,
            "symbol": "circle"
           },
           "mode": "markers",
           "name": "Nova Scotia",
           "orientation": "v",
           "showlegend": true,
           "type": "scatter",
           "x": [
            0.53
           ],
           "xaxis": "x",
           "y": [
            160046
           ],
           "yaxis": "y"
          },
          {
           "hovertemplate": "Geography=New Brunswick<br>Time=2012Q4<br>DelinquencyRate=%{x}<br>AverageMortgageAmount=%{y}<br>PopulationSize=%{marker.size}<extra></extra>",
           "ids": [
            "New Brunswick"
           ],
           "legendgroup": "New Brunswick",
           "marker": {
            "color": "#ab63fa",
            "size": [
             758673
            ],
            "sizemode": "area",
            "sizeref": 36835.035,
            "symbol": "circle"
           },
           "mode": "markers",
           "name": "New Brunswick",
           "orientation": "v",
           "showlegend": true,
           "type": "scatter",
           "x": [
            0.63
           ],
           "xaxis": "x",
           "y": [
            126138
           ],
           "yaxis": "y"
          },
          {
           "hovertemplate": "Geography=Québec<br>Time=2012Q4<br>DelinquencyRate=%{x}<br>AverageMortgageAmount=%{y}<br>PopulationSize=%{marker.size}<extra></extra>",
           "ids": [
            "Québec"
           ],
           "legendgroup": "Québec",
           "marker": {
            "color": "#FFA15A",
            "size": [
             8078388
            ],
            "sizemode": "area",
            "sizeref": 36835.035,
            "symbol": "circle"
           },
           "mode": "markers",
           "name": "Québec",
           "orientation": "v",
           "showlegend": true,
           "type": "scatter",
           "x": [
            0.33
           ],
           "xaxis": "x",
           "y": [
            153413
           ],
           "yaxis": "y"
          },
          {
           "hovertemplate": "Geography=Ontario<br>Time=2012Q4<br>DelinquencyRate=%{x}<br>AverageMortgageAmount=%{y}<br>PopulationSize=%{marker.size}<extra></extra>",
           "ids": [
            "Ontario"
           ],
           "legendgroup": "Ontario",
           "marker": {
            "color": "#19d3f3",
            "size": [
             13434943
            ],
            "sizemode": "area",
            "sizeref": 36835.035,
            "symbol": "circle"
           },
           "mode": "markers",
           "name": "Ontario",
           "orientation": "v",
           "showlegend": true,
           "type": "scatter",
           "x": [
            0.31
           ],
           "xaxis": "x",
           "y": [
            235667
           ],
           "yaxis": "y"
          },
          {
           "hovertemplate": "Geography=Manitoba<br>Time=2012Q4<br>DelinquencyRate=%{x}<br>AverageMortgageAmount=%{y}<br>PopulationSize=%{marker.size}<extra></extra>",
           "ids": [
            "Manitoba"
           ],
           "legendgroup": "Manitoba",
           "marker": {
            "color": "#FF6692",
            "size": [
             1254178
            ],
            "sizemode": "area",
            "sizeref": 36835.035,
            "symbol": "circle"
           },
           "mode": "markers",
           "name": "Manitoba",
           "orientation": "v",
           "showlegend": true,
           "type": "scatter",
           "x": [
            0.27
           ],
           "xaxis": "x",
           "y": [
            181097
           ],
           "yaxis": "y"
          },
          {
           "hovertemplate": "Geography=Saskatchewan<br>Time=2012Q4<br>DelinquencyRate=%{x}<br>AverageMortgageAmount=%{y}<br>PopulationSize=%{marker.size}<extra></extra>",
           "ids": [
            "Saskatchewan"
           ],
           "legendgroup": "Saskatchewan",
           "marker": {
            "color": "#B6E880",
            "size": [
             1088959
            ],
            "sizemode": "area",
            "sizeref": 36835.035,
            "symbol": "circle"
           },
           "mode": "markers",
           "name": "Saskatchewan",
           "orientation": "v",
           "showlegend": true,
           "type": "scatter",
           "x": [
            0.37
           ],
           "xaxis": "x",
           "y": [
            213126
           ],
           "yaxis": "y"
          },
          {
           "hovertemplate": "Geography=Alberta<br>Time=2012Q4<br>DelinquencyRate=%{x}<br>AverageMortgageAmount=%{y}<br>PopulationSize=%{marker.size}<extra></extra>",
           "ids": [
            "Alberta"
           ],
           "legendgroup": "Alberta",
           "marker": {
            "color": "#FF97FF",
            "size": [
             3900333
            ],
            "sizemode": "area",
            "sizeref": 36835.035,
            "symbol": "circle"
           },
           "mode": "markers",
           "name": "Alberta",
           "orientation": "v",
           "showlegend": true,
           "type": "scatter",
           "x": [
            0.55
           ],
           "xaxis": "x",
           "y": [
            277555
           ],
           "yaxis": "y"
          },
          {
           "hovertemplate": "Geography=British Columbia<br>Time=2012Q4<br>DelinquencyRate=%{x}<br>AverageMortgageAmount=%{y}<br>PopulationSize=%{marker.size}<extra></extra>",
           "ids": [
            "British Columbia"
           ],
           "legendgroup": "British Columbia",
           "marker": {
            "color": "#FECB52",
            "size": [
             4590545
            ],
            "sizemode": "area",
            "sizeref": 36835.035,
            "symbol": "circle"
           },
           "mode": "markers",
           "name": "British Columbia",
           "orientation": "v",
           "showlegend": true,
           "type": "scatter",
           "x": [
            0.42
           ],
           "xaxis": "x",
           "y": [
            289864
           ],
           "yaxis": "y"
          }
         ],
         "name": "2012Q4"
        },
        {
         "data": [
          {
           "hovertemplate": "Geography=Newfoundland<br>Time=2013Q1<br>DelinquencyRate=%{x}<br>AverageMortgageAmount=%{y}<br>PopulationSize=%{marker.size}<extra></extra>",
           "ids": [
            "Newfoundland"
           ],
           "legendgroup": "Newfoundland",
           "marker": {
            "color": "#636efa",
            "size": [
             527248
            ],
            "sizemode": "area",
            "sizeref": 36835.035,
            "symbol": "circle"
           },
           "mode": "markers",
           "name": "Newfoundland",
           "orientation": "v",
           "showlegend": true,
           "type": "scatter",
           "x": [
            0.25
           ],
           "xaxis": "x",
           "y": [
            189098
           ],
           "yaxis": "y"
          },
          {
           "hovertemplate": "Geography=Prince Edward Island<br>Time=2013Q1<br>DelinquencyRate=%{x}<br>AverageMortgageAmount=%{y}<br>PopulationSize=%{marker.size}<extra></extra>",
           "ids": [
            "Prince Edward Island"
           ],
           "legendgroup": "Prince Edward Island",
           "marker": {
            "color": "#EF553B",
            "size": [
             144175
            ],
            "sizemode": "area",
            "sizeref": 36835.035,
            "symbol": "circle"
           },
           "mode": "markers",
           "name": "Prince Edward Island",
           "orientation": "v",
           "showlegend": true,
           "type": "scatter",
           "x": [
            0.55
           ],
           "xaxis": "x",
           "y": [
            137162
           ],
           "yaxis": "y"
          },
          {
           "hovertemplate": "Geography=Nova Scotia<br>Time=2013Q1<br>DelinquencyRate=%{x}<br>AverageMortgageAmount=%{y}<br>PopulationSize=%{marker.size}<extra></extra>",
           "ids": [
            "Nova Scotia"
           ],
           "legendgroup": "Nova Scotia",
           "marker": {
            "color": "#00cc96",
            "size": [
             942598
            ],
            "sizemode": "area",
            "sizeref": 36835.035,
            "symbol": "circle"
           },
           "mode": "markers",
           "name": "Nova Scotia",
           "orientation": "v",
           "showlegend": true,
           "type": "scatter",
           "x": [
            0.55
           ],
           "xaxis": "x",
           "y": [
            158806
           ],
           "yaxis": "y"
          },
          {
           "hovertemplate": "Geography=New Brunswick<br>Time=2013Q1<br>DelinquencyRate=%{x}<br>AverageMortgageAmount=%{y}<br>PopulationSize=%{marker.size}<extra></extra>",
           "ids": [
            "New Brunswick"
           ],
           "legendgroup": "New Brunswick",
           "marker": {
            "color": "#ab63fa",
            "size": [
             758298
            ],
            "sizemode": "area",
            "sizeref": 36835.035,
            "symbol": "circle"
           },
           "mode": "markers",
           "name": "New Brunswick",
           "orientation": "v",
           "showlegend": true,
           "type": "scatter",
           "x": [
            0.65
           ],
           "xaxis": "x",
           "y": [
            124645
           ],
           "yaxis": "y"
          },
          {
           "hovertemplate": "Geography=Québec<br>Time=2013Q1<br>DelinquencyRate=%{x}<br>AverageMortgageAmount=%{y}<br>PopulationSize=%{marker.size}<extra></extra>",
           "ids": [
            "Québec"
           ],
           "legendgroup": "Québec",
           "marker": {
            "color": "#FFA15A",
            "size": [
             8082771
            ],
            "sizemode": "area",
            "sizeref": 36835.035,
            "symbol": "circle"
           },
           "mode": "markers",
           "name": "Québec",
           "orientation": "v",
           "showlegend": true,
           "type": "scatter",
           "x": [
            0.35
           ],
           "xaxis": "x",
           "y": [
            153909
           ],
           "yaxis": "y"
          },
          {
           "hovertemplate": "Geography=Ontario<br>Time=2013Q1<br>DelinquencyRate=%{x}<br>AverageMortgageAmount=%{y}<br>PopulationSize=%{marker.size}<extra></extra>",
           "ids": [
            "Ontario"
           ],
           "legendgroup": "Ontario",
           "marker": {
            "color": "#19d3f3",
            "size": [
             13444704
            ],
            "sizemode": "area",
            "sizeref": 36835.035,
            "symbol": "circle"
           },
           "mode": "markers",
           "name": "Ontario",
           "orientation": "v",
           "showlegend": true,
           "type": "scatter",
           "x": [
            0.31
           ],
           "xaxis": "x",
           "y": [
            233122
           ],
           "yaxis": "y"
          },
          {
           "hovertemplate": "Geography=Manitoba<br>Time=2013Q1<br>DelinquencyRate=%{x}<br>AverageMortgageAmount=%{y}<br>PopulationSize=%{marker.size}<extra></extra>",
           "ids": [
            "Manitoba"
           ],
           "legendgroup": "Manitoba",
           "marker": {
            "color": "#FF6692",
            "size": [
             1257940
            ],
            "sizemode": "area",
            "sizeref": 36835.035,
            "symbol": "circle"
           },
           "mode": "markers",
           "name": "Manitoba",
           "orientation": "v",
           "showlegend": true,
           "type": "scatter",
           "x": [
            0.28
           ],
           "xaxis": "x",
           "y": [
            177560
           ],
           "yaxis": "y"
          },
          {
           "hovertemplate": "Geography=Saskatchewan<br>Time=2013Q1<br>DelinquencyRate=%{x}<br>AverageMortgageAmount=%{y}<br>PopulationSize=%{marker.size}<extra></extra>",
           "ids": [
            "Saskatchewan"
           ],
           "legendgroup": "Saskatchewan",
           "marker": {
            "color": "#B6E880",
            "size": [
             1091547
            ],
            "sizemode": "area",
            "sizeref": 36835.035,
            "symbol": "circle"
           },
           "mode": "markers",
           "name": "Saskatchewan",
           "orientation": "v",
           "showlegend": true,
           "type": "scatter",
           "x": [
            0.36
           ],
           "xaxis": "x",
           "y": [
            206354
           ],
           "yaxis": "y"
          },
          {
           "hovertemplate": "Geography=Alberta<br>Time=2013Q1<br>DelinquencyRate=%{x}<br>AverageMortgageAmount=%{y}<br>PopulationSize=%{marker.size}<extra></extra>",
           "ids": [
            "Alberta"
           ],
           "legendgroup": "Alberta",
           "marker": {
            "color": "#FF97FF",
            "size": [
             3920499
            ],
            "sizemode": "area",
            "sizeref": 36835.035,
            "symbol": "circle"
           },
           "mode": "markers",
           "name": "Alberta",
           "orientation": "v",
           "showlegend": true,
           "type": "scatter",
           "x": [
            0.52
           ],
           "xaxis": "x",
           "y": [
            277158
           ],
           "yaxis": "y"
          },
          {
           "hovertemplate": "Geography=British Columbia<br>Time=2013Q1<br>DelinquencyRate=%{x}<br>AverageMortgageAmount=%{y}<br>PopulationSize=%{marker.size}<extra></extra>",
           "ids": [
            "British Columbia"
           ],
           "legendgroup": "British Columbia",
           "marker": {
            "color": "#FECB52",
            "size": [
             4598255
            ],
            "sizemode": "area",
            "sizeref": 36835.035,
            "symbol": "circle"
           },
           "mode": "markers",
           "name": "British Columbia",
           "orientation": "v",
           "showlegend": true,
           "type": "scatter",
           "x": [
            0.43
           ],
           "xaxis": "x",
           "y": [
            286652
           ],
           "yaxis": "y"
          }
         ],
         "name": "2013Q1"
        },
        {
         "data": [
          {
           "hovertemplate": "Geography=Newfoundland<br>Time=2013Q2<br>DelinquencyRate=%{x}<br>AverageMortgageAmount=%{y}<br>PopulationSize=%{marker.size}<extra></extra>",
           "ids": [
            "Newfoundland"
           ],
           "legendgroup": "Newfoundland",
           "marker": {
            "color": "#636efa",
            "size": [
             527313
            ],
            "sizemode": "area",
            "sizeref": 36835.035,
            "symbol": "circle"
           },
           "mode": "markers",
           "name": "Newfoundland",
           "orientation": "v",
           "showlegend": true,
           "type": "scatter",
           "x": [
            0.19
           ],
           "xaxis": "x",
           "y": [
            181331
           ],
           "yaxis": "y"
          },
          {
           "hovertemplate": "Geography=Prince Edward Island<br>Time=2013Q2<br>DelinquencyRate=%{x}<br>AverageMortgageAmount=%{y}<br>PopulationSize=%{marker.size}<extra></extra>",
           "ids": [
            "Prince Edward Island"
           ],
           "legendgroup": "Prince Edward Island",
           "marker": {
            "color": "#EF553B",
            "size": [
             143948
            ],
            "sizemode": "area",
            "sizeref": 36835.035,
            "symbol": "circle"
           },
           "mode": "markers",
           "name": "Prince Edward Island",
           "orientation": "v",
           "showlegend": true,
           "type": "scatter",
           "x": [
            0.47
           ],
           "xaxis": "x",
           "y": [
            126763
           ],
           "yaxis": "y"
          },
          {
           "hovertemplate": "Geography=Nova Scotia<br>Time=2013Q2<br>DelinquencyRate=%{x}<br>AverageMortgageAmount=%{y}<br>PopulationSize=%{marker.size}<extra></extra>",
           "ids": [
            "Nova Scotia"
           ],
           "legendgroup": "Nova Scotia",
           "marker": {
            "color": "#00cc96",
            "size": [
             941230
            ],
            "sizemode": "area",
            "sizeref": 36835.035,
            "symbol": "circle"
           },
           "mode": "markers",
           "name": "Nova Scotia",
           "orientation": "v",
           "showlegend": true,
           "type": "scatter",
           "x": [
            0.56
           ],
           "xaxis": "x",
           "y": [
            159945
           ],
           "yaxis": "y"
          },
          {
           "hovertemplate": "Geography=New Brunswick<br>Time=2013Q2<br>DelinquencyRate=%{x}<br>AverageMortgageAmount=%{y}<br>PopulationSize=%{marker.size}<extra></extra>",
           "ids": [
            "New Brunswick"
           ],
           "legendgroup": "New Brunswick",
           "marker": {
            "color": "#ab63fa",
            "size": [
             758132
            ],
            "sizemode": "area",
            "sizeref": 36835.035,
            "symbol": "circle"
           },
           "mode": "markers",
           "name": "New Brunswick",
           "orientation": "v",
           "showlegend": true,
           "type": "scatter",
           "x": [
            0.6
           ],
           "xaxis": "x",
           "y": [
            122572
           ],
           "yaxis": "y"
          },
          {
           "hovertemplate": "Geography=Québec<br>Time=2013Q2<br>DelinquencyRate=%{x}<br>AverageMortgageAmount=%{y}<br>PopulationSize=%{marker.size}<extra></extra>",
           "ids": [
            "Québec"
           ],
           "legendgroup": "Québec",
           "marker": {
            "color": "#FFA15A",
            "size": [
             8090916
            ],
            "sizemode": "area",
            "sizeref": 36835.035,
            "symbol": "circle"
           },
           "mode": "markers",
           "name": "Québec",
           "orientation": "v",
           "showlegend": true,
           "type": "scatter",
           "x": [
            0.34
           ],
           "xaxis": "x",
           "y": [
            155016
           ],
           "yaxis": "y"
          },
          {
           "hovertemplate": "Geography=Ontario<br>Time=2013Q2<br>DelinquencyRate=%{x}<br>AverageMortgageAmount=%{y}<br>PopulationSize=%{marker.size}<extra></extra>",
           "ids": [
            "Ontario"
           ],
           "legendgroup": "Ontario",
           "marker": {
            "color": "#19d3f3",
            "size": [
             13467829
            ],
            "sizemode": "area",
            "sizeref": 36835.035,
            "symbol": "circle"
           },
           "mode": "markers",
           "name": "Ontario",
           "orientation": "v",
           "showlegend": true,
           "type": "scatter",
           "x": [
            0.29
           ],
           "xaxis": "x",
           "y": [
            230770
           ],
           "yaxis": "y"
          },
          {
           "hovertemplate": "Geography=Manitoba<br>Time=2013Q2<br>DelinquencyRate=%{x}<br>AverageMortgageAmount=%{y}<br>PopulationSize=%{marker.size}<extra></extra>",
           "ids": [
            "Manitoba"
           ],
           "legendgroup": "Manitoba",
           "marker": {
            "color": "#FF6692",
            "size": [
             1260834
            ],
            "sizemode": "area",
            "sizeref": 36835.035,
            "symbol": "circle"
           },
           "mode": "markers",
           "name": "Manitoba",
           "orientation": "v",
           "showlegend": true,
           "type": "scatter",
           "x": [
            0.26
           ],
           "xaxis": "x",
           "y": [
            177517
           ],
           "yaxis": "y"
          },
          {
           "hovertemplate": "Geography=Saskatchewan<br>Time=2013Q2<br>DelinquencyRate=%{x}<br>AverageMortgageAmount=%{y}<br>PopulationSize=%{marker.size}<extra></extra>",
           "ids": [
            "Saskatchewan"
           ],
           "legendgroup": "Saskatchewan",
           "marker": {
            "color": "#B6E880",
            "size": [
             1094390
            ],
            "sizemode": "area",
            "sizeref": 36835.035,
            "symbol": "circle"
           },
           "mode": "markers",
           "name": "Saskatchewan",
           "orientation": "v",
           "showlegend": true,
           "type": "scatter",
           "x": [
            0.34
           ],
           "xaxis": "x",
           "y": [
            211979
           ],
           "yaxis": "y"
          },
          {
           "hovertemplate": "Geography=Alberta<br>Time=2013Q2<br>DelinquencyRate=%{x}<br>AverageMortgageAmount=%{y}<br>PopulationSize=%{marker.size}<extra></extra>",
           "ids": [
            "Alberta"
           ],
           "legendgroup": "Alberta",
           "marker": {
            "color": "#FF97FF",
            "size": [
             3946798
            ],
            "sizemode": "area",
            "sizeref": 36835.035,
            "symbol": "circle"
           },
           "mode": "markers",
           "name": "Alberta",
           "orientation": "v",
           "showlegend": true,
           "type": "scatter",
           "x": [
            0.47
           ],
           "xaxis": "x",
           "y": [
            278516
           ],
           "yaxis": "y"
          },
          {
           "hovertemplate": "Geography=British Columbia<br>Time=2013Q2<br>DelinquencyRate=%{x}<br>AverageMortgageAmount=%{y}<br>PopulationSize=%{marker.size}<extra></extra>",
           "ids": [
            "British Columbia"
           ],
           "legendgroup": "British Columbia",
           "marker": {
            "color": "#FECB52",
            "size": [
             4611648
            ],
            "sizemode": "area",
            "sizeref": 36835.035,
            "symbol": "circle"
           },
           "mode": "markers",
           "name": "British Columbia",
           "orientation": "v",
           "showlegend": true,
           "type": "scatter",
           "x": [
            0.43
           ],
           "xaxis": "x",
           "y": [
            290928
           ],
           "yaxis": "y"
          }
         ],
         "name": "2013Q2"
        },
        {
         "data": [
          {
           "hovertemplate": "Geography=Newfoundland<br>Time=2013Q3<br>DelinquencyRate=%{x}<br>AverageMortgageAmount=%{y}<br>PopulationSize=%{marker.size}<extra></extra>",
           "ids": [
            "Newfoundland"
           ],
           "legendgroup": "Newfoundland",
           "marker": {
            "color": "#636efa",
            "size": [
             527114
            ],
            "sizemode": "area",
            "sizeref": 36835.035,
            "symbol": "circle"
           },
           "mode": "markers",
           "name": "Newfoundland",
           "orientation": "v",
           "showlegend": true,
           "type": "scatter",
           "x": [
            0.2
           ],
           "xaxis": "x",
           "y": [
            191818
           ],
           "yaxis": "y"
          },
          {
           "hovertemplate": "Geography=Prince Edward Island<br>Time=2013Q3<br>DelinquencyRate=%{x}<br>AverageMortgageAmount=%{y}<br>PopulationSize=%{marker.size}<extra></extra>",
           "ids": [
            "Prince Edward Island"
           ],
           "legendgroup": "Prince Edward Island",
           "marker": {
            "color": "#EF553B",
            "size": [
             144094
            ],
            "sizemode": "area",
            "sizeref": 36835.035,
            "symbol": "circle"
           },
           "mode": "markers",
           "name": "Prince Edward Island",
           "orientation": "v",
           "showlegend": true,
           "type": "scatter",
           "x": [
            0.56
           ],
           "xaxis": "x",
           "y": [
            139506
           ],
           "yaxis": "y"
          },
          {
           "hovertemplate": "Geography=Nova Scotia<br>Time=2013Q3<br>DelinquencyRate=%{x}<br>AverageMortgageAmount=%{y}<br>PopulationSize=%{marker.size}<extra></extra>",
           "ids": [
            "Nova Scotia"
           ],
           "legendgroup": "Nova Scotia",
           "marker": {
            "color": "#00cc96",
            "size": [
             940434
            ],
            "sizemode": "area",
            "sizeref": 36835.035,
            "symbol": "circle"
           },
           "mode": "markers",
           "name": "Nova Scotia",
           "orientation": "v",
           "showlegend": true,
           "type": "scatter",
           "x": [
            0.58
           ],
           "xaxis": "x",
           "y": [
            166426
           ],
           "yaxis": "y"
          },
          {
           "hovertemplate": "Geography=New Brunswick<br>Time=2013Q3<br>DelinquencyRate=%{x}<br>AverageMortgageAmount=%{y}<br>PopulationSize=%{marker.size}<extra></extra>",
           "ids": [
            "New Brunswick"
           ],
           "legendgroup": "New Brunswick",
           "marker": {
            "color": "#ab63fa",
            "size": [
             758544
            ],
            "sizemode": "area",
            "sizeref": 36835.035,
            "symbol": "circle"
           },
           "mode": "markers",
           "name": "New Brunswick",
           "orientation": "v",
           "showlegend": true,
           "type": "scatter",
           "x": [
            0.61
           ],
           "xaxis": "x",
           "y": [
            131542
           ],
           "yaxis": "y"
          },
          {
           "hovertemplate": "Geography=Québec<br>Time=2013Q3<br>DelinquencyRate=%{x}<br>AverageMortgageAmount=%{y}<br>PopulationSize=%{marker.size}<extra></extra>",
           "ids": [
            "Québec"
           ],
           "legendgroup": "Québec",
           "marker": {
            "color": "#FFA15A",
            "size": [
             8110880
            ],
            "sizemode": "area",
            "sizeref": 36835.035,
            "symbol": "circle"
           },
           "mode": "markers",
           "name": "Québec",
           "orientation": "v",
           "showlegend": true,
           "type": "scatter",
           "x": [
            0.33
           ],
           "xaxis": "x",
           "y": [
            160147
           ],
           "yaxis": "y"
          },
          {
           "hovertemplate": "Geography=Ontario<br>Time=2013Q3<br>DelinquencyRate=%{x}<br>AverageMortgageAmount=%{y}<br>PopulationSize=%{marker.size}<extra></extra>",
           "ids": [
            "Ontario"
           ],
           "legendgroup": "Ontario",
           "marker": {
            "color": "#19d3f3",
            "size": [
             13510781
            ],
            "sizemode": "area",
            "sizeref": 36835.035,
            "symbol": "circle"
           },
           "mode": "markers",
           "name": "Ontario",
           "orientation": "v",
           "showlegend": true,
           "type": "scatter",
           "x": [
            0.28
           ],
           "xaxis": "x",
           "y": [
            249054
           ],
           "yaxis": "y"
          },
          {
           "hovertemplate": "Geography=Manitoba<br>Time=2013Q3<br>DelinquencyRate=%{x}<br>AverageMortgageAmount=%{y}<br>PopulationSize=%{marker.size}<extra></extra>",
           "ids": [
            "Manitoba"
           ],
           "legendgroup": "Manitoba",
           "marker": {
            "color": "#FF6692",
            "size": [
             1264620
            ],
            "sizemode": "area",
            "sizeref": 36835.035,
            "symbol": "circle"
           },
           "mode": "markers",
           "name": "Manitoba",
           "orientation": "v",
           "showlegend": true,
           "type": "scatter",
           "x": [
            0.28
           ],
           "xaxis": "x",
           "y": [
            192732
           ],
           "yaxis": "y"
          },
          {
           "hovertemplate": "Geography=Saskatchewan<br>Time=2013Q3<br>DelinquencyRate=%{x}<br>AverageMortgageAmount=%{y}<br>PopulationSize=%{marker.size}<extra></extra>",
           "ids": [
            "Saskatchewan"
           ],
           "legendgroup": "Saskatchewan",
           "marker": {
            "color": "#B6E880",
            "size": [
             1099736
            ],
            "sizemode": "area",
            "sizeref": 36835.035,
            "symbol": "circle"
           },
           "mode": "markers",
           "name": "Saskatchewan",
           "orientation": "v",
           "showlegend": true,
           "type": "scatter",
           "x": [
            0.3
           ],
           "xaxis": "x",
           "y": [
            224868
           ],
           "yaxis": "y"
          },
          {
           "hovertemplate": "Geography=Alberta<br>Time=2013Q3<br>DelinquencyRate=%{x}<br>AverageMortgageAmount=%{y}<br>PopulationSize=%{marker.size}<extra></extra>",
           "ids": [
            "Alberta"
           ],
           "legendgroup": "Alberta",
           "marker": {
            "color": "#FF97FF",
            "size": [
             3981011
            ],
            "sizemode": "area",
            "sizeref": 36835.035,
            "symbol": "circle"
           },
           "mode": "markers",
           "name": "Alberta",
           "orientation": "v",
           "showlegend": true,
           "type": "scatter",
           "x": [
            0.45
           ],
           "xaxis": "x",
           "y": [
            289263
           ],
           "yaxis": "y"
          },
          {
           "hovertemplate": "Geography=British Columbia<br>Time=2013Q3<br>DelinquencyRate=%{x}<br>AverageMortgageAmount=%{y}<br>PopulationSize=%{marker.size}<extra></extra>",
           "ids": [
            "British Columbia"
           ],
           "legendgroup": "British Columbia",
           "marker": {
            "color": "#FECB52",
            "size": [
             4630077
            ],
            "sizemode": "area",
            "sizeref": 36835.035,
            "symbol": "circle"
           },
           "mode": "markers",
           "name": "British Columbia",
           "orientation": "v",
           "showlegend": true,
           "type": "scatter",
           "x": [
            0.42
           ],
           "xaxis": "x",
           "y": [
            303663
           ],
           "yaxis": "y"
          }
         ],
         "name": "2013Q3"
        },
        {
         "data": [
          {
           "hovertemplate": "Geography=Newfoundland<br>Time=2013Q4<br>DelinquencyRate=%{x}<br>AverageMortgageAmount=%{y}<br>PopulationSize=%{marker.size}<extra></extra>",
           "ids": [
            "Newfoundland"
           ],
           "legendgroup": "Newfoundland",
           "marker": {
            "color": "#636efa",
            "size": [
             528117
            ],
            "sizemode": "area",
            "sizeref": 36835.035,
            "symbol": "circle"
           },
           "mode": "markers",
           "name": "Newfoundland",
           "orientation": "v",
           "showlegend": true,
           "type": "scatter",
           "x": [
            0.22
           ],
           "xaxis": "x",
           "y": [
            193100
           ],
           "yaxis": "y"
          },
          {
           "hovertemplate": "Geography=Prince Edward Island<br>Time=2013Q4<br>DelinquencyRate=%{x}<br>AverageMortgageAmount=%{y}<br>PopulationSize=%{marker.size}<extra></extra>",
           "ids": [
            "Prince Edward Island"
           ],
           "legendgroup": "Prince Edward Island",
           "marker": {
            "color": "#EF553B",
            "size": [
             144103
            ],
            "sizemode": "area",
            "sizeref": 36835.035,
            "symbol": "circle"
           },
           "mode": "markers",
           "name": "Prince Edward Island",
           "orientation": "v",
           "showlegend": true,
           "type": "scatter",
           "x": [
            0.58
           ],
           "xaxis": "x",
           "y": [
            141453
           ],
           "yaxis": "y"
          },
          {
           "hovertemplate": "Geography=Nova Scotia<br>Time=2013Q4<br>DelinquencyRate=%{x}<br>AverageMortgageAmount=%{y}<br>PopulationSize=%{marker.size}<extra></extra>",
           "ids": [
            "Nova Scotia"
           ],
           "legendgroup": "Nova Scotia",
           "marker": {
            "color": "#00cc96",
            "size": [
             940105
            ],
            "sizemode": "area",
            "sizeref": 36835.035,
            "symbol": "circle"
           },
           "mode": "markers",
           "name": "Nova Scotia",
           "orientation": "v",
           "showlegend": true,
           "type": "scatter",
           "x": [
            0.62
           ],
           "xaxis": "x",
           "y": [
            160189
           ],
           "yaxis": "y"
          },
          {
           "hovertemplate": "Geography=New Brunswick<br>Time=2013Q4<br>DelinquencyRate=%{x}<br>AverageMortgageAmount=%{y}<br>PopulationSize=%{marker.size}<extra></extra>",
           "ids": [
            "New Brunswick"
           ],
           "legendgroup": "New Brunswick",
           "marker": {
            "color": "#ab63fa",
            "size": [
             758670
            ],
            "sizemode": "area",
            "sizeref": 36835.035,
            "symbol": "circle"
           },
           "mode": "markers",
           "name": "New Brunswick",
           "orientation": "v",
           "showlegend": true,
           "type": "scatter",
           "x": [
            0.68
           ],
           "xaxis": "x",
           "y": [
            128155
           ],
           "yaxis": "y"
          },
          {
           "hovertemplate": "Geography=Québec<br>Time=2013Q4<br>DelinquencyRate=%{x}<br>AverageMortgageAmount=%{y}<br>PopulationSize=%{marker.size}<extra></extra>",
           "ids": [
            "Québec"
           ],
           "legendgroup": "Québec",
           "marker": {
            "color": "#FFA15A",
            "size": [
             8124660
            ],
            "sizemode": "area",
            "sizeref": 36835.035,
            "symbol": "circle"
           },
           "mode": "markers",
           "name": "Québec",
           "orientation": "v",
           "showlegend": true,
           "type": "scatter",
           "x": [
            0.35
           ],
           "xaxis": "x",
           "y": [
            155512
           ],
           "yaxis": "y"
          },
          {
           "hovertemplate": "Geography=Ontario<br>Time=2013Q4<br>DelinquencyRate=%{x}<br>AverageMortgageAmount=%{y}<br>PopulationSize=%{marker.size}<extra></extra>",
           "ids": [
            "Ontario"
           ],
           "legendgroup": "Ontario",
           "marker": {
            "color": "#19d3f3",
            "size": [
             13558528
            ],
            "sizemode": "area",
            "sizeref": 36835.035,
            "symbol": "circle"
           },
           "mode": "markers",
           "name": "Ontario",
           "orientation": "v",
           "showlegend": true,
           "type": "scatter",
           "x": [
            0.28
           ],
           "xaxis": "x",
           "y": [
            244060
           ],
           "yaxis": "y"
          },
          {
           "hovertemplate": "Geography=Manitoba<br>Time=2013Q4<br>DelinquencyRate=%{x}<br>AverageMortgageAmount=%{y}<br>PopulationSize=%{marker.size}<extra></extra>",
           "ids": [
            "Manitoba"
           ],
           "legendgroup": "Manitoba",
           "marker": {
            "color": "#FF6692",
            "size": [
             1268428
            ],
            "sizemode": "area",
            "sizeref": 36835.035,
            "symbol": "circle"
           },
           "mode": "markers",
           "name": "Manitoba",
           "orientation": "v",
           "showlegend": true,
           "type": "scatter",
           "x": [
            0.28
           ],
           "xaxis": "x",
           "y": [
            189570
           ],
           "yaxis": "y"
          },
          {
           "hovertemplate": "Geography=Saskatchewan<br>Time=2013Q4<br>DelinquencyRate=%{x}<br>AverageMortgageAmount=%{y}<br>PopulationSize=%{marker.size}<extra></extra>",
           "ids": [
            "Saskatchewan"
           ],
           "legendgroup": "Saskatchewan",
           "marker": {
            "color": "#B6E880",
            "size": [
             1103730
            ],
            "sizemode": "area",
            "sizeref": 36835.035,
            "symbol": "circle"
           },
           "mode": "markers",
           "name": "Saskatchewan",
           "orientation": "v",
           "showlegend": true,
           "type": "scatter",
           "x": [
            0.32
           ],
           "xaxis": "x",
           "y": [
            225414
           ],
           "yaxis": "y"
          },
          {
           "hovertemplate": "Geography=Alberta<br>Time=2013Q4<br>DelinquencyRate=%{x}<br>AverageMortgageAmount=%{y}<br>PopulationSize=%{marker.size}<extra></extra>",
           "ids": [
            "Alberta"
           ],
           "legendgroup": "Alberta",
           "marker": {
            "color": "#FF97FF",
            "size": [
             4010903
            ],
            "sizemode": "area",
            "sizeref": 36835.035,
            "symbol": "circle"
           },
           "mode": "markers",
           "name": "Alberta",
           "orientation": "v",
           "showlegend": true,
           "type": "scatter",
           "x": [
            0.43
           ],
           "xaxis": "x",
           "y": [
            284928
           ],
           "yaxis": "y"
          },
          {
           "hovertemplate": "Geography=British Columbia<br>Time=2013Q4<br>DelinquencyRate=%{x}<br>AverageMortgageAmount=%{y}<br>PopulationSize=%{marker.size}<extra></extra>",
           "ids": [
            "British Columbia"
           ],
           "legendgroup": "British Columbia",
           "marker": {
            "color": "#FECB52",
            "size": [
             4658875
            ],
            "sizemode": "area",
            "sizeref": 36835.035,
            "symbol": "circle"
           },
           "mode": "markers",
           "name": "British Columbia",
           "orientation": "v",
           "showlegend": true,
           "type": "scatter",
           "x": [
            0.43
           ],
           "xaxis": "x",
           "y": [
            305256
           ],
           "yaxis": "y"
          }
         ],
         "name": "2013Q4"
        },
        {
         "data": [
          {
           "hovertemplate": "Geography=Newfoundland<br>Time=2014Q1<br>DelinquencyRate=%{x}<br>AverageMortgageAmount=%{y}<br>PopulationSize=%{marker.size}<extra></extra>",
           "ids": [
            "Newfoundland"
           ],
           "legendgroup": "Newfoundland",
           "marker": {
            "color": "#636efa",
            "size": [
             528242
            ],
            "sizemode": "area",
            "sizeref": 36835.035,
            "symbol": "circle"
           },
           "mode": "markers",
           "name": "Newfoundland",
           "orientation": "v",
           "showlegend": true,
           "type": "scatter",
           "x": [
            0.23
           ],
           "xaxis": "x",
           "y": [
            195479
           ],
           "yaxis": "y"
          },
          {
           "hovertemplate": "Geography=Prince Edward Island<br>Time=2014Q1<br>DelinquencyRate=%{x}<br>AverageMortgageAmount=%{y}<br>PopulationSize=%{marker.size}<extra></extra>",
           "ids": [
            "Prince Edward Island"
           ],
           "legendgroup": "Prince Edward Island",
           "marker": {
            "color": "#EF553B",
            "size": [
             143996
            ],
            "sizemode": "area",
            "sizeref": 36835.035,
            "symbol": "circle"
           },
           "mode": "markers",
           "name": "Prince Edward Island",
           "orientation": "v",
           "showlegend": true,
           "type": "scatter",
           "x": [
            0.6
           ],
           "xaxis": "x",
           "y": [
            141141
           ],
           "yaxis": "y"
          },
          {
           "hovertemplate": "Geography=Nova Scotia<br>Time=2014Q1<br>DelinquencyRate=%{x}<br>AverageMortgageAmount=%{y}<br>PopulationSize=%{marker.size}<extra></extra>",
           "ids": [
            "Nova Scotia"
           ],
           "legendgroup": "Nova Scotia",
           "marker": {
            "color": "#00cc96",
            "size": [
             939867
            ],
            "sizemode": "area",
            "sizeref": 36835.035,
            "symbol": "circle"
           },
           "mode": "markers",
           "name": "Nova Scotia",
           "orientation": "v",
           "showlegend": true,
           "type": "scatter",
           "x": [
            0.65
           ],
           "xaxis": "x",
           "y": [
            161383
           ],
           "yaxis": "y"
          },
          {
           "hovertemplate": "Geography=New Brunswick<br>Time=2014Q1<br>DelinquencyRate=%{x}<br>AverageMortgageAmount=%{y}<br>PopulationSize=%{marker.size}<extra></extra>",
           "ids": [
            "New Brunswick"
           ],
           "legendgroup": "New Brunswick",
           "marker": {
            "color": "#ab63fa",
            "size": [
             759018
            ],
            "sizemode": "area",
            "sizeref": 36835.035,
            "symbol": "circle"
           },
           "mode": "markers",
           "name": "New Brunswick",
           "orientation": "v",
           "showlegend": true,
           "type": "scatter",
           "x": [
            0.72
           ],
           "xaxis": "x",
           "y": [
            127766
           ],
           "yaxis": "y"
          },
          {
           "hovertemplate": "Geography=Québec<br>Time=2014Q1<br>DelinquencyRate=%{x}<br>AverageMortgageAmount=%{y}<br>PopulationSize=%{marker.size}<extra></extra>",
           "ids": [
            "Québec"
           ],
           "legendgroup": "Québec",
           "marker": {
            "color": "#FFA15A",
            "size": [
             8125478
            ],
            "sizemode": "area",
            "sizeref": 36835.035,
            "symbol": "circle"
           },
           "mode": "markers",
           "name": "Québec",
           "orientation": "v",
           "showlegend": true,
           "type": "scatter",
           "x": [
            0.37
           ],
           "xaxis": "x",
           "y": [
            156424
           ],
           "yaxis": "y"
          },
          {
           "hovertemplate": "Geography=Ontario<br>Time=2014Q1<br>DelinquencyRate=%{x}<br>AverageMortgageAmount=%{y}<br>PopulationSize=%{marker.size}<extra></extra>",
           "ids": [
            "Ontario"
           ],
           "legendgroup": "Ontario",
           "marker": {
            "color": "#19d3f3",
            "size": [
             13562583
            ],
            "sizemode": "area",
            "sizeref": 36835.035,
            "symbol": "circle"
           },
           "mode": "markers",
           "name": "Ontario",
           "orientation": "v",
           "showlegend": true,
           "type": "scatter",
           "x": [
            0.29
           ],
           "xaxis": "x",
           "y": [
            244077
           ],
           "yaxis": "y"
          },
          {
           "hovertemplate": "Geography=Manitoba<br>Time=2014Q1<br>DelinquencyRate=%{x}<br>AverageMortgageAmount=%{y}<br>PopulationSize=%{marker.size}<extra></extra>",
           "ids": [
            "Manitoba"
           ],
           "legendgroup": "Manitoba",
           "marker": {
            "color": "#FF6692",
            "size": [
             1271562
            ],
            "sizemode": "area",
            "sizeref": 36835.035,
            "symbol": "circle"
           },
           "mode": "markers",
           "name": "Manitoba",
           "orientation": "v",
           "showlegend": true,
           "type": "scatter",
           "x": [
            0.28
           ],
           "xaxis": "x",
           "y": [
            188107
           ],
           "yaxis": "y"
          },
          {
           "hovertemplate": "Geography=Saskatchewan<br>Time=2014Q1<br>DelinquencyRate=%{x}<br>AverageMortgageAmount=%{y}<br>PopulationSize=%{marker.size}<extra></extra>",
           "ids": [
            "Saskatchewan"
           ],
           "legendgroup": "Saskatchewan",
           "marker": {
            "color": "#B6E880",
            "size": [
             1106374
            ],
            "sizemode": "area",
            "sizeref": 36835.035,
            "symbol": "circle"
           },
           "mode": "markers",
           "name": "Saskatchewan",
           "orientation": "v",
           "showlegend": true,
           "type": "scatter",
           "x": [
            0.35
           ],
           "xaxis": "x",
           "y": [
            226559
           ],
           "yaxis": "y"
          },
          {
           "hovertemplate": "Geography=Alberta<br>Time=2014Q1<br>DelinquencyRate=%{x}<br>AverageMortgageAmount=%{y}<br>PopulationSize=%{marker.size}<extra></extra>",
           "ids": [
            "Alberta"
           ],
           "legendgroup": "Alberta",
           "marker": {
            "color": "#FF97FF",
            "size": [
             4029951
            ],
            "sizemode": "area",
            "sizeref": 36835.035,
            "symbol": "circle"
           },
           "mode": "markers",
           "name": "Alberta",
           "orientation": "v",
           "showlegend": true,
           "type": "scatter",
           "x": [
            0.42
           ],
           "xaxis": "x",
           "y": [
            291926
           ],
           "yaxis": "y"
          },
          {
           "hovertemplate": "Geography=British Columbia<br>Time=2014Q1<br>DelinquencyRate=%{x}<br>AverageMortgageAmount=%{y}<br>PopulationSize=%{marker.size}<extra></extra>",
           "ids": [
            "British Columbia"
           ],
           "legendgroup": "British Columbia",
           "marker": {
            "color": "#FECB52",
            "size": [
             4666788
            ],
            "sizemode": "area",
            "sizeref": 36835.035,
            "symbol": "circle"
           },
           "mode": "markers",
           "name": "British Columbia",
           "orientation": "v",
           "showlegend": true,
           "type": "scatter",
           "x": [
            0.43
           ],
           "xaxis": "x",
           "y": [
            309374
           ],
           "yaxis": "y"
          }
         ],
         "name": "2014Q1"
        },
        {
         "data": [
          {
           "hovertemplate": "Geography=Newfoundland<br>Time=2014Q2<br>DelinquencyRate=%{x}<br>AverageMortgageAmount=%{y}<br>PopulationSize=%{marker.size}<extra></extra>",
           "ids": [
            "Newfoundland"
           ],
           "legendgroup": "Newfoundland",
           "marker": {
            "color": "#636efa",
            "size": [
             527498
            ],
            "sizemode": "area",
            "sizeref": 36835.035,
            "symbol": "circle"
           },
           "mode": "markers",
           "name": "Newfoundland",
           "orientation": "v",
           "showlegend": true,
           "type": "scatter",
           "x": [
            0.25
           ],
           "xaxis": "x",
           "y": [
            192856
           ],
           "yaxis": "y"
          },
          {
           "hovertemplate": "Geography=Prince Edward Island<br>Time=2014Q2<br>DelinquencyRate=%{x}<br>AverageMortgageAmount=%{y}<br>PopulationSize=%{marker.size}<extra></extra>",
           "ids": [
            "Prince Edward Island"
           ],
           "legendgroup": "Prince Edward Island",
           "marker": {
            "color": "#EF553B",
            "size": [
             143984
            ],
            "sizemode": "area",
            "sizeref": 36835.035,
            "symbol": "circle"
           },
           "mode": "markers",
           "name": "Prince Edward Island",
           "orientation": "v",
           "showlegend": true,
           "type": "scatter",
           "x": [
            0.6
           ],
           "xaxis": "x",
           "y": [
            137427
           ],
           "yaxis": "y"
          },
          {
           "hovertemplate": "Geography=Nova Scotia<br>Time=2014Q2<br>DelinquencyRate=%{x}<br>AverageMortgageAmount=%{y}<br>PopulationSize=%{marker.size}<extra></extra>",
           "ids": [
            "Nova Scotia"
           ],
           "legendgroup": "Nova Scotia",
           "marker": {
            "color": "#00cc96",
            "size": [
             938913
            ],
            "sizemode": "area",
            "sizeref": 36835.035,
            "symbol": "circle"
           },
           "mode": "markers",
           "name": "Nova Scotia",
           "orientation": "v",
           "showlegend": true,
           "type": "scatter",
           "x": [
            0.65
           ],
           "xaxis": "x",
           "y": [
            157664
           ],
           "yaxis": "y"
          },
          {
           "hovertemplate": "Geography=New Brunswick<br>Time=2014Q2<br>DelinquencyRate=%{x}<br>AverageMortgageAmount=%{y}<br>PopulationSize=%{marker.size}<extra></extra>",
           "ids": [
            "New Brunswick"
           ],
           "legendgroup": "New Brunswick",
           "marker": {
            "color": "#ab63fa",
            "size": [
             758876
            ],
            "sizemode": "area",
            "sizeref": 36835.035,
            "symbol": "circle"
           },
           "mode": "markers",
           "name": "New Brunswick",
           "orientation": "v",
           "showlegend": true,
           "type": "scatter",
           "x": [
            0.67
           ],
           "xaxis": "x",
           "y": [
            124221
           ],
           "yaxis": "y"
          },
          {
           "hovertemplate": "Geography=Québec<br>Time=2014Q2<br>DelinquencyRate=%{x}<br>AverageMortgageAmount=%{y}<br>PopulationSize=%{marker.size}<extra></extra>",
           "ids": [
            "Québec"
           ],
           "legendgroup": "Québec",
           "marker": {
            "color": "#FFA15A",
            "size": [
             8132425
            ],
            "sizemode": "area",
            "sizeref": 36835.035,
            "symbol": "circle"
           },
           "mode": "markers",
           "name": "Québec",
           "orientation": "v",
           "showlegend": true,
           "type": "scatter",
           "x": [
            0.36
           ],
           "xaxis": "x",
           "y": [
            160165
           ],
           "yaxis": "y"
          },
          {
           "hovertemplate": "Geography=Ontario<br>Time=2014Q2<br>DelinquencyRate=%{x}<br>AverageMortgageAmount=%{y}<br>PopulationSize=%{marker.size}<extra></extra>",
           "ids": [
            "Ontario"
           ],
           "legendgroup": "Ontario",
           "marker": {
            "color": "#19d3f3",
            "size": [
             13582747
            ],
            "sizemode": "area",
            "sizeref": 36835.035,
            "symbol": "circle"
           },
           "mode": "markers",
           "name": "Ontario",
           "orientation": "v",
           "showlegend": true,
           "type": "scatter",
           "x": [
            0.27
           ],
           "xaxis": "x",
           "y": [
            240828
           ],
           "yaxis": "y"
          },
          {
           "hovertemplate": "Geography=Manitoba<br>Time=2014Q2<br>DelinquencyRate=%{x}<br>AverageMortgageAmount=%{y}<br>PopulationSize=%{marker.size}<extra></extra>",
           "ids": [
            "Manitoba"
           ],
           "legendgroup": "Manitoba",
           "marker": {
            "color": "#FF6692",
            "size": [
             1274407
            ],
            "sizemode": "area",
            "sizeref": 36835.035,
            "symbol": "circle"
           },
           "mode": "markers",
           "name": "Manitoba",
           "orientation": "v",
           "showlegend": true,
           "type": "scatter",
           "x": [
            0.25
           ],
           "xaxis": "x",
           "y": [
            184554
           ],
           "yaxis": "y"
          },
          {
           "hovertemplate": "Geography=Saskatchewan<br>Time=2014Q2<br>DelinquencyRate=%{x}<br>AverageMortgageAmount=%{y}<br>PopulationSize=%{marker.size}<extra></extra>",
           "ids": [
            "Saskatchewan"
           ],
           "legendgroup": "Saskatchewan",
           "marker": {
            "color": "#B6E880",
            "size": [
             1109631
            ],
            "sizemode": "area",
            "sizeref": 36835.035,
            "symbol": "circle"
           },
           "mode": "markers",
           "name": "Saskatchewan",
           "orientation": "v",
           "showlegend": true,
           "type": "scatter",
           "x": [
            0.31
           ],
           "xaxis": "x",
           "y": [
            218781
           ],
           "yaxis": "y"
          },
          {
           "hovertemplate": "Geography=Alberta<br>Time=2014Q2<br>DelinquencyRate=%{x}<br>AverageMortgageAmount=%{y}<br>PopulationSize=%{marker.size}<extra></extra>",
           "ids": [
            "Alberta"
           ],
           "legendgroup": "Alberta",
           "marker": {
            "color": "#FF97FF",
            "size": [
             4054280
            ],
            "sizemode": "area",
            "sizeref": 36835.035,
            "symbol": "circle"
           },
           "mode": "markers",
           "name": "Alberta",
           "orientation": "v",
           "showlegend": true,
           "type": "scatter",
           "x": [
            0.37
           ],
           "xaxis": "x",
           "y": [
            290722
           ],
           "yaxis": "y"
          },
          {
           "hovertemplate": "Geography=British Columbia<br>Time=2014Q2<br>DelinquencyRate=%{x}<br>AverageMortgageAmount=%{y}<br>PopulationSize=%{marker.size}<extra></extra>",
           "ids": [
            "British Columbia"
           ],
           "legendgroup": "British Columbia",
           "marker": {
            "color": "#FECB52",
            "size": [
             4684490
            ],
            "sizemode": "area",
            "sizeref": 36835.035,
            "symbol": "circle"
           },
           "mode": "markers",
           "name": "British Columbia",
           "orientation": "v",
           "showlegend": true,
           "type": "scatter",
           "x": [
            0.4
           ],
           "xaxis": "x",
           "y": [
            305138
           ],
           "yaxis": "y"
          }
         ],
         "name": "2014Q2"
        },
        {
         "data": [
          {
           "hovertemplate": "Geography=Newfoundland<br>Time=2014Q3<br>DelinquencyRate=%{x}<br>AverageMortgageAmount=%{y}<br>PopulationSize=%{marker.size}<extra></extra>",
           "ids": [
            "Newfoundland"
           ],
           "legendgroup": "Newfoundland",
           "marker": {
            "color": "#636efa",
            "size": [
             528159
            ],
            "sizemode": "area",
            "sizeref": 36835.035,
            "symbol": "circle"
           },
           "mode": "markers",
           "name": "Newfoundland",
           "orientation": "v",
           "showlegend": true,
           "type": "scatter",
           "x": [
            0.26
           ],
           "xaxis": "x",
           "y": [
            199560
           ],
           "yaxis": "y"
          },
          {
           "hovertemplate": "Geography=Prince Edward Island<br>Time=2014Q3<br>DelinquencyRate=%{x}<br>AverageMortgageAmount=%{y}<br>PopulationSize=%{marker.size}<extra></extra>",
           "ids": [
            "Prince Edward Island"
           ],
           "legendgroup": "Prince Edward Island",
           "marker": {
            "color": "#EF553B",
            "size": [
             144283
            ],
            "sizemode": "area",
            "sizeref": 36835.035,
            "symbol": "circle"
           },
           "mode": "markers",
           "name": "Prince Edward Island",
           "orientation": "v",
           "showlegend": true,
           "type": "scatter",
           "x": [
            0.56
           ],
           "xaxis": "x",
           "y": [
            143320
           ],
           "yaxis": "y"
          },
          {
           "hovertemplate": "Geography=Nova Scotia<br>Time=2014Q3<br>DelinquencyRate=%{x}<br>AverageMortgageAmount=%{y}<br>PopulationSize=%{marker.size}<extra></extra>",
           "ids": [
            "Nova Scotia"
           ],
           "legendgroup": "Nova Scotia",
           "marker": {
            "color": "#00cc96",
            "size": [
             938545
            ],
            "sizemode": "area",
            "sizeref": 36835.035,
            "symbol": "circle"
           },
           "mode": "markers",
           "name": "Nova Scotia",
           "orientation": "v",
           "showlegend": true,
           "type": "scatter",
           "x": [
            0.67
           ],
           "xaxis": "x",
           "y": [
            172827
           ],
           "yaxis": "y"
          },
          {
           "hovertemplate": "Geography=New Brunswick<br>Time=2014Q3<br>DelinquencyRate=%{x}<br>AverageMortgageAmount=%{y}<br>PopulationSize=%{marker.size}<extra></extra>",
           "ids": [
            "New Brunswick"
           ],
           "legendgroup": "New Brunswick",
           "marker": {
            "color": "#ab63fa",
            "size": [
             758976
            ],
            "sizemode": "area",
            "sizeref": 36835.035,
            "symbol": "circle"
           },
           "mode": "markers",
           "name": "New Brunswick",
           "orientation": "v",
           "showlegend": true,
           "type": "scatter",
           "x": [
            0.72
           ],
           "xaxis": "x",
           "y": [
            135592
           ],
           "yaxis": "y"
          },
          {
           "hovertemplate": "Geography=Québec<br>Time=2014Q3<br>DelinquencyRate=%{x}<br>AverageMortgageAmount=%{y}<br>PopulationSize=%{marker.size}<extra></extra>",
           "ids": [
            "Québec"
           ],
           "legendgroup": "Québec",
           "marker": {
            "color": "#FFA15A",
            "size": [
             8150183
            ],
            "sizemode": "area",
            "sizeref": 36835.035,
            "symbol": "circle"
           },
           "mode": "markers",
           "name": "Québec",
           "orientation": "v",
           "showlegend": true,
           "type": "scatter",
           "x": [
            0.37
           ],
           "xaxis": "x",
           "y": [
            166426
           ],
           "yaxis": "y"
          },
          {
           "hovertemplate": "Geography=Ontario<br>Time=2014Q3<br>DelinquencyRate=%{x}<br>AverageMortgageAmount=%{y}<br>PopulationSize=%{marker.size}<extra></extra>",
           "ids": [
            "Ontario"
           ],
           "legendgroup": "Ontario",
           "marker": {
            "color": "#19d3f3",
            "size": [
             13617553
            ],
            "sizemode": "area",
            "sizeref": 36835.035,
            "symbol": "circle"
           },
           "mode": "markers",
           "name": "Ontario",
           "orientation": "v",
           "showlegend": true,
           "type": "scatter",
           "x": [
            0.27
           ],
           "xaxis": "x",
           "y": [
            262838
           ],
           "yaxis": "y"
          },
          {
           "hovertemplate": "Geography=Manitoba<br>Time=2014Q3<br>DelinquencyRate=%{x}<br>AverageMortgageAmount=%{y}<br>PopulationSize=%{marker.size}<extra></extra>",
           "ids": [
            "Manitoba"
           ],
           "legendgroup": "Manitoba",
           "marker": {
            "color": "#FF6692",
            "size": [
             1279014
            ],
            "sizemode": "area",
            "sizeref": 36835.035,
            "symbol": "circle"
           },
           "mode": "markers",
           "name": "Manitoba",
           "orientation": "v",
           "showlegend": true,
           "type": "scatter",
           "x": [
            0.24
           ],
           "xaxis": "x",
           "y": [
            200051
           ],
           "yaxis": "y"
          },
          {
           "hovertemplate": "Geography=Saskatchewan<br>Time=2014Q3<br>DelinquencyRate=%{x}<br>AverageMortgageAmount=%{y}<br>PopulationSize=%{marker.size}<extra></extra>",
           "ids": [
            "Saskatchewan"
           ],
           "legendgroup": "Saskatchewan",
           "marker": {
            "color": "#B6E880",
            "size": [
             1112979
            ],
            "sizemode": "area",
            "sizeref": 36835.035,
            "symbol": "circle"
           },
           "mode": "markers",
           "name": "Saskatchewan",
           "orientation": "v",
           "showlegend": true,
           "type": "scatter",
           "x": [
            0.32
           ],
           "xaxis": "x",
           "y": [
            231768
           ],
           "yaxis": "y"
          },
          {
           "hovertemplate": "Geography=Alberta<br>Time=2014Q3<br>DelinquencyRate=%{x}<br>AverageMortgageAmount=%{y}<br>PopulationSize=%{marker.size}<extra></extra>",
           "ids": [
            "Alberta"
           ],
           "legendgroup": "Alberta",
           "marker": {
            "color": "#FF97FF",
            "size": [
             4083648
            ],
            "sizemode": "area",
            "sizeref": 36835.035,
            "symbol": "circle"
           },
           "mode": "markers",
           "name": "Alberta",
           "orientation": "v",
           "showlegend": true,
           "type": "scatter",
           "x": [
            0.34
           ],
           "xaxis": "x",
           "y": [
            304374
           ],
           "yaxis": "y"
          },
          {
           "hovertemplate": "Geography=British Columbia<br>Time=2014Q3<br>DelinquencyRate=%{x}<br>AverageMortgageAmount=%{y}<br>PopulationSize=%{marker.size}<extra></extra>",
           "ids": [
            "British Columbia"
           ],
           "legendgroup": "British Columbia",
           "marker": {
            "color": "#FECB52",
            "size": [
             4707103
            ],
            "sizemode": "area",
            "sizeref": 36835.035,
            "symbol": "circle"
           },
           "mode": "markers",
           "name": "British Columbia",
           "orientation": "v",
           "showlegend": true,
           "type": "scatter",
           "x": [
            0.4
           ],
           "xaxis": "x",
           "y": [
            321625
           ],
           "yaxis": "y"
          }
         ],
         "name": "2014Q3"
        },
        {
         "data": [
          {
           "hovertemplate": "Geography=Newfoundland<br>Time=2014Q4<br>DelinquencyRate=%{x}<br>AverageMortgageAmount=%{y}<br>PopulationSize=%{marker.size}<extra></extra>",
           "ids": [
            "Newfoundland"
           ],
           "legendgroup": "Newfoundland",
           "marker": {
            "color": "#636efa",
            "size": [
             528461
            ],
            "sizemode": "area",
            "sizeref": 36835.035,
            "symbol": "circle"
           },
           "mode": "markers",
           "name": "Newfoundland",
           "orientation": "v",
           "showlegend": true,
           "type": "scatter",
           "x": [
            0.28
           ],
           "xaxis": "x",
           "y": [
            200310
           ],
           "yaxis": "y"
          },
          {
           "hovertemplate": "Geography=Prince Edward Island<br>Time=2014Q4<br>DelinquencyRate=%{x}<br>AverageMortgageAmount=%{y}<br>PopulationSize=%{marker.size}<extra></extra>",
           "ids": [
            "Prince Edward Island"
           ],
           "legendgroup": "Prince Edward Island",
           "marker": {
            "color": "#EF553B",
            "size": [
             144538
            ],
            "sizemode": "area",
            "sizeref": 36835.035,
            "symbol": "circle"
           },
           "mode": "markers",
           "name": "Prince Edward Island",
           "orientation": "v",
           "showlegend": true,
           "type": "scatter",
           "x": [
            0.57
           ],
           "xaxis": "x",
           "y": [
            141232
           ],
           "yaxis": "y"
          },
          {
           "hovertemplate": "Geography=Nova Scotia<br>Time=2014Q4<br>DelinquencyRate=%{x}<br>AverageMortgageAmount=%{y}<br>PopulationSize=%{marker.size}<extra></extra>",
           "ids": [
            "Nova Scotia"
           ],
           "legendgroup": "Nova Scotia",
           "marker": {
            "color": "#00cc96",
            "size": [
             938972
            ],
            "sizemode": "area",
            "sizeref": 36835.035,
            "symbol": "circle"
           },
           "mode": "markers",
           "name": "Nova Scotia",
           "orientation": "v",
           "showlegend": true,
           "type": "scatter",
           "x": [
            0.68
           ],
           "xaxis": "x",
           "y": [
            163584
           ],
           "yaxis": "y"
          },
          {
           "hovertemplate": "Geography=New Brunswick<br>Time=2014Q4<br>DelinquencyRate=%{x}<br>AverageMortgageAmount=%{y}<br>PopulationSize=%{marker.size}<extra></extra>",
           "ids": [
            "New Brunswick"
           ],
           "legendgroup": "New Brunswick",
           "marker": {
            "color": "#ab63fa",
            "size": [
             759524
            ],
            "sizemode": "area",
            "sizeref": 36835.035,
            "symbol": "circle"
           },
           "mode": "markers",
           "name": "New Brunswick",
           "orientation": "v",
           "showlegend": true,
           "type": "scatter",
           "x": [
            0.72
           ],
           "xaxis": "x",
           "y": [
            132766
           ],
           "yaxis": "y"
          },
          {
           "hovertemplate": "Geography=Québec<br>Time=2014Q4<br>DelinquencyRate=%{x}<br>AverageMortgageAmount=%{y}<br>PopulationSize=%{marker.size}<extra></extra>",
           "ids": [
            "Québec"
           ],
           "legendgroup": "Québec",
           "marker": {
            "color": "#FFA15A",
            "size": [
             8165447
            ],
            "sizemode": "area",
            "sizeref": 36835.035,
            "symbol": "circle"
           },
           "mode": "markers",
           "name": "Québec",
           "orientation": "v",
           "showlegend": true,
           "type": "scatter",
           "x": [
            0.39
           ],
           "xaxis": "x",
           "y": [
            160073
           ],
           "yaxis": "y"
          },
          {
           "hovertemplate": "Geography=Ontario<br>Time=2014Q4<br>DelinquencyRate=%{x}<br>AverageMortgageAmount=%{y}<br>PopulationSize=%{marker.size}<extra></extra>",
           "ids": [
            "Ontario"
           ],
           "legendgroup": "Ontario",
           "marker": {
            "color": "#19d3f3",
            "size": [
             13661314
            ],
            "sizemode": "area",
            "sizeref": 36835.035,
            "symbol": "circle"
           },
           "mode": "markers",
           "name": "Ontario",
           "orientation": "v",
           "showlegend": true,
           "type": "scatter",
           "x": [
            0.26
           ],
           "xaxis": "x",
           "y": [
            257244
           ],
           "yaxis": "y"
          },
          {
           "hovertemplate": "Geography=Manitoba<br>Time=2014Q4<br>DelinquencyRate=%{x}<br>AverageMortgageAmount=%{y}<br>PopulationSize=%{marker.size}<extra></extra>",
           "ids": [
            "Manitoba"
           ],
           "legendgroup": "Manitoba",
           "marker": {
            "color": "#FF6692",
            "size": [
             1283366
            ],
            "sizemode": "area",
            "sizeref": 36835.035,
            "symbol": "circle"
           },
           "mode": "markers",
           "name": "Manitoba",
           "orientation": "v",
           "showlegend": true,
           "type": "scatter",
           "x": [
            0.27
           ],
           "xaxis": "x",
           "y": [
            197527
           ],
           "yaxis": "y"
          },
          {
           "hovertemplate": "Geography=Saskatchewan<br>Time=2014Q4<br>DelinquencyRate=%{x}<br>AverageMortgageAmount=%{y}<br>PopulationSize=%{marker.size}<extra></extra>",
           "ids": [
            "Saskatchewan"
           ],
           "legendgroup": "Saskatchewan",
           "marker": {
            "color": "#B6E880",
            "size": [
             1116203
            ],
            "sizemode": "area",
            "sizeref": 36835.035,
            "symbol": "circle"
           },
           "mode": "markers",
           "name": "Saskatchewan",
           "orientation": "v",
           "showlegend": true,
           "type": "scatter",
           "x": [
            0.36
           ],
           "xaxis": "x",
           "y": [
            233854
           ],
           "yaxis": "y"
          },
          {
           "hovertemplate": "Geography=Alberta<br>Time=2014Q4<br>DelinquencyRate=%{x}<br>AverageMortgageAmount=%{y}<br>PopulationSize=%{marker.size}<extra></extra>",
           "ids": [
            "Alberta"
           ],
           "legendgroup": "Alberta",
           "marker": {
            "color": "#FF97FF",
            "size": [
             4106056
            ],
            "sizemode": "area",
            "sizeref": 36835.035,
            "symbol": "circle"
           },
           "mode": "markers",
           "name": "Alberta",
           "orientation": "v",
           "showlegend": true,
           "type": "scatter",
           "x": [
            0.32
           ],
           "xaxis": "x",
           "y": [
            305558
           ],
           "yaxis": "y"
          },
          {
           "hovertemplate": "Geography=British Columbia<br>Time=2014Q4<br>DelinquencyRate=%{x}<br>AverageMortgageAmount=%{y}<br>PopulationSize=%{marker.size}<extra></extra>",
           "ids": [
            "British Columbia"
           ],
           "legendgroup": "British Columbia",
           "marker": {
            "color": "#FECB52",
            "size": [
             4737725
            ],
            "sizemode": "area",
            "sizeref": 36835.035,
            "symbol": "circle"
           },
           "mode": "markers",
           "name": "British Columbia",
           "orientation": "v",
           "showlegend": true,
           "type": "scatter",
           "x": [
            0.4
           ],
           "xaxis": "x",
           "y": [
            323373
           ],
           "yaxis": "y"
          }
         ],
         "name": "2014Q4"
        },
        {
         "data": [
          {
           "hovertemplate": "Geography=Newfoundland<br>Time=2015Q1<br>DelinquencyRate=%{x}<br>AverageMortgageAmount=%{y}<br>PopulationSize=%{marker.size}<extra></extra>",
           "ids": [
            "Newfoundland"
           ],
           "legendgroup": "Newfoundland",
           "marker": {
            "color": "#636efa",
            "size": [
             528361
            ],
            "sizemode": "area",
            "sizeref": 36835.035,
            "symbol": "circle"
           },
           "mode": "markers",
           "name": "Newfoundland",
           "orientation": "v",
           "showlegend": true,
           "type": "scatter",
           "x": [
            0.37
           ],
           "xaxis": "x",
           "y": [
            197406
           ],
           "yaxis": "y"
          },
          {
           "hovertemplate": "Geography=Prince Edward Island<br>Time=2015Q1<br>DelinquencyRate=%{x}<br>AverageMortgageAmount=%{y}<br>PopulationSize=%{marker.size}<extra></extra>",
           "ids": [
            "Prince Edward Island"
           ],
           "legendgroup": "Prince Edward Island",
           "marker": {
            "color": "#EF553B",
            "size": [
             144368
            ],
            "sizemode": "area",
            "sizeref": 36835.035,
            "symbol": "circle"
           },
           "mode": "markers",
           "name": "Prince Edward Island",
           "orientation": "v",
           "showlegend": true,
           "type": "scatter",
           "x": [
            0.68
           ],
           "xaxis": "x",
           "y": [
            146885
           ],
           "yaxis": "y"
          },
          {
           "hovertemplate": "Geography=Nova Scotia<br>Time=2015Q1<br>DelinquencyRate=%{x}<br>AverageMortgageAmount=%{y}<br>PopulationSize=%{marker.size}<extra></extra>",
           "ids": [
            "Nova Scotia"
           ],
           "legendgroup": "Nova Scotia",
           "marker": {
            "color": "#00cc96",
            "size": [
             938296
            ],
            "sizemode": "area",
            "sizeref": 36835.035,
            "symbol": "circle"
           },
           "mode": "markers",
           "name": "Nova Scotia",
           "orientation": "v",
           "showlegend": true,
           "type": "scatter",
           "x": [
            0.7
           ],
           "xaxis": "x",
           "y": [
            163607
           ],
           "yaxis": "y"
          },
          {
           "hovertemplate": "Geography=New Brunswick<br>Time=2015Q1<br>DelinquencyRate=%{x}<br>AverageMortgageAmount=%{y}<br>PopulationSize=%{marker.size}<extra></extra>",
           "ids": [
            "New Brunswick"
           ],
           "legendgroup": "New Brunswick",
           "marker": {
            "color": "#ab63fa",
            "size": [
             759617
            ],
            "sizemode": "area",
            "sizeref": 36835.035,
            "symbol": "circle"
           },
           "mode": "markers",
           "name": "New Brunswick",
           "orientation": "v",
           "showlegend": true,
           "type": "scatter",
           "x": [
            0.79
           ],
           "xaxis": "x",
           "y": [
            132025
           ],
           "yaxis": "y"
          },
          {
           "hovertemplate": "Geography=Québec<br>Time=2015Q1<br>DelinquencyRate=%{x}<br>AverageMortgageAmount=%{y}<br>PopulationSize=%{marker.size}<extra></extra>",
           "ids": [
            "Québec"
           ],
           "legendgroup": "Québec",
           "marker": {
            "color": "#FFA15A",
            "size": [
             8163132
            ],
            "sizemode": "area",
            "sizeref": 36835.035,
            "symbol": "circle"
           },
           "mode": "markers",
           "name": "Québec",
           "orientation": "v",
           "showlegend": true,
           "type": "scatter",
           "x": [
            0.42
           ],
           "xaxis": "x",
           "y": [
            161563
           ],
           "yaxis": "y"
          },
          {
           "hovertemplate": "Geography=Ontario<br>Time=2015Q1<br>DelinquencyRate=%{x}<br>AverageMortgageAmount=%{y}<br>PopulationSize=%{marker.size}<extra></extra>",
           "ids": [
            "Ontario"
           ],
           "legendgroup": "Ontario",
           "marker": {
            "color": "#19d3f3",
            "size": [
             13657737
            ],
            "sizemode": "area",
            "sizeref": 36835.035,
            "symbol": "circle"
           },
           "mode": "markers",
           "name": "Ontario",
           "orientation": "v",
           "showlegend": true,
           "type": "scatter",
           "x": [
            0.27
           ],
           "xaxis": "x",
           "y": [
            254854
           ],
           "yaxis": "y"
          },
          {
           "hovertemplate": "Geography=Manitoba<br>Time=2015Q1<br>DelinquencyRate=%{x}<br>AverageMortgageAmount=%{y}<br>PopulationSize=%{marker.size}<extra></extra>",
           "ids": [
            "Manitoba"
           ],
           "legendgroup": "Manitoba",
           "marker": {
            "color": "#FF6692",
            "size": [
             1286453
            ],
            "sizemode": "area",
            "sizeref": 36835.035,
            "symbol": "circle"
           },
           "mode": "markers",
           "name": "Manitoba",
           "orientation": "v",
           "showlegend": true,
           "type": "scatter",
           "x": [
            0.31
           ],
           "xaxis": "x",
           "y": [
            191444
           ],
           "yaxis": "y"
          },
          {
           "hovertemplate": "Geography=Saskatchewan<br>Time=2015Q1<br>DelinquencyRate=%{x}<br>AverageMortgageAmount=%{y}<br>PopulationSize=%{marker.size}<extra></extra>",
           "ids": [
            "Saskatchewan"
           ],
           "legendgroup": "Saskatchewan",
           "marker": {
            "color": "#B6E880",
            "size": [
             1118181
            ],
            "sizemode": "area",
            "sizeref": 36835.035,
            "symbol": "circle"
           },
           "mode": "markers",
           "name": "Saskatchewan",
           "orientation": "v",
           "showlegend": true,
           "type": "scatter",
           "x": [
            0.41
           ],
           "xaxis": "x",
           "y": [
            228569
           ],
           "yaxis": "y"
          },
          {
           "hovertemplate": "Geography=Alberta<br>Time=2015Q1<br>DelinquencyRate=%{x}<br>AverageMortgageAmount=%{y}<br>PopulationSize=%{marker.size}<extra></extra>",
           "ids": [
            "Alberta"
           ],
           "legendgroup": "Alberta",
           "marker": {
            "color": "#FF97FF",
            "size": [
             4116047
            ],
            "sizemode": "area",
            "sizeref": 36835.035,
            "symbol": "circle"
           },
           "mode": "markers",
           "name": "Alberta",
           "orientation": "v",
           "showlegend": true,
           "type": "scatter",
           "x": [
            0.32
           ],
           "xaxis": "x",
           "y": [
            303976
           ],
           "yaxis": "y"
          },
          {
           "hovertemplate": "Geography=British Columbia<br>Time=2015Q1<br>DelinquencyRate=%{x}<br>AverageMortgageAmount=%{y}<br>PopulationSize=%{marker.size}<extra></extra>",
           "ids": [
            "British Columbia"
           ],
           "legendgroup": "British Columbia",
           "marker": {
            "color": "#FECB52",
            "size": [
             4745468
            ],
            "sizemode": "area",
            "sizeref": 36835.035,
            "symbol": "circle"
           },
           "mode": "markers",
           "name": "British Columbia",
           "orientation": "v",
           "showlegend": true,
           "type": "scatter",
           "x": [
            0.4
           ],
           "xaxis": "x",
           "y": [
            325035
           ],
           "yaxis": "y"
          }
         ],
         "name": "2015Q1"
        },
        {
         "data": [
          {
           "hovertemplate": "Geography=Newfoundland<br>Time=2015Q2<br>DelinquencyRate=%{x}<br>AverageMortgageAmount=%{y}<br>PopulationSize=%{marker.size}<extra></extra>",
           "ids": [
            "Newfoundland"
           ],
           "legendgroup": "Newfoundland",
           "marker": {
            "color": "#636efa",
            "size": [
             528063
            ],
            "sizemode": "area",
            "sizeref": 36835.035,
            "symbol": "circle"
           },
           "mode": "markers",
           "name": "Newfoundland",
           "orientation": "v",
           "showlegend": true,
           "type": "scatter",
           "x": [
            0.37
           ],
           "xaxis": "x",
           "y": [
            193956
           ],
           "yaxis": "y"
          },
          {
           "hovertemplate": "Geography=Prince Edward Island<br>Time=2015Q2<br>DelinquencyRate=%{x}<br>AverageMortgageAmount=%{y}<br>PopulationSize=%{marker.size}<extra></extra>",
           "ids": [
            "Prince Edward Island"
           ],
           "legendgroup": "Prince Edward Island",
           "marker": {
            "color": "#EF553B",
            "size": [
             144259
            ],
            "sizemode": "area",
            "sizeref": 36835.035,
            "symbol": "circle"
           },
           "mode": "markers",
           "name": "Prince Edward Island",
           "orientation": "v",
           "showlegend": true,
           "type": "scatter",
           "x": [
            0.62
           ],
           "xaxis": "x",
           "y": [
            146818
           ],
           "yaxis": "y"
          },
          {
           "hovertemplate": "Geography=Nova Scotia<br>Time=2015Q2<br>DelinquencyRate=%{x}<br>AverageMortgageAmount=%{y}<br>PopulationSize=%{marker.size}<extra></extra>",
           "ids": [
            "Nova Scotia"
           ],
           "legendgroup": "Nova Scotia",
           "marker": {
            "color": "#00cc96",
            "size": [
             936271
            ],
            "sizemode": "area",
            "sizeref": 36835.035,
            "symbol": "circle"
           },
           "mode": "markers",
           "name": "Nova Scotia",
           "orientation": "v",
           "showlegend": true,
           "type": "scatter",
           "x": [
            0.67
           ],
           "xaxis": "x",
           "y": [
            165288
           ],
           "yaxis": "y"
          },
          {
           "hovertemplate": "Geography=New Brunswick<br>Time=2015Q2<br>DelinquencyRate=%{x}<br>AverageMortgageAmount=%{y}<br>PopulationSize=%{marker.size}<extra></extra>",
           "ids": [
            "New Brunswick"
           ],
           "legendgroup": "New Brunswick",
           "marker": {
            "color": "#ab63fa",
            "size": [
             758948
            ],
            "sizemode": "area",
            "sizeref": 36835.035,
            "symbol": "circle"
           },
           "mode": "markers",
           "name": "New Brunswick",
           "orientation": "v",
           "showlegend": true,
           "type": "scatter",
           "x": [
            0.8
           ],
           "xaxis": "x",
           "y": [
            128378
           ],
           "yaxis": "y"
          },
          {
           "hovertemplate": "Geography=Québec<br>Time=2015Q2<br>DelinquencyRate=%{x}<br>AverageMortgageAmount=%{y}<br>PopulationSize=%{marker.size}<extra></extra>",
           "ids": [
            "Québec"
           ],
           "legendgroup": "Québec",
           "marker": {
            "color": "#FFA15A",
            "size": [
             8163063
            ],
            "sizemode": "area",
            "sizeref": 36835.035,
            "symbol": "circle"
           },
           "mode": "markers",
           "name": "Québec",
           "orientation": "v",
           "showlegend": true,
           "type": "scatter",
           "x": [
            0.41
           ],
           "xaxis": "x",
           "y": [
            164764
           ],
           "yaxis": "y"
          },
          {
           "hovertemplate": "Geography=Ontario<br>Time=2015Q2<br>DelinquencyRate=%{x}<br>AverageMortgageAmount=%{y}<br>PopulationSize=%{marker.size}<extra></extra>",
           "ids": [
            "Ontario"
           ],
           "legendgroup": "Ontario",
           "marker": {
            "color": "#19d3f3",
            "size": [
             13669860
            ],
            "sizemode": "area",
            "sizeref": 36835.035,
            "symbol": "circle"
           },
           "mode": "markers",
           "name": "Ontario",
           "orientation": "v",
           "showlegend": true,
           "type": "scatter",
           "x": [
            0.25
           ],
           "xaxis": "x",
           "y": [
            259093
           ],
           "yaxis": "y"
          },
          {
           "hovertemplate": "Geography=Manitoba<br>Time=2015Q2<br>DelinquencyRate=%{x}<br>AverageMortgageAmount=%{y}<br>PopulationSize=%{marker.size}<extra></extra>",
           "ids": [
            "Manitoba"
           ],
           "legendgroup": "Manitoba",
           "marker": {
            "color": "#FF6692",
            "size": [
             1288094
            ],
            "sizemode": "area",
            "sizeref": 36835.035,
            "symbol": "circle"
           },
           "mode": "markers",
           "name": "Manitoba",
           "orientation": "v",
           "showlegend": true,
           "type": "scatter",
           "x": [
            0.3
           ],
           "xaxis": "x",
           "y": [
            190383
           ],
           "yaxis": "y"
          },
          {
           "hovertemplate": "Geography=Saskatchewan<br>Time=2015Q2<br>DelinquencyRate=%{x}<br>AverageMortgageAmount=%{y}<br>PopulationSize=%{marker.size}<extra></extra>",
           "ids": [
            "Saskatchewan"
           ],
           "legendgroup": "Saskatchewan",
           "marker": {
            "color": "#B6E880",
            "size": [
             1118806
            ],
            "sizemode": "area",
            "sizeref": 36835.035,
            "symbol": "circle"
           },
           "mode": "markers",
           "name": "Saskatchewan",
           "orientation": "v",
           "showlegend": true,
           "type": "scatter",
           "x": [
            0.43
           ],
           "xaxis": "x",
           "y": [
            226957
           ],
           "yaxis": "y"
          },
          {
           "hovertemplate": "Geography=Alberta<br>Time=2015Q2<br>DelinquencyRate=%{x}<br>AverageMortgageAmount=%{y}<br>PopulationSize=%{marker.size}<extra></extra>",
           "ids": [
            "Alberta"
           ],
           "legendgroup": "Alberta",
           "marker": {
            "color": "#FF97FF",
            "size": [
             4128300
            ],
            "sizemode": "area",
            "sizeref": 36835.035,
            "symbol": "circle"
           },
           "mode": "markers",
           "name": "Alberta",
           "orientation": "v",
           "showlegend": true,
           "type": "scatter",
           "x": [
            0.33
           ],
           "xaxis": "x",
           "y": [
            299837
           ],
           "yaxis": "y"
          },
          {
           "hovertemplate": "Geography=British Columbia<br>Time=2015Q2<br>DelinquencyRate=%{x}<br>AverageMortgageAmount=%{y}<br>PopulationSize=%{marker.size}<extra></extra>",
           "ids": [
            "British Columbia"
           ],
           "legendgroup": "British Columbia",
           "marker": {
            "color": "#FECB52",
            "size": [
             4757759
            ],
            "sizemode": "area",
            "sizeref": 36835.035,
            "symbol": "circle"
           },
           "mode": "markers",
           "name": "British Columbia",
           "orientation": "v",
           "showlegend": true,
           "type": "scatter",
           "x": [
            0.38
           ],
           "xaxis": "x",
           "y": [
            328540
           ],
           "yaxis": "y"
          }
         ],
         "name": "2015Q2"
        },
        {
         "data": [
          {
           "hovertemplate": "Geography=Newfoundland<br>Time=2015Q3<br>DelinquencyRate=%{x}<br>AverageMortgageAmount=%{y}<br>PopulationSize=%{marker.size}<extra></extra>",
           "ids": [
            "Newfoundland"
           ],
           "legendgroup": "Newfoundland",
           "marker": {
            "color": "#636efa",
            "size": [
             528117
            ],
            "sizemode": "area",
            "sizeref": 36835.035,
            "symbol": "circle"
           },
           "mode": "markers",
           "name": "Newfoundland",
           "orientation": "v",
           "showlegend": true,
           "type": "scatter",
           "x": [
            0.37
           ],
           "xaxis": "x",
           "y": [
            199758
           ],
           "yaxis": "y"
          },
          {
           "hovertemplate": "Geography=Prince Edward Island<br>Time=2015Q3<br>DelinquencyRate=%{x}<br>AverageMortgageAmount=%{y}<br>PopulationSize=%{marker.size}<extra></extra>",
           "ids": [
            "Prince Edward Island"
           ],
           "legendgroup": "Prince Edward Island",
           "marker": {
            "color": "#EF553B",
            "size": [
             144546
            ],
            "sizemode": "area",
            "sizeref": 36835.035,
            "symbol": "circle"
           },
           "mode": "markers",
           "name": "Prince Edward Island",
           "orientation": "v",
           "showlegend": true,
           "type": "scatter",
           "x": [
            0.63
           ],
           "xaxis": "x",
           "y": [
            150403
           ],
           "yaxis": "y"
          },
          {
           "hovertemplate": "Geography=Nova Scotia<br>Time=2015Q3<br>DelinquencyRate=%{x}<br>AverageMortgageAmount=%{y}<br>PopulationSize=%{marker.size}<extra></extra>",
           "ids": [
            "Nova Scotia"
           ],
           "legendgroup": "Nova Scotia",
           "marker": {
            "color": "#00cc96",
            "size": [
             936525
            ],
            "sizemode": "area",
            "sizeref": 36835.035,
            "symbol": "circle"
           },
           "mode": "markers",
           "name": "Nova Scotia",
           "orientation": "v",
           "showlegend": true,
           "type": "scatter",
           "x": [
            0.66
           ],
           "xaxis": "x",
           "y": [
            178091
           ],
           "yaxis": "y"
          },
          {
           "hovertemplate": "Geography=New Brunswick<br>Time=2015Q3<br>DelinquencyRate=%{x}<br>AverageMortgageAmount=%{y}<br>PopulationSize=%{marker.size}<extra></extra>",
           "ids": [
            "New Brunswick"
           ],
           "legendgroup": "New Brunswick",
           "marker": {
            "color": "#ab63fa",
            "size": [
             758842
            ],
            "sizemode": "area",
            "sizeref": 36835.035,
            "symbol": "circle"
           },
           "mode": "markers",
           "name": "New Brunswick",
           "orientation": "v",
           "showlegend": true,
           "type": "scatter",
           "x": [
            0.81
           ],
           "xaxis": "x",
           "y": [
            137565
           ],
           "yaxis": "y"
          },
          {
           "hovertemplate": "Geography=Québec<br>Time=2015Q3<br>DelinquencyRate=%{x}<br>AverageMortgageAmount=%{y}<br>PopulationSize=%{marker.size}<extra></extra>",
           "ids": [
            "Québec"
           ],
           "legendgroup": "Québec",
           "marker": {
            "color": "#FFA15A",
            "size": [
             8175272
            ],
            "sizemode": "area",
            "sizeref": 36835.035,
            "symbol": "circle"
           },
           "mode": "markers",
           "name": "Québec",
           "orientation": "v",
           "showlegend": true,
           "type": "scatter",
           "x": [
            0.41
           ],
           "xaxis": "x",
           "y": [
            170403
           ],
           "yaxis": "y"
          },
          {
           "hovertemplate": "Geography=Ontario<br>Time=2015Q3<br>DelinquencyRate=%{x}<br>AverageMortgageAmount=%{y}<br>PopulationSize=%{marker.size}<extra></extra>",
           "ids": [
            "Ontario"
           ],
           "legendgroup": "Ontario",
           "marker": {
            "color": "#19d3f3",
            "size": [
             13707118
            ],
            "sizemode": "area",
            "sizeref": 36835.035,
            "symbol": "circle"
           },
           "mode": "markers",
           "name": "Ontario",
           "orientation": "v",
           "showlegend": true,
           "type": "scatter",
           "x": [
            0.24
           ],
           "xaxis": "x",
           "y": [
            281259
           ],
           "yaxis": "y"
          },
          {
           "hovertemplate": "Geography=Manitoba<br>Time=2015Q3<br>DelinquencyRate=%{x}<br>AverageMortgageAmount=%{y}<br>PopulationSize=%{marker.size}<extra></extra>",
           "ids": [
            "Manitoba"
           ],
           "legendgroup": "Manitoba",
           "marker": {
            "color": "#FF6692",
            "size": [
             1292227
            ],
            "sizemode": "area",
            "sizeref": 36835.035,
            "symbol": "circle"
           },
           "mode": "markers",
           "name": "Manitoba",
           "orientation": "v",
           "showlegend": true,
           "type": "scatter",
           "x": [
            0.29
           ],
           "xaxis": "x",
           "y": [
            206275
           ],
           "yaxis": "y"
          },
          {
           "hovertemplate": "Geography=Saskatchewan<br>Time=2015Q3<br>DelinquencyRate=%{x}<br>AverageMortgageAmount=%{y}<br>PopulationSize=%{marker.size}<extra></extra>",
           "ids": [
            "Saskatchewan"
           ],
           "legendgroup": "Saskatchewan",
           "marker": {
            "color": "#B6E880",
            "size": [
             1120967
            ],
            "sizemode": "area",
            "sizeref": 36835.035,
            "symbol": "circle"
           },
           "mode": "markers",
           "name": "Saskatchewan",
           "orientation": "v",
           "showlegend": true,
           "type": "scatter",
           "x": [
            0.45
           ],
           "xaxis": "x",
           "y": [
            234840
           ],
           "yaxis": "y"
          },
          {
           "hovertemplate": "Geography=Alberta<br>Time=2015Q3<br>DelinquencyRate=%{x}<br>AverageMortgageAmount=%{y}<br>PopulationSize=%{marker.size}<extra></extra>",
           "ids": [
            "Alberta"
           ],
           "legendgroup": "Alberta",
           "marker": {
            "color": "#FF97FF",
            "size": [
             4144491
            ],
            "sizemode": "area",
            "sizeref": 36835.035,
            "symbol": "circle"
           },
           "mode": "markers",
           "name": "Alberta",
           "orientation": "v",
           "showlegend": true,
           "type": "scatter",
           "x": [
            0.35
           ],
           "xaxis": "x",
           "y": [
            309953
           ],
           "yaxis": "y"
          },
          {
           "hovertemplate": "Geography=British Columbia<br>Time=2015Q3<br>DelinquencyRate=%{x}<br>AverageMortgageAmount=%{y}<br>PopulationSize=%{marker.size}<extra></extra>",
           "ids": [
            "British Columbia"
           ],
           "legendgroup": "British Columbia",
           "marker": {
            "color": "#FECB52",
            "size": [
             4776388
            ],
            "sizemode": "area",
            "sizeref": 36835.035,
            "symbol": "circle"
           },
           "mode": "markers",
           "name": "British Columbia",
           "orientation": "v",
           "showlegend": true,
           "type": "scatter",
           "x": [
            0.34
           ],
           "xaxis": "x",
           "y": [
            350672
           ],
           "yaxis": "y"
          }
         ],
         "name": "2015Q3"
        },
        {
         "data": [
          {
           "hovertemplate": "Geography=Newfoundland<br>Time=2015Q4<br>DelinquencyRate=%{x}<br>AverageMortgageAmount=%{y}<br>PopulationSize=%{marker.size}<extra></extra>",
           "ids": [
            "Newfoundland"
           ],
           "legendgroup": "Newfoundland",
           "marker": {
            "color": "#636efa",
            "size": [
             528696
            ],
            "sizemode": "area",
            "sizeref": 36835.035,
            "symbol": "circle"
           },
           "mode": "markers",
           "name": "Newfoundland",
           "orientation": "v",
           "showlegend": true,
           "type": "scatter",
           "x": [
            0.41
           ],
           "xaxis": "x",
           "y": [
            202487
           ],
           "yaxis": "y"
          },
          {
           "hovertemplate": "Geography=Prince Edward Island<br>Time=2015Q4<br>DelinquencyRate=%{x}<br>AverageMortgageAmount=%{y}<br>PopulationSize=%{marker.size}<extra></extra>",
           "ids": [
            "Prince Edward Island"
           ],
           "legendgroup": "Prince Edward Island",
           "marker": {
            "color": "#EF553B",
            "size": [
             144894
            ],
            "sizemode": "area",
            "sizeref": 36835.035,
            "symbol": "circle"
           },
           "mode": "markers",
           "name": "Prince Edward Island",
           "orientation": "v",
           "showlegend": true,
           "type": "scatter",
           "x": [
            0.67
           ],
           "xaxis": "x",
           "y": [
            155926
           ],
           "yaxis": "y"
          },
          {
           "hovertemplate": "Geography=Nova Scotia<br>Time=2015Q4<br>DelinquencyRate=%{x}<br>AverageMortgageAmount=%{y}<br>PopulationSize=%{marker.size}<extra></extra>",
           "ids": [
            "Nova Scotia"
           ],
           "legendgroup": "Nova Scotia",
           "marker": {
            "color": "#00cc96",
            "size": [
             938320
            ],
            "sizemode": "area",
            "sizeref": 36835.035,
            "symbol": "circle"
           },
           "mode": "markers",
           "name": "Nova Scotia",
           "orientation": "v",
           "showlegend": true,
           "type": "scatter",
           "x": [
            0.68
           ],
           "xaxis": "x",
           "y": [
            172863
           ],
           "yaxis": "y"
          },
          {
           "hovertemplate": "Geography=New Brunswick<br>Time=2015Q4<br>DelinquencyRate=%{x}<br>AverageMortgageAmount=%{y}<br>PopulationSize=%{marker.size}<extra></extra>",
           "ids": [
            "New Brunswick"
           ],
           "legendgroup": "New Brunswick",
           "marker": {
            "color": "#ab63fa",
            "size": [
             759778
            ],
            "sizemode": "area",
            "sizeref": 36835.035,
            "symbol": "circle"
           },
           "mode": "markers",
           "name": "New Brunswick",
           "orientation": "v",
           "showlegend": true,
           "type": "scatter",
           "x": [
            0.79
           ],
           "xaxis": "x",
           "y": [
            137039
           ],
           "yaxis": "y"
          },
          {
           "hovertemplate": "Geography=Québec<br>Time=2015Q4<br>DelinquencyRate=%{x}<br>AverageMortgageAmount=%{y}<br>PopulationSize=%{marker.size}<extra></extra>",
           "ids": [
            "Québec"
           ],
           "legendgroup": "Québec",
           "marker": {
            "color": "#FFA15A",
            "size": [
             8190014
            ],
            "sizemode": "area",
            "sizeref": 36835.035,
            "symbol": "circle"
           },
           "mode": "markers",
           "name": "Québec",
           "orientation": "v",
           "showlegend": true,
           "type": "scatter",
           "x": [
            0.42
           ],
           "xaxis": "x",
           "y": [
            164235
           ],
           "yaxis": "y"
          },
          {
           "hovertemplate": "Geography=Ontario<br>Time=2015Q4<br>DelinquencyRate=%{x}<br>AverageMortgageAmount=%{y}<br>PopulationSize=%{marker.size}<extra></extra>",
           "ids": [
            "Ontario"
           ],
           "legendgroup": "Ontario",
           "marker": {
            "color": "#19d3f3",
            "size": [
             13757688
            ],
            "sizemode": "area",
            "sizeref": 36835.035,
            "symbol": "circle"
           },
           "mode": "markers",
           "name": "Ontario",
           "orientation": "v",
           "showlegend": true,
           "type": "scatter",
           "x": [
            0.23
           ],
           "xaxis": "x",
           "y": [
            277802
           ],
           "yaxis": "y"
          },
          {
           "hovertemplate": "Geography=Manitoba<br>Time=2015Q4<br>DelinquencyRate=%{x}<br>AverageMortgageAmount=%{y}<br>PopulationSize=%{marker.size}<extra></extra>",
           "ids": [
            "Manitoba"
           ],
           "legendgroup": "Manitoba",
           "marker": {
            "color": "#FF6692",
            "size": [
             1297329
            ],
            "sizemode": "area",
            "sizeref": 36835.035,
            "symbol": "circle"
           },
           "mode": "markers",
           "name": "Manitoba",
           "orientation": "v",
           "showlegend": true,
           "type": "scatter",
           "x": [
            0.33
           ],
           "xaxis": "x",
           "y": [
            201640
           ],
           "yaxis": "y"
          },
          {
           "hovertemplate": "Geography=Saskatchewan<br>Time=2015Q4<br>DelinquencyRate=%{x}<br>AverageMortgageAmount=%{y}<br>PopulationSize=%{marker.size}<extra></extra>",
           "ids": [
            "Saskatchewan"
           ],
           "legendgroup": "Saskatchewan",
           "marker": {
            "color": "#B6E880",
            "size": [
             1124919
            ],
            "sizemode": "area",
            "sizeref": 36835.035,
            "symbol": "circle"
           },
           "mode": "markers",
           "name": "Saskatchewan",
           "orientation": "v",
           "showlegend": true,
           "type": "scatter",
           "x": [
            0.49
           ],
           "xaxis": "x",
           "y": [
            231611
           ],
           "yaxis": "y"
          },
          {
           "hovertemplate": "Geography=Alberta<br>Time=2015Q4<br>DelinquencyRate=%{x}<br>AverageMortgageAmount=%{y}<br>PopulationSize=%{marker.size}<extra></extra>",
           "ids": [
            "Alberta"
           ],
           "legendgroup": "Alberta",
           "marker": {
            "color": "#FF97FF",
            "size": [
             4159519
            ],
            "sizemode": "area",
            "sizeref": 36835.035,
            "symbol": "circle"
           },
           "mode": "markers",
           "name": "Alberta",
           "orientation": "v",
           "showlegend": true,
           "type": "scatter",
           "x": [
            0.36
           ],
           "xaxis": "x",
           "y": [
            303244
           ],
           "yaxis": "y"
          },
          {
           "hovertemplate": "Geography=British Columbia<br>Time=2015Q4<br>DelinquencyRate=%{x}<br>AverageMortgageAmount=%{y}<br>PopulationSize=%{marker.size}<extra></extra>",
           "ids": [
            "British Columbia"
           ],
           "legendgroup": "British Columbia",
           "marker": {
            "color": "#FECB52",
            "size": [
             4802955
            ],
            "sizemode": "area",
            "sizeref": 36835.035,
            "symbol": "circle"
           },
           "mode": "markers",
           "name": "British Columbia",
           "orientation": "v",
           "showlegend": true,
           "type": "scatter",
           "x": [
            0.32
           ],
           "xaxis": "x",
           "y": [
            357016
           ],
           "yaxis": "y"
          }
         ],
         "name": "2015Q4"
        },
        {
         "data": [
          {
           "hovertemplate": "Geography=Newfoundland<br>Time=2016Q1<br>DelinquencyRate=%{x}<br>AverageMortgageAmount=%{y}<br>PopulationSize=%{marker.size}<extra></extra>",
           "ids": [
            "Newfoundland"
           ],
           "legendgroup": "Newfoundland",
           "marker": {
            "color": "#636efa",
            "size": [
             528800
            ],
            "sizemode": "area",
            "sizeref": 36835.035,
            "symbol": "circle"
           },
           "mode": "markers",
           "name": "Newfoundland",
           "orientation": "v",
           "showlegend": true,
           "type": "scatter",
           "x": [
            0.45
           ],
           "xaxis": "x",
           "y": [
            196798
           ],
           "yaxis": "y"
          },
          {
           "hovertemplate": "Geography=Prince Edward Island<br>Time=2016Q1<br>DelinquencyRate=%{x}<br>AverageMortgageAmount=%{y}<br>PopulationSize=%{marker.size}<extra></extra>",
           "ids": [
            "Prince Edward Island"
           ],
           "legendgroup": "Prince Edward Island",
           "marker": {
            "color": "#EF553B",
            "size": [
             145202
            ],
            "sizemode": "area",
            "sizeref": 36835.035,
            "symbol": "circle"
           },
           "mode": "markers",
           "name": "Prince Edward Island",
           "orientation": "v",
           "showlegend": true,
           "type": "scatter",
           "x": [
            0.7
           ],
           "xaxis": "x",
           "y": [
            157322
           ],
           "yaxis": "y"
          },
          {
           "hovertemplate": "Geography=Nova Scotia<br>Time=2016Q1<br>DelinquencyRate=%{x}<br>AverageMortgageAmount=%{y}<br>PopulationSize=%{marker.size}<extra></extra>",
           "ids": [
            "Nova Scotia"
           ],
           "legendgroup": "Nova Scotia",
           "marker": {
            "color": "#00cc96",
            "size": [
             938690
            ],
            "sizemode": "area",
            "sizeref": 36835.035,
            "symbol": "circle"
           },
           "mode": "markers",
           "name": "Nova Scotia",
           "orientation": "v",
           "showlegend": true,
           "type": "scatter",
           "x": [
            0.7
           ],
           "xaxis": "x",
           "y": [
            167596
           ],
           "yaxis": "y"
          },
          {
           "hovertemplate": "Geography=New Brunswick<br>Time=2016Q1<br>DelinquencyRate=%{x}<br>AverageMortgageAmount=%{y}<br>PopulationSize=%{marker.size}<extra></extra>",
           "ids": [
            "New Brunswick"
           ],
           "legendgroup": "New Brunswick",
           "marker": {
            "color": "#ab63fa",
            "size": [
             760580
            ],
            "sizemode": "area",
            "sizeref": 36835.035,
            "symbol": "circle"
           },
           "mode": "markers",
           "name": "New Brunswick",
           "orientation": "v",
           "showlegend": true,
           "type": "scatter",
           "x": [
            0.82
           ],
           "xaxis": "x",
           "y": [
            132325
           ],
           "yaxis": "y"
          },
          {
           "hovertemplate": "Geography=Québec<br>Time=2016Q1<br>DelinquencyRate=%{x}<br>AverageMortgageAmount=%{y}<br>PopulationSize=%{marker.size}<extra></extra>",
           "ids": [
            "Québec"
           ],
           "legendgroup": "Québec",
           "marker": {
            "color": "#FFA15A",
            "size": [
             8193624
            ],
            "sizemode": "area",
            "sizeref": 36835.035,
            "symbol": "circle"
           },
           "mode": "markers",
           "name": "Québec",
           "orientation": "v",
           "showlegend": true,
           "type": "scatter",
           "x": [
            0.44
           ],
           "xaxis": "x",
           "y": [
            167154
           ],
           "yaxis": "y"
          },
          {
           "hovertemplate": "Geography=Ontario<br>Time=2016Q1<br>DelinquencyRate=%{x}<br>AverageMortgageAmount=%{y}<br>PopulationSize=%{marker.size}<extra></extra>",
           "ids": [
            "Ontario"
           ],
           "legendgroup": "Ontario",
           "marker": {
            "color": "#19d3f3",
            "size": [
             13773629
            ],
            "sizemode": "area",
            "sizeref": 36835.035,
            "symbol": "circle"
           },
           "mode": "markers",
           "name": "Ontario",
           "orientation": "v",
           "showlegend": true,
           "type": "scatter",
           "x": [
            0.24
           ],
           "xaxis": "x",
           "y": [
            278626
           ],
           "yaxis": "y"
          },
          {
           "hovertemplate": "Geography=Manitoba<br>Time=2016Q1<br>DelinquencyRate=%{x}<br>AverageMortgageAmount=%{y}<br>PopulationSize=%{marker.size}<extra></extra>",
           "ids": [
            "Manitoba"
           ],
           "legendgroup": "Manitoba",
           "marker": {
            "color": "#FF6692",
            "size": [
             1302544
            ],
            "sizemode": "area",
            "sizeref": 36835.035,
            "symbol": "circle"
           },
           "mode": "markers",
           "name": "Manitoba",
           "orientation": "v",
           "showlegend": true,
           "type": "scatter",
           "x": [
            0.34
           ],
           "xaxis": "x",
           "y": [
            193970
           ],
           "yaxis": "y"
          },
          {
           "hovertemplate": "Geography=Saskatchewan<br>Time=2016Q1<br>DelinquencyRate=%{x}<br>AverageMortgageAmount=%{y}<br>PopulationSize=%{marker.size}<extra></extra>",
           "ids": [
            "Saskatchewan"
           ],
           "legendgroup": "Saskatchewan",
           "marker": {
            "color": "#B6E880",
            "size": [
             1127773
            ],
            "sizemode": "area",
            "sizeref": 36835.035,
            "symbol": "circle"
           },
           "mode": "markers",
           "name": "Saskatchewan",
           "orientation": "v",
           "showlegend": true,
           "type": "scatter",
           "x": [
            0.54
           ],
           "xaxis": "x",
           "y": [
            225641
           ],
           "yaxis": "y"
          },
          {
           "hovertemplate": "Geography=Alberta<br>Time=2016Q1<br>DelinquencyRate=%{x}<br>AverageMortgageAmount=%{y}<br>PopulationSize=%{marker.size}<extra></extra>",
           "ids": [
            "Alberta"
           ],
           "legendgroup": "Alberta",
           "marker": {
            "color": "#FF97FF",
            "size": [
             4169830
            ],
            "sizemode": "area",
            "sizeref": 36835.035,
            "symbol": "circle"
           },
           "mode": "markers",
           "name": "Alberta",
           "orientation": "v",
           "showlegend": true,
           "type": "scatter",
           "x": [
            0.41
           ],
           "xaxis": "x",
           "y": [
            296111
           ],
           "yaxis": "y"
          },
          {
           "hovertemplate": "Geography=British Columbia<br>Time=2016Q1<br>DelinquencyRate=%{x}<br>AverageMortgageAmount=%{y}<br>PopulationSize=%{marker.size}<extra></extra>",
           "ids": [
            "British Columbia"
           ],
           "legendgroup": "British Columbia",
           "marker": {
            "color": "#FECB52",
            "size": [
             4811465
            ],
            "sizemode": "area",
            "sizeref": 36835.035,
            "symbol": "circle"
           },
           "mode": "markers",
           "name": "British Columbia",
           "orientation": "v",
           "showlegend": true,
           "type": "scatter",
           "x": [
            0.32
           ],
           "xaxis": "x",
           "y": [
            368782
           ],
           "yaxis": "y"
          }
         ],
         "name": "2016Q1"
        },
        {
         "data": [
          {
           "hovertemplate": "Geography=Newfoundland<br>Time=2016Q2<br>DelinquencyRate=%{x}<br>AverageMortgageAmount=%{y}<br>PopulationSize=%{marker.size}<extra></extra>",
           "ids": [
            "Newfoundland"
           ],
           "legendgroup": "Newfoundland",
           "marker": {
            "color": "#636efa",
            "size": [
             529063
            ],
            "sizemode": "area",
            "sizeref": 36835.035,
            "symbol": "circle"
           },
           "mode": "markers",
           "name": "Newfoundland",
           "orientation": "v",
           "showlegend": true,
           "type": "scatter",
           "x": [
            0.46
           ],
           "xaxis": "x",
           "y": [
            196806
           ],
           "yaxis": "y"
          },
          {
           "hovertemplate": "Geography=Prince Edward Island<br>Time=2016Q2<br>DelinquencyRate=%{x}<br>AverageMortgageAmount=%{y}<br>PopulationSize=%{marker.size}<extra></extra>",
           "ids": [
            "Prince Edward Island"
           ],
           "legendgroup": "Prince Edward Island",
           "marker": {
            "color": "#EF553B",
            "size": [
             145784
            ],
            "sizemode": "area",
            "sizeref": 36835.035,
            "symbol": "circle"
           },
           "mode": "markers",
           "name": "Prince Edward Island",
           "orientation": "v",
           "showlegend": true,
           "type": "scatter",
           "x": [
            0.7
           ],
           "xaxis": "x",
           "y": [
            150732
           ],
           "yaxis": "y"
          },
          {
           "hovertemplate": "Geography=Nova Scotia<br>Time=2016Q2<br>DelinquencyRate=%{x}<br>AverageMortgageAmount=%{y}<br>PopulationSize=%{marker.size}<extra></extra>",
           "ids": [
            "Nova Scotia"
           ],
           "legendgroup": "Nova Scotia",
           "marker": {
            "color": "#00cc96",
            "size": [
             940382
            ],
            "sizemode": "area",
            "sizeref": 36835.035,
            "symbol": "circle"
           },
           "mode": "markers",
           "name": "Nova Scotia",
           "orientation": "v",
           "showlegend": true,
           "type": "scatter",
           "x": [
            0.72
           ],
           "xaxis": "x",
           "y": [
            168948
           ],
           "yaxis": "y"
          },
          {
           "hovertemplate": "Geography=New Brunswick<br>Time=2016Q2<br>DelinquencyRate=%{x}<br>AverageMortgageAmount=%{y}<br>PopulationSize=%{marker.size}<extra></extra>",
           "ids": [
            "New Brunswick"
           ],
           "legendgroup": "New Brunswick",
           "marker": {
            "color": "#ab63fa",
            "size": [
             762289
            ],
            "sizemode": "area",
            "sizeref": 36835.035,
            "symbol": "circle"
           },
           "mode": "markers",
           "name": "New Brunswick",
           "orientation": "v",
           "showlegend": true,
           "type": "scatter",
           "x": [
            0.78
           ],
           "xaxis": "x",
           "y": [
            133027
           ],
           "yaxis": "y"
          },
          {
           "hovertemplate": "Geography=Québec<br>Time=2016Q2<br>DelinquencyRate=%{x}<br>AverageMortgageAmount=%{y}<br>PopulationSize=%{marker.size}<extra></extra>",
           "ids": [
            "Québec"
           ],
           "legendgroup": "Québec",
           "marker": {
            "color": "#FFA15A",
            "size": [
             8204085
            ],
            "sizemode": "area",
            "sizeref": 36835.035,
            "symbol": "circle"
           },
           "mode": "markers",
           "name": "Québec",
           "orientation": "v",
           "showlegend": true,
           "type": "scatter",
           "x": [
            0.43
           ],
           "xaxis": "x",
           "y": [
            169326
           ],
           "yaxis": "y"
          },
          {
           "hovertemplate": "Geography=Ontario<br>Time=2016Q2<br>DelinquencyRate=%{x}<br>AverageMortgageAmount=%{y}<br>PopulationSize=%{marker.size}<extra></extra>",
           "ids": [
            "Ontario"
           ],
           "legendgroup": "Ontario",
           "marker": {
            "color": "#19d3f3",
            "size": [
             13816545
            ],
            "sizemode": "area",
            "sizeref": 36835.035,
            "symbol": "circle"
           },
           "mode": "markers",
           "name": "Ontario",
           "orientation": "v",
           "showlegend": true,
           "type": "scatter",
           "x": [
            0.22
           ],
           "xaxis": "x",
           "y": [
            285024
           ],
           "yaxis": "y"
          },
          {
           "hovertemplate": "Geography=Manitoba<br>Time=2016Q2<br>DelinquencyRate=%{x}<br>AverageMortgageAmount=%{y}<br>PopulationSize=%{marker.size}<extra></extra>",
           "ids": [
            "Manitoba"
           ],
           "legendgroup": "Manitoba",
           "marker": {
            "color": "#FF6692",
            "size": [
             1307689
            ],
            "sizemode": "area",
            "sizeref": 36835.035,
            "symbol": "circle"
           },
           "mode": "markers",
           "name": "Manitoba",
           "orientation": "v",
           "showlegend": true,
           "type": "scatter",
           "x": [
            0.35
           ],
           "xaxis": "x",
           "y": [
            196385
           ],
           "yaxis": "y"
          },
          {
           "hovertemplate": "Geography=Saskatchewan<br>Time=2016Q2<br>DelinquencyRate=%{x}<br>AverageMortgageAmount=%{y}<br>PopulationSize=%{marker.size}<extra></extra>",
           "ids": [
            "Saskatchewan"
           ],
           "legendgroup": "Saskatchewan",
           "marker": {
            "color": "#B6E880",
            "size": [
             1131147
            ],
            "sizemode": "area",
            "sizeref": 36835.035,
            "symbol": "circle"
           },
           "mode": "markers",
           "name": "Saskatchewan",
           "orientation": "v",
           "showlegend": true,
           "type": "scatter",
           "x": [
            0.57
           ],
           "xaxis": "x",
           "y": [
            230729
           ],
           "yaxis": "y"
          },
          {
           "hovertemplate": "Geography=Alberta<br>Time=2016Q2<br>DelinquencyRate=%{x}<br>AverageMortgageAmount=%{y}<br>PopulationSize=%{marker.size}<extra></extra>",
           "ids": [
            "Alberta"
           ],
           "legendgroup": "Alberta",
           "marker": {
            "color": "#FF97FF",
            "size": [
             4181765
            ],
            "sizemode": "area",
            "sizeref": 36835.035,
            "symbol": "circle"
           },
           "mode": "markers",
           "name": "Alberta",
           "orientation": "v",
           "showlegend": true,
           "type": "scatter",
           "x": [
            0.45
           ],
           "xaxis": "x",
           "y": [
            298884
           ],
           "yaxis": "y"
          },
          {
           "hovertemplate": "Geography=British Columbia<br>Time=2016Q2<br>DelinquencyRate=%{x}<br>AverageMortgageAmount=%{y}<br>PopulationSize=%{marker.size}<extra></extra>",
           "ids": [
            "British Columbia"
           ],
           "legendgroup": "British Columbia",
           "marker": {
            "color": "#FECB52",
            "size": [
             4832155
            ],
            "sizemode": "area",
            "sizeref": 36835.035,
            "symbol": "circle"
           },
           "mode": "markers",
           "name": "British Columbia",
           "orientation": "v",
           "showlegend": true,
           "type": "scatter",
           "x": [
            0.29
           ],
           "xaxis": "x",
           "y": [
            385910
           ],
           "yaxis": "y"
          }
         ],
         "name": "2016Q2"
        },
        {
         "data": [
          {
           "hovertemplate": "Geography=Newfoundland<br>Time=2016Q3<br>DelinquencyRate=%{x}<br>AverageMortgageAmount=%{y}<br>PopulationSize=%{marker.size}<extra></extra>",
           "ids": [
            "Newfoundland"
           ],
           "legendgroup": "Newfoundland",
           "marker": {
            "color": "#636efa",
            "size": [
             529426
            ],
            "sizemode": "area",
            "sizeref": 36835.035,
            "symbol": "circle"
           },
           "mode": "markers",
           "name": "Newfoundland",
           "orientation": "v",
           "showlegend": true,
           "type": "scatter",
           "x": [
            0.49
           ],
           "xaxis": "x",
           "y": [
            198265
           ],
           "yaxis": "y"
          },
          {
           "hovertemplate": "Geography=Prince Edward Island<br>Time=2016Q3<br>DelinquencyRate=%{x}<br>AverageMortgageAmount=%{y}<br>PopulationSize=%{marker.size}<extra></extra>",
           "ids": [
            "Prince Edward Island"
           ],
           "legendgroup": "Prince Edward Island",
           "marker": {
            "color": "#EF553B",
            "size": [
             146969
            ],
            "sizemode": "area",
            "sizeref": 36835.035,
            "symbol": "circle"
           },
           "mode": "markers",
           "name": "Prince Edward Island",
           "orientation": "v",
           "showlegend": true,
           "type": "scatter",
           "x": [
            0.67
           ],
           "xaxis": "x",
           "y": [
            169651
           ],
           "yaxis": "y"
          },
          {
           "hovertemplate": "Geography=Nova Scotia<br>Time=2016Q3<br>DelinquencyRate=%{x}<br>AverageMortgageAmount=%{y}<br>PopulationSize=%{marker.size}<extra></extra>",
           "ids": [
            "Nova Scotia"
           ],
           "legendgroup": "Nova Scotia",
           "marker": {
            "color": "#00cc96",
            "size": [
             942790
            ],
            "sizemode": "area",
            "sizeref": 36835.035,
            "symbol": "circle"
           },
           "mode": "markers",
           "name": "Nova Scotia",
           "orientation": "v",
           "showlegend": true,
           "type": "scatter",
           "x": [
            0.76
           ],
           "xaxis": "x",
           "y": [
            178784
           ],
           "yaxis": "y"
          },
          {
           "hovertemplate": "Geography=New Brunswick<br>Time=2016Q3<br>DelinquencyRate=%{x}<br>AverageMortgageAmount=%{y}<br>PopulationSize=%{marker.size}<extra></extra>",
           "ids": [
            "New Brunswick"
           ],
           "legendgroup": "New Brunswick",
           "marker": {
            "color": "#ab63fa",
            "size": [
             763350
            ],
            "sizemode": "area",
            "sizeref": 36835.035,
            "symbol": "circle"
           },
           "mode": "markers",
           "name": "New Brunswick",
           "orientation": "v",
           "showlegend": true,
           "type": "scatter",
           "x": [
            0.84
           ],
           "xaxis": "x",
           "y": [
            143533
           ],
           "yaxis": "y"
          },
          {
           "hovertemplate": "Geography=Québec<br>Time=2016Q3<br>DelinquencyRate=%{x}<br>AverageMortgageAmount=%{y}<br>PopulationSize=%{marker.size}<extra></extra>",
           "ids": [
            "Québec"
           ],
           "legendgroup": "Québec",
           "marker": {
            "color": "#FFA15A",
            "size": [
             8225950
            ],
            "sizemode": "area",
            "sizeref": 36835.035,
            "symbol": "circle"
           },
           "mode": "markers",
           "name": "Québec",
           "orientation": "v",
           "showlegend": true,
           "type": "scatter",
           "x": [
            0.42
           ],
           "xaxis": "x",
           "y": [
            176522
           ],
           "yaxis": "y"
          },
          {
           "hovertemplate": "Geography=Ontario<br>Time=2016Q3<br>DelinquencyRate=%{x}<br>AverageMortgageAmount=%{y}<br>PopulationSize=%{marker.size}<extra></extra>",
           "ids": [
            "Ontario"
           ],
           "legendgroup": "Ontario",
           "marker": {
            "color": "#19d3f3",
            "size": [
             13875394
            ],
            "sizemode": "area",
            "sizeref": 36835.035,
            "symbol": "circle"
           },
           "mode": "markers",
           "name": "Ontario",
           "orientation": "v",
           "showlegend": true,
           "type": "scatter",
           "x": [
            0.2
           ],
           "xaxis": "x",
           "y": [
            307369
           ],
           "yaxis": "y"
          },
          {
           "hovertemplate": "Geography=Manitoba<br>Time=2016Q3<br>DelinquencyRate=%{x}<br>AverageMortgageAmount=%{y}<br>PopulationSize=%{marker.size}<extra></extra>",
           "ids": [
            "Manitoba"
           ],
           "legendgroup": "Manitoba",
           "marker": {
            "color": "#FF6692",
            "size": [
             1314139
            ],
            "sizemode": "area",
            "sizeref": 36835.035,
            "symbol": "circle"
           },
           "mode": "markers",
           "name": "Manitoba",
           "orientation": "v",
           "showlegend": true,
           "type": "scatter",
           "x": [
            0.34
           ],
           "xaxis": "x",
           "y": [
            209051
           ],
           "yaxis": "y"
          },
          {
           "hovertemplate": "Geography=Saskatchewan<br>Time=2016Q3<br>DelinquencyRate=%{x}<br>AverageMortgageAmount=%{y}<br>PopulationSize=%{marker.size}<extra></extra>",
           "ids": [
            "Saskatchewan"
           ],
           "legendgroup": "Saskatchewan",
           "marker": {
            "color": "#B6E880",
            "size": [
             1135987
            ],
            "sizemode": "area",
            "sizeref": 36835.035,
            "symbol": "circle"
           },
           "mode": "markers",
           "name": "Saskatchewan",
           "orientation": "v",
           "showlegend": true,
           "type": "scatter",
           "x": [
            0.61
           ],
           "xaxis": "x",
           "y": [
            236380
           ],
           "yaxis": "y"
          },
          {
           "hovertemplate": "Geography=Alberta<br>Time=2016Q3<br>DelinquencyRate=%{x}<br>AverageMortgageAmount=%{y}<br>PopulationSize=%{marker.size}<extra></extra>",
           "ids": [
            "Alberta"
           ],
           "legendgroup": "Alberta",
           "marker": {
            "color": "#FF97FF",
            "size": [
             4196061
            ],
            "sizemode": "area",
            "sizeref": 36835.035,
            "symbol": "circle"
           },
           "mode": "markers",
           "name": "Alberta",
           "orientation": "v",
           "showlegend": true,
           "type": "scatter",
           "x": [
            0.53
           ],
           "xaxis": "x",
           "y": [
            304683
           ],
           "yaxis": "y"
          },
          {
           "hovertemplate": "Geography=British Columbia<br>Time=2016Q3<br>DelinquencyRate=%{x}<br>AverageMortgageAmount=%{y}<br>PopulationSize=%{marker.size}<extra></extra>",
           "ids": [
            "British Columbia"
           ],
           "legendgroup": "British Columbia",
           "marker": {
            "color": "#FECB52",
            "size": [
             4859250
            ],
            "sizemode": "area",
            "sizeref": 36835.035,
            "symbol": "circle"
           },
           "mode": "markers",
           "name": "British Columbia",
           "orientation": "v",
           "showlegend": true,
           "type": "scatter",
           "x": [
            0.26
           ],
           "xaxis": "x",
           "y": [
            395297
           ],
           "yaxis": "y"
          }
         ],
         "name": "2016Q3"
        },
        {
         "data": [
          {
           "hovertemplate": "Geography=Newfoundland<br>Time=2016Q4<br>DelinquencyRate=%{x}<br>AverageMortgageAmount=%{y}<br>PopulationSize=%{marker.size}<extra></extra>",
           "ids": [
            "Newfoundland"
           ],
           "legendgroup": "Newfoundland",
           "marker": {
            "color": "#636efa",
            "size": [
             529900
            ],
            "sizemode": "area",
            "sizeref": 36835.035,
            "symbol": "circle"
           },
           "mode": "markers",
           "name": "Newfoundland",
           "orientation": "v",
           "showlegend": true,
           "type": "scatter",
           "x": [
            0.46
           ],
           "xaxis": "x",
           "y": [
            197794
           ],
           "yaxis": "y"
          },
          {
           "hovertemplate": "Geography=Prince Edward Island<br>Time=2016Q4<br>DelinquencyRate=%{x}<br>AverageMortgageAmount=%{y}<br>PopulationSize=%{marker.size}<extra></extra>",
           "ids": [
            "Prince Edward Island"
           ],
           "legendgroup": "Prince Edward Island",
           "marker": {
            "color": "#EF553B",
            "size": [
             147936
            ],
            "sizemode": "area",
            "sizeref": 36835.035,
            "symbol": "circle"
           },
           "mode": "markers",
           "name": "Prince Edward Island",
           "orientation": "v",
           "showlegend": true,
           "type": "scatter",
           "x": [
            0.6
           ],
           "xaxis": "x",
           "y": [
            155799
           ],
           "yaxis": "y"
          },
          {
           "hovertemplate": "Geography=Nova Scotia<br>Time=2016Q4<br>DelinquencyRate=%{x}<br>AverageMortgageAmount=%{y}<br>PopulationSize=%{marker.size}<extra></extra>",
           "ids": [
            "Nova Scotia"
           ],
           "legendgroup": "Nova Scotia",
           "marker": {
            "color": "#00cc96",
            "size": [
             946030
            ],
            "sizemode": "area",
            "sizeref": 36835.035,
            "symbol": "circle"
           },
           "mode": "markers",
           "name": "Nova Scotia",
           "orientation": "v",
           "showlegend": true,
           "type": "scatter",
           "x": [
            0.75
           ],
           "xaxis": "x",
           "y": [
            173305
           ],
           "yaxis": "y"
          },
          {
           "hovertemplate": "Geography=New Brunswick<br>Time=2016Q4<br>DelinquencyRate=%{x}<br>AverageMortgageAmount=%{y}<br>PopulationSize=%{marker.size}<extra></extra>",
           "ids": [
            "New Brunswick"
           ],
           "legendgroup": "New Brunswick",
           "marker": {
            "color": "#ab63fa",
            "size": [
             764844
            ],
            "sizemode": "area",
            "sizeref": 36835.035,
            "symbol": "circle"
           },
           "mode": "markers",
           "name": "New Brunswick",
           "orientation": "v",
           "showlegend": true,
           "type": "scatter",
           "x": [
            0.79
           ],
           "xaxis": "x",
           "y": [
            140124
           ],
           "yaxis": "y"
          },
          {
           "hovertemplate": "Geography=Québec<br>Time=2016Q4<br>DelinquencyRate=%{x}<br>AverageMortgageAmount=%{y}<br>PopulationSize=%{marker.size}<extra></extra>",
           "ids": [
            "Québec"
           ],
           "legendgroup": "Québec",
           "marker": {
            "color": "#FFA15A",
            "size": [
             8249692
            ],
            "sizemode": "area",
            "sizeref": 36835.035,
            "symbol": "circle"
           },
           "mode": "markers",
           "name": "Québec",
           "orientation": "v",
           "showlegend": true,
           "type": "scatter",
           "x": [
            0.4
           ],
           "xaxis": "x",
           "y": [
            170309
           ],
           "yaxis": "y"
          },
          {
           "hovertemplate": "Geography=Ontario<br>Time=2016Q4<br>DelinquencyRate=%{x}<br>AverageMortgageAmount=%{y}<br>PopulationSize=%{marker.size}<extra></extra>",
           "ids": [
            "Ontario"
           ],
           "legendgroup": "Ontario",
           "marker": {
            "color": "#19d3f3",
            "size": [
             13946431
            ],
            "sizemode": "area",
            "sizeref": 36835.035,
            "symbol": "circle"
           },
           "mode": "markers",
           "name": "Ontario",
           "orientation": "v",
           "showlegend": true,
           "type": "scatter",
           "x": [
            0.19
           ],
           "xaxis": "x",
           "y": [
            310236
           ],
           "yaxis": "y"
          },
          {
           "hovertemplate": "Geography=Manitoba<br>Time=2016Q4<br>DelinquencyRate=%{x}<br>AverageMortgageAmount=%{y}<br>PopulationSize=%{marker.size}<extra></extra>",
           "ids": [
            "Manitoba"
           ],
           "legendgroup": "Manitoba",
           "marker": {
            "color": "#FF6692",
            "size": [
             1319911
            ],
            "sizemode": "area",
            "sizeref": 36835.035,
            "symbol": "circle"
           },
           "mode": "markers",
           "name": "Manitoba",
           "orientation": "v",
           "showlegend": true,
           "type": "scatter",
           "x": [
            0.35
           ],
           "xaxis": "x",
           "y": [
            206958
           ],
           "yaxis": "y"
          },
          {
           "hovertemplate": "Geography=Saskatchewan<br>Time=2016Q4<br>DelinquencyRate=%{x}<br>AverageMortgageAmount=%{y}<br>PopulationSize=%{marker.size}<extra></extra>",
           "ids": [
            "Saskatchewan"
           ],
           "legendgroup": "Saskatchewan",
           "marker": {
            "color": "#B6E880",
            "size": [
             1140690
            ],
            "sizemode": "area",
            "sizeref": 36835.035,
            "symbol": "circle"
           },
           "mode": "markers",
           "name": "Saskatchewan",
           "orientation": "v",
           "showlegend": true,
           "type": "scatter",
           "x": [
            0.62
           ],
           "xaxis": "x",
           "y": [
            232174
           ],
           "yaxis": "y"
          },
          {
           "hovertemplate": "Geography=Alberta<br>Time=2016Q4<br>DelinquencyRate=%{x}<br>AverageMortgageAmount=%{y}<br>PopulationSize=%{marker.size}<extra></extra>",
           "ids": [
            "Alberta"
           ],
           "legendgroup": "Alberta",
           "marker": {
            "color": "#FF97FF",
            "size": [
             4208958
            ],
            "sizemode": "area",
            "sizeref": 36835.035,
            "symbol": "circle"
           },
           "mode": "markers",
           "name": "Alberta",
           "orientation": "v",
           "showlegend": true,
           "type": "scatter",
           "x": [
            0.53
           ],
           "xaxis": "x",
           "y": [
            302095
           ],
           "yaxis": "y"
          },
          {
           "hovertemplate": "Geography=British Columbia<br>Time=2016Q4<br>DelinquencyRate=%{x}<br>AverageMortgageAmount=%{y}<br>PopulationSize=%{marker.size}<extra></extra>",
           "ids": [
            "British Columbia"
           ],
           "legendgroup": "British Columbia",
           "marker": {
            "color": "#FECB52",
            "size": [
             4884002
            ],
            "sizemode": "area",
            "sizeref": 36835.035,
            "symbol": "circle"
           },
           "mode": "markers",
           "name": "British Columbia",
           "orientation": "v",
           "showlegend": true,
           "type": "scatter",
           "x": [
            0.25
           ],
           "xaxis": "x",
           "y": [
            366703
           ],
           "yaxis": "y"
          }
         ],
         "name": "2016Q4"
        },
        {
         "data": [
          {
           "hovertemplate": "Geography=Newfoundland<br>Time=2017Q1<br>DelinquencyRate=%{x}<br>AverageMortgageAmount=%{y}<br>PopulationSize=%{marker.size}<extra></extra>",
           "ids": [
            "Newfoundland"
           ],
           "legendgroup": "Newfoundland",
           "marker": {
            "color": "#636efa",
            "size": [
             529347
            ],
            "sizemode": "area",
            "sizeref": 36835.035,
            "symbol": "circle"
           },
           "mode": "markers",
           "name": "Newfoundland",
           "orientation": "v",
           "showlegend": true,
           "type": "scatter",
           "x": [
            0.47
           ],
           "xaxis": "x",
           "y": [
            192057
           ],
           "yaxis": "y"
          },
          {
           "hovertemplate": "Geography=Prince Edward Island<br>Time=2017Q1<br>DelinquencyRate=%{x}<br>AverageMortgageAmount=%{y}<br>PopulationSize=%{marker.size}<extra></extra>",
           "ids": [
            "Prince Edward Island"
           ],
           "legendgroup": "Prince Edward Island",
           "marker": {
            "color": "#EF553B",
            "size": [
             148181
            ],
            "sizemode": "area",
            "sizeref": 36835.035,
            "symbol": "circle"
           },
           "mode": "markers",
           "name": "Prince Edward Island",
           "orientation": "v",
           "showlegend": true,
           "type": "scatter",
           "x": [
            0.66
           ],
           "xaxis": "x",
           "y": [
            175124
           ],
           "yaxis": "y"
          },
          {
           "hovertemplate": "Geography=Nova Scotia<br>Time=2017Q1<br>DelinquencyRate=%{x}<br>AverageMortgageAmount=%{y}<br>PopulationSize=%{marker.size}<extra></extra>",
           "ids": [
            "Nova Scotia"
           ],
           "legendgroup": "Nova Scotia",
           "marker": {
            "color": "#00cc96",
            "size": [
             945943
            ],
            "sizemode": "area",
            "sizeref": 36835.035,
            "symbol": "circle"
           },
           "mode": "markers",
           "name": "Nova Scotia",
           "orientation": "v",
           "showlegend": true,
           "type": "scatter",
           "x": [
            0.7
           ],
           "xaxis": "x",
           "y": [
            186024
           ],
           "yaxis": "y"
          },
          {
           "hovertemplate": "Geography=New Brunswick<br>Time=2017Q1<br>DelinquencyRate=%{x}<br>AverageMortgageAmount=%{y}<br>PopulationSize=%{marker.size}<extra></extra>",
           "ids": [
            "New Brunswick"
           ],
           "legendgroup": "New Brunswick",
           "marker": {
            "color": "#ab63fa",
            "size": [
             764617
            ],
            "sizemode": "area",
            "sizeref": 36835.035,
            "symbol": "circle"
           },
           "mode": "markers",
           "name": "New Brunswick",
           "orientation": "v",
           "showlegend": true,
           "type": "scatter",
           "x": [
            0.78
           ],
           "xaxis": "x",
           "y": [
            141196
           ],
           "yaxis": "y"
          },
          {
           "hovertemplate": "Geography=Québec<br>Time=2017Q1<br>DelinquencyRate=%{x}<br>AverageMortgageAmount=%{y}<br>PopulationSize=%{marker.size}<extra></extra>",
           "ids": [
            "Québec"
           ],
           "legendgroup": "Québec",
           "marker": {
            "color": "#FFA15A",
            "size": [
             8257450
            ],
            "sizemode": "area",
            "sizeref": 36835.035,
            "symbol": "circle"
           },
           "mode": "markers",
           "name": "Québec",
           "orientation": "v",
           "showlegend": true,
           "type": "scatter",
           "x": [
            0.41
           ],
           "xaxis": "x",
           "y": [
            171992
           ],
           "yaxis": "y"
          },
          {
           "hovertemplate": "Geography=Ontario<br>Time=2017Q1<br>DelinquencyRate=%{x}<br>AverageMortgageAmount=%{y}<br>PopulationSize=%{marker.size}<extra></extra>",
           "ids": [
            "Ontario"
           ],
           "legendgroup": "Ontario",
           "marker": {
            "color": "#19d3f3",
            "size": [
             13971785
            ],
            "sizemode": "area",
            "sizeref": 36835.035,
            "symbol": "circle"
           },
           "mode": "markers",
           "name": "Ontario",
           "orientation": "v",
           "showlegend": true,
           "type": "scatter",
           "x": [
            0.18
           ],
           "xaxis": "x",
           "y": [
            319009
           ],
           "yaxis": "y"
          },
          {
           "hovertemplate": "Geography=Manitoba<br>Time=2017Q1<br>DelinquencyRate=%{x}<br>AverageMortgageAmount=%{y}<br>PopulationSize=%{marker.size}<extra></extra>",
           "ids": [
            "Manitoba"
           ],
           "legendgroup": "Manitoba",
           "marker": {
            "color": "#FF6692",
            "size": [
             1324129
            ],
            "sizemode": "area",
            "sizeref": 36835.035,
            "symbol": "circle"
           },
           "mode": "markers",
           "name": "Manitoba",
           "orientation": "v",
           "showlegend": true,
           "type": "scatter",
           "x": [
            0.36
           ],
           "xaxis": "x",
           "y": [
            203999
           ],
           "yaxis": "y"
          },
          {
           "hovertemplate": "Geography=Saskatchewan<br>Time=2017Q1<br>DelinquencyRate=%{x}<br>AverageMortgageAmount=%{y}<br>PopulationSize=%{marker.size}<extra></extra>",
           "ids": [
            "Saskatchewan"
           ],
           "legendgroup": "Saskatchewan",
           "marker": {
            "color": "#B6E880",
            "size": [
             1143313
            ],
            "sizemode": "area",
            "sizeref": 36835.035,
            "symbol": "circle"
           },
           "mode": "markers",
           "name": "Saskatchewan",
           "orientation": "v",
           "showlegend": true,
           "type": "scatter",
           "x": [
            0.62
           ],
           "xaxis": "x",
           "y": [
            234786
           ],
           "yaxis": "y"
          },
          {
           "hovertemplate": "Geography=Alberta<br>Time=2017Q1<br>DelinquencyRate=%{x}<br>AverageMortgageAmount=%{y}<br>PopulationSize=%{marker.size}<extra></extra>",
           "ids": [
            "Alberta"
           ],
           "legendgroup": "Alberta",
           "marker": {
            "color": "#FF97FF",
            "size": [
             4217855
            ],
            "sizemode": "area",
            "sizeref": 36835.035,
            "symbol": "circle"
           },
           "mode": "markers",
           "name": "Alberta",
           "orientation": "v",
           "showlegend": true,
           "type": "scatter",
           "x": [
            0.54
           ],
           "xaxis": "x",
           "y": [
            301254
           ],
           "yaxis": "y"
          },
          {
           "hovertemplate": "Geography=British Columbia<br>Time=2017Q1<br>DelinquencyRate=%{x}<br>AverageMortgageAmount=%{y}<br>PopulationSize=%{marker.size}<extra></extra>",
           "ids": [
            "British Columbia"
           ],
           "legendgroup": "British Columbia",
           "marker": {
            "color": "#FECB52",
            "size": [
             4890848
            ],
            "sizemode": "area",
            "sizeref": 36835.035,
            "symbol": "circle"
           },
           "mode": "markers",
           "name": "British Columbia",
           "orientation": "v",
           "showlegend": true,
           "type": "scatter",
           "x": [
            0.23
           ],
           "xaxis": "x",
           "y": [
            358655
           ],
           "yaxis": "y"
          }
         ],
         "name": "2017Q1"
        },
        {
         "data": [
          {
           "hovertemplate": "Geography=Newfoundland<br>Time=2017Q2<br>DelinquencyRate=%{x}<br>AverageMortgageAmount=%{y}<br>PopulationSize=%{marker.size}<extra></extra>",
           "ids": [
            "Newfoundland"
           ],
           "legendgroup": "Newfoundland",
           "marker": {
            "color": "#636efa",
            "size": [
             528544
            ],
            "sizemode": "area",
            "sizeref": 36835.035,
            "symbol": "circle"
           },
           "mode": "markers",
           "name": "Newfoundland",
           "orientation": "v",
           "showlegend": true,
           "type": "scatter",
           "x": [
            0.47
           ],
           "xaxis": "x",
           "y": [
            191412
           ],
           "yaxis": "y"
          },
          {
           "hovertemplate": "Geography=Prince Edward Island<br>Time=2017Q2<br>DelinquencyRate=%{x}<br>AverageMortgageAmount=%{y}<br>PopulationSize=%{marker.size}<extra></extra>",
           "ids": [
            "Prince Edward Island"
           ],
           "legendgroup": "Prince Edward Island",
           "marker": {
            "color": "#EF553B",
            "size": [
             148860
            ],
            "sizemode": "area",
            "sizeref": 36835.035,
            "symbol": "circle"
           },
           "mode": "markers",
           "name": "Prince Edward Island",
           "orientation": "v",
           "showlegend": true,
           "type": "scatter",
           "x": [
            0.55
           ],
           "xaxis": "x",
           "y": [
            174901
           ],
           "yaxis": "y"
          },
          {
           "hovertemplate": "Geography=Nova Scotia<br>Time=2017Q2<br>DelinquencyRate=%{x}<br>AverageMortgageAmount=%{y}<br>PopulationSize=%{marker.size}<extra></extra>",
           "ids": [
            "Nova Scotia"
           ],
           "legendgroup": "Nova Scotia",
           "marker": {
            "color": "#00cc96",
            "size": [
             947384
            ],
            "sizemode": "area",
            "sizeref": 36835.035,
            "symbol": "circle"
           },
           "mode": "markers",
           "name": "Nova Scotia",
           "orientation": "v",
           "showlegend": true,
           "type": "scatter",
           "x": [
            0.64
           ],
           "xaxis": "x",
           "y": [
            182526
           ],
           "yaxis": "y"
          },
          {
           "hovertemplate": "Geography=New Brunswick<br>Time=2017Q2<br>DelinquencyRate=%{x}<br>AverageMortgageAmount=%{y}<br>PopulationSize=%{marker.size}<extra></extra>",
           "ids": [
            "New Brunswick"
           ],
           "legendgroup": "New Brunswick",
           "marker": {
            "color": "#ab63fa",
            "size": [
             764813
            ],
            "sizemode": "area",
            "sizeref": 36835.035,
            "symbol": "circle"
           },
           "mode": "markers",
           "name": "New Brunswick",
           "orientation": "v",
           "showlegend": true,
           "type": "scatter",
           "x": [
            0.73
           ],
           "xaxis": "x",
           "y": [
            135748
           ],
           "yaxis": "y"
          },
          {
           "hovertemplate": "Geography=Québec<br>Time=2017Q2<br>DelinquencyRate=%{x}<br>AverageMortgageAmount=%{y}<br>PopulationSize=%{marker.size}<extra></extra>",
           "ids": [
            "Québec"
           ],
           "legendgroup": "Québec",
           "marker": {
            "color": "#FFA15A",
            "size": [
             8272894
            ],
            "sizemode": "area",
            "sizeref": 36835.035,
            "symbol": "circle"
           },
           "mode": "markers",
           "name": "Québec",
           "orientation": "v",
           "showlegend": true,
           "type": "scatter",
           "x": [
            0.4
           ],
           "xaxis": "x",
           "y": [
            171716
           ],
           "yaxis": "y"
          },
          {
           "hovertemplate": "Geography=Ontario<br>Time=2017Q2<br>DelinquencyRate=%{x}<br>AverageMortgageAmount=%{y}<br>PopulationSize=%{marker.size}<extra></extra>",
           "ids": [
            "Ontario"
           ],
           "legendgroup": "Ontario",
           "marker": {
            "color": "#19d3f3",
            "size": [
             14006386
            ],
            "sizemode": "area",
            "sizeref": 36835.035,
            "symbol": "circle"
           },
           "mode": "markers",
           "name": "Ontario",
           "orientation": "v",
           "showlegend": true,
           "type": "scatter",
           "x": [
            0.16
           ],
           "xaxis": "x",
           "y": [
            326645
           ],
           "yaxis": "y"
          },
          {
           "hovertemplate": "Geography=Manitoba<br>Time=2017Q2<br>DelinquencyRate=%{x}<br>AverageMortgageAmount=%{y}<br>PopulationSize=%{marker.size}<extra></extra>",
           "ids": [
            "Manitoba"
           ],
           "legendgroup": "Manitoba",
           "marker": {
            "color": "#FF6692",
            "size": [
             1328412
            ],
            "sizemode": "area",
            "sizeref": 36835.035,
            "symbol": "circle"
           },
           "mode": "markers",
           "name": "Manitoba",
           "orientation": "v",
           "showlegend": true,
           "type": "scatter",
           "x": [
            0.35
           ],
           "xaxis": "x",
           "y": [
            205085
           ],
           "yaxis": "y"
          },
          {
           "hovertemplate": "Geography=Saskatchewan<br>Time=2017Q2<br>DelinquencyRate=%{x}<br>AverageMortgageAmount=%{y}<br>PopulationSize=%{marker.size}<extra></extra>",
           "ids": [
            "Saskatchewan"
           ],
           "legendgroup": "Saskatchewan",
           "marker": {
            "color": "#B6E880",
            "size": [
             1146218
            ],
            "sizemode": "area",
            "sizeref": 36835.035,
            "symbol": "circle"
           },
           "mode": "markers",
           "name": "Saskatchewan",
           "orientation": "v",
           "showlegend": true,
           "type": "scatter",
           "x": [
            0.66
           ],
           "xaxis": "x",
           "y": [
            233545
           ],
           "yaxis": "y"
          },
          {
           "hovertemplate": "Geography=Alberta<br>Time=2017Q2<br>DelinquencyRate=%{x}<br>AverageMortgageAmount=%{y}<br>PopulationSize=%{marker.size}<extra></extra>",
           "ids": [
            "Alberta"
           ],
           "legendgroup": "Alberta",
           "marker": {
            "color": "#FF97FF",
            "size": [
             4227969
            ],
            "sizemode": "area",
            "sizeref": 36835.035,
            "symbol": "circle"
           },
           "mode": "markers",
           "name": "Alberta",
           "orientation": "v",
           "showlegend": true,
           "type": "scatter",
           "x": [
            0.52
           ],
           "xaxis": "x",
           "y": [
            300115
           ],
           "yaxis": "y"
          },
          {
           "hovertemplate": "Geography=British Columbia<br>Time=2017Q2<br>DelinquencyRate=%{x}<br>AverageMortgageAmount=%{y}<br>PopulationSize=%{marker.size}<extra></extra>",
           "ids": [
            "British Columbia"
           ],
           "legendgroup": "British Columbia",
           "marker": {
            "color": "#FECB52",
            "size": [
             4905210
            ],
            "sizemode": "area",
            "sizeref": 36835.035,
            "symbol": "circle"
           },
           "mode": "markers",
           "name": "British Columbia",
           "orientation": "v",
           "showlegend": true,
           "type": "scatter",
           "x": [
            0.2
           ],
           "xaxis": "x",
           "y": [
            369174
           ],
           "yaxis": "y"
          }
         ],
         "name": "2017Q2"
        },
        {
         "data": [
          {
           "hovertemplate": "Geography=Newfoundland<br>Time=2017Q3<br>DelinquencyRate=%{x}<br>AverageMortgageAmount=%{y}<br>PopulationSize=%{marker.size}<extra></extra>",
           "ids": [
            "Newfoundland"
           ],
           "legendgroup": "Newfoundland",
           "marker": {
            "color": "#636efa",
            "size": [
             528249
            ],
            "sizemode": "area",
            "sizeref": 36835.035,
            "symbol": "circle"
           },
           "mode": "markers",
           "name": "Newfoundland",
           "orientation": "v",
           "showlegend": true,
           "type": "scatter",
           "x": [
            0.46
           ],
           "xaxis": "x",
           "y": [
            200378
           ],
           "yaxis": "y"
          },
          {
           "hovertemplate": "Geography=Prince Edward Island<br>Time=2017Q3<br>DelinquencyRate=%{x}<br>AverageMortgageAmount=%{y}<br>PopulationSize=%{marker.size}<extra></extra>",
           "ids": [
            "Prince Edward Island"
           ],
           "legendgroup": "Prince Edward Island",
           "marker": {
            "color": "#EF553B",
            "size": [
             150402
            ],
            "sizemode": "area",
            "sizeref": 36835.035,
            "symbol": "circle"
           },
           "mode": "markers",
           "name": "Prince Edward Island",
           "orientation": "v",
           "showlegend": true,
           "type": "scatter",
           "x": [
            0.54
           ],
           "xaxis": "x",
           "y": [
            176919
           ],
           "yaxis": "y"
          },
          {
           "hovertemplate": "Geography=Nova Scotia<br>Time=2017Q3<br>DelinquencyRate=%{x}<br>AverageMortgageAmount=%{y}<br>PopulationSize=%{marker.size}<extra></extra>",
           "ids": [
            "Nova Scotia"
           ],
           "legendgroup": "Nova Scotia",
           "marker": {
            "color": "#00cc96",
            "size": [
             950108
            ],
            "sizemode": "area",
            "sizeref": 36835.035,
            "symbol": "circle"
           },
           "mode": "markers",
           "name": "Nova Scotia",
           "orientation": "v",
           "showlegend": true,
           "type": "scatter",
           "x": [
            0.6
           ],
           "xaxis": "x",
           "y": [
            194802
           ],
           "yaxis": "y"
          },
          {
           "hovertemplate": "Geography=New Brunswick<br>Time=2017Q3<br>DelinquencyRate=%{x}<br>AverageMortgageAmount=%{y}<br>PopulationSize=%{marker.size}<extra></extra>",
           "ids": [
            "New Brunswick"
           ],
           "legendgroup": "New Brunswick",
           "marker": {
            "color": "#ab63fa",
            "size": [
             766621
            ],
            "sizemode": "area",
            "sizeref": 36835.035,
            "symbol": "circle"
           },
           "mode": "markers",
           "name": "New Brunswick",
           "orientation": "v",
           "showlegend": true,
           "type": "scatter",
           "x": [
            0.71
           ],
           "xaxis": "x",
           "y": [
            147934
           ],
           "yaxis": "y"
          },
          {
           "hovertemplate": "Geography=Québec<br>Time=2017Q3<br>DelinquencyRate=%{x}<br>AverageMortgageAmount=%{y}<br>PopulationSize=%{marker.size}<extra></extra>",
           "ids": [
            "Québec"
           ],
           "legendgroup": "Québec",
           "marker": {
            "color": "#FFA15A",
            "size": [
             8302063
            ],
            "sizemode": "area",
            "sizeref": 36835.035,
            "symbol": "circle"
           },
           "mode": "markers",
           "name": "Québec",
           "orientation": "v",
           "showlegend": true,
           "type": "scatter",
           "x": [
            0.37
           ],
           "xaxis": "x",
           "y": [
            177306
           ],
           "yaxis": "y"
          },
          {
           "hovertemplate": "Geography=Ontario<br>Time=2017Q3<br>DelinquencyRate=%{x}<br>AverageMortgageAmount=%{y}<br>PopulationSize=%{marker.size}<extra></extra>",
           "ids": [
            "Ontario"
           ],
           "legendgroup": "Ontario",
           "marker": {
            "color": "#19d3f3",
            "size": [
             14070141
            ],
            "sizemode": "area",
            "sizeref": 36835.035,
            "symbol": "circle"
           },
           "mode": "markers",
           "name": "Ontario",
           "orientation": "v",
           "showlegend": true,
           "type": "scatter",
           "x": [
            0.16
           ],
           "xaxis": "x",
           "y": [
            338561
           ],
           "yaxis": "y"
          },
          {
           "hovertemplate": "Geography=Manitoba<br>Time=2017Q3<br>DelinquencyRate=%{x}<br>AverageMortgageAmount=%{y}<br>PopulationSize=%{marker.size}<extra></extra>",
           "ids": [
            "Manitoba"
           ],
           "legendgroup": "Manitoba",
           "marker": {
            "color": "#FF6692",
            "size": [
             1334790
            ],
            "sizemode": "area",
            "sizeref": 36835.035,
            "symbol": "circle"
           },
           "mode": "markers",
           "name": "Manitoba",
           "orientation": "v",
           "showlegend": true,
           "type": "scatter",
           "x": [
            0.33
           ],
           "xaxis": "x",
           "y": [
            216750
           ],
           "yaxis": "y"
          },
          {
           "hovertemplate": "Geography=Saskatchewan<br>Time=2017Q3<br>DelinquencyRate=%{x}<br>AverageMortgageAmount=%{y}<br>PopulationSize=%{marker.size}<extra></extra>",
           "ids": [
            "Saskatchewan"
           ],
           "legendgroup": "Saskatchewan",
           "marker": {
            "color": "#B6E880",
            "size": [
             1150331
            ],
            "sizemode": "area",
            "sizeref": 36835.035,
            "symbol": "circle"
           },
           "mode": "markers",
           "name": "Saskatchewan",
           "orientation": "v",
           "showlegend": true,
           "type": "scatter",
           "x": [
            0.65
           ],
           "xaxis": "x",
           "y": [
            238533
           ],
           "yaxis": "y"
          },
          {
           "hovertemplate": "Geography=Alberta<br>Time=2017Q3<br>DelinquencyRate=%{x}<br>AverageMortgageAmount=%{y}<br>PopulationSize=%{marker.size}<extra></extra>",
           "ids": [
            "Alberta"
           ],
           "legendgroup": "Alberta",
           "marker": {
            "color": "#FF97FF",
            "size": [
             4241100
            ],
            "sizemode": "area",
            "sizeref": 36835.035,
            "symbol": "circle"
           },
           "mode": "markers",
           "name": "Alberta",
           "orientation": "v",
           "showlegend": true,
           "type": "scatter",
           "x": [
            0.51
           ],
           "xaxis": "x",
           "y": [
            307837
           ],
           "yaxis": "y"
          },
          {
           "hovertemplate": "Geography=British Columbia<br>Time=2017Q3<br>DelinquencyRate=%{x}<br>AverageMortgageAmount=%{y}<br>PopulationSize=%{marker.size}<extra></extra>",
           "ids": [
            "British Columbia"
           ],
           "legendgroup": "British Columbia",
           "marker": {
            "color": "#FECB52",
            "size": [
             4929384
            ],
            "sizemode": "area",
            "sizeref": 36835.035,
            "symbol": "circle"
           },
           "mode": "markers",
           "name": "British Columbia",
           "orientation": "v",
           "showlegend": true,
           "type": "scatter",
           "x": [
            0.18
           ],
           "xaxis": "x",
           "y": [
            389430
           ],
           "yaxis": "y"
          }
         ],
         "name": "2017Q3"
        },
        {
         "data": [
          {
           "hovertemplate": "Geography=Newfoundland<br>Time=2017Q4<br>DelinquencyRate=%{x}<br>AverageMortgageAmount=%{y}<br>PopulationSize=%{marker.size}<extra></extra>",
           "ids": [
            "Newfoundland"
           ],
           "legendgroup": "Newfoundland",
           "marker": {
            "color": "#636efa",
            "size": [
             528288
            ],
            "sizemode": "area",
            "sizeref": 36835.035,
            "symbol": "circle"
           },
           "mode": "markers",
           "name": "Newfoundland",
           "orientation": "v",
           "showlegend": true,
           "type": "scatter",
           "x": [
            0.52
           ],
           "xaxis": "x",
           "y": [
            193619
           ],
           "yaxis": "y"
          },
          {
           "hovertemplate": "Geography=Prince Edward Island<br>Time=2017Q4<br>DelinquencyRate=%{x}<br>AverageMortgageAmount=%{y}<br>PopulationSize=%{marker.size}<extra></extra>",
           "ids": [
            "Prince Edward Island"
           ],
           "legendgroup": "Prince Edward Island",
           "marker": {
            "color": "#EF553B",
            "size": [
             151376
            ],
            "sizemode": "area",
            "sizeref": 36835.035,
            "symbol": "circle"
           },
           "mode": "markers",
           "name": "Prince Edward Island",
           "orientation": "v",
           "showlegend": true,
           "type": "scatter",
           "x": [
            0.44
           ],
           "xaxis": "x",
           "y": [
            175523
           ],
           "yaxis": "y"
          },
          {
           "hovertemplate": "Geography=Nova Scotia<br>Time=2017Q4<br>DelinquencyRate=%{x}<br>AverageMortgageAmount=%{y}<br>PopulationSize=%{marker.size}<extra></extra>",
           "ids": [
            "Nova Scotia"
           ],
           "legendgroup": "Nova Scotia",
           "marker": {
            "color": "#00cc96",
            "size": [
             953683
            ],
            "sizemode": "area",
            "sizeref": 36835.035,
            "symbol": "circle"
           },
           "mode": "markers",
           "name": "Nova Scotia",
           "orientation": "v",
           "showlegend": true,
           "type": "scatter",
           "x": [
            0.58
           ],
           "xaxis": "x",
           "y": [
            188559
           ],
           "yaxis": "y"
          },
          {
           "hovertemplate": "Geography=New Brunswick<br>Time=2017Q4<br>DelinquencyRate=%{x}<br>AverageMortgageAmount=%{y}<br>PopulationSize=%{marker.size}<extra></extra>",
           "ids": [
            "New Brunswick"
           ],
           "legendgroup": "New Brunswick",
           "marker": {
            "color": "#ab63fa",
            "size": [
             767935
            ],
            "sizemode": "area",
            "sizeref": 36835.035,
            "symbol": "circle"
           },
           "mode": "markers",
           "name": "New Brunswick",
           "orientation": "v",
           "showlegend": true,
           "type": "scatter",
           "x": [
            0.66
           ],
           "xaxis": "x",
           "y": [
            142799
           ],
           "yaxis": "y"
          },
          {
           "hovertemplate": "Geography=Québec<br>Time=2017Q4<br>DelinquencyRate=%{x}<br>AverageMortgageAmount=%{y}<br>PopulationSize=%{marker.size}<extra></extra>",
           "ids": [
            "Québec"
           ],
           "legendgroup": "Québec",
           "marker": {
            "color": "#FFA15A",
            "size": [
             8336460
            ],
            "sizemode": "area",
            "sizeref": 36835.035,
            "symbol": "circle"
           },
           "mode": "markers",
           "name": "Québec",
           "orientation": "v",
           "showlegend": true,
           "type": "scatter",
           "x": [
            0.34
           ],
           "xaxis": "x",
           "y": [
            173182
           ],
           "yaxis": "y"
          },
          {
           "hovertemplate": "Geography=Ontario<br>Time=2017Q4<br>DelinquencyRate=%{x}<br>AverageMortgageAmount=%{y}<br>PopulationSize=%{marker.size}<extra></extra>",
           "ids": [
            "Ontario"
           ],
           "legendgroup": "Ontario",
           "marker": {
            "color": "#19d3f3",
            "size": [
             14150783
            ],
            "sizemode": "area",
            "sizeref": 36835.035,
            "symbol": "circle"
           },
           "mode": "markers",
           "name": "Ontario",
           "orientation": "v",
           "showlegend": true,
           "type": "scatter",
           "x": [
            0.15
           ],
           "xaxis": "x",
           "y": [
            323821
           ],
           "yaxis": "y"
          },
          {
           "hovertemplate": "Geography=Manitoba<br>Time=2017Q4<br>DelinquencyRate=%{x}<br>AverageMortgageAmount=%{y}<br>PopulationSize=%{marker.size}<extra></extra>",
           "ids": [
            "Manitoba"
           ],
           "legendgroup": "Manitoba",
           "marker": {
            "color": "#FF6692",
            "size": [
             1340565
            ],
            "sizemode": "area",
            "sizeref": 36835.035,
            "symbol": "circle"
           },
           "mode": "markers",
           "name": "Manitoba",
           "orientation": "v",
           "showlegend": true,
           "type": "scatter",
           "x": [
            0.3
           ],
           "xaxis": "x",
           "y": [
            217136
           ],
           "yaxis": "y"
          },
          {
           "hovertemplate": "Geography=Saskatchewan<br>Time=2017Q4<br>DelinquencyRate=%{x}<br>AverageMortgageAmount=%{y}<br>PopulationSize=%{marker.size}<extra></extra>",
           "ids": [
            "Saskatchewan"
           ],
           "legendgroup": "Saskatchewan",
           "marker": {
            "color": "#B6E880",
            "size": [
             1154755
            ],
            "sizemode": "area",
            "sizeref": 36835.035,
            "symbol": "circle"
           },
           "mode": "markers",
           "name": "Saskatchewan",
           "orientation": "v",
           "showlegend": true,
           "type": "scatter",
           "x": [
            0.66
           ],
           "xaxis": "x",
           "y": [
            234340
           ],
           "yaxis": "y"
          },
          {
           "hovertemplate": "Geography=Alberta<br>Time=2017Q4<br>DelinquencyRate=%{x}<br>AverageMortgageAmount=%{y}<br>PopulationSize=%{marker.size}<extra></extra>",
           "ids": [
            "Alberta"
           ],
           "legendgroup": "Alberta",
           "marker": {
            "color": "#FF97FF",
            "size": [
             4258195
            ],
            "sizemode": "area",
            "sizeref": 36835.035,
            "symbol": "circle"
           },
           "mode": "markers",
           "name": "Alberta",
           "orientation": "v",
           "showlegend": true,
           "type": "scatter",
           "x": [
            0.5
           ],
           "xaxis": "x",
           "y": [
            307662
           ],
           "yaxis": "y"
          },
          {
           "hovertemplate": "Geography=British Columbia<br>Time=2017Q4<br>DelinquencyRate=%{x}<br>AverageMortgageAmount=%{y}<br>PopulationSize=%{marker.size}<extra></extra>",
           "ids": [
            "British Columbia"
           ],
           "legendgroup": "British Columbia",
           "marker": {
            "color": "#FECB52",
            "size": [
             4956550
            ],
            "sizemode": "area",
            "sizeref": 36835.035,
            "symbol": "circle"
           },
           "mode": "markers",
           "name": "British Columbia",
           "orientation": "v",
           "showlegend": true,
           "type": "scatter",
           "x": [
            0.18
           ],
           "xaxis": "x",
           "y": [
            381223
           ],
           "yaxis": "y"
          }
         ],
         "name": "2017Q4"
        },
        {
         "data": [
          {
           "hovertemplate": "Geography=Newfoundland<br>Time=2018Q1<br>DelinquencyRate=%{x}<br>AverageMortgageAmount=%{y}<br>PopulationSize=%{marker.size}<extra></extra>",
           "ids": [
            "Newfoundland"
           ],
           "legendgroup": "Newfoundland",
           "marker": {
            "color": "#636efa",
            "size": [
             527544
            ],
            "sizemode": "area",
            "sizeref": 36835.035,
            "symbol": "circle"
           },
           "mode": "markers",
           "name": "Newfoundland",
           "orientation": "v",
           "showlegend": true,
           "type": "scatter",
           "x": [
            0.56
           ],
           "xaxis": "x",
           "y": [
            196431
           ],
           "yaxis": "y"
          },
          {
           "hovertemplate": "Geography=Prince Edward Island<br>Time=2018Q1<br>DelinquencyRate=%{x}<br>AverageMortgageAmount=%{y}<br>PopulationSize=%{marker.size}<extra></extra>",
           "ids": [
            "Prince Edward Island"
           ],
           "legendgroup": "Prince Edward Island",
           "marker": {
            "color": "#EF553B",
            "size": [
             151516
            ],
            "sizemode": "area",
            "sizeref": 36835.035,
            "symbol": "circle"
           },
           "mode": "markers",
           "name": "Prince Edward Island",
           "orientation": "v",
           "showlegend": true,
           "type": "scatter",
           "x": [
            0.5
           ],
           "xaxis": "x",
           "y": [
            179179
           ],
           "yaxis": "y"
          },
          {
           "hovertemplate": "Geography=Nova Scotia<br>Time=2018Q1<br>DelinquencyRate=%{x}<br>AverageMortgageAmount=%{y}<br>PopulationSize=%{marker.size}<extra></extra>",
           "ids": [
            "Nova Scotia"
           ],
           "legendgroup": "Nova Scotia",
           "marker": {
            "color": "#00cc96",
            "size": [
             953838
            ],
            "sizemode": "area",
            "sizeref": 36835.035,
            "symbol": "circle"
           },
           "mode": "markers",
           "name": "Nova Scotia",
           "orientation": "v",
           "showlegend": true,
           "type": "scatter",
           "x": [
            0.59
           ],
           "xaxis": "x",
           "y": [
            185858
           ],
           "yaxis": "y"
          },
          {
           "hovertemplate": "Geography=New Brunswick<br>Time=2018Q1<br>DelinquencyRate=%{x}<br>AverageMortgageAmount=%{y}<br>PopulationSize=%{marker.size}<extra></extra>",
           "ids": [
            "New Brunswick"
           ],
           "legendgroup": "New Brunswick",
           "marker": {
            "color": "#ab63fa",
            "size": [
             768005
            ],
            "sizemode": "area",
            "sizeref": 36835.035,
            "symbol": "circle"
           },
           "mode": "markers",
           "name": "New Brunswick",
           "orientation": "v",
           "showlegend": true,
           "type": "scatter",
           "x": [
            0.65
           ],
           "xaxis": "x",
           "y": [
            139711
           ],
           "yaxis": "y"
          },
          {
           "hovertemplate": "Geography=Québec<br>Time=2018Q1<br>DelinquencyRate=%{x}<br>AverageMortgageAmount=%{y}<br>PopulationSize=%{marker.size}<extra></extra>",
           "ids": [
            "Québec"
           ],
           "legendgroup": "Québec",
           "marker": {
            "color": "#FFA15A",
            "size": [
             8350601
            ],
            "sizemode": "area",
            "sizeref": 36835.035,
            "symbol": "circle"
           },
           "mode": "markers",
           "name": "Québec",
           "orientation": "v",
           "showlegend": true,
           "type": "scatter",
           "x": [
            0.34
           ],
           "xaxis": "x",
           "y": [
            175297
           ],
           "yaxis": "y"
          },
          {
           "hovertemplate": "Geography=Ontario<br>Time=2018Q1<br>DelinquencyRate=%{x}<br>AverageMortgageAmount=%{y}<br>PopulationSize=%{marker.size}<extra></extra>",
           "ids": [
            "Ontario"
           ],
           "legendgroup": "Ontario",
           "marker": {
            "color": "#19d3f3",
            "size": [
             14186830
            ],
            "sizemode": "area",
            "sizeref": 36835.035,
            "symbol": "circle"
           },
           "mode": "markers",
           "name": "Ontario",
           "orientation": "v",
           "showlegend": true,
           "type": "scatter",
           "x": [
            0.15
           ],
           "xaxis": "x",
           "y": [
            322179
           ],
           "yaxis": "y"
          },
          {
           "hovertemplate": "Geography=Manitoba<br>Time=2018Q1<br>DelinquencyRate=%{x}<br>AverageMortgageAmount=%{y}<br>PopulationSize=%{marker.size}<extra></extra>",
           "ids": [
            "Manitoba"
           ],
           "legendgroup": "Manitoba",
           "marker": {
            "color": "#FF6692",
            "size": [
             1344418
            ],
            "sizemode": "area",
            "sizeref": 36835.035,
            "symbol": "circle"
           },
           "mode": "markers",
           "name": "Manitoba",
           "orientation": "v",
           "showlegend": true,
           "type": "scatter",
           "x": [
            0.3
           ],
           "xaxis": "x",
           "y": [
            207988
           ],
           "yaxis": "y"
          },
          {
           "hovertemplate": "Geography=Saskatchewan<br>Time=2018Q1<br>DelinquencyRate=%{x}<br>AverageMortgageAmount=%{y}<br>PopulationSize=%{marker.size}<extra></extra>",
           "ids": [
            "Saskatchewan"
           ],
           "legendgroup": "Saskatchewan",
           "marker": {
            "color": "#B6E880",
            "size": [
             1156659
            ],
            "sizemode": "area",
            "sizeref": 36835.035,
            "symbol": "circle"
           },
           "mode": "markers",
           "name": "Saskatchewan",
           "orientation": "v",
           "showlegend": true,
           "type": "scatter",
           "x": [
            0.66
           ],
           "xaxis": "x",
           "y": [
            230702
           ],
           "yaxis": "y"
          },
          {
           "hovertemplate": "Geography=Alberta<br>Time=2018Q1<br>DelinquencyRate=%{x}<br>AverageMortgageAmount=%{y}<br>PopulationSize=%{marker.size}<extra></extra>",
           "ids": [
            "Alberta"
           ],
           "legendgroup": "Alberta",
           "marker": {
            "color": "#FF97FF",
            "size": [
             4268853
            ],
            "sizemode": "area",
            "sizeref": 36835.035,
            "symbol": "circle"
           },
           "mode": "markers",
           "name": "Alberta",
           "orientation": "v",
           "showlegend": true,
           "type": "scatter",
           "x": [
            0.5
           ],
           "xaxis": "x",
           "y": [
            302814
           ],
           "yaxis": "y"
          },
          {
           "hovertemplate": "Geography=British Columbia<br>Time=2018Q1<br>DelinquencyRate=%{x}<br>AverageMortgageAmount=%{y}<br>PopulationSize=%{marker.size}<extra></extra>",
           "ids": [
            "British Columbia"
           ],
           "legendgroup": "British Columbia",
           "marker": {
            "color": "#FECB52",
            "size": [
             4967421
            ],
            "sizemode": "area",
            "sizeref": 36835.035,
            "symbol": "circle"
           },
           "mode": "markers",
           "name": "British Columbia",
           "orientation": "v",
           "showlegend": true,
           "type": "scatter",
           "x": [
            0.17
           ],
           "xaxis": "x",
           "y": [
            384794
           ],
           "yaxis": "y"
          }
         ],
         "name": "2018Q1"
        },
        {
         "data": [
          {
           "hovertemplate": "Geography=Newfoundland<br>Time=2018Q2<br>DelinquencyRate=%{x}<br>AverageMortgageAmount=%{y}<br>PopulationSize=%{marker.size}<extra></extra>",
           "ids": [
            "Newfoundland"
           ],
           "legendgroup": "Newfoundland",
           "marker": {
            "color": "#636efa",
            "size": [
             526395
            ],
            "sizemode": "area",
            "sizeref": 36835.035,
            "symbol": "circle"
           },
           "mode": "markers",
           "name": "Newfoundland",
           "orientation": "v",
           "showlegend": true,
           "type": "scatter",
           "x": [
            0.6
           ],
           "xaxis": "x",
           "y": [
            192252
           ],
           "yaxis": "y"
          },
          {
           "hovertemplate": "Geography=Prince Edward Island<br>Time=2018Q2<br>DelinquencyRate=%{x}<br>AverageMortgageAmount=%{y}<br>PopulationSize=%{marker.size}<extra></extra>",
           "ids": [
            "Prince Edward Island"
           ],
           "legendgroup": "Prince Edward Island",
           "marker": {
            "color": "#EF553B",
            "size": [
             152039
            ],
            "sizemode": "area",
            "sizeref": 36835.035,
            "symbol": "circle"
           },
           "mode": "markers",
           "name": "Prince Edward Island",
           "orientation": "v",
           "showlegend": true,
           "type": "scatter",
           "x": [
            0.45
           ],
           "xaxis": "x",
           "y": [
            182114
           ],
           "yaxis": "y"
          },
          {
           "hovertemplate": "Geography=Nova Scotia<br>Time=2018Q2<br>DelinquencyRate=%{x}<br>AverageMortgageAmount=%{y}<br>PopulationSize=%{marker.size}<extra></extra>",
           "ids": [
            "Nova Scotia"
           ],
           "legendgroup": "Nova Scotia",
           "marker": {
            "color": "#00cc96",
            "size": [
             954618
            ],
            "sizemode": "area",
            "sizeref": 36835.035,
            "symbol": "circle"
           },
           "mode": "markers",
           "name": "Nova Scotia",
           "orientation": "v",
           "showlegend": true,
           "type": "scatter",
           "x": [
            0.54
           ],
           "xaxis": "x",
           "y": [
            179407
           ],
           "yaxis": "y"
          },
          {
           "hovertemplate": "Geography=New Brunswick<br>Time=2018Q2<br>DelinquencyRate=%{x}<br>AverageMortgageAmount=%{y}<br>PopulationSize=%{marker.size}<extra></extra>",
           "ids": [
            "New Brunswick"
           ],
           "legendgroup": "New Brunswick",
           "marker": {
            "color": "#ab63fa",
            "size": [
             768522
            ],
            "sizemode": "area",
            "sizeref": 36835.035,
            "symbol": "circle"
           },
           "mode": "markers",
           "name": "New Brunswick",
           "orientation": "v",
           "showlegend": true,
           "type": "scatter",
           "x": [
            0.59
           ],
           "xaxis": "x",
           "y": [
            139750
           ],
           "yaxis": "y"
          },
          {
           "hovertemplate": "Geography=Québec<br>Time=2018Q2<br>DelinquencyRate=%{x}<br>AverageMortgageAmount=%{y}<br>PopulationSize=%{marker.size}<extra></extra>",
           "ids": [
            "Québec"
           ],
           "legendgroup": "Québec",
           "marker": {
            "color": "#FFA15A",
            "size": [
             8367551
            ],
            "sizemode": "area",
            "sizeref": 36835.035,
            "symbol": "circle"
           },
           "mode": "markers",
           "name": "Québec",
           "orientation": "v",
           "showlegend": true,
           "type": "scatter",
           "x": [
            0.35
           ],
           "xaxis": "x",
           "y": [
            183507
           ],
           "yaxis": "y"
          },
          {
           "hovertemplate": "Geography=Ontario<br>Time=2018Q2<br>DelinquencyRate=%{x}<br>AverageMortgageAmount=%{y}<br>PopulationSize=%{marker.size}<extra></extra>",
           "ids": [
            "Ontario"
           ],
           "legendgroup": "Ontario",
           "marker": {
            "color": "#19d3f3",
            "size": [
             14235643
            ],
            "sizemode": "area",
            "sizeref": 36835.035,
            "symbol": "circle"
           },
           "mode": "markers",
           "name": "Ontario",
           "orientation": "v",
           "showlegend": true,
           "type": "scatter",
           "x": [
            0.14
           ],
           "xaxis": "x",
           "y": [
            315576
           ],
           "yaxis": "y"
          },
          {
           "hovertemplate": "Geography=Manitoba<br>Time=2018Q2<br>DelinquencyRate=%{x}<br>AverageMortgageAmount=%{y}<br>PopulationSize=%{marker.size}<extra></extra>",
           "ids": [
            "Manitoba"
           ],
           "legendgroup": "Manitoba",
           "marker": {
            "color": "#FF6692",
            "size": [
             1347055
            ],
            "sizemode": "area",
            "sizeref": 36835.035,
            "symbol": "circle"
           },
           "mode": "markers",
           "name": "Manitoba",
           "orientation": "v",
           "showlegend": true,
           "type": "scatter",
           "x": [
            0.31
           ],
           "xaxis": "x",
           "y": [
            207436
           ],
           "yaxis": "y"
          },
          {
           "hovertemplate": "Geography=Saskatchewan<br>Time=2018Q2<br>DelinquencyRate=%{x}<br>AverageMortgageAmount=%{y}<br>PopulationSize=%{marker.size}<extra></extra>",
           "ids": [
            "Saskatchewan"
           ],
           "legendgroup": "Saskatchewan",
           "marker": {
            "color": "#B6E880",
            "size": [
             1158451
            ],
            "sizemode": "area",
            "sizeref": 36835.035,
            "symbol": "circle"
           },
           "mode": "markers",
           "name": "Saskatchewan",
           "orientation": "v",
           "showlegend": true,
           "type": "scatter",
           "x": [
            0.67
           ],
           "xaxis": "x",
           "y": [
            229851
           ],
           "yaxis": "y"
          },
          {
           "hovertemplate": "Geography=Alberta<br>Time=2018Q2<br>DelinquencyRate=%{x}<br>AverageMortgageAmount=%{y}<br>PopulationSize=%{marker.size}<extra></extra>",
           "ids": [
            "Alberta"
           ],
           "legendgroup": "Alberta",
           "marker": {
            "color": "#FF97FF",
            "size": [
             4281706
            ],
            "sizemode": "area",
            "sizeref": 36835.035,
            "symbol": "circle"
           },
           "mode": "markers",
           "name": "Alberta",
           "orientation": "v",
           "showlegend": true,
           "type": "scatter",
           "x": [
            0.46
           ],
           "xaxis": "x",
           "y": [
            302116
           ],
           "yaxis": "y"
          },
          {
           "hovertemplate": "Geography=British Columbia<br>Time=2018Q2<br>DelinquencyRate=%{x}<br>AverageMortgageAmount=%{y}<br>PopulationSize=%{marker.size}<extra></extra>",
           "ids": [
            "British Columbia"
           ],
           "legendgroup": "British Columbia",
           "marker": {
            "color": "#FECB52",
            "size": [
             4983183
            ],
            "sizemode": "area",
            "sizeref": 36835.035,
            "symbol": "circle"
           },
           "mode": "markers",
           "name": "British Columbia",
           "orientation": "v",
           "showlegend": true,
           "type": "scatter",
           "x": [
            0.17
           ],
           "xaxis": "x",
           "y": [
            371860
           ],
           "yaxis": "y"
          }
         ],
         "name": "2018Q2"
        },
        {
         "data": [
          {
           "hovertemplate": "Geography=Newfoundland<br>Time=2018Q3<br>DelinquencyRate=%{x}<br>AverageMortgageAmount=%{y}<br>PopulationSize=%{marker.size}<extra></extra>",
           "ids": [
            "Newfoundland"
           ],
           "legendgroup": "Newfoundland",
           "marker": {
            "color": "#636efa",
            "size": [
             525560
            ],
            "sizemode": "area",
            "sizeref": 36835.035,
            "symbol": "circle"
           },
           "mode": "markers",
           "name": "Newfoundland",
           "orientation": "v",
           "showlegend": true,
           "type": "scatter",
           "x": [
            0.6
           ],
           "xaxis": "x",
           "y": [
            192106
           ],
           "yaxis": "y"
          },
          {
           "hovertemplate": "Geography=Prince Edward Island<br>Time=2018Q3<br>DelinquencyRate=%{x}<br>AverageMortgageAmount=%{y}<br>PopulationSize=%{marker.size}<extra></extra>",
           "ids": [
            "Prince Edward Island"
           ],
           "legendgroup": "Prince Edward Island",
           "marker": {
            "color": "#EF553B",
            "size": [
             153396
            ],
            "sizemode": "area",
            "sizeref": 36835.035,
            "symbol": "circle"
           },
           "mode": "markers",
           "name": "Prince Edward Island",
           "orientation": "v",
           "showlegend": true,
           "type": "scatter",
           "x": [
            0.43
           ],
           "xaxis": "x",
           "y": [
            181967
           ],
           "yaxis": "y"
          },
          {
           "hovertemplate": "Geography=Nova Scotia<br>Time=2018Q3<br>DelinquencyRate=%{x}<br>AverageMortgageAmount=%{y}<br>PopulationSize=%{marker.size}<extra></extra>",
           "ids": [
            "Nova Scotia"
           ],
           "legendgroup": "Nova Scotia",
           "marker": {
            "color": "#00cc96",
            "size": [
             958406
            ],
            "sizemode": "area",
            "sizeref": 36835.035,
            "symbol": "circle"
           },
           "mode": "markers",
           "name": "Nova Scotia",
           "orientation": "v",
           "showlegend": true,
           "type": "scatter",
           "x": [
            0.52
           ],
           "xaxis": "x",
           "y": [
            190443
           ],
           "yaxis": "y"
          },
          {
           "hovertemplate": "Geography=New Brunswick<br>Time=2018Q3<br>DelinquencyRate=%{x}<br>AverageMortgageAmount=%{y}<br>PopulationSize=%{marker.size}<extra></extra>",
           "ids": [
            "New Brunswick"
           ],
           "legendgroup": "New Brunswick",
           "marker": {
            "color": "#ab63fa",
            "size": [
             770301
            ],
            "sizemode": "area",
            "sizeref": 36835.035,
            "symbol": "circle"
           },
           "mode": "markers",
           "name": "New Brunswick",
           "orientation": "v",
           "showlegend": true,
           "type": "scatter",
           "x": [
            0.58
           ],
           "xaxis": "x",
           "y": [
            150353
           ],
           "yaxis": "y"
          },
          {
           "hovertemplate": "Geography=Québec<br>Time=2018Q3<br>DelinquencyRate=%{x}<br>AverageMortgageAmount=%{y}<br>PopulationSize=%{marker.size}<extra></extra>",
           "ids": [
            "Québec"
           ],
           "legendgroup": "Québec",
           "marker": {
            "color": "#FFA15A",
            "size": [
             8401738
            ],
            "sizemode": "area",
            "sizeref": 36835.035,
            "symbol": "circle"
           },
           "mode": "markers",
           "name": "Québec",
           "orientation": "v",
           "showlegend": true,
           "type": "scatter",
           "x": [
            0.35
           ],
           "xaxis": "x",
           "y": [
            187727
           ],
           "yaxis": "y"
          },
          {
           "hovertemplate": "Geography=Ontario<br>Time=2018Q3<br>DelinquencyRate=%{x}<br>AverageMortgageAmount=%{y}<br>PopulationSize=%{marker.size}<extra></extra>",
           "ids": [
            "Ontario"
           ],
           "legendgroup": "Ontario",
           "marker": {
            "color": "#19d3f3",
            "size": [
             14308697
            ],
            "sizemode": "area",
            "sizeref": 36835.035,
            "symbol": "circle"
           },
           "mode": "markers",
           "name": "Ontario",
           "orientation": "v",
           "showlegend": true,
           "type": "scatter",
           "x": [
            0.13
           ],
           "xaxis": "x",
           "y": [
            327367
           ],
           "yaxis": "y"
          },
          {
           "hovertemplate": "Geography=Manitoba<br>Time=2018Q3<br>DelinquencyRate=%{x}<br>AverageMortgageAmount=%{y}<br>PopulationSize=%{marker.size}<extra></extra>",
           "ids": [
            "Manitoba"
           ],
           "legendgroup": "Manitoba",
           "marker": {
            "color": "#FF6692",
            "size": [
             1352825
            ],
            "sizemode": "area",
            "sizeref": 36835.035,
            "symbol": "circle"
           },
           "mode": "markers",
           "name": "Manitoba",
           "orientation": "v",
           "showlegend": true,
           "type": "scatter",
           "x": [
            0.32
           ],
           "xaxis": "x",
           "y": [
            220454
           ],
           "yaxis": "y"
          },
          {
           "hovertemplate": "Geography=Saskatchewan<br>Time=2018Q3<br>DelinquencyRate=%{x}<br>AverageMortgageAmount=%{y}<br>PopulationSize=%{marker.size}<extra></extra>",
           "ids": [
            "Saskatchewan"
           ],
           "legendgroup": "Saskatchewan",
           "marker": {
            "color": "#B6E880",
            "size": [
             1161767
            ],
            "sizemode": "area",
            "sizeref": 36835.035,
            "symbol": "circle"
           },
           "mode": "markers",
           "name": "Saskatchewan",
           "orientation": "v",
           "showlegend": true,
           "type": "scatter",
           "x": [
            0.7
           ],
           "xaxis": "x",
           "y": [
            233255
           ],
           "yaxis": "y"
          },
          {
           "hovertemplate": "Geography=Alberta<br>Time=2018Q3<br>DelinquencyRate=%{x}<br>AverageMortgageAmount=%{y}<br>PopulationSize=%{marker.size}<extra></extra>",
           "ids": [
            "Alberta"
           ],
           "legendgroup": "Alberta",
           "marker": {
            "color": "#FF97FF",
            "size": [
             4298275
            ],
            "sizemode": "area",
            "sizeref": 36835.035,
            "symbol": "circle"
           },
           "mode": "markers",
           "name": "Alberta",
           "orientation": "v",
           "showlegend": true,
           "type": "scatter",
           "x": [
            0.47
           ],
           "xaxis": "x",
           "y": [
            305101
           ],
           "yaxis": "y"
          },
          {
           "hovertemplate": "Geography=British Columbia<br>Time=2018Q3<br>DelinquencyRate=%{x}<br>AverageMortgageAmount=%{y}<br>PopulationSize=%{marker.size}<extra></extra>",
           "ids": [
            "British Columbia"
           ],
           "legendgroup": "British Columbia",
           "marker": {
            "color": "#FECB52",
            "size": [
             5010476
            ],
            "sizemode": "area",
            "sizeref": 36835.035,
            "symbol": "circle"
           },
           "mode": "markers",
           "name": "British Columbia",
           "orientation": "v",
           "showlegend": true,
           "type": "scatter",
           "x": [
            0.16
           ],
           "xaxis": "x",
           "y": [
            378187
           ],
           "yaxis": "y"
          }
         ],
         "name": "2018Q3"
        },
        {
         "data": [
          {
           "hovertemplate": "Geography=Newfoundland<br>Time=2018Q4<br>DelinquencyRate=%{x}<br>AverageMortgageAmount=%{y}<br>PopulationSize=%{marker.size}<extra></extra>",
           "ids": [
            "Newfoundland"
           ],
           "legendgroup": "Newfoundland",
           "marker": {
            "color": "#636efa",
            "size": [
             525765
            ],
            "sizemode": "area",
            "sizeref": 36835.035,
            "symbol": "circle"
           },
           "mode": "markers",
           "name": "Newfoundland",
           "orientation": "v",
           "showlegend": true,
           "type": "scatter",
           "x": [
            0.62
           ],
           "xaxis": "x",
           "y": [
            188614
           ],
           "yaxis": "y"
          },
          {
           "hovertemplate": "Geography=Prince Edward Island<br>Time=2018Q4<br>DelinquencyRate=%{x}<br>AverageMortgageAmount=%{y}<br>PopulationSize=%{marker.size}<extra></extra>",
           "ids": [
            "Prince Edward Island"
           ],
           "legendgroup": "Prince Edward Island",
           "marker": {
            "color": "#EF553B",
            "size": [
             155129
            ],
            "sizemode": "area",
            "sizeref": 36835.035,
            "symbol": "circle"
           },
           "mode": "markers",
           "name": "Prince Edward Island",
           "orientation": "v",
           "showlegend": true,
           "type": "scatter",
           "x": [
            0.39
           ],
           "xaxis": "x",
           "y": [
            178140
           ],
           "yaxis": "y"
          },
          {
           "hovertemplate": "Geography=Nova Scotia<br>Time=2018Q4<br>DelinquencyRate=%{x}<br>AverageMortgageAmount=%{y}<br>PopulationSize=%{marker.size}<extra></extra>",
           "ids": [
            "Nova Scotia"
           ],
           "legendgroup": "Nova Scotia",
           "marker": {
            "color": "#00cc96",
            "size": [
             963309
            ],
            "sizemode": "area",
            "sizeref": 36835.035,
            "symbol": "circle"
           },
           "mode": "markers",
           "name": "Nova Scotia",
           "orientation": "v",
           "showlegend": true,
           "type": "scatter",
           "x": [
            0.56
           ],
           "xaxis": "x",
           "y": [
            179921
           ],
           "yaxis": "y"
          },
          {
           "hovertemplate": "Geography=New Brunswick<br>Time=2018Q4<br>DelinquencyRate=%{x}<br>AverageMortgageAmount=%{y}<br>PopulationSize=%{marker.size}<extra></extra>",
           "ids": [
            "New Brunswick"
           ],
           "legendgroup": "New Brunswick",
           "marker": {
            "color": "#ab63fa",
            "size": [
             772524
            ],
            "sizemode": "area",
            "sizeref": 36835.035,
            "symbol": "circle"
           },
           "mode": "markers",
           "name": "New Brunswick",
           "orientation": "v",
           "showlegend": true,
           "type": "scatter",
           "x": [
            0.62
           ],
           "xaxis": "x",
           "y": [
            143324
           ],
           "yaxis": "y"
          },
          {
           "hovertemplate": "Geography=Québec<br>Time=2018Q4<br>DelinquencyRate=%{x}<br>AverageMortgageAmount=%{y}<br>PopulationSize=%{marker.size}<extra></extra>",
           "ids": [
            "Québec"
           ],
           "legendgroup": "Québec",
           "marker": {
            "color": "#FFA15A",
            "size": [
             8433888
            ],
            "sizemode": "area",
            "sizeref": 36835.035,
            "symbol": "circle"
           },
           "mode": "markers",
           "name": "Québec",
           "orientation": "v",
           "showlegend": true,
           "type": "scatter",
           "x": [
            0.38
           ],
           "xaxis": "x",
           "y": [
            173911
           ],
           "yaxis": "y"
          },
          {
           "hovertemplate": "Geography=Ontario<br>Time=2018Q4<br>DelinquencyRate=%{x}<br>AverageMortgageAmount=%{y}<br>PopulationSize=%{marker.size}<extra></extra>",
           "ids": [
            "Ontario"
           ],
           "legendgroup": "Ontario",
           "marker": {
            "color": "#19d3f3",
            "size": [
             14393683
            ],
            "sizemode": "area",
            "sizeref": 36835.035,
            "symbol": "circle"
           },
           "mode": "markers",
           "name": "Ontario",
           "orientation": "v",
           "showlegend": true,
           "type": "scatter",
           "x": [
            0.14
           ],
           "xaxis": "x",
           "y": [
            321579
           ],
           "yaxis": "y"
          },
          {
           "hovertemplate": "Geography=Manitoba<br>Time=2018Q4<br>DelinquencyRate=%{x}<br>AverageMortgageAmount=%{y}<br>PopulationSize=%{marker.size}<extra></extra>",
           "ids": [
            "Manitoba"
           ],
           "legendgroup": "Manitoba",
           "marker": {
            "color": "#FF6692",
            "size": [
             1357879
            ],
            "sizemode": "area",
            "sizeref": 36835.035,
            "symbol": "circle"
           },
           "mode": "markers",
           "name": "Manitoba",
           "orientation": "v",
           "showlegend": true,
           "type": "scatter",
           "x": [
            0.35
           ],
           "xaxis": "x",
           "y": [
            214060
           ],
           "yaxis": "y"
          },
          {
           "hovertemplate": "Geography=Saskatchewan<br>Time=2018Q4<br>DelinquencyRate=%{x}<br>AverageMortgageAmount=%{y}<br>PopulationSize=%{marker.size}<extra></extra>",
           "ids": [
            "Saskatchewan"
           ],
           "legendgroup": "Saskatchewan",
           "marker": {
            "color": "#B6E880",
            "size": [
             1165938
            ],
            "sizemode": "area",
            "sizeref": 36835.035,
            "symbol": "circle"
           },
           "mode": "markers",
           "name": "Saskatchewan",
           "orientation": "v",
           "showlegend": true,
           "type": "scatter",
           "x": [
            0.72
           ],
           "xaxis": "x",
           "y": [
            223628
           ],
           "yaxis": "y"
          },
          {
           "hovertemplate": "Geography=Alberta<br>Time=2018Q4<br>DelinquencyRate=%{x}<br>AverageMortgageAmount=%{y}<br>PopulationSize=%{marker.size}<extra></extra>",
           "ids": [
            "Alberta"
           ],
           "legendgroup": "Alberta",
           "marker": {
            "color": "#FF97FF",
            "size": [
             4317453
            ],
            "sizemode": "area",
            "sizeref": 36835.035,
            "symbol": "circle"
           },
           "mode": "markers",
           "name": "Alberta",
           "orientation": "v",
           "showlegend": true,
           "type": "scatter",
           "x": [
            0.5
           ],
           "xaxis": "x",
           "y": [
            295839
           ],
           "yaxis": "y"
          },
          {
           "hovertemplate": "Geography=British Columbia<br>Time=2018Q4<br>DelinquencyRate=%{x}<br>AverageMortgageAmount=%{y}<br>PopulationSize=%{marker.size}<extra></extra>",
           "ids": [
            "British Columbia"
           ],
           "legendgroup": "British Columbia",
           "marker": {
            "color": "#FECB52",
            "size": [
             5039661
            ],
            "sizemode": "area",
            "sizeref": 36835.035,
            "symbol": "circle"
           },
           "mode": "markers",
           "name": "British Columbia",
           "orientation": "v",
           "showlegend": true,
           "type": "scatter",
           "x": [
            0.17
           ],
           "xaxis": "x",
           "y": [
            364330
           ],
           "yaxis": "y"
          }
         ],
         "name": "2018Q4"
        },
        {
         "data": [
          {
           "hovertemplate": "Geography=Newfoundland<br>Time=2019Q1<br>DelinquencyRate=%{x}<br>AverageMortgageAmount=%{y}<br>PopulationSize=%{marker.size}<extra></extra>",
           "ids": [
            "Newfoundland"
           ],
           "legendgroup": "Newfoundland",
           "marker": {
            "color": "#636efa",
            "size": [
             524883
            ],
            "sizemode": "area",
            "sizeref": 36835.035,
            "symbol": "circle"
           },
           "mode": "markers",
           "name": "Newfoundland",
           "orientation": "v",
           "showlegend": true,
           "type": "scatter",
           "x": [
            0.64
           ],
           "xaxis": "x",
           "y": [
            185276
           ],
           "yaxis": "y"
          },
          {
           "hovertemplate": "Geography=Prince Edward Island<br>Time=2019Q1<br>DelinquencyRate=%{x}<br>AverageMortgageAmount=%{y}<br>PopulationSize=%{marker.size}<extra></extra>",
           "ids": [
            "Prince Edward Island"
           ],
           "legendgroup": "Prince Edward Island",
           "marker": {
            "color": "#EF553B",
            "size": [
             155244
            ],
            "sizemode": "area",
            "sizeref": 36835.035,
            "symbol": "circle"
           },
           "mode": "markers",
           "name": "Prince Edward Island",
           "orientation": "v",
           "showlegend": true,
           "type": "scatter",
           "x": [
            0.39
           ],
           "xaxis": "x",
           "y": [
            181172
           ],
           "yaxis": "y"
          },
          {
           "hovertemplate": "Geography=Nova Scotia<br>Time=2019Q1<br>DelinquencyRate=%{x}<br>AverageMortgageAmount=%{y}<br>PopulationSize=%{marker.size}<extra></extra>",
           "ids": [
            "Nova Scotia"
           ],
           "legendgroup": "Nova Scotia",
           "marker": {
            "color": "#00cc96",
            "size": [
             963890
            ],
            "sizemode": "area",
            "sizeref": 36835.035,
            "symbol": "circle"
           },
           "mode": "markers",
           "name": "Nova Scotia",
           "orientation": "v",
           "showlegend": true,
           "type": "scatter",
           "x": [
            0.54
           ],
           "xaxis": "x",
           "y": [
            177863
           ],
           "yaxis": "y"
          },
          {
           "hovertemplate": "Geography=New Brunswick<br>Time=2019Q1<br>DelinquencyRate=%{x}<br>AverageMortgageAmount=%{y}<br>PopulationSize=%{marker.size}<extra></extra>",
           "ids": [
            "New Brunswick"
           ],
           "legendgroup": "New Brunswick",
           "marker": {
            "color": "#ab63fa",
            "size": [
             772748
            ],
            "sizemode": "area",
            "sizeref": 36835.035,
            "symbol": "circle"
           },
           "mode": "markers",
           "name": "New Brunswick",
           "orientation": "v",
           "showlegend": true,
           "type": "scatter",
           "x": [
            0.63
           ],
           "xaxis": "x",
           "y": [
            140850
           ],
           "yaxis": "y"
          },
          {
           "hovertemplate": "Geography=Québec<br>Time=2019Q1<br>DelinquencyRate=%{x}<br>AverageMortgageAmount=%{y}<br>PopulationSize=%{marker.size}<extra></extra>",
           "ids": [
            "Québec"
           ],
           "legendgroup": "Québec",
           "marker": {
            "color": "#FFA15A",
            "size": [
             8446906
            ],
            "sizemode": "area",
            "sizeref": 36835.035,
            "symbol": "circle"
           },
           "mode": "markers",
           "name": "Québec",
           "orientation": "v",
           "showlegend": true,
           "type": "scatter",
           "x": [
            0.38
           ],
           "xaxis": "x",
           "y": [
            175658
           ],
           "yaxis": "y"
          },
          {
           "hovertemplate": "Geography=Ontario<br>Time=2019Q1<br>DelinquencyRate=%{x}<br>AverageMortgageAmount=%{y}<br>PopulationSize=%{marker.size}<extra></extra>",
           "ids": [
            "Ontario"
           ],
           "legendgroup": "Ontario",
           "marker": {
            "color": "#19d3f3",
            "size": [
             14428712
            ],
            "sizemode": "area",
            "sizeref": 36835.035,
            "symbol": "circle"
           },
           "mode": "markers",
           "name": "Ontario",
           "orientation": "v",
           "showlegend": true,
           "type": "scatter",
           "x": [
            0.14
           ],
           "xaxis": "x",
           "y": [
            321074
           ],
           "yaxis": "y"
          },
          {
           "hovertemplate": "Geography=Manitoba<br>Time=2019Q1<br>DelinquencyRate=%{x}<br>AverageMortgageAmount=%{y}<br>PopulationSize=%{marker.size}<extra></extra>",
           "ids": [
            "Manitoba"
           ],
           "legendgroup": "Manitoba",
           "marker": {
            "color": "#FF6692",
            "size": [
             1361632
            ],
            "sizemode": "area",
            "sizeref": 36835.035,
            "symbol": "circle"
           },
           "mode": "markers",
           "name": "Manitoba",
           "orientation": "v",
           "showlegend": true,
           "type": "scatter",
           "x": [
            0.35
           ],
           "xaxis": "x",
           "y": [
            206692
           ],
           "yaxis": "y"
          },
          {
           "hovertemplate": "Geography=Saskatchewan<br>Time=2019Q1<br>DelinquencyRate=%{x}<br>AverageMortgageAmount=%{y}<br>PopulationSize=%{marker.size}<extra></extra>",
           "ids": [
            "Saskatchewan"
           ],
           "legendgroup": "Saskatchewan",
           "marker": {
            "color": "#B6E880",
            "size": [
             1168461
            ],
            "sizemode": "area",
            "sizeref": 36835.035,
            "symbol": "circle"
           },
           "mode": "markers",
           "name": "Saskatchewan",
           "orientation": "v",
           "showlegend": true,
           "type": "scatter",
           "x": [
            0.74
           ],
           "xaxis": "x",
           "y": [
            217157
           ],
           "yaxis": "y"
          },
          {
           "hovertemplate": "Geography=Alberta<br>Time=2019Q1<br>DelinquencyRate=%{x}<br>AverageMortgageAmount=%{y}<br>PopulationSize=%{marker.size}<extra></extra>",
           "ids": [
            "Alberta"
           ],
           "legendgroup": "Alberta",
           "marker": {
            "color": "#FF97FF",
            "size": [
             4330698
            ],
            "sizemode": "area",
            "sizeref": 36835.035,
            "symbol": "circle"
           },
           "mode": "markers",
           "name": "Alberta",
           "orientation": "v",
           "showlegend": true,
           "type": "scatter",
           "x": [
            0.51
           ],
           "xaxis": "x",
           "y": [
            291721
           ],
           "yaxis": "y"
          },
          {
           "hovertemplate": "Geography=British Columbia<br>Time=2019Q1<br>DelinquencyRate=%{x}<br>AverageMortgageAmount=%{y}<br>PopulationSize=%{marker.size}<extra></extra>",
           "ids": [
            "British Columbia"
           ],
           "legendgroup": "British Columbia",
           "marker": {
            "color": "#FECB52",
            "size": [
             5046576
            ],
            "sizemode": "area",
            "sizeref": 36835.035,
            "symbol": "circle"
           },
           "mode": "markers",
           "name": "British Columbia",
           "orientation": "v",
           "showlegend": true,
           "type": "scatter",
           "x": [
            0.17
           ],
           "xaxis": "x",
           "y": [
            363239
           ],
           "yaxis": "y"
          }
         ],
         "name": "2019Q1"
        },
        {
         "data": [
          {
           "hovertemplate": "Geography=Newfoundland<br>Time=2019Q2<br>DelinquencyRate=%{x}<br>AverageMortgageAmount=%{y}<br>PopulationSize=%{marker.size}<extra></extra>",
           "ids": [
            "Newfoundland"
           ],
           "legendgroup": "Newfoundland",
           "marker": {
            "color": "#636efa",
            "size": [
             524126
            ],
            "sizemode": "area",
            "sizeref": 36835.035,
            "symbol": "circle"
           },
           "mode": "markers",
           "name": "Newfoundland",
           "orientation": "v",
           "showlegend": true,
           "type": "scatter",
           "x": [
            0.65
           ],
           "xaxis": "x",
           "y": [
            190582
           ],
           "yaxis": "y"
          },
          {
           "hovertemplate": "Geography=Prince Edward Island<br>Time=2019Q2<br>DelinquencyRate=%{x}<br>AverageMortgageAmount=%{y}<br>PopulationSize=%{marker.size}<extra></extra>",
           "ids": [
            "Prince Edward Island"
           ],
           "legendgroup": "Prince Edward Island",
           "marker": {
            "color": "#EF553B",
            "size": [
             155833
            ],
            "sizemode": "area",
            "sizeref": 36835.035,
            "symbol": "circle"
           },
           "mode": "markers",
           "name": "Prince Edward Island",
           "orientation": "v",
           "showlegend": true,
           "type": "scatter",
           "x": [
            0.38
           ],
           "xaxis": "x",
           "y": [
            181358
           ],
           "yaxis": "y"
          },
          {
           "hovertemplate": "Geography=Nova Scotia<br>Time=2019Q2<br>DelinquencyRate=%{x}<br>AverageMortgageAmount=%{y}<br>PopulationSize=%{marker.size}<extra></extra>",
           "ids": [
            "Nova Scotia"
           ],
           "legendgroup": "Nova Scotia",
           "marker": {
            "color": "#00cc96",
            "size": [
             965287
            ],
            "sizemode": "area",
            "sizeref": 36835.035,
            "symbol": "circle"
           },
           "mode": "markers",
           "name": "Nova Scotia",
           "orientation": "v",
           "showlegend": true,
           "type": "scatter",
           "x": [
            0.52
           ],
           "xaxis": "x",
           "y": [
            180958
           ],
           "yaxis": "y"
          },
          {
           "hovertemplate": "Geography=New Brunswick<br>Time=2019Q2<br>DelinquencyRate=%{x}<br>AverageMortgageAmount=%{y}<br>PopulationSize=%{marker.size}<extra></extra>",
           "ids": [
            "New Brunswick"
           ],
           "legendgroup": "New Brunswick",
           "marker": {
            "color": "#ab63fa",
            "size": [
             773805
            ],
            "sizemode": "area",
            "sizeref": 36835.035,
            "symbol": "circle"
           },
           "mode": "markers",
           "name": "New Brunswick",
           "orientation": "v",
           "showlegend": true,
           "type": "scatter",
           "x": [
            0.6
           ],
           "xaxis": "x",
           "y": [
            137809
           ],
           "yaxis": "y"
          },
          {
           "hovertemplate": "Geography=Québec<br>Time=2019Q2<br>DelinquencyRate=%{x}<br>AverageMortgageAmount=%{y}<br>PopulationSize=%{marker.size}<extra></extra>",
           "ids": [
            "Québec"
           ],
           "legendgroup": "Québec",
           "marker": {
            "color": "#FFA15A",
            "size": [
             8465271
            ],
            "sizemode": "area",
            "sizeref": 36835.035,
            "symbol": "circle"
           },
           "mode": "markers",
           "name": "Québec",
           "orientation": "v",
           "showlegend": true,
           "type": "scatter",
           "x": [
            0.37
           ],
           "xaxis": "x",
           "y": [
            179523
           ],
           "yaxis": "y"
          },
          {
           "hovertemplate": "Geography=Ontario<br>Time=2019Q2<br>DelinquencyRate=%{x}<br>AverageMortgageAmount=%{y}<br>PopulationSize=%{marker.size}<extra></extra>",
           "ids": [
            "Ontario"
           ],
           "legendgroup": "Ontario",
           "marker": {
            "color": "#19d3f3",
            "size": [
             14467162
            ],
            "sizemode": "area",
            "sizeref": 36835.035,
            "symbol": "circle"
           },
           "mode": "markers",
           "name": "Ontario",
           "orientation": "v",
           "showlegend": true,
           "type": "scatter",
           "x": [
            0.14
           ],
           "xaxis": "x",
           "y": [
            324080
           ],
           "yaxis": "y"
          },
          {
           "hovertemplate": "Geography=Manitoba<br>Time=2019Q2<br>DelinquencyRate=%{x}<br>AverageMortgageAmount=%{y}<br>PopulationSize=%{marker.size}<extra></extra>",
           "ids": [
            "Manitoba"
           ],
           "legendgroup": "Manitoba",
           "marker": {
            "color": "#FF6692",
            "size": [
             1364223
            ],
            "sizemode": "area",
            "sizeref": 36835.035,
            "symbol": "circle"
           },
           "mode": "markers",
           "name": "Manitoba",
           "orientation": "v",
           "showlegend": true,
           "type": "scatter",
           "x": [
            0.35
           ],
           "xaxis": "x",
           "y": [
            214873
           ],
           "yaxis": "y"
          },
          {
           "hovertemplate": "Geography=Saskatchewan<br>Time=2019Q2<br>DelinquencyRate=%{x}<br>AverageMortgageAmount=%{y}<br>PopulationSize=%{marker.size}<extra></extra>",
           "ids": [
            "Saskatchewan"
           ],
           "legendgroup": "Saskatchewan",
           "marker": {
            "color": "#B6E880",
            "size": [
             1169286
            ],
            "sizemode": "area",
            "sizeref": 36835.035,
            "symbol": "circle"
           },
           "mode": "markers",
           "name": "Saskatchewan",
           "orientation": "v",
           "showlegend": true,
           "type": "scatter",
           "x": [
            0.75
           ],
           "xaxis": "x",
           "y": [
            216369
           ],
           "yaxis": "y"
          },
          {
           "hovertemplate": "Geography=Alberta<br>Time=2019Q2<br>DelinquencyRate=%{x}<br>AverageMortgageAmount=%{y}<br>PopulationSize=%{marker.size}<extra></extra>",
           "ids": [
            "Alberta"
           ],
           "legendgroup": "Alberta",
           "marker": {
            "color": "#FF97FF",
            "size": [
             4343951
            ],
            "sizemode": "area",
            "sizeref": 36835.035,
            "symbol": "circle"
           },
           "mode": "markers",
           "name": "Alberta",
           "orientation": "v",
           "showlegend": true,
           "type": "scatter",
           "x": [
            0.53
           ],
           "xaxis": "x",
           "y": [
            293612
           ],
           "yaxis": "y"
          },
          {
           "hovertemplate": "Geography=British Columbia<br>Time=2019Q2<br>DelinquencyRate=%{x}<br>AverageMortgageAmount=%{y}<br>PopulationSize=%{marker.size}<extra></extra>",
           "ids": [
            "British Columbia"
           ],
           "legendgroup": "British Columbia",
           "marker": {
            "color": "#FECB52",
            "size": [
             5063527
            ],
            "sizemode": "area",
            "sizeref": 36835.035,
            "symbol": "circle"
           },
           "mode": "markers",
           "name": "British Columbia",
           "orientation": "v",
           "showlegend": true,
           "type": "scatter",
           "x": [
            0.17
           ],
           "xaxis": "x",
           "y": [
            363924
           ],
           "yaxis": "y"
          }
         ],
         "name": "2019Q2"
        },
        {
         "data": [
          {
           "hovertemplate": "Geography=Newfoundland<br>Time=2019Q3<br>DelinquencyRate=%{x}<br>AverageMortgageAmount=%{y}<br>PopulationSize=%{marker.size}<extra></extra>",
           "ids": [
            "Newfoundland"
           ],
           "legendgroup": "Newfoundland",
           "marker": {
            "color": "#636efa",
            "size": [
             523476
            ],
            "sizemode": "area",
            "sizeref": 36835.035,
            "symbol": "circle"
           },
           "mode": "markers",
           "name": "Newfoundland",
           "orientation": "v",
           "showlegend": true,
           "type": "scatter",
           "x": [
            0.65
           ],
           "xaxis": "x",
           "y": [
            194536
           ],
           "yaxis": "y"
          },
          {
           "hovertemplate": "Geography=Prince Edward Island<br>Time=2019Q3<br>DelinquencyRate=%{x}<br>AverageMortgageAmount=%{y}<br>PopulationSize=%{marker.size}<extra></extra>",
           "ids": [
            "Prince Edward Island"
           ],
           "legendgroup": "Prince Edward Island",
           "marker": {
            "color": "#EF553B",
            "size": [
             157262
            ],
            "sizemode": "area",
            "sizeref": 36835.035,
            "symbol": "circle"
           },
           "mode": "markers",
           "name": "Prince Edward Island",
           "orientation": "v",
           "showlegend": true,
           "type": "scatter",
           "x": [
            0.34
           ],
           "xaxis": "x",
           "y": [
            190715
           ],
           "yaxis": "y"
          },
          {
           "hovertemplate": "Geography=Nova Scotia<br>Time=2019Q3<br>DelinquencyRate=%{x}<br>AverageMortgageAmount=%{y}<br>PopulationSize=%{marker.size}<extra></extra>",
           "ids": [
            "Nova Scotia"
           ],
           "legendgroup": "Nova Scotia",
           "marker": {
            "color": "#00cc96",
            "size": [
             969747
            ],
            "sizemode": "area",
            "sizeref": 36835.035,
            "symbol": "circle"
           },
           "mode": "markers",
           "name": "Nova Scotia",
           "orientation": "v",
           "showlegend": true,
           "type": "scatter",
           "x": [
            0.5
           ],
           "xaxis": "x",
           "y": [
            193586
           ],
           "yaxis": "y"
          },
          {
           "hovertemplate": "Geography=New Brunswick<br>Time=2019Q3<br>DelinquencyRate=%{x}<br>AverageMortgageAmount=%{y}<br>PopulationSize=%{marker.size}<extra></extra>",
           "ids": [
            "New Brunswick"
           ],
           "legendgroup": "New Brunswick",
           "marker": {
            "color": "#ab63fa",
            "size": [
             776868
            ],
            "sizemode": "area",
            "sizeref": 36835.035,
            "symbol": "circle"
           },
           "mode": "markers",
           "name": "New Brunswick",
           "orientation": "v",
           "showlegend": true,
           "type": "scatter",
           "x": [
            0.57
           ],
           "xaxis": "x",
           "y": [
            152606
           ],
           "yaxis": "y"
          },
          {
           "hovertemplate": "Geography=Québec<br>Time=2019Q3<br>DelinquencyRate=%{x}<br>AverageMortgageAmount=%{y}<br>PopulationSize=%{marker.size}<extra></extra>",
           "ids": [
            "Québec"
           ],
           "legendgroup": "Québec",
           "marker": {
            "color": "#FFA15A",
            "size": [
             8501703
            ],
            "sizemode": "area",
            "sizeref": 36835.035,
            "symbol": "circle"
           },
           "mode": "markers",
           "name": "Québec",
           "orientation": "v",
           "showlegend": true,
           "type": "scatter",
           "x": [
            0.37
           ],
           "xaxis": "x",
           "y": [
            187136
           ],
           "yaxis": "y"
          },
          {
           "hovertemplate": "Geography=Ontario<br>Time=2019Q3<br>DelinquencyRate=%{x}<br>AverageMortgageAmount=%{y}<br>PopulationSize=%{marker.size}<extra></extra>",
           "ids": [
            "Ontario"
           ],
           "legendgroup": "Ontario",
           "marker": {
            "color": "#19d3f3",
            "size": [
             14544718
            ],
            "sizemode": "area",
            "sizeref": 36835.035,
            "symbol": "circle"
           },
           "mode": "markers",
           "name": "Ontario",
           "orientation": "v",
           "showlegend": true,
           "type": "scatter",
           "x": [
            0.14
           ],
           "xaxis": "x",
           "y": [
            343117
           ],
           "yaxis": "y"
          },
          {
           "hovertemplate": "Geography=Manitoba<br>Time=2019Q3<br>DelinquencyRate=%{x}<br>AverageMortgageAmount=%{y}<br>PopulationSize=%{marker.size}<extra></extra>",
           "ids": [
            "Manitoba"
           ],
           "legendgroup": "Manitoba",
           "marker": {
            "color": "#FF6692",
            "size": [
             1369540
            ],
            "sizemode": "area",
            "sizeref": 36835.035,
            "symbol": "circle"
           },
           "mode": "markers",
           "name": "Manitoba",
           "orientation": "v",
           "showlegend": true,
           "type": "scatter",
           "x": [
            0.34
           ],
           "xaxis": "x",
           "y": [
            222637
           ],
           "yaxis": "y"
          },
          {
           "hovertemplate": "Geography=Saskatchewan<br>Time=2019Q3<br>DelinquencyRate=%{x}<br>AverageMortgageAmount=%{y}<br>PopulationSize=%{marker.size}<extra></extra>",
           "ids": [
            "Saskatchewan"
           ],
           "legendgroup": "Saskatchewan",
           "marker": {
            "color": "#B6E880",
            "size": [
             1172302
            ],
            "sizemode": "area",
            "sizeref": 36835.035,
            "symbol": "circle"
           },
           "mode": "markers",
           "name": "Saskatchewan",
           "orientation": "v",
           "showlegend": true,
           "type": "scatter",
           "x": [
            0.73
           ],
           "xaxis": "x",
           "y": [
            228721
           ],
           "yaxis": "y"
          },
          {
           "hovertemplate": "Geography=Alberta<br>Time=2019Q3<br>DelinquencyRate=%{x}<br>AverageMortgageAmount=%{y}<br>PopulationSize=%{marker.size}<extra></extra>",
           "ids": [
            "Alberta"
           ],
           "legendgroup": "Alberta",
           "marker": {
            "color": "#FF97FF",
            "size": [
             4361694
            ],
            "sizemode": "area",
            "sizeref": 36835.035,
            "symbol": "circle"
           },
           "mode": "markers",
           "name": "Alberta",
           "orientation": "v",
           "showlegend": true,
           "type": "scatter",
           "x": [
            0.51
           ],
           "xaxis": "x",
           "y": [
            297609
           ],
           "yaxis": "y"
          },
          {
           "hovertemplate": "Geography=British Columbia<br>Time=2019Q3<br>DelinquencyRate=%{x}<br>AverageMortgageAmount=%{y}<br>PopulationSize=%{marker.size}<extra></extra>",
           "ids": [
            "British Columbia"
           ],
           "legendgroup": "British Columbia",
           "marker": {
            "color": "#FECB52",
            "size": [
             5090955
            ],
            "sizemode": "area",
            "sizeref": 36835.035,
            "symbol": "circle"
           },
           "mode": "markers",
           "name": "British Columbia",
           "orientation": "v",
           "showlegend": true,
           "type": "scatter",
           "x": [
            0.16
           ],
           "xaxis": "x",
           "y": [
            376343
           ],
           "yaxis": "y"
          }
         ],
         "name": "2019Q3"
        },
        {
         "data": [
          {
           "hovertemplate": "Geography=Newfoundland<br>Time=2019Q4<br>DelinquencyRate=%{x}<br>AverageMortgageAmount=%{y}<br>PopulationSize=%{marker.size}<extra></extra>",
           "ids": [
            "Newfoundland"
           ],
           "legendgroup": "Newfoundland",
           "marker": {
            "color": "#636efa",
            "size": [
             524137
            ],
            "sizemode": "area",
            "sizeref": 36835.035,
            "symbol": "circle"
           },
           "mode": "markers",
           "name": "Newfoundland",
           "orientation": "v",
           "showlegend": true,
           "type": "scatter",
           "x": [
            0.65
           ],
           "xaxis": "x",
           "y": [
            193870
           ],
           "yaxis": "y"
          },
          {
           "hovertemplate": "Geography=Prince Edward Island<br>Time=2019Q4<br>DelinquencyRate=%{x}<br>AverageMortgageAmount=%{y}<br>PopulationSize=%{marker.size}<extra></extra>",
           "ids": [
            "Prince Edward Island"
           ],
           "legendgroup": "Prince Edward Island",
           "marker": {
            "color": "#EF553B",
            "size": [
             158334
            ],
            "sizemode": "area",
            "sizeref": 36835.035,
            "symbol": "circle"
           },
           "mode": "markers",
           "name": "Prince Edward Island",
           "orientation": "v",
           "showlegend": true,
           "type": "scatter",
           "x": [
            0.32
           ],
           "xaxis": "x",
           "y": [
            185934
           ],
           "yaxis": "y"
          },
          {
           "hovertemplate": "Geography=Nova Scotia<br>Time=2019Q4<br>DelinquencyRate=%{x}<br>AverageMortgageAmount=%{y}<br>PopulationSize=%{marker.size}<extra></extra>",
           "ids": [
            "Nova Scotia"
           ],
           "legendgroup": "Nova Scotia",
           "marker": {
            "color": "#00cc96",
            "size": [
             975231
            ],
            "sizemode": "area",
            "sizeref": 36835.035,
            "symbol": "circle"
           },
           "mode": "markers",
           "name": "Nova Scotia",
           "orientation": "v",
           "showlegend": true,
           "type": "scatter",
           "x": [
            0.5
           ],
           "xaxis": "x",
           "y": [
            190168
           ],
           "yaxis": "y"
          },
          {
           "hovertemplate": "Geography=New Brunswick<br>Time=2019Q4<br>DelinquencyRate=%{x}<br>AverageMortgageAmount=%{y}<br>PopulationSize=%{marker.size}<extra></extra>",
           "ids": [
            "New Brunswick"
           ],
           "legendgroup": "New Brunswick",
           "marker": {
            "color": "#ab63fa",
            "size": [
             780154
            ],
            "sizemode": "area",
            "sizeref": 36835.035,
            "symbol": "circle"
           },
           "mode": "markers",
           "name": "New Brunswick",
           "orientation": "v",
           "showlegend": true,
           "type": "scatter",
           "x": [
            0.57
           ],
           "xaxis": "x",
           "y": [
            147047
           ],
           "yaxis": "y"
          },
          {
           "hovertemplate": "Geography=Québec<br>Time=2019Q4<br>DelinquencyRate=%{x}<br>AverageMortgageAmount=%{y}<br>PopulationSize=%{marker.size}<extra></extra>",
           "ids": [
            "Québec"
           ],
           "legendgroup": "Québec",
           "marker": {
            "color": "#FFA15A",
            "size": [
             8540429
            ],
            "sizemode": "area",
            "sizeref": 36835.035,
            "symbol": "circle"
           },
           "mode": "markers",
           "name": "Québec",
           "orientation": "v",
           "showlegend": true,
           "type": "scatter",
           "x": [
            0.36
           ],
           "xaxis": "x",
           "y": [
            183501
           ],
           "yaxis": "y"
          },
          {
           "hovertemplate": "Geography=Ontario<br>Time=2019Q4<br>DelinquencyRate=%{x}<br>AverageMortgageAmount=%{y}<br>PopulationSize=%{marker.size}<extra></extra>",
           "ids": [
            "Ontario"
           ],
           "legendgroup": "Ontario",
           "marker": {
            "color": "#19d3f3",
            "size": [
             14637880
            ],
            "sizemode": "area",
            "sizeref": 36835.035,
            "symbol": "circle"
           },
           "mode": "markers",
           "name": "Ontario",
           "orientation": "v",
           "showlegend": true,
           "type": "scatter",
           "x": [
            0.14
           ],
           "xaxis": "x",
           "y": [
            343768
           ],
           "yaxis": "y"
          },
          {
           "hovertemplate": "Geography=Manitoba<br>Time=2019Q4<br>DelinquencyRate=%{x}<br>AverageMortgageAmount=%{y}<br>PopulationSize=%{marker.size}<extra></extra>",
           "ids": [
            "Manitoba"
           ],
           "legendgroup": "Manitoba",
           "marker": {
            "color": "#FF6692",
            "size": [
             1373574
            ],
            "sizemode": "area",
            "sizeref": 36835.035,
            "symbol": "circle"
           },
           "mode": "markers",
           "name": "Manitoba",
           "orientation": "v",
           "showlegend": true,
           "type": "scatter",
           "x": [
            0.36
           ],
           "xaxis": "x",
           "y": [
            218918
           ],
           "yaxis": "y"
          },
          {
           "hovertemplate": "Geography=Saskatchewan<br>Time=2019Q4<br>DelinquencyRate=%{x}<br>AverageMortgageAmount=%{y}<br>PopulationSize=%{marker.size}<extra></extra>",
           "ids": [
            "Saskatchewan"
           ],
           "legendgroup": "Saskatchewan",
           "marker": {
            "color": "#B6E880",
            "size": [
             1176272
            ],
            "sizemode": "area",
            "sizeref": 36835.035,
            "symbol": "circle"
           },
           "mode": "markers",
           "name": "Saskatchewan",
           "orientation": "v",
           "showlegend": true,
           "type": "scatter",
           "x": [
            0.73
           ],
           "xaxis": "x",
           "y": [
            224315
           ],
           "yaxis": "y"
          },
          {
           "hovertemplate": "Geography=Alberta<br>Time=2019Q4<br>DelinquencyRate=%{x}<br>AverageMortgageAmount=%{y}<br>PopulationSize=%{marker.size}<extra></extra>",
           "ids": [
            "Alberta"
           ],
           "legendgroup": "Alberta",
           "marker": {
            "color": "#FF97FF",
            "size": [
             4384968
            ],
            "sizemode": "area",
            "sizeref": 36835.035,
            "symbol": "circle"
           },
           "mode": "markers",
           "name": "Alberta",
           "orientation": "v",
           "showlegend": true,
           "type": "scatter",
           "x": [
            0.5
           ],
           "xaxis": "x",
           "y": [
            297552
           ],
           "yaxis": "y"
          },
          {
           "hovertemplate": "Geography=British Columbia<br>Time=2019Q4<br>DelinquencyRate=%{x}<br>AverageMortgageAmount=%{y}<br>PopulationSize=%{marker.size}<extra></extra>",
           "ids": [
            "British Columbia"
           ],
           "legendgroup": "British Columbia",
           "marker": {
            "color": "#FECB52",
            "size": [
             5125659
            ],
            "sizemode": "area",
            "sizeref": 36835.035,
            "symbol": "circle"
           },
           "mode": "markers",
           "name": "British Columbia",
           "orientation": "v",
           "showlegend": true,
           "type": "scatter",
           "x": [
            0.16
           ],
           "xaxis": "x",
           "y": [
            386494
           ],
           "yaxis": "y"
          }
         ],
         "name": "2019Q4"
        },
        {
         "data": [
          {
           "hovertemplate": "Geography=Newfoundland<br>Time=2020Q1<br>DelinquencyRate=%{x}<br>AverageMortgageAmount=%{y}<br>PopulationSize=%{marker.size}<extra></extra>",
           "ids": [
            "Newfoundland"
           ],
           "legendgroup": "Newfoundland",
           "marker": {
            "color": "#636efa",
            "size": [
             523631
            ],
            "sizemode": "area",
            "sizeref": 36835.035,
            "symbol": "circle"
           },
           "mode": "markers",
           "name": "Newfoundland",
           "orientation": "v",
           "showlegend": true,
           "type": "scatter",
           "x": [
            0.67
           ],
           "xaxis": "x",
           "y": [
            186268
           ],
           "yaxis": "y"
          },
          {
           "hovertemplate": "Geography=Prince Edward Island<br>Time=2020Q1<br>DelinquencyRate=%{x}<br>AverageMortgageAmount=%{y}<br>PopulationSize=%{marker.size}<extra></extra>",
           "ids": [
            "Prince Edward Island"
           ],
           "legendgroup": "Prince Edward Island",
           "marker": {
            "color": "#EF553B",
            "size": [
             158629
            ],
            "sizemode": "area",
            "sizeref": 36835.035,
            "symbol": "circle"
           },
           "mode": "markers",
           "name": "Prince Edward Island",
           "orientation": "v",
           "showlegend": true,
           "type": "scatter",
           "x": [
            0.25
           ],
           "xaxis": "x",
           "y": [
            193439
           ],
           "yaxis": "y"
          },
          {
           "hovertemplate": "Geography=Nova Scotia<br>Time=2020Q1<br>DelinquencyRate=%{x}<br>AverageMortgageAmount=%{y}<br>PopulationSize=%{marker.size}<extra></extra>",
           "ids": [
            "Nova Scotia"
           ],
           "legendgroup": "Nova Scotia",
           "marker": {
            "color": "#00cc96",
            "size": [
             975898
            ],
            "sizemode": "area",
            "sizeref": 36835.035,
            "symbol": "circle"
           },
           "mode": "markers",
           "name": "Nova Scotia",
           "orientation": "v",
           "showlegend": true,
           "type": "scatter",
           "x": [
            0.46
           ],
           "xaxis": "x",
           "y": [
            188267
           ],
           "yaxis": "y"
          },
          {
           "hovertemplate": "Geography=New Brunswick<br>Time=2020Q1<br>DelinquencyRate=%{x}<br>AverageMortgageAmount=%{y}<br>PopulationSize=%{marker.size}<extra></extra>",
           "ids": [
            "New Brunswick"
           ],
           "legendgroup": "New Brunswick",
           "marker": {
            "color": "#ab63fa",
            "size": [
             780040
            ],
            "sizemode": "area",
            "sizeref": 36835.035,
            "symbol": "circle"
           },
           "mode": "markers",
           "name": "New Brunswick",
           "orientation": "v",
           "showlegend": true,
           "type": "scatter",
           "x": [
            0.57
           ],
           "xaxis": "x",
           "y": [
            146701
           ],
           "yaxis": "y"
          },
          {
           "hovertemplate": "Geography=Québec<br>Time=2020Q1<br>DelinquencyRate=%{x}<br>AverageMortgageAmount=%{y}<br>PopulationSize=%{marker.size}<extra></extra>",
           "ids": [
            "Québec"
           ],
           "legendgroup": "Québec",
           "marker": {
            "color": "#FFA15A",
            "size": [
             8556650
            ],
            "sizemode": "area",
            "sizeref": 36835.035,
            "symbol": "circle"
           },
           "mode": "markers",
           "name": "Québec",
           "orientation": "v",
           "showlegend": true,
           "type": "scatter",
           "x": [
            0.36
           ],
           "xaxis": "x",
           "y": [
            189390
           ],
           "yaxis": "y"
          },
          {
           "hovertemplate": "Geography=Ontario<br>Time=2020Q1<br>DelinquencyRate=%{x}<br>AverageMortgageAmount=%{y}<br>PopulationSize=%{marker.size}<extra></extra>",
           "ids": [
            "Ontario"
           ],
           "legendgroup": "Ontario",
           "marker": {
            "color": "#19d3f3",
            "size": [
             14689075
            ],
            "sizemode": "area",
            "sizeref": 36835.035,
            "symbol": "circle"
           },
           "mode": "markers",
           "name": "Ontario",
           "orientation": "v",
           "showlegend": true,
           "type": "scatter",
           "x": [
            0.14
           ],
           "xaxis": "x",
           "y": [
            348272
           ],
           "yaxis": "y"
          },
          {
           "hovertemplate": "Geography=Manitoba<br>Time=2020Q1<br>DelinquencyRate=%{x}<br>AverageMortgageAmount=%{y}<br>PopulationSize=%{marker.size}<extra></extra>",
           "ids": [
            "Manitoba"
           ],
           "legendgroup": "Manitoba",
           "marker": {
            "color": "#FF6692",
            "size": [
             1377004
            ],
            "sizemode": "area",
            "sizeref": 36835.035,
            "symbol": "circle"
           },
           "mode": "markers",
           "name": "Manitoba",
           "orientation": "v",
           "showlegend": true,
           "type": "scatter",
           "x": [
            0.37
           ],
           "xaxis": "x",
           "y": [
            212508
           ],
           "yaxis": "y"
          },
          {
           "hovertemplate": "Geography=Saskatchewan<br>Time=2020Q1<br>DelinquencyRate=%{x}<br>AverageMortgageAmount=%{y}<br>PopulationSize=%{marker.size}<extra></extra>",
           "ids": [
            "Saskatchewan"
           ],
           "legendgroup": "Saskatchewan",
           "marker": {
            "color": "#B6E880",
            "size": [
             1179154
            ],
            "sizemode": "area",
            "sizeref": 36835.035,
            "symbol": "circle"
           },
           "mode": "markers",
           "name": "Saskatchewan",
           "orientation": "v",
           "showlegend": true,
           "type": "scatter",
           "x": [
            0.75
           ],
           "xaxis": "x",
           "y": [
            216188
           ],
           "yaxis": "y"
          },
          {
           "hovertemplate": "Geography=Alberta<br>Time=2020Q1<br>DelinquencyRate=%{x}<br>AverageMortgageAmount=%{y}<br>PopulationSize=%{marker.size}<extra></extra>",
           "ids": [
            "Alberta"
           ],
           "legendgroup": "Alberta",
           "marker": {
            "color": "#FF97FF",
            "size": [
             4402045
            ],
            "sizemode": "area",
            "sizeref": 36835.035,
            "symbol": "circle"
           },
           "mode": "markers",
           "name": "Alberta",
           "orientation": "v",
           "showlegend": true,
           "type": "scatter",
           "x": [
            0.52
           ],
           "xaxis": "x",
           "y": [
            291747
           ],
           "yaxis": "y"
          },
          {
           "hovertemplate": "Geography=British Columbia<br>Time=2020Q1<br>DelinquencyRate=%{x}<br>AverageMortgageAmount=%{y}<br>PopulationSize=%{marker.size}<extra></extra>",
           "ids": [
            "British Columbia"
           ],
           "legendgroup": "British Columbia",
           "marker": {
            "color": "#FECB52",
            "size": [
             5131575
            ],
            "sizemode": "area",
            "sizeref": 36835.035,
            "symbol": "circle"
           },
           "mode": "markers",
           "name": "British Columbia",
           "orientation": "v",
           "showlegend": true,
           "type": "scatter",
           "x": [
            0.17
           ],
           "xaxis": "x",
           "y": [
            393711
           ],
           "yaxis": "y"
          }
         ],
         "name": "2020Q1"
        },
        {
         "data": [
          {
           "hovertemplate": "Geography=Newfoundland<br>Time=2020Q2<br>DelinquencyRate=%{x}<br>AverageMortgageAmount=%{y}<br>PopulationSize=%{marker.size}<extra></extra>",
           "ids": [
            "Newfoundland"
           ],
           "legendgroup": "Newfoundland",
           "marker": {
            "color": "#636efa",
            "size": [
             522994
            ],
            "sizemode": "area",
            "sizeref": 36835.035,
            "symbol": "circle"
           },
           "mode": "markers",
           "name": "Newfoundland",
           "orientation": "v",
           "showlegend": true,
           "type": "scatter",
           "x": [
            0.68
           ],
           "xaxis": "x",
           "y": [
            187431
           ],
           "yaxis": "y"
          },
          {
           "hovertemplate": "Geography=Prince Edward Island<br>Time=2020Q2<br>DelinquencyRate=%{x}<br>AverageMortgageAmount=%{y}<br>PopulationSize=%{marker.size}<extra></extra>",
           "ids": [
            "Prince Edward Island"
           ],
           "legendgroup": "Prince Edward Island",
           "marker": {
            "color": "#EF553B",
            "size": [
             159249
            ],
            "sizemode": "area",
            "sizeref": 36835.035,
            "symbol": "circle"
           },
           "mode": "markers",
           "name": "Prince Edward Island",
           "orientation": "v",
           "showlegend": true,
           "type": "scatter",
           "x": [
            0.26
           ],
           "xaxis": "x",
           "y": [
            189309
           ],
           "yaxis": "y"
          },
          {
           "hovertemplate": "Geography=Nova Scotia<br>Time=2020Q2<br>DelinquencyRate=%{x}<br>AverageMortgageAmount=%{y}<br>PopulationSize=%{marker.size}<extra></extra>",
           "ids": [
            "Nova Scotia"
           ],
           "legendgroup": "Nova Scotia",
           "marker": {
            "color": "#00cc96",
            "size": [
             977043
            ],
            "sizemode": "area",
            "sizeref": 36835.035,
            "symbol": "circle"
           },
           "mode": "markers",
           "name": "Nova Scotia",
           "orientation": "v",
           "showlegend": true,
           "type": "scatter",
           "x": [
            0.47
           ],
           "xaxis": "x",
           "y": [
            192060
           ],
           "yaxis": "y"
          },
          {
           "hovertemplate": "Geography=New Brunswick<br>Time=2020Q2<br>DelinquencyRate=%{x}<br>AverageMortgageAmount=%{y}<br>PopulationSize=%{marker.size}<extra></extra>",
           "ids": [
            "New Brunswick"
           ],
           "legendgroup": "New Brunswick",
           "marker": {
            "color": "#ab63fa",
            "size": [
             781024
            ],
            "sizemode": "area",
            "sizeref": 36835.035,
            "symbol": "circle"
           },
           "mode": "markers",
           "name": "New Brunswick",
           "orientation": "v",
           "showlegend": true,
           "type": "scatter",
           "x": [
            0.54
           ],
           "xaxis": "x",
           "y": [
            149590
           ],
           "yaxis": "y"
          },
          {
           "hovertemplate": "Geography=Québec<br>Time=2020Q2<br>DelinquencyRate=%{x}<br>AverageMortgageAmount=%{y}<br>PopulationSize=%{marker.size}<extra></extra>",
           "ids": [
            "Québec"
           ],
           "legendgroup": "Québec",
           "marker": {
            "color": "#FFA15A",
            "size": [
             8572054
            ],
            "sizemode": "area",
            "sizeref": 36835.035,
            "symbol": "circle"
           },
           "mode": "markers",
           "name": "Québec",
           "orientation": "v",
           "showlegend": true,
           "type": "scatter",
           "x": [
            0.34
           ],
           "xaxis": "x",
           "y": [
            195538
           ],
           "yaxis": "y"
          },
          {
           "hovertemplate": "Geography=Ontario<br>Time=2020Q2<br>DelinquencyRate=%{x}<br>AverageMortgageAmount=%{y}<br>PopulationSize=%{marker.size}<extra></extra>",
           "ids": [
            "Ontario"
           ],
           "legendgroup": "Ontario",
           "marker": {
            "color": "#19d3f3",
            "size": [
             14723497
            ],
            "sizemode": "area",
            "sizeref": 36835.035,
            "symbol": "circle"
           },
           "mode": "markers",
           "name": "Ontario",
           "orientation": "v",
           "showlegend": true,
           "type": "scatter",
           "x": [
            0.14
           ],
           "xaxis": "x",
           "y": [
            363432
           ],
           "yaxis": "y"
          },
          {
           "hovertemplate": "Geography=Manitoba<br>Time=2020Q2<br>DelinquencyRate=%{x}<br>AverageMortgageAmount=%{y}<br>PopulationSize=%{marker.size}<extra></extra>",
           "ids": [
            "Manitoba"
           ],
           "legendgroup": "Manitoba",
           "marker": {
            "color": "#FF6692",
            "size": [
             1378818
            ],
            "sizemode": "area",
            "sizeref": 36835.035,
            "symbol": "circle"
           },
           "mode": "markers",
           "name": "Manitoba",
           "orientation": "v",
           "showlegend": true,
           "type": "scatter",
           "x": [
            0.38
           ],
           "xaxis": "x",
           "y": [
            217416
           ],
           "yaxis": "y"
          },
          {
           "hovertemplate": "Geography=Saskatchewan<br>Time=2020Q2<br>DelinquencyRate=%{x}<br>AverageMortgageAmount=%{y}<br>PopulationSize=%{marker.size}<extra></extra>",
           "ids": [
            "Saskatchewan"
           ],
           "legendgroup": "Saskatchewan",
           "marker": {
            "color": "#B6E880",
            "size": [
             1179618
            ],
            "sizemode": "area",
            "sizeref": 36835.035,
            "symbol": "circle"
           },
           "mode": "markers",
           "name": "Saskatchewan",
           "orientation": "v",
           "showlegend": true,
           "type": "scatter",
           "x": [
            0.76
           ],
           "xaxis": "x",
           "y": [
            225641
           ],
           "yaxis": "y"
          },
          {
           "hovertemplate": "Geography=Alberta<br>Time=2020Q2<br>DelinquencyRate=%{x}<br>AverageMortgageAmount=%{y}<br>PopulationSize=%{marker.size}<extra></extra>",
           "ids": [
            "Alberta"
           ],
           "legendgroup": "Alberta",
           "marker": {
            "color": "#FF97FF",
            "size": [
             4417006
            ],
            "sizemode": "area",
            "sizeref": 36835.035,
            "symbol": "circle"
           },
           "mode": "markers",
           "name": "Alberta",
           "orientation": "v",
           "showlegend": true,
           "type": "scatter",
           "x": [
            0.52
           ],
           "xaxis": "x",
           "y": [
            296269
           ],
           "yaxis": "y"
          },
          {
           "hovertemplate": "Geography=British Columbia<br>Time=2020Q2<br>DelinquencyRate=%{x}<br>AverageMortgageAmount=%{y}<br>PopulationSize=%{marker.size}<extra></extra>",
           "ids": [
            "British Columbia"
           ],
           "legendgroup": "British Columbia",
           "marker": {
            "color": "#FECB52",
            "size": [
             5142404
            ],
            "sizemode": "area",
            "sizeref": 36835.035,
            "symbol": "circle"
           },
           "mode": "markers",
           "name": "British Columbia",
           "orientation": "v",
           "showlegend": true,
           "type": "scatter",
           "x": [
            0.19
           ],
           "xaxis": "x",
           "y": [
            397853
           ],
           "yaxis": "y"
          }
         ],
         "name": "2020Q2"
        },
        {
         "data": [
          {
           "hovertemplate": "Geography=Newfoundland<br>Time=2020Q3<br>DelinquencyRate=%{x}<br>AverageMortgageAmount=%{y}<br>PopulationSize=%{marker.size}<extra></extra>",
           "ids": [
            "Newfoundland"
           ],
           "legendgroup": "Newfoundland",
           "marker": {
            "color": "#636efa",
            "size": [
             522103
            ],
            "sizemode": "area",
            "sizeref": 36835.035,
            "symbol": "circle"
           },
           "mode": "markers",
           "name": "Newfoundland",
           "orientation": "v",
           "showlegend": true,
           "type": "scatter",
           "x": [
            0.64
           ],
           "xaxis": "x",
           "y": [
            196100
           ],
           "yaxis": "y"
          },
          {
           "hovertemplate": "Geography=Prince Edward Island<br>Time=2020Q3<br>DelinquencyRate=%{x}<br>AverageMortgageAmount=%{y}<br>PopulationSize=%{marker.size}<extra></extra>",
           "ids": [
            "Prince Edward Island"
           ],
           "legendgroup": "Prince Edward Island",
           "marker": {
            "color": "#EF553B",
            "size": [
             159625
            ],
            "sizemode": "area",
            "sizeref": 36835.035,
            "symbol": "circle"
           },
           "mode": "markers",
           "name": "Prince Edward Island",
           "orientation": "v",
           "showlegend": true,
           "type": "scatter",
           "x": [
            0.27
           ],
           "xaxis": "x",
           "y": [
            204415
           ],
           "yaxis": "y"
          },
          {
           "hovertemplate": "Geography=Nova Scotia<br>Time=2020Q3<br>DelinquencyRate=%{x}<br>AverageMortgageAmount=%{y}<br>PopulationSize=%{marker.size}<extra></extra>",
           "ids": [
            "Nova Scotia"
           ],
           "legendgroup": "Nova Scotia",
           "marker": {
            "color": "#00cc96",
            "size": [
             979351
            ],
            "sizemode": "area",
            "sizeref": 36835.035,
            "symbol": "circle"
           },
           "mode": "markers",
           "name": "Nova Scotia",
           "orientation": "v",
           "showlegend": true,
           "type": "scatter",
           "x": [
            0.45
           ],
           "xaxis": "x",
           "y": [
            207877
           ],
           "yaxis": "y"
          },
          {
           "hovertemplate": "Geography=New Brunswick<br>Time=2020Q3<br>DelinquencyRate=%{x}<br>AverageMortgageAmount=%{y}<br>PopulationSize=%{marker.size}<extra></extra>",
           "ids": [
            "New Brunswick"
           ],
           "legendgroup": "New Brunswick",
           "marker": {
            "color": "#ab63fa",
            "size": [
             781476
            ],
            "sizemode": "area",
            "sizeref": 36835.035,
            "symbol": "circle"
           },
           "mode": "markers",
           "name": "New Brunswick",
           "orientation": "v",
           "showlegend": true,
           "type": "scatter",
           "x": [
            0.52
           ],
           "xaxis": "x",
           "y": [
            160349
           ],
           "yaxis": "y"
          },
          {
           "hovertemplate": "Geography=Québec<br>Time=2020Q3<br>DelinquencyRate=%{x}<br>AverageMortgageAmount=%{y}<br>PopulationSize=%{marker.size}<extra></extra>",
           "ids": [
            "Québec"
           ],
           "legendgroup": "Québec",
           "marker": {
            "color": "#FFA15A",
            "size": [
             8574571
            ],
            "sizemode": "area",
            "sizeref": 36835.035,
            "symbol": "circle"
           },
           "mode": "markers",
           "name": "Québec",
           "orientation": "v",
           "showlegend": true,
           "type": "scatter",
           "x": [
            0.36
           ],
           "xaxis": "x",
           "y": [
            203861
           ],
           "yaxis": "y"
          },
          {
           "hovertemplate": "Geography=Ontario<br>Time=2020Q3<br>DelinquencyRate=%{x}<br>AverageMortgageAmount=%{y}<br>PopulationSize=%{marker.size}<extra></extra>",
           "ids": [
            "Ontario"
           ],
           "legendgroup": "Ontario",
           "marker": {
            "color": "#19d3f3",
            "size": [
             14734014
            ],
            "sizemode": "area",
            "sizeref": 36835.035,
            "symbol": "circle"
           },
           "mode": "markers",
           "name": "Ontario",
           "orientation": "v",
           "showlegend": true,
           "type": "scatter",
           "x": [
            0.14
           ],
           "xaxis": "x",
           "y": [
            373371
           ],
           "yaxis": "y"
          },
          {
           "hovertemplate": "Geography=Manitoba<br>Time=2020Q3<br>DelinquencyRate=%{x}<br>AverageMortgageAmount=%{y}<br>PopulationSize=%{marker.size}<extra></extra>",
           "ids": [
            "Manitoba"
           ],
           "legendgroup": "Manitoba",
           "marker": {
            "color": "#FF6692",
            "size": [
             1379263
            ],
            "sizemode": "area",
            "sizeref": 36835.035,
            "symbol": "circle"
           },
           "mode": "markers",
           "name": "Manitoba",
           "orientation": "v",
           "showlegend": true,
           "type": "scatter",
           "x": [
            0.35
           ],
           "xaxis": "x",
           "y": [
            232725
           ],
           "yaxis": "y"
          },
          {
           "hovertemplate": "Geography=Saskatchewan<br>Time=2020Q3<br>DelinquencyRate=%{x}<br>AverageMortgageAmount=%{y}<br>PopulationSize=%{marker.size}<extra></extra>",
           "ids": [
            "Saskatchewan"
           ],
           "legendgroup": "Saskatchewan",
           "marker": {
            "color": "#B6E880",
            "size": [
             1178681
            ],
            "sizemode": "area",
            "sizeref": 36835.035,
            "symbol": "circle"
           },
           "mode": "markers",
           "name": "Saskatchewan",
           "orientation": "v",
           "showlegend": true,
           "type": "scatter",
           "x": [
            0.72
           ],
           "xaxis": "x",
           "y": [
            237386
           ],
           "yaxis": "y"
          },
          {
           "hovertemplate": "Geography=Alberta<br>Time=2020Q3<br>DelinquencyRate=%{x}<br>AverageMortgageAmount=%{y}<br>PopulationSize=%{marker.size}<extra></extra>",
           "ids": [
            "Alberta"
           ],
           "legendgroup": "Alberta",
           "marker": {
            "color": "#FF97FF",
            "size": [
             4421876
            ],
            "sizemode": "area",
            "sizeref": 36835.035,
            "symbol": "circle"
           },
           "mode": "markers",
           "name": "Alberta",
           "orientation": "v",
           "showlegend": true,
           "type": "scatter",
           "x": [
            0.5
           ],
           "xaxis": "x",
           "y": [
            305600
           ],
           "yaxis": "y"
          },
          {
           "hovertemplate": "Geography=British Columbia<br>Time=2020Q3<br>DelinquencyRate=%{x}<br>AverageMortgageAmount=%{y}<br>PopulationSize=%{marker.size}<extra></extra>",
           "ids": [
            "British Columbia"
           ],
           "legendgroup": "British Columbia",
           "marker": {
            "color": "#FECB52",
            "size": [
             5147712
            ],
            "sizemode": "area",
            "sizeref": 36835.035,
            "symbol": "circle"
           },
           "mode": "markers",
           "name": "British Columbia",
           "orientation": "v",
           "showlegend": true,
           "type": "scatter",
           "x": [
            0.19
           ],
           "xaxis": "x",
           "y": [
            417004
           ],
           "yaxis": "y"
          }
         ],
         "name": "2020Q3"
        }
       ],
       "layout": {
        "legend": {
         "itemsizing": "constant",
         "title": {
          "text": "Geography"
         },
         "tracegroupgap": 0
        },
        "sliders": [
         {
          "active": 0,
          "currentvalue": {
           "prefix": "Time="
          },
          "len": 0.9,
          "pad": {
           "b": 10,
           "t": 60
          },
          "steps": [
           {
            "args": [
             [
              "2012Q3"
             ],
             {
              "frame": {
               "duration": 0,
               "redraw": false
              },
              "fromcurrent": true,
              "mode": "immediate",
              "transition": {
               "duration": 0,
               "easing": "linear"
              }
             }
            ],
            "label": "2012Q3",
            "method": "animate"
           },
           {
            "args": [
             [
              "2012Q4"
             ],
             {
              "frame": {
               "duration": 0,
               "redraw": false
              },
              "fromcurrent": true,
              "mode": "immediate",
              "transition": {
               "duration": 0,
               "easing": "linear"
              }
             }
            ],
            "label": "2012Q4",
            "method": "animate"
           },
           {
            "args": [
             [
              "2013Q1"
             ],
             {
              "frame": {
               "duration": 0,
               "redraw": false
              },
              "fromcurrent": true,
              "mode": "immediate",
              "transition": {
               "duration": 0,
               "easing": "linear"
              }
             }
            ],
            "label": "2013Q1",
            "method": "animate"
           },
           {
            "args": [
             [
              "2013Q2"
             ],
             {
              "frame": {
               "duration": 0,
               "redraw": false
              },
              "fromcurrent": true,
              "mode": "immediate",
              "transition": {
               "duration": 0,
               "easing": "linear"
              }
             }
            ],
            "label": "2013Q2",
            "method": "animate"
           },
           {
            "args": [
             [
              "2013Q3"
             ],
             {
              "frame": {
               "duration": 0,
               "redraw": false
              },
              "fromcurrent": true,
              "mode": "immediate",
              "transition": {
               "duration": 0,
               "easing": "linear"
              }
             }
            ],
            "label": "2013Q3",
            "method": "animate"
           },
           {
            "args": [
             [
              "2013Q4"
             ],
             {
              "frame": {
               "duration": 0,
               "redraw": false
              },
              "fromcurrent": true,
              "mode": "immediate",
              "transition": {
               "duration": 0,
               "easing": "linear"
              }
             }
            ],
            "label": "2013Q4",
            "method": "animate"
           },
           {
            "args": [
             [
              "2014Q1"
             ],
             {
              "frame": {
               "duration": 0,
               "redraw": false
              },
              "fromcurrent": true,
              "mode": "immediate",
              "transition": {
               "duration": 0,
               "easing": "linear"
              }
             }
            ],
            "label": "2014Q1",
            "method": "animate"
           },
           {
            "args": [
             [
              "2014Q2"
             ],
             {
              "frame": {
               "duration": 0,
               "redraw": false
              },
              "fromcurrent": true,
              "mode": "immediate",
              "transition": {
               "duration": 0,
               "easing": "linear"
              }
             }
            ],
            "label": "2014Q2",
            "method": "animate"
           },
           {
            "args": [
             [
              "2014Q3"
             ],
             {
              "frame": {
               "duration": 0,
               "redraw": false
              },
              "fromcurrent": true,
              "mode": "immediate",
              "transition": {
               "duration": 0,
               "easing": "linear"
              }
             }
            ],
            "label": "2014Q3",
            "method": "animate"
           },
           {
            "args": [
             [
              "2014Q4"
             ],
             {
              "frame": {
               "duration": 0,
               "redraw": false
              },
              "fromcurrent": true,
              "mode": "immediate",
              "transition": {
               "duration": 0,
               "easing": "linear"
              }
             }
            ],
            "label": "2014Q4",
            "method": "animate"
           },
           {
            "args": [
             [
              "2015Q1"
             ],
             {
              "frame": {
               "duration": 0,
               "redraw": false
              },
              "fromcurrent": true,
              "mode": "immediate",
              "transition": {
               "duration": 0,
               "easing": "linear"
              }
             }
            ],
            "label": "2015Q1",
            "method": "animate"
           },
           {
            "args": [
             [
              "2015Q2"
             ],
             {
              "frame": {
               "duration": 0,
               "redraw": false
              },
              "fromcurrent": true,
              "mode": "immediate",
              "transition": {
               "duration": 0,
               "easing": "linear"
              }
             }
            ],
            "label": "2015Q2",
            "method": "animate"
           },
           {
            "args": [
             [
              "2015Q3"
             ],
             {
              "frame": {
               "duration": 0,
               "redraw": false
              },
              "fromcurrent": true,
              "mode": "immediate",
              "transition": {
               "duration": 0,
               "easing": "linear"
              }
             }
            ],
            "label": "2015Q3",
            "method": "animate"
           },
           {
            "args": [
             [
              "2015Q4"
             ],
             {
              "frame": {
               "duration": 0,
               "redraw": false
              },
              "fromcurrent": true,
              "mode": "immediate",
              "transition": {
               "duration": 0,
               "easing": "linear"
              }
             }
            ],
            "label": "2015Q4",
            "method": "animate"
           },
           {
            "args": [
             [
              "2016Q1"
             ],
             {
              "frame": {
               "duration": 0,
               "redraw": false
              },
              "fromcurrent": true,
              "mode": "immediate",
              "transition": {
               "duration": 0,
               "easing": "linear"
              }
             }
            ],
            "label": "2016Q1",
            "method": "animate"
           },
           {
            "args": [
             [
              "2016Q2"
             ],
             {
              "frame": {
               "duration": 0,
               "redraw": false
              },
              "fromcurrent": true,
              "mode": "immediate",
              "transition": {
               "duration": 0,
               "easing": "linear"
              }
             }
            ],
            "label": "2016Q2",
            "method": "animate"
           },
           {
            "args": [
             [
              "2016Q3"
             ],
             {
              "frame": {
               "duration": 0,
               "redraw": false
              },
              "fromcurrent": true,
              "mode": "immediate",
              "transition": {
               "duration": 0,
               "easing": "linear"
              }
             }
            ],
            "label": "2016Q3",
            "method": "animate"
           },
           {
            "args": [
             [
              "2016Q4"
             ],
             {
              "frame": {
               "duration": 0,
               "redraw": false
              },
              "fromcurrent": true,
              "mode": "immediate",
              "transition": {
               "duration": 0,
               "easing": "linear"
              }
             }
            ],
            "label": "2016Q4",
            "method": "animate"
           },
           {
            "args": [
             [
              "2017Q1"
             ],
             {
              "frame": {
               "duration": 0,
               "redraw": false
              },
              "fromcurrent": true,
              "mode": "immediate",
              "transition": {
               "duration": 0,
               "easing": "linear"
              }
             }
            ],
            "label": "2017Q1",
            "method": "animate"
           },
           {
            "args": [
             [
              "2017Q2"
             ],
             {
              "frame": {
               "duration": 0,
               "redraw": false
              },
              "fromcurrent": true,
              "mode": "immediate",
              "transition": {
               "duration": 0,
               "easing": "linear"
              }
             }
            ],
            "label": "2017Q2",
            "method": "animate"
           },
           {
            "args": [
             [
              "2017Q3"
             ],
             {
              "frame": {
               "duration": 0,
               "redraw": false
              },
              "fromcurrent": true,
              "mode": "immediate",
              "transition": {
               "duration": 0,
               "easing": "linear"
              }
             }
            ],
            "label": "2017Q3",
            "method": "animate"
           },
           {
            "args": [
             [
              "2017Q4"
             ],
             {
              "frame": {
               "duration": 0,
               "redraw": false
              },
              "fromcurrent": true,
              "mode": "immediate",
              "transition": {
               "duration": 0,
               "easing": "linear"
              }
             }
            ],
            "label": "2017Q4",
            "method": "animate"
           },
           {
            "args": [
             [
              "2018Q1"
             ],
             {
              "frame": {
               "duration": 0,
               "redraw": false
              },
              "fromcurrent": true,
              "mode": "immediate",
              "transition": {
               "duration": 0,
               "easing": "linear"
              }
             }
            ],
            "label": "2018Q1",
            "method": "animate"
           },
           {
            "args": [
             [
              "2018Q2"
             ],
             {
              "frame": {
               "duration": 0,
               "redraw": false
              },
              "fromcurrent": true,
              "mode": "immediate",
              "transition": {
               "duration": 0,
               "easing": "linear"
              }
             }
            ],
            "label": "2018Q2",
            "method": "animate"
           },
           {
            "args": [
             [
              "2018Q3"
             ],
             {
              "frame": {
               "duration": 0,
               "redraw": false
              },
              "fromcurrent": true,
              "mode": "immediate",
              "transition": {
               "duration": 0,
               "easing": "linear"
              }
             }
            ],
            "label": "2018Q3",
            "method": "animate"
           },
           {
            "args": [
             [
              "2018Q4"
             ],
             {
              "frame": {
               "duration": 0,
               "redraw": false
              },
              "fromcurrent": true,
              "mode": "immediate",
              "transition": {
               "duration": 0,
               "easing": "linear"
              }
             }
            ],
            "label": "2018Q4",
            "method": "animate"
           },
           {
            "args": [
             [
              "2019Q1"
             ],
             {
              "frame": {
               "duration": 0,
               "redraw": false
              },
              "fromcurrent": true,
              "mode": "immediate",
              "transition": {
               "duration": 0,
               "easing": "linear"
              }
             }
            ],
            "label": "2019Q1",
            "method": "animate"
           },
           {
            "args": [
             [
              "2019Q2"
             ],
             {
              "frame": {
               "duration": 0,
               "redraw": false
              },
              "fromcurrent": true,
              "mode": "immediate",
              "transition": {
               "duration": 0,
               "easing": "linear"
              }
             }
            ],
            "label": "2019Q2",
            "method": "animate"
           },
           {
            "args": [
             [
              "2019Q3"
             ],
             {
              "frame": {
               "duration": 0,
               "redraw": false
              },
              "fromcurrent": true,
              "mode": "immediate",
              "transition": {
               "duration": 0,
               "easing": "linear"
              }
             }
            ],
            "label": "2019Q3",
            "method": "animate"
           },
           {
            "args": [
             [
              "2019Q4"
             ],
             {
              "frame": {
               "duration": 0,
               "redraw": false
              },
              "fromcurrent": true,
              "mode": "immediate",
              "transition": {
               "duration": 0,
               "easing": "linear"
              }
             }
            ],
            "label": "2019Q4",
            "method": "animate"
           },
           {
            "args": [
             [
              "2020Q1"
             ],
             {
              "frame": {
               "duration": 0,
               "redraw": false
              },
              "fromcurrent": true,
              "mode": "immediate",
              "transition": {
               "duration": 0,
               "easing": "linear"
              }
             }
            ],
            "label": "2020Q1",
            "method": "animate"
           },
           {
            "args": [
             [
              "2020Q2"
             ],
             {
              "frame": {
               "duration": 0,
               "redraw": false
              },
              "fromcurrent": true,
              "mode": "immediate",
              "transition": {
               "duration": 0,
               "easing": "linear"
              }
             }
            ],
            "label": "2020Q2",
            "method": "animate"
           },
           {
            "args": [
             [
              "2020Q3"
             ],
             {
              "frame": {
               "duration": 0,
               "redraw": false
              },
              "fromcurrent": true,
              "mode": "immediate",
              "transition": {
               "duration": 0,
               "easing": "linear"
              }
             }
            ],
            "label": "2020Q3",
            "method": "animate"
           }
          ],
          "x": 0.1,
          "xanchor": "left",
          "y": 0,
          "yanchor": "top"
         }
        ],
        "template": {
         "data": {
          "bar": [
           {
            "error_x": {
             "color": "#2a3f5f"
            },
            "error_y": {
             "color": "#2a3f5f"
            },
            "marker": {
             "line": {
              "color": "#E5ECF6",
              "width": 0.5
             },
             "pattern": {
              "fillmode": "overlay",
              "size": 10,
              "solidity": 0.2
             }
            },
            "type": "bar"
           }
          ],
          "barpolar": [
           {
            "marker": {
             "line": {
              "color": "#E5ECF6",
              "width": 0.5
             },
             "pattern": {
              "fillmode": "overlay",
              "size": 10,
              "solidity": 0.2
             }
            },
            "type": "barpolar"
           }
          ],
          "carpet": [
           {
            "aaxis": {
             "endlinecolor": "#2a3f5f",
             "gridcolor": "white",
             "linecolor": "white",
             "minorgridcolor": "white",
             "startlinecolor": "#2a3f5f"
            },
            "baxis": {
             "endlinecolor": "#2a3f5f",
             "gridcolor": "white",
             "linecolor": "white",
             "minorgridcolor": "white",
             "startlinecolor": "#2a3f5f"
            },
            "type": "carpet"
           }
          ],
          "choropleth": [
           {
            "colorbar": {
             "outlinewidth": 0,
             "ticks": ""
            },
            "type": "choropleth"
           }
          ],
          "contour": [
           {
            "colorbar": {
             "outlinewidth": 0,
             "ticks": ""
            },
            "colorscale": [
             [
              0,
              "#0d0887"
             ],
             [
              0.1111111111111111,
              "#46039f"
             ],
             [
              0.2222222222222222,
              "#7201a8"
             ],
             [
              0.3333333333333333,
              "#9c179e"
             ],
             [
              0.4444444444444444,
              "#bd3786"
             ],
             [
              0.5555555555555556,
              "#d8576b"
             ],
             [
              0.6666666666666666,
              "#ed7953"
             ],
             [
              0.7777777777777778,
              "#fb9f3a"
             ],
             [
              0.8888888888888888,
              "#fdca26"
             ],
             [
              1,
              "#f0f921"
             ]
            ],
            "type": "contour"
           }
          ],
          "contourcarpet": [
           {
            "colorbar": {
             "outlinewidth": 0,
             "ticks": ""
            },
            "type": "contourcarpet"
           }
          ],
          "heatmap": [
           {
            "colorbar": {
             "outlinewidth": 0,
             "ticks": ""
            },
            "colorscale": [
             [
              0,
              "#0d0887"
             ],
             [
              0.1111111111111111,
              "#46039f"
             ],
             [
              0.2222222222222222,
              "#7201a8"
             ],
             [
              0.3333333333333333,
              "#9c179e"
             ],
             [
              0.4444444444444444,
              "#bd3786"
             ],
             [
              0.5555555555555556,
              "#d8576b"
             ],
             [
              0.6666666666666666,
              "#ed7953"
             ],
             [
              0.7777777777777778,
              "#fb9f3a"
             ],
             [
              0.8888888888888888,
              "#fdca26"
             ],
             [
              1,
              "#f0f921"
             ]
            ],
            "type": "heatmap"
           }
          ],
          "heatmapgl": [
           {
            "colorbar": {
             "outlinewidth": 0,
             "ticks": ""
            },
            "colorscale": [
             [
              0,
              "#0d0887"
             ],
             [
              0.1111111111111111,
              "#46039f"
             ],
             [
              0.2222222222222222,
              "#7201a8"
             ],
             [
              0.3333333333333333,
              "#9c179e"
             ],
             [
              0.4444444444444444,
              "#bd3786"
             ],
             [
              0.5555555555555556,
              "#d8576b"
             ],
             [
              0.6666666666666666,
              "#ed7953"
             ],
             [
              0.7777777777777778,
              "#fb9f3a"
             ],
             [
              0.8888888888888888,
              "#fdca26"
             ],
             [
              1,
              "#f0f921"
             ]
            ],
            "type": "heatmapgl"
           }
          ],
          "histogram": [
           {
            "marker": {
             "pattern": {
              "fillmode": "overlay",
              "size": 10,
              "solidity": 0.2
             }
            },
            "type": "histogram"
           }
          ],
          "histogram2d": [
           {
            "colorbar": {
             "outlinewidth": 0,
             "ticks": ""
            },
            "colorscale": [
             [
              0,
              "#0d0887"
             ],
             [
              0.1111111111111111,
              "#46039f"
             ],
             [
              0.2222222222222222,
              "#7201a8"
             ],
             [
              0.3333333333333333,
              "#9c179e"
             ],
             [
              0.4444444444444444,
              "#bd3786"
             ],
             [
              0.5555555555555556,
              "#d8576b"
             ],
             [
              0.6666666666666666,
              "#ed7953"
             ],
             [
              0.7777777777777778,
              "#fb9f3a"
             ],
             [
              0.8888888888888888,
              "#fdca26"
             ],
             [
              1,
              "#f0f921"
             ]
            ],
            "type": "histogram2d"
           }
          ],
          "histogram2dcontour": [
           {
            "colorbar": {
             "outlinewidth": 0,
             "ticks": ""
            },
            "colorscale": [
             [
              0,
              "#0d0887"
             ],
             [
              0.1111111111111111,
              "#46039f"
             ],
             [
              0.2222222222222222,
              "#7201a8"
             ],
             [
              0.3333333333333333,
              "#9c179e"
             ],
             [
              0.4444444444444444,
              "#bd3786"
             ],
             [
              0.5555555555555556,
              "#d8576b"
             ],
             [
              0.6666666666666666,
              "#ed7953"
             ],
             [
              0.7777777777777778,
              "#fb9f3a"
             ],
             [
              0.8888888888888888,
              "#fdca26"
             ],
             [
              1,
              "#f0f921"
             ]
            ],
            "type": "histogram2dcontour"
           }
          ],
          "mesh3d": [
           {
            "colorbar": {
             "outlinewidth": 0,
             "ticks": ""
            },
            "type": "mesh3d"
           }
          ],
          "parcoords": [
           {
            "line": {
             "colorbar": {
              "outlinewidth": 0,
              "ticks": ""
             }
            },
            "type": "parcoords"
           }
          ],
          "pie": [
           {
            "automargin": true,
            "type": "pie"
           }
          ],
          "scatter": [
           {
            "fillpattern": {
             "fillmode": "overlay",
             "size": 10,
             "solidity": 0.2
            },
            "type": "scatter"
           }
          ],
          "scatter3d": [
           {
            "line": {
             "colorbar": {
              "outlinewidth": 0,
              "ticks": ""
             }
            },
            "marker": {
             "colorbar": {
              "outlinewidth": 0,
              "ticks": ""
             }
            },
            "type": "scatter3d"
           }
          ],
          "scattercarpet": [
           {
            "marker": {
             "colorbar": {
              "outlinewidth": 0,
              "ticks": ""
             }
            },
            "type": "scattercarpet"
           }
          ],
          "scattergeo": [
           {
            "marker": {
             "colorbar": {
              "outlinewidth": 0,
              "ticks": ""
             }
            },
            "type": "scattergeo"
           }
          ],
          "scattergl": [
           {
            "marker": {
             "colorbar": {
              "outlinewidth": 0,
              "ticks": ""
             }
            },
            "type": "scattergl"
           }
          ],
          "scattermapbox": [
           {
            "marker": {
             "colorbar": {
              "outlinewidth": 0,
              "ticks": ""
             }
            },
            "type": "scattermapbox"
           }
          ],
          "scatterpolar": [
           {
            "marker": {
             "colorbar": {
              "outlinewidth": 0,
              "ticks": ""
             }
            },
            "type": "scatterpolar"
           }
          ],
          "scatterpolargl": [
           {
            "marker": {
             "colorbar": {
              "outlinewidth": 0,
              "ticks": ""
             }
            },
            "type": "scatterpolargl"
           }
          ],
          "scatterternary": [
           {
            "marker": {
             "colorbar": {
              "outlinewidth": 0,
              "ticks": ""
             }
            },
            "type": "scatterternary"
           }
          ],
          "surface": [
           {
            "colorbar": {
             "outlinewidth": 0,
             "ticks": ""
            },
            "colorscale": [
             [
              0,
              "#0d0887"
             ],
             [
              0.1111111111111111,
              "#46039f"
             ],
             [
              0.2222222222222222,
              "#7201a8"
             ],
             [
              0.3333333333333333,
              "#9c179e"
             ],
             [
              0.4444444444444444,
              "#bd3786"
             ],
             [
              0.5555555555555556,
              "#d8576b"
             ],
             [
              0.6666666666666666,
              "#ed7953"
             ],
             [
              0.7777777777777778,
              "#fb9f3a"
             ],
             [
              0.8888888888888888,
              "#fdca26"
             ],
             [
              1,
              "#f0f921"
             ]
            ],
            "type": "surface"
           }
          ],
          "table": [
           {
            "cells": {
             "fill": {
              "color": "#EBF0F8"
             },
             "line": {
              "color": "white"
             }
            },
            "header": {
             "fill": {
              "color": "#C8D4E3"
             },
             "line": {
              "color": "white"
             }
            },
            "type": "table"
           }
          ]
         },
         "layout": {
          "annotationdefaults": {
           "arrowcolor": "#2a3f5f",
           "arrowhead": 0,
           "arrowwidth": 1
          },
          "autotypenumbers": "strict",
          "coloraxis": {
           "colorbar": {
            "outlinewidth": 0,
            "ticks": ""
           }
          },
          "colorscale": {
           "diverging": [
            [
             0,
             "#8e0152"
            ],
            [
             0.1,
             "#c51b7d"
            ],
            [
             0.2,
             "#de77ae"
            ],
            [
             0.3,
             "#f1b6da"
            ],
            [
             0.4,
             "#fde0ef"
            ],
            [
             0.5,
             "#f7f7f7"
            ],
            [
             0.6,
             "#e6f5d0"
            ],
            [
             0.7,
             "#b8e186"
            ],
            [
             0.8,
             "#7fbc41"
            ],
            [
             0.9,
             "#4d9221"
            ],
            [
             1,
             "#276419"
            ]
           ],
           "sequential": [
            [
             0,
             "#0d0887"
            ],
            [
             0.1111111111111111,
             "#46039f"
            ],
            [
             0.2222222222222222,
             "#7201a8"
            ],
            [
             0.3333333333333333,
             "#9c179e"
            ],
            [
             0.4444444444444444,
             "#bd3786"
            ],
            [
             0.5555555555555556,
             "#d8576b"
            ],
            [
             0.6666666666666666,
             "#ed7953"
            ],
            [
             0.7777777777777778,
             "#fb9f3a"
            ],
            [
             0.8888888888888888,
             "#fdca26"
            ],
            [
             1,
             "#f0f921"
            ]
           ],
           "sequentialminus": [
            [
             0,
             "#0d0887"
            ],
            [
             0.1111111111111111,
             "#46039f"
            ],
            [
             0.2222222222222222,
             "#7201a8"
            ],
            [
             0.3333333333333333,
             "#9c179e"
            ],
            [
             0.4444444444444444,
             "#bd3786"
            ],
            [
             0.5555555555555556,
             "#d8576b"
            ],
            [
             0.6666666666666666,
             "#ed7953"
            ],
            [
             0.7777777777777778,
             "#fb9f3a"
            ],
            [
             0.8888888888888888,
             "#fdca26"
            ],
            [
             1,
             "#f0f921"
            ]
           ]
          },
          "colorway": [
           "#636efa",
           "#EF553B",
           "#00cc96",
           "#ab63fa",
           "#FFA15A",
           "#19d3f3",
           "#FF6692",
           "#B6E880",
           "#FF97FF",
           "#FECB52"
          ],
          "font": {
           "color": "#2a3f5f"
          },
          "geo": {
           "bgcolor": "white",
           "lakecolor": "white",
           "landcolor": "#E5ECF6",
           "showlakes": true,
           "showland": true,
           "subunitcolor": "white"
          },
          "hoverlabel": {
           "align": "left"
          },
          "hovermode": "closest",
          "mapbox": {
           "style": "light"
          },
          "paper_bgcolor": "white",
          "plot_bgcolor": "#E5ECF6",
          "polar": {
           "angularaxis": {
            "gridcolor": "white",
            "linecolor": "white",
            "ticks": ""
           },
           "bgcolor": "#E5ECF6",
           "radialaxis": {
            "gridcolor": "white",
            "linecolor": "white",
            "ticks": ""
           }
          },
          "scene": {
           "xaxis": {
            "backgroundcolor": "#E5ECF6",
            "gridcolor": "white",
            "gridwidth": 2,
            "linecolor": "white",
            "showbackground": true,
            "ticks": "",
            "zerolinecolor": "white"
           },
           "yaxis": {
            "backgroundcolor": "#E5ECF6",
            "gridcolor": "white",
            "gridwidth": 2,
            "linecolor": "white",
            "showbackground": true,
            "ticks": "",
            "zerolinecolor": "white"
           },
           "zaxis": {
            "backgroundcolor": "#E5ECF6",
            "gridcolor": "white",
            "gridwidth": 2,
            "linecolor": "white",
            "showbackground": true,
            "ticks": "",
            "zerolinecolor": "white"
           }
          },
          "shapedefaults": {
           "line": {
            "color": "#2a3f5f"
           }
          },
          "ternary": {
           "aaxis": {
            "gridcolor": "white",
            "linecolor": "white",
            "ticks": ""
           },
           "baxis": {
            "gridcolor": "white",
            "linecolor": "white",
            "ticks": ""
           },
           "bgcolor": "#E5ECF6",
           "caxis": {
            "gridcolor": "white",
            "linecolor": "white",
            "ticks": ""
           }
          },
          "title": {
           "x": 0.05
          },
          "xaxis": {
           "automargin": true,
           "gridcolor": "white",
           "linecolor": "white",
           "ticks": "",
           "title": {
            "standoff": 15
           },
           "zerolinecolor": "white",
           "zerolinewidth": 2
          },
          "yaxis": {
           "automargin": true,
           "gridcolor": "white",
           "linecolor": "white",
           "ticks": "",
           "title": {
            "standoff": 15
           },
           "zerolinecolor": "white",
           "zerolinewidth": 2
          }
         }
        },
        "title": {
         "text": "Delinquency rate vs average mortgage over time"
        },
        "updatemenus": [
         {
          "buttons": [
           {
            "args": [
             null,
             {
              "frame": {
               "duration": 500,
               "redraw": false
              },
              "fromcurrent": true,
              "mode": "immediate",
              "transition": {
               "duration": 500,
               "easing": "linear"
              }
             }
            ],
            "label": "&#9654;",
            "method": "animate"
           },
           {
            "args": [
             [
              null
             ],
             {
              "frame": {
               "duration": 0,
               "redraw": false
              },
              "fromcurrent": true,
              "mode": "immediate",
              "transition": {
               "duration": 0,
               "easing": "linear"
              }
             }
            ],
            "label": "&#9724;",
            "method": "animate"
           }
          ],
          "direction": "left",
          "pad": {
           "r": 10,
           "t": 70
          },
          "showactive": false,
          "type": "buttons",
          "x": 0.1,
          "xanchor": "right",
          "y": 0,
          "yanchor": "top"
         }
        ],
        "xaxis": {
         "anchor": "y",
         "domain": [
          0,
          1
         ],
         "range": [
          0,
          1
         ],
         "title": {
          "text": "DelinquencyRate"
         }
        },
        "yaxis": {
         "anchor": "x",
         "domain": [
          0,
          1
         ],
         "range": [
          100000,
          500000
         ],
         "title": {
          "text": "AverageMortgageAmount"
         }
        }
       }
      }
     },
     "metadata": {},
     "output_type": "display_data"
    }
   ],
   "source": [
    "# Optional to have regions\n",
    "\n",
    "fig = px.scatter(data_frame=data_pop_del_mort_df,\n",
    "          y = \"AverageMortgageAmount\",\n",
    "          x = \"DelinquencyRate\",\n",
    "          size= \"PopulationSize\",\n",
    "          color= \"Geography\",\n",
    "          animation_frame=\"Time\",\n",
    "           animation_group=\"Geography\",\n",
    "           title = \"Delinquency rate vs average mortgage over time\"\n",
    "          )\n",
    "fig.update_layout(yaxis_range=[100000,500000])\n",
    "fig.update_layout(xaxis_range=[0,1])\n",
    "fig.show()"
   ]
  },
  {
   "cell_type": "markdown",
   "metadata": {
    "slideshow": {
     "slide_type": "slide"
    }
   },
   "source": [
    "This concludes part I. In the next section, we will take what we built together and work on the components of our dashboard."
   ]
  }
 ],
 "metadata": {
  "celltoolbar": "Slideshow",
  "display_mode": "fullwidth",
  "kernelspec": {
   "display_name": "Python 3.10.6 64-bit",
   "language": "python",
   "name": "python3"
  },
  "language_info": {
   "codemirror_mode": {
    "name": "ipython",
    "version": 3
   },
   "file_extension": ".py",
   "mimetype": "text/x-python",
   "name": "python",
   "nbconvert_exporter": "python",
   "pygments_lexer": "ipython3",
   "version": "3.10.6"
  },
  "noteable": {
   "last_transaction_id": "ca0dca7b-6250-4d52-9988-56458b3d5655"
  },
  "nteract": {
   "version": "noteable@2.1.0"
  },
  "selected_hardware_size": "small",
  "vscode": {
   "interpreter": {
    "hash": "aee8b7b246df8f9039afb4144a1f6fd8d2ca17a180786b69acc140d282b71a49"
   }
  }
 },
 "nbformat": 4,
 "nbformat_minor": 5
}
